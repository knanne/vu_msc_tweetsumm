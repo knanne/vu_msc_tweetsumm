{
 "cells": [
  {
   "cell_type": "markdown",
   "metadata": {},
   "source": [
    "# Modeling Tweets\n",
    "\n",
    "We model the quality of tweets as well as the likelihood of a tweet to contain news. To acheive this we train multiple binary classifiers.\n",
    "\n",
    "#### 1. Feature Creation\n",
    "\n",
    "- social\n",
    "    - user\n",
    "    - content\n",
    "- lexical\n",
    "- semantic\n",
    "    \n",
    "#### 2. Setup Pipeline\n",
    "- Multinomial Naive Bayes\n",
    "    - \n",
    "- K Nearest Neighbor\n",
    "    - \n",
    "- Decision Tree\n",
    "    - Decision trees learn branching rules from features.\n",
    "- Random Forest\n",
    "    - A random forest is a collection of decision trees. Each tree is trained using a random sample of the dataset. The prediction is an average of all the predictions made by the trees.\n",
    "- Support Vector Classifier\n",
    "    - \n",
    "\n",
    "#### 3. Run Pipeline\n",
    "- specify class to predict\n",
    "    - Question (0,1)\n",
    "    - Advertisement (0,1)\n",
    "    - Personal Opinion (0,1)\n",
    "    - Sarcasm (0,1)\n",
    "    - Explicit Language or Graphic Content (0,1)\n",
    "    - News (0,1)\n",
    "    \n",
    "*We discard those values which were annotated as unclear and model on those which were identified as news or non-news content. This clearer sepearation in our data increase the accuracy of the model, although requires more data to be annotated.*\n",
    "    \n",
    "#### 4. Evaluation\n",
    "- interpret results\n",
    "    - Accuracy\n",
    "        - Classification accuracy is the number of correct predictions made divided by the total number of predictions made. This is studied as the jaccard similarity score.\n",
    "    - Precision\n",
    "        - fraction of correctly predictive positives to all predicted as positives: $\\frac{true positives}{true postivies + false positives}$\n",
    "    - Recall\n",
    "        - fraction of correctly predicted positives to all positives: $\\frac{true posisitves}{true positives + false negatives}$\n",
    "    - F1 Score\n",
    "        - weighted average of precision and recall, from 0 to 1: $\\frac{2 \\cdot (precision \\cdot recall)}{precision + recall}$\n",
    "\n",
    "Accepting certain results from the above can depend on application. Specifically, we try to combat the [**accuracy paradox**](https://en.wikipedia.org/wiki/Accuracy_paradox) which is relevant to datsets of unbalanced class distribution. Given a dataset of large class unbalance, the classifier will predict the dominant class majority of the time and result in high accuracy. Although this accuracry is misleading because it simply represents the underlying class distribution. Alternatively, we look at further measures of evaluation.\n",
    "\n",
    "If the applications requires high degree of certainty for those positive predictions actually being positive then **high precsion** is most important. If the application requires the prediciton of as many positive examples as possible then **high recall** will be most important. The former application could accept some positive examples being misclassified as negative and the latter could accept some negative example being misclassified as positive.\n",
    "\n",
    "*For the application of event summarization on Twitter, we are mostly interested in presenting only only that content which is actually important and ignoring that which is not important. Therefore we are interested in maximizing precision to be able to identify those Tweets which are actually newsworthy, and dismiss recall due to the volume of data we have access to.*\n",
    "\n",
    "In addition to looking at precision, we apply the technique of **undersampling** to create a more balanced dataset for classifying. By simply dropping some of data from the dominant class we can boost the representation of the underrepresented class. This will in turn create a more meaninful accuracy score. This technique is available due to the volume of data we are able to annotate through crowdsourcing.\n",
    "\n",
    "## Results\n",
    "\n",
    "### Quality Characteristics\n",
    "\n",
    "### News Updates\n"
   ]
  },
  {
   "cell_type": "markdown",
   "metadata": {},
   "source": [
    "#### import tools"
   ]
  },
  {
   "cell_type": "code",
   "execution_count": 1,
   "metadata": {
    "collapsed": true
   },
   "outputs": [],
   "source": [
    "import pandas as pd\n",
    "import numpy as np\n",
    "import matplotlib.pyplot as plt\n",
    "import seaborn as sns\n",
    "%matplotlib inline\n",
    "from collections import Counter\n",
    "import re\n",
    "from sklearn.feature_extraction.text import TfidfVectorizer\n",
    "from sklearn.metrics.pairwise import pairwise_distances\n",
    "import nltk\n",
    "from nltk import TweetTokenizer\n",
    "from textblob import TextBlob\n",
    "from datetime import datetime"
   ]
  },
  {
   "cell_type": "markdown",
   "metadata": {},
   "source": [
    "#### import data"
   ]
  },
  {
   "cell_type": "code",
   "execution_count": 85,
   "metadata": {
    "collapsed": false
   },
   "outputs": [],
   "source": [
    "df1 = pd.read_table('data/final/event_IndianaPrimary_data.txt', sep='\\t', encoding='utf-8', header=0)\n",
    "df2 = pd.read_table('data/final/event_ChelseavsTottenhamPremierLeagueMatch_data.txt', sep='\\t', encoding='utf-8', header=0)\n",
    "df3 = pd.read_table('data/final/event_WhiteHouseCorrespondentsDinner_data.txt', sep='\\t', encoding='utf-8', header=0)\n",
    "df4 = pd.read_table('data/final/event_GoogleIO2016_data.txt', sep='\\t', encoding='utf-8', header=0)\n",
    "df5 = pd.read_table('data/final/event_EgyptAirFlight804_data.txt', sep='\\t', encoding='utf-8', header=0)"
   ]
  },
  {
   "cell_type": "code",
   "execution_count": 86,
   "metadata": {
    "collapsed": false
   },
   "outputs": [
    {
     "data": {
      "text/plain": [
       "(254491, 35)"
      ]
     },
     "execution_count": 86,
     "metadata": {},
     "output_type": "execute_result"
    }
   ],
   "source": [
    "df = pd.concat([df1, df2, df3, df4, df5])\n",
    "df.shape"
   ]
  },
  {
   "cell_type": "markdown",
   "metadata": {},
   "source": [
    "#### import ground truth"
   ]
  },
  {
   "cell_type": "code",
   "execution_count": 87,
   "metadata": {
    "collapsed": false
   },
   "outputs": [
    {
     "data": {
      "text/plain": [
       "(310, 69)"
      ]
     },
     "execution_count": 87,
     "metadata": {},
     "output_type": "execute_result"
    }
   ],
   "source": [
    "cf = pd.read_table('data/final/cf_report_912746_full_FINAL.csv', sep=',', encoding='utf-8', header=0)\n",
    "cf.shape"
   ]
  },
  {
   "cell_type": "markdown",
   "metadata": {},
   "source": [
    "#### merge ground truth with data"
   ]
  },
  {
   "cell_type": "code",
   "execution_count": 88,
   "metadata": {
    "collapsed": true
   },
   "outputs": [],
   "source": [
    "#characteristics\n",
    "cf['question'] = cf['characteristics'].apply(lambda q: 1 if 'question' in [i for i in str(q).split('\\n')] else 0)\n",
    "cf['advertisement'] = cf['characteristics'].apply(lambda q: 1 if 'advertisement' in [i for i in str(q).split('\\n')] else 0)\n",
    "cf['opinion'] = cf['characteristics'].apply(lambda q: 1 if 'opinion' in [i for i in str(q).split('\\n')] else 0)\n",
    "cf['sarcasm'] = cf['characteristics'].apply(lambda q: 1 if 'sarcasm' in [i for i in str(q).split('\\n')] else 0)\n",
    "cf['explicit'] = cf['characteristics'].apply(lambda q: 1 if 'explicit' in [i for i in str(q).split('\\n')] else 0)\n",
    "cf['error'] = cf['characteristics'].apply(lambda q: 1 if 'error' in [i for i in str(q).split('\\n')] else 0)\n",
    "cf['none'] = cf['characteristics'].isnull().apply(lambda q: 1 if q == True else 0)\n",
    "#news\n",
    "#news location\n",
    "cf['news_in_text'] = cf['news_location'].apply(lambda q: 1 if 'text' in [i for i in str(q).split('\\n')] else 0)\n",
    "cf['news_in_media'] = cf['news_location'].apply(lambda q: 1 if 'media' in [i for i in str(q).split('\\n')] else 0)\n",
    "cf['news_in_link'] = cf['news_location'].apply(lambda q: 1 if 'link' in [i for i in str(q).split('\\n')] else 0)"
   ]
  },
  {
   "cell_type": "markdown",
   "metadata": {},
   "source": [
    "#### handle duplicates in crowdflower (something went wrong)\n",
    "- replace with aggregation here"
   ]
  },
  {
   "cell_type": "code",
   "execution_count": 89,
   "metadata": {
    "collapsed": false
   },
   "outputs": [],
   "source": [
    "#cf.groupby(['event', 'master_id']).size().sort_values(ascending=False).head()\n",
    "cf = cf.drop_duplicates(['event', 'master_id'], keep='first')"
   ]
  },
  {
   "cell_type": "code",
   "execution_count": 99,
   "metadata": {
    "collapsed": false
   },
   "outputs": [
    {
     "data": {
      "text/plain": [
       "event                               master_id\n",
       "White House Correspondents' Dinner  73608        1\n",
       "EgyptAir Flight 804                 45999        1\n",
       "                                    44541        1\n",
       "                                    44856        1\n",
       "                                    45116        1\n",
       "dtype: int64"
      ]
     },
     "execution_count": 99,
     "metadata": {},
     "output_type": "execute_result"
    }
   ],
   "source": [
    "cf.groupby(['event', 'master_id']).size().sort_values(ascending=False).head()"
   ]
  },
  {
   "cell_type": "code",
   "execution_count": 90,
   "metadata": {
    "collapsed": false
   },
   "outputs": [
    {
     "data": {
      "text/plain": [
       "(278, 79)"
      ]
     },
     "execution_count": 90,
     "metadata": {},
     "output_type": "execute_result"
    }
   ],
   "source": [
    "cf.shape"
   ]
  },
  {
   "cell_type": "code",
   "execution_count": 91,
   "metadata": {
    "collapsed": false
   },
   "outputs": [
    {
     "name": "stdout",
     "output_type": "stream",
     "text": [
      "47.48% (132 docs) of data marked with quality characteristics:\n",
      "\n",
      "co occurences:\n",
      "               question  advertisement  opinion  sarcasm  explicit  error\n",
      "question             19              1        1        4         0      0\n",
      "advertisement         1              9        1        0         0      0\n",
      "opinion               1              1       81        9         2      0\n",
      "sarcasm               4              0        9       28         0      0\n",
      "explicit              0              0        2        0         6      0\n",
      "error                 0              0        0        0         0      6\n",
      "\n",
      "% co occurences:\n"
     ]
    },
    {
     "data": {
      "image/png": "[encoded data removed]",
      "text/plain": [
       "<matplotlib.figure.Figure at 0x104826a0>"
      ]
     },
     "metadata": {},
     "output_type": "display_data"
    }
   ],
   "source": [
    "n = cf.shape[0]\n",
    "k = cf[cf['characteristics'].notnull()].shape[0]\n",
    "print('%.2f%% (%s docs) of data marked with quality characteristics:' % ((k/n*100), k))\n",
    "print()\n",
    "print('co occurences:')\n",
    "x = cf[['question', 'advertisement', 'opinion', 'sarcasm', 'explicit', 'error']]\n",
    "#dot product of matrix transpose and matrix\n",
    "x = x.astype(int)\n",
    "x = x.T.dot(x)\n",
    "print(x)\n",
    "print()\n",
    "print('% co occurences:')\n",
    "ax = sns.heatmap(round(x/k, 2), annot=True, square=True)\n",
    "sns.plt.show()"
   ]
  },
  {
   "cell_type": "code",
   "execution_count": 92,
   "metadata": {
    "collapsed": false
   },
   "outputs": [
    {
     "name": "stdout",
     "output_type": "stream",
     "text": [
      "   news  count   percent\n",
      "0   0.0    175  0.629496\n",
      "1   1.0     57  0.205036\n",
      "2   0.5     45  0.161871\n",
      "\n",
      "of those markes news or maybe news:\n",
      "\n",
      "  news location  count   percent\n",
      "0          text     88  0.316547\n",
      "1         media     28  0.100719\n",
      "2          link      0  0.000000\n",
      "\n",
      "news with characteristics breakdown:\n",
      "\n",
      "     question advertisement opinion sarcasm explicit error none\n",
      "          sum           sum     sum     sum      sum   sum  sum\n",
      "news                                                           \n",
      "0.0        16             9      67      23        5     5   63\n",
      "0.5         0             0      11       4        1     0   32\n",
      "1.0         3             0       3       1        0     0   51\n"
     ]
    },
    {
     "data": {
      "image/png": "[encoded data removed]",
      "text/plain": [
       "<matplotlib.figure.Figure at 0x148caa20>"
      ]
     },
     "metadata": {},
     "output_type": "display_data"
    }
   ],
   "source": [
    "x = pd.concat([cf['news'].value_counts(), cf['news'].value_counts(normalize=True)], axis=1)\n",
    "x = x.reset_index()\n",
    "x.columns = ['news', 'count', 'percent']\n",
    "print(x)\n",
    "\n",
    "print()\n",
    "print('of those markes news or maybe news:')\n",
    "print()\n",
    "x = pd.DataFrame([['text',cf['news_in_text'].sum()],\n",
    "                  ['media',cf['news_in_media'].sum()],\n",
    "                  ['link',cf['news_in_link'].sum()]],\n",
    "                 columns=['news location', 'count'])\n",
    "n = cf.shape[0]\n",
    "x['percent'] = x['count'] / n\n",
    "print(x)\n",
    "\n",
    "print()\n",
    "print('news with characteristics breakdown:')\n",
    "print()\n",
    "x = cf.groupby('news').agg(['sum'])[['question', 'advertisement', 'opinion', 'sarcasm', 'explicit', 'error', 'none']]\n",
    "print(x)\n",
    "ax = sns.heatmap(x.T, annot=True, square=True)\n",
    "ax.invert_yaxis()\n",
    "sns.axlabel('news', 'characteristics')\n",
    "sns.plt.show()"
   ]
  },
  {
   "cell_type": "code",
   "execution_count": 93,
   "metadata": {
    "collapsed": false
   },
   "outputs": [
    {
     "name": "stdout",
     "output_type": "stream",
     "text": [
      "News Updates per Event:\n",
      "\n",
      "EgyptAir Flight 804                           19\n",
      "Google I/O 2016                               14\n",
      "Indiana Primary                               11\n",
      "Chelsea vs. Tottenham Premier League Match    10\n",
      "White House Correspondents' Dinner             3\n",
      "Name: event, dtype: int64\n"
     ]
    }
   ],
   "source": [
    "print('News Updates per Event:')\n",
    "print()\n",
    "print(cf[cf['news']==1]['event'].value_counts())"
   ]
  },
  {
   "cell_type": "code",
   "execution_count": 101,
   "metadata": {
    "collapsed": true
   },
   "outputs": [],
   "source": [
    "cols = ['event',\n",
    "        'master_id',\n",
    "        'text',\n",
    "        'question',\n",
    "        'advertisement',\n",
    "        'opinion',\n",
    "        'sarcasm',\n",
    "        'explicit',\n",
    "        'news']"
   ]
  },
  {
   "cell_type": "code",
   "execution_count": 102,
   "metadata": {
    "collapsed": false
   },
   "outputs": [],
   "source": [
    "df_annotated = cf[cols].fillna(0)"
   ]
  },
  {
   "cell_type": "code",
   "execution_count": 103,
   "metadata": {
    "collapsed": false
   },
   "outputs": [],
   "source": [
    "df_annotated.columns = ['event',\n",
    "                        'master_id',\n",
    "                        'text',\n",
    "                        'y_question',\n",
    "                        'y_advertisement',\n",
    "                        'y_opinion',\n",
    "                        'y_sarcasm',\n",
    "                        'y_explicit',\n",
    "                        'y_news']"
   ]
  },
  {
   "cell_type": "code",
   "execution_count": 106,
   "metadata": {
    "collapsed": false
   },
   "outputs": [
    {
     "data": {
      "text/plain": [
       "(278, 41)"
      ]
     },
     "execution_count": 106,
     "metadata": {},
     "output_type": "execute_result"
    }
   ],
   "source": [
    "df = pd.merge(df, df_annotated, how='inner', on=['event', 'master_id', 'text'])\n",
    "df.shape"
   ]
  },
  {
   "cell_type": "markdown",
   "metadata": {},
   "source": [
    "## feature creation"
   ]
  },
  {
   "cell_type": "markdown",
   "metadata": {},
   "source": [
    "#### clean text"
   ]
  },
  {
   "cell_type": "code",
   "execution_count": 107,
   "metadata": {
    "collapsed": false
   },
   "outputs": [],
   "source": [
    "#make sure to handle text as string\n",
    "df['text'] = df['text'].astype('str')\n",
    "#remove links\n",
    "df['text_clean'] = df['text'].apply(lambda text: ' '.join([(w[:w.find('http')] if 'http' in w else w) for w in text.split()]))\n",
    "#remove hashtag symbol\n",
    "df['text_clean'] = df['text_clean'].apply(lambda text: text.replace('#', ''))\n",
    "#remove mention symbol\n",
    "df['text_clean'] = df['text_clean'].apply(lambda text: text.replace('@', ''))\n",
    "#initiate, apply tokenization\n",
    "tknzr = TweetTokenizer()\n",
    "df['text_clean'] = df['text_clean'].apply(lambda s: ' '.join([w.lower() for w in tknzr.tokenize(str(s))]))"
   ]
  },
  {
   "cell_type": "markdown",
   "metadata": {},
   "source": [
    "#### features\n",
    "- some are pulled from existing twitter data\n",
    "- some created\n",
    "    - social\n",
    "        - content\n",
    "            - tweet_type\n",
    "            - possibly_sensitive\n",
    "            - is_retweet\n",
    "            - is_reply\n",
    "            - is_quoted_tweet\n",
    "            - favorite_count\n",
    "            - retweet_count\n",
    "            - count_entities_media\n",
    "            - count_entities_urls\n",
    "            - count_entities_mentions\n",
    "            - count_entities_hashtags\n",
    "        - user\n",
    "            - user_default_profile\n",
    "            - user_default_profile_image\n",
    "            - user_verified\n",
    "            - user_statuses\n",
    "            - user_favourites\n",
    "            - user_followers\n",
    "            - user_friends\n",
    "            - user_listed\n",
    "            - user_bio_len\n",
    "            - user_reputation\n",
    "            - user_age_days\n",
    "            - user_follower_rate\n",
    "    - lexical\n",
    "        - count_characters\n",
    "        - count_non_characters\n",
    "        - count_upper\n",
    "        - count_tokens\n",
    "        - count_stops\n",
    "        - question\n",
    "        - elongation\n",
    "        - ellipsis\n",
    "        - lexical_diversity\n",
    "        - sfpp\n",
    "        - pfpp\n",
    "        - pos_cnt\n",
    "        - nes_cnt\n",
    "    - semantic\n",
    "        - text_sentiment_negative\n",
    "        - text_sentiment_positive\n",
    "        - text_sentiment_subjective\n",
    "        - topk_terms_coverage\n",
    "        - tfidf_sum\n",
    "        - tfidf_mean\n",
    "        - event_centroid_distance"
   ]
  },
  {
   "cell_type": "markdown",
   "metadata": {},
   "source": [
    "#### tweet features"
   ]
  },
  {
   "cell_type": "code",
   "execution_count": 108,
   "metadata": {
    "collapsed": true
   },
   "outputs": [],
   "source": [
    "df['tweet_type'] = df['tweet_type'].apply(lambda d: [0,1][d=='media']) #1=media, 0=text\n",
    "df['possibly_sensitive'] = df['possibly_sensitive'].apply(lambda d: [0,1][d==True])\n",
    "df['count_entities_media'] = df['entities_media'].apply(lambda media: len(media))\n",
    "df['count_entities_urls'] = df['entities_urls'].apply(lambda urls: len(urls))\n",
    "df['count_entities_mentions'] = df['entities_mentions'].apply(lambda mentions: len(mentions))\n",
    "df['count_entities_hashtags'] = df['entities_hashtags'].apply(lambda tags: len(tags))"
   ]
  },
  {
   "cell_type": "markdown",
   "metadata": {},
   "source": [
    "#### user features"
   ]
  },
  {
   "cell_type": "code",
   "execution_count": 109,
   "metadata": {
    "collapsed": false
   },
   "outputs": [],
   "source": [
    "df['user_bio_len'] = df['user_description'].apply(lambda bio: len(str(bio)))\n",
    "df['user_verified'] = df['user_verified'].apply(lambda d: [0,1][d==True])\n",
    "df['user_default_profile'] = df['user_default_profile'].apply(lambda d: [0,1][d==True])\n",
    "df['user_default_profile_image'] = df['user_default_profile_image'].apply(lambda d: [0,1][d==True])\n",
    "df['user_reputation'] = df['user_followers'] / (df['user_friends'])\n",
    "df['user_reputation'].replace(np.inf, np.nan, inplace=True)\n",
    "df['user_age_days'] = df['user_created_at'].apply(lambda created_at: (datetime.today() - pd.to_datetime(created_at)).days)\n",
    "df['user_follower_rate'] = df['user_followers'] / df['user_age_days']\n",
    "df['user_follower_rate'].replace(np.inf, np.nan, inplace=True)"
   ]
  },
  {
   "cell_type": "markdown",
   "metadata": {},
   "source": [
    "#### tweet features"
   ]
  },
  {
   "cell_type": "code",
   "execution_count": 110,
   "metadata": {
    "collapsed": false
   },
   "outputs": [],
   "source": [
    "df['count_characters'] = df['text'].apply(lambda text: len(str(text)))\n",
    "df['count_non_characters'] = df['text'].apply(lambda text: len(re.sub('[\\w+!@#$%&;:,.?\\/\\-“”’`\"\\'()|]', '', text).strip()))\n",
    "df['count_upper'] = df['text'].apply(lambda text: len([l for l in ' '.join([w for w in text.split() if not w.startswith(('#', '@'))]) if l.isupper()]))\n",
    "df['count_tokens'] = df['text_clean'].apply(lambda text: len([w for w in text.split()]))\n",
    "#create stop word list\n",
    "stop = nltk.corpus.stopwords.words('english')\n",
    "df['count_stops'] = df['text_clean'].head().apply(lambda text: len([t for t in text.split() if t in stop]))\n",
    "df['question'] = df['text_clean'].apply(lambda text: 1 if '?' in text else 0)\n",
    "#create elongation regular expression match\n",
    "elongated = re.compile('([a-zA-Z])\\\\1{3,}')\n",
    "df['elongation'] = df['text_clean'].apply(lambda text: 1 if bool(elongated.search(text)) else 0)\n",
    "df['ellipsis'] = df['text_clean'].apply(lambda text: 1 if any(x in text for x in ('...', '…')) else 0)\n",
    "df['lexical_diversity'] = df['text_clean'].apply(lambda text: len(set(text.split())) / len(text.split()))\n",
    "# singular first person pronoun\n",
    "sfpp = ['i', 'i\\'m', 'me', 'mine', 'my', 'myself']\n",
    "df['sfpp'] = df['text_clean'].apply(lambda text: 1 if any(t.lower() in sfpp for t in text.split()) else 0)\n",
    "# plural first person pronoun\n",
    "pfpp = ['we', 'we\\'re', 'ours', 'our', 'ourselves']\n",
    "df['pfpp'] = df['text_clean'].apply(lambda text: 1 if any(t.lower() in pfpp for t in text.split()) else 0)"
   ]
  },
  {
   "cell_type": "markdown",
   "metadata": {
    "collapsed": true
   },
   "source": [
    "#### event features (semantic)"
   ]
  },
  {
   "cell_type": "code",
   "execution_count": 111,
   "metadata": {
    "collapsed": false
   },
   "outputs": [],
   "source": [
    "df['text_sentiment_polarity'] = df['text_clean'].apply(lambda text: TextBlob(str(text)).sentiment.polarity)\n",
    "#convert to binary\n",
    "df['text_sentiment_negative'] = df['text_sentiment_polarity'].apply(lambda s: [0,1][s < -0.5])\n",
    "df['text_sentiment_positive'] = df['text_sentiment_polarity'].apply(lambda s: [0,1][s > 0.5])\n",
    "\n",
    "df['text_sentiment_subjectivity'] = df['text_clean'].apply(lambda text: TextBlob(str(text)).sentiment.subjectivity)\n",
    "#convert to binary\n",
    "df['text_sentiment_subjective'] = df['text_sentiment_subjectivity'].apply(lambda s: [0,1][s > 0.5])"
   ]
  },
  {
   "cell_type": "markdown",
   "metadata": {},
   "source": [
    "#### terms coverage"
   ]
  },
  {
   "cell_type": "code",
   "execution_count": 112,
   "metadata": {
    "collapsed": false
   },
   "outputs": [],
   "source": [
    "#get query grams\n",
    "#query_terms = df['query'].unique()\n",
    "#df['query_grams_coverage'] = df['text_clean'].apply(lambda text: len([token for token in text.split() if token.lower() in query_terms]) / len(query_terms))\n",
    "#compress series of tweet texts to list\n",
    "tweets = [ str(d) for d in df[df['is_retweet'] == False]['text_clean']]\n",
    "#extract tokens as list\n",
    "tokens = [ w for t in tweets for w in t.split()]\n",
    "#construct term counter\n",
    "for w in [tokens]:\n",
    "    termcounts = Counter(w)\n",
    "#save top k = 100 most frequent terms\n",
    "topk_terms = termcounts.most_common(100)\n",
    "df['topk_terms_coverage'] = df['text_clean'].apply(lambda text: len([token for token in text.split() if token.lower() in topk_terms]) / len(topk_terms))"
   ]
  },
  {
   "cell_type": "markdown",
   "metadata": {},
   "source": [
    "#### tfidf"
   ]
  },
  {
   "cell_type": "code",
   "execution_count": 123,
   "metadata": {
    "collapsed": false
   },
   "outputs": [],
   "source": [
    "#use only non retweets for bag of words statistics\n",
    "df_nonrt = df[df['is_retweet'] == False][['event', 'master_id', 'text_clean']]\n",
    "#reset index for merging with sparse matrix\n",
    "df_nonrt = df_nonrt.reset_index(drop=True)"
   ]
  },
  {
   "cell_type": "code",
   "execution_count": 124,
   "metadata": {
    "collapsed": true
   },
   "outputs": [],
   "source": [
    "#initialize sklearn vectorizer\n",
    "tfidf_vectorizer = TfidfVectorizer(stop_words='english')\n",
    "#create matrix of tfidf counts\n",
    "#not considering retweets, due to redundancy skew\n",
    "Xtfidf = tfidf_vectorizer.fit_transform(df_nonrt['text_clean'])"
   ]
  },
  {
   "cell_type": "code",
   "execution_count": 125,
   "metadata": {
    "collapsed": true
   },
   "outputs": [],
   "source": [
    "#get mean tfidf for each doc\n",
    "Xtfidf_means = Xtfidf.mean(axis=1)\n",
    "df_tfidf_means = pd.DataFrame(Xtfidf_means, columns=['tfidf_mean'])\n",
    "#get sum tfidf for each doc\n",
    "Xtfidf_sums = Xtfidf.sum(axis=1)\n",
    "df_tfidf_sums = pd.DataFrame(Xtfidf_sums, columns=['tfidf_sum'])"
   ]
  },
  {
   "cell_type": "code",
   "execution_count": 126,
   "metadata": {
    "collapsed": false
   },
   "outputs": [],
   "source": [
    "df_tfidf_stats = pd.concat([df_tfidf_means, df_tfidf_sums], axis=1)"
   ]
  },
  {
   "cell_type": "code",
   "execution_count": 127,
   "metadata": {
    "collapsed": false
   },
   "outputs": [
    {
     "data": {
      "text/plain": [
       "(278, 69)"
      ]
     },
     "execution_count": 127,
     "metadata": {},
     "output_type": "execute_result"
    }
   ],
   "source": [
    "#join tfidf sum, mean to ids\n",
    "df_nonrt = pd.merge(df_nonrt, df_tfidf_stats, how='inner', left_index=True, right_index=True)\n",
    "#join back to full datatset\n",
    "df = pd.merge(df, df_nonrt[['event', 'master_id', 'tfidf_sum', 'tfidf_mean']], how='inner', on=['event', 'master_id'])\n",
    "df.shape"
   ]
  },
  {
   "cell_type": "markdown",
   "metadata": {},
   "source": [
    "#### event centroid distance"
   ]
  },
  {
   "cell_type": "code",
   "execution_count": 128,
   "metadata": {
    "collapsed": true
   },
   "outputs": [],
   "source": [
    "#calculate event centroid using tfidf mean of all columns (1000 top terms)\n",
    "Xtfidf_centroid = Xtfidf.mean(axis=0)"
   ]
  },
  {
   "cell_type": "code",
   "execution_count": 129,
   "metadata": {
    "collapsed": false
   },
   "outputs": [],
   "source": [
    "#compute pairwise distance for each doc to centroid using cosine similarity equation\n",
    "Xtfidf_centroid_cosdistance = pairwise_distances(X=Xtfidf, Y=Xtfidf_centroid, metric='cosine')"
   ]
  },
  {
   "cell_type": "code",
   "execution_count": 130,
   "metadata": {
    "collapsed": false
   },
   "outputs": [],
   "source": [
    "df_centroid_distance = pd.DataFrame(Xtfidf_centroid_cosdistance, columns=['event_centroid_distance'])"
   ]
  },
  {
   "cell_type": "code",
   "execution_count": 131,
   "metadata": {
    "collapsed": true
   },
   "outputs": [],
   "source": [
    "#join centroid distance to ids\n",
    "df_nonrt = pd.merge(df_nonrt, df_centroid_distance, how='inner', left_index=True, right_index=True)\n",
    "#join back to full datatset\n",
    "df = pd.merge(df, df_nonrt[['event', 'master_id', 'event_centroid_distance']], how='inner', on=['event', 'master_id'])\n",
    "df.shape"
   ]
  },
  {
   "cell_type": "markdown",
   "metadata": {
    "collapsed": true
   },
   "source": [
    "#### parts of speech, named entities\n",
    "- print percent complete\n",
    "- run time"
   ]
  },
  {
   "cell_type": "code",
   "execution_count": 134,
   "metadata": {
    "collapsed": false,
    "scrolled": true
   },
   "outputs": [
    {
     "name": "stdout",
     "output_type": "stream",
     "text": [
      "2.0%\n",
      "4.0%\n",
      "6.0%\n",
      "8.0%\n",
      "10.0%\n",
      "12.0%\n",
      "14.0%\n",
      "16.0%\n",
      "18.0%\n",
      "20.0%\n",
      "22.0%\n",
      "24.0%\n",
      "26.0%\n",
      "28.0%\n",
      "30.0%\n",
      "32.0%\n",
      "34.0%\n",
      "36.0%\n",
      "38.0%\n",
      "40.0%\n",
      "42.0%\n",
      "44.0%\n",
      "46.0%\n",
      "48.0%\n",
      "50.0%\n",
      "52.0%\n",
      "54.0%\n",
      "56.0%\n",
      "58.0%\n",
      "60.0%\n",
      "62.0%\n",
      "64.0%\n",
      "66.0%\n",
      "68.0%\n",
      "70.0%\n",
      "72.0%\n",
      "74.0%\n",
      "76.0%\n",
      "78.0%\n",
      "80.0%\n",
      "82.0%\n",
      "84.0%\n",
      "86.0%\n",
      "88.0%\n",
      "90.0%\n",
      "92.0%\n",
      "94.0%\n",
      "96.0%\n",
      "98.0%\n",
      "100.0%\n",
      "Wall time: 50.4 s\n"
     ]
    }
   ],
   "source": [
    "%%time\n",
    "#classify parts of speech, named entities using nltk classifier\n",
    "#aggregate pos, ne counts, add counts and dictionary of parts/entities to database\n",
    "#this is a slow process, should be redesigned\n",
    "df_nespos = pd.DataFrame()\n",
    "\n",
    "#define function for nltk tree mining\n",
    "def getnes(tree):\n",
    "    ne = []\n",
    "    for node in tree:\n",
    "        if type(node) is nltk.Tree:\n",
    "            label = node.label()\n",
    "            s = ''\n",
    "            for node in node:\n",
    "                s = (s + ' ' + node[0].lower()).lstrip()\n",
    "            ne.append([label, s])\n",
    "    return ne\n",
    "\n",
    "complete_last = 0\n",
    "for i,doc in df.iterrows():\n",
    "    \n",
    "    complete = round((i/df.shape[0])*100)\n",
    "    if complete != complete_last:\n",
    "        if complete % 2 == 0:\n",
    "            print('%s%%' % complete)\n",
    "            complete_last = complete\n",
    "    \n",
    "    tokens = nltk.word_tokenize(str(doc['text_clean']))\n",
    "    \n",
    "    pos = nltk.pos_tag(tokens)\n",
    "    pos_cntr = Counter(list(dict(pos).values()))\n",
    "    pos_data = dict(pos_cntr)\n",
    "    pos_cnt = sum(pos_data.values())\n",
    "    \n",
    "    tree = nltk.ne_chunk(pos)\n",
    "    nes = getnes(tree)\n",
    "    nes_cntr = Counter(list(dict(nes).keys()))\n",
    "    nes_data = dict(nes_cntr)\n",
    "    nes_cnt = sum(nes_data.values())\n",
    "    \n",
    "    row = [pos_cnt, nes_cnt, pos_data, nes_data]\n",
    "    row = pd.Series(row, index=['pos_cnt', 'nes_cnt', 'pos_data', 'nes_data'])\n",
    "    row = pd.DataFrame(row).T\n",
    "    df_nespos = df_nespos.append(row, ignore_index=True)\n",
    "    \n",
    "df = pd.merge(df, df_nespos, left_index=True, right_index=True)"
   ]
  },
  {
   "cell_type": "markdown",
   "metadata": {},
   "source": [
    "#### convert pos counts to features\n",
    "- print percent complete\n",
    "- run time"
   ]
  },
  {
   "cell_type": "code",
   "execution_count": 135,
   "metadata": {
    "collapsed": false,
    "scrolled": true
   },
   "outputs": [
    {
     "name": "stdout",
     "output_type": "stream",
     "text": [
      "2.0%\n",
      "4.0%\n",
      "6.0%\n",
      "8.0%\n",
      "10.0%\n",
      "12.0%\n",
      "14.0%\n",
      "16.0%\n",
      "18.0%\n",
      "20.0%\n",
      "22.0%\n",
      "24.0%\n",
      "26.0%\n",
      "28.0%\n",
      "30.0%\n",
      "32.0%\n",
      "34.0%\n",
      "36.0%\n",
      "38.0%\n",
      "40.0%\n",
      "42.0%\n",
      "44.0%\n",
      "46.0%\n",
      "48.0%\n",
      "50.0%\n",
      "52.0%\n",
      "54.0%\n",
      "56.0%\n",
      "58.0%\n",
      "60.0%\n",
      "62.0%\n",
      "64.0%\n",
      "66.0%\n",
      "68.0%\n",
      "70.0%\n",
      "72.0%\n",
      "74.0%\n",
      "76.0%\n",
      "78.0%\n",
      "80.0%\n",
      "82.0%\n",
      "84.0%\n",
      "86.0%\n",
      "88.0%\n",
      "90.0%\n",
      "92.0%\n",
      "94.0%\n",
      "96.0%\n",
      "98.0%\n",
      "100.0%\n",
      "Wall time: 747 ms\n"
     ]
    }
   ],
   "source": [
    "%%time\n",
    "#get all parts of speach counts, add as features\n",
    "all_pos = []\n",
    "for i,doc in df.iterrows():\n",
    "    all_pos.extend(list(doc['pos_data'].keys()))\n",
    "\n",
    "#get unique pos types\n",
    "all_pos = list(set(all_pos))\n",
    "\n",
    "#create pos feature df\n",
    "df_pos = pd.DataFrame()\n",
    "pos_cols = ['pos_cnt_'+pos for pos in all_pos] \n",
    "\n",
    "#update pos counts\n",
    "complete_last = 0\n",
    "for i,doc in df.iterrows():    \n",
    "    \n",
    "    complete = round((i/df.shape[0])*100)\n",
    "    if complete != complete_last:\n",
    "        if complete % 2 == 0:\n",
    "            print('%s%%' % complete)\n",
    "            complete_last = complete\n",
    "    \n",
    "    #create empty dictionary with keys\n",
    "    pos_dict = dict.fromkeys(all_pos)\n",
    "    \n",
    "    for pos in doc['pos_data'].keys():\n",
    "        pos_dict[pos] = doc['pos_data'].get(pos)\n",
    "    \n",
    "    row = list(pos_dict.values())\n",
    "    row = pd.Series(row, index=pos_cols)\n",
    "    row = pd.DataFrame(row).T\n",
    "    df_pos = df_pos.append(row, ignore_index=True)\n",
    "    \n",
    "df = pd.merge(df, df_pos, left_index=True, right_index=True)"
   ]
  },
  {
   "cell_type": "markdown",
   "metadata": {},
   "source": [
    "#### convert ne counts to features\n",
    "- print percent complete\n",
    "- run time"
   ]
  },
  {
   "cell_type": "code",
   "execution_count": 136,
   "metadata": {
    "collapsed": false,
    "scrolled": true
   },
   "outputs": [
    {
     "name": "stdout",
     "output_type": "stream",
     "text": [
      "2.0%\n",
      "4.0%\n",
      "6.0%\n",
      "8.0%\n",
      "10.0%\n",
      "12.0%\n",
      "14.0%\n",
      "16.0%\n",
      "18.0%\n",
      "20.0%\n",
      "22.0%\n",
      "24.0%\n",
      "26.0%\n",
      "28.0%\n",
      "30.0%\n",
      "32.0%\n",
      "34.0%\n",
      "36.0%\n",
      "38.0%\n",
      "40.0%\n",
      "42.0%\n",
      "44.0%\n",
      "46.0%\n",
      "48.0%\n",
      "50.0%\n",
      "52.0%\n",
      "54.0%\n",
      "56.0%\n",
      "58.0%\n",
      "60.0%\n",
      "62.0%\n",
      "64.0%\n",
      "66.0%\n",
      "68.0%\n",
      "70.0%\n",
      "72.0%\n",
      "74.0%\n",
      "76.0%\n",
      "78.0%\n",
      "80.0%\n",
      "82.0%\n",
      "84.0%\n",
      "86.0%\n",
      "88.0%\n",
      "90.0%\n",
      "92.0%\n",
      "94.0%\n",
      "96.0%\n",
      "98.0%\n",
      "100.0%\n",
      "Wall time: 1.14 s\n"
     ]
    }
   ],
   "source": [
    "%%time\n",
    "#get all named entities counts, add as features\n",
    "all_nes = []\n",
    "for i,doc in df.iterrows():\n",
    "    all_nes.extend(list(doc['nes_data'].keys()))\n",
    "\n",
    "#get unique\n",
    "all_nes = list(set(all_nes))\n",
    "\n",
    "#create nes feature df\n",
    "df_nes = pd.DataFrame()\n",
    "ne_cols = ['ne_cnt_'+ne for ne in all_nes] \n",
    "    \n",
    "#update pos counts\n",
    "complete_last = 0\n",
    "for i,doc in df.iterrows():    \n",
    "    \n",
    "    complete = round((i/df.shape[0])*100)\n",
    "    if complete != complete_last:\n",
    "        if complete % 2 == 0:\n",
    "            print('%s%%' % complete)\n",
    "            complete_last = complete\n",
    "    \n",
    "    #create empty dictionary with keys\n",
    "    nes_dict = dict.fromkeys(all_nes)\n",
    "    \n",
    "    for ne in doc['nes_data'].keys():\n",
    "        nes_dict[ne] = doc['nes_data'].get(ne)\n",
    "    \n",
    "    row = list(nes_dict.values())\n",
    "    row = pd.Series(row, index=ne_cols)\n",
    "    row = pd.DataFrame(row).T\n",
    "    df_nes = df_nes.append(row, ignore_index=True)\n",
    "    \n",
    "df = pd.merge(df, df_nes, left_index=True, right_index=True)"
   ]
  },
  {
   "cell_type": "code",
   "execution_count": 142,
   "metadata": {
    "collapsed": false
   },
   "outputs": [
    {
     "data": {
      "text/plain": [
       "(278, 114)"
      ]
     },
     "execution_count": 142,
     "metadata": {},
     "output_type": "execute_result"
    }
   ],
   "source": [
    "df.shape"
   ]
  },
  {
   "cell_type": "code",
   "execution_count": 143,
   "metadata": {
    "collapsed": false
   },
   "outputs": [
    {
     "data": {
      "text/html": [
       "<div>\n",
       "<table border=\"1\" class=\"dataframe\">\n",
       "  <thead>\n",
       "    <tr style=\"text-align: right;\">\n",
       "      <th></th>\n",
       "      <th>master_id</th>\n",
       "      <th>twitter_id</th>\n",
       "      <th>created_at</th>\n",
       "      <th>source</th>\n",
       "      <th>longitude</th>\n",
       "      <th>latitude</th>\n",
       "      <th>place_country</th>\n",
       "      <th>place_name</th>\n",
       "      <th>text</th>\n",
       "      <th>lang</th>\n",
       "      <th>...</th>\n",
       "      <th>pos_cnt_UH</th>\n",
       "      <th>pos_cnt_WDT</th>\n",
       "      <th>pos_cnt_PRP$</th>\n",
       "      <th>pos_cnt_VBP</th>\n",
       "      <th>pos_cnt_IN</th>\n",
       "      <th>pos_cnt_RB</th>\n",
       "      <th>pos_cnt_)</th>\n",
       "      <th>pos_cnt_MD</th>\n",
       "      <th>ne_cnt_ORGANIZATION</th>\n",
       "      <th>event_centroid_distance</th>\n",
       "    </tr>\n",
       "  </thead>\n",
       "  <tbody>\n",
       "    <tr>\n",
       "      <th>0</th>\n",
       "      <td>1683</td>\n",
       "      <td>727118185657458688</td>\n",
       "      <td>2016-05-02 12:50:59</td>\n",
       "      <td>Linkis.com</td>\n",
       "      <td>NaN</td>\n",
       "      <td>NaN</td>\n",
       "      <td>NaN</td>\n",
       "      <td>NaN</td>\n",
       "      <td>poll: reversal of fortune, #trump (+15) tops c...</td>\n",
       "      <td>en</td>\n",
       "      <td>...</td>\n",
       "      <td>NaN</td>\n",
       "      <td>1.0</td>\n",
       "      <td>2.0</td>\n",
       "      <td>1.0</td>\n",
       "      <td>NaN</td>\n",
       "      <td>1.0</td>\n",
       "      <td>NaN</td>\n",
       "      <td>6.0</td>\n",
       "      <td>NaN</td>\n",
       "      <td>0.831746</td>\n",
       "    </tr>\n",
       "  </tbody>\n",
       "</table>\n",
       "<p>1 rows × 114 columns</p>\n",
       "</div>"
      ],
      "text/plain": [
       "   master_id          twitter_id           created_at      source  longitude  \\\n",
       "0       1683  727118185657458688  2016-05-02 12:50:59  Linkis.com        NaN   \n",
       "\n",
       "   latitude place_country place_name  \\\n",
       "0       NaN           NaN        NaN   \n",
       "\n",
       "                                                text lang  \\\n",
       "0  poll: reversal of fortune, #trump (+15) tops c...   en   \n",
       "\n",
       "            ...             pos_cnt_UH  pos_cnt_WDT  pos_cnt_PRP$  \\\n",
       "0           ...                    NaN          1.0           2.0   \n",
       "\n",
       "   pos_cnt_VBP  pos_cnt_IN pos_cnt_RB pos_cnt_) pos_cnt_MD  \\\n",
       "0          1.0         NaN        1.0       NaN        6.0   \n",
       "\n",
       "  ne_cnt_ORGANIZATION  event_centroid_distance  \n",
       "0                 NaN                 0.831746  \n",
       "\n",
       "[1 rows x 114 columns]"
      ]
     },
     "execution_count": 143,
     "metadata": {},
     "output_type": "execute_result"
    }
   ],
   "source": [
    "df.head(1)"
   ]
  },
  {
   "cell_type": "code",
   "execution_count": 144,
   "metadata": {
    "collapsed": true
   },
   "outputs": [],
   "source": [
    "x = [\n",
    " 'tweet_type',\n",
    " 'possibly_sensitive',\n",
    " 'is_retweet',\n",
    " 'is_reply',\n",
    " 'is_quoted_tweet',\n",
    " 'favorite_count',\n",
    " 'retweet_count',\n",
    " 'user_default_profile',\n",
    " 'user_default_profile_image',\n",
    " 'user_verified',\n",
    " 'user_statuses',\n",
    " 'user_favourites',\n",
    " 'user_followers',\n",
    " 'user_friends',\n",
    " 'user_listed',\n",
    " 'user_bio_len',\n",
    " 'user_reputation',\n",
    " 'user_age_days',\n",
    " 'user_follower_rate',\n",
    " 'count_entities_media',\n",
    " 'count_entities_urls',\n",
    " 'count_entities_mentions',\n",
    " 'count_entities_hashtags',\n",
    " 'count_characters',\n",
    " 'count_non_characters',\n",
    " 'count_upper',\n",
    " 'count_tokens',\n",
    " 'count_stops',\n",
    " 'question',\n",
    " 'elongation',\n",
    " 'ellipsis',\n",
    " 'lexical_diversity',\n",
    " 'sfpp',\n",
    " 'pfpp',\n",
    " 'text_sentiment_negative',\n",
    " 'text_sentiment_positive',\n",
    " 'text_sentiment_subjective',\n",
    " 'topk_terms_coverage',\n",
    " 'tfidf_sum',\n",
    " 'tfidf_mean',\n",
    " 'event_centroid_distance',\n",
    " 'pos_cnt',\n",
    " 'nes_cnt',\n",
    " 'pos_cnt_MD',\n",
    " 'pos_cnt_(',\n",
    " 'pos_cnt_,',\n",
    " 'pos_cnt_WDT',\n",
    " 'pos_cnt_PDT',\n",
    " 'pos_cnt_JJS',\n",
    " 'pos_cnt_VBD',\n",
    " 'pos_cnt_RB',\n",
    " 'pos_cnt_DT',\n",
    " 'pos_cnt_VB',\n",
    " 'pos_cnt_VBP',\n",
    " 'pos_cnt_VBG',\n",
    " 'pos_cnt_.',\n",
    " 'pos_cnt_TO',\n",
    " 'pos_cnt_EX',\n",
    " 'pos_cnt_IN',\n",
    " 'pos_cnt_NNP',\n",
    " 'pos_cnt_VBN',\n",
    " 'pos_cnt_NN',\n",
    " 'pos_cnt_WP',\n",
    " 'pos_cnt_RP',\n",
    " 'pos_cnt_VBZ',\n",
    " 'pos_cnt_``',\n",
    " 'pos_cnt_)',\n",
    " 'pos_cnt_NNS',\n",
    " 'pos_cnt_PRP',\n",
    " 'pos_cnt_UH',\n",
    " 'pos_cnt_:',\n",
    " 'pos_cnt_JJR',\n",
    " 'pos_cnt_RBS',\n",
    " 'pos_cnt_WRB',\n",
    " 'pos_cnt_JJ',\n",
    " 'pos_cnt_CC',\n",
    " 'pos_cnt_POS',\n",
    " 'pos_cnt_CD',\n",
    " 'pos_cnt_PRP$']"
   ]
  },
  {
   "cell_type": "markdown",
   "metadata": {},
   "source": [
    "#### fill NaN"
   ]
  },
  {
   "cell_type": "code",
   "execution_count": 145,
   "metadata": {
    "collapsed": false
   },
   "outputs": [],
   "source": [
    "df[x] = df[x].fillna(0)"
   ]
  },
  {
   "cell_type": "markdown",
   "metadata": {},
   "source": [
    "#### save data"
   ]
  },
  {
   "cell_type": "code",
   "execution_count": null,
   "metadata": {
    "collapsed": true
   },
   "outputs": [],
   "source": [
    "#save event data with features\n",
    "df.to_csv('data/final/event_indianaprimary_data_train.txt', sep='\\t', encoding='utf-8', header=True, index=False)"
   ]
  },
  {
   "cell_type": "markdown",
   "metadata": {},
   "source": [
    "# Modeling"
   ]
  },
  {
   "cell_type": "code",
   "execution_count": 146,
   "metadata": {
    "collapsed": true
   },
   "outputs": [],
   "source": [
    "from time import time\n",
    "import sklearn\n",
    "from sklearn import metrics\n",
    "from sklearn.cross_validation import train_test_split\n",
    "from sklearn.naive_bayes import MultinomialNB, GaussianNB\n",
    "from sklearn.neighbors import KNeighborsClassifier\n",
    "from sklearn.tree import DecisionTreeClassifier\n",
    "from sklearn.ensemble import RandomForestClassifier\n",
    "from sklearn import svm\n",
    "from sklearn.feature_extraction.text import CountVectorizer, TfidfTransformer, TfidfVectorizer\n",
    "from sklearn.pipeline import Pipeline"
   ]
  },
  {
   "cell_type": "code",
   "execution_count": 147,
   "metadata": {
    "collapsed": true
   },
   "outputs": [],
   "source": [
    "#import plotting library\n",
    "import matplotlib.pyplot as plt\n",
    "import matplotlib\n",
    "matplotlib.style.use('ggplot')\n",
    "%matplotlib inline"
   ]
  },
  {
   "cell_type": "code",
   "execution_count": 148,
   "metadata": {
    "collapsed": false
   },
   "outputs": [
    {
     "data": {
      "text/plain": [
       "(278, 114)"
      ]
     },
     "execution_count": 148,
     "metadata": {},
     "output_type": "execute_result"
    }
   ],
   "source": [
    "df.shape"
   ]
  },
  {
   "cell_type": "markdown",
   "metadata": {},
   "source": [
    "#### setup pipeline"
   ]
  },
  {
   "cell_type": "code",
   "execution_count": 214,
   "metadata": {
    "collapsed": false
   },
   "outputs": [],
   "source": [
    "def execute(clf, y):\n",
    "    print('_' * 40)\n",
    "    clf_descr = str(clf).split('(')[0]\n",
    "    print('>>> ', clf_descr)\n",
    "    print('_' * 40)\n",
    "    \n",
    "    print('Training:')\n",
    "    t0 = time()\n",
    "    clf.fit(train[x], train[y])\n",
    "    train_time = time() - t0\n",
    "    print('  train time: %0.3fs' % train_time)\n",
    "    \n",
    "    t0 = time()\n",
    "    pred = clf.predict(test[x])\n",
    "    test_time = time() - t0\n",
    "    print('  test time:  %0.3fs' % test_time)\n",
    "    \n",
    "    print()\n",
    "    acc = metrics.accuracy_score(test[y], pred)\n",
    "    print('Accuracy: %0.3f' % acc)\n",
    "    print()\n",
    "    auc = metrics.roc_auc_score(test[y], pred)\n",
    "    print('ROC AUC: %0.3f' % auc)\n",
    "    print()\n",
    "    print('Confusion Matrix: \\n', pd.crosstab(test[y], pred, rownames=['Actual'], colnames=['Predicted'], margins=True))\n",
    "    print()\n",
    "    print('Report: \\n', metrics.classification_report(test[y], pred))\n",
    "    \n",
    "    precision = metrics.precision_score(test[y], pred)\n",
    "    print('Precision: %0.3f' % precision)\n",
    "    recall = metrics.recall_score(test[y], pred)\n",
    "    print('Recall: %0.3f' % recall)\n",
    "    avg_precision = metrics.average_precision_score(test[y], pred, average='macro')\n",
    "    print('Class-Weighted AVG Precision: %0.3f' % avg_precision)\n",
    "    \n",
    "    top5 = []\n",
    "    if clf_descr in ['DecisionTreeClassifier', 'RandomForestClassifier']:\n",
    "        #top feature indices\n",
    "        k = 5\n",
    "        for i in np.argsort(clf.feature_importances_)[::-1][:k]:\n",
    "            top5.append([x[i], clf.feature_importances_[i]])\n",
    "        print('Top Features:')\n",
    "        print(top5)\n",
    "    \n",
    "    return clf_descr, acc, auc, precision, recall, avg_precision, train_time, test_time, top5"
   ]
  },
  {
   "cell_type": "markdown",
   "metadata": {},
   "source": [
    "#### run pipeline"
   ]
  },
  {
   "cell_type": "code",
   "execution_count": 217,
   "metadata": {
    "collapsed": false,
    "scrolled": false
   },
   "outputs": [
    {
     "name": "stdout",
     "output_type": "stream",
     "text": [
      "Y_NEWS\n",
      "\n",
      "Class Distribution:\n",
      "Total \t 0:  176 (0.76%)    1:   57 (0.24%)\n",
      "Train \t 0:  140 (0.75%)    1:   46 (0.25%)\n",
      "Test \t 0:   36 (0.77%)    1:   11 (0.23%)\n",
      "\n",
      "============================================================\n",
      "________________________________________\n",
      ">>>  MultinomialNB\n",
      "________________________________________\n",
      "Training:\n",
      "  train time: 0.002s\n",
      "  test time:  0.001s\n",
      "\n",
      "Accuracy: 0.745\n",
      "\n",
      "ROC AUC: 0.581\n",
      "\n",
      "Confusion Matrix: \n",
      " Predicted  0.0  1.0  All\n",
      "Actual                  \n",
      "0.0         32    4   36\n",
      "1.0          8    3   11\n",
      "All         40    7   47\n",
      "\n",
      "Report: \n",
      "              precision    recall  f1-score   support\n",
      "\n",
      "        0.0       0.80      0.89      0.84        36\n",
      "        1.0       0.43      0.27      0.33        11\n",
      "\n",
      "avg / total       0.71      0.74      0.72        47\n",
      "\n",
      "Precision: 0.429\n",
      "Recall: 0.273\n",
      "Class-Weighted AVG Precision: 0.436\n",
      "________________________________________\n",
      ">>>  KNeighborsClassifier\n",
      "________________________________________\n",
      "Training:\n",
      "  train time: 0.002s\n",
      "  test time:  0.003s\n",
      "\n",
      "Accuracy: 0.745\n",
      "\n",
      "ROC AUC: 0.549\n",
      "\n",
      "Confusion Matrix: \n",
      " Predicted  0.0  1.0  All\n",
      "Actual                  \n",
      "0.0         33    3   36\n",
      "1.0          9    2   11\n",
      "All         42    5   47\n",
      "\n",
      "Report: \n",
      "              precision    recall  f1-score   support\n",
      "\n",
      "        0.0       0.79      0.92      0.85        36\n",
      "        1.0       0.40      0.18      0.25        11\n",
      "\n",
      "avg / total       0.70      0.74      0.71        47\n",
      "\n",
      "Precision: 0.400\n",
      "Recall: 0.182\n",
      "Class-Weighted AVG Precision: 0.387\n",
      "________________________________________\n",
      ">>>  DecisionTreeClassifier\n",
      "________________________________________\n",
      "Training:\n",
      "  train time: 0.003s\n",
      "  test time:  0.001s\n",
      "\n",
      "Accuracy: 0.766\n",
      "\n",
      "ROC AUC: 0.689\n",
      "\n",
      "Confusion Matrix: \n",
      " Predicted  0.0  1.0  All\n",
      "Actual                  \n",
      "0.0         30    6   36\n",
      "1.0          5    6   11\n",
      "All         35   12   47\n",
      "\n",
      "Report: \n",
      "              precision    recall  f1-score   support\n",
      "\n",
      "        0.0       0.86      0.83      0.85        36\n",
      "        1.0       0.50      0.55      0.52        11\n",
      "\n",
      "avg / total       0.77      0.77      0.77        47\n",
      "\n",
      "Precision: 0.500\n",
      "Recall: 0.545\n",
      "Class-Weighted AVG Precision: 0.576\n",
      "Top Features:\n",
      "[['user_reputation', 0.21959438382087496], ['event_centroid_distance', 0.12093460111317256], ['user_favourites', 0.1043510113075331], ['tweet_type', 0.08245242680025297], ['tfidf_mean', 0.066245193729665808]]\n",
      "________________________________________\n",
      ">>>  RandomForestClassifier\n",
      "________________________________________\n",
      "Training:\n",
      "  train time: 0.014s\n",
      "  test time:  0.002s\n",
      "\n",
      "Accuracy: 0.787\n",
      "\n",
      "ROC AUC: 0.609\n",
      "\n",
      "Confusion Matrix: \n",
      " Predicted  0.0  1.0  All\n",
      "Actual                  \n",
      "0.0         34    2   36\n",
      "1.0          8    3   11\n",
      "All         42    5   47\n",
      "\n",
      "Report: \n",
      "              precision    recall  f1-score   support\n",
      "\n",
      "        0.0       0.81      0.94      0.87        36\n",
      "        1.0       0.60      0.27      0.37        11\n",
      "\n",
      "avg / total       0.76      0.79      0.76        47\n",
      "\n",
      "Precision: 0.600\n",
      "Recall: 0.273\n",
      "Class-Weighted AVG Precision: 0.521\n",
      "Top Features:\n",
      "[['user_favourites', 0.076308272146907219], ['user_listed', 0.064312665794350493], ['user_friends', 0.059829715568862921], ['user_reputation', 0.05404020963516433], ['user_followers', 0.052691807429449421]]\n",
      "________________________________________\n",
      ">>>  SVC\n",
      "________________________________________\n",
      "Training:\n",
      "  train time: 0.006s\n",
      "  test time:  0.003s\n",
      "\n",
      "Accuracy: 0.766\n",
      "\n",
      "ROC AUC: 0.500\n",
      "\n",
      "Confusion Matrix: \n",
      " Predicted  0.0  All\n",
      "Actual             \n",
      "0.0         36   36\n",
      "1.0         11   11\n",
      "All         47   47\n",
      "\n",
      "Report: \n",
      "              precision    recall  f1-score   support\n",
      "\n",
      "        0.0       0.77      1.00      0.87        36\n",
      "        1.0       0.00      0.00      0.00        11\n",
      "\n",
      "avg / total       0.59      0.77      0.66        47\n",
      "\n",
      "Precision: 0.000\n",
      "Recall: 0.000\n",
      "Class-Weighted AVG Precision: 0.617\n"
     ]
    },
    {
     "name": "stderr",
     "output_type": "stream",
     "text": [
      "c:\\miniconda3\\lib\\site-packages\\sklearn\\metrics\\classification.py:1074: UndefinedMetricWarning: Precision and F-score are ill-defined and being set to 0.0 in labels with no predicted samples.\n",
      "  'precision', 'predicted', average, warn_for)\n",
      "c:\\miniconda3\\lib\\site-packages\\sklearn\\metrics\\classification.py:1074: UndefinedMetricWarning: Precision is ill-defined and being set to 0.0 due to no predicted samples.\n",
      "  'precision', 'predicted', average, warn_for)\n"
     ]
    }
   ],
   "source": [
    "ys = [\n",
    "#'y_question',\n",
    "#'y_advertisement',\n",
    "#'y_opinion',\n",
    "#'y_sarcasm',\n",
    "#'y_explicit',\n",
    "'y_news'\n",
    "]\n",
    "\n",
    "results = []\n",
    "\n",
    "for y in ys:\n",
    "    print(y.upper())\n",
    "    print()\n",
    "    data = df[df[y].isin([0,1])]\n",
    "    train, test = train_test_split(data, test_size=.2, random_state=2016) \n",
    "    print('Class Distribution:')\n",
    "    for d,name in ((data, 'Total'), (train, 'Train'), (test, 'Test')):\n",
    "        t = len(d)\n",
    "        n = len(d[d[y]==0])\n",
    "        s = len(d[d[y]==1])\n",
    "        print(name, '\\t', '0: %4.0f (%0.2f%%)' % (n, (n/t)), '  ', '1: %4.0f (%0.2f%%)' % (s, (s/t)))\n",
    "    print()\n",
    "    print('=' * 60)\n",
    "    \n",
    "    for clf in (MultinomialNB(), \n",
    "                KNeighborsClassifier(),\n",
    "                DecisionTreeClassifier(random_state=2016),\n",
    "                RandomForestClassifier(random_state=2016),\n",
    "                svm.SVC()\n",
    "               ):\n",
    "        results.append(execute(clf, y))"
   ]
  },
  {
   "cell_type": "code",
   "execution_count": null,
   "metadata": {
    "collapsed": true
   },
   "outputs": [],
   "source": []
  },
  {
   "cell_type": "markdown",
   "metadata": {},
   "source": [
    "## Naive Bayes\n",
    "- Multinomial Naive Bayes significantly outperforms Gaussian model. Although Multinomial requires non-negative features, and therefore sentiment features were left out of custom feature model."
   ]
  },
  {
   "cell_type": "markdown",
   "metadata": {},
   "source": [
    "#### bag of words"
   ]
  },
  {
   "cell_type": "code",
   "execution_count": null,
   "metadata": {
    "collapsed": false
   },
   "outputs": [],
   "source": [
    "clf_pipe = Pipeline([('count_vect', CountVectorizer()), \n",
    "                     ('X_tfidf', TfidfTransformer()), \n",
    "                     ('classifier', MultinomialNB())])\n",
    "\n",
    "MNB_tfidf = clf_pipe.fit(train['text'], train_actual)"
   ]
  },
  {
   "cell_type": "code",
   "execution_count": null,
   "metadata": {
    "collapsed": false,
    "scrolled": false
   },
   "outputs": [],
   "source": [
    "print('MNB TFIDF - Multinomial Naive Bayes using Bag of Words:')\n",
    "print()\n",
    "run_report(test['text'], test_update, MNB_tfidf)"
   ]
  },
  {
   "cell_type": "markdown",
   "metadata": {},
   "source": [
    "#### custom features"
   ]
  },
  {
   "cell_type": "markdown",
   "metadata": {},
   "source": [
    "## K Nearest Neighbor"
   ]
  },
  {
   "cell_type": "markdown",
   "metadata": {},
   "source": [
    "## Decision Tree"
   ]
  },
  {
   "cell_type": "markdown",
   "metadata": {},
   "source": [
    "## Random Forest"
   ]
  },
  {
   "cell_type": "markdown",
   "metadata": {},
   "source": [
    "## Support Vector Machine"
   ]
  }
 ],
 "metadata": {
  "kernelspec": {
   "display_name": "Python 3",
   "language": "python",
   "name": "python3"
  },
  "language_info": {
   "codemirror_mode": {
    "name": "ipython",
    "version": 3
   },
   "file_extension": ".py",
   "mimetype": "text/x-python",
   "name": "python",
   "nbconvert_exporter": "python",
   "pygments_lexer": "ipython3",
   "version": "3.4.4"
  }
 },
 "nbformat": 4,
 "nbformat_minor": 0
}
