{
 "cells": [
  {
   "cell_type": "markdown",
   "metadata": {},
   "source": [
    "# 1. Annotations\n",
    "A crowdsourcing task was developed to gather ground truth data on tweets for summarization. Specifically we are interested in gathering data on certain quality characteristics, and wether or not a tweet contains an news update surrounding an event.\n",
    "\n",
    "### 1.1 Data\n",
    "- transfrom data\n",
    "- aggregate data\n",
    "\n",
    "\n",
    "### 1.2 Quality Characteristics\n",
    "- Question (0,1)\n",
    "- Advertisement (0,1)\n",
    "- Personal Opinion (0,1)\n",
    "- Direct Quote (0,1)\n",
    "- Sarcasm (0,1)\n",
    "- Explicit Language or Graphic Content (0,1)\n",
    "- Not in English (0,1)\n",
    "- Display Error (0,1)\n",
    "\n",
    "**summary**\n",
    "- how many?\n",
    "- how are they related?\n",
    "\n",
    "### 1.3 News Updates\n",
    "- The Tweet contains news about an Event (0,1)\n",
    "\n",
    "**summary**\n",
    "- how many?\n",
    "- how many per event?\n",
    "- how are they related to quality characteristics?\n",
    "\n",
    "\n",
    "# 2. Modeling Tweets\n",
    "\n",
    "We model the quality of tweets as well as the likelihood of a tweet to contain news. To acheive this we train multiple binary classifiers.\n",
    "\n",
    "### 2.1. Feature Creation\n",
    "\n",
    "- social\n",
    "    - user\n",
    "    - content\n",
    "- lexical\n",
    "- semantic\n",
    "    \n",
    "### 2.2. Setup Pipeline\n",
    "- Multinomial Naive Bayes\n",
    "    - \n",
    "- K Nearest Neighbor\n",
    "    - \n",
    "- Decision Tree\n",
    "    - Decision trees learn branching rules from features.\n",
    "- Random Forest\n",
    "    - A random forest is a collection of decision trees. Each tree is trained using a random sample of the dataset. The prediction is an average of all the predictions made by the trees.\n",
    "- Support Vector Classifier\n",
    "    - \n",
    "\n",
    "### 2.3. Run Pipeline\n",
    "- specify class to predict\n",
    "    - Question (0,1)\n",
    "    - Advertisement (0,1)\n",
    "    - Personal Opinion (0,1)\n",
    "    - Sarcasm (0,1)\n",
    "    - Explicit Language or Graphic Content (0,1)\n",
    "    - News (0,1)\n",
    "    \n",
    "*We discard those values which were annotated as unclear and model on those which were identified as news or non-news content. This clearer sepearation in our data increase the accuracy of the model, although requires more data to be annotated.*\n",
    "    \n",
    "### 2.4. Evaluation\n",
    "- interpret results\n",
    "    - Accuracy\n",
    "        - Classification accuracy is the number of correct predictions made divided by the total number of predictions made. This is studied as the jaccard similarity score.\n",
    "    - Precision\n",
    "        - fraction of correctly predictive positives to all predicted as positives: $\\frac{true positives}{true postivies + false positives}$\n",
    "    - Recall\n",
    "        - fraction of correctly predicted positives to all positives: $\\frac{true posisitves}{true positives + false negatives}$\n",
    "    - F1 Score\n",
    "        - weighted average of precision and recall, from 0 to 1: $\\frac{2 \\cdot (precision \\cdot recall)}{precision + recall}$\n",
    "\n",
    "Accepting certain results from the above can depend on application. Specifically, we try to combat the [**accuracy paradox**](https://en.wikipedia.org/wiki/Accuracy_paradox) which is relevant to datsets of unbalanced class distribution. Given a dataset of large class unbalance, the classifier will predict the dominant class majority of the time and result in high accuracy. Although this accuracry is misleading because it simply represents the underlying class distribution. Alternatively, we look at further measures of evaluation.\n",
    "\n",
    "If the applications requires high degree of certainty for those positive predictions actually being positive then **high precsion** is most important. If the application requires the prediciton of as many positive examples as possible then **high recall** will be most important. The former application could accept some positive examples being misclassified as negative and the latter could accept some negative example being misclassified as positive.\n",
    "\n",
    "*For the application of event summarization on Twitter, we are mostly interested in presenting only only that content which is actually important and ignoring that which is not important. Therefore we are interested in maximizing precision to be able to identify those Tweets which are actually newsworthy, and dismiss recall due to the volume of data we have access to.*\n",
    "\n",
    "In addition to looking at precision, we apply the technique of **undersampling** to create a more balanced dataset for classifying. By simply dropping some of data from the dominant class we can boost the representation of the underrepresented class. This will in turn create a more meaninful accuracy score. This technique is available due to the volume of data we are able to annotate through crowdsourcing.\n",
    "\n",
    "### 2.5 Results"
   ]
  },
  {
   "cell_type": "markdown",
   "metadata": {},
   "source": [
    "# 0. Setup\n",
    "#### import tools"
   ]
  },
  {
   "cell_type": "code",
   "execution_count": 1,
   "metadata": {
    "collapsed": true
   },
   "outputs": [],
   "source": [
    "import pandas as pd\n",
    "import numpy as np\n",
    "import matplotlib.pyplot as plt\n",
    "import seaborn as sns\n",
    "%matplotlib inline\n",
    "from collections import Counter\n",
    "import re\n",
    "from sklearn.feature_extraction.text import TfidfVectorizer\n",
    "from sklearn.metrics.pairwise import pairwise_distances\n",
    "import nltk\n",
    "from textblob import TextBlob\n",
    "from datetime import datetime"
   ]
  },
  {
   "cell_type": "markdown",
   "metadata": {},
   "source": [
    "#### import data"
   ]
  },
  {
   "cell_type": "code",
   "execution_count": 2,
   "metadata": {
    "collapsed": false
   },
   "outputs": [
    {
     "data": {
      "text/plain": [
       "(254491, 35)"
      ]
     },
     "execution_count": 2,
     "metadata": {},
     "output_type": "execute_result"
    }
   ],
   "source": [
    "df1 = pd.read_table('data/final/event_IndianaPrimary_data.txt', sep='\\t', encoding='utf-8', header=0)\n",
    "df2 = pd.read_table('data/final/event_ChelseavsTottenhamPremierLeagueMatch_data.txt', sep='\\t', encoding='utf-8', header=0)\n",
    "df3 = pd.read_table('data/final/event_WhiteHouseCorrespondentsDinner_data.txt', sep='\\t', encoding='utf-8', header=0)\n",
    "df4 = pd.read_table('data/final/event_GoogleIO2016_data.txt', sep='\\t', encoding='utf-8', header=0)\n",
    "df5 = pd.read_table('data/final/event_EgyptAirFlight804_data.txt', sep='\\t', encoding='utf-8', header=0)\n",
    "\n",
    "df = pd.concat([df1, df2, df3, df4, df5])\n",
    "df.shape"
   ]
  },
  {
   "cell_type": "markdown",
   "metadata": {},
   "source": [
    "#### import ground truth"
   ]
  },
  {
   "cell_type": "code",
   "execution_count": 3,
   "metadata": {
    "collapsed": false
   },
   "outputs": [
    {
     "data": {
      "text/plain": [
       "(411, 69)"
      ]
     },
     "execution_count": 3,
     "metadata": {},
     "output_type": "execute_result"
    }
   ],
   "source": [
    "cf = pd.read_table('data/final/cf_report_912746_full_FINAL.csv', sep=',', encoding='utf-8', header=0)\n",
    "cf.shape"
   ]
  },
  {
   "cell_type": "markdown",
   "metadata": {},
   "source": [
    "# Annotations\n",
    "\n",
    "### 1.1 Data"
   ]
  },
  {
   "cell_type": "code",
   "execution_count": 4,
   "metadata": {
    "collapsed": false
   },
   "outputs": [
    {
     "data": {
      "text/plain": [
       "(379, 80)"
      ]
     },
     "execution_count": 4,
     "metadata": {},
     "output_type": "execute_result"
    }
   ],
   "source": [
    "# transform\n",
    "# characteristics\n",
    "cf['question'] = cf['characteristics'].apply(lambda q: 1 if 'question' in [i for i in str(q).split('\\n')] else 0)\n",
    "cf['advertisement'] = cf['characteristics'].apply(lambda q: 1 if 'advertisement' in [i for i in str(q).split('\\n')] else 0)\n",
    "cf['opinion'] = cf['characteristics'].apply(lambda q: 1 if 'opinion' in [i for i in str(q).split('\\n')] else 0)\n",
    "#cf['quote'] = cf['characteristics'].apply(lambda q: 1 if 'quote' in [i for i in str(q).split('\\n')] else 0)\n",
    "cf['sarcasm'] = cf['characteristics'].apply(lambda q: 1 if 'sarcasm' in [i for i in str(q).split('\\n')] else 0)\n",
    "cf['explicit'] = cf['characteristics'].apply(lambda q: 1 if 'explicit' in [i for i in str(q).split('\\n')] else 0)\n",
    "cf['lang'] = cf['characteristics'].apply(lambda q: 1 if 'lang' in [i for i in str(q).split('\\n')] else 0)\n",
    "cf['error'] = cf['characteristics'].apply(lambda q: 1 if 'error' in [i for i in str(q).split('\\n')] else 0)\n",
    "cf['none'] = cf['characteristics'].isnull().apply(lambda q: 1 if q == True else 0)\n",
    "#news location\n",
    "cf['news_in_text'] = cf['news_location'].apply(lambda q: 1 if 'text' in [i for i in str(q).split('\\n')] else 0)\n",
    "cf['news_in_media'] = cf['news_location'].apply(lambda q: 1 if 'media' in [i for i in str(q).split('\\n')] else 0)\n",
    "cf['news_in_link'] = cf['news_location'].apply(lambda q: 1 if 'link' in [i for i in str(q).split('\\n')] else 0)\n",
    "\n",
    "# aggregate\n",
    "cf = cf.drop_duplicates(['event', 'master_id'], keep='first')\n",
    "cf.shape"
   ]
  },
  {
   "cell_type": "markdown",
   "metadata": {},
   "source": [
    "### 1.1 Quality Characteristics\n",
    "**summary**"
   ]
  },
  {
   "cell_type": "code",
   "execution_count": 5,
   "metadata": {
    "collapsed": false,
    "scrolled": false
   },
   "outputs": [
    {
     "name": "stdout",
     "output_type": "stream",
     "text": [
      "49.87% (189 docs) of data annotated to contain characteristics:\n"
     ]
    },
    {
     "data": {
      "image/png": "[encoded data removed]",
      "text/plain": [
       "<matplotlib.figure.Figure at 0x102a70f0>"
      ]
     },
     "metadata": {},
     "output_type": "display_data"
    },
    {
     "name": "stdout",
     "output_type": "stream",
     "text": [
      "% co occurences:\n"
     ]
    },
    {
     "data": {
      "image/png": "[encoded data removed]",
      "text/plain": [
       "<matplotlib.figure.Figure at 0x1035c438>"
      ]
     },
     "metadata": {},
     "output_type": "display_data"
    }
   ],
   "source": [
    "n = cf.shape[0]\n",
    "k = cf[cf['characteristics'].notnull()].shape[0]\n",
    "print('%.2f%% (%s docs) of data annotated to contain characteristics:' % ((k/n*100), k))\n",
    "\n",
    "counts = cf[['question', 'advertisement', 'opinion', 'sarcasm', 'explicit', 'lang', 'error']].apply(pd.Series.value_counts).iloc[1]\n",
    "counts = pd.concat([counts, counts / n, counts / k], axis=1)\n",
    "counts.columns = ['count', 'percent_total', 'percent_marked']\n",
    "counts[['percent_total', 'percent_marked']].plot(kind='bar', ylim=[0,1], title='Tweet Characteristics')\n",
    "sns.plt.show()\n",
    "\n",
    "x = cf[['question', 'advertisement', 'opinion', 'sarcasm', 'explicit', 'lang', 'error', 'none']]\n",
    "x = x.astype(int)\n",
    "x = x.T.dot(x)\n",
    "\n",
    "#print(x)\n",
    "\n",
    "print('% co occurences:')\n",
    "ax = sns.heatmap(round(x/n, 2), annot=True, square=True)\n",
    "sns.plt.show()"
   ]
  },
  {
   "cell_type": "markdown",
   "metadata": {},
   "source": [
    "### 1.2 News Updates\n",
    "**summary**"
   ]
  },
  {
   "cell_type": "code",
   "execution_count": 6,
   "metadata": {
    "collapsed": false
   },
   "outputs": [
    {
     "name": "stdout",
     "output_type": "stream",
     "text": [
      "18.21% (69 docs) of data annotated to contain news:\n"
     ]
    },
    {
     "data": {
      "image/png": "[encoded data removed]",
      "text/plain": [
       "<matplotlib.figure.Figure at 0x1110b748>"
      ]
     },
     "metadata": {},
     "output_type": "display_data"
    },
    {
     "name": "stdout",
     "output_type": "stream",
     "text": [
      "News Updates per Event:\n"
     ]
    },
    {
     "data": {
      "image/png": "[encoded data removed]",
      "text/plain": [
       "<matplotlib.figure.Figure at 0x111c13c8>"
      ]
     },
     "metadata": {},
     "output_type": "display_data"
    },
    {
     "name": "stdout",
     "output_type": "stream",
     "text": [
      "% news with characteristics breakdown:\n"
     ]
    },
    {
     "data": {
      "image/png": "[encoded data removed]",
      "text/plain": [
       "<matplotlib.figure.Figure at 0x1120eba8>"
      ]
     },
     "metadata": {},
     "output_type": "display_data"
    }
   ],
   "source": [
    "n = cf.shape[0]\n",
    "k = cf[cf['news'] == 1].shape[0]\n",
    "print('%.2f%% (%s docs) of data annotated to contain news:' % ((k/n*100), k))\n",
    "\n",
    "counts = cf['news'].value_counts()\n",
    "counts =  pd.concat([counts, counts / n], axis=1)\n",
    "counts.columns = ['count', 'percent_total']\n",
    "counts['percent_total'].plot(kind='bar', ylim=[0,1], title='News')\n",
    "sns.plt.show()\n",
    "\n",
    "print('News Updates per Event:')\n",
    "cf[cf['news']==1]['event'].value_counts(normalize=True).sort_values().plot(kind='barh', xlim=[0,1])\n",
    "plt.show()\n",
    "\n",
    "x = cf.groupby('news').agg(['sum'])[['question', 'advertisement', 'opinion', 'sarcasm', 'explicit', 'lang', 'error', 'none']]\n",
    "\n",
    "#print(x)\n",
    "\n",
    "print('% news with characteristics breakdown:')\n",
    "ax = sns.heatmap(round(x.T/n, 2), annot=True, square=True)\n",
    "sns.axlabel('news', 'characteristics')\n",
    "sns.plt.show()"
   ]
  },
  {
   "cell_type": "markdown",
   "metadata": {},
   "source": [
    "### 1.3 News Locations\n",
    "**summary**"
   ]
  },
  {
   "cell_type": "code",
   "execution_count": 7,
   "metadata": {
    "collapsed": false
   },
   "outputs": [
    {
     "data": {
      "image/png": "[encoded data removed]",
      "text/plain": [
       "<matplotlib.figure.Figure at 0x102abe10>"
      ]
     },
     "metadata": {},
     "output_type": "display_data"
    },
    {
     "name": "stdout",
     "output_type": "stream",
     "text": [
      "% news with locations breakdown:\n"
     ]
    },
    {
     "data": {
      "image/png": "[encoded data removed]",
      "text/plain": [
       "<matplotlib.figure.Figure at 0x165dfac8>"
      ]
     },
     "metadata": {},
     "output_type": "display_data"
    }
   ],
   "source": [
    "n = cf.shape[0]\n",
    "\n",
    "counts = cf[['news_in_text', 'news_in_media', 'news_in_link']].apply(pd.Series.value_counts).iloc[1]\n",
    "counts = pd.concat([counts, counts / n], axis=1)\n",
    "counts.columns = ['count', 'percent_total']\n",
    "counts[['percent_total']].plot(kind='bar', ylim=[0,1], title='News Location')\n",
    "sns.plt.show()\n",
    "\n",
    "x = cf.groupby('news').agg(['sum'])[['news_in_text', 'news_in_media', 'news_in_link']]\n",
    "\n",
    "#print(x)\n",
    "\n",
    "print('% news with locations breakdown:')\n",
    "ax = sns.heatmap(round(x.T/n, 2), annot=True, square=True)\n",
    "sns.axlabel('news', 'locations')\n",
    "sns.plt.show()"
   ]
  },
  {
   "cell_type": "markdown",
   "metadata": {},
   "source": [
    "#### merge annotations to data"
   ]
  },
  {
   "cell_type": "code",
   "execution_count": 8,
   "metadata": {
    "collapsed": false
   },
   "outputs": [
    {
     "data": {
      "text/plain": [
       "(379, 41)"
      ]
     },
     "execution_count": 8,
     "metadata": {},
     "output_type": "execute_result"
    }
   ],
   "source": [
    "cols = ['event',\n",
    "        'master_id',\n",
    "        'text',\n",
    "        'question',\n",
    "        'advertisement',\n",
    "        'opinion',\n",
    "        #'quote',\n",
    "        'sarcasm',\n",
    "        'explicit',\n",
    "        'news']\n",
    "\n",
    "df_annotated = cf[cols].fillna(0)\n",
    "\n",
    "df_annotated.columns = ['event',\n",
    "                        'master_id',\n",
    "                        'text',\n",
    "                        'y_question',\n",
    "                        'y_advertisement',\n",
    "                        'y_opinion',\n",
    "                        'y_sarcasm',\n",
    "                        'y_explicit',\n",
    "                        'y_news']\n",
    "\n",
    "df = pd.merge(df, df_annotated, how='inner', on=['event', 'master_id', 'text'])\n",
    "df.shape"
   ]
  },
  {
   "cell_type": "markdown",
   "metadata": {},
   "source": [
    "## feature creation"
   ]
  },
  {
   "cell_type": "markdown",
   "metadata": {},
   "source": [
    "#### clean text"
   ]
  },
  {
   "cell_type": "code",
   "execution_count": 9,
   "metadata": {
    "collapsed": false
   },
   "outputs": [],
   "source": [
    "#make sure to handle text as string\n",
    "df['text'] = df['text'].astype('str')\n",
    "#remove links\n",
    "df['text_clean'] = df['text'].apply(lambda text: ' '.join([(w[:w.find('http')] if 'http' in w else w) for w in text.split()]))\n",
    "#remove hashtag symbol\n",
    "df['text_clean'] = df['text_clean'].apply(lambda text: text.replace('#', ''))\n",
    "#remove mention symbol\n",
    "df['text_clean'] = df['text_clean'].apply(lambda text: text.replace('@', ''))\n",
    "#initiate, apply tokenization\n",
    "tknzr = nltk.TweetTokenizer()\n",
    "df['text_clean'] = df['text_clean'].apply(lambda s: ' '.join([w.lower() for w in tknzr.tokenize(str(s))]))"
   ]
  },
  {
   "cell_type": "markdown",
   "metadata": {},
   "source": [
    "#### features\n",
    "- some are pulled from existing twitter data\n",
    "- some created\n",
    "    - social\n",
    "        - content\n",
    "            - tweet_type\n",
    "            - possibly_sensitive\n",
    "            - is_retweet\n",
    "            - is_reply\n",
    "            - is_quoted_tweet\n",
    "            - favorite_count\n",
    "            - retweet_count\n",
    "            - count_entities_media\n",
    "            - count_entities_urls\n",
    "            - count_entities_mentions\n",
    "            - count_entities_hashtags\n",
    "        - user\n",
    "            - user_default_profile\n",
    "            - user_default_profile_image\n",
    "            - user_verified\n",
    "            - user_statuses\n",
    "            - user_favourites\n",
    "            - user_followers\n",
    "            - user_friends\n",
    "            - user_listed\n",
    "            - user_bio_len\n",
    "            - user_reputation\n",
    "            - user_age_days\n",
    "            - user_follower_rate\n",
    "    - lexical\n",
    "        - count_characters\n",
    "        - count_non_characters\n",
    "        - count_upper\n",
    "        - count_tokens\n",
    "        - count_stops\n",
    "        - question\n",
    "        - elongation\n",
    "        - ellipsis\n",
    "        - lexical_diversity\n",
    "        - sfpp\n",
    "        - pfpp\n",
    "        - pos_cnt\n",
    "        - nes_cnt\n",
    "    - semantic\n",
    "        - text_sentiment_negative\n",
    "        - text_sentiment_positive\n",
    "        - text_sentiment_subjective\n",
    "        - topk_terms_coverage\n",
    "        - tfidf_sum\n",
    "        - tfidf_mean\n",
    "        - event_centroid_distance"
   ]
  },
  {
   "cell_type": "markdown",
   "metadata": {},
   "source": [
    "### social\n",
    "#### content"
   ]
  },
  {
   "cell_type": "code",
   "execution_count": 10,
   "metadata": {
    "collapsed": true
   },
   "outputs": [],
   "source": [
    "df['tweet_type'] = df['tweet_type'].apply(lambda d: [0,1][d=='media']) #1=media, 0=text\n",
    "df['possibly_sensitive'] = df['possibly_sensitive'].apply(lambda d: [0,1][d==True])\n",
    "#is_retweet\n",
    "#is_reply\n",
    "#is_quoted_tweet\n",
    "#favorite_count\n",
    "#retweet_count\n",
    "df['engagements'] = df['favorite_count'] + df['retweet_count']\n",
    "df['engagements_per_word'] = df.apply(lambda row: row['engagements'] / len(row['text'].split()), axis=1)\n",
    "df['count_entities_media'] = df['entities_media'].apply(lambda media: len(media))\n",
    "df['media_per_word'] = df.apply(lambda row: row['count_entities_media'] / len(row['text'].split()), axis=1)\n",
    "df['count_entities_urls'] = df['entities_urls'].apply(lambda urls: len(urls))\n",
    "df['urls_per_word'] = df.apply(lambda row: row['count_entities_urls'] / len(row['text'].split()), axis=1)\n",
    "df['count_entities_mentions'] = df['entities_mentions'].apply(lambda mentions: len(mentions))\n",
    "df['mentions_per_word'] = df.apply(lambda row: row['count_entities_mentions'] / len(row['text'].split()), axis=1)\n",
    "df['count_entities_hashtags'] = df['entities_hashtags'].apply(lambda tags: len(tags))\n",
    "df['hashtags_per_word'] = df.apply(lambda row: row['count_entities_hashtags'] / len(row['text'].split()), axis=1)"
   ]
  },
  {
   "cell_type": "markdown",
   "metadata": {},
   "source": [
    "#### user"
   ]
  },
  {
   "cell_type": "code",
   "execution_count": 11,
   "metadata": {
    "collapsed": false
   },
   "outputs": [],
   "source": [
    "df['user_bio_len'] = df['user_description'].apply(lambda bio: len(str(bio)))\n",
    "df['user_verified'] = df['user_verified'].apply(lambda d: [0,1][d==True])\n",
    "df['user_default_profile'] = df['user_default_profile'].apply(lambda d: [0,1][d==True])\n",
    "df['user_default_profile_image'] = df['user_default_profile_image'].apply(lambda d: [0,1][d==True])\n",
    "df['user_reputation'] = df['user_followers'] / (df['user_friends'])\n",
    "df['user_reputation'].replace(np.inf, np.nan, inplace=True)\n",
    "df['user_age_days'] = df['user_created_at'].apply(lambda created_at: (datetime.today() - pd.to_datetime(created_at)).days)\n",
    "df['user_follower_rate'] = df['user_followers'] / df['user_age_days']\n",
    "df['user_follower_rate'].replace(np.inf, np.nan, inplace=True)"
   ]
  },
  {
   "cell_type": "markdown",
   "metadata": {},
   "source": [
    "### lexical"
   ]
  },
  {
   "cell_type": "code",
   "execution_count": 12,
   "metadata": {
    "collapsed": false
   },
   "outputs": [],
   "source": [
    "df['count_characters'] = df['text'].apply(lambda text: len(str(text)))\n",
    "df['count_non_characters'] = df['text'].apply(lambda text: len(re.sub('[\\w+!@#$%&;:,.?\\/\\-“”’`\"\\'()|]', '', text).strip()))\n",
    "df['count_upper'] = df['text'].apply(lambda text: len([l for l in ' '.join([w for w in text.split() if not w.startswith(('#', '@'))]) if l.isupper()]))\n",
    "df['count_tokens'] = df['text_clean'].apply(lambda text: len([w for w in text.split()]))\n",
    "#create stop word list\n",
    "stop = nltk.corpus.stopwords.words('english')\n",
    "df['count_stops'] = df['text_clean'].head().apply(lambda text: len([t for t in text.split() if t in stop]))\n",
    "df['question'] = df['text_clean'].apply(lambda text: 1 if '?' in text else 0)\n",
    "#create elongation regular expression match\n",
    "elongated = re.compile('([a-zA-Z])\\\\1{3,}')\n",
    "df['elongation'] = df['text_clean'].apply(lambda text: 1 if bool(elongated.search(text)) else 0)\n",
    "df['ellipsis'] = df['text_clean'].apply(lambda text: 1 if any(x in text for x in ('...', '…')) else 0)\n",
    "df['lexical_diversity'] = df['text_clean'].apply(lambda text: len(set(text.split())) / len(text.split()))\n",
    "# singular first person pronoun\n",
    "sfpp = ['i', 'i\\'m', 'me', 'mine', 'my', 'myself']\n",
    "df['sfpp'] = df['text_clean'].apply(lambda text: 1 if any(t.lower() in sfpp for t in text.split()) else 0)\n",
    "# plural first person pronoun\n",
    "pfpp = ['we', 'we\\'re', 'ours', 'our', 'ourselves']\n",
    "df['pfpp'] = df['text_clean'].apply(lambda text: 1 if any(t.lower() in pfpp for t in text.split()) else 0)"
   ]
  },
  {
   "cell_type": "markdown",
   "metadata": {
    "collapsed": true
   },
   "source": [
    "### semantic"
   ]
  },
  {
   "cell_type": "code",
   "execution_count": 13,
   "metadata": {
    "collapsed": false
   },
   "outputs": [],
   "source": [
    "df['text_sentiment_polarity'] = df['text_clean'].apply(lambda text: TextBlob(str(text)).sentiment.polarity)\n",
    "#convert to binary\n",
    "df['text_sentiment_negative'] = df['text_sentiment_polarity'].apply(lambda s: [0,1][s < -0.5])\n",
    "df['text_sentiment_positive'] = df['text_sentiment_polarity'].apply(lambda s: [0,1][s > 0.5])\n",
    "\n",
    "df['text_sentiment_subjectivity'] = df['text_clean'].apply(lambda text: TextBlob(str(text)).sentiment.subjectivity)\n",
    "#convert to binary\n",
    "df['text_sentiment_subjective'] = df['text_sentiment_subjectivity'].apply(lambda s: [0,1][s > 0.5])"
   ]
  },
  {
   "cell_type": "markdown",
   "metadata": {},
   "source": [
    "#### terms coverage"
   ]
  },
  {
   "cell_type": "code",
   "execution_count": 14,
   "metadata": {
    "collapsed": false
   },
   "outputs": [],
   "source": [
    "#get query grams\n",
    "#query_terms = df['query'].unique()\n",
    "#df['query_grams_coverage'] = df['text_clean'].apply(lambda text: len([token for token in text.split() if token.lower() in query_terms]) / len(query_terms))\n",
    "#compress series of tweet texts to list\n",
    "tweets = [ str(d) for d in df[df['is_retweet'] == False]['text_clean']]\n",
    "#extract tokens as list\n",
    "tokens = [ w for t in tweets for w in t.split()]\n",
    "#construct term counter\n",
    "for w in [tokens]:\n",
    "    termcounts = Counter(w)\n",
    "#save top k = 100 most frequent terms\n",
    "topk_terms = termcounts.most_common(100)\n",
    "df['topk_terms_coverage'] = df['text_clean'].apply(lambda text: len([token for token in text.split() if token.lower() in topk_terms]) / len(topk_terms))"
   ]
  },
  {
   "cell_type": "markdown",
   "metadata": {},
   "source": [
    "#### tfidf"
   ]
  },
  {
   "cell_type": "code",
   "execution_count": 15,
   "metadata": {
    "collapsed": false
   },
   "outputs": [],
   "source": [
    "#use only non retweets for bag of words statistics\n",
    "df_nonrt = df[df['is_retweet'] == False][['event', 'master_id', 'text_clean']]\n",
    "#reset index for merging with sparse matrix\n",
    "df_nonrt = df_nonrt.reset_index(drop=True)"
   ]
  },
  {
   "cell_type": "code",
   "execution_count": 16,
   "metadata": {
    "collapsed": true
   },
   "outputs": [],
   "source": [
    "#initialize sklearn vectorizer\n",
    "tfidf_vectorizer = TfidfVectorizer(stop_words='english')\n",
    "#create matrix of tfidf counts\n",
    "#not considering retweets, due to redundancy skew\n",
    "Xtfidf = tfidf_vectorizer.fit_transform(df_nonrt['text_clean'])"
   ]
  },
  {
   "cell_type": "code",
   "execution_count": 17,
   "metadata": {
    "collapsed": true
   },
   "outputs": [],
   "source": [
    "#get mean tfidf for each doc\n",
    "Xtfidf_means = Xtfidf.mean(axis=1)\n",
    "df_tfidf_means = pd.DataFrame(Xtfidf_means, columns=['tfidf_mean'])\n",
    "#get sum tfidf for each doc\n",
    "Xtfidf_sums = Xtfidf.sum(axis=1)\n",
    "df_tfidf_sums = pd.DataFrame(Xtfidf_sums, columns=['tfidf_sum'])"
   ]
  },
  {
   "cell_type": "code",
   "execution_count": 18,
   "metadata": {
    "collapsed": false
   },
   "outputs": [],
   "source": [
    "df_tfidf_stats = pd.concat([df_tfidf_means, df_tfidf_sums], axis=1)"
   ]
  },
  {
   "cell_type": "code",
   "execution_count": 19,
   "metadata": {
    "collapsed": false
   },
   "outputs": [
    {
     "data": {
      "text/plain": [
       "(379, 75)"
      ]
     },
     "execution_count": 19,
     "metadata": {},
     "output_type": "execute_result"
    }
   ],
   "source": [
    "#join tfidf sum, mean to ids\n",
    "df_nonrt = pd.merge(df_nonrt, df_tfidf_stats, how='inner', left_index=True, right_index=True)\n",
    "#join back to full datatset\n",
    "df = pd.merge(df, df_nonrt[['event', 'master_id', 'tfidf_sum', 'tfidf_mean']], how='inner', on=['event', 'master_id'])\n",
    "df.shape"
   ]
  },
  {
   "cell_type": "markdown",
   "metadata": {},
   "source": [
    "#### event centroid distance"
   ]
  },
  {
   "cell_type": "code",
   "execution_count": 20,
   "metadata": {
    "collapsed": true
   },
   "outputs": [],
   "source": [
    "#calculate event centroid using tfidf mean of all columns (1000 top terms)\n",
    "Xtfidf_centroid = Xtfidf.mean(axis=0)"
   ]
  },
  {
   "cell_type": "code",
   "execution_count": 21,
   "metadata": {
    "collapsed": false
   },
   "outputs": [],
   "source": [
    "#compute pairwise distance for each doc to centroid using cosine similarity equation\n",
    "Xtfidf_centroid_cosdistance = pairwise_distances(X=Xtfidf, Y=Xtfidf_centroid, metric='cosine')"
   ]
  },
  {
   "cell_type": "code",
   "execution_count": 22,
   "metadata": {
    "collapsed": false
   },
   "outputs": [],
   "source": [
    "df_centroid_distance = pd.DataFrame(Xtfidf_centroid_cosdistance, columns=['event_centroid_distance'])"
   ]
  },
  {
   "cell_type": "code",
   "execution_count": 23,
   "metadata": {
    "collapsed": false
   },
   "outputs": [
    {
     "data": {
      "text/plain": [
       "(379, 76)"
      ]
     },
     "execution_count": 23,
     "metadata": {},
     "output_type": "execute_result"
    }
   ],
   "source": [
    "#join centroid distance to ids\n",
    "df_nonrt = pd.merge(df_nonrt, df_centroid_distance, how='inner', left_index=True, right_index=True)\n",
    "#join back to full datatset\n",
    "df = pd.merge(df, df_nonrt[['event', 'master_id', 'event_centroid_distance']], how='inner', on=['event', 'master_id'])\n",
    "df.shape"
   ]
  },
  {
   "cell_type": "markdown",
   "metadata": {
    "collapsed": true
   },
   "source": [
    "#### parts of speech, named entities\n",
    "- print percent complete\n",
    "- run time"
   ]
  },
  {
   "cell_type": "code",
   "execution_count": 24,
   "metadata": {
    "collapsed": false,
    "scrolled": true
   },
   "outputs": [
    {
     "name": "stdout",
     "output_type": "stream",
     "text": [
      "2.0%\n",
      "4.0%\n",
      "6.0%\n",
      "8.0%\n",
      "10.0%\n",
      "12.0%\n",
      "14.0%\n",
      "16.0%\n",
      "18.0%\n",
      "20.0%\n",
      "22.0%\n",
      "24.0%\n",
      "26.0%\n",
      "28.0%\n",
      "30.0%\n",
      "32.0%\n",
      "34.0%\n",
      "36.0%\n",
      "38.0%\n",
      "40.0%\n",
      "42.0%\n",
      "44.0%\n",
      "46.0%\n",
      "48.0%\n",
      "50.0%\n",
      "52.0%\n",
      "54.0%\n",
      "56.0%\n",
      "58.0%\n",
      "60.0%\n",
      "62.0%\n",
      "64.0%\n",
      "66.0%\n",
      "68.0%\n",
      "70.0%\n",
      "72.0%\n",
      "74.0%\n",
      "76.0%\n",
      "78.0%\n",
      "80.0%\n",
      "82.0%\n",
      "84.0%\n",
      "86.0%\n",
      "88.0%\n",
      "90.0%\n",
      "92.0%\n",
      "94.0%\n",
      "96.0%\n",
      "98.0%\n",
      "100.0%\n",
      "Wall time: 1min 7s\n"
     ]
    }
   ],
   "source": [
    "%%time\n",
    "#classify parts of speech, named entities using nltk classifier\n",
    "#aggregate pos, ne counts, add counts and dictionary of parts/entities to database\n",
    "#this is a slow process, should be redesigned\n",
    "df_nespos = pd.DataFrame()\n",
    "\n",
    "#define function for nltk tree mining\n",
    "def getnes(tree):\n",
    "    ne = []\n",
    "    for node in tree:\n",
    "        if type(node) is nltk.Tree:\n",
    "            label = node.label()\n",
    "            s = ''\n",
    "            for node in node:\n",
    "                s = (s + ' ' + node[0].lower()).lstrip()\n",
    "            ne.append([label, s])\n",
    "    return ne\n",
    "\n",
    "complete_last = 0\n",
    "for i,doc in df.iterrows():\n",
    "    \n",
    "    complete = round((i/df.shape[0])*100)\n",
    "    if complete != complete_last:\n",
    "        if complete % 2 == 0:\n",
    "            print('%s%%' % complete)\n",
    "            complete_last = complete\n",
    "    \n",
    "    tokens = nltk.word_tokenize(str(doc['text_clean']))\n",
    "    \n",
    "    pos = nltk.pos_tag(tokens)\n",
    "    pos_cntr = Counter(list(dict(pos).values()))\n",
    "    pos_data = dict(pos_cntr)\n",
    "    pos_cnt = sum(pos_data.values())\n",
    "    \n",
    "    tree = nltk.ne_chunk(pos)\n",
    "    nes = getnes(tree)\n",
    "    nes_cntr = Counter(list(dict(nes).keys()))\n",
    "    nes_data = dict(nes_cntr)\n",
    "    nes_cnt = sum(nes_data.values())\n",
    "    \n",
    "    row = [pos_cnt, nes_cnt, pos_data, nes_data]\n",
    "    row = pd.Series(row, index=['pos_cnt', 'nes_cnt', 'pos_data', 'nes_data'])\n",
    "    row = pd.DataFrame(row).T\n",
    "    df_nespos = df_nespos.append(row, ignore_index=True)\n",
    "    \n",
    "df = pd.merge(df, df_nespos, left_index=True, right_index=True)"
   ]
  },
  {
   "cell_type": "markdown",
   "metadata": {},
   "source": [
    "#### convert pos counts to features\n",
    "- print percent complete\n",
    "- run time"
   ]
  },
  {
   "cell_type": "code",
   "execution_count": 25,
   "metadata": {
    "collapsed": false,
    "scrolled": true
   },
   "outputs": [
    {
     "name": "stdout",
     "output_type": "stream",
     "text": [
      "2.0%\n",
      "4.0%\n",
      "6.0%\n",
      "8.0%\n",
      "10.0%\n",
      "12.0%\n",
      "14.0%\n",
      "16.0%\n",
      "18.0%\n",
      "20.0%\n",
      "22.0%\n",
      "24.0%\n",
      "26.0%\n",
      "28.0%\n",
      "30.0%\n",
      "32.0%\n",
      "34.0%\n",
      "36.0%\n",
      "38.0%\n",
      "40.0%\n",
      "42.0%\n",
      "44.0%\n",
      "46.0%\n",
      "48.0%\n",
      "50.0%\n",
      "52.0%\n",
      "54.0%\n",
      "56.0%\n",
      "58.0%\n",
      "60.0%\n",
      "62.0%\n",
      "64.0%\n",
      "66.0%\n",
      "68.0%\n",
      "70.0%\n",
      "72.0%\n",
      "74.0%\n",
      "76.0%\n",
      "78.0%\n",
      "80.0%\n",
      "82.0%\n",
      "84.0%\n",
      "86.0%\n",
      "88.0%\n",
      "90.0%\n",
      "92.0%\n",
      "94.0%\n",
      "96.0%\n",
      "98.0%\n",
      "100.0%\n",
      "Wall time: 1 s\n"
     ]
    }
   ],
   "source": [
    "%%time\n",
    "#get all parts of speach counts, add as features\n",
    "all_pos = []\n",
    "for i,doc in df.iterrows():\n",
    "    all_pos.extend(list(doc['pos_data'].keys()))\n",
    "\n",
    "#get unique pos types\n",
    "all_pos = list(set(all_pos))\n",
    "\n",
    "#create pos feature df\n",
    "df_pos = pd.DataFrame()\n",
    "pos_cols = ['pos_cnt_'+pos for pos in all_pos] \n",
    "\n",
    "#update pos counts\n",
    "complete_last = 0\n",
    "for i,doc in df.iterrows():    \n",
    "    \n",
    "    complete = round((i/df.shape[0])*100)\n",
    "    if complete != complete_last:\n",
    "        if complete % 2 == 0:\n",
    "            print('%s%%' % complete)\n",
    "            complete_last = complete\n",
    "    \n",
    "    #create empty dictionary with keys\n",
    "    pos_dict = dict.fromkeys(all_pos)\n",
    "    \n",
    "    for pos in doc['pos_data'].keys():\n",
    "        pos_dict[pos] = doc['pos_data'].get(pos)\n",
    "    \n",
    "    row = list(pos_dict.values())\n",
    "    row = pd.Series(row, index=pos_cols)\n",
    "    row = pd.DataFrame(row).T\n",
    "    df_pos = df_pos.append(row, ignore_index=True)\n",
    "    \n",
    "df = pd.merge(df, df_pos, left_index=True, right_index=True)"
   ]
  },
  {
   "cell_type": "markdown",
   "metadata": {},
   "source": [
    "#### convert ne counts to features\n",
    "- print percent complete\n",
    "- run time"
   ]
  },
  {
   "cell_type": "code",
   "execution_count": 26,
   "metadata": {
    "collapsed": false,
    "scrolled": true
   },
   "outputs": [
    {
     "name": "stdout",
     "output_type": "stream",
     "text": [
      "2.0%\n",
      "4.0%\n",
      "6.0%\n",
      "8.0%\n",
      "10.0%\n",
      "12.0%\n",
      "14.0%\n",
      "16.0%\n",
      "18.0%\n",
      "20.0%\n",
      "22.0%\n",
      "24.0%\n",
      "26.0%\n",
      "28.0%\n",
      "30.0%\n",
      "32.0%\n",
      "34.0%\n",
      "36.0%\n",
      "38.0%\n",
      "40.0%\n",
      "42.0%\n",
      "44.0%\n",
      "46.0%\n",
      "48.0%\n",
      "50.0%\n",
      "52.0%\n",
      "54.0%\n",
      "56.0%\n",
      "58.0%\n",
      "60.0%\n",
      "62.0%\n",
      "64.0%\n",
      "66.0%\n",
      "68.0%\n",
      "70.0%\n",
      "72.0%\n",
      "74.0%\n",
      "76.0%\n",
      "78.0%\n",
      "80.0%\n",
      "82.0%\n",
      "84.0%\n",
      "86.0%\n",
      "88.0%\n",
      "90.0%\n",
      "92.0%\n",
      "94.0%\n",
      "96.0%\n",
      "98.0%\n",
      "100.0%\n",
      "Wall time: 1.27 s\n"
     ]
    }
   ],
   "source": [
    "%%time\n",
    "#get all named entities counts, add as features\n",
    "all_nes = []\n",
    "for i,doc in df.iterrows():\n",
    "    all_nes.extend(list(doc['nes_data'].keys()))\n",
    "\n",
    "#get unique\n",
    "all_nes = list(set(all_nes))\n",
    "\n",
    "#create nes feature df\n",
    "df_nes = pd.DataFrame()\n",
    "ne_cols = ['ne_cnt_'+ne for ne in all_nes] \n",
    "    \n",
    "#update pos counts\n",
    "complete_last = 0\n",
    "for i,doc in df.iterrows():    \n",
    "    \n",
    "    complete = round((i/df.shape[0])*100)\n",
    "    if complete != complete_last:\n",
    "        if complete % 2 == 0:\n",
    "            print('%s%%' % complete)\n",
    "            complete_last = complete\n",
    "    \n",
    "    #create empty dictionary with keys\n",
    "    nes_dict = dict.fromkeys(all_nes)\n",
    "    \n",
    "    for ne in doc['nes_data'].keys():\n",
    "        nes_dict[ne] = doc['nes_data'].get(ne)\n",
    "    \n",
    "    row = list(nes_dict.values())\n",
    "    row = pd.Series(row, index=ne_cols)\n",
    "    row = pd.DataFrame(row).T\n",
    "    df_nes = df_nes.append(row, ignore_index=True)\n",
    "    \n",
    "df = pd.merge(df, df_nes, left_index=True, right_index=True)"
   ]
  },
  {
   "cell_type": "code",
   "execution_count": 27,
   "metadata": {
    "collapsed": false
   },
   "outputs": [
    {
     "data": {
      "text/plain": [
       "(379, 122)"
      ]
     },
     "execution_count": 27,
     "metadata": {},
     "output_type": "execute_result"
    }
   ],
   "source": [
    "df.shape"
   ]
  },
  {
   "cell_type": "code",
   "execution_count": 37,
   "metadata": {
    "collapsed": false
   },
   "outputs": [
    {
     "name": "stdout",
     "output_type": "stream",
     "text": [
      "FEATURES: 85\n"
     ]
    }
   ],
   "source": [
    "x = [\n",
    " 'tweet_type',\n",
    " 'possibly_sensitive',\n",
    " 'is_retweet',\n",
    " 'is_reply',\n",
    " 'is_quoted_tweet',\n",
    " 'favorite_count',\n",
    " 'retweet_count',\n",
    " 'user_default_profile',\n",
    " 'user_default_profile_image',\n",
    " 'user_verified',\n",
    " 'user_statuses',\n",
    " 'user_favourites',\n",
    " 'user_followers',\n",
    " 'user_friends',\n",
    " 'user_listed',\n",
    " 'user_bio_len',\n",
    " 'user_reputation',\n",
    " 'user_age_days',\n",
    " 'user_follower_rate',\n",
    " 'engagements',\n",
    " 'engagements_per_word',\n",
    " 'count_entities_media',\n",
    " 'media_per_word',\n",
    " 'count_entities_urls',\n",
    " 'urls_per_word',\n",
    " 'count_entities_mentions',\n",
    " 'mentions_per_word',\n",
    " 'count_entities_hashtags',\n",
    " 'hashtags_per_word',\n",
    " 'count_characters',\n",
    " 'count_non_characters',\n",
    " 'count_upper',\n",
    " 'count_tokens',\n",
    " 'count_stops',\n",
    " 'question',\n",
    " 'elongation',\n",
    " 'ellipsis',\n",
    " 'lexical_diversity',\n",
    " 'sfpp',\n",
    " 'pfpp',\n",
    " 'text_sentiment_negative',\n",
    " 'text_sentiment_positive',\n",
    " 'text_sentiment_subjective',\n",
    " 'topk_terms_coverage',\n",
    " 'tfidf_sum',\n",
    " 'tfidf_mean',\n",
    " 'event_centroid_distance',\n",
    " 'pos_cnt',\n",
    " 'nes_cnt',\n",
    " 'pos_cnt_MD',\n",
    " 'pos_cnt_(',\n",
    " 'pos_cnt_,',\n",
    " 'pos_cnt_WDT',\n",
    " 'pos_cnt_PDT',\n",
    " 'pos_cnt_JJS',\n",
    " 'pos_cnt_VBD',\n",
    " 'pos_cnt_RB',\n",
    " 'pos_cnt_DT',\n",
    " 'pos_cnt_VB',\n",
    " 'pos_cnt_VBP',\n",
    " 'pos_cnt_VBG',\n",
    " 'pos_cnt_.',\n",
    " 'pos_cnt_TO',\n",
    " 'pos_cnt_EX',\n",
    " 'pos_cnt_IN',\n",
    " 'pos_cnt_NNP',\n",
    " 'pos_cnt_VBN',\n",
    " 'pos_cnt_NN',\n",
    " 'pos_cnt_WP',\n",
    " 'pos_cnt_RP',\n",
    " 'pos_cnt_VBZ',\n",
    " 'pos_cnt_``',\n",
    " 'pos_cnt_)',\n",
    " 'pos_cnt_NNS',\n",
    " 'pos_cnt_PRP',\n",
    " 'pos_cnt_UH',\n",
    " 'pos_cnt_:',\n",
    " 'pos_cnt_JJR',\n",
    " 'pos_cnt_RBS',\n",
    " 'pos_cnt_WRB',\n",
    " 'pos_cnt_JJ',\n",
    " 'pos_cnt_CC',\n",
    " 'pos_cnt_POS',\n",
    " 'pos_cnt_CD',\n",
    " 'pos_cnt_PRP$']\n",
    "\n",
    "print('FEATURES: %s' % len(x))"
   ]
  },
  {
   "cell_type": "markdown",
   "metadata": {},
   "source": [
    "#### fill NaN"
   ]
  },
  {
   "cell_type": "code",
   "execution_count": 30,
   "metadata": {
    "collapsed": false
   },
   "outputs": [],
   "source": [
    "df[x] = df[x].fillna(0)"
   ]
  },
  {
   "cell_type": "markdown",
   "metadata": {},
   "source": [
    "#### save data"
   ]
  },
  {
   "cell_type": "code",
   "execution_count": 31,
   "metadata": {
    "collapsed": true
   },
   "outputs": [],
   "source": [
    "#save event data with features\n",
    "df.to_csv('data/final/event_indianaprimary_data_train.txt', sep='\\t', encoding='utf-8', header=True, index=False)"
   ]
  },
  {
   "cell_type": "markdown",
   "metadata": {},
   "source": [
    "# Modeling"
   ]
  },
  {
   "cell_type": "code",
   "execution_count": 32,
   "metadata": {
    "collapsed": true
   },
   "outputs": [],
   "source": [
    "from time import time\n",
    "import sklearn\n",
    "from sklearn import metrics\n",
    "from sklearn.cross_validation import train_test_split\n",
    "from sklearn.naive_bayes import MultinomialNB, GaussianNB\n",
    "from sklearn.neighbors import KNeighborsClassifier\n",
    "from sklearn.tree import DecisionTreeClassifier\n",
    "from sklearn.ensemble import RandomForestClassifier\n",
    "from sklearn import svm\n",
    "from sklearn.feature_extraction.text import CountVectorizer, TfidfTransformer, TfidfVectorizer\n",
    "from sklearn.pipeline import Pipeline"
   ]
  },
  {
   "cell_type": "markdown",
   "metadata": {},
   "source": [
    "#### using data from above"
   ]
  },
  {
   "cell_type": "code",
   "execution_count": 33,
   "metadata": {
    "collapsed": false
   },
   "outputs": [
    {
     "data": {
      "text/plain": [
       "(379, 122)"
      ]
     },
     "execution_count": 33,
     "metadata": {},
     "output_type": "execute_result"
    }
   ],
   "source": [
    "df.shape"
   ]
  },
  {
   "cell_type": "markdown",
   "metadata": {},
   "source": [
    "#### setup pipeline"
   ]
  },
  {
   "cell_type": "code",
   "execution_count": 72,
   "metadata": {
    "collapsed": false
   },
   "outputs": [],
   "source": [
    "def execute(clf, y):\n",
    "    print('_' * 40)\n",
    "    clf_descr = str(clf).split('(')[0]\n",
    "    print('>>> ', clf_descr)\n",
    "    print('_' * 40)\n",
    "    \n",
    "    print('Training:')\n",
    "    t0 = time()\n",
    "    clf.fit(train[x], train[y])\n",
    "    train_time = time() - t0\n",
    "    print('  train time: %0.3fs' % train_time)\n",
    "    \n",
    "    t0 = time()\n",
    "    pred = clf.predict(test[x])\n",
    "    test_time = time() - t0\n",
    "    print('  test time:  %0.3fs' % test_time)\n",
    "    \n",
    "    print()\n",
    "    acc = metrics.accuracy_score(test[y], pred)\n",
    "    print('Accuracy: %0.3f' % acc)\n",
    "    auc = metrics.roc_auc_score(test[y], pred)\n",
    "    print('ROC AUC: %0.3f' % auc)\n",
    "    print()\n",
    "    \n",
    "    print('Confusion Matrix: \\n', pd.crosstab(test[y], pred, rownames=['Actual'], colnames=['Predicted'], margins=True))\n",
    "    print()\n",
    "    print('Report: \\n', metrics.classification_report(test[y], pred))\n",
    "    \n",
    "    precision = metrics.precision_score(test[y], pred)\n",
    "    print('Precision: %0.3f' % precision)\n",
    "    recall = metrics.recall_score(test[y], pred)\n",
    "    print('Recall: %0.3f' % recall)\n",
    "    avg_precision = metrics.average_precision_score(test[y], pred, average='macro')\n",
    "    print('Class-Weighted AVG Precision: %0.3f' % avg_precision)\n",
    "    \n",
    "    top5 = []\n",
    "    if clf_descr in ['DecisionTreeClassifier', 'RandomForestClassifier']:\n",
    "        #top feature indices\n",
    "        k = 5\n",
    "        for i in np.argsort(clf.feature_importances_)[::-1][:k]:\n",
    "            top5.append([x[i], clf.feature_importances_[i]])\n",
    "        print('Top Features:')\n",
    "        print(top5)\n",
    "    \n",
    "    return y, clf_descr, acc, precision, recall"
   ]
  },
  {
   "cell_type": "markdown",
   "metadata": {},
   "source": [
    "#### run pipeline"
   ]
  },
  {
   "cell_type": "code",
   "execution_count": 76,
   "metadata": {
    "collapsed": false,
    "scrolled": true
   },
   "outputs": [
    {
     "name": "stdout",
     "output_type": "stream",
     "text": [
      "============================================================\n",
      "Y_NEWS\n",
      "\n",
      "Class Distribution:\n",
      "Total \t 0:  253 (0.79%)    1:   69 (0.21%)\n",
      "Train \t 0:  204 (0.79%)    1:   53 (0.21%)\n",
      "Test \t 0:   49 (0.75%)    1:   16 (0.25%)\n",
      "\n",
      "============================================================\n",
      "________________________________________\n",
      ">>>  MultinomialNB\n",
      "________________________________________\n",
      "Training:\n",
      "  train time: 0.002s\n",
      "  test time:  0.002s\n",
      "\n",
      "Accuracy: 0.723\n",
      "ROC AUC: 0.606\n",
      "\n",
      "Confusion Matrix: \n",
      " Predicted  0.0  1.0  All\n",
      "Actual                  \n",
      "0.0         41    8   49\n",
      "1.0         10    6   16\n",
      "All         51   14   65\n",
      "\n",
      "Report: \n",
      "              precision    recall  f1-score   support\n",
      "\n",
      "        0.0       0.80      0.84      0.82        49\n",
      "        1.0       0.43      0.38      0.40        16\n",
      "\n",
      "avg / total       0.71      0.72      0.72        65\n",
      "\n",
      "Precision: 0.429\n",
      "Recall: 0.375\n",
      "Class-Weighted AVG Precision: 0.479\n",
      "________________________________________\n",
      ">>>  KNeighborsClassifier\n",
      "________________________________________\n",
      "Training:\n",
      "  train time: 0.002s\n",
      "  test time:  0.004s\n",
      "\n",
      "Accuracy: 0.785\n",
      "ROC AUC: 0.584\n",
      "\n",
      "Confusion Matrix: \n",
      " Predicted  0.0  1.0  All\n",
      "Actual                  \n",
      "0.0         48    1   49\n",
      "1.0         13    3   16\n",
      "All         61    4   65\n",
      "\n",
      "Report: \n",
      "              precision    recall  f1-score   support\n",
      "\n",
      "        0.0       0.79      0.98      0.87        49\n",
      "        1.0       0.75      0.19      0.30        16\n",
      "\n",
      "avg / total       0.78      0.78      0.73        65\n",
      "\n",
      "Precision: 0.750\n",
      "Recall: 0.188\n",
      "Class-Weighted AVG Precision: 0.569\n",
      "________________________________________\n",
      ">>>  DecisionTreeClassifier\n",
      "________________________________________\n",
      "Training:\n",
      "  train time: 0.005s\n",
      "  test time:  0.001s\n",
      "\n",
      "Accuracy: 0.708\n",
      "ROC AUC: 0.638\n",
      "\n",
      "Confusion Matrix: \n",
      " Predicted  0.0  1.0  All\n",
      "Actual                  \n",
      "0.0         38   11   49\n",
      "1.0          8    8   16\n",
      "All         46   19   65\n",
      "\n",
      "Report: \n",
      "              precision    recall  f1-score   support\n",
      "\n",
      "        0.0       0.83      0.78      0.80        49\n",
      "        1.0       0.42      0.50      0.46        16\n",
      "\n",
      "avg / total       0.73      0.71      0.72        65\n",
      "\n",
      "Precision: 0.421\n",
      "Recall: 0.500\n",
      "Class-Weighted AVG Precision: 0.522\n",
      "Top Features:\n",
      "[['user_follower_rate', 0.1595169096451077], ['user_favourites', 0.12958418765073576], ['mentions_per_word', 0.068536502651374995], ['hashtags_per_word', 0.063530420744627156], ['pos_cnt_VB', 0.057122520494340544]]\n",
      "________________________________________\n",
      ">>>  RandomForestClassifier\n",
      "________________________________________\n",
      "Training:\n",
      "  train time: 0.020s\n",
      "  test time:  0.002s\n",
      "\n",
      "Accuracy: 0.754\n",
      "ROC AUC: 0.521\n",
      "\n",
      "Confusion Matrix: \n",
      " Predicted  0.0  1.0  All\n",
      "Actual                  \n",
      "0.0         48    1   49\n",
      "1.0         15    1   16\n",
      "All         63    2   65\n",
      "\n",
      "Report: \n",
      "              precision    recall  f1-score   support\n",
      "\n",
      "        0.0       0.76      0.98      0.86        49\n",
      "        1.0       0.50      0.06      0.11        16\n",
      "\n",
      "avg / total       0.70      0.75      0.67        65\n",
      "\n",
      "Precision: 0.500\n",
      "Recall: 0.062\n",
      "Class-Weighted AVG Precision: 0.397\n",
      "Top Features:\n",
      "[['user_reputation', 0.0742090365913326], ['user_statuses', 0.072033010315174367], ['user_favourites', 0.057841096803153635], ['event_centroid_distance', 0.052309872146434143], ['tfidf_sum', 0.048286074562410894]]\n",
      "________________________________________\n",
      ">>>  SVC\n",
      "________________________________________\n",
      "Training:\n",
      "  train time: 0.007s\n",
      "  test time:  0.000s\n",
      "\n",
      "Accuracy: 0.754\n",
      "ROC AUC: 0.500\n",
      "\n",
      "Confusion Matrix: \n",
      " Predicted  0.0  All\n",
      "Actual             \n",
      "0.0         49   49\n",
      "1.0         16   16\n",
      "All         65   65\n",
      "\n",
      "Report: \n",
      "              precision    recall  f1-score   support\n",
      "\n",
      "        0.0       0.75      1.00      0.86        49\n",
      "        1.0       0.00      0.00      0.00        16\n",
      "\n",
      "avg / total       0.57      0.75      0.65        65\n",
      "\n",
      "Precision: 0.000\n",
      "Recall: 0.000\n",
      "Class-Weighted AVG Precision: 0.623\n"
     ]
    },
    {
     "name": "stderr",
     "output_type": "stream",
     "text": [
      "c:\\miniconda3\\lib\\site-packages\\sklearn\\metrics\\classification.py:1074: UndefinedMetricWarning: Precision and F-score are ill-defined and being set to 0.0 in labels with no predicted samples.\n",
      "  'precision', 'predicted', average, warn_for)\n",
      "c:\\miniconda3\\lib\\site-packages\\sklearn\\metrics\\classification.py:1074: UndefinedMetricWarning: Precision is ill-defined and being set to 0.0 due to no predicted samples.\n",
      "  'precision', 'predicted', average, warn_for)\n"
     ]
    }
   ],
   "source": [
    "ys = [\n",
    "#'y_question',\n",
    "#'y_opinion',\n",
    "#'y_sarcasm',\n",
    "'y_news'\n",
    "]\n",
    "\n",
    "results = []\n",
    "\n",
    "for y in ys:\n",
    "    print('=' * 60)\n",
    "    print(y.upper())\n",
    "    print()\n",
    "    data = df[df[y].isin([0,1])]\n",
    "    train, test = train_test_split(data, test_size=.2, random_state=2016) \n",
    "    print('Class Distribution:')\n",
    "    for d,name in ((data, 'Total'), (train, 'Train'), (test, 'Test')):\n",
    "        t = len(d)\n",
    "        n = len(d[d[y]==0])\n",
    "        s = len(d[d[y]==1])\n",
    "        print(name, '\\t', '0: %4.0f (%0.2f%%)' % (n, (n/t)), '  ', '1: %4.0f (%0.2f%%)' % (s, (s/t)))\n",
    "    print()\n",
    "    print('=' * 60)\n",
    "    \n",
    "    for clf in (MultinomialNB(), \n",
    "                KNeighborsClassifier(),\n",
    "                DecisionTreeClassifier(random_state=2016),\n",
    "                RandomForestClassifier(random_state=2016),\n",
    "                svm.SVC()\n",
    "               ):\n",
    "        results.append(execute(clf, y))"
   ]
  },
  {
   "cell_type": "markdown",
   "metadata": {},
   "source": [
    "### results"
   ]
  },
  {
   "cell_type": "code",
   "execution_count": 77,
   "metadata": {
    "collapsed": false,
    "scrolled": true
   },
   "outputs": [],
   "source": [
    "results = pd.DataFrame(results)\n",
    "results.columns = ['y', 'classifier', 'accuracy', 'precision', 'recall']"
   ]
  },
  {
   "cell_type": "code",
   "execution_count": 78,
   "metadata": {
    "collapsed": false
   },
   "outputs": [
    {
     "name": "stdout",
     "output_type": "stream",
     "text": [
      "y_news\n"
     ]
    },
    {
     "data": {
      "image/png": "[encoded data removed]",
      "text/plain": [
       "<matplotlib.figure.Figure at 0x1ab47438>"
      ]
     },
     "metadata": {},
     "output_type": "display_data"
    }
   ],
   "source": [
    "for name, result in results.groupby('y'):\n",
    "    print(name)\n",
    "    result.plot(x='classifier', kind='bar', ylim=[0,1])\n",
    "    plt.show()"
   ]
  },
  {
   "cell_type": "markdown",
   "metadata": {},
   "source": [
    "#### EXPERIMENT: greedy filter noise, for annotating more news"
   ]
  },
  {
   "cell_type": "code",
   "execution_count": 49,
   "metadata": {
    "collapsed": false
   },
   "outputs": [
    {
     "name": "stdout",
     "output_type": "stream",
     "text": [
      "total:\n",
      "18.21% (69 docs) of 379 data marked with news:\n",
      "question:\n",
      "18.95% (65 docs) of 343 data marked with news:\n",
      "first person:\n",
      "21.99% (64 docs) of 291 data marked with news:\n",
      "sentiment negative:\n",
      "22.54% (64 docs) of 284 data marked with news:\n",
      "sentiment positive:\n",
      "23.17% (60 docs) of 259 data marked with news:\n",
      "sentiment subjective:\n",
      "25.50% (51 docs) of 200 data marked with news:\n"
     ]
    }
   ],
   "source": [
    "print('total:')\n",
    "n = df.shape[0]\n",
    "k = df[df['y_news']==1].shape[0]\n",
    "print('%.2f%% (%s docs) of %s data marked with news:' % ((k/n*100), k, n))\n",
    "d = df\n",
    "#question\n",
    "print('question:')\n",
    "d = d[d['question'] == 0]\n",
    "n = d.shape[0]\n",
    "k = d[d['y_news']==1].shape[0]\n",
    "print('%.2f%% (%s docs) of %s data marked with news:' % ((k/n*100), k, n))\n",
    "#first person\n",
    "print('first person:')\n",
    "d = d[d['sfpp'] == 0]\n",
    "n = d.shape[0]\n",
    "k = d[d['y_news']==1].shape[0]\n",
    "print('%.2f%% (%s docs) of %s data marked with news:' % ((k/n*100), k, n))\n",
    "#sentiment negative\n",
    "print('sentiment negative:')\n",
    "d = d[d['text_sentiment_negative'] == 0]\n",
    "n = d.shape[0]\n",
    "k = d[d['y_news']==1].shape[0]\n",
    "print('%.2f%% (%s docs) of %s data marked with news:' % ((k/n*100), k, n))\n",
    "#sentiment positive\n",
    "print('sentiment positive:')\n",
    "d = d[d['text_sentiment_positive'] == 0]\n",
    "n = d.shape[0]\n",
    "k = d[d['y_news']==1].shape[0]\n",
    "print('%.2f%% (%s docs) of %s data marked with news:' % ((k/n*100), k, n))\n",
    "#subjectivity\n",
    "print('sentiment subjective:')\n",
    "d = d[d['text_sentiment_subjective'] == 0]\n",
    "n = d.shape[0]\n",
    "k = d[d['y_news']==1].shape[0]\n",
    "print('%.2f%% (%s docs) of %s data marked with news:' % ((k/n*100), k, n))"
   ]
  }
 ],
 "metadata": {
  "kernelspec": {
   "display_name": "Python 3",
   "language": "python",
   "name": "python3"
  },
  "language_info": {
   "codemirror_mode": {
    "name": "ipython",
    "version": 3
   },
   "file_extension": ".py",
   "mimetype": "text/x-python",
   "name": "python",
   "nbconvert_exporter": "python",
   "pygments_lexer": "ipython3",
   "version": "3.4.4"
  }
 },
 "nbformat": 4,
 "nbformat_minor": 0
}
