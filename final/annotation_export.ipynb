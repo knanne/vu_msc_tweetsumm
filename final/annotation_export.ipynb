{
 "cells": [
  {
   "cell_type": "code",
   "execution_count": 1,
   "metadata": {
    "collapsed": true
   },
   "outputs": [],
   "source": [
    "import pandas as pd\n",
    "import re\n",
    "import matplotlib.pyplot as plt\n",
    "import seaborn as sns\n",
    "%matplotlib inline\n",
    "plt.style.use('fivethirtyeight')\n",
    "import csv"
   ]
  },
  {
   "cell_type": "markdown",
   "metadata": {},
   "source": [
    "#### define events\n",
    "- titles, descriptions"
   ]
  },
  {
   "cell_type": "code",
   "execution_count": 7,
   "metadata": {
    "collapsed": true
   },
   "outputs": [],
   "source": [
    "event_metadata = {\n",
    "'The French Open' : 'The French Open, often referred to as Roland Garros, is a major tennis tournament held over two weeks between late May and early June at the Stade Roland Garros in Paris, France.',\n",
    "'Champions League Final' : 'The 2016 UEFA Champions League Final will be played between Real Madrid and Atlético Madrid at the San Siro in Milan, Italy.[1] It will be the second time in the tournament history that both finalists are from the same city, after the same clubs faced each other in the 2014 final.',\n",
    "'Monaco Grand Prix' : 'The Monaco Grand Prix (French: Grand Prix de Monaco) is a Formula One motor race held each year on the Circuit de Monaco. Run since 1929, it is widely considered to be one of the most important and prestigious automobile races in the world and, with the Indianapolis 500 and the 24 Hours of Le Mans, forms the Triple Crown of Motorsport.',\n",
    "'The Next Web Conference Europe' : 'TNW Conferences are an annual set of conferences hosted by The Next Web in Amsterdam and New York.',\n",
    "'Recode Code Conference' : 'Code Conference is an invitation-only event where top industry influencers gather for in-depth conversations about the current and future impact of digital technology on our lives — at home, at work, in our communities and the world.',\n",
    "'Converge Asia' : 'This June, The Wall Street Journal and f.ounders will come together again to host Converge, a unique, invitation-only event that will explore the emerging opportunities and rapid changes developing across Asia and the rest of the world.'}"
   ]
  },
  {
   "cell_type": "code",
   "execution_count": 24,
   "metadata": {
    "collapsed": false
   },
   "outputs": [],
   "source": [
    "data = {}\n",
    "for event_name in event_metadata.keys():\n",
    "    event_filename = re.sub(\"\\W+\", \"\", event_name.strip())\n",
    "    data[event_name] = pd.read_csv('data/final/event_%s_data.txt' % event_filename, sep='\\t', encoding='utf-8', header=0, parse_dates=['created_at'], dtype={'twitter_id' : 'str'})\n",
    "    \n",
    "allevents = list(data.values())"
   ]
  },
  {
   "cell_type": "markdown",
   "metadata": {},
   "source": [
    "#### random sample 3 x 100 rows\n",
    "- stack events by 100 rows"
   ]
  },
  {
   "cell_type": "code",
   "execution_count": 25,
   "metadata": {
    "collapsed": false
   },
   "outputs": [
    {
     "data": {
      "text/plain": [
       "(1800, 35)"
      ]
     },
     "execution_count": 25,
     "metadata": {},
     "output_type": "execute_result"
    }
   ],
   "source": [
    "samples = pd.DataFrame(columns=allevents[0].columns)\n",
    "\n",
    "for i in range(3):\n",
    "    for eventdf in allevents:\n",
    "        samples = samples.append(eventdf[eventdf['twitter_id'].isin(samples['twitter_id']) == False].sample(n=100, replace=False))\n",
    "        \n",
    "samples.shape"
   ]
  },
  {
   "cell_type": "code",
   "execution_count": 30,
   "metadata": {
    "collapsed": true
   },
   "outputs": [],
   "source": [
    "samples = samples[['event', 'event_id', 'twitter_id', 'created_at', 'text']]\n",
    "samples.shape\n",
    "\n",
    "samples['description'] = samples['event']\n",
    "\n",
    "samples['description'].replace(event_metadata, inplace=True)"
   ]
  },
  {
   "cell_type": "code",
   "execution_count": 35,
   "metadata": {
    "collapsed": false
   },
   "outputs": [
    {
     "data": {
      "text/html": [
       "<div>\n",
       "<table border=\"1\" class=\"dataframe\">\n",
       "  <thead>\n",
       "    <tr style=\"text-align: right;\">\n",
       "      <th></th>\n",
       "      <th>event</th>\n",
       "      <th>event_id</th>\n",
       "      <th>twitter_id</th>\n",
       "      <th>created_at</th>\n",
       "      <th>text</th>\n",
       "      <th>description</th>\n",
       "    </tr>\n",
       "  </thead>\n",
       "  <tbody>\n",
       "    <tr>\n",
       "      <th>36304</th>\n",
       "      <td>Monaco Grand Prix</td>\n",
       "      <td>36304.0</td>\n",
       "      <td>736905141928878080</td>\n",
       "      <td>2016-05-29 13:00:51</td>\n",
       "      <td>Verstappen out! #MonacoGP</td>\n",
       "      <td>The Monaco Grand Prix (French: Grand Prix de M...</td>\n",
       "    </tr>\n",
       "  </tbody>\n",
       "</table>\n",
       "</div>"
      ],
      "text/plain": [
       "                   event  event_id          twitter_id          created_at  \\\n",
       "36304  Monaco Grand Prix   36304.0  736905141928878080 2016-05-29 13:00:51   \n",
       "\n",
       "                            text  \\\n",
       "36304  Verstappen out! #MonacoGP   \n",
       "\n",
       "                                             description  \n",
       "36304  The Monaco Grand Prix (French: Grand Prix de M...  "
      ]
     },
     "execution_count": 35,
     "metadata": {},
     "output_type": "execute_result"
    }
   ],
   "source": [
    "samples.head(1)"
   ]
  },
  {
   "cell_type": "code",
   "execution_count": 36,
   "metadata": {
    "collapsed": false
   },
   "outputs": [],
   "source": [
    "samples.to_csv('data/final/events_annsample_forcrowdflower.csv', sep=',', quoting=csv.QUOTE_NONNUMERIC, encoding='utf-8', header=True, index=False)"
   ]
  }
 ],
 "metadata": {
  "kernelspec": {
   "display_name": "Python 3",
   "language": "python",
   "name": "python3"
  },
  "language_info": {
   "codemirror_mode": {
    "name": "ipython",
    "version": 3
   },
   "file_extension": ".py",
   "mimetype": "text/x-python",
   "name": "python",
   "nbconvert_exporter": "python",
   "pygments_lexer": "ipython3",
   "version": "3.4.4"
  }
 },
 "nbformat": 4,
 "nbformat_minor": 0
}
