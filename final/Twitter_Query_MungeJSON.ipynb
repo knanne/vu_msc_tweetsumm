{
 "cells": [
  {
   "cell_type": "markdown",
   "metadata": {},
   "source": [
    "### Twitter Query\n",
    "- Twitter has already been queried using the [Search Tweets API](https://dev.twitter.com/rest/reference/get/search/tweets). \n",
    "- returned JSON was written to `[query_term]_twitter_search_raw.json` file where each row in file is a tweet json object\n",
    "- below is a query example\n",
    "\n",
    "```python\n",
    "import requests\n",
    "from requests_oauthlib import OAuth1\n",
    "import json\n",
    "\n",
    "#define API url\n",
    "url = 'https://api.twitter.com/1.1/search/tweets.json'\n",
    "\n",
    "#define credentials\n",
    "auth = OAuth1(consumer_key, consumer_secret, access_token, access_token_secret)\n",
    "\n",
    "query_term = input('Enter Twitter Search Term: ')\n",
    "\n",
    "#define file for writing\n",
    "json_f = open('[%s]_twitter_search_raw.json % query_term, 'a')\n",
    "\n",
    "#writing decorator function    \n",
    "def append_record(record):\n",
    "    json_f.write(json.dumps(record, sort_keys=True))\n",
    "    json_f.write('\\n')\n",
    "    json_f.flush()\n",
    "\n",
    "#loop start here\n",
    "\n",
    "#query parameters\n",
    "payload = {'lang' : 'en', 'count' : 100, 'q' : query_term}\n",
    "\n",
    "#make request\n",
    "r = requests.get(url, params = payload, auth = auth)\n",
    "\n",
    "#check status\n",
    "#backoff when required\n",
    "\n",
    "rj = r.json()\n",
    "\n",
    "for result in rj['statuses']:\n",
    "    append_record(result)\n",
    "\n",
    "#loop\n",
    "\n",
    "json_f.close()\n",
    "```\n",
    "\n",
    "* to automate for historical searching, simply loop the call [(note limits and good practices)](https://dev.twitter.com/rest/public)\n",
    "* and recursively update payload max_id with latest tweet id\n",
    "* alternatively for online data, use streaming api [(documentation)](https://dev.twitter.com/streaming/overview)"
   ]
  },
  {
   "cell_type": "markdown",
   "metadata": {},
   "source": [
    "### Twitter Processing\n",
    "* the below scripts transform JSON to clean database for later analysis\n",
    "#### import tools"
   ]
  },
  {
   "cell_type": "code",
   "execution_count": 1,
   "metadata": {
    "collapsed": true
   },
   "outputs": [],
   "source": [
    "import pandas as pd\n",
    "import numpy as np\n",
    "import json\n",
    "from bs4 import BeautifulSoup\n",
    "from pandas.tseries.offsets import *\n",
    "import re\n",
    "import csv"
   ]
  },
  {
   "cell_type": "code",
   "execution_count": 2,
   "metadata": {
    "collapsed": false
   },
   "outputs": [],
   "source": [
    "#import plotting library\n",
    "import matplotlib.pyplot as plt\n",
    "import matplotlib\n",
    "matplotlib.style.use('ggplot')\n",
    "%matplotlib inline"
   ]
  },
  {
   "cell_type": "markdown",
   "metadata": {},
   "source": [
    "#### define output database\n",
    "- tweet object looks like: ([documentation](https://dev.twitter.com/overview/api/tweets))\n",
    "\n",
    "```\n",
    "['contributors',\n",
    " 'coordinates',\n",
    " 'created_at',\n",
    " 'entities',\n",
    " 'favorite_count',\n",
    " 'favorited',\n",
    " 'geo',\n",
    " 'id',\n",
    " 'id_str',\n",
    " 'in_reply_to_screen_name',\n",
    " 'in_reply_to_status_id',\n",
    " 'in_reply_to_status_id_str',\n",
    " 'in_reply_to_user_id',\n",
    " 'in_reply_to_user_id_str',\n",
    " 'is_quote_status',\n",
    " 'lang',\n",
    " 'metadata',\n",
    " 'place',\n",
    " 'possibly_sensitive',\n",
    " 'quoted_status',\n",
    " 'quoted_status_id',\n",
    " 'quoted_status_id_str',\n",
    " 'retweet_count',\n",
    " 'retweeted',\n",
    " 'source',\n",
    " 'text',\n",
    " 'truncated',\n",
    " 'user']\n",
    "```\n",
    "\n",
    "- list below is final columns we want\n",
    "- added our own extracted columns\n",
    "- dropped large dictionaries (entities, user)\n",
    "- dropped others we don't want like deprecated geo, others like metadata, reply/quoted_status etc."
   ]
  },
  {
   "cell_type": "code",
   "execution_count": 3,
   "metadata": {
    "collapsed": false
   },
   "outputs": [],
   "source": [
    "cols = [\n",
    "    'id_str',\n",
    "    'created_at',\n",
    "    'source',\n",
    "    'longitude',\n",
    "    'latitude',\n",
    "    'place_country',\n",
    "    'place_name',\n",
    "    'text',\n",
    "    'lang',\n",
    "    'tweet_type',\n",
    "    'possibly_sensitive',\n",
    "    'is_retweet',\n",
    "    'is_reply',\n",
    "    'is_quoted_tweet',\n",
    "    'entities_media',\n",
    "    'entities_urls',\n",
    "    'entities_mentions',\n",
    "    'entities_hashtags',\n",
    "    'favorite_count',\n",
    "    'retweet_count',\n",
    "    'user_id_str',\n",
    "    'user_screen_name',\n",
    "    'user_created_at',\n",
    "    'user_description',\n",
    "    'user_location',\n",
    "    'user_default_profile',\n",
    "    'user_default_profile_image',\n",
    "    'user_verified',\n",
    "    'user_statuses',\n",
    "    'user_favourites',\n",
    "    'user_followers',\n",
    "    'user_friends',\n",
    "    'user_listed']"
   ]
  },
  {
   "cell_type": "markdown",
   "metadata": {},
   "source": [
    "#### convert query term to file name keyword"
   ]
  },
  {
   "cell_type": "code",
   "execution_count": 4,
   "metadata": {
    "collapsed": false
   },
   "outputs": [
    {
     "name": "stdout",
     "output_type": "stream",
     "text": [
      "Enter Twitter Query Term: #CHETOT\n"
     ]
    }
   ],
   "source": [
    "keyword = input('Enter Twitter Query Term: ')"
   ]
  },
  {
   "cell_type": "code",
   "execution_count": 5,
   "metadata": {
    "collapsed": false
   },
   "outputs": [
    {
     "name": "stdout",
     "output_type": "stream",
     "text": [
      "#chetot\n"
     ]
    }
   ],
   "source": [
    "keyword = keyword.replace(' ', '_').lower()\n",
    "print(keyword)"
   ]
  },
  {
   "cell_type": "markdown",
   "metadata": {},
   "source": [
    "#### import data\n",
    "- print cpu time to read json lines (can we make this faster?)\n",
    "- flattening json tree to df will result in some columns remaining as nested dictionaries"
   ]
  },
  {
   "cell_type": "code",
   "execution_count": 6,
   "metadata": {
    "collapsed": false
   },
   "outputs": [
    {
     "name": "stdout",
     "output_type": "stream",
     "text": [
      "Wall time: 2.71 s\n"
     ]
    }
   ],
   "source": [
    "%%time\n",
    "raw_data = []\n",
    "with open('data/[%s]_twitter_search_raw.json' % keyword) as f:\n",
    "    for line in f:\n",
    "        raw_data.append(json.loads(line))"
   ]
  },
  {
   "cell_type": "markdown",
   "metadata": {},
   "source": [
    "#### convert list to pandas dataframe"
   ]
  },
  {
   "cell_type": "code",
   "execution_count": 7,
   "metadata": {
    "collapsed": false
   },
   "outputs": [],
   "source": [
    "df = pd.DataFrame(raw_data)"
   ]
  },
  {
   "cell_type": "markdown",
   "metadata": {},
   "source": [
    "#### dedupe\n",
    "- on twitter id, in case of searching errors"
   ]
  },
  {
   "cell_type": "code",
   "execution_count": 8,
   "metadata": {
    "collapsed": false
   },
   "outputs": [
    {
     "data": {
      "text/plain": [
       "(29859, 29)"
      ]
     },
     "execution_count": 8,
     "metadata": {},
     "output_type": "execute_result"
    }
   ],
   "source": [
    "df.drop_duplicates('id_str', inplace=True)\n",
    "df.shape"
   ]
  },
  {
   "cell_type": "code",
   "execution_count": 9,
   "metadata": {
    "collapsed": false
   },
   "outputs": [
    {
     "data": {
      "text/html": [
       "<div>\n",
       "<table border=\"1\" class=\"dataframe\">\n",
       "  <thead>\n",
       "    <tr style=\"text-align: right;\">\n",
       "      <th></th>\n",
       "      <th>contributors</th>\n",
       "      <th>coordinates</th>\n",
       "      <th>created_at</th>\n",
       "      <th>entities</th>\n",
       "      <th>favorite_count</th>\n",
       "      <th>favorited</th>\n",
       "      <th>geo</th>\n",
       "      <th>id</th>\n",
       "      <th>id_str</th>\n",
       "      <th>in_reply_to_screen_name</th>\n",
       "      <th>...</th>\n",
       "      <th>quoted_status</th>\n",
       "      <th>quoted_status_id</th>\n",
       "      <th>quoted_status_id_str</th>\n",
       "      <th>retweet_count</th>\n",
       "      <th>retweeted</th>\n",
       "      <th>scopes</th>\n",
       "      <th>source</th>\n",
       "      <th>text</th>\n",
       "      <th>truncated</th>\n",
       "      <th>user</th>\n",
       "    </tr>\n",
       "  </thead>\n",
       "  <tbody>\n",
       "    <tr>\n",
       "      <th>0</th>\n",
       "      <td>None</td>\n",
       "      <td>None</td>\n",
       "      <td>2016-05-03 23:57:57</td>\n",
       "      <td>{'user_mentions': [{'id_str': '509956457', 'sc...</td>\n",
       "      <td>1</td>\n",
       "      <td>False</td>\n",
       "      <td>None</td>\n",
       "      <td>727648422103289857</td>\n",
       "      <td>727648422103289857</td>\n",
       "      <td>None</td>\n",
       "      <td>...</td>\n",
       "      <td>NaN</td>\n",
       "      <td>NaN</td>\n",
       "      <td>NaN</td>\n",
       "      <td>1</td>\n",
       "      <td>False</td>\n",
       "      <td>NaN</td>\n",
       "      <td>&lt;a href=\"http://twitter.com/download/iphone\" r...</td>\n",
       "      <td>#legendary #footballer @jksheva7 &amp;amp; @priyes...</td>\n",
       "      <td>False</td>\n",
       "      <td>{'lang': 'en', 'profile_text_color': '333333',...</td>\n",
       "    </tr>\n",
       "  </tbody>\n",
       "</table>\n",
       "<p>1 rows × 29 columns</p>\n",
       "</div>"
      ],
      "text/plain": [
       "  contributors coordinates           created_at  \\\n",
       "0         None        None  2016-05-03 23:57:57   \n",
       "\n",
       "                                            entities  favorite_count  \\\n",
       "0  {'user_mentions': [{'id_str': '509956457', 'sc...               1   \n",
       "\n",
       "  favorited   geo                  id              id_str  \\\n",
       "0     False  None  727648422103289857  727648422103289857   \n",
       "\n",
       "  in_reply_to_screen_name                        ...                          \\\n",
       "0                    None                        ...                           \n",
       "\n",
       "   quoted_status quoted_status_id  quoted_status_id_str retweet_count  \\\n",
       "0            NaN              NaN                   NaN             1   \n",
       "\n",
       "  retweeted scopes                                             source  \\\n",
       "0     False    NaN  <a href=\"http://twitter.com/download/iphone\" r...   \n",
       "\n",
       "                                                text truncated  \\\n",
       "0  #legendary #footballer @jksheva7 &amp; @priyes...     False   \n",
       "\n",
       "                                                user  \n",
       "0  {'lang': 'en', 'profile_text_color': '333333',...  \n",
       "\n",
       "[1 rows x 29 columns]"
      ]
     },
     "execution_count": 9,
     "metadata": {},
     "output_type": "execute_result"
    }
   ],
   "source": [
    "df.head(1)"
   ]
  },
  {
   "cell_type": "markdown",
   "metadata": {},
   "source": [
    "#### clean text field\n",
    "- remove new lines, carriage returns"
   ]
  },
  {
   "cell_type": "code",
   "execution_count": 10,
   "metadata": {
    "collapsed": true
   },
   "outputs": [],
   "source": [
    "df['text'] = df['text'].apply(lambda s: s.replace('\\n', ' ').replace('\\r', ' '))"
   ]
  },
  {
   "cell_type": "markdown",
   "metadata": {},
   "source": [
    "#### source\n",
    "- extract source text from html source object"
   ]
  },
  {
   "cell_type": "code",
   "execution_count": 11,
   "metadata": {
    "collapsed": false
   },
   "outputs": [],
   "source": [
    "df['source'] = df['source'].apply(lambda s: BeautifulSoup(s, 'html.parser').text)"
   ]
  },
  {
   "cell_type": "markdown",
   "metadata": {},
   "source": [
    "#### coordinates\n",
    "- extract lat, lon from tweet if known, else NaN"
   ]
  },
  {
   "cell_type": "code",
   "execution_count": 12,
   "metadata": {
    "collapsed": false
   },
   "outputs": [],
   "source": [
    "df['longitude'] = df['coordinates'].apply(lambda c: (c['coordinates'][0] if c != None else np.nan))\n",
    "df['latitude'] = df['coordinates'].apply(lambda c: (c['coordinates'][1] if c != None else np.nan))"
   ]
  },
  {
   "cell_type": "markdown",
   "metadata": {},
   "source": [
    "#### place\n",
    "- extract place name, country if known else NaN\n",
    "- place also contains geojson object, place type etc. ((documentation)[https://dev.twitter.com/overview/api/places])"
   ]
  },
  {
   "cell_type": "code",
   "execution_count": 13,
   "metadata": {
    "collapsed": false
   },
   "outputs": [],
   "source": [
    "df['place_country'] = df['place'].apply(lambda p: (p['country'] if p != None else np.nan))\n",
    "df['place_name'] = df['place'].apply(lambda p: (p['full_name'] if p != None else np.nan))"
   ]
  },
  {
   "cell_type": "markdown",
   "metadata": {},
   "source": [
    "#### classify tweet type\n",
    "- check for 'media' key in entities dictionary, else 'text'"
   ]
  },
  {
   "cell_type": "code",
   "execution_count": 14,
   "metadata": {
    "collapsed": false
   },
   "outputs": [],
   "source": [
    "df['tweet_type'] = df['entities'].apply(lambda e: ['text','media']['media' in e])"
   ]
  },
  {
   "cell_type": "markdown",
   "metadata": {},
   "source": [
    "#### mark retweets\n",
    "- using character matching to 'RT @' or 'RT :'"
   ]
  },
  {
   "cell_type": "code",
   "execution_count": 15,
   "metadata": {
    "collapsed": false
   },
   "outputs": [],
   "source": [
    "df['is_retweet'] = df['text'].apply(lambda t: [0,1][t.startswith(('RT @', 'RT :'))])"
   ]
  },
  {
   "cell_type": "markdown",
   "metadata": {},
   "source": [
    "#### mark replies\n",
    "- using twitter's 'in_reply_to_status_id' field, where not null is encoded 1 as reply"
   ]
  },
  {
   "cell_type": "code",
   "execution_count": 16,
   "metadata": {
    "collapsed": false
   },
   "outputs": [],
   "source": [
    "df['is_reply'] = df['in_reply_to_status_id'].apply(lambda r: [1,0][np.isnan(r)])"
   ]
  },
  {
   "cell_type": "markdown",
   "metadata": {},
   "source": [
    "#### mark quoted tweets\n",
    "- using twitter's 'quoted_status_id' field, where not null is encoded 1 as quoted tweet"
   ]
  },
  {
   "cell_type": "code",
   "execution_count": 17,
   "metadata": {
    "collapsed": false
   },
   "outputs": [],
   "source": [
    "df['is_quoted_tweet'] = df['quoted_status_id'].apply(lambda r: [1,0][np.isnan(r)])"
   ]
  },
  {
   "cell_type": "markdown",
   "metadata": {},
   "source": [
    "#### transform useful data\n",
    "- using twitter's nicely organized entities, user objects\n",
    "- extract entities ([documentation](https://dev.twitter.com/overview/api/entities-in-twitter-objects#tweets))\n",
    "- extract user info ([documentation](https://dev.twitter.com/overview/api/entities-in-twitter-objects#users))\n",
    "- some info was ignored for the purpose of this project"
   ]
  },
  {
   "cell_type": "code",
   "execution_count": 18,
   "metadata": {
    "collapsed": true
   },
   "outputs": [],
   "source": [
    "#entities\n",
    "df['entities_media'] = df['entities'].apply(lambda e: [media['media_url_https'] for media in (e['media'] if 'media' in e else {})])\n",
    "df['entities_urls'] = df['entities'].apply(lambda e: [url for url in [urlobject['expanded_url'] for urlobject in e['urls']]])\n",
    "df['entities_mentions'] = df['entities'].apply(lambda e: [mention for mention in [mentionobject['screen_name'] for mentionobject in e['user_mentions']]])\n",
    "df['entities_hashtags'] = df['entities'].apply(lambda e: [tag for tag in [tagobject['text'] for tagobject in e['hashtags']]])"
   ]
  },
  {
   "cell_type": "code",
   "execution_count": 19,
   "metadata": {
    "collapsed": false
   },
   "outputs": [],
   "source": [
    "#user\n",
    "df['user_id_str'] = df['user'].apply(lambda u: u['id_str'])\n",
    "df['user_screen_name'] = df['user'].apply(lambda u: u['screen_name'].replace('\\n', '').replace('\\r', ''))\n",
    "df['user_created_at'] = df['user'].apply(lambda u: pd.to_datetime(u['created_at'], format='%a %b %d %H:%M:%S +0000 %Y'))\n",
    "df['user_description'] = df['user'].apply(lambda u: u['description'].replace('\\n', ' ').replace('\\r', ' '))\n",
    "df['user_location'] = df['user'].apply(lambda u: u['location'].replace('\\n', ' ').replace('\\r', ' '))\n",
    "df['user_default_profile'] = df['user'].apply(lambda u: u['default_profile'])\n",
    "df['user_default_profile_image'] = df['user'].apply(lambda u: u['default_profile_image'])\n",
    "df['user_verified'] = df['user'].apply(lambda u: u['verified'])\n",
    "df['user_statuses'] = df['user'].apply(lambda u: u['statuses_count'])\n",
    "df['user_favourites'] = df['user'].apply(lambda u: u['favourites_count'])\n",
    "df['user_followers'] = df['user'].apply(lambda u: u['followers_count'])\n",
    "df['user_friends'] = df['user'].apply(lambda u: u['friends_count'])\n",
    "df['user_listed'] = df['user'].apply(lambda u: u['listed_count'])"
   ]
  },
  {
   "cell_type": "markdown",
   "metadata": {},
   "source": [
    "#### apply output columns filter"
   ]
  },
  {
   "cell_type": "code",
   "execution_count": 20,
   "metadata": {
    "collapsed": false
   },
   "outputs": [
    {
     "data": {
      "text/plain": [
       "(29859, 33)"
      ]
     },
     "execution_count": 20,
     "metadata": {},
     "output_type": "execute_result"
    }
   ],
   "source": [
    "df = df[cols]\n",
    "df.shape"
   ]
  },
  {
   "cell_type": "code",
   "execution_count": 21,
   "metadata": {
    "collapsed": false
   },
   "outputs": [
    {
     "data": {
      "text/html": [
       "<div>\n",
       "<table border=\"1\" class=\"dataframe\">\n",
       "  <thead>\n",
       "    <tr style=\"text-align: right;\">\n",
       "      <th></th>\n",
       "      <th>id_str</th>\n",
       "      <th>created_at</th>\n",
       "      <th>source</th>\n",
       "      <th>longitude</th>\n",
       "      <th>latitude</th>\n",
       "      <th>place_country</th>\n",
       "      <th>place_name</th>\n",
       "      <th>text</th>\n",
       "      <th>lang</th>\n",
       "      <th>tweet_type</th>\n",
       "      <th>...</th>\n",
       "      <th>user_description</th>\n",
       "      <th>user_location</th>\n",
       "      <th>user_default_profile</th>\n",
       "      <th>user_default_profile_image</th>\n",
       "      <th>user_verified</th>\n",
       "      <th>user_statuses</th>\n",
       "      <th>user_favourites</th>\n",
       "      <th>user_followers</th>\n",
       "      <th>user_friends</th>\n",
       "      <th>user_listed</th>\n",
       "    </tr>\n",
       "  </thead>\n",
       "  <tbody>\n",
       "    <tr>\n",
       "      <th>0</th>\n",
       "      <td>727648422103289857</td>\n",
       "      <td>2016-05-03 23:57:57</td>\n",
       "      <td>Twitter for iPhone</td>\n",
       "      <td>NaN</td>\n",
       "      <td>NaN</td>\n",
       "      <td>NaN</td>\n",
       "      <td>NaN</td>\n",
       "      <td>#legendary #footballer @jksheva7 &amp;amp; @priyes...</td>\n",
       "      <td>en</td>\n",
       "      <td>media</td>\n",
       "      <td>...</td>\n",
       "      <td>FA Registered Intermediary, Part of the #OneCl...</td>\n",
       "      <td>London, England</td>\n",
       "      <td>True</td>\n",
       "      <td>False</td>\n",
       "      <td>False</td>\n",
       "      <td>56</td>\n",
       "      <td>15</td>\n",
       "      <td>75</td>\n",
       "      <td>249</td>\n",
       "      <td>0</td>\n",
       "    </tr>\n",
       "  </tbody>\n",
       "</table>\n",
       "<p>1 rows × 33 columns</p>\n",
       "</div>"
      ],
      "text/plain": [
       "               id_str           created_at              source  longitude  \\\n",
       "0  727648422103289857  2016-05-03 23:57:57  Twitter for iPhone        NaN   \n",
       "\n",
       "   latitude place_country place_name  \\\n",
       "0       NaN           NaN        NaN   \n",
       "\n",
       "                                                text lang tweet_type  \\\n",
       "0  #legendary #footballer @jksheva7 &amp; @priyes...   en      media   \n",
       "\n",
       "      ...                                        user_description  \\\n",
       "0     ...       FA Registered Intermediary, Part of the #OneCl...   \n",
       "\n",
       "     user_location  user_default_profile  user_default_profile_image  \\\n",
       "0  London, England                  True                       False   \n",
       "\n",
       "  user_verified user_statuses user_favourites user_followers  user_friends  \\\n",
       "0         False            56              15             75           249   \n",
       "\n",
       "   user_listed  \n",
       "0            0  \n",
       "\n",
       "[1 rows x 33 columns]"
      ]
     },
     "execution_count": 21,
     "metadata": {},
     "output_type": "execute_result"
    }
   ],
   "source": [
    "df.head(1)"
   ]
  },
  {
   "cell_type": "markdown",
   "metadata": {
    "collapsed": true
   },
   "source": [
    "#### (OPTIONAL)\n",
    "- merge data with existing if search was not complete"
   ]
  },
  {
   "cell_type": "code",
   "execution_count": 22,
   "metadata": {
    "collapsed": false
   },
   "outputs": [],
   "source": [
    "#df_ex = pd.read_table('data/final/query_%s_data_backup.txt' % keyword, sep='\\t', encoding='utf-8', header=0)\n",
    "#df_ex.shape"
   ]
  },
  {
   "cell_type": "code",
   "execution_count": 23,
   "metadata": {
    "collapsed": false
   },
   "outputs": [],
   "source": [
    "#concat (sql union) new with existing\n",
    "#df = pd.concat([df, df_ex])df = pd.concat([df, df_ex])\n",
    "#df.shape"
   ]
  },
  {
   "cell_type": "code",
   "execution_count": 24,
   "metadata": {
    "collapsed": false
   },
   "outputs": [],
   "source": [
    "#dedupe new merged on twitter id, in case of searching errors\n",
    "#df.drop_duplicates('id_str', inplace=True)\n",
    "#df.shape"
   ]
  },
  {
   "cell_type": "markdown",
   "metadata": {},
   "source": [
    "#### write to file"
   ]
  },
  {
   "cell_type": "code",
   "execution_count": 25,
   "metadata": {
    "collapsed": true
   },
   "outputs": [],
   "source": [
    "#write new data to file\n",
    "df.to_csv('data/final/query_%s_data.txt' % keyword, sep='\\t', encoding='utf-8', header=True, index=False)"
   ]
  },
  {
   "cell_type": "markdown",
   "metadata": {},
   "source": [
    "#### datetime\n",
    "- convert string to pandas datetime\n",
    "- used for plotting, and datetime accessors\n",
    "- twitter datetime was already converted to 'YYYY-MM-DD' in searching script\n",
    "- alternatively, use the below twitter datetime conversion\n",
    "\n",
    "```\n",
    "pd.to_datetime(df['created_at'], format='%a %b %d %H:%M:%S +0000 %Y')\n",
    "```"
   ]
  },
  {
   "cell_type": "code",
   "execution_count": 26,
   "metadata": {
    "collapsed": false
   },
   "outputs": [],
   "source": [
    "df.loc[:,('created_at')] = pd.to_datetime(df['created_at'])\n",
    "df = df.sort_values(by='created_at', ascending=True)"
   ]
  },
  {
   "cell_type": "markdown",
   "metadata": {},
   "source": [
    "#### plot timeseries of search\n",
    "- get tweet volume counts on frequency level hour\n",
    "- useful time groupers offset aliases: 'D'=day H'=hour 'T'=minute [documentation](http://pandas.pydata.org/pandas-docs/stable/timeseries.html#offset-aliases)\n",
    "- note twitter times are UTC"
   ]
  },
  {
   "cell_type": "code",
   "execution_count": 27,
   "metadata": {
    "collapsed": false
   },
   "outputs": [
    {
     "data": {
      "text/plain": [
       "<matplotlib.axes._subplots.AxesSubplot at 0x21af02e8>"
      ]
     },
     "execution_count": 27,
     "metadata": {},
     "output_type": "execute_result"
    },
    {
     "data": {
      "image/png": "[encoded data removed]",
      "text/plain": [
       "<matplotlib.figure.Figure at 0x2196a518>"
      ]
     },
     "metadata": {},
     "output_type": "display_data"
    }
   ],
   "source": [
    "#reindex to datetime, groupby hour, count id's\n",
    "d = df.set_index('created_at').groupby([pd.TimeGrouper(freq='H')])['id_str'].agg(['count'])\n",
    "#plot\n",
    "d.plot(figsize=(16,6),\n",
    "       legend=True,\n",
    "       title='Volume Over Time : \"%s\"' % keyword)"
   ]
  },
  {
   "cell_type": "markdown",
   "metadata": {},
   "source": [
    "## Define Event\n",
    "#### date range\n",
    "- we define the data range as -1 day to +1 day from the event date in UTC time\n",
    "- this way we can comfortable handle global events\n",
    "- plot tweet volume over time on minute"
   ]
  },
  {
   "cell_type": "code",
   "execution_count": 28,
   "metadata": {
    "collapsed": false
   },
   "outputs": [
    {
     "name": "stdout",
     "output_type": "stream",
     "text": [
      "Enter Event Date (YYYY-MM-DD): 2016-05-02\n"
     ]
    }
   ],
   "source": [
    "event_date = pd.to_datetime(input('Enter Event Date (YYYY-MM-DD): '))"
   ]
  },
  {
   "cell_type": "code",
   "execution_count": 29,
   "metadata": {
    "collapsed": false
   },
   "outputs": [
    {
     "name": "stdout",
     "output_type": "stream",
     "text": [
      "START:  2016-05-01 00:00:00 FINISH:  2016-05-04 00:00:00\n"
     ]
    }
   ],
   "source": [
    "start = event_date - DateOffset(days=1)\n",
    "finish = event_date + DateOffset(days=2)\n",
    "print('START: ', start, 'FINISH: ', finish)"
   ]
  },
  {
   "cell_type": "code",
   "execution_count": 30,
   "metadata": {
    "collapsed": false,
    "scrolled": false
   },
   "outputs": [
    {
     "data": {
      "image/png": "[encoded data removed]",
      "text/plain": [
       "<matplotlib.figure.Figure at 0x238a8828>"
      ]
     },
     "metadata": {},
     "output_type": "display_data"
    }
   ],
   "source": [
    "#reindex to datetime, groupby hour, count id's\n",
    "d = df.set_index('created_at').groupby([pd.TimeGrouper(freq='T')])['id_str'].agg(['count'])\n",
    "#plot\n",
    "d.plot(figsize=(16,6),\n",
    "       legend=True,\n",
    "       xlim=(start, finish),\n",
    "       title='Volume Over Time : \"%s\"' % keyword)\n",
    "#get current figure, save\n",
    "fig = plt.gcf()\n",
    "fig.savefig('query_twitter_%s.png' % keyword)"
   ]
  },
  {
   "cell_type": "markdown",
   "metadata": {},
   "source": [
    "#### trim excess tweets"
   ]
  },
  {
   "cell_type": "code",
   "execution_count": 31,
   "metadata": {
    "collapsed": false
   },
   "outputs": [
    {
     "data": {
      "text/plain": [
       "(29808, 33)"
      ]
     },
     "execution_count": 31,
     "metadata": {},
     "output_type": "execute_result"
    }
   ],
   "source": [
    "df = df[(df['created_at'] >= start) & (df['created_at'] < finish)]\n",
    "df.shape"
   ]
  },
  {
   "cell_type": "markdown",
   "metadata": {},
   "source": [
    "#### create master database\n",
    "- add index as master id, rename twitter id\n",
    "- export master event file"
   ]
  },
  {
   "cell_type": "code",
   "execution_count": 32,
   "metadata": {
    "collapsed": true
   },
   "outputs": [],
   "source": [
    "df.reset_index(drop=True, inplace=True)\n",
    "df = df.reset_index().rename(columns={'index' : 'master_id', 'id_str' : 'twitter_id'})"
   ]
  },
  {
   "cell_type": "code",
   "execution_count": 33,
   "metadata": {
    "collapsed": false
   },
   "outputs": [
    {
     "name": "stdout",
     "output_type": "stream",
     "text": [
      "Enter Event Name: Chelsea vs. Tottenham Premier League Match\n",
      "ChelseavsTottenhamPremierLeagueMatch\n"
     ]
    }
   ],
   "source": [
    "event_name = input('Enter Event Name: ')\n",
    "event_filename = re.sub(\"\\W+\", \"\", event_name.strip())\n",
    "print(event_filename)"
   ]
  },
  {
   "cell_type": "code",
   "execution_count": 34,
   "metadata": {
    "collapsed": true
   },
   "outputs": [],
   "source": [
    "df.to_csv('data/final/event_%s_data.txt' % event_filename, sep='\\t', encoding='utf-8', header=True, index=False)"
   ]
  },
  {
   "cell_type": "markdown",
   "metadata": {},
   "source": [
    "#### get annotation data\n",
    "- define data that will go to crowdflower for annotation\n",
    "- exclude retweets, replies\n",
    "- add event title, description\n",
    "- sample 10k, set seed"
   ]
  },
  {
   "cell_type": "code",
   "execution_count": 35,
   "metadata": {
    "collapsed": true
   },
   "outputs": [],
   "source": [
    "df_forann = df[(df['is_retweet'] == 0) & (df['is_reply'] == 0)][['master_id', 'twitter_id', 'text']]"
   ]
  },
  {
   "cell_type": "code",
   "execution_count": 36,
   "metadata": {
    "collapsed": false
   },
   "outputs": [
    {
     "name": "stdout",
     "output_type": "stream",
     "text": [
      "Enter Event Description: The 2015–2016 Premier League is the 24th season of the Premier League, the top English professional league for association football clubs, since its establishment in 1992.\n"
     ]
    }
   ],
   "source": [
    "df_forann.loc[:,'event'] = event_name\n",
    "df_forann.loc[:,'event_description'] = input('Enter Event Description: ')"
   ]
  },
  {
   "cell_type": "code",
   "execution_count": 37,
   "metadata": {
    "collapsed": false
   },
   "outputs": [],
   "source": [
    "#no retweets, only text\n",
    "df_forann_smpl = df_forann.sample(10000, random_state=2016)\n",
    "#format for crowdflower import\n",
    "#delimited by ;\n",
    "#double quote strings\n",
    "df_forann_smpl.to_csv('data/final/event_%s_annsample.csv' % event_filename, sep=',', quoting=csv.QUOTE_NONNUMERIC, encoding='utf-8', header=True, index=False)"
   ]
  },
  {
   "cell_type": "markdown",
   "metadata": {},
   "source": [
    "### Explore Data\n",
    "#### tweet type\n",
    "* plot tweet counts by type"
   ]
  },
  {
   "cell_type": "code",
   "execution_count": 38,
   "metadata": {
    "collapsed": false
   },
   "outputs": [
    {
     "data": {
      "text/plain": [
       "<matplotlib.axes._subplots.AxesSubplot at 0x2378a8d0>"
      ]
     },
     "execution_count": 38,
     "metadata": {},
     "output_type": "execute_result"
    },
    {
     "data": {
      "image/png": "[encoded data removed]",
      "text/plain": [
       "<matplotlib.figure.Figure at 0x21871dd8>"
      ]
     },
     "metadata": {},
     "output_type": "display_data"
    }
   ],
   "source": [
    "df.groupby('tweet_type')['twitter_id'].agg(['count']).plot(kind='bar', title='Tweet Type')"
   ]
  },
  {
   "cell_type": "code",
   "execution_count": 39,
   "metadata": {
    "collapsed": false
   },
   "outputs": [
    {
     "data": {
      "text/plain": [
       "tweet_type\n",
       "media    Axes(0.125,0.2;0.775x0.7)\n",
       "text     Axes(0.125,0.2;0.775x0.7)\n",
       "Name: count, dtype: object"
      ]
     },
     "execution_count": 39,
     "metadata": {},
     "output_type": "execute_result"
    },
    {
     "data": {
      "image/png": "[encoded data removed]",
      "text/plain": [
       "<matplotlib.figure.Figure at 0x24f4bf60>"
      ]
     },
     "metadata": {},
     "output_type": "display_data"
    }
   ],
   "source": [
    "#reindex to datetime, groupby hour and tweet type, count id's\n",
    "d = df.set_index('created_at').groupby([pd.TimeGrouper(freq='T'), 'tweet_type'])['twitter_id'].agg(['count'])\n",
    "#reset index groupby object for time series plotting\n",
    "d = d.reset_index().set_index('created_at')\n",
    "#plot count by retweet category\n",
    "d.groupby('tweet_type')['count'].plot(figsize=(16,6),\n",
    "                                      legend=True,\n",
    "                                      xlim=(start, finish),\n",
    "                                      title='Tweet Type Volume Over Time : \"%s\"' % keyword)"
   ]
  },
  {
   "cell_type": "markdown",
   "metadata": {},
   "source": [
    "#### source utility\n",
    "* plot tweet counts by top 10 source utility"
   ]
  },
  {
   "cell_type": "code",
   "execution_count": 40,
   "metadata": {
    "collapsed": false
   },
   "outputs": [
    {
     "data": {
      "text/plain": [
       "<matplotlib.axes._subplots.AxesSubplot at 0x25079d30>"
      ]
     },
     "execution_count": 40,
     "metadata": {},
     "output_type": "execute_result"
    },
    {
     "data": {
      "image/png": "[encoded data removed]",
      "text/plain": [
       "<matplotlib.figure.Figure at 0x250be438>"
      ]
     },
     "metadata": {},
     "output_type": "display_data"
    }
   ],
   "source": [
    "df.groupby('source')['twitter_id'].agg(['count']).sort_values(by='count', ascending=True)[-10:].plot(kind='barh', figsize=(8,5), title='Source Utility')"
   ]
  },
  {
   "cell_type": "markdown",
   "metadata": {},
   "source": [
    "#### source place\n",
    "* plot tweet counts by top 10 place names\n",
    "* this data is user specificed, and not consistent/clean"
   ]
  },
  {
   "cell_type": "code",
   "execution_count": 41,
   "metadata": {
    "collapsed": false
   },
   "outputs": [
    {
     "data": {
      "text/plain": [
       "<matplotlib.axes._subplots.AxesSubplot at 0x2516af60>"
      ]
     },
     "execution_count": 41,
     "metadata": {},
     "output_type": "execute_result"
    },
    {
     "data": {
      "image/png": "[encoded data removed]",
      "text/plain": [
       "<matplotlib.figure.Figure at 0x23782668>"
      ]
     },
     "metadata": {},
     "output_type": "display_data"
    }
   ],
   "source": [
    "df.groupby('place_name')['twitter_id'].agg(['count']).sort_values(by='count', ascending=True)[-10:].plot(kind='barh', figsize=(8,5), title='Place Name')"
   ]
  },
  {
   "cell_type": "markdown",
   "metadata": {},
   "source": [
    "#### tweet attributes\n",
    "* our search excluded retweets already\n",
    "* although we can see how many, if any, fell through the cracks\n",
    "* look at percent of quotes and replies which also will not be used in final summary"
   ]
  },
  {
   "cell_type": "code",
   "execution_count": 42,
   "metadata": {
    "collapsed": false
   },
   "outputs": [
    {
     "data": {
      "text/plain": [
       "<matplotlib.axes._subplots.AxesSubplot at 0x251ffc50>"
      ]
     },
     "execution_count": 42,
     "metadata": {},
     "output_type": "execute_result"
    },
    {
     "data": {
      "image/png": "[encoded data removed]",
      "text/plain": [
       "<matplotlib.figure.Figure at 0x23871518>"
      ]
     },
     "metadata": {},
     "output_type": "display_data"
    }
   ],
   "source": [
    "#How many retweets v non?\n",
    "d = df.groupby('is_retweet')['twitter_id'].agg(['count'])\n",
    "d['percent'] = d['count']/df.shape[0]\n",
    "d['percent'].plot(kind='pie',\n",
    "                  figsize=[4,4],\n",
    "                  autopct='%.2f',\n",
    "                  title='Is Retweet: 0=No, 1=Yes')"
   ]
  },
  {
   "cell_type": "code",
   "execution_count": 43,
   "metadata": {
    "collapsed": false
   },
   "outputs": [
    {
     "data": {
      "text/plain": [
       "<matplotlib.axes._subplots.AxesSubplot at 0x25245390>"
      ]
     },
     "execution_count": 43,
     "metadata": {},
     "output_type": "execute_result"
    },
    {
     "data": {
      "image/png": "[encoded data removed]",
      "text/plain": [
       "<matplotlib.figure.Figure at 0x2524c588>"
      ]
     },
     "metadata": {},
     "output_type": "display_data"
    }
   ],
   "source": [
    "#How many quoted tweets v non?\n",
    "d = df.groupby('is_quoted_tweet')['twitter_id'].agg(['count'])\n",
    "d['percent'] = d['count']/df.shape[0]\n",
    "d['percent'].plot(kind='pie',\n",
    "                  figsize=[4,4],\n",
    "                  autopct='%.2f',\n",
    "                  title='Is Quoted Tweet: 0=No, 1=Yes')"
   ]
  },
  {
   "cell_type": "code",
   "execution_count": 44,
   "metadata": {
    "collapsed": false
   },
   "outputs": [
    {
     "data": {
      "text/plain": [
       "<matplotlib.axes._subplots.AxesSubplot at 0x25295dd8>"
      ]
     },
     "execution_count": 44,
     "metadata": {},
     "output_type": "execute_result"
    },
    {
     "data": {
      "image/png": "[encoded data removed]",
      "text/plain": [
       "<matplotlib.figure.Figure at 0x252a1a58>"
      ]
     },
     "metadata": {},
     "output_type": "display_data"
    }
   ],
   "source": [
    "#How many replies v non?\n",
    "d = df.groupby('is_reply')['twitter_id'].agg(['count'])\n",
    "d['percent'] = d['count']/df.shape[0]\n",
    "#d['percent'].plot(kind='bar', ylim=[0,1])\n",
    "d['percent'].plot(kind='pie',\n",
    "                  figsize=[4,4],\n",
    "                  autopct='%.2f',\n",
    "                  title='Is Reply: 0=No, 1=Yes')"
   ]
  }
 ],
 "metadata": {
  "kernelspec": {
   "display_name": "Python 3",
   "language": "python",
   "name": "python3"
  },
  "language_info": {
   "codemirror_mode": {
    "name": "ipython",
    "version": 3
   },
   "file_extension": ".py",
   "mimetype": "text/x-python",
   "name": "python",
   "nbconvert_exporter": "python",
   "pygments_lexer": "ipython3",
   "version": "3.4.4"
  }
 },
 "nbformat": 4,
 "nbformat_minor": 0
}
