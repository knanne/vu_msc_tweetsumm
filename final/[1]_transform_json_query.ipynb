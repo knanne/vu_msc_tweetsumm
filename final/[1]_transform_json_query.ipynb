{
 "cells": [
  {
   "cell_type": "code",
   "execution_count": 1,
   "metadata": {
    "collapsed": true
   },
   "outputs": [],
   "source": [
    "import pandas as pd\n",
    "import json"
   ]
  },
  {
   "cell_type": "code",
   "execution_count": 2,
   "metadata": {
    "collapsed": false
   },
   "outputs": [],
   "source": [
    "#import plotting library\n",
    "import matplotlib.pyplot as plt\n",
    "import matplotlib\n",
    "matplotlib.style.use('ggplot')\n",
    "%matplotlib inline"
   ]
  },
  {
   "cell_type": "code",
   "execution_count": 3,
   "metadata": {
    "collapsed": true
   },
   "outputs": [],
   "source": [
    "#define data objects as pandas columns to save from twitter json\n",
    "cols = [\n",
    "    'id_str',\n",
    "    'created_at',\n",
    "    'coordinates',\n",
    "    'text',\n",
    "    'entities',\n",
    "    'favorite_count',\n",
    "    'retweet_count',\n",
    "    'user']\n",
    "\n",
    "#define final output data format for this script\n",
    "newcols = [\n",
    "    'id_str',\n",
    "    'created_at',\n",
    "    'coordinates',\n",
    "    'text',\n",
    "    'tweet_type',\n",
    "    'is_retweet',\n",
    "    'favorite_count',\n",
    "    'retweet_count',\n",
    "    'entities_count_hashtags',\n",
    "    'entities_count_symbols',\n",
    "    'entities_count_urls',\n",
    "    'entities_count_user_mentions',\n",
    "    'user_id_str',\n",
    "    'user_id_screen_name',\n",
    "    'user_id_verified',\n",
    "    'user_id_statuses_count',\n",
    "    'user_id_favourites_count',\n",
    "    'user_id_followers_count',\n",
    "    'user_id_friends_count',\n",
    "    'user_id_listed_count']"
   ]
  },
  {
   "cell_type": "code",
   "execution_count": 5,
   "metadata": {
    "collapsed": true
   },
   "outputs": [],
   "source": [
    "#twitter was searching using GET search/tweets API\n",
    "#json was writting to [keyword]_twitter_search_raw.json file\n",
    "#where each row in file is a tweet object"
   ]
  },
  {
   "cell_type": "code",
   "execution_count": 6,
   "metadata": {
    "collapsed": true
   },
   "outputs": [],
   "source": [
    "#this below script is written to be run for each query term"
   ]
  },
  {
   "cell_type": "code",
   "execution_count": 58,
   "metadata": {
    "collapsed": false
   },
   "outputs": [
    {
     "name": "stdout",
     "output_type": "stream",
     "text": [
      "Enter Twitter Query Term: Fonseca\n"
     ]
    }
   ],
   "source": [
    "keyword = input('Enter Twitter Query Term: ')"
   ]
  },
  {
   "cell_type": "code",
   "execution_count": 59,
   "metadata": {
    "collapsed": false
   },
   "outputs": [
    {
     "data": {
      "text/plain": [
       "'fonseca'"
      ]
     },
     "execution_count": 59,
     "metadata": {},
     "output_type": "execute_result"
    }
   ],
   "source": [
    "keyword = keyword.replace(' ', '_').lower()\n",
    "keyword"
   ]
  },
  {
   "cell_type": "code",
   "execution_count": null,
   "metadata": {
    "collapsed": false
   },
   "outputs": [],
   "source": [
    "%%time\n",
    "#import raw data, line json objects to list\n",
    "raw_data = []\n",
    "with open('data/[%s]_twitter_search_raw.json' % keyword) as f:\n",
    "    for line in f:\n",
    "        raw_data.append(json.loads(line))\n",
    "\n",
    "#convert list of json objects to pandas dataframe\n",
    "raw_df = pd.DataFrame(raw_data)"
   ]
  },
  {
   "cell_type": "code",
   "execution_count": 45,
   "metadata": {
    "collapsed": false
   },
   "outputs": [
    {
     "data": {
      "text/plain": [
       "(7457, 8)"
      ]
     },
     "execution_count": 45,
     "metadata": {},
     "output_type": "execute_result"
    }
   ],
   "source": [
    "#save only data the from json we want\n",
    "raw_df = raw_df[cols]\n",
    "raw_df.shape"
   ]
  },
  {
   "cell_type": "code",
   "execution_count": 46,
   "metadata": {
    "collapsed": false
   },
   "outputs": [
    {
     "data": {
      "text/plain": [
       "(7381, 8)"
      ]
     },
     "execution_count": 46,
     "metadata": {},
     "output_type": "execute_result"
    }
   ],
   "source": [
    "#dedupe on twitter id, in case of searching errors\n",
    "#this may take a while on large datasets (> 500K)\n",
    "raw_df = raw_df.drop_duplicates('id_str')\n",
    "raw_df.shape"
   ]
  },
  {
   "cell_type": "code",
   "execution_count": 47,
   "metadata": {
    "collapsed": true
   },
   "outputs": [],
   "source": [
    "#clean text field\n",
    "#this may take a while on a large dataset\n",
    "raw_df['text'] = raw_df['text'].apply(lambda s: s.replace('\\n', ' ').replace('\\r', ' '))"
   ]
  },
  {
   "cell_type": "code",
   "execution_count": 48,
   "metadata": {
    "collapsed": true
   },
   "outputs": [],
   "source": [
    "#extract and create tweet_type feild\n",
    "raw_df['tweet_type'] = raw_df['entities'].apply(lambda e: e['media'][0]['type'] if 'media' in e else 'text')"
   ]
  },
  {
   "cell_type": "code",
   "execution_count": 49,
   "metadata": {
    "collapsed": true
   },
   "outputs": [],
   "source": [
    "#mark retweets in the data\n",
    "raw_df['is_retweet'] = raw_df['text'].apply(lambda t: t.startswith(('RT @', 'RT :')))"
   ]
  },
  {
   "cell_type": "code",
   "execution_count": 50,
   "metadata": {
    "collapsed": true
   },
   "outputs": [],
   "source": [
    "#create some features now while we have twitter's nicely organized objects\n",
    "#on entities\n",
    "raw_df['entities_count_hashtags'] = raw_df['entities'].apply(lambda e: len(e['hashtags']))\n",
    "raw_df['entities_count_symbols'] = raw_df['entities'].apply(lambda e: len(e['symbols']))\n",
    "raw_df['entities_count_urls'] = raw_df['entities'].apply(lambda e: len(e['urls']))\n",
    "raw_df['entities_count_user_mentions'] = raw_df['entities'].apply(lambda e: len(e['user_mentions']))\n",
    "#on user\n",
    "raw_df['user_id_str'] = raw_df['user'].apply(lambda u: u['id_str'])\n",
    "raw_df['user_id_screen_name'] = raw_df['user'].apply(lambda u: u['screen_name'].replace('\\n', '').replace('\\r', ''))\n",
    "raw_df['user_id_verified'] = raw_df['user'].apply(lambda u: u['verified'])\n",
    "raw_df['user_id_statuses_count'] = raw_df['user'].apply(lambda u: u['statuses_count'])\n",
    "raw_df['user_id_favourites_count'] = raw_df['user'].apply(lambda u: u['favourites_count'])\n",
    "raw_df['user_id_followers_count'] = raw_df['user'].apply(lambda u: u['followers_count'])\n",
    "raw_df['user_id_friends_count'] = raw_df['user'].apply(lambda u: u['friends_count'])\n",
    "raw_df['user_id_listed_count'] = raw_df['user'].apply(lambda u: u['listed_count'])"
   ]
  },
  {
   "cell_type": "code",
   "execution_count": 51,
   "metadata": {
    "collapsed": false
   },
   "outputs": [
    {
     "data": {
      "text/plain": [
       "(7381, 20)"
      ]
     },
     "execution_count": 51,
     "metadata": {},
     "output_type": "execute_result"
    }
   ],
   "source": [
    "#remove larger json objects we don't need anymore (entities, user)\n",
    "df = raw_df[newcols]\n",
    "df.shape"
   ]
  },
  {
   "cell_type": "code",
   "execution_count": null,
   "metadata": {
    "collapsed": true
   },
   "outputs": [],
   "source": [
    "#MERGE WITH EXISTING DATA (IF EXISTING)"
   ]
  },
  {
   "cell_type": "code",
   "execution_count": 52,
   "metadata": {
    "collapsed": false
   },
   "outputs": [
    {
     "name": "stderr",
     "output_type": "stream",
     "text": [
      "c:\\miniconda3\\lib\\site-packages\\IPython\\core\\interactiveshell.py:2902: DtypeWarning: Columns (2) have mixed types. Specify dtype option on import or set low_memory=False.\n",
      "  interactivity=interactivity, compiler=compiler, result=result)\n"
     ]
    },
    {
     "data": {
      "text/plain": [
       "(167497, 20)"
      ]
     },
     "execution_count": 52,
     "metadata": {},
     "output_type": "execute_result"
    }
   ],
   "source": [
    "#df_ex = pd.read_table('data/final/[%s]_data.txt' % keyword, sep='\\t', encoding='utf-8', header=0)\n",
    "#df_ex.shape"
   ]
  },
  {
   "cell_type": "code",
   "execution_count": 53,
   "metadata": {
    "collapsed": false
   },
   "outputs": [
    {
     "data": {
      "text/plain": [
       "(174878, 20)"
      ]
     },
     "execution_count": 53,
     "metadata": {},
     "output_type": "execute_result"
    }
   ],
   "source": [
    "#df = pd.concat([df, df_ex])\n",
    "#df.shape"
   ]
  },
  {
   "cell_type": "code",
   "execution_count": null,
   "metadata": {
    "collapsed": true
   },
   "outputs": [],
   "source": [
    "#dedupe new merged on twitter id, in case of searching errors\n",
    "#df = df.drop_duplicates('id_str')\n",
    "#df.shape"
   ]
  },
  {
   "cell_type": "code",
   "execution_count": 54,
   "metadata": {
    "collapsed": true
   },
   "outputs": [],
   "source": [
    "#convert date format to python datetime (this is only for plotting, and using datetime accessors)\n",
    "df['created_at'] = pd.to_datetime(df['created_at'])\n",
    "#twitter datetime was already converted in searching script, if not convert using next line instead\n",
    "#raw_df['created_at'] = pd.to_datetime(raw_df['created_at'], format='%a %b %d %H:%M:%S +0000 %Y')"
   ]
  },
  {
   "cell_type": "code",
   "execution_count": 55,
   "metadata": {
    "collapsed": true
   },
   "outputs": [],
   "source": [
    "#sort data on date posted ascending\n",
    "df = df.sort_values(by='created_at', ascending=True)"
   ]
  },
  {
   "cell_type": "code",
   "execution_count": 56,
   "metadata": {
    "collapsed": false,
    "scrolled": false
   },
   "outputs": [
    {
     "data": {
      "image/png": "[encoded data removed]",
      "text/plain": [
       "<matplotlib.figure.Figure at 0x16ecc2e48>"
      ]
     },
     "metadata": {},
     "output_type": "display_data"
    }
   ],
   "source": [
    "#get tweet counts on level day\n",
    "d = df.set_index('created_at').groupby([pd.TimeGrouper(freq='H')])['id_str'].agg(['count'])\n",
    "#plot tweets by day\n",
    "d.plot(figsize=(16,6),\n",
    "       legend=True, \n",
    "       title='Volume Over Time : \"%s\"' % keyword)\n",
    "#get current figure, save\n",
    "fig = plt.gcf()\n",
    "fig.savefig('query_twitter_%s.png' % keyword)"
   ]
  },
  {
   "cell_type": "code",
   "execution_count": 57,
   "metadata": {
    "collapsed": true
   },
   "outputs": [],
   "source": [
    "#write new data to file\n",
    "df.to_csv('data/final/query_%s_data.txt' % keyword, sep='\\t', encoding='utf-8', header=True, index=False)"
   ]
  }
 ],
 "metadata": {
  "kernelspec": {
   "display_name": "Python 3",
   "language": "python",
   "name": "python3"
  },
  "language_info": {
   "codemirror_mode": {
    "name": "ipython",
    "version": 3
   },
   "file_extension": ".py",
   "mimetype": "text/x-python",
   "name": "python",
   "nbconvert_exporter": "python",
   "pygments_lexer": "ipython3",
   "version": "3.4.4"
  }
 },
 "nbformat": 4,
 "nbformat_minor": 0
}
