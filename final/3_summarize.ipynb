{
 "cells": [
  {
   "cell_type": "markdown",
   "metadata": {},
   "source": [
    "# Tweet Summarization:\n",
    "\n",
    "This is a basic implementation of the Phrase Reinforcement Algorithm proposed by Sharifi et al. for Twitter"
   ]
  },
  {
   "cell_type": "code",
   "execution_count": 3,
   "metadata": {
    "collapsed": true
   },
   "outputs": [],
   "source": [
    "import pandas as pd\n",
    "import numpy as np\n",
    "import operator\n",
    "import nltk\n",
    "import string\n",
    "from collections import Counter\n",
    "import math\n",
    "import re"
   ]
  },
  {
   "cell_type": "markdown",
   "metadata": {},
   "source": [
    "#### import data"
   ]
  },
  {
   "cell_type": "code",
   "execution_count": 4,
   "metadata": {
    "collapsed": false
   },
   "outputs": [
    {
     "name": "stdout",
     "output_type": "stream",
     "text": [
      "Enter Event Name: Monaco Grand Prix\n"
     ]
    }
   ],
   "source": [
    "event_name = input('Enter Event Name: ')\n",
    "event_filename = re.sub(\"\\W+\", \"\", event_name.strip())"
   ]
  },
  {
   "cell_type": "code",
   "execution_count": 5,
   "metadata": {
    "collapsed": false
   },
   "outputs": [
    {
     "data": {
      "text/plain": [
       "(64483, 35)"
      ]
     },
     "execution_count": 5,
     "metadata": {},
     "output_type": "execute_result"
    }
   ],
   "source": [
    "df = pd.read_csv('data/final/event_%s_data.txt' % event_filename, sep='\\t', encoding='utf-8', header=0, parse_dates=['created_at'], dtype={'twitter_id' : 'str'})\n",
    "df.set_index('twitter_id', inplace=True)\n",
    "df.shape"
   ]
  },
  {
   "cell_type": "code",
   "execution_count": 63,
   "metadata": {
    "collapsed": false
   },
   "outputs": [
    {
     "data": {
      "text/plain": [
       "(4315, 5)"
      ]
     },
     "execution_count": 63,
     "metadata": {},
     "output_type": "execute_result"
    }
   ],
   "source": [
    "dfsubevents = pd.read_csv('data/final/event_%s_subevents.txt' % event_filename, sep='\\t', encoding='utf-8', header=0, index_col=0)\n",
    "dfsubevents.shape"
   ]
  },
  {
   "cell_type": "markdown",
   "metadata": {},
   "source": [
    "### Get tweets from top k"
   ]
  },
  {
   "cell_type": "code",
   "execution_count": 72,
   "metadata": {
    "collapsed": true
   },
   "outputs": [],
   "source": [
    "k = 10"
   ]
  },
  {
   "cell_type": "code",
   "execution_count": 118,
   "metadata": {
    "collapsed": false
   },
   "outputs": [],
   "source": [
    "dftemp = df.reset_index()[['twitter_id', 'created_at']]\n",
    "dftemp['created_at'] = dftemp['created_at'].apply(lambda x: x.replace(second=0))\n",
    "dftemp.set_index(['created_at'], inplace=True)\n",
    "\n",
    "data = pd.merge(dftemp, dfsubevents, how='inner', left_index=True, right_index=True)\n",
    "data.set_index('twitter_id', inplace=True)\n",
    "\n",
    "data = pd.merge(df, data, how='left', left_index=True, right_index=True)\n",
    "\n",
    "data = data[data['rank'] <= k][['created_at', 'text', 'rank']]"
   ]
  },
  {
   "cell_type": "code",
   "execution_count": 119,
   "metadata": {
    "collapsed": false
   },
   "outputs": [],
   "source": [
    "data = data.reset_index().set_index('created_at')"
   ]
  },
  {
   "cell_type": "markdown",
   "metadata": {},
   "source": [
    "### Clean Text"
   ]
  },
  {
   "cell_type": "code",
   "execution_count": 125,
   "metadata": {
    "collapsed": false
   },
   "outputs": [],
   "source": [
    "#make sure to handle text as string\n",
    "data['text'] = data['text'].astype('str')\n",
    "#remove links\n",
    "data['text_clean'] = data['text'].apply(lambda text: ' '.join([(w[:w.find('http')] if 'http' in w else w) for w in text.split()]))\n",
    "#remove hashtag symbol\n",
    "data['text_clean'] = data['text_clean'].apply(lambda text: text.replace('#', ''))\n",
    "#remove mention symbol\n",
    "data['text_clean'] = data['text_clean'].apply(lambda text: text.replace('@', ''))\n",
    "#initiate, apply tokenization\n",
    "tknzr = nltk.TweetTokenizer()\n",
    "punct = list(string.punctuation)\n",
    "punct.extend(['...', '..', '…', '”', '“', 'the', '.@', 'RT'])\n",
    "data['text_clean'] = data['text_clean'].apply(lambda s: ' '.join([w.lower() for w in tknzr.tokenize(str(s)) if w not in punct]))"
   ]
  },
  {
   "cell_type": "markdown",
   "metadata": {},
   "source": [
    "### Iterate Subevents"
   ]
  },
  {
   "cell_type": "code",
   "execution_count": 130,
   "metadata": {
    "collapsed": false
   },
   "outputs": [],
   "source": [
    "for i in range(k)[:1]:\n",
    "    subevent = data[data['rank'] == i+1]"
   ]
  },
  {
   "cell_type": "code",
   "execution_count": 139,
   "metadata": {
    "collapsed": false
   },
   "outputs": [
    {
     "data": {
      "text/plain": [
       "(855, 4)"
      ]
     },
     "execution_count": 139,
     "metadata": {},
     "output_type": "execute_result"
    }
   ],
   "source": [
    "subevent.shape"
   ]
  },
  {
   "cell_type": "markdown",
   "metadata": {},
   "source": [
    "#### get token frequencies\n",
    "- save only those > 1"
   ]
  },
  {
   "cell_type": "code",
   "execution_count": 143,
   "metadata": {
    "collapsed": false
   },
   "outputs": [
    {
     "name": "stdout",
     "output_type": "stream",
     "text": [
      "[('monacogp', 856), ('red', 259), ('bull', 254), ('f1', 251), ('what', 165), ('a', 143), ('that', 132), ('for', 127), ('redbullracing', 122), ('you', 115)]\n"
     ]
    }
   ],
   "source": [
    "alltokens = [token for tweet in subevent['text_clean'] for token in tweet.split()]\n",
    "counts = Counter(alltokens)\n",
    "print(counts.most_common(10))"
   ]
  },
  {
   "cell_type": "code",
   "execution_count": 144,
   "metadata": {
    "collapsed": true
   },
   "outputs": [],
   "source": [
    "counts = dict((token,count) for token,count in counts.items() if count > 1)"
   ]
  },
  {
   "cell_type": "markdown",
   "metadata": {},
   "source": [
    "#### define base term\n",
    "- get most frequent term, not occurring in 100% of docs\n",
    "- this excludes the query term, being in all tweets"
   ]
  },
  {
   "cell_type": "code",
   "execution_count": 146,
   "metadata": {
    "collapsed": false
   },
   "outputs": [
    {
     "name": "stdout",
     "output_type": "stream",
     "text": [
      "red\n"
     ]
    }
   ],
   "source": [
    "d = dict((token,count) for token,count in counts.items() if count < subevent.shape[0])\n",
    "base = sorted(d.items(), key=operator.itemgetter(1))[-1][0]\n",
    "print(base)"
   ]
  },
  {
   "cell_type": "markdown",
   "metadata": {},
   "source": [
    "#### get term per tweet index\n",
    "- only considering those with frequency > 1"
   ]
  },
  {
   "cell_type": "code",
   "execution_count": 154,
   "metadata": {
    "collapsed": false
   },
   "outputs": [
    {
     "name": "stderr",
     "output_type": "stream",
     "text": [
      "c:\\miniconda3\\lib\\site-packages\\ipykernel\\__main__.py:1: SettingWithCopyWarning: \n",
      "A value is trying to be set on a copy of a slice from a DataFrame.\n",
      "Try using .loc[row_indexer,col_indexer] = value instead\n",
      "\n",
      "See the caveats in the documentation: http://pandas.pydata.org/pandas-docs/stable/indexing.html#indexing-view-versus-copy\n",
      "  if __name__ == '__main__':\n"
     ]
    }
   ],
   "source": [
    "subevent['dict_indexes'] = subevent['text_clean'].apply(lambda text: dict((token,index) for index,token in enumerate(text.split()) if token in counts))"
   ]
  },
  {
   "cell_type": "markdown",
   "metadata": {},
   "source": [
    "#### normalize token indexes to base"
   ]
  },
  {
   "cell_type": "code",
   "execution_count": 155,
   "metadata": {
    "collapsed": false
   },
   "outputs": [
    {
     "name": "stderr",
     "output_type": "stream",
     "text": [
      "c:\\miniconda3\\lib\\site-packages\\ipykernel\\__main__.py:1: SettingWithCopyWarning: \n",
      "A value is trying to be set on a copy of a slice from a DataFrame.\n",
      "Try using .loc[row_indexer,col_indexer] = value instead\n",
      "\n",
      "See the caveats in the documentation: http://pandas.pydata.org/pandas-docs/stable/indexing.html#indexing-view-versus-copy\n",
      "  if __name__ == '__main__':\n"
     ]
    }
   ],
   "source": [
    "subevent['dict_indexes'] = subevent['dict_indexes'].apply(lambda d: dict((token, token_index - d.get(base)) for token,token_index in d.items() if base in d.keys()))"
   ]
  },
  {
   "cell_type": "markdown",
   "metadata": {},
   "source": [
    "#### get term weights\n",
    "\n",
    "$weight(node) = count(node) - distance(base) * \\ln(count(node))$"
   ]
  },
  {
   "cell_type": "code",
   "execution_count": 156,
   "metadata": {
    "collapsed": false
   },
   "outputs": [
    {
     "name": "stderr",
     "output_type": "stream",
     "text": [
      "c:\\miniconda3\\lib\\site-packages\\ipykernel\\__main__.py:1: SettingWithCopyWarning: \n",
      "A value is trying to be set on a copy of a slice from a DataFrame.\n",
      "Try using .loc[row_indexer,col_indexer] = value instead\n",
      "\n",
      "See the caveats in the documentation: http://pandas.pydata.org/pandas-docs/stable/indexing.html#indexing-view-versus-copy\n",
      "  if __name__ == '__main__':\n"
     ]
    }
   ],
   "source": [
    "subevent['dict_weights'] = subevent['dict_indexes'].apply(lambda d: dict((token, (counts.get(token) - token_index * math.log1p(counts.get(token)))) for token,token_index in d.items()))"
   ]
  },
  {
   "cell_type": "markdown",
   "metadata": {},
   "source": [
    "#### aggregate term weights to text"
   ]
  },
  {
   "cell_type": "code",
   "execution_count": 157,
   "metadata": {
    "collapsed": false
   },
   "outputs": [
    {
     "name": "stderr",
     "output_type": "stream",
     "text": [
      "c:\\miniconda3\\lib\\site-packages\\ipykernel\\__main__.py:1: SettingWithCopyWarning: \n",
      "A value is trying to be set on a copy of a slice from a DataFrame.\n",
      "Try using .loc[row_indexer,col_indexer] = value instead\n",
      "\n",
      "See the caveats in the documentation: http://pandas.pydata.org/pandas-docs/stable/indexing.html#indexing-view-versus-copy\n",
      "  if __name__ == '__main__':\n"
     ]
    }
   ],
   "source": [
    "subevent['text_weight'] = subevent['dict_weights'].apply(lambda d: sum(d.values()))"
   ]
  },
  {
   "cell_type": "markdown",
   "metadata": {},
   "source": [
    "#### print summary"
   ]
  },
  {
   "cell_type": "code",
   "execution_count": 158,
   "metadata": {
    "collapsed": false
   },
   "outputs": [
    {
     "data": {
      "text/plain": [
       "'#F1 #MonacoGP Ricciardo got a super late in pits, what happened to Red Bull???'"
      ]
     },
     "execution_count": 158,
     "metadata": {},
     "output_type": "execute_result"
    }
   ],
   "source": [
    "subevent.sort_values(by='text_weight', ascending=False).iloc[0]['text']"
   ]
  },
  {
   "cell_type": "code",
   "execution_count": 160,
   "metadata": {
    "collapsed": false
   },
   "outputs": [
    {
     "data": {
      "text/html": [
       "<div>\n",
       "<table border=\"1\" class=\"dataframe\">\n",
       "  <thead>\n",
       "    <tr style=\"text-align: right;\">\n",
       "      <th></th>\n",
       "      <th>twitter_id</th>\n",
       "      <th>text</th>\n",
       "      <th>rank</th>\n",
       "      <th>text_clean</th>\n",
       "      <th>dict_indexes</th>\n",
       "      <th>dict_weights</th>\n",
       "      <th>text_weight</th>\n",
       "    </tr>\n",
       "    <tr>\n",
       "      <th>created_at</th>\n",
       "      <th></th>\n",
       "      <th></th>\n",
       "      <th></th>\n",
       "      <th></th>\n",
       "      <th></th>\n",
       "      <th></th>\n",
       "      <th></th>\n",
       "    </tr>\n",
       "  </thead>\n",
       "  <tbody>\n",
       "    <tr>\n",
       "      <th>2016-05-29 12:57:00</th>\n",
       "      <td>736904174215016448</td>\n",
       "      <td>Everyone changing onto dry tires now. #MonacoG...</td>\n",
       "      <td>1.0</td>\n",
       "      <td>everyone changing onto dry tires now monacogp ...</td>\n",
       "      <td>{}</td>\n",
       "      <td>{}</td>\n",
       "      <td>0.000000</td>\n",
       "    </tr>\n",
       "    <tr>\n",
       "      <th>2016-05-29 12:57:00</th>\n",
       "      <td>736904173485064193</td>\n",
       "      <td>That was a @Tiametmarduk pit stop right there....</td>\n",
       "      <td>1.0</td>\n",
       "      <td>that was a tiametmarduk pit stop right there f...</td>\n",
       "      <td>{}</td>\n",
       "      <td>{}</td>\n",
       "      <td>0.000000</td>\n",
       "    </tr>\n",
       "    <tr>\n",
       "      <th>2016-05-29 12:57:00</th>\n",
       "      <td>736904172683939840</td>\n",
       "      <td>You had one job.... #RedBull Tire guys... #Mon...</td>\n",
       "      <td>1.0</td>\n",
       "      <td>you had one job .... redbull tire guys monacog...</td>\n",
       "      <td>{}</td>\n",
       "      <td>{}</td>\n",
       "      <td>0.000000</td>\n",
       "    </tr>\n",
       "    <tr>\n",
       "      <th>2016-05-29 12:57:00</th>\n",
       "      <td>736904174957256705</td>\n",
       "      <td>WTF Red BUll !!! #ABCF1 #monacogp</td>\n",
       "      <td>1.0</td>\n",
       "      <td>wtf red bull abcf 1 monacogp</td>\n",
       "      <td>{'wtf': -1, 'red': 0, 'abcf': 2, 'bull': 1, '1...</td>\n",
       "      <td>{'wtf': 32.40119738166216, 'red': 259.0, 'abcf...</td>\n",
       "      <td>1417.267554</td>\n",
       "    </tr>\n",
       "    <tr>\n",
       "      <th>2016-05-29 12:57:00</th>\n",
       "      <td>736904171425783808</td>\n",
       "      <td>Red Bull with a costly error in the pits there...</td>\n",
       "      <td>1.0</td>\n",
       "      <td>red bull with a costly error in pits there mon...</td>\n",
       "      <td>{'f1': 10, 'pits': 7, 'a': 3, 'costly': 4, 'in...</td>\n",
       "      <td>{'f1': 195.70570912488577, 'pits': 8.315476327...</td>\n",
       "      <td>1716.425365</td>\n",
       "    </tr>\n",
       "    <tr>\n",
       "      <th>2016-05-29 12:57:00</th>\n",
       "      <td>736904171094343680</td>\n",
       "      <td>Disastrous pit stop #MonacoGP #Blunder</td>\n",
       "      <td>1.0</td>\n",
       "      <td>disastrous pit stop monacogp blunder</td>\n",
       "      <td>{}</td>\n",
       "      <td>{}</td>\n",
       "      <td>0.000000</td>\n",
       "    </tr>\n",
       "    <tr>\n",
       "      <th>2016-05-29 12:57:00</th>\n",
       "      <td>736904170926575617</td>\n",
       "      <td>@redbullracing what the hell have you done!! #...</td>\n",
       "      <td>1.0</td>\n",
       "      <td>redbullracing what hell have you done worstpit...</td>\n",
       "      <td>{}</td>\n",
       "      <td>{}</td>\n",
       "      <td>0.000000</td>\n",
       "    </tr>\n",
       "    <tr>\n",
       "      <th>2016-05-29 12:57:00</th>\n",
       "      <td>736904172621160448</td>\n",
       "      <td>Red Bull gives you a fast asleep pit crew #Mon...</td>\n",
       "      <td>1.0</td>\n",
       "      <td>red bull gives you a fast asleep pit crew mona...</td>\n",
       "      <td>{'gives': 2, 'you': 3, 'a': 4, 'bull': 1, 'pit...</td>\n",
       "      <td>{'gives': 4.394829814011908, 'monacogp': 795.2...</td>\n",
       "      <td>1603.037015</td>\n",
       "    </tr>\n",
       "    <tr>\n",
       "      <th>2016-05-29 12:57:01</th>\n",
       "      <td>736904177989877760</td>\n",
       "      <td>What does Ricciardo have to do? #MonacoGP</td>\n",
       "      <td>1.0</td>\n",
       "      <td>what does ricciardo have to do monacogp</td>\n",
       "      <td>{}</td>\n",
       "      <td>{}</td>\n",
       "      <td>0.000000</td>\n",
       "    </tr>\n",
       "    <tr>\n",
       "      <th>2016-05-29 12:57:01</th>\n",
       "      <td>736904179076214785</td>\n",
       "      <td>Who fucked that at Redbull 😠😠 poor Riccardo #M...</td>\n",
       "      <td>1.0</td>\n",
       "      <td>who fucked that at redbull 😠 😠 poor riccardo m...</td>\n",
       "      <td>{}</td>\n",
       "      <td>{}</td>\n",
       "      <td>0.000000</td>\n",
       "    </tr>\n",
       "  </tbody>\n",
       "</table>\n",
       "</div>"
      ],
      "text/plain": [
       "                             twitter_id  \\\n",
       "created_at                                \n",
       "2016-05-29 12:57:00  736904174215016448   \n",
       "2016-05-29 12:57:00  736904173485064193   \n",
       "2016-05-29 12:57:00  736904172683939840   \n",
       "2016-05-29 12:57:00  736904174957256705   \n",
       "2016-05-29 12:57:00  736904171425783808   \n",
       "2016-05-29 12:57:00  736904171094343680   \n",
       "2016-05-29 12:57:00  736904170926575617   \n",
       "2016-05-29 12:57:00  736904172621160448   \n",
       "2016-05-29 12:57:01  736904177989877760   \n",
       "2016-05-29 12:57:01  736904179076214785   \n",
       "\n",
       "                                                                  text  rank  \\\n",
       "created_at                                                                     \n",
       "2016-05-29 12:57:00  Everyone changing onto dry tires now. #MonacoG...   1.0   \n",
       "2016-05-29 12:57:00  That was a @Tiametmarduk pit stop right there....   1.0   \n",
       "2016-05-29 12:57:00  You had one job.... #RedBull Tire guys... #Mon...   1.0   \n",
       "2016-05-29 12:57:00                  WTF Red BUll !!! #ABCF1 #monacogp   1.0   \n",
       "2016-05-29 12:57:00  Red Bull with a costly error in the pits there...   1.0   \n",
       "2016-05-29 12:57:00             Disastrous pit stop #MonacoGP #Blunder   1.0   \n",
       "2016-05-29 12:57:00  @redbullracing what the hell have you done!! #...   1.0   \n",
       "2016-05-29 12:57:00  Red Bull gives you a fast asleep pit crew #Mon...   1.0   \n",
       "2016-05-29 12:57:01          What does Ricciardo have to do? #MonacoGP   1.0   \n",
       "2016-05-29 12:57:01  Who fucked that at Redbull 😠😠 poor Riccardo #M...   1.0   \n",
       "\n",
       "                                                            text_clean  \\\n",
       "created_at                                                               \n",
       "2016-05-29 12:57:00  everyone changing onto dry tires now monacogp ...   \n",
       "2016-05-29 12:57:00  that was a tiametmarduk pit stop right there f...   \n",
       "2016-05-29 12:57:00  you had one job .... redbull tire guys monacog...   \n",
       "2016-05-29 12:57:00                       wtf red bull abcf 1 monacogp   \n",
       "2016-05-29 12:57:00  red bull with a costly error in pits there mon...   \n",
       "2016-05-29 12:57:00               disastrous pit stop monacogp blunder   \n",
       "2016-05-29 12:57:00  redbullracing what hell have you done worstpit...   \n",
       "2016-05-29 12:57:00  red bull gives you a fast asleep pit crew mona...   \n",
       "2016-05-29 12:57:01            what does ricciardo have to do monacogp   \n",
       "2016-05-29 12:57:01  who fucked that at redbull 😠 😠 poor riccardo m...   \n",
       "\n",
       "                                                          dict_indexes  \\\n",
       "created_at                                                               \n",
       "2016-05-29 12:57:00                                                 {}   \n",
       "2016-05-29 12:57:00                                                 {}   \n",
       "2016-05-29 12:57:00                                                 {}   \n",
       "2016-05-29 12:57:00  {'wtf': -1, 'red': 0, 'abcf': 2, 'bull': 1, '1...   \n",
       "2016-05-29 12:57:00  {'f1': 10, 'pits': 7, 'a': 3, 'costly': 4, 'in...   \n",
       "2016-05-29 12:57:00                                                 {}   \n",
       "2016-05-29 12:57:00                                                 {}   \n",
       "2016-05-29 12:57:00  {'gives': 2, 'you': 3, 'a': 4, 'bull': 1, 'pit...   \n",
       "2016-05-29 12:57:01                                                 {}   \n",
       "2016-05-29 12:57:01                                                 {}   \n",
       "\n",
       "                                                          dict_weights  \\\n",
       "created_at                                                               \n",
       "2016-05-29 12:57:00                                                 {}   \n",
       "2016-05-29 12:57:00                                                 {}   \n",
       "2016-05-29 12:57:00                                                 {}   \n",
       "2016-05-29 12:57:00  {'wtf': 32.40119738166216, 'red': 259.0, 'abcf...   \n",
       "2016-05-29 12:57:00  {'f1': 195.70570912488577, 'pits': 8.315476327...   \n",
       "2016-05-29 12:57:00                                                 {}   \n",
       "2016-05-29 12:57:00                                                 {}   \n",
       "2016-05-29 12:57:00  {'gives': 4.394829814011908, 'monacogp': 795.2...   \n",
       "2016-05-29 12:57:01                                                 {}   \n",
       "2016-05-29 12:57:01                                                 {}   \n",
       "\n",
       "                     text_weight  \n",
       "created_at                        \n",
       "2016-05-29 12:57:00     0.000000  \n",
       "2016-05-29 12:57:00     0.000000  \n",
       "2016-05-29 12:57:00     0.000000  \n",
       "2016-05-29 12:57:00  1417.267554  \n",
       "2016-05-29 12:57:00  1716.425365  \n",
       "2016-05-29 12:57:00     0.000000  \n",
       "2016-05-29 12:57:00     0.000000  \n",
       "2016-05-29 12:57:00  1603.037015  \n",
       "2016-05-29 12:57:01     0.000000  \n",
       "2016-05-29 12:57:01     0.000000  "
      ]
     },
     "execution_count": 160,
     "metadata": {},
     "output_type": "execute_result"
    }
   ],
   "source": [
    "subevent.sort_values(by='text_weight')"
   ]
  }
 ],
 "metadata": {
  "kernelspec": {
   "display_name": "Python 3",
   "language": "python",
   "name": "python3"
  },
  "language_info": {
   "codemirror_mode": {
    "name": "ipython",
    "version": 3
   },
   "file_extension": ".py",
   "mimetype": "text/x-python",
   "name": "python",
   "nbconvert_exporter": "python",
   "pygments_lexer": "ipython3",
   "version": "3.4.4"
  }
 },
 "nbformat": 4,
 "nbformat_minor": 0
}
