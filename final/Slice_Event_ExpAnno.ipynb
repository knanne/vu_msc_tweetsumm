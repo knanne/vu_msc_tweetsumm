{
 "cells": [
  {
   "cell_type": "markdown",
   "metadata": {},
   "source": [
    "## Create Event Database\n",
    "- we are interested in data for event summarization\n",
    "- we define the event to consume an entire day\n",
    "- and we arbitrarily set event bounds -1day to +1day before and after event day\n",
    "- this is done in UTC time for treating all events equal"
   ]
  },
  {
   "cell_type": "markdown",
   "metadata": {},
   "source": [
    "#### import tools"
   ]
  },
  {
   "cell_type": "code",
   "execution_count": 154,
   "metadata": {
    "collapsed": true
   },
   "outputs": [],
   "source": [
    "import pandas as pd\n",
    "import csv\n",
    "from pandas.tseries.offsets import *\n",
    "import re"
   ]
  },
  {
   "cell_type": "markdown",
   "metadata": {},
   "source": [
    "#### import data"
   ]
  },
  {
   "cell_type": "code",
   "execution_count": 155,
   "metadata": {
    "collapsed": false
   },
   "outputs": [
    {
     "name": "stdout",
     "output_type": "stream",
     "text": [
      "Enter Event Name: Chelsea vs. Tottenham Premier League Match\n"
     ]
    }
   ],
   "source": [
    "event_name = input('Enter Event Name: ')"
   ]
  },
  {
   "cell_type": "code",
   "execution_count": 156,
   "metadata": {
    "collapsed": false
   },
   "outputs": [
    {
     "name": "stdout",
     "output_type": "stream",
     "text": [
      "ChelseavsTottenhamPremierLeagueMatch\n"
     ]
    }
   ],
   "source": [
    "event_filename = re.sub(\"\\W+\", \"\", event_name.strip())\n",
    "print(event_filename)"
   ]
  },
  {
   "cell_type": "code",
   "execution_count": 157,
   "metadata": {
    "collapsed": false
   },
   "outputs": [
    {
     "name": "stdout",
     "output_type": "stream",
     "text": [
      "Enter Twitter Query Term: #CHETOT\n"
     ]
    }
   ],
   "source": [
    "keyword = input('Enter Twitter Query Term: ')"
   ]
  },
  {
   "cell_type": "code",
   "execution_count": 158,
   "metadata": {
    "collapsed": false
   },
   "outputs": [
    {
     "name": "stdout",
     "output_type": "stream",
     "text": [
      "#chetot\n"
     ]
    }
   ],
   "source": [
    "keyword = keyword.replace(' ', '_').lower()\n",
    "print(keyword)"
   ]
  },
  {
   "cell_type": "code",
   "execution_count": 159,
   "metadata": {
    "collapsed": true
   },
   "outputs": [],
   "source": [
    "df = pd.read_table('data/final/query_%s_data.txt' % keyword, sep='\\t', encoding='utf-8', header=0)"
   ]
  },
  {
   "cell_type": "markdown",
   "metadata": {
    "collapsed": true
   },
   "source": [
    "#### (OPTIONAL) \n",
    "#### merge query data to event data\n",
    "- alter below to include number of queries for event"
   ]
  },
  {
   "cell_type": "code",
   "execution_count": 160,
   "metadata": {
    "collapsed": true
   },
   "outputs": [],
   "source": [
    "#queryterm1 =\n",
    "#queryterm2 = "
   ]
  },
  {
   "cell_type": "code",
   "execution_count": 161,
   "metadata": {
    "collapsed": true
   },
   "outputs": [],
   "source": [
    "#df_query1 = pd.read_table('data/final/query_%s_data.txt' % queryterm1, sep='\\t', encoding='utf-8', header=0)\n",
    "#df_query2 = pd.read_table('data/final/query_%s_data.txt' % queryterm2, sep='\\t', encoding='utf-8', header=0)"
   ]
  },
  {
   "cell_type": "code",
   "execution_count": 162,
   "metadata": {
    "collapsed": true
   },
   "outputs": [],
   "source": [
    "#df_query1['query'] = queryterm1\n",
    "#df_qeury1['query'] = queryterm2"
   ]
  },
  {
   "cell_type": "code",
   "execution_count": 163,
   "metadata": {
    "collapsed": false
   },
   "outputs": [],
   "source": [
    "#df = pd.concat([df_query1, df_query2])\n",
    "#df.shape"
   ]
  },
  {
   "cell_type": "code",
   "execution_count": 164,
   "metadata": {
    "collapsed": false
   },
   "outputs": [],
   "source": [
    "#drop duplicate tweets\n",
    "#handles overlap between queries\n",
    "#df = df.drop_duplicates('id_str')\n",
    "#df.shape"
   ]
  },
  {
   "cell_type": "markdown",
   "metadata": {},
   "source": [
    "#### datetime\n",
    "- convert string to pandas datetime\n",
    "- sort data on date posted ascending"
   ]
  },
  {
   "cell_type": "code",
   "execution_count": 165,
   "metadata": {
    "collapsed": true
   },
   "outputs": [],
   "source": [
    "df['created_at'] = pd.to_datetime(df['created_at'])\n",
    "df = df.sort_values(by='created_at', ascending=True)"
   ]
  },
  {
   "cell_type": "markdown",
   "metadata": {},
   "source": [
    "#### slice event on date range\n",
    "- we discard that data which is out of our range"
   ]
  },
  {
   "cell_type": "code",
   "execution_count": 166,
   "metadata": {
    "collapsed": false
   },
   "outputs": [
    {
     "name": "stdout",
     "output_type": "stream",
     "text": [
      "Enter Event Date (YYYY-MM-DD): 2016-05-02\n"
     ]
    }
   ],
   "source": [
    "event_date = pd.to_datetime(input('Enter Event Date (YYYY-MM-DD): '))"
   ]
  },
  {
   "cell_type": "code",
   "execution_count": 167,
   "metadata": {
    "collapsed": false
   },
   "outputs": [
    {
     "name": "stdout",
     "output_type": "stream",
     "text": [
      "START:  2016-05-01 00:00:00 FINISH:  2016-05-04 00:00:00\n"
     ]
    }
   ],
   "source": [
    "start = event_date - DateOffset(days=1)\n",
    "finish = event_date + DateOffset(days=2)\n",
    "print('START: ', start, 'FINISH: ', finish)"
   ]
  },
  {
   "cell_type": "code",
   "execution_count": 168,
   "metadata": {
    "collapsed": false
   },
   "outputs": [
    {
     "data": {
      "text/plain": [
       "(29808, 28)"
      ]
     },
     "execution_count": 168,
     "metadata": {},
     "output_type": "execute_result"
    }
   ],
   "source": [
    "df = df[(df['created_at'] >= start) & (df['created_at'] < finish)]\n",
    "df.shape"
   ]
  },
  {
   "cell_type": "markdown",
   "metadata": {
    "collapsed": true
   },
   "source": [
    "#### create master database\n",
    "- add index as master id, rename twitter id\n",
    "- export master event file"
   ]
  },
  {
   "cell_type": "code",
   "execution_count": 169,
   "metadata": {
    "collapsed": true
   },
   "outputs": [],
   "source": [
    "df.reset_index(drop=True, inplace=True)\n",
    "df = df.reset_index().rename(columns={'index' : 'master_id', 'id_str' : 'twitter_id'})"
   ]
  },
  {
   "cell_type": "code",
   "execution_count": 170,
   "metadata": {
    "collapsed": true
   },
   "outputs": [],
   "source": [
    "df.to_csv('data/final/event_%s_data.txt' % event_filename, sep='\\t', encoding='utf-8', header=True, index=False)"
   ]
  },
  {
   "cell_type": "markdown",
   "metadata": {},
   "source": [
    "#### get annotation data\n",
    "- define data that will go to crowdflower for annotation\n",
    "- exclude retweets, replies\n",
    "- add event title, description\n",
    "- sample 10k, set seed"
   ]
  },
  {
   "cell_type": "code",
   "execution_count": 171,
   "metadata": {
    "collapsed": true
   },
   "outputs": [],
   "source": [
    "df_forann = df[(df['is_retweet'] == 0) & (df['is_reply'] == 0)][['master_id', 'twitter_id', 'created_at', 'text']]"
   ]
  },
  {
   "cell_type": "code",
   "execution_count": 172,
   "metadata": {
    "collapsed": false
   },
   "outputs": [
    {
     "name": "stdout",
     "output_type": "stream",
     "text": [
      "Enter Event Description: The 2015–16 Premier League is the 24th season of the Premier League, the top English professional league for association football clubs, since its establishment in 1992.\n"
     ]
    }
   ],
   "source": [
    "df_forann.loc[:,'event'] = event_name\n",
    "df_forann.loc[:,'event_description'] = input('Enter Event Description: ')"
   ]
  },
  {
   "cell_type": "code",
   "execution_count": 173,
   "metadata": {
    "collapsed": false
   },
   "outputs": [],
   "source": [
    "#no retweets, only text\n",
    "df_forann_smpl = df_forann.sample(10000, random_state=2016)\n",
    "#format for crowdflower import\n",
    "#delimited by ;\n",
    "#double quote strings\n",
    "df_forann_smpl.to_csv('data/final/event_%s_annsample.csv' % event_filename, sep=',', quoting=csv.QUOTE_NONNUMERIC, encoding='utf-8', header=True, index=False)"
   ]
  }
 ],
 "metadata": {
  "kernelspec": {
   "display_name": "Python 3",
   "language": "python",
   "name": "python3"
  },
  "language_info": {
   "codemirror_mode": {
    "name": "ipython",
    "version": 3
   },
   "file_extension": ".py",
   "mimetype": "text/x-python",
   "name": "python",
   "nbconvert_exporter": "python",
   "pygments_lexer": "ipython3",
   "version": "3.4.4"
  }
 },
 "nbformat": 4,
 "nbformat_minor": 0
}
