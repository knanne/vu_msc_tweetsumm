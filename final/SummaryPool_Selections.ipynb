{
 "cells": [
  {
   "cell_type": "markdown",
   "metadata": {},
   "source": [
    "# Automatic Summarization\n",
    "\n",
    "We combine methods studied in previous research, and evaluate their improvements to a event summarization problem on Twitter. Namely, we combine state-of-the-art selection algorithms including our own likely event model, predictive filtering, \n",
    "\n",
    "## Step 1: Selection\n",
    "Narrow the raw corpus down to a selection pool of reasonable size for summary generation. The approaches compared are:\n",
    "1. Random\n",
    "2. Verified User\n",
    "3. Engagements\n",
    "4. TF-IDF Rank\n",
    "5. Clustering\n",
    "6. Noun Phrase (NP+V+NP)\n",
    "7. Likely Event Model\n",
    "    - classification algorithm to predict news in tweets\n",
    "\n",
    "#### Issues present\n",
    "- uninformative documents\n",
    "    - do not contain news or event updates\n",
    "- low quality documents\n",
    "    - questions\n",
    "    - advertisement\n",
    "    - personal opinion\n",
    "    - explicit language\n",
    "- not representative distribution\n",
    "    - documents concentrated at one time\n",
    "\n",
    "### Evaluate\n",
    "1. manual event annotation\n",
    "    - measure precision, recall, f-1 of actual events\n",
    "\n",
    "## Step 2: Filtering\n",
    "Perform filtering of event corpus using predictive modeling, and rerun selection methods. Evaluate the summary pools again. We predicte the following for exclusion.\n",
    "    - questions\n",
    "    - advertisement\n",
    "    - personal opinion\n",
    "    - explicit language\n",
    "\n",
    "### Evaluate\n",
    "1. manual event annotation\n",
    "    - measure precision, recall, f-1 of actual events\n",
    "\n",
    "## Step 3: Event Detection\n",
    "Apply event detection algorithm to identify time intervals of summary importance.\n",
    "\n",
    "### Evaluate\n",
    "1. manual event annotation\n",
    "    - measure precision, recall, f-1 of actual events\n",
    "\n",
    "## Step 4: Novelty Selection\n",
    "Perform state of the art temporal-novelty selection on each selection pool\n",
    "\n",
    "1. TF-IDF Centroid Distance\n",
    "2. K-Terms"
   ]
  },
  {
   "cell_type": "markdown",
   "metadata": {},
   "source": [
    "#### import tools"
   ]
  },
  {
   "cell_type": "code",
   "execution_count": 2,
   "metadata": {
    "collapsed": true
   },
   "outputs": [],
   "source": [
    "import pandas as pd\n",
    "import numpy as np\n",
    "\n",
    "import nltk\n",
    "from nltk import TweetTokenizer\n",
    "import string\n",
    "from collections import Counter\n",
    "\n",
    "import matplotlib.pyplot as plt\n",
    "import matplotlib\n",
    "matplotlib.style.use('ggplot')\n",
    "%matplotlib inline\n",
    "\n",
    "from time import time\n",
    "from sklearn.feature_extraction.text import TfidfVectorizer\n",
    "from sklearn.cluster import KMeans"
   ]
  },
  {
   "cell_type": "markdown",
   "metadata": {},
   "source": [
    "#### import data"
   ]
  },
  {
   "cell_type": "code",
   "execution_count": 3,
   "metadata": {
    "collapsed": false
   },
   "outputs": [
    {
     "data": {
      "text/plain": [
       "(54162, 34)"
      ]
     },
     "execution_count": 3,
     "metadata": {},
     "output_type": "execute_result"
    }
   ],
   "source": [
    "df = pd.read_table('data/final/event_indianaprimary_data.txt', sep='\\t', encoding='utf-8', header=0, low_memory=False)\n",
    "df.shape"
   ]
  },
  {
   "cell_type": "code",
   "execution_count": 4,
   "metadata": {
    "collapsed": false
   },
   "outputs": [],
   "source": [
    "df.loc[:,('created_at')] = pd.to_datetime(df['created_at'])"
   ]
  },
  {
   "cell_type": "code",
   "execution_count": 5,
   "metadata": {
    "collapsed": true
   },
   "outputs": [],
   "source": [
    "#remove links\n",
    "df['text_clean'] = df['text'].apply(lambda text: ' '.join([(w[:w.find('http')] if 'http' in w else w) for w in text.split()]))\n",
    "\n",
    "#remove hashtag symbol\n",
    "df['text_clean'] = df['text_clean'].apply(lambda text: text.replace('#', ''))\n",
    "\n",
    "#remove mention symbol\n",
    "df['text_clean'] = df['text_clean'].apply(lambda text: text.replace('@', ''))\n",
    "\n",
    "#initiate, apply tokenization\n",
    "tknzr = TweetTokenizer()\n",
    "df['text_clean'] = df['text_clean'].apply(lambda s: ' '.join([w.lower() for w in tknzr.tokenize(str(s))]))"
   ]
  },
  {
   "cell_type": "markdown",
   "metadata": {},
   "source": [
    "#### define k docs\n",
    "- summarize using 10 doc selection"
   ]
  },
  {
   "cell_type": "code",
   "execution_count": 6,
   "metadata": {
    "collapsed": true
   },
   "outputs": [],
   "source": [
    "k_docs = 20"
   ]
  },
  {
   "cell_type": "markdown",
   "metadata": {},
   "source": [
    "#### random sample of 1k\n",
    "- for testing algorithms\n",
    "- filter retweets, replies from data"
   ]
  },
  {
   "cell_type": "code",
   "execution_count": 7,
   "metadata": {
    "collapsed": true
   },
   "outputs": [],
   "source": [
    "df_smpl = df[(df['is_retweet'] == False) & (df['is_reply'] == False)].sample(1000, random_state=2016)\n",
    "#sort values for selection\n",
    "df_smpl.sort_values(by='created_at', ascending=True, inplace=True)\n",
    "#reset index for merging calcs\n",
    "df_smpl.reset_index(drop=True, inplace=True)"
   ]
  },
  {
   "cell_type": "markdown",
   "metadata": {},
   "source": [
    "#### define timeseries bounds"
   ]
  },
  {
   "cell_type": "code",
   "execution_count": 8,
   "metadata": {
    "collapsed": false
   },
   "outputs": [],
   "source": [
    "timeseries = pd.date_range(df['created_at'].min().strftime('%Y-%m-%d %H'), df['created_at'].max().strftime('%Y-%m-%d %H'), freq='H')"
   ]
  },
  {
   "cell_type": "markdown",
   "metadata": {},
   "source": [
    "# visualize selections over time"
   ]
  },
  {
   "cell_type": "code",
   "execution_count": 43,
   "metadata": {
    "collapsed": false
   },
   "outputs": [],
   "source": [
    "d_total = df.set_index('created_at').groupby([pd.TimeGrouper(freq='H')])['twitter_id'].agg(['count'])\n",
    "d_total = d_total.reindex(timeseries, fill_value=0)\n",
    "d_total['percent'] = d_total['count'].apply(lambda c: round(c/d_total['count'].sum() * 100, 2))\n",
    "d_total['corpus'] = 'total'"
   ]
  },
  {
   "cell_type": "code",
   "execution_count": 44,
   "metadata": {
    "collapsed": false
   },
   "outputs": [],
   "source": [
    "d_smpl = df_smpl.set_index('created_at').groupby([pd.TimeGrouper(freq='H')])['twitter_id'].agg(['count'])\n",
    "d_smpl = d_smpl.reindex(timeseries, fill_value=0)\n",
    "d_smpl['percent'] = d_smpl['count'].apply(lambda c: round(c/d_smpl['count'].sum() * 100, 2))\n",
    "d_smpl['corpus'] = 'sample 1k'"
   ]
  },
  {
   "cell_type": "code",
   "execution_count": 45,
   "metadata": {
    "collapsed": true
   },
   "outputs": [],
   "source": [
    "d = pd.concat([d_total, d_smpl])"
   ]
  },
  {
   "cell_type": "code",
   "execution_count": 46,
   "metadata": {
    "collapsed": false
   },
   "outputs": [
    {
     "data": {
      "text/plain": [
       "corpus\n",
       "sample 1k    Axes(0.125,0.125;0.775x0.775)\n",
       "total        Axes(0.125,0.125;0.775x0.775)\n",
       "Name: percent, dtype: object"
      ]
     },
     "execution_count": 46,
     "metadata": {},
     "output_type": "execute_result"
    },
    {
     "data": {
      "image/png": "[encoded data removed]",
      "text/plain": [
       "<matplotlib.figure.Figure at 0x10eef6d8>"
      ]
     },
     "metadata": {},
     "output_type": "display_data"
    }
   ],
   "source": [
    "d.groupby('corpus')['percent'].plot(figsize=(16,6),\n",
    "                                    ylim=(0,100),\n",
    "                                    legend=True,\n",
    "                                    title='Distribution Over Time')"
   ]
  },
  {
   "cell_type": "code",
   "execution_count": 47,
   "metadata": {
    "collapsed": false
   },
   "outputs": [],
   "source": [
    "d_rndm = df_rndm.set_index('created_at').groupby([pd.TimeGrouper(freq='H')])['twitter_id'].agg(['count'])\n",
    "d_rndm = d_rndm.reindex(timeseries, fill_value=0)\n",
    "d_rndm['percent'] = d_rndm['count'].apply(lambda c: round(c/d_rndm['count'].sum() * 100, 2))\n",
    "d_rndm['corpus'] = 'k-doc random'"
   ]
  },
  {
   "cell_type": "code",
   "execution_count": 48,
   "metadata": {
    "collapsed": true
   },
   "outputs": [],
   "source": [
    "d_veri = df_veri.set_index('created_at').groupby([pd.TimeGrouper(freq='H')])['twitter_id'].agg(['count'])\n",
    "d_veri = d_veri.reindex(timeseries, fill_value=0)\n",
    "d_veri['percent'] = d_veri['count'].apply(lambda c: round(c/d_veri['count'].sum() * 100, 2))\n",
    "d_veri['corpus'] = 'k-doc verified'"
   ]
  },
  {
   "cell_type": "code",
   "execution_count": 49,
   "metadata": {
    "collapsed": true
   },
   "outputs": [],
   "source": [
    "d_eng = df_eng.set_index('created_at').groupby([pd.TimeGrouper(freq='H')])['twitter_id'].agg(['count'])\n",
    "d_eng = d_eng.reindex(timeseries, fill_value=0)\n",
    "d_eng['percent'] = d_eng['count'].apply(lambda c: round(c/d_eng['count'].sum() * 100, 2))\n",
    "d_eng['corpus'] = 'k-doc engagements'"
   ]
  },
  {
   "cell_type": "code",
   "execution_count": 50,
   "metadata": {
    "collapsed": false
   },
   "outputs": [
    {
     "data": {
      "text/plain": [
       "corpus\n",
       "k-doc engagements    Axes(0.125,0.125;0.775x0.775)\n",
       "k-doc random         Axes(0.125,0.125;0.775x0.775)\n",
       "k-doc verified       Axes(0.125,0.125;0.775x0.775)\n",
       "Name: percent, dtype: object"
      ]
     },
     "execution_count": 50,
     "metadata": {},
     "output_type": "execute_result"
    },
    {
     "data": {
      "image/png": "[encoded data removed]",
      "text/plain": [
       "<matplotlib.figure.Figure at 0xb78c748>"
      ]
     },
     "metadata": {},
     "output_type": "display_data"
    }
   ],
   "source": [
    "d = pd.concat([d_rndm, d_veri, d_eng])\n",
    "d.groupby('corpus')['percent'].plot(figsize=(16,6),\n",
    "                                    ylim=(0,100),\n",
    "                                    legend=True,\n",
    "                                    title='Distribution Over Time')"
   ]
  },
  {
   "cell_type": "code",
   "execution_count": 51,
   "metadata": {
    "collapsed": false
   },
   "outputs": [],
   "source": [
    "d_tfidf = df_tfidf.set_index('created_at').groupby([pd.TimeGrouper(freq='H')])['twitter_id'].agg(['count'])\n",
    "d_tfidf = d_tfidf.reindex(timeseries, fill_value=0)\n",
    "d_tfidf['percent'] = d_tfidf['count'].apply(lambda c: round(c/d_tfidf['count'].sum() * 100, 2))\n",
    "d_tfidf['corpus'] = 'k-doc tfidf'"
   ]
  },
  {
   "cell_type": "code",
   "execution_count": 52,
   "metadata": {
    "collapsed": true
   },
   "outputs": [],
   "source": [
    "d_tfidf_stpd = df_tfidf_stpd.set_index('created_at').groupby([pd.TimeGrouper(freq='H')])['twitter_id'].agg(['count'])\n",
    "d_tfidf_stpd = d_tfidf_stpd.reindex(timeseries, fill_value=0)\n",
    "d_tfidf_stpd['percent'] = d_tfidf_stpd['count'].apply(lambda c: round(c/d_tfidf_stpd['count'].sum() * 100, 2))\n",
    "d_tfidf_stpd['corpus'] = 'k-doc tfidf stopped'"
   ]
  },
  {
   "cell_type": "code",
   "execution_count": 53,
   "metadata": {
    "collapsed": true
   },
   "outputs": [],
   "source": [
    "d_tfidf_clnd = df_tfidf_clnd.set_index('created_at').groupby([pd.TimeGrouper(freq='H')])['twitter_id'].agg(['count'])\n",
    "d_tfidf_clnd = d_tfidf_clnd.reindex(timeseries, fill_value=0)\n",
    "d_tfidf_clnd['percent'] = d_tfidf_clnd['count'].apply(lambda c: round(c/d_tfidf_clnd['count'].sum() * 100, 2))\n",
    "d_tfidf_clnd['corpus'] = 'k-doc tfidf cleaned'"
   ]
  },
  {
   "cell_type": "code",
   "execution_count": 54,
   "metadata": {
    "collapsed": true
   },
   "outputs": [],
   "source": [
    "d_tfidf_adj = df_tfidf_adj.set_index('created_at').groupby([pd.TimeGrouper(freq='H')])['twitter_id'].agg(['count'])\n",
    "d_tfidf_adj = d_tfidf_adj.reindex(timeseries, fill_value=0)\n",
    "d_tfidf_adj['percent'] = d_tfidf_adj['count'].apply(lambda c: round(c/d_tfidf_adj['count'].sum() * 100, 2))\n",
    "d_tfidf_adj['corpus'] = 'k-doc tfidf adjusted'"
   ]
  },
  {
   "cell_type": "code",
   "execution_count": 55,
   "metadata": {
    "collapsed": false
   },
   "outputs": [
    {
     "data": {
      "text/plain": [
       "corpus\n",
       "k-doc tfidf             Axes(0.125,0.125;0.775x0.775)\n",
       "k-doc tfidf adjusted    Axes(0.125,0.125;0.775x0.775)\n",
       "k-doc tfidf cleaned     Axes(0.125,0.125;0.775x0.775)\n",
       "k-doc tfidf stopped     Axes(0.125,0.125;0.775x0.775)\n",
       "Name: percent, dtype: object"
      ]
     },
     "execution_count": 55,
     "metadata": {},
     "output_type": "execute_result"
    },
    {
     "data": {
      "image/png": "[encoded data removed]",
      "text/plain": [
       "<matplotlib.figure.Figure at 0xb375278>"
      ]
     },
     "metadata": {},
     "output_type": "display_data"
    }
   ],
   "source": [
    "d = pd.concat([d_tfidf, d_tfidf_stpd, d_tfidf_clnd, d_tfidf_adj])\n",
    "d.groupby('corpus')['percent'].plot(figsize=(16,6),\n",
    "                                    ylim=(0,100),\n",
    "                                    legend=True,\n",
    "                                    title='Distribution Over Time')"
   ]
  },
  {
   "cell_type": "code",
   "execution_count": 56,
   "metadata": {
    "collapsed": true
   },
   "outputs": [],
   "source": [
    "d_clust_first = df_clust_first.set_index('created_at').groupby([pd.TimeGrouper(freq='H')])['twitter_id'].agg(['count'])\n",
    "d_clust_first = d_clust_first.reindex(timeseries, fill_value=0)\n",
    "d_clust_first['percent'] = d_clust_first['count'].apply(lambda c: round(c/d_clust_first['count'].sum() * 100, 2))\n",
    "d_clust_first['corpus'] = 'k-doc cluster first'"
   ]
  },
  {
   "cell_type": "code",
   "execution_count": 57,
   "metadata": {
    "collapsed": true
   },
   "outputs": [],
   "source": [
    "d_clust_last = df_clust_last.set_index('created_at').groupby([pd.TimeGrouper(freq='H')])['twitter_id'].agg(['count'])\n",
    "d_clust_last = d_clust_last.reindex(timeseries, fill_value=0)\n",
    "d_clust_last['percent'] = d_clust_last['count'].apply(lambda c: round(c/d_clust_last['count'].sum() * 100, 2))\n",
    "d_clust_last['corpus'] = 'k-doc cluster last'"
   ]
  },
  {
   "cell_type": "code",
   "execution_count": 58,
   "metadata": {
    "collapsed": true
   },
   "outputs": [],
   "source": [
    "d_clust_wght = df_clust_wght.set_index('created_at').groupby([pd.TimeGrouper(freq='H')])['twitter_id'].agg(['count'])\n",
    "d_clust_wght = d_clust_wght.reindex(timeseries, fill_value=0)\n",
    "d_clust_wght['percent'] = d_clust_wght['count'].apply(lambda c: round(c/d_clust_wght['count'].sum() * 100, 2))\n",
    "d_clust_wght['corpus'] = 'k-doc cluster weighted'"
   ]
  },
  {
   "cell_type": "code",
   "execution_count": 59,
   "metadata": {
    "collapsed": false,
    "scrolled": false
   },
   "outputs": [
    {
     "data": {
      "text/plain": [
       "corpus\n",
       "k-doc cluster first       Axes(0.125,0.125;0.775x0.775)\n",
       "k-doc cluster last        Axes(0.125,0.125;0.775x0.775)\n",
       "k-doc cluster weighted    Axes(0.125,0.125;0.775x0.775)\n",
       "Name: percent, dtype: object"
      ]
     },
     "execution_count": 59,
     "metadata": {},
     "output_type": "execute_result"
    },
    {
     "data": {
      "image/png": "[encoded data removed]",
      "text/plain": [
       "<matplotlib.figure.Figure at 0xb3516d8>"
      ]
     },
     "metadata": {},
     "output_type": "display_data"
    }
   ],
   "source": [
    "d = pd.concat([d_clust_first, d_clust_last, d_clust_wght])\n",
    "d.groupby('corpus')['percent'].plot(figsize=(16,6),\n",
    "                                    ylim=(0,100),\n",
    "                                    legend=True,\n",
    "                                    title='Distribution Over Time')"
   ]
  },
  {
   "cell_type": "code",
   "execution_count": 60,
   "metadata": {
    "collapsed": true
   },
   "outputs": [],
   "source": [
    "d_NPV_rndm = df_NPV_rndm.set_index('created_at').groupby([pd.TimeGrouper(freq='H')])['twitter_id'].agg(['count'])\n",
    "d_NPV_rndm = d_NPV_rndm.reindex(timeseries, fill_value=0)\n",
    "d_NPV_rndm['percent'] = d_NPV_rndm['count'].apply(lambda c: round(c/d_NPV_rndm['count'].sum() * 100, 2))\n",
    "d_NPV_rndm['corpus'] = 'k-doc noun phrase + verb'"
   ]
  },
  {
   "cell_type": "code",
   "execution_count": 61,
   "metadata": {
    "collapsed": true
   },
   "outputs": [],
   "source": [
    "d_NPVNP_rndm = df_NPVNP_rndm.set_index('created_at').groupby([pd.TimeGrouper(freq='H')])['twitter_id'].agg(['count'])\n",
    "d_NPVNP_rndm = d_NPVNP_rndm.reindex(timeseries, fill_value=0)\n",
    "d_NPVNP_rndm['percent'] = d_NPVNP_rndm['count'].apply(lambda c: round(c/d_NPVNP_rndm['count'].sum() * 100, 2))\n",
    "d_NPVNP_rndm['corpus'] = 'k-doc noun phrase + verb + noun phrase'"
   ]
  },
  {
   "cell_type": "code",
   "execution_count": 62,
   "metadata": {
    "collapsed": false
   },
   "outputs": [
    {
     "data": {
      "text/plain": [
       "corpus\n",
       "k-doc noun phrase + verb                  Axes(0.125,0.125;0.775x0.775)\n",
       "k-doc noun phrase + verb + noun phrase    Axes(0.125,0.125;0.775x0.775)\n",
       "Name: percent, dtype: object"
      ]
     },
     "execution_count": 62,
     "metadata": {},
     "output_type": "execute_result"
    },
    {
     "data": {
      "image/png": "[encoded data removed]",
      "text/plain": [
       "<matplotlib.figure.Figure at 0xc68db38>"
      ]
     },
     "metadata": {},
     "output_type": "display_data"
    }
   ],
   "source": [
    "d = pd.concat([d_NPV_rndm, d_NPVNP_rndm])\n",
    "d.groupby('corpus')['percent'].plot(figsize=(16,6),\n",
    "                                    ylim=(0,100),\n",
    "                                    legend=True,\n",
    "                                    title='Distribution Over Time')"
   ]
  },
  {
   "cell_type": "markdown",
   "metadata": {},
   "source": [
    "# Step 1\n",
    "## 1. Random Selection\n",
    "### method:\n",
    "Select k random documents from corpus"
   ]
  },
  {
   "cell_type": "code",
   "execution_count": 9,
   "metadata": {
    "collapsed": false,
    "scrolled": true
   },
   "outputs": [
    {
     "name": "stdout",
     "output_type": "stream",
     "text": [
      "2016-05-02 16:41:03\tWe The People Choose #Trump #VoteTrump #Trump2016 #CruzCrew SINKS #INPrimary #IndianaPrimary #CAPrimary #AlwaysTrump https://t.co/6dUU3xpmLm\n",
      "2016-05-02 18:32:54\t#CaliforniaPrimary #CaPrimary #IndianaPrimary #InPrimary why is #TedCruz such a liar. trump supports 2nd amed https://t.co/6hKqrVyb0S\n",
      "2016-05-02 18:40:52\tMT @Karee_news: #IndianaPrimary #Conservatives across this land are counting you to #ChooseCruz. https://t.co/wuAb24QMEy #CruzCrew #PJNET\n",
      "2016-05-02 20:27:30\t#StephanieCegielski On #RealDonaldTrump The hard truth is: #Trump only cares about #Trump. #IndianaPrimary #MakeAmericaHateAgain\n",
      "2016-05-03 12:48:01\tShe can't beat trump. #IndianaPrimary #FeelTheBern  https://t.co/T39xJAHvrw\n",
      "2016-05-03 12:49:29\tGood Morning #Indiana  Today is the Day! SHOW YOUR AMERICAN PRIDE and VOTE FOR TRUMP! #IndianaPrimary  #Trump2016 https://t.co/ZXiOLaVVLe\n",
      "2016-05-03 14:39:24\tWhat Hoosiers are Googling before the Indiana primary | Indiana Primary https://t.co/ROJfybXaAt #indianaprimary\n",
      "2016-05-03 14:52:51\tGet to know #HillaryClinton. We have to win this one. #IndianaPrimary #INPrimary #Indiana  https://t.co/YIDE7XGlUq https://t.co/H9ZriUaAX3\n",
      "2016-05-03 16:45:24\tTrump Says Cruz's Dad Shouldn't Be Allowed to Talk About Religion #IndianaPrimary  https://t.co/Hlw8HPTnQ4\n",
      "2016-05-03 17:49:20\tAnother primary today, another day of delusional, lyin' Ted getting his clock cleaned. What else is new. #IndianaPrimary #Trump2016\n",
      "2016-05-03 19:02:38\tYes, #Lyinted is like a creepy stalker! #IndianaPrimary #INPrimary #Trump2016 #MAGA https://t.co/QWyHXhttFZ\n",
      "2016-05-03 22:16:32\tProudly exercised my right to vote today in the #IndianaPrimary. #CruzCrew #DumpTrump https://t.co/6C1yjWe1Sq\n",
      "2016-05-03 22:36:52\tIndiana folks should really be voting on what makes them laugh harder, Trump's small hands or Cruz being the zodiac killer. #IndianaPrimary\n",
      "2016-05-03 23:05:42\tJUST IN: @realDonaldTrump has won the GOP #IndianaPrimary. #INPrimary #2016GOP\n",
      "2016-05-04 00:36:31\tWell, history was made tonight in the Hoosier State! #IndianaPrimary\n",
      "2016-05-04 01:29:45\t#Hoosiers sure know how to toss up things! #IndianaPrimary\n",
      "2016-05-04 02:18:58\tCruz hit a TED end! Finally! #IndianaPrimary\n",
      "2016-05-04 04:31:12\tThat's all Ted Cruz #CruzOut ( Make way for Republican President Trump )  #IndianaPrimary  #Elections2016 #Trump2016 https://t.co/Y1LlURZp1K\n",
      "2016-05-04 05:15:29\tI think Leslie Knope would be disappointed in her home state today. #IndianaPrimary https://t.co/NTd3ttHlIV\n",
      "2016-05-04 07:14:03\tDon't even want to deal with today... (At least Bernie won #IndianaPrimary !!! #FeelTheBern ) https://t.co/nnovKlnuxI\n"
     ]
    }
   ],
   "source": [
    "df_rndm = df_smpl.sample(k_docs, random_state=2016)\n",
    "summ = df_rndm.sort_values(by='created_at', ascending=True)\n",
    "\n",
    "for _,doc in summ.iterrows():\n",
    "    print(str(doc['created_at']) + '\\t' + doc['text'])"
   ]
  },
  {
   "cell_type": "markdown",
   "metadata": {},
   "source": [
    "## 2. Verified User Selection\n",
    "### method:\n",
    "Select k random docs from verified users"
   ]
  },
  {
   "cell_type": "code",
   "execution_count": 10,
   "metadata": {
    "collapsed": false,
    "scrolled": true
   },
   "outputs": [
    {
     "name": "stdout",
     "output_type": "stream",
     "text": [
      "2016-05-02 19:35:18\tLive now on @facebook. Ask me a question &gt; https://t.co/wdKdBxA0Be #IndianaPrimary\n",
      "2016-05-02 19:48:01\tIndiana's strict #voterID law was upheld by #scotus in 2008. What to know about #voterID: https://t.co/PfjpZ2Hg59 #IndianaPrimary\n",
      "2016-05-02 20:04:00\tI dont get how someone can be that nasty. At least @tedcruz had the 🏐⚽️🏀 to face/visit the crowd. #IndianaPrimary\n",
      "2016-05-02 20:32:41\tWATCH NOW: Trump speaks at a rally in Carmel, Ind. ahead of #IndianaPrimary https://t.co/2fyNEZG6NI https://t.co/nZZLCgppJ0\n",
      "2016-05-03 01:38:51\tOn the brink of the nomination, Donald tones down the Trump. @GriffinLeeds before the #IndianaPrimary https://t.co/ZQ9wImMpqU via @TheTab\n",
      "2016-05-03 10:06:42\tWe've got team coverage of the #IndianaPrimary on @FOX59 all morning! @Kyle_Inskeep @JillianDeam https://t.co/SSrAZ6LSud\n",
      "2016-05-03 16:45:24\tTrump Says Cruz's Dad Shouldn't Be Allowed to Talk About Religion #IndianaPrimary  https://t.co/Hlw8HPTnQ4\n",
      "2016-05-03 18:28:49\t\"I'm the rose between the thorns,\" says one mom running in today's #IndianaPrimary: https://t.co/pAZiNUsDZM via @rollcall\n",
      "2016-05-03 20:14:39\tTed Cruz, on the inside. #IndianaPrimary #Indiana https://t.co/RH04LQ6DiP\n",
      "2016-05-03 22:20:45\tSo far, the first few precincts in rural Indiana look pretty good for Clinton: https://t.co/EacsD0xbXJ #IndianaPrimary\n",
      "2016-05-03 22:30:20\tLet your voice be heard. Call in now at 877-NEWSMAX. #AmericaVotes2016 @NewsmaxTV #IndianaPrimary https://t.co/OZVHi9gBqi\n",
      "2016-05-03 23:02:02\t#BREAKING: Donald Trump projected to win #IndianaPrimary https://t.co/ID07WGCFzu\n",
      "2016-05-03 23:09:00\t.@CNN projects win for @realDonaldTrump in #Indianaprimary https://t.co/f5QnqOL8g1 https://t.co/lL4I5IJJNa\n",
      "2016-05-03 23:26:49\tFOX News: @realDonaldTrump wins #IndianaPrimary over @tedcruz as FOX's Lisa Lacerra reports: https://t.co/fmsbpNR21e\n",
      "2016-05-04 00:52:06\t#Trump takes #Indiana. #Cruz drops out of race. What do you think of #IndianaPrimary outcome for GOP? Use #tellusatoday, may publish reply.\n",
      "2016-05-04 01:15:42\tTrump has stepped to the microphone at Trump Tower in NYC. #IndianaPrimary\n",
      "2016-05-04 01:22:53\tSanders wins #IndianaPrimary. Adds to delegate count, but not likely to alter ending &amp; win nom. HRC loss is notable. https://t.co/a3OtGsrb31\n",
      "2016-05-04 01:27:03\thow long can HRC keep going...the networks want to know! #IndianaPrimary big Bernie win points him to the convention. #FeelTheBern\n",
      "2016-05-04 04:20:05\t.@BernieSanders beats @HillaryClinton in #IndianaPrimary https://t.co/Owgkjy7SYY #Election2016 https://t.co/jB4uUU7awN\n",
      "2016-05-04 08:01:01\tCruz ends presidential campaign after crushing Indiana loss  https://t.co/6DICnBp1Bp #IndianaPrimary #INprimary https://t.co/ywQbdeh7Hl\n"
     ]
    }
   ],
   "source": [
    "df_veri = df_smpl[df_smpl['user_verified'] == True].sample(min(k_docs, df_smpl[df_smpl['user_verified'] == True].shape[0]), random_state=2016)\n",
    "summ = df_veri.sort_values(by='created_at', ascending=True)\n",
    "\n",
    "for _,doc in summ.iterrows():\n",
    "    print(str(doc['created_at']) + '\\t' + doc['text'])"
   ]
  },
  {
   "cell_type": "markdown",
   "metadata": {},
   "source": [
    "## 3. Engagements Selection\n",
    "### method:\n",
    "Select k docs with highest engagements"
   ]
  },
  {
   "cell_type": "code",
   "execution_count": 11,
   "metadata": {
    "collapsed": false
   },
   "outputs": [],
   "source": [
    "df_smpl['engagements'] = df_smpl['favorite_count'] + df_smpl['retweet_count']"
   ]
  },
  {
   "cell_type": "code",
   "execution_count": 12,
   "metadata": {
    "collapsed": false
   },
   "outputs": [
    {
     "name": "stdout",
     "output_type": "stream",
     "text": [
      "2016-05-02 01:43:17\t.@realDonaldTrump whoops, look what I found,MSM! #IndianaPrimary #Trump2016 #TrumpTrain #Indiana #Hoosiers4Trump https://t.co/TxGaI6jCQZ\n",
      "2016-05-02 14:40:04\tBreaking News: @realDonaldTrump has won NOTHING! He hasn't won the GOP nomination &amp; won't. Stop listening to propaganda! :) #IndianaPrimary\n",
      "2016-05-02 23:32:30\tIn South Bend, where @tedcruz needs strong vote, @realDonaldTrump draws SRO to Century Center. #IndianaPrimary https://t.co/B98cTeqbpd\n",
      "2016-05-03 11:33:48\t#IndianaPrimary #ElectionDay  wake up America! #HillNo #NeverHillary  https://t.co/FljCfaB7ZH\n",
      "2016-05-03 13:59:54\t🔥KICK OUT THAT VIOLENT PROTESTOR🔥 Omg @Morning_Joe slaying @tedcruz this morning! #IndianaPrimary 🏀 #TrumpTrain 🚂💨 https://t.co/9rCtwTi4Sa\n",
      "2016-05-03 15:39:37\tIf you’re #StillSanders, stop checking “who’s with her” and get to work!: https://t.co/rNRrRZkIxi - via:@TheBernReport #IndianaPrimary\n",
      "2016-05-03 16:16:38\t#WomenForTrump: we don't fit your broadbrush attacks of demeaning generalizations. #IndianaPrimary @realDonaldTrump https://t.co/zr3Lvdsmi0\n",
      "2016-05-03 17:37:39\tWell... As a democrat, I voted #Trump2016 today @ the #IndianaPrimary https://t.co/UAMnObnRZg\n",
      "2016-05-03 18:06:08\tGOP should have nominee who hasn't been a Hillary Clinton enthusiast &amp; donor to her❌ #IndianaPrimary #ChooseCruz https://t.co/RBj1MWpn9h\n",
      "2016-05-03 21:56:35\tTrump says he \"loves the uneducated\"...I have to give him credit he really knows his base. #IndianaPrimary\n",
      "2016-05-03 22:56:45\tExit polls have Bernie up 12 over Clinton in #IndianaPrimary\n",
      "2016-05-03 23:26:26\tHoosier Daddy, Lyin' Ted?? #LyinTed #IndianaPrimary https://t.co/tmTRgMq4r8\n",
      "2016-05-03 23:42:23\tIronic moment: @BernieSanders winning Clinton County Indiana. #FeelTheBern #IndianaPrimary #INPrimary https://t.co/ciu99ngn2W\n",
      "2016-05-04 00:00:40\tNow that's a lead, @BernieSanders 👏👏  #IndianaPrimary https://t.co/KO06H0P3Vr\n",
      "2016-05-04 00:45:30\tAmen 👉🏻 Ted Cruz is OUT!!! Next up 👉🏻 Hillary Clinton! #TrumpTrain is headed to The White House!!! #IndianaPrimary\n",
      "2016-05-04 01:33:04\tHas @GlennBeck been 5150'd yet and put on suicide watch?  #IndianaPrimary Ted Cruz drops out of presidential race.\n",
      "2016-05-04 01:34:33\tLindsey Graham must be on his fainting couch. #IndianaPrimary\n",
      "2016-05-04 02:14:57\tLive look at John Kasich. #IndianaPrimary #Trump2016 https://t.co/zxdRjZzINB\n",
      "2016-05-04 03:34:05\t18 straight polls. 17 of them by double digits. #WakeUpDemocrats #IndianaPrimary https://t.co/XV2mejYofv\n",
      "2016-05-04 04:20:05\t.@BernieSanders beats @HillaryClinton in #IndianaPrimary https://t.co/Owgkjy7SYY #Election2016 https://t.co/jB4uUU7awN\n"
     ]
    }
   ],
   "source": [
    "df_eng = df_smpl.sort_values(by='engagements', ascending=False).head(k_docs)\n",
    "summ = df_eng.sort_values(by='created_at', ascending=True)\n",
    "\n",
    "for _,doc in summ.iterrows():\n",
    "    print(str(doc['created_at']) + '\\t' + doc['text'])"
   ]
  },
  {
   "cell_type": "markdown",
   "metadata": {},
   "source": [
    "## 4. TF-IDF Rank\n",
    "### method:\n",
    "Computes weights for each document using term frequencies and selects k best documents. The term frquency inverse document frequency equation computes a term importance which is higher if the term is frequent in one document but rare in the total corpus."
   ]
  },
  {
   "cell_type": "code",
   "execution_count": 13,
   "metadata": {
    "collapsed": false
   },
   "outputs": [
    {
     "name": "stdout",
     "output_type": "stream",
     "text": [
      "done in 0.000000s\n",
      "n_samples: 1000, n_features: 3443\n"
     ]
    }
   ],
   "source": [
    "t0 = time()\n",
    "#initialize sklearn vectorizer\n",
    "tfidf_vectorizer = TfidfVectorizer()\n",
    "print(\"done in %fs\" % (time() - t0))\n",
    "\n",
    "#create matrix of tfidf counts\n",
    "Xtfidf = tfidf_vectorizer.fit_transform(df_smpl['text'])\n",
    "print(\"n_samples: %d, n_features: %d\" % Xtfidf.shape)"
   ]
  },
  {
   "cell_type": "code",
   "execution_count": 14,
   "metadata": {
    "collapsed": false
   },
   "outputs": [],
   "source": [
    "#get sum tfidf for each doc\n",
    "Xtfidf_sums = Xtfidf.sum(axis=1)\n",
    "df_tfidf_sums = pd.DataFrame(Xtfidf_sums, columns=['tfidf_sum'])\n",
    "\n",
    "df_smpl = pd.merge(df_smpl, df_tfidf_sums, left_index=True, right_index=True)"
   ]
  },
  {
   "cell_type": "code",
   "execution_count": 15,
   "metadata": {
    "collapsed": false,
    "scrolled": false
   },
   "outputs": [
    {
     "name": "stdout",
     "output_type": "stream",
     "text": [
      "2016-05-03 03:14:39\tTrump will win the #IndianaPrimary and get more then 50% of the vote bet on it! Time to start focusing on the real enemy #NeverHillary !\n",
      "2016-05-03 16:40:53\tIf @tedcruz loses #IndianaPrimary today, I hope he will go next logical step: endorse or run as 3rd party candidate. https://t.co/7XYUDNffVB\n",
      "2016-05-03 17:52:38\tTrump is being sued for Fraud &amp; Sexual Assault but please Twitter, tell me more about how Cruz's dad killed JFK #IndianaPrimary #ChooseCruz\n",
      "2016-05-03 19:25:50\tTrump is mad that no one brings up his friends story in the national enquirer, so he dumb enough to bring it up himself #IndianaPrimary\n",
      "2016-05-03 22:36:52\tIndiana folks should really be voting on what makes them laugh harder, Trump's small hands or Cruz being the zodiac killer. #IndianaPrimary\n",
      "2016-05-03 23:30:20\tWe are taking your calls now live on @NewsmaxTV. This is your time to speak out and be heard by #America. Call 877-NEWSMAX. #IndianaPrimary\n",
      "2016-05-03 23:43:56\tThe Democratic race is over for all intents and purposes but if Bernie cant beat Hillary by at least 10 when she spent no $ #IndianaPrimary\n",
      "2016-05-03 23:45:00\tIt may be super close right now, but there are parts of Indiana that'll be favorable to Hillary that haven't reported yet. #IndianaPrimary\n",
      "2016-05-03 23:54:14\t#IndianaPrimary The last time I saw a knock out this quick Tyson &amp; Spinks fight was on HBO pay per view....lasted 18 seconds.\n",
      "2016-05-03 23:56:37\tBy the way DefeaTED, how did that Carly Fiorina VP pick work out for you? What, Feminism didn't win you any votes? Shocker! #IndianaPrimary\n",
      "2016-05-04 00:10:40\tWay to to go Indy voters! Trump soon up on Hillary by 10% and @BernieSanders is our only hope. The true moral candidate #IndianaPrimary\n",
      "2016-05-04 00:34:15\t@tedcruz It's the same for immigrants today but ur stuck on them being \"illegal\" The ones you want legally don't wash dishes #IndianaPrimary\n",
      "2016-05-04 00:37:35\tNot sure but \"Ted Cruz's 2016 running mate\" may be a better résumé item for Fiorina than \"Fired CEO of Hewlett-Packard\" #IndianaPrimary\n",
      "2016-05-04 00:40:29\tTed Cruz drops out of presidential race.  At least his now former VP pick will know how to lay off all those Cruz staffers. #IndianaPrimary\n",
      "2016-05-04 00:41:29\tOh man these people sounds honestly angry and upset at Cruz rally. Sounded like one dude just yelled \"what are you doing?!\" #IndianaPrimary\n",
      "2016-05-04 01:54:57\tHillary better have some epic oppo-research on Trump because so far he has been the \"Teflon Don.\" Nothing sticks to him! #IndianaPrimary\n",
      "2016-05-04 02:27:37\tIf John Kasich is allowed to stay in the race,i hereby announce my candidacy! I've won nearly as much votes/delegates as him #IndianaPrimary\n",
      "2016-05-04 02:30:59\tI am so lucky to live in a non swing state this election. I get to vote my conscience and not worry that I'm helping Trump. #IndianaPrimary\n",
      "2016-05-04 02:44:32\t@clmazin do you think Carly Fiorina will still hang out with Ted's kids or was that song all for nothing? #IndianaPrimary #TedCruz\n",
      "2016-05-04 03:18:56\tThe GOP hasn't done their jobs, so WE THE PEOPLE have found an outsider in Donald Trump to break up the corruption party.  #IndianaPrimary\n"
     ]
    }
   ],
   "source": [
    "df_tfidf = df_smpl.sort_values(by='tfidf_sum', ascending=False).head(k_docs)\n",
    "summ = df_tfidf.sort_values(by='created_at', ascending=True)\n",
    "\n",
    "for _,doc in summ.iterrows():\n",
    "    print(str(doc['created_at']) + '\\t' + doc['text'])"
   ]
  },
  {
   "cell_type": "markdown",
   "metadata": {},
   "source": [
    "#### tfidf stopped"
   ]
  },
  {
   "cell_type": "code",
   "execution_count": 16,
   "metadata": {
    "collapsed": false
   },
   "outputs": [
    {
     "name": "stdout",
     "output_type": "stream",
     "text": [
      "done in 0.000000s\n",
      "n_samples: 1000, n_features: 3235\n"
     ]
    }
   ],
   "source": [
    "t0 = time()\n",
    "#initialize sklearn vectorizer\n",
    "tfidf_vectorizer = TfidfVectorizer(stop_words='english')\n",
    "print(\"done in %fs\" % (time() - t0))\n",
    "\n",
    "#create matrix of tfidf counts\n",
    "Xtfidf = tfidf_vectorizer.fit_transform(df_smpl['text'])\n",
    "print(\"n_samples: %d, n_features: %d\" % Xtfidf.shape)"
   ]
  },
  {
   "cell_type": "code",
   "execution_count": 17,
   "metadata": {
    "collapsed": true
   },
   "outputs": [],
   "source": [
    "#get sum tfidf for each doc\n",
    "Xtfidf_sums = Xtfidf.sum(axis=1)\n",
    "df_tfidf_sums = pd.DataFrame(Xtfidf_sums, columns=['tfidf_stpd_sum'])\n",
    "\n",
    "df_smpl = pd.merge(df_smpl, df_tfidf_sums, left_index=True, right_index=True)"
   ]
  },
  {
   "cell_type": "code",
   "execution_count": 18,
   "metadata": {
    "collapsed": false
   },
   "outputs": [
    {
     "name": "stdout",
     "output_type": "stream",
     "text": [
      "2016-05-02 20:48:55\t@deneenborelli #IndianaPrimary VOTE for #Trump fight BS MSM picking on 1  INDIANA child for yelling 2 words IGNORE 100's of worse Protests.\n",
      "2016-05-02 22:09:38\tSR 821 Jeff Sessions: Obama to Sneak TPP Thru! #IndianaPrimary #INPrimary #TrumpTrain #Trump2016 #NeverCruz WATCH--&gt;https://t.co/Be0xPQmhMO\n",
      "2016-05-03 06:20:15\t@tedcruz #IndianaPrimary  Th momnt of human concptn captrd in thse pictrs. Bst reason to vte for #CruzCarly2016 https://t.co/8E3w9gD3Ud\n",
      "2016-05-03 08:04:30\t.@HillaryClinton says \"I didn't mean it that way\" reference to costing coal miners jobs. Just utter bullshit! #IndianaPrimary #FeelTheBern\n",
      "2016-05-03 15:03:47\tPolitical Speak: Small Business GOP= multinational corporate polluters DEM= companies &lt;50 employees #IndianaPrimary https://t.co/PYNkWKn9BY\n",
      "2016-05-03 18:15:19\t@tedcruz recent outburst &amp; desperate reach for attention is difficult to watch...kinda like watching a house go up in flames #IndianaPrimary\n",
      "2016-05-03 20:04:39\t#IndianaPrimary BLACK LIVES MATTER Bandana &amp; 4 Large White Custom Decals  #p2 #CTL #Anonymous https://t.co/Wkstpqt2TT\n",
      "2016-05-03 22:49:35\t#IndianaPrimary @foxnews exit polls: 53% of Hoosiers say they feel betrayed by Republican politicians; 42% say Cruz ran most unfair campaign\n",
      "2016-05-03 23:29:08\tHillary Clinton can barely beat a senile Jewish Socialist in adult diapers, yet she's gonna crush Trump? Dream on fucktards! #IndianaPrimary\n",
      "2016-05-03 23:52:43\t\"Great job\" by Lyin' @tedcruz &amp; Flyin' @carlyfiorina in #IndianaPrimary. Misery loves company. Time to support @realDonaldTrump. #Trump2016\n",
      "2016-05-03 23:54:14\t#IndianaPrimary The last time I saw a knock out this quick Tyson &amp; Spinks fight was on HBO pay per view....lasted 18 seconds.\n",
      "2016-05-03 23:56:57\t44% reporting statewide in GOP 3rd District #IndianaPrimary:   @Jim_Banks 23,453 - 35% @kiptom 20,935 - 31% @LizBrownUS 15,853 - 24%\n",
      "2016-05-04 00:37:35\tNot sure but \"Ted Cruz's 2016 running mate\" may be a better résumé item for Fiorina than \"Fired CEO of Hewlett-Packard\" #IndianaPrimary\n",
      "2016-05-04 00:41:29\tOh man these people sounds honestly angry and upset at Cruz rally. Sounded like one dude just yelled \"what are you doing?!\" #IndianaPrimary\n",
      "2016-05-04 01:13:09\tI really feel for poor Heidi Cruz. Getting a real Pat Nixon vibe to be honest @dick_nixon: https://t.co/Hebbb6Jsm5 #IndianaPrimary\n",
      "2016-05-04 01:13:10\tTed shld have read Cabbie the Cannabis Leaf instead of Green Eggs and Ham when he filibustered. LOL! #IndianaPrimary https://t.co/iWftrXIBJN\n",
      "2016-05-04 01:18:08\tChris Beard's time as UNLV basketball coach &gt; Carly Fiorina's time as Ted Cruz VP candidate #IndianaPrimary @MWCConnection\n",
      "2016-05-04 01:22:53\tSanders wins #IndianaPrimary. Adds to delegate count, but not likely to alter ending &amp; win nom. HRC loss is notable. https://t.co/a3OtGsrb31\n",
      "2016-05-04 03:26:42\t#IndianaPrimary: Donald Trump takes state, named presumptive GOP nominee; forcing Ted Cruz to suspend campaign https://t.co/iPP7tyPK4E\n",
      "2016-05-04 04:14:12\tTrump's victory is a testament to media's utter failure to fairly cover the campaign. Equal airtime law needed. #Trump #IndianaPrimary #GOP\n"
     ]
    }
   ],
   "source": [
    "df_tfidf_stpd = df_smpl.sort_values(by='tfidf_stpd_sum', ascending=False).head(k_docs)\n",
    "summ = df_tfidf_stpd.sort_values(by='created_at', ascending=True)\n",
    "\n",
    "for _,doc in summ.iterrows():\n",
    "    print(str(doc['created_at']) + '\\t' + doc['text'])"
   ]
  },
  {
   "cell_type": "markdown",
   "metadata": {},
   "source": [
    "#### tfidf cleaned"
   ]
  },
  {
   "cell_type": "code",
   "execution_count": 19,
   "metadata": {
    "collapsed": false
   },
   "outputs": [
    {
     "name": "stdout",
     "output_type": "stream",
     "text": [
      "done in 0.000000s\n",
      "n_samples: 1000, n_features: 2705\n"
     ]
    }
   ],
   "source": [
    "t0 = time()\n",
    "#initialize sklearn vectorizer\n",
    "tfidf_vectorizer = TfidfVectorizer(stop_words='english')\n",
    "print(\"done in %fs\" % (time() - t0))\n",
    "\n",
    "#create matrix of tfidf counts\n",
    "Xtfidf = tfidf_vectorizer.fit_transform(df_smpl['text_clean'])\n",
    "print(\"n_samples: %d, n_features: %d\" % Xtfidf.shape)"
   ]
  },
  {
   "cell_type": "code",
   "execution_count": 20,
   "metadata": {
    "collapsed": true
   },
   "outputs": [],
   "source": [
    "#get sum tfidf for each doc\n",
    "Xtfidf_sums = Xtfidf.sum(axis=1)\n",
    "df_tfidf_sums = pd.DataFrame(Xtfidf_sums, columns=['tfidf_clnd_sum'])\n",
    "\n",
    "df_smpl = pd.merge(df_smpl, df_tfidf_sums, left_index=True, right_index=True)"
   ]
  },
  {
   "cell_type": "code",
   "execution_count": 21,
   "metadata": {
    "collapsed": false
   },
   "outputs": [
    {
     "name": "stdout",
     "output_type": "stream",
     "text": [
      "2016-05-02 20:48:55\t@deneenborelli #IndianaPrimary VOTE for #Trump fight BS MSM picking on 1  INDIANA child for yelling 2 words IGNORE 100's of worse Protests.\n",
      "2016-05-03 08:04:30\t.@HillaryClinton says \"I didn't mean it that way\" reference to costing coal miners jobs. Just utter bullshit! #IndianaPrimary #FeelTheBern\n",
      "2016-05-03 16:45:40\t#IndianaPrimary this is your chance to make history! #Vote for @HillaryClinton - 1st major party woman nominee in 227 yrs! #Hillary2016\n",
      "2016-05-03 18:15:19\t@tedcruz recent outburst &amp; desperate reach for attention is difficult to watch...kinda like watching a house go up in flames #IndianaPrimary\n",
      "2016-05-03 18:33:54\tWhat goes thru the DNC's head? \"Hey, we need the Independents to win in Nov! FUCK 'EM! Let em vote for #Trump.\" #TYT #IndianaPrimary #Bernie\n",
      "2016-05-03 22:49:35\t#IndianaPrimary @foxnews exit polls: 53% of Hoosiers say they feel betrayed by Republican politicians; 42% say Cruz ran most unfair campaign\n",
      "2016-05-03 23:29:08\tHillary Clinton can barely beat a senile Jewish Socialist in adult diapers, yet she's gonna crush Trump? Dream on fucktards! #IndianaPrimary\n",
      "2016-05-03 23:52:43\t\"Great job\" by Lyin' @tedcruz &amp; Flyin' @carlyfiorina in #IndianaPrimary. Misery loves company. Time to support @realDonaldTrump. #Trump2016\n",
      "2016-05-03 23:54:14\t#IndianaPrimary The last time I saw a knock out this quick Tyson &amp; Spinks fight was on HBO pay per view....lasted 18 seconds.\n",
      "2016-05-03 23:54:47\tlooks pretty much like a tie in #IndianaPrimary --not bad for Clinton considering she invested not one cent in ads and Sanders spent plenty!\n",
      "2016-05-03 23:56:37\tBy the way DefeaTED, how did that Carly Fiorina VP pick work out for you? What, Feminism didn't win you any votes? Shocker! #IndianaPrimary\n",
      "2016-05-03 23:56:57\t44% reporting statewide in GOP 3rd District #IndianaPrimary:   @Jim_Banks 23,453 - 35% @kiptom 20,935 - 31% @LizBrownUS 15,853 - 24%\n",
      "2016-05-04 00:37:35\tNot sure but \"Ted Cruz's 2016 running mate\" may be a better résumé item for Fiorina than \"Fired CEO of Hewlett-Packard\" #IndianaPrimary\n",
      "2016-05-04 00:41:29\tOh man these people sounds honestly angry and upset at Cruz rally. Sounded like one dude just yelled \"what are you doing?!\" #IndianaPrimary\n",
      "2016-05-04 00:43:28\tCarly Fiorina was VP candidate for non nominee for a week.  I'm pretty that's a record.  The losing streak remains unbroken. #IndianaPrimary\n",
      "2016-05-04 00:47:58\tAll kidding aside, these are moments we pol junkies live for. The stuff we'll tell stories about 'til we kick the bucket. #IndianaPrimary\n",
      "2016-05-04 01:22:53\tSanders wins #IndianaPrimary. Adds to delegate count, but not likely to alter ending &amp; win nom. HRC loss is notable. https://t.co/a3OtGsrb31\n",
      "2016-05-04 01:33:45\tI feel so bad for the cold can of mushroom soup that Ted Cruz is gonna hate eat tonight. #IndianaPrimary #TedCruz #CruzCarly2016\n",
      "2016-05-04 02:59:19\tStreaming @seanhannity on @YouTube right now. So glad TV \"news\" in Canada doesn't look anything like this. #IndianaPrimary #FoxNews #ugh\n",
      "2016-05-04 04:14:12\tTrump's victory is a testament to media's utter failure to fairly cover the campaign. Equal airtime law needed. #Trump #IndianaPrimary #GOP\n"
     ]
    }
   ],
   "source": [
    "df_tfidf_clnd = df_smpl.sort_values(by='tfidf_clnd_sum', ascending=False).head(k_docs)\n",
    "summ = df_tfidf_clnd.sort_values(by='created_at', ascending=True)\n",
    "\n",
    "for _,doc in summ.iterrows():\n",
    "    print(str(doc['created_at']) + '\\t' + doc['text'])"
   ]
  },
  {
   "cell_type": "markdown",
   "metadata": {},
   "source": [
    "#### tfidf adjusted"
   ]
  },
  {
   "cell_type": "code",
   "execution_count": 22,
   "metadata": {
    "collapsed": false
   },
   "outputs": [
    {
     "name": "stdout",
     "output_type": "stream",
     "text": [
      "done in 0.000000s\n",
      "n_samples: 1000, n_features: 2704\n"
     ]
    }
   ],
   "source": [
    "t0 = time()\n",
    "#initialize sklearn vectorizer\n",
    "tfidf_vectorizer = TfidfVectorizer(max_df=0.99, stop_words='english')\n",
    "print(\"done in %fs\" % (time() - t0))\n",
    "\n",
    "#create matrix of tfidf counts\n",
    "Xtfidf = tfidf_vectorizer.fit_transform(df_smpl['text_clean'])\n",
    "print(\"n_samples: %d, n_features: %d\" % Xtfidf.shape)"
   ]
  },
  {
   "cell_type": "code",
   "execution_count": 23,
   "metadata": {
    "collapsed": true
   },
   "outputs": [],
   "source": [
    "#get sum tfidf for each doc\n",
    "Xtfidf_sums = Xtfidf.sum(axis=1)\n",
    "df_tfidf_sums = pd.DataFrame(Xtfidf_sums, columns=['tfidf_adj_sum'])\n",
    "\n",
    "df_smpl = pd.merge(df_smpl, df_tfidf_sums, left_index=True, right_index=True)"
   ]
  },
  {
   "cell_type": "code",
   "execution_count": 24,
   "metadata": {
    "collapsed": false
   },
   "outputs": [
    {
     "name": "stdout",
     "output_type": "stream",
     "text": [
      "2016-05-02 20:48:55\t@deneenborelli #IndianaPrimary VOTE for #Trump fight BS MSM picking on 1  INDIANA child for yelling 2 words IGNORE 100's of worse Protests.\n",
      "2016-05-03 08:04:30\t.@HillaryClinton says \"I didn't mean it that way\" reference to costing coal miners jobs. Just utter bullshit! #IndianaPrimary #FeelTheBern\n",
      "2016-05-03 16:45:40\t#IndianaPrimary this is your chance to make history! #Vote for @HillaryClinton - 1st major party woman nominee in 227 yrs! #Hillary2016\n",
      "2016-05-03 18:15:19\t@tedcruz recent outburst &amp; desperate reach for attention is difficult to watch...kinda like watching a house go up in flames #IndianaPrimary\n",
      "2016-05-03 18:33:54\tWhat goes thru the DNC's head? \"Hey, we need the Independents to win in Nov! FUCK 'EM! Let em vote for #Trump.\" #TYT #IndianaPrimary #Bernie\n",
      "2016-05-03 22:49:35\t#IndianaPrimary @foxnews exit polls: 53% of Hoosiers say they feel betrayed by Republican politicians; 42% say Cruz ran most unfair campaign\n",
      "2016-05-03 23:29:08\tHillary Clinton can barely beat a senile Jewish Socialist in adult diapers, yet she's gonna crush Trump? Dream on fucktards! #IndianaPrimary\n",
      "2016-05-03 23:52:43\t\"Great job\" by Lyin' @tedcruz &amp; Flyin' @carlyfiorina in #IndianaPrimary. Misery loves company. Time to support @realDonaldTrump. #Trump2016\n",
      "2016-05-03 23:54:14\t#IndianaPrimary The last time I saw a knock out this quick Tyson &amp; Spinks fight was on HBO pay per view....lasted 18 seconds.\n",
      "2016-05-03 23:54:47\tlooks pretty much like a tie in #IndianaPrimary --not bad for Clinton considering she invested not one cent in ads and Sanders spent plenty!\n",
      "2016-05-03 23:56:37\tBy the way DefeaTED, how did that Carly Fiorina VP pick work out for you? What, Feminism didn't win you any votes? Shocker! #IndianaPrimary\n",
      "2016-05-03 23:56:57\t44% reporting statewide in GOP 3rd District #IndianaPrimary:   @Jim_Banks 23,453 - 35% @kiptom 20,935 - 31% @LizBrownUS 15,853 - 24%\n",
      "2016-05-04 00:37:35\tNot sure but \"Ted Cruz's 2016 running mate\" may be a better résumé item for Fiorina than \"Fired CEO of Hewlett-Packard\" #IndianaPrimary\n",
      "2016-05-04 00:41:29\tOh man these people sounds honestly angry and upset at Cruz rally. Sounded like one dude just yelled \"what are you doing?!\" #IndianaPrimary\n",
      "2016-05-04 00:43:28\tCarly Fiorina was VP candidate for non nominee for a week.  I'm pretty that's a record.  The losing streak remains unbroken. #IndianaPrimary\n",
      "2016-05-04 00:47:58\tAll kidding aside, these are moments we pol junkies live for. The stuff we'll tell stories about 'til we kick the bucket. #IndianaPrimary\n",
      "2016-05-04 01:22:53\tSanders wins #IndianaPrimary. Adds to delegate count, but not likely to alter ending &amp; win nom. HRC loss is notable. https://t.co/a3OtGsrb31\n",
      "2016-05-04 01:33:45\tI feel so bad for the cold can of mushroom soup that Ted Cruz is gonna hate eat tonight. #IndianaPrimary #TedCruz #CruzCarly2016\n",
      "2016-05-04 02:59:19\tStreaming @seanhannity on @YouTube right now. So glad TV \"news\" in Canada doesn't look anything like this. #IndianaPrimary #FoxNews #ugh\n",
      "2016-05-04 04:14:12\tTrump's victory is a testament to media's utter failure to fairly cover the campaign. Equal airtime law needed. #Trump #IndianaPrimary #GOP\n"
     ]
    }
   ],
   "source": [
    "df_tfidf_adj = df_smpl.sort_values(by='tfidf_adj_sum', ascending=False).head(k_docs)\n",
    "summ = df_tfidf_adj.sort_values(by='created_at', ascending=True)\n",
    "\n",
    "for _,doc in summ.iterrows():\n",
    "    print(str(doc['created_at']) + '\\t' + doc['text'])"
   ]
  },
  {
   "cell_type": "markdown",
   "metadata": {},
   "source": [
    "## 5. Cluster Selection\n",
    "### method:\n",
    "Cluster documents, select k docs / k clusters from each cluster, for an evenly distributed information pool."
   ]
  },
  {
   "cell_type": "code",
   "execution_count": 25,
   "metadata": {
    "collapsed": false
   },
   "outputs": [
    {
     "name": "stdout",
     "output_type": "stream",
     "text": [
      "done in 0.000000s\n",
      "n_samples: 1000, n_features: 2912\n"
     ]
    }
   ],
   "source": [
    "t0 = time()\n",
    "#initialize sklearn vectorizer\n",
    "tfidf_vectorizer = TfidfVectorizer()\n",
    "print(\"done in %fs\" % (time() - t0))\n",
    "\n",
    "#create matrix of tfidf counts\n",
    "Xtfidf = tfidf_vectorizer.fit_transform(df_smpl['text_clean'])\n",
    "print(\"n_samples: %d, n_features: %d\" % Xtfidf.shape)"
   ]
  },
  {
   "cell_type": "code",
   "execution_count": 26,
   "metadata": {
    "collapsed": false
   },
   "outputs": [],
   "source": [
    "km = KMeans(n_clusters=k_docs, random_state=2016)"
   ]
  },
  {
   "cell_type": "code",
   "execution_count": 27,
   "metadata": {
    "collapsed": false
   },
   "outputs": [
    {
     "name": "stdout",
     "output_type": "stream",
     "text": [
      "done in 1.118277s\n"
     ]
    }
   ],
   "source": [
    "t0 = time()\n",
    "km.fit(Xtfidf)\n",
    "print(\"done in %fs\" % (time() - t0))"
   ]
  },
  {
   "cell_type": "code",
   "execution_count": 28,
   "metadata": {
    "collapsed": true
   },
   "outputs": [],
   "source": [
    "dfclust = pd.DataFrame(km.labels_, columns=['cluster'])"
   ]
  },
  {
   "cell_type": "code",
   "execution_count": 29,
   "metadata": {
    "collapsed": false
   },
   "outputs": [
    {
     "data": {
      "text/plain": [
       "<matplotlib.axes._subplots.AxesSubplot at 0xb8a8588>"
      ]
     },
     "execution_count": 29,
     "metadata": {},
     "output_type": "execute_result"
    },
    {
     "data": {
      "image/png": "[encoded data removed]",
      "text/plain": [
       "<matplotlib.figure.Figure at 0x10eeff28>"
      ]
     },
     "metadata": {},
     "output_type": "display_data"
    }
   ],
   "source": [
    "dfclust['cluster'].hist()"
   ]
  },
  {
   "cell_type": "code",
   "execution_count": 30,
   "metadata": {
    "collapsed": false
   },
   "outputs": [],
   "source": [
    "df_smpl = pd.merge(df_smpl, dfclust, left_index=True, right_index=True)"
   ]
  },
  {
   "cell_type": "markdown",
   "metadata": {},
   "source": [
    "#### cluster first"
   ]
  },
  {
   "cell_type": "code",
   "execution_count": 31,
   "metadata": {
    "collapsed": false
   },
   "outputs": [
    {
     "name": "stdout",
     "output_type": "stream",
     "text": [
      "2016-05-02 00:21:31\t#IndianaPrimary..why would anyone pay $353K to dine with Hillary?..wealthy people view this 'donation' as an investment and demand a return.\n",
      "2016-05-02 00:25:34\tLimbaugh: Ted Cruz Is ‘Inarguably Thoroughbred Conservative’ [VIDEO] https://t.co/0OVrmj16zm  #RedNationRising #Indianaprimary #CruzCrew\n",
      "2016-05-02 00:30:43\t🚨#Bernie WINS when voter turnout is #YUGE Find Polls ☑https://t.co/8GMbIaoSqf #VoteBernie #IndianaPrimary #INPrimary https://t.co/Ez5TdlDC32\n",
      "2016-05-02 00:33:59\tWe already know when #Trump wins huge in #IndianaPrimary, @tedcruz will posit the #CaliforniaPrimary hinges on everything. Rinse and repeat.\n",
      "2016-05-02 01:11:48\tIt all comes to the Crossroads of America! #IndianaPrimary #INPrimary #INPrimary2016 #Indianoplace\n",
      "2016-05-02 01:38:09\t#indianaprimary Clint Eastwood  ENDORSES Donald J. Trump for President Of The United States.  SHUT UP https://t.co/vqQBCDRVJy\n",
      "2016-05-02 01:43:17\t.@realDonaldTrump whoops, look what I found,MSM! #IndianaPrimary #Trump2016 #TrumpTrain #Indiana #Hoosiers4Trump https://t.co/TxGaI6jCQZ\n",
      "2016-05-02 01:53:29\t#IndianaPrimary Get out &amp; vote! Bring everyone you know with you! Vote #BernieSanders #FeelTheBern #NotMeUs  https://t.co/gxStFkqJu4\n",
      "2016-05-02 02:44:49\tnot a peep from @tedcruz about his home state of Texas. #INDIANAPRIMARY #AMERICAFIRST #VOTETRUMP https://t.co/6SJ8fPVakH\n",
      "2016-05-02 03:22:56\tCarly drops like a rock, just like Ted's chances of the nomination. #Trump2016 #IndianaPrimary #CaliforniaPrimary https://t.co/hxNPpQxQ84\n",
      "2016-05-02 08:13:26\t#Trump strikes in the family this time.  #INPrimary #IN #Indiana #Primary #IndianaPrimary #Hoosiers4Cruz #ChooseCruz https://t.co/feOVySwx0y\n",
      "2016-05-02 09:12:02\tFour new ads airing in Indiana https://t.co/j7N60aCV6Z via @LegInsurrection #tcot #gop #ccot #INpol #INPrimary #IndianaPrimary #ChooseCruz\n",
      "2016-05-02 12:28:38\tMT @Karee_news: #IndianaPrimary #Conservatives across this land are counting you to #ChooseCruz. https://t.co/WtejAoKMRK #CruzCrew #PJNET\n",
      "2016-05-02 12:37:48\tGOOD JOB! LOOKout for Cheaters! #BernieSanders #FeelTheBern @People4Bernie @Women4Bernie #IndianaPrimary #CAPrimary https://t.co/NIii3vmdpZ\n",
      "2016-05-02 13:43:29\tDonald Trump #DonaldTrump #INPrimary #Indiana #Nebraska #IndianaPrimary #Oregon #Washington #WVA #SD #OR #WA https://t.co/HKDCNMhfgu\n",
      "2016-05-02 13:59:31\t#tRUSTED If @TedCruz only had a heart Bearing false witness against neighbors #Indiana #IndianaPrimary #INprimary https://t.co/RnWRIjsdhV\n",
      "2016-05-02 19:08:53\t👀 @FoxNews right now w/ @tedcruz talking 2 these rude Trump supporters. In all fairness these ppl need 2 show respect. #IndianaPrimary\n",
      "2016-05-02 22:51:01\tEnjoying the few last hours of happiness before Indiana finds a way to fuck up the primary. #IndianaPrimary #nottrump #FeelTheBern\n",
      "2016-05-03 13:41:22\t#Trump Sets Up for LANDSLIDE Win Against #Hillary ~ https://t.co/H226w4RR1z #msnbc #foxnews #IndianaPrimary #nbc #cnn #wapo\n",
      "2016-05-03 20:04:39\t#IndianaPrimary BLACK LIVES MATTER Bandana &amp; 4 Large White Custom Decals  #p2 #CTL #Anonymous https://t.co/Wkstpqt2TT\n"
     ]
    }
   ],
   "source": [
    "df_clust_first = df_smpl.groupby('cluster').first()\n",
    "summ = df_clust_first.sort_values(by='created_at', ascending=True)\n",
    "\n",
    "for _,doc in summ.iterrows():\n",
    "    print(str(doc['created_at']) + '\\t' + doc['text'])"
   ]
  },
  {
   "cell_type": "markdown",
   "metadata": {},
   "source": [
    "#### cluster last"
   ]
  },
  {
   "cell_type": "code",
   "execution_count": 32,
   "metadata": {
    "collapsed": false
   },
   "outputs": [
    {
     "name": "stdout",
     "output_type": "stream",
     "text": [
      "2016-05-03 17:23:54\tMT @Karee_news: #IndianaPrimary #Conservatives across this land are counting you to #ChooseCruz. https://t.co/V4It8w9VEw #CruzCrew #PJNET\n",
      "2016-05-03 20:11:42\tDonald Trump #DonaldTrump #INPrimary #Indiana #Nebraska #IndianaPrimary #Oregon #Washington #WVA #SD #OR #WA https://t.co/ZK5TpyZvWD\n",
      "2016-05-03 23:34:15\tCongratulations to Representative @ToddYoungIN for winning his #Indiana United States Senate Primary #INprimary  #INpolitics #IndianaPrimary\n",
      "2016-05-04 02:58:17\t@BernieSanders wins #IndianaPrimary but will @CNNPolitics let him speak before 11pm? No!! @CNN you suck!\n",
      "2016-05-04 03:17:31\tWhat the HELL did you think Fiorina was gonna do for you, Cruz? #IndianaPrimary\n",
      "2016-05-04 04:21:47\tCan we also acknowledge that the religious right do not have power to even get a win within Republican Party? #PaperTiger #IndianaPrimary -…\n",
      "2016-05-04 04:45:58\tDon't fret, America. There's still time to accept @HillaryClinton as your personal savior. #IndianaPrimary\n",
      "2016-05-04 05:44:43\tWe just won Indiana! https://t.co/6gjuvyaLa6  #INPrimary #IndianaPrimary #BernieSanders #Bernie2016 #FeelTheBern https://t.co/QF67QND7XP\n",
      "2016-05-04 07:54:40\t#IndianaPrimary Hillary Clinton #FightingForUs X-Large White Custom Decal  #CTL #dnc #sgp #dnc #BLM https://t.co/9jseEelRIk\n",
      "2016-05-04 10:20:07\tDonald Trump did not awaken us, Marxism did. https://t.co/TJTvVA3yuv #Trump2016 #Trump #HillaryClinton. #IndianaPrimary\n",
      "2016-05-04 10:37:02\t.@realDonaldTrump won #IndianaPrimary &amp; @tedcruz has dropped out! @JoeGomezNews joins us at 5:40 with more details. https://t.co/pmzODJWRah\n",
      "2016-05-04 11:06:30\t#IndianaPrimary was a romp for @realDonaldTrump #gdny\n",
      "2016-05-04 11:10:30\tGood morning. Ye Gads. Thanks *a lot* #IndianaPrimary - This is what it sounds like when GOPs cry.\n",
      "2016-05-04 13:40:13\t#IndianaPrimary The msg is once again very clear. Ppl don't want you @HillaryClinton . They want Bernie Sanders #Election2016 #Bernie2016\n",
      "2016-05-04 14:14:43\tHow many businesses has #Trump been in control of that are now defunct? #Gma #IndianaPrimary\n",
      "2016-05-04 14:17:07\tThank you #IndianaPrimary #TedCruz voters! You alone restore my faith in a decent, moral, Constitution-based society https://t.co/DEBaClxGYK\n",
      "2016-05-04 14:18:41\tResults from #IndianaPrimary: Trey Hollingsworth wins GOP nomination in 9th District | https://t.co/YvlF8YJvMB https://t.co/x3gZFnmMQL\n",
      "2016-05-04 14:28:37\t@realDonaldTrump to be presumptive GOP nominee following #IndianaPrimary and Cruz has dropped out!\n",
      "2016-05-04 14:41:29\tFeeling boring. #liker #bored #followme #tweet #IndianaPrimary\n",
      "2016-05-04 14:54:36\t\"The longer Sanders is in the race, the pushes Clinton further to the left.\"  Agree? Weigh in: https://t.co/vNWypfb6hL #IndianaPrimary\n"
     ]
    }
   ],
   "source": [
    "df_clust_last = df_smpl.groupby('cluster').last()\n",
    "summ = df_clust_last.sort_values(by='created_at', ascending=True)\n",
    "\n",
    "for _,doc in summ.iterrows():\n",
    "    print(str(doc['created_at']) + '\\t' + doc['text'])"
   ]
  },
  {
   "cell_type": "markdown",
   "metadata": {},
   "source": [
    "#### cluster weight random"
   ]
  },
  {
   "cell_type": "code",
   "execution_count": 33,
   "metadata": {
    "collapsed": false
   },
   "outputs": [],
   "source": [
    "dfclust_weights = pd.DataFrame(dfclust['cluster'].value_counts(normalize=True)).reset_index()\n",
    "dfclust_weights.columns = [['cluster', 'cluster_weight']]"
   ]
  },
  {
   "cell_type": "code",
   "execution_count": 34,
   "metadata": {
    "collapsed": false
   },
   "outputs": [],
   "source": [
    "df_smpl = pd.merge(df_smpl, dfclust_weights, how='left', on='cluster')"
   ]
  },
  {
   "cell_type": "code",
   "execution_count": 35,
   "metadata": {
    "collapsed": false
   },
   "outputs": [
    {
     "name": "stdout",
     "output_type": "stream",
     "text": [
      "2016-05-02 17:22:52 13\tBill Clinton meets with Hillary Clinton supporters in Indianapolis  #IndianaPrimary  #INPrimary  #ImWithHer   https://t.co/BAt0XlKOxP\n",
      "2016-05-02 23:21:53 16\tTrump is Insane, Trump is Power Mad, Trump Is EVIL! #TrumpIsEvil #NeverTrump #IndianaPrimary #INPrimary #GOP https://t.co/NdfvDTdZ6k\n",
      "2016-05-03 01:05:44 4\t#kellyfile #IndianaPrimary #Hoosiers #HoosiersForTrump THANK YOU HOOSIERS! GET OUT AND VOTE! KEEP PUSHING AMERICA! https://t.co/56WLipdDkt\n",
      "2016-05-03 13:23:16 4\tAfter you vote GOTV: https://t.co/Fxa15SEBgY #IndianaPrimary #INPrimary https://t.co/Lb3ZMdEFAW - People4Bernie\n",
      "2016-05-03 14:38:16 1\t#IndianaPrimary #Trump2016 It's never too late to get on the #TrumpTrain  https://t.co/7SkZjtWGKn\n",
      "2016-05-03 20:25:09 7\tMT @gracy69epixnet: Vote 4 #TedCruz the Commander in Chief who always defends USA. https://t.co/vfO7pvVP2N #CruzCrew #PJNET #IndianaPrimary\n",
      "2016-05-03 23:05:00 8\tIndiana: only good for cheap cigarettes and really dangerous fireworks. #primary500 #indianaprimary\n",
      "2016-05-03 23:09:25 1\t.@tedcruz Cya bitch!  #CruzCarly2016  #IndianaPrimary  #cnnelection  #MAGA #TooSlowJoe #FishMonster\n",
      "2016-05-04 00:16:33 10\tOnce again, The Nixon Rule held- \"Whenever there's a movement to stop X..........bet on X\"    #IndianaPrimary\n",
      "2016-05-04 00:21:04 13\tThere are too many bald men at this Sanders rally #IndianaPrimary\n",
      "2016-05-04 00:28:18 8\tGet ready for this delusional loser's speech #LyinTed #IndianaPrimary\n",
      "2016-05-04 00:36:32 8\tDamn it, Hillary. Put this bastard to bed. #IndianaPrimary\n",
      "2016-05-04 00:38:54 8\tThe Moose is going back to Canada. #IndianaPrimary https://t.co/lqJAdgLssW\n",
      "2016-05-04 00:49:15 12\tIf we are using a loose standard for the term \"lecture\" then yeah. #IndianaPrimary https://t.co/azMDv9E0nh\n",
      "2016-05-04 00:54:24 13\tLooks like Bernie Sanders has bested Hillary Clinton in Indiana #IndianaPrimary\n",
      "2016-05-04 00:58:28 7\tCruz dropping out overshadowing Bernie winning in IN...freakin media #IndianaPrimary\n",
      "2016-05-04 00:59:35 7\tNo matter what happens now, Lucifer will not be in the White House in 2017. Hallelujah and praise God. #TedCruz #IndianaPrimary\n",
      "2016-05-04 01:15:23 16\tDonald Trump making victory speech. #IndianaPrimary\n",
      "2016-05-04 02:22:06 15\tRAW VIDEO: Former Pres Bill Clinton speaks to #Louisville crowd on behalf of wife. #IndianaPrimary. #Elections2016 https://t.co/yiRvWTilUG\n",
      "2016-05-04 03:51:16 10\tOn a somewhat related note, SUPER pumped to see what SNL does re: the #IndianaPrimary\n"
     ]
    }
   ],
   "source": [
    "df_clust_wght = df_smpl.sample(k_docs, weights='cluster_weight', random_state=2016)\n",
    "summ = df_clust_wght.sort_values(by='created_at', ascending=True)\n",
    "\n",
    "for _,doc in summ.iterrows():\n",
    "    print(str(doc['created_at']) + ' ' + str(doc['cluster']) + '\\t' + doc['text'])"
   ]
  },
  {
   "cell_type": "markdown",
   "metadata": {},
   "source": [
    "## 6. Noun Phrases\n",
    "### method:\n",
    "using off the shelf nlp tool NLTK, POS tag and chunk tweets looking for noun phrases and verbs"
   ]
  },
  {
   "cell_type": "code",
   "execution_count": 36,
   "metadata": {
    "collapsed": true
   },
   "outputs": [],
   "source": [
    "def event_check_NPV(text):\n",
    "    tokens = nltk.word_tokenize(text)\n",
    "    pos = nltk.pos_tag(tokens)\n",
    "    last = ('','')\n",
    "    event = 0\n",
    "    for item in pos:\n",
    "        #if last was noun\n",
    "        if last[1][0:2] == 'NN':\n",
    "            #check for verb\n",
    "            if item[1][0] == 'V':\n",
    "                event = 1\n",
    "        last = item\n",
    "    return event"
   ]
  },
  {
   "cell_type": "code",
   "execution_count": 37,
   "metadata": {
    "collapsed": false
   },
   "outputs": [
    {
     "name": "stdout",
     "output_type": "stream",
     "text": [
      "Wall time: 2min 58s\n"
     ]
    }
   ],
   "source": [
    "%%time\n",
    "df_smpl['event_NPV'] = df_smpl['text'].apply(lambda text: event_check_NPV(text))"
   ]
  },
  {
   "cell_type": "code",
   "execution_count": 38,
   "metadata": {
    "collapsed": false
   },
   "outputs": [
    {
     "name": "stdout",
     "output_type": "stream",
     "text": [
      "2016-05-02 17:22:52\tBill Clinton meets with Hillary Clinton supporters in Indianapolis  #IndianaPrimary  #INPrimary  #ImWithHer   https://t.co/BAt0XlKOxP\n",
      "2016-05-02 20:04:00\tI dont get how someone can be that nasty. At least @tedcruz had the 🏐⚽️🏀 to face/visit the crowd. #IndianaPrimary\n",
      "2016-05-02 20:48:55\t@deneenborelli #IndianaPrimary VOTE for #Trump fight BS MSM picking on 1  INDIANA child for yelling 2 words IGNORE 100's of worse Protests.\n",
      "2016-05-03 19:59:16\tYa'll are making my thumb tired liking all these #iVoted tweets.  I'll get over it. KEEP VOTING. 😉  #IndianaPrimary\n",
      "2016-05-03 22:47:29\tHat #IndianaPrimary #HillaryClinton extends her lead to 15% over Sanders with 3% reporting. Great start! https://t.co/R54psMPfsU\n",
      "2016-05-03 22:56:45\tExit polls have Bernie up 12 over Clinton in #IndianaPrimary\n",
      "2016-05-03 23:14:37\t#Trump wins #IndianaPrimary making him now only 200 delegates short of wining the #GOP nomination https://t.co/vo3luxV3O6\n",
      "2016-05-04 00:32:50\tTrump has literally knocked every supposedly promising candidate out of the race #IndianaPrimary\n",
      "2016-05-04 00:34:15\t@tedcruz It's the same for immigrants today but ur stuck on them being \"illegal\" The ones you want legally don't wash dishes #IndianaPrimary\n",
      "2016-05-04 00:57:10\tMeanwhile the good news is Bernie is still leading. #FeelTheBern #IndianaPrimary\n",
      "2016-05-04 00:58:48\t#IndianaPrimary: @tedcruz has suspended his campaign.  https://t.co/IvzxWOGtPb\n",
      "2016-05-04 01:20:57\t@realDonaldTrump says ppl will be proud to be miners when this country &amp; world are moving AWAY from coal. Dumbass #ImWithHer #IndianaPrimary\n",
      "2016-05-04 01:21:31\tToo bad Cruz didn't grab Sanders w/ the hook on the way out. Time to focus on the general.  #IndianaPrimary @HillaryClinton #DNC  #ImWithHer\n",
      "2016-05-04 01:33:45\tI feel so bad for the cold can of mushroom soup that Ted Cruz is gonna hate eat tonight. #IndianaPrimary #TedCruz #CruzCarly2016\n",
      "2016-05-04 01:39:01\tBREAKING: Sanders wins the Indiana Democratic primary. #IndianaPrimary\n",
      "2016-05-04 01:48:36\tIt may not be popular to ask this question. But what was Ted Cruz's father doing in that photo with Oswald? #IndianaPrimary\n",
      "2016-05-04 02:25:49\tNoblesville superintendent says school referendum passes with 73 percent of vote in favor of it.  #IndianaPrimary #schoolref16\n",
      "2016-05-04 04:14:12\tTrump's victory is a testament to media's utter failure to fairly cover the campaign. Equal airtime law needed. #Trump #IndianaPrimary #GOP\n",
      "2016-05-04 04:20:05\t.@BernieSanders beats @HillaryClinton in #IndianaPrimary https://t.co/Owgkjy7SYY #Election2016 https://t.co/jB4uUU7awN\n",
      "2016-05-04 04:40:27\tPlease don't make the generalization that Republican women favor #Trump. Many of us just DON'T. #Elections2016 #IndianaPrimary\n"
     ]
    }
   ],
   "source": [
    "df_NPV_rndm = df_smpl[df_smpl['event_NPV'] == 1].sample(k_docs, random_state=2016)\n",
    "summ = df_NPV_rndm.sort_values(by='created_at', ascending=True)\n",
    "\n",
    "for _,doc in summ.iterrows():\n",
    "    print(str(doc['created_at']) + '\\t' + doc['text'])"
   ]
  },
  {
   "cell_type": "code",
   "execution_count": 39,
   "metadata": {
    "collapsed": true
   },
   "outputs": [],
   "source": [
    "grammar = \"\"\"NBAR: {<NN.*|JJ>*<NN.*>} \n",
    "NP: {<NBAR>} \n",
    "{<NBAR><IN><NBAR>}\"\"\"\n",
    "cp = nltk.RegexpParser(grammar)"
   ]
  },
  {
   "cell_type": "code",
   "execution_count": 40,
   "metadata": {
    "collapsed": false
   },
   "outputs": [],
   "source": [
    "def event_check_NPVNP(text):\n",
    "    tokens = nltk.word_tokenize(text)\n",
    "    pos = nltk.pos_tag(tokens)\n",
    "    result = cp.parse(pos)\n",
    "\n",
    "    structure = [node[1] if type(node) != nltk.Tree else 'NP' for node in result]\n",
    "    ls = [t[0] for t in structure]\n",
    "\n",
    "    NP = False\n",
    "    NP_V = False\n",
    "    NP_V_NP = 0\n",
    "    for t in ls:\n",
    "        if NP_V == True and t == 'N':\n",
    "            NP_V_NP = 1\n",
    "        elif NP_V == True and t not in ['N','V']:\n",
    "            NP = False\n",
    "            NP_V = False\n",
    "        if NP == True and t == 'V':\n",
    "            NP_V = True\n",
    "        if t == 'N':\n",
    "            NP = True\n",
    "    return NP_V_NP"
   ]
  },
  {
   "cell_type": "code",
   "execution_count": 41,
   "metadata": {
    "collapsed": false
   },
   "outputs": [
    {
     "name": "stdout",
     "output_type": "stream",
     "text": [
      "Wall time: 2min 50s\n"
     ]
    }
   ],
   "source": [
    "%%time\n",
    "df_smpl['event_NPVNP'] = df_smpl['text'].apply(lambda text: event_check_NPVNP(text))"
   ]
  },
  {
   "cell_type": "code",
   "execution_count": 42,
   "metadata": {
    "collapsed": false
   },
   "outputs": [
    {
     "name": "stdout",
     "output_type": "stream",
     "text": [
      "2016-05-02 20:17:34\tThe fact that people still support Hillary. That nasty, rape apologists! #Hillary4Prison2016 #IndianaPrimary  https://t.co/vgqxFBZ8hd\n",
      "2016-05-02 23:21:53\tTrump is Insane, Trump is Power Mad, Trump Is EVIL! #TrumpIsEvil #NeverTrump #IndianaPrimary #INPrimary #GOP https://t.co/NdfvDTdZ6k\n",
      "2016-05-02 23:32:30\tIn South Bend, where @tedcruz needs strong vote, @realDonaldTrump draws SRO to Century Center. #IndianaPrimary https://t.co/B98cTeqbpd\n",
      "2016-05-03 00:04:06\tLou Holtz gets in on the action and endorses @realDonaldTrump! #NotreDame #INPrimary #IndianaPrimary #Trump2016 https://t.co/u8urEh9XjA\n",
      "2016-05-03 11:22:44\tI urgently plead w/ #IndianaPrimary voters to vote @tedcruz today. It is of utmost importance that we repudiate sideshow Trump! #NeverTrump\n",
      "2016-05-03 13:22:40\tAmerica wants Aunite Hillary NOT Comrade Bernie   #IndianaPrimary #PrimaryDay #HillaryStrong #ReadyForHillary https://t.co/CIwFsNCp2W\n",
      "2016-05-03 15:59:50\t#HillaryClinton brings #Raise the #MinimumWage  #Raising Tax on the #Rich #Economy #renewableenergy  #IndianaPrimary https://t.co/IGJIJz5xmV\n",
      "2016-05-03 16:03:09\tLet's do this Indiana!--- Indiana Boasts Record Turnout for Early Voting - Breitbart https://t.co/bN7NcZJUWT #IndianaPrimary\n",
      "2016-05-03 16:45:40\t#IndianaPrimary this is your chance to make history! #Vote for @HillaryClinton - 1st major party woman nominee in 227 yrs! #Hillary2016\n",
      "2016-05-03 17:21:05\tBob Knight endorsed Donald Trump. But what about NASCAR? #IndianaPrimary https://t.co/kxBuQ9m7Ev https://t.co/aQ7gNF2q8k\n",
      "2016-05-03 22:09:23\t#IndianaPrimary #berniesupporters Dn let that ballot's deliberately suggestive wording push you to vote for any of Clinton's delegates.\n",
      "2016-05-03 22:16:32\tProudly exercised my right to vote today in the #IndianaPrimary. #CruzCrew #DumpTrump https://t.co/6C1yjWe1Sq\n",
      "2016-05-03 23:59:52\tThat would be funny if Sanders beats Clinton in #IndianaPrimary\n",
      "2016-05-04 00:34:17\tguardian: Ted Cruz to address supporters after #IndianaPrimary loss – watch live: https://t.co/d4TsKGhslH\n",
      "2016-05-04 00:46:06\tUm where is @JohnKasich at though. . .#elections2016 #IndianaPrimary\n",
      "2016-05-04 01:24:29\t.@BernieSanders declares victory for #IndianaPrimary  https://t.co/m8yjvUBKGP\n",
      "2016-05-04 02:44:57\tDoes Bernie have top teeth? All I ever see is a drooping lip and bottom teeth! #IndianaPrimary\n",
      "2016-05-04 03:27:17\tTime for dem party to get a clue and get behind the candidate who can beat Trump with dem and indie vote: @BernieSanders. #IndianaPrimary\n",
      "2016-05-04 08:03:33\tHey twitter say hi to @ianpmclarke! #newbie #MayThe4thBeWithYou #DanceMoms  #IndianaPrimary #1D #LEMONADE https://t.co/4c8aEzmt85\n",
      "2016-05-04 14:28:37\t@realDonaldTrump to be presumptive GOP nominee following #IndianaPrimary and Cruz has dropped out!\n"
     ]
    }
   ],
   "source": [
    "df_NPVNP_rndm = df_smpl[df_smpl['event_NPVNP'] == 1].sample(k_docs, random_state=2016)\n",
    "summ = df_NPVNP_rndm.sort_values(by='created_at', ascending=True)\n",
    "\n",
    "for _,doc in summ.iterrows():\n",
    "    print(str(doc['created_at']) + '\\t' + doc['text'])"
   ]
  }
 ],
 "metadata": {
  "kernelspec": {
   "display_name": "Python 3",
   "language": "python",
   "name": "python3"
  },
  "language_info": {
   "codemirror_mode": {
    "name": "ipython",
    "version": 3
   },
   "file_extension": ".py",
   "mimetype": "text/x-python",
   "name": "python",
   "nbconvert_exporter": "python",
   "pygments_lexer": "ipython3",
   "version": "3.4.4"
  }
 },
 "nbformat": 4,
 "nbformat_minor": 0
}
