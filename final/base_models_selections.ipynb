{
 "cells": [
  {
   "cell_type": "code",
   "execution_count": 19,
   "metadata": {
    "collapsed": true
   },
   "outputs": [],
   "source": [
    "import pandas as pd\n",
    "import numpy as np\n",
    "from sklearn.feature_extraction.text import TfidfVectorizer"
   ]
  },
  {
   "cell_type": "code",
   "execution_count": 59,
   "metadata": {
    "collapsed": false
   },
   "outputs": [
    {
     "data": {
      "text/plain": [
       "(2295892, 37)"
      ]
     },
     "execution_count": 59,
     "metadata": {},
     "output_type": "execute_result"
    }
   ],
   "source": [
    "#load data\n",
    "df = pd.read_table('data/final/event_panama_papers_data.txt', sep='\\t', encoding='utf-8', header=0, low_memory=False)\n",
    "df.shape"
   ]
  },
  {
   "cell_type": "markdown",
   "metadata": {},
   "source": [
    "# Automatic Summarization\n",
    "## Step 1\n",
    "Narrow the corpus down to a selection pool of reasonable size for summary generation. The approaches used as:\n",
    "1. Random Selection\n",
    "2. TF-IDF Rank\n",
    "3. Clustering\n",
    "4. RQI Method (Rel., Qua., Inf.)\n",
    "\n",
    "Issues in 1-3\n",
    "* irrelevant documents\n",
    "* uninformative documents\n",
    "* low quality documents\n",
    "\n",
    "## Step 2\n",
    "Perform state of the art temporal-novelty selection on each selection pool\n",
    "\n",
    "1. TF-IDF Centroid Distance\n",
    "2. K-Terms\n",
    "\n",
    "## Evaluate"
   ]
  },
  {
   "cell_type": "markdown",
   "metadata": {},
   "source": [
    "## 1. Random Selection\n",
    "### method:\n",
    "Select k random documents from corpus."
   ]
  },
  {
   "cell_type": "code",
   "execution_count": 11,
   "metadata": {
    "collapsed": false,
    "scrolled": true
   },
   "outputs": [
    {
     "name": "stdout",
     "output_type": "stream",
     "text": [
      "2016-04-04 00:04:21\tPanama Papers: Document leak exposes global corruption, secrets of the rich via /r/worldnews https://t.co/qCnX5BDF1v\n",
      "\n",
      "2016-04-04 00:19:59\tIMF tells Greece leak is 'nonsense': International Monetary Fund chief Christine Lagarde dismisses reports tha... https://t.co/Jy9LRO313K\n",
      "\n",
      "2016-04-04 07:03:57\tA privilege is a hesitant continuance up to spring a leak your devotion: hrcwbJt\n",
      "\n",
      "2016-04-04 13:30:51\tPanama Papers: BJP hiding something, we want time-bound inquiry, says Congress https://t.co/WWNQdIubAd https://t.co/qr3m7yBp5g\n",
      "\n",
      "2016-04-04 13:51:24\tThe names in the Panama Papers https://t.co/MDRbdBqK9f #PanamaLeaks\n",
      "\n",
      "2016-04-05 00:14:32\tWhat You Should Know About The Panama Papers via Digg https://t.co/jbp2Zqfw71 #News\n",
      "\n",
      "2016-04-05 05:28:07\tThe names in the Panama Papers https://t.co/Vtavd00CXU https://t.co/rIuXcbQOUF\n",
      "\n",
      "2016-04-05 10:56:28\tPanama Papers: Barcelona stand by star player Lionel Messi https://t.co/7EbDe1mSzw https://t.co/U47jmwQ4VR\n",
      "\n",
      "2016-04-05 13:34:55\tEmbarrassing that Padma awardees figure in Panama Papers:... https://t.co/QZ0RgFt956 https://t.co/lPXpTmfuPJ\n",
      "\n",
      "2016-04-05 21:57:12\tGiant Leak of Offshore Financial Records Exposes Global Array of Crime and Corruption #panamapapers https://t.co/tuVCfrh7SA  😳😮😱\n",
      "\n",
      "2016-04-06 04:56:14\t#panamapapers The Mega Leak Mystery Unfolded. https://t.co/rzbR6BSl7v\n",
      "\n",
      "2016-04-06 07:17:05\tBachchan denies tax haven links https://t.co/tSwMDtxjOr\n",
      "\n",
      "2016-04-06 11:56:18\tWhats todays media topic ,, panama leak or zameer league,,. https://t.co/uKgGwc1w9Z\n",
      "\n",
      "2016-04-06 20:31:41\t[Engadget] Panama Papers firm says it was the victim of a hack https://t.co/EjcEoGWwpy\n",
      "\n",
      "2016-04-07 16:08:13\tDays After Iceland's PM Resigns Over \"Panama Papers\", Its Bankers Are Released From Jail Years Early … https://t.co/lIeJpcmxQ3\n",
      "\n",
      "2016-04-07 19:02:16\t@StrongerIn @David_Cameron is he talking about offshore tax havens?\n",
      "\n",
      "2016-04-08 07:25:27\tBBC News - Cameron offshore trust row: PM accused of 'hypocrisy' https://t.co/MjwNblp75J\n",
      "\n",
      "2016-04-08 07:47:06\t'Cameron must RESIGN' MPs and social media furious at PM's admission over offshore funds: SENIOR MPs and have called for David Camero...\n",
      "\n",
      "2016-04-09 07:03:06\t#news Express Car Parts. New Car Parts Online: #auto parts uk #Wynns Engine Stop Leak 325ml Ne... https://t.co/3FbBKeJrZs #auto #car #usa\n",
      "\n",
      "2016-04-10 09:00:54\t#NaijaDownloads | Panama Papers: EFCC &amp; INTERPOL To Go After Saraki, Mark, Others https://t.co/K2RNPXk34K |Via NaijaLoaded\n",
      "\n",
      "2016-04-10 16:41:44\tKnowledge is security. https://t.co/WVe5nBUGyF https://t.co/Sf4WUgpGgo https://t.co/Z3YW5hpsa8\n",
      "\n",
      "2016-04-11 15:35:58\tso cool that @source got the “how we did it” post behind #panamapapers  https://t.co/tHiOoH2sy5\n",
      "\n",
      "2016-04-12 07:37:22\tNothing illegal in placing money offshore. Common practice for international ventures. Morally, guilty of nothing.  https://t.co/Eh5wntbat1\n",
      "\n",
      "2016-04-12 12:37:23\tPanama papers reveal some shady dealings in the art world  https://t.co/1ojQN1gWNq\n",
      "\n",
      "2016-04-13 17:04:21\tWorld Bank lowers 2016 growth projections for sub-Saharan Africa @Investorseurope #Offshore Stockbrokers https://t.co/T5eYSSqZ8B\n",
      "\n"
     ]
    }
   ],
   "source": [
    "summ = df[df['is_retweet'] == False].sample(25)\n",
    "summ = summ.sort_values(by='created_at', ascending=True)\n",
    "\n",
    "for _,doc in summ.iterrows():\n",
    "    print(doc['created_at'] + '\\t' + doc['text'])\n",
    "    print()"
   ]
  },
  {
   "cell_type": "markdown",
   "metadata": {},
   "source": [
    "## 2. TF-IDF Rank\n",
    "### method:\n",
    "Computes weights for each document using term frequencies and selects k best documents. The term frquency inverse document frequency equation computes a term importance which is higher if the term is frequent in one document but rare in the total corpus."
   ]
  },
  {
   "cell_type": "code",
   "execution_count": 46,
   "metadata": {
    "collapsed": false
   },
   "outputs": [],
   "source": [
    "df_bow = df[(df['query'] == 'panama papers') & (df['is_retweet'] == False) & (df['text_clean'].notnull())][['created_at', 'text']]"
   ]
  },
  {
   "cell_type": "code",
   "execution_count": 47,
   "metadata": {
    "collapsed": false
   },
   "outputs": [],
   "source": [
    "#initialize sklearn vectorizer\n",
    "tfidf_vectorizer = TfidfVectorizer(max_features=1000, stop_words='english')\n",
    "#tfidf_vectorizer = TfidfVectorizer(max_df=0.95, min_df=.01, max_features=400, stop_words='english')\n",
    "\n",
    "#create matrix of tfidf counts\n",
    "Xtfidf = tfidf_vectorizer.fit_transform(df_bow['text'])"
   ]
  },
  {
   "cell_type": "code",
   "execution_count": 48,
   "metadata": {
    "collapsed": true
   },
   "outputs": [],
   "source": [
    "#get mean tfidf for each doc\n",
    "Xtfidf_means = Xtfidf.mean(axis=1)\n",
    "df_tfidf_means = pd.DataFrame(Xtfidf_means, columns=['tfidf_mean'])\n",
    "#get sum tfidf for each doc\n",
    "Xtfidf_sums = Xtfidf.sum(axis=1)\n",
    "df_tfidf_sums = pd.DataFrame(Xtfidf_sums, columns=['tfidf_sum'])\n",
    "\n",
    "df_tfidf_stats = pd.concat([df_tfidf_means, df_tfidf_sums], axis=1)"
   ]
  },
  {
   "cell_type": "code",
   "execution_count": 49,
   "metadata": {
    "collapsed": true
   },
   "outputs": [],
   "source": [
    "df_bow = pd.merge(df_bow, df_tfidf_stats, how='inner', left_index=True, right_index=True)"
   ]
  },
  {
   "cell_type": "code",
   "execution_count": 60,
   "metadata": {
    "collapsed": false,
    "scrolled": true
   },
   "outputs": [
    {
     "name": "stdout",
     "output_type": "stream",
     "text": [
      "2016-04-03 18:12:14\tGiant Leak of Offshore Financial Records Exposes Global Array of Crime and Corruption #panamapapers https://t.co/9NkfUBd8a7\n",
      "\n",
      "2016-04-03 18:26:04\tThis has got to stop. The Panama Papers: how the world’s rich and famous hide their money offshore https://t.co/Vl2imHqbj4\n",
      "\n",
      "2016-04-03 21:55:56\tThe Panama Papers: what you need to know https://t.co/caiKg2pM0X\n",
      "\n",
      "2016-04-03 22:41:12\tTop story:Immigration detainees four tim Revealed: the $2bn offshore trail that… https://t.co/0f5NnGCGzB, see more https://t.co/pa7FfekGFk\n",
      "\n",
      "2016-04-03 23:06:09\tPapers leak exposes how Putin, Xi's friends hide money https://t.co/i3hRgNEqCB Is @TurnbullMalcolm of Cayman Is 'fame' part of this? #auspol\n",
      "\n",
      "2016-04-03 23:11:18\tGuess that's \"Gotcha\" for criminals Leaked documents reveal offshore accounts of the wealthy and powerful-report say https://t.co/FhWVeDW7Nb\n",
      "\n",
      "2016-04-04 00:12:52\tHere check the Pakistani looters: #NawazSharif and Maryam Nawaz's wealth leaked by #Panamapapers #Panamaleaks https://t.co/ZuKnkpfZkP\n",
      "\n",
      "2016-04-04 00:38:38\tThe Panama Papers: Victims of Offshore / per ICIJ / https://t.co/JOBOdVg47P https://t.co/CyZl4tGvM8\n",
      "\n",
      "2016-04-04 01:46:02\tTop story: The Panama Papers · ICIJ https://t.co/WdiFKHqfAM, see more https://t.co/JDo3bLVujG\n",
      "\n",
      "2016-04-04 02:05:42\tAustralian tax office probes hundreds for possible tax evasion after Panama Papers leak: SYDNEY (... https://t.co/bpEERnE2mI via @Reuters\n",
      "\n",
      "2016-04-04 04:41:37\tTop story: What you need to know about the Panama Papers | News | The Guardian https://t.co/xl31BZww7E, see more https://t.co/J3kRR1RQ1h\n",
      "\n",
      "2016-04-04 05:07:30\tPanama Papers: a massive document leak reveals a global web of corruption and tax avoidance https://t.co/IPihEuu62l via @voxdotcom\n",
      "\n",
      "2016-04-04 06:34:36\tTOP STORY: #PanamaLeaks exposes shady dealings of world leaders. https://t.co/x6HfZwYf4I\n",
      "\n",
      "2016-04-04 07:07:20\t#Panama papers simplified to understand in this video https://t.co/Z6Z00BhcS2\n",
      "\n",
      "2016-04-04 07:38:00\tWhy the Panama papers are so toxic - we need tax setters who abide by their own precepts https://t.co/OaP7zCiocb https://t.co/4Q6JEU7OF9\n",
      "\n",
      "2016-04-04 08:47:33\t'Panama papers': Expect more leaks, experts say - https://t.co/dBkb79KDoG\n",
      "\n",
      "2016-04-04 09:37:25\t#Toronto — Panama Papers: What you need to know about offshore accounts https://t.co/HEGQ24utk2 #TOpoli https://t.co/GJmjjgpTym\n",
      "\n",
      "2016-04-04 12:03:19\tThey tell us how to live our lives, take our opportunities from us and all the while, they are fucking the system... https://t.co/bic6cCsm3E\n",
      "\n",
      "2016-04-04 12:44:54\tPutin, Russia ‘main target’ of Panama Papers leaks says Kremlin: The Kremlin on Monday slammed the leak of the... https://t.co/uBpVw28Buu\n",
      "\n",
      "2016-04-04 12:59:07\tPanama Papers: Government forms multi-agency team to probe Indians in the list\n",
      "\n",
      "2016-04-04 15:42:08\tHow come Blair's name is missing from Panama Papers. Has he really paid all his due taxes??.\n",
      "\n",
      "2016-04-04 17:15:20\tTory donors’ links to offshore firms revealed in leaked Panama Papers https://t.co/Ko6FaoUyQ2\n",
      "\n",
      "2016-04-04 17:22:08\tLaw firm tied to massive document leak denies wrongdoing:  https://t.co/Whg4smPqY7\n",
      "\n",
      "2016-04-04 19:09:57\tThe Panama Papers: Massive leak reveals the global elite's secret cash havens https://t.co/H6ZKCKV0nU via @vicenews\n",
      "\n",
      "2016-04-04 19:38:27\tguardiannews: Icelandic PM faces no confidence vote over Panama Papers disclosures https://t.co/ZkSfd0NW79\n",
      "\n"
     ]
    }
   ],
   "source": [
    "summ = df_bow.sort_values(by='tfidf_mean', ascending=False).head(25)\n",
    "summ = summ.sort_values(by='created_at', ascending=True)\n",
    "\n",
    "for _,doc in summ.iterrows():\n",
    "    print(doc['created_at'] + '\\t' + doc['text'])\n",
    "    print()"
   ]
  },
  {
   "cell_type": "markdown",
   "metadata": {},
   "source": [
    "## 3. Cluster Selection\n",
    "### method:\n",
    "Cluster documents using tf-idf distances, select k docs / k clusters from each cluster, for an evenly distributed information pool."
   ]
  },
  {
   "cell_type": "code",
   "execution_count": null,
   "metadata": {
    "collapsed": true
   },
   "outputs": [],
   "source": []
  }
 ],
 "metadata": {
  "kernelspec": {
   "display_name": "Python 3",
   "language": "python",
   "name": "python3"
  },
  "language_info": {
   "codemirror_mode": {
    "name": "ipython",
    "version": 3
   },
   "file_extension": ".py",
   "mimetype": "text/x-python",
   "name": "python",
   "nbconvert_exporter": "python",
   "pygments_lexer": "ipython3",
   "version": "3.4.4"
  }
 },
 "nbformat": 4,
 "nbformat_minor": 0
}
