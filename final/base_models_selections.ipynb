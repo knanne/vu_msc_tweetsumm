{
 "cells": [
  {
   "cell_type": "markdown",
   "metadata": {},
   "source": [
    "# Automatic Summarization\n",
    "## Step 1\n",
    "Narrow the corpus down to a selection pool of reasonable size for summary generation. The approaches compared are:\n",
    "1. Random\n",
    "2. Verified User\n",
    "3. Engagements\n",
    "4. TF-IDF Rank\n",
    "5. Clustering\n",
    "6. Noun Phrase (NP+V+NP)\n",
    "7. Likely Event Model\n",
    "\n",
    "Issues present in summaries\n",
    "* uninformative documents\n",
    "  * do not contain event updates or statistics etc.\n",
    "* low quality documents\n",
    "  * opinionated comments\n",
    "  * questions\n",
    "  * overused punctuation, capital letters\n",
    "  * negative language\n",
    "* documents concentrated at one time (as seen in tf-idf)\n",
    "\n",
    "## Step 2\n",
    "Perform state of the art temporal-novelty selection on each selection pool\n",
    "\n",
    "1. TF-IDF Centroid Distance\n",
    "2. K-Terms\n",
    "\n",
    "## Evaluate\n",
    "1. information gain\n",
    "    *  unique terms\n",
    "2. manual event annotation"
   ]
  },
  {
   "cell_type": "markdown",
   "metadata": {},
   "source": [
    "#### import tools"
   ]
  },
  {
   "cell_type": "code",
   "execution_count": 1,
   "metadata": {
    "collapsed": true
   },
   "outputs": [],
   "source": [
    "import pandas as pd\n",
    "import numpy as np\n",
    "\n",
    "import nltk\n",
    "from nltk import TweetTokenizer\n",
    "import string\n",
    "from collections import Counter\n",
    "\n",
    "import matplotlib.pyplot as plt\n",
    "import matplotlib\n",
    "matplotlib.style.use('ggplot')\n",
    "%matplotlib inline\n",
    "\n",
    "from time import time\n",
    "from sklearn.feature_extraction.text import TfidfVectorizer\n",
    "from sklearn.cluster import KMeans"
   ]
  },
  {
   "cell_type": "markdown",
   "metadata": {},
   "source": [
    "#### import data"
   ]
  },
  {
   "cell_type": "code",
   "execution_count": 3,
   "metadata": {
    "collapsed": false
   },
   "outputs": [
    {
     "data": {
      "text/plain": [
       "(54162, 29)"
      ]
     },
     "execution_count": 3,
     "metadata": {},
     "output_type": "execute_result"
    }
   ],
   "source": [
    "df = pd.read_table('data/final/event_indianaprimary_data.txt', sep='\\t', encoding='utf-8', header=0, low_memory=False)\n",
    "df.shape"
   ]
  },
  {
   "cell_type": "code",
   "execution_count": 4,
   "metadata": {
    "collapsed": false
   },
   "outputs": [],
   "source": [
    "df.loc[:,('created_at')] = pd.to_datetime(df['created_at'])"
   ]
  },
  {
   "cell_type": "code",
   "execution_count": 6,
   "metadata": {
    "collapsed": true
   },
   "outputs": [],
   "source": [
    "#remove links\n",
    "df['text_clean'] = df['text'].apply(lambda text: ' '.join([(w[:w.find('http')] if 'http' in w else w) for w in text.split()]))\n",
    "\n",
    "#remove hashtag symbol\n",
    "df['text_clean'] = df['text_clean'].apply(lambda text: text.replace('#', ''))\n",
    "\n",
    "#remove mention symbol\n",
    "df['text_clean'] = df['text_clean'].apply(lambda text: text.replace('@', ''))\n",
    "\n",
    "#initiate, apply tokenization\n",
    "tknzr = TweetTokenizer()\n",
    "df['text_clean'] = df['text_clean'].apply(lambda s: ' '.join([w.lower() for w in tknzr.tokenize(str(s))]))"
   ]
  },
  {
   "cell_type": "markdown",
   "metadata": {},
   "source": [
    "#### define k docs\n",
    "- summarize using 10 doc selection"
   ]
  },
  {
   "cell_type": "code",
   "execution_count": 263,
   "metadata": {
    "collapsed": true
   },
   "outputs": [],
   "source": [
    "k_docs = 100"
   ]
  },
  {
   "cell_type": "markdown",
   "metadata": {},
   "source": [
    "#### random sample of 1k\n",
    "- for testing algorithms\n",
    "- filter retweets, replies from data"
   ]
  },
  {
   "cell_type": "code",
   "execution_count": 260,
   "metadata": {
    "collapsed": true
   },
   "outputs": [],
   "source": [
    "df_smpl = df[(df['is_retweet'] == False) & (df['is_reply'] == False)].sample(1000, random_state=2016)\n",
    "#sort values for selection\n",
    "df_smpl.sort_values(by='created_at', ascending=True, inplace=True)\n",
    "#reset index for merging calcs\n",
    "df_smpl.reset_index(drop=True, inplace=True)"
   ]
  },
  {
   "cell_type": "markdown",
   "metadata": {},
   "source": [
    "#### define timeseries bounds"
   ]
  },
  {
   "cell_type": "code",
   "execution_count": 261,
   "metadata": {
    "collapsed": false
   },
   "outputs": [],
   "source": [
    "timeseries = pd.date_range(df['created_at'].min().strftime('%Y-%m-%d %H'), df['created_at'].max().strftime('%Y-%m-%d %H'), freq='H')"
   ]
  },
  {
   "cell_type": "markdown",
   "metadata": {},
   "source": [
    "# visualize selections over time"
   ]
  },
  {
   "cell_type": "code",
   "execution_count": 299,
   "metadata": {
    "collapsed": false
   },
   "outputs": [],
   "source": [
    "d_total = df.set_index('created_at').groupby([pd.TimeGrouper(freq='H')])['twitter_id'].agg(['count'])\n",
    "d_total = d_total.reindex(timeseries, fill_value=0)\n",
    "d_total['percent'] = d_total['count'].apply(lambda c: round(c/d_total['count'].sum() * 100, 2))\n",
    "d_total['corpus'] = 'total'"
   ]
  },
  {
   "cell_type": "code",
   "execution_count": 300,
   "metadata": {
    "collapsed": false
   },
   "outputs": [],
   "source": [
    "d_smpl = df_smpl.set_index('created_at').groupby([pd.TimeGrouper(freq='H')])['twitter_id'].agg(['count'])\n",
    "d_smpl = d_smpl.reindex(timeseries, fill_value=0)\n",
    "d_smpl['percent'] = d_smpl['count'].apply(lambda c: round(c/d_smpl['count'].sum() * 100, 2))\n",
    "d_smpl['corpus'] = 'sample 1k'"
   ]
  },
  {
   "cell_type": "code",
   "execution_count": 301,
   "metadata": {
    "collapsed": true
   },
   "outputs": [],
   "source": [
    "d = pd.concat([d_total, d_smpl])"
   ]
  },
  {
   "cell_type": "code",
   "execution_count": 302,
   "metadata": {
    "collapsed": false
   },
   "outputs": [
    {
     "data": {
      "text/plain": [
       "corpus\n",
       "sample 1k    Axes(0.125,0.125;0.775x0.775)\n",
       "total        Axes(0.125,0.125;0.775x0.775)\n",
       "Name: percent, dtype: object"
      ]
     },
     "execution_count": 302,
     "metadata": {},
     "output_type": "execute_result"
    },
    {
     "data": {
      "image/png": "[encoded data removed]",
      "text/plain": [
       "<matplotlib.figure.Figure at 0xda7b780>"
      ]
     },
     "metadata": {},
     "output_type": "display_data"
    }
   ],
   "source": [
    "d.groupby('corpus')['percent'].plot(figsize=(16,6),\n",
    "                                    ylim=(0,100),\n",
    "                                    legend=True,\n",
    "                                    title='Distribution Over Time')"
   ]
  },
  {
   "cell_type": "code",
   "execution_count": 308,
   "metadata": {
    "collapsed": false
   },
   "outputs": [],
   "source": [
    "d_rndm = df_rndm.set_index('created_at').groupby([pd.TimeGrouper(freq='H')])['twitter_id'].agg(['count'])\n",
    "d_rndm = d_rndm.reindex(timeseries, fill_value=0)\n",
    "d_rndm['percent'] = d_rndm['count'].apply(lambda c: round(c/d_rndm['count'].sum() * 100, 2))\n",
    "d_rndm['corpus'] = 'k-doc random'"
   ]
  },
  {
   "cell_type": "code",
   "execution_count": 309,
   "metadata": {
    "collapsed": true
   },
   "outputs": [],
   "source": [
    "d_veri = df_veri.set_index('created_at').groupby([pd.TimeGrouper(freq='H')])['twitter_id'].agg(['count'])\n",
    "d_veri = d_veri.reindex(timeseries, fill_value=0)\n",
    "d_veri['percent'] = d_veri['count'].apply(lambda c: round(c/d_veri['count'].sum() * 100, 2))\n",
    "d_veri['corpus'] = 'k-doc verified'"
   ]
  },
  {
   "cell_type": "code",
   "execution_count": 310,
   "metadata": {
    "collapsed": true
   },
   "outputs": [],
   "source": [
    "d_eng = df_eng.set_index('created_at').groupby([pd.TimeGrouper(freq='H')])['twitter_id'].agg(['count'])\n",
    "d_eng = d_eng.reindex(timeseries, fill_value=0)\n",
    "d_eng['percent'] = d_eng['count'].apply(lambda c: round(c/d_eng['count'].sum() * 100, 2))\n",
    "d_eng['corpus'] = 'k-doc engagements'"
   ]
  },
  {
   "cell_type": "code",
   "execution_count": 311,
   "metadata": {
    "collapsed": false
   },
   "outputs": [
    {
     "data": {
      "text/plain": [
       "corpus\n",
       "k-doc engagements    Axes(0.125,0.125;0.775x0.775)\n",
       "k-doc random         Axes(0.125,0.125;0.775x0.775)\n",
       "k-doc verified       Axes(0.125,0.125;0.775x0.775)\n",
       "Name: percent, dtype: object"
      ]
     },
     "execution_count": 311,
     "metadata": {},
     "output_type": "execute_result"
    },
    {
     "data": {
      "image/png": "[encoded data removed]",
      "text/plain": [
       "<matplotlib.figure.Figure at 0x108be6d8>"
      ]
     },
     "metadata": {},
     "output_type": "display_data"
    }
   ],
   "source": [
    "d = pd.concat([d_rndm, d_veri, d_eng])\n",
    "d.groupby('corpus')['percent'].plot(figsize=(16,6),\n",
    "                                    ylim=(0,100),\n",
    "                                    legend=True,\n",
    "                                    title='Distribution Over Time')"
   ]
  },
  {
   "cell_type": "code",
   "execution_count": 312,
   "metadata": {
    "collapsed": false
   },
   "outputs": [],
   "source": [
    "d_tfidf = df_tfidf.set_index('created_at').groupby([pd.TimeGrouper(freq='H')])['twitter_id'].agg(['count'])\n",
    "d_tfidf = d_tfidf.reindex(timeseries, fill_value=0)\n",
    "d_tfidf['percent'] = d_tfidf['count'].apply(lambda c: round(c/d_tfidf['count'].sum() * 100, 2))\n",
    "d_tfidf['corpus'] = 'k-doc tfidf'"
   ]
  },
  {
   "cell_type": "code",
   "execution_count": 313,
   "metadata": {
    "collapsed": true
   },
   "outputs": [],
   "source": [
    "d_tfidf_stpd = df_tfidf_stpd.set_index('created_at').groupby([pd.TimeGrouper(freq='H')])['twitter_id'].agg(['count'])\n",
    "d_tfidf_stpd = d_tfidf_stpd.reindex(timeseries, fill_value=0)\n",
    "d_tfidf_stpd['percent'] = d_tfidf_stpd['count'].apply(lambda c: round(c/d_tfidf_stpd['count'].sum() * 100, 2))\n",
    "d_tfidf_stpd['corpus'] = 'k-doc tfidf stopped'"
   ]
  },
  {
   "cell_type": "code",
   "execution_count": 314,
   "metadata": {
    "collapsed": true
   },
   "outputs": [],
   "source": [
    "d_tfidf_clnd = df_tfidf_clnd.set_index('created_at').groupby([pd.TimeGrouper(freq='H')])['twitter_id'].agg(['count'])\n",
    "d_tfidf_clnd = d_tfidf_clnd.reindex(timeseries, fill_value=0)\n",
    "d_tfidf_clnd['percent'] = d_tfidf_clnd['count'].apply(lambda c: round(c/d_tfidf_clnd['count'].sum() * 100, 2))\n",
    "d_tfidf_clnd['corpus'] = 'k-doc tfidf cleaned'"
   ]
  },
  {
   "cell_type": "code",
   "execution_count": 315,
   "metadata": {
    "collapsed": true
   },
   "outputs": [],
   "source": [
    "d_tfidf_adj = df_tfidf_adj.set_index('created_at').groupby([pd.TimeGrouper(freq='H')])['twitter_id'].agg(['count'])\n",
    "d_tfidf_adj = d_tfidf_adj.reindex(timeseries, fill_value=0)\n",
    "d_tfidf_adj['percent'] = d_tfidf_adj['count'].apply(lambda c: round(c/d_tfidf_adj['count'].sum() * 100, 2))\n",
    "d_tfidf_adj['corpus'] = 'k-doc tfidf adjusted'"
   ]
  },
  {
   "cell_type": "code",
   "execution_count": 316,
   "metadata": {
    "collapsed": false
   },
   "outputs": [
    {
     "data": {
      "text/plain": [
       "corpus\n",
       "k-doc tfidf             Axes(0.125,0.125;0.775x0.775)\n",
       "k-doc tfidf adjusted    Axes(0.125,0.125;0.775x0.775)\n",
       "k-doc tfidf cleaned     Axes(0.125,0.125;0.775x0.775)\n",
       "k-doc tfidf stopped     Axes(0.125,0.125;0.775x0.775)\n",
       "Name: percent, dtype: object"
      ]
     },
     "execution_count": 316,
     "metadata": {},
     "output_type": "execute_result"
    },
    {
     "data": {
      "image/png": "[encoded data removed]",
      "text/plain": [
       "<matplotlib.figure.Figure at 0x1047e908>"
      ]
     },
     "metadata": {},
     "output_type": "display_data"
    }
   ],
   "source": [
    "d = pd.concat([d_tfidf, d_tfidf_stpd, d_tfidf_clnd, d_tfidf_adj])\n",
    "d.groupby('corpus')['percent'].plot(figsize=(16,6),\n",
    "                                    ylim=(0,100),\n",
    "                                    legend=True,\n",
    "                                    title='Distribution Over Time')"
   ]
  },
  {
   "cell_type": "code",
   "execution_count": 317,
   "metadata": {
    "collapsed": true
   },
   "outputs": [],
   "source": [
    "d_clust_first = df_clust_first.set_index('created_at').groupby([pd.TimeGrouper(freq='H')])['twitter_id'].agg(['count'])\n",
    "d_clust_first = d_clust_first.reindex(timeseries, fill_value=0)\n",
    "d_clust_first['percent'] = d_clust_first['count'].apply(lambda c: round(c/d_clust_first['count'].sum() * 100, 2))\n",
    "d_clust_first['corpus'] = 'k-doc cluster first'"
   ]
  },
  {
   "cell_type": "code",
   "execution_count": 318,
   "metadata": {
    "collapsed": true
   },
   "outputs": [],
   "source": [
    "d_clust_last = df_clust_last.set_index('created_at').groupby([pd.TimeGrouper(freq='H')])['twitter_id'].agg(['count'])\n",
    "d_clust_last = d_clust_last.reindex(timeseries, fill_value=0)\n",
    "d_clust_last['percent'] = d_clust_last['count'].apply(lambda c: round(c/d_clust_last['count'].sum() * 100, 2))\n",
    "d_clust_last['corpus'] = 'k-doc cluster last'"
   ]
  },
  {
   "cell_type": "code",
   "execution_count": 319,
   "metadata": {
    "collapsed": true
   },
   "outputs": [],
   "source": [
    "d_clust_wght = df_clust_wght.set_index('created_at').groupby([pd.TimeGrouper(freq='H')])['twitter_id'].agg(['count'])\n",
    "d_clust_wght = d_clust_wght.reindex(timeseries, fill_value=0)\n",
    "d_clust_wght['percent'] = d_clust_wght['count'].apply(lambda c: round(c/d_clust_wght['count'].sum() * 100, 2))\n",
    "d_clust_wght['corpus'] = 'k-doc cluster weighted'"
   ]
  },
  {
   "cell_type": "code",
   "execution_count": 320,
   "metadata": {
    "collapsed": false,
    "scrolled": false
   },
   "outputs": [
    {
     "data": {
      "text/plain": [
       "corpus\n",
       "k-doc cluster first       Axes(0.125,0.125;0.775x0.775)\n",
       "k-doc cluster last        Axes(0.125,0.125;0.775x0.775)\n",
       "k-doc cluster weighted    Axes(0.125,0.125;0.775x0.775)\n",
       "Name: percent, dtype: object"
      ]
     },
     "execution_count": 320,
     "metadata": {},
     "output_type": "execute_result"
    },
    {
     "data": {
      "image/png": "[encoded data removed]",
      "text/plain": [
       "<matplotlib.figure.Figure at 0x10dbea20>"
      ]
     },
     "metadata": {},
     "output_type": "display_data"
    }
   ],
   "source": [
    "d = pd.concat([d_clust_first, d_clust_last, d_clust_wght])\n",
    "d.groupby('corpus')['percent'].plot(figsize=(16,6),\n",
    "                                    ylim=(0,100),\n",
    "                                    legend=True,\n",
    "                                    title='Distribution Over Time')"
   ]
  },
  {
   "cell_type": "code",
   "execution_count": 322,
   "metadata": {
    "collapsed": true
   },
   "outputs": [],
   "source": [
    "d_NPV_rndm = df_NPV_rndm.set_index('created_at').groupby([pd.TimeGrouper(freq='H')])['twitter_id'].agg(['count'])\n",
    "d_NPV_rndm = d_NPV_rndm.reindex(timeseries, fill_value=0)\n",
    "d_NPV_rndm['percent'] = d_NPV_rndm['count'].apply(lambda c: round(c/d_NPV_rndm['count'].sum() * 100, 2))\n",
    "d_NPV_rndm['corpus'] = 'k-doc noun phrase + verb'"
   ]
  },
  {
   "cell_type": "code",
   "execution_count": 323,
   "metadata": {
    "collapsed": true
   },
   "outputs": [],
   "source": [
    "d_NPVNP_rndm = df_NPVNP_rndm.set_index('created_at').groupby([pd.TimeGrouper(freq='H')])['twitter_id'].agg(['count'])\n",
    "d_NPVNP_rndm = d_NPVNP_rndm.reindex(timeseries, fill_value=0)\n",
    "d_NPVNP_rndm['percent'] = d_NPVNP_rndm['count'].apply(lambda c: round(c/d_NPVNP_rndm['count'].sum() * 100, 2))\n",
    "d_NPVNP_rndm['corpus'] = 'k-doc noun phrase + verb + noun phrase'"
   ]
  },
  {
   "cell_type": "code",
   "execution_count": 324,
   "metadata": {
    "collapsed": false
   },
   "outputs": [
    {
     "data": {
      "text/plain": [
       "corpus\n",
       "k-doc noun phrase + verb                  Axes(0.125,0.125;0.775x0.775)\n",
       "k-doc noun phrase + verb + noun phrase    Axes(0.125,0.125;0.775x0.775)\n",
       "Name: percent, dtype: object"
      ]
     },
     "execution_count": 324,
     "metadata": {},
     "output_type": "execute_result"
    },
    {
     "data": {
      "image/png": "[encoded data removed]",
      "text/plain": [
       "<matplotlib.figure.Figure at 0xec04898>"
      ]
     },
     "metadata": {},
     "output_type": "display_data"
    }
   ],
   "source": [
    "d = pd.concat([d_NPV_rndm, d_NPVNP_rndm])\n",
    "d.groupby('corpus')['percent'].plot(figsize=(16,6),\n",
    "                                    ylim=(0,100),\n",
    "                                    legend=True,\n",
    "                                    title='Distribution Over Time')"
   ]
  },
  {
   "cell_type": "markdown",
   "metadata": {},
   "source": [
    "# Step 1\n",
    "## 1. Random Selection\n",
    "### method:\n",
    "Select k random documents from corpus"
   ]
  },
  {
   "cell_type": "code",
   "execution_count": 264,
   "metadata": {
    "collapsed": false,
    "scrolled": true
   },
   "outputs": [
    {
     "name": "stdout",
     "output_type": "stream",
     "text": [
      "2016-05-02 00:21:31\t#IndianaPrimary..why would anyone pay $353K to dine with Hillary?..wealthy people view this 'donation' as an investment and demand a return.\n",
      "2016-05-02 01:38:09\t#indianaprimary Clint Eastwood  ENDORSES Donald J. Trump for President Of The United States.  SHUT UP https://t.co/vqQBCDRVJy\n",
      "2016-05-02 04:41:14\tStill Report #834 - #TedCruz Bails on #Indiana https://t.co/SYYJqhgZKp #INPrimary #IndianaPrimary #MakeAmericaGreatAgain #Trump2016\n",
      "2016-05-02 12:28:38\tMT @Karee_news: #IndianaPrimary #Conservatives across this land are counting you to #ChooseCruz. https://t.co/WtejAoKMRK #CruzCrew #PJNET\n",
      "2016-05-02 13:23:14\t#IndianaPrimary Preview @crousselle @townhallcom https://t.co/uY7xllZqjF\n",
      "2016-05-02 14:27:33\t@NYT DANGEROUS Donald  https://t.co/fpwSvARj9i European leaders: Another Hitler. Exceed Hillary, Obma making US worse  #Cruz #IndianaPrimary\n",
      "2016-05-02 15:16:37\t#NeverTrump bought favors from establishment in the White House. Is he also buying this election? #IndianaPrimary https://t.co/qz3qWqLaYb\n",
      "2016-05-02 15:54:24\tDonald Trump #DonaldTrump #INPrimary #Indiana #Nebraska #IndianaPrimary #Oregon #Washington #WVA #SD #OR #WA https://t.co/75hI6aMb9b\n",
      "2016-05-02 16:35:26\tMT @Karee_news: #IndianaPrimary #Conservatives across this land are counting you to #ChooseCruz. https://t.co/2p3ApHCu5r #CruzCrew #PJNET\n",
      "2016-05-02 16:41:03\tWe The People Choose #Trump #VoteTrump #Trump2016 #CruzCrew SINKS #INPrimary #IndianaPrimary #CAPrimary #AlwaysTrump https://t.co/6dUU3xpmLm\n",
      "2016-05-02 18:32:54\t#CaliforniaPrimary #CaPrimary #IndianaPrimary #InPrimary why is #TedCruz such a liar. trump supports 2nd amed https://t.co/6hKqrVyb0S\n",
      "2016-05-02 18:40:52\tMT @Karee_news: #IndianaPrimary #Conservatives across this land are counting you to #ChooseCruz. https://t.co/wuAb24QMEy #CruzCrew #PJNET\n",
      "2016-05-02 19:46:39\t@BernieSanders wants to take BOLD action to save our country. Hillary supports the status quo. #IndianaPrimary  https://t.co/mifFvM6lYq\n",
      "2016-05-02 20:27:30\t#StephanieCegielski On #RealDonaldTrump The hard truth is: #Trump only cares about #Trump. #IndianaPrimary #MakeAmericaHateAgain\n",
      "2016-05-02 20:41:27\tAnother coach backs @realdonaldtrump - Former @NDFootball's Lou Holtz backing #GOP front-runner ahead of #IndianaPrimary\n",
      "2016-05-02 21:13:29\tINDIANA: Keep your eyes open and report any voter fraud. #IndianaPrimary #INPrimary #VoteTrumpIN #Trump2016 #MAGA  https://t.co/venRKLnntw\n",
      "2016-05-02 21:21:52\t#Politics: #IndianaPrimary - Vote for @BernieSanders! He pins hopes for momentum on you! https://t.co/Q4gT6mJVnk #Election2016 @NYTPolitics\n",
      "2016-05-02 21:39:53\t🔊 #TrumpRally, Future POTUS!!! Please #VoteTrump #Indiana!!! #IndianaPrimary #INPrimary #IndianaPolitics #INPolitics https://t.co/VVy7BlqZLz\n",
      "2016-05-02 22:48:44\t@realDonaldTrump couldn't PASS the CONSTITUTION TEST! #IndianaPrimary goal is 2 get 2 the convention vote #CRUZ https://t.co/ObvZt8DfN0\n",
      "2016-05-03 00:04:06\tLou Holtz gets in on the action and endorses @realDonaldTrump! #NotreDame #INPrimary #IndianaPrimary #Trump2016 https://t.co/u8urEh9XjA\n",
      "2016-05-03 01:15:19\tDonald Trump #DonaldTrump #INPrimary #Indiana #Nebraska #IndianaPrimary #Oregon #Washington #WVA #SD #OR #WA     https://t.co/GRlB5tGdI2\n",
      "2016-05-03 02:04:13\tVote Hillary #IndianaPrimary #IAmWithHer   FiveThirtyEight's forecasts for the 2016 primaries https://t.co/DydQbpXWGL\n",
      "2016-05-03 03:23:21\t#trumplies every body knows! #IndianaPrimary #indian  https://t.co/BE28x0EVA0\n",
      "2016-05-03 08:54:15\tPolls open at 6am- HoCo residents can vote at any vote center listed below. Don't forget your ID. #IndianaPrimary https://t.co/asSXqaZZbQ\n",
      "2016-05-03 10:06:42\tWe've got team coverage of the #IndianaPrimary on @FOX59 all morning! @Kyle_Inskeep @JillianDeam https://t.co/SSrAZ6LSud\n",
      "2016-05-03 11:13:54\t#IN #IndianaPrimary Read The Signs!   ✔️ VOTE #America1st ✔️ VOTE #OnlyTrump  We Will #MakeAmericaGreatAgain https://t.co/2hChS7I00W\n",
      "2016-05-03 11:34:34\tThis is why they need Clinton in office Because Trump will expose them #IndianaPrimary #TrumpTrain  https://t.co/InJYGlBTNC\n",
      "2016-05-03 12:34:56\tDo it people. Get informed. Polls are open til 6. Vote! #IndianaPrimary\n",
      "2016-05-03 12:48:01\tShe can't beat trump. #IndianaPrimary #FeelTheBern  https://t.co/T39xJAHvrw\n",
      "2016-05-03 12:49:24\tGood morning Indiana!! Let's send the message loud and clear today; We want Trump!! #IndianaPrimary #INdiana4trump https://t.co/kJVUK6ctwd\n",
      "2016-05-03 12:49:29\tGood Morning #Indiana  Today is the Day! SHOW YOUR AMERICAN PRIDE and VOTE FOR TRUMP! #IndianaPrimary  #Trump2016 https://t.co/ZXiOLaVVLe\n",
      "2016-05-03 13:18:15\tWow how time flies! This time in 2008, I helped cover the #IndianaPrimary at @ElkhartTruth, my first newspaper job.\n",
      "2016-05-03 13:44:06\t@realDonaldTrump thinks China rapes us but that Mike Tyson didn't rape Desiree Washington! https://t.co/C2vWQT3JiF #IndianaPrimary @tedcruz\n",
      "2016-05-03 14:13:53\t#Indianaprimary: Republican voters could put Trump on brink of nomination – live https://t.co/R1rdqz2rZp\n",
      "2016-05-03 14:34:23\t#IndianaPrimary #IndianaPolls #IndianaVoters help make #history by #voting all your #Delegates to back #DonaldTrump https://t.co/Zm5AB42k9j\n",
      "2016-05-03 14:39:24\tWhat Hoosiers are Googling before the Indiana primary | Indiana Primary https://t.co/ROJfybXaAt #indianaprimary\n",
      "2016-05-03 14:52:51\tGet to know #HillaryClinton. We have to win this one. #IndianaPrimary #INPrimary #Indiana  https://t.co/YIDE7XGlUq https://t.co/H9ZriUaAX3\n",
      "2016-05-03 15:46:35\tPeople better wake up .. This man is insane and unfit for CINC . #IndianaPrimary https://t.co/c8oz0ThDjl\n",
      "2016-05-03 16:03:09\tLet's do this Indiana!--- Indiana Boasts Record Turnout for Early Voting - Breitbart https://t.co/bN7NcZJUWT #IndianaPrimary\n",
      "2016-05-03 16:14:45\t#WWJD  #RealDonaldTrump On #Women Paulina Vega ,Miss Universe 2014 “hypocrite” #IndianaPrimary  #NoDealDonald\n",
      "2016-05-03 16:45:24\tTrump Says Cruz's Dad Shouldn't Be Allowed to Talk About Religion #IndianaPrimary  https://t.co/Hlw8HPTnQ4\n",
      "2016-05-03 17:49:20\tAnother primary today, another day of delusional, lyin' Ted getting his clock cleaned. What else is new. #IndianaPrimary #Trump2016\n",
      "2016-05-03 18:31:02\tThere should be a Cruz-Sanders debate. Then America would know what it's missing. #election2016 #indianaprimary\n",
      "2016-05-03 18:37:01\t#IndianaPrimary with your help we can get a REAL conservative in the White House #CruzCarly2016 #CruzCrew https://t.co/3kObBvR8qW\n",
      "2016-05-03 19:02:38\tYes, #Lyinted is like a creepy stalker! #IndianaPrimary #INPrimary #Trump2016 #MAGA https://t.co/QWyHXhttFZ\n",
      "2016-05-03 19:12:35\tPlease #beheard. Get out and vote for real progress, #vote #BernieSanders in #IndianaPrimary! Bring your friends! #FeelTheBern #BernieOrBust\n",
      "2016-05-03 20:00:27\t#IndianaPrimary #InPrimary why is  #TedCruz such pathological a liar, anything for a dollar or vote or MUSLIMS https://t.co/hGiiVVGCsc\n",
      "2016-05-03 20:41:56\tStill time to vote in the #indianaprimary. Polls close at 6. #mocoelex16 https://t.co/W59MygeY9D\n",
      "2016-05-03 21:55:23\tTed Cruz debates with Trump supporter in Indiana #ChooseCruz #IndianaPrimary #NowPlaying #CruzCarly2016  https://t.co/IJz97847Kh\n",
      "2016-05-03 21:58:16\t#INPrimary #INPrimary2016 #NeverTrump #IndianaPrimary  Hang In There!  Exercise your RIGHT to VOTE!!!   https://t.co/ANFgMKvYpM\n",
      "2016-05-03 22:09:23\t#IndianaPrimary #berniesupporters Dn let that ballot's deliberately suggestive wording push you to vote for any of Clinton's delegates.\n",
      "2016-05-03 22:13:42\tIndiana should be Cruz territory. A loss tonight would be the final blow for him. #IndianaPrimary\n",
      "2016-05-03 22:16:32\tProudly exercised my right to vote today in the #IndianaPrimary. #CruzCrew #DumpTrump https://t.co/6C1yjWe1Sq\n",
      "2016-05-03 22:36:52\tIndiana folks should really be voting on what makes them laugh harder, Trump's small hands or Cruz being the zodiac killer. #IndianaPrimary\n",
      "2016-05-03 23:05:42\tJUST IN: @realDonaldTrump has won the GOP #IndianaPrimary. #INPrimary #2016GOP\n",
      "2016-05-03 23:09:00\t.@CNN projects win for @realDonaldTrump in #Indianaprimary https://t.co/f5QnqOL8g1 https://t.co/lL4I5IJJNa\n",
      "2016-05-03 23:12:51\t@tedcruz &amp; @JohnKasich must dropout there is no way that they can win #IndianaPrimary #Trump2016 #MAGA\n",
      "2016-05-03 23:17:11\tSt Joseph County (home of Notre Dame): Sanders: 52.6% Clinton: 47.4% #IndianaPrimary\n",
      "2016-05-03 23:21:10\t#CruzCarly2016 Even outside of Gotham City the Penguin and Catpiss Lady lose to Trumpman! #batman #Trump #IndianaPrimary\n",
      "2016-05-03 23:26:13\tIt's one of the most remarkable political stories. @realDonaldTrump has sustained his momentum. @FoxNews #IndianaPrimary\n",
      "2016-05-03 23:26:49\tFOX News: @realDonaldTrump wins #IndianaPrimary over @tedcruz as FOX's Lisa Lacerra reports: https://t.co/fmsbpNR21e\n",
      "2016-05-03 23:28:15\t#IndianaPrimary Way to close to call in the Democratic race!\n",
      "2016-05-03 23:36:33\t#TrumpMoonBase congratulates Donald Trump on his blazing victory tonight in #IndianaPrimary ! TWICE AS HARD! https://t.co/Cm3NyHMAFP\n",
      "2016-05-03 23:57:50\tTalk about burying your head in the sand. @JohnKasich is not even doing a speech tonight. #IndianaPrimary\n",
      "2016-05-03 23:58:08\t.@mlizetocampo: \"Latino voters...will vote against the hate of @realDonaldTrump &amp; the GOP.” https://t.co/brJYiQrAbx #IndianaPrimary\n",
      "2016-05-04 00:14:44\tWhere was God when @tedcruz needed a miracle? #IndianaPrimary #GOP\n",
      "2016-05-04 00:22:49\tRemember when @NateSilver538 used to get it right? Then he sold-out to corporate interests.... #IndianaPrimary  https://t.co/IOJZ88my6G\n",
      "2016-05-04 00:27:26\tAfter major #IndianaPrimary defeat @tedcruz takes to the stage at his campaign HQ @KTVU\n",
      "2016-05-04 00:31:56\tMeanwhile, as Cruz quits:   (49.4%) reporting Bernie Sanders 179,769 52.4% Hillary Clinton 163,183  #IndianaPrimary\n",
      "2016-05-04 00:34:21\t#IndianaPrimary after 2 minutes of listening to @tedcruz I keep looking for some to pass around the collection basket\n",
      "2016-05-04 00:36:31\tWell, history was made tonight in the Hoosier State! #IndianaPrimary\n",
      "2016-05-04 00:41:03\tMay God have mercy on us all. #IndianaPrimary\n",
      "2016-05-04 00:46:49\tGo Bernie!!!! #IndianaPrimary\n",
      "2016-05-04 00:47:03\tLook for Donald Trump to do to Hillary Clinton what he did to Jeb Bush. Gonna be a bloody summer. #IndianaPrimary #MakeAmericaGreatAgain\n",
      "2016-05-04 00:57:03\tFollowing a devastating loss in #IndianaPrimary #TedCruz drops out of #Republican race https://t.co/48HO9FscOq\n",
      "2016-05-04 00:58:28\tCruz dropping out overshadowing Bernie winning in IN...freakin media #IndianaPrimary\n",
      "2016-05-04 01:04:28\tWe're getting closer to \"Idiocracy\" being a documentary. It's already a warning. It shouldn't be a truth. #IndianaPrimary\n",
      "2016-05-04 01:10:29\tOMG @BernieSanders wins #IndianaPrimary 53/47 wow!!\n",
      "2016-05-04 01:12:31\tCongratulations America, &amp; you thought the world ridiculed you before. 👏👏👏👏 #IndianaPrimary\n",
      "2016-05-04 01:15:37\tUS networks now projecting a win for @BernieSanders in the #IndianaPrimary...beating Clinton by 53.2 to 46.8 with 63% of vote in. @rtenews\n",
      "2016-05-04 01:16:17\t#IndianaPrimary goes to #BernieSanders !! Thank you, Indiana!!! Keep on going! #StillSanders #BernieOrBust\n",
      "2016-05-04 01:26:40\tWhy didn't Marty McFly warn us about this? #IndianaPrimary #BackToTheFuture\n",
      "2016-05-04 01:29:45\t#Hoosiers sure know how to toss up things! #IndianaPrimary\n",
      "2016-05-04 01:30:40\tGOP implosion in 3, 2, 1.....#IndianaPrimary\n",
      "2016-05-04 01:39:01\tBREAKING: Sanders wins the Indiana Democratic primary. #IndianaPrimary\n",
      "2016-05-04 01:51:17\tIt drives me NUTS that ALL the news channels are BARELY covering the fact that Bernie beat Hillary...so annoying #IndianaPrimary #cnn\n",
      "2016-05-04 02:04:41\tCould this cause a split into the New Republican Party, as members flee #Trump #GOP #IndianaPrimary\n",
      "2016-05-04 02:16:34\tMurphy: \"This is going to be tricky for Clinton. How to run without turning her into a shouting candidate\"  #msnbc #IndianaPrimary\n",
      "2016-05-04 02:18:58\tCruz hit a TED end! Finally! #IndianaPrimary\n",
      "2016-05-04 02:30:59\tI am so lucky to live in a non swing state this election. I get to vote my conscience and not worry that I'm helping Trump. #IndianaPrimary\n",
      "2016-05-04 02:33:10\tIf you hate your choices for president seek your candidate now for 2020 and back them early for the next election. #IndianaPrimary\n",
      "2016-05-04 02:33:15\t#Hillary loses #IndianaPrimary by 6. Wins one more delegate than #Bernie (42 to 43). Something seriously wrong w/that.\n",
      "2016-05-04 02:44:32\t@clmazin do you think Carly Fiorina will still hang out with Ted's kids or was that song all for nothing? #IndianaPrimary #TedCruz\n",
      "2016-05-04 03:12:07\tCongrats to @SenSanders for winning the Indiana primary! Keep the 🔥 alive!  #PoliticalRevolution #IndianaPrimary #FeelTheBern #BernieOrBust\n",
      "2016-05-04 04:31:12\tThat's all Ted Cruz #CruzOut ( Make way for Republican President Trump )  #IndianaPrimary  #Elections2016 #Trump2016 https://t.co/Y1LlURZp1K\n",
      "2016-05-04 05:15:29\tI think Leslie Knope would be disappointed in her home state today. #IndianaPrimary https://t.co/NTd3ttHlIV\n",
      "2016-05-04 07:14:03\tDon't even want to deal with today... (At least Bernie won #IndianaPrimary !!! #FeelTheBern ) https://t.co/nnovKlnuxI\n",
      "2016-05-04 12:10:36\t@BBCNews @BernieSanders won the #IndianaPrimary yesterday and you're not even covering it??!  All you headline is that buffoon Trump\n",
      "2016-05-04 14:14:43\tHow many businesses has #Trump been in control of that are now defunct? #Gma #IndianaPrimary\n",
      "2016-05-04 14:17:07\tThank you #IndianaPrimary #TedCruz voters! You alone restore my faith in a decent, moral, Constitution-based society https://t.co/DEBaClxGYK\n"
     ]
    }
   ],
   "source": [
    "df_rndm = df_smpl.sample(k_docs, random_state=2016)\n",
    "summ = df_rndm.sort_values(by='created_at', ascending=True)\n",
    "\n",
    "for _,doc in summ.iterrows():\n",
    "    print(str(doc['created_at']) + '\\t' + doc['text'])"
   ]
  },
  {
   "cell_type": "markdown",
   "metadata": {},
   "source": [
    "## 2. Verified User Selection\n",
    "### method:\n",
    "Select k random docs from verified users"
   ]
  },
  {
   "cell_type": "code",
   "execution_count": 270,
   "metadata": {
    "collapsed": false,
    "scrolled": true
   },
   "outputs": [
    {
     "name": "stdout",
     "output_type": "stream",
     "text": [
      "2016-05-02 19:35:18\tLive now on @facebook. Ask me a question &gt; https://t.co/wdKdBxA0Be #IndianaPrimary\n",
      "2016-05-02 19:48:01\tIndiana's strict #voterID law was upheld by #scotus in 2008. What to know about #voterID: https://t.co/PfjpZ2Hg59 #IndianaPrimary\n",
      "2016-05-02 20:04:00\tI dont get how someone can be that nasty. At least @tedcruz had the 🏐⚽️🏀 to face/visit the crowd. #IndianaPrimary\n",
      "2016-05-02 20:32:41\tWATCH NOW: Trump speaks at a rally in Carmel, Ind. ahead of #IndianaPrimary https://t.co/2fyNEZG6NI https://t.co/nZZLCgppJ0\n",
      "2016-05-02 20:41:27\tAnother coach backs @realdonaldtrump - Former @NDFootball's Lou Holtz backing #GOP front-runner ahead of #IndianaPrimary\n",
      "2016-05-02 23:32:30\tIn South Bend, where @tedcruz needs strong vote, @realDonaldTrump draws SRO to Century Center. #IndianaPrimary https://t.co/B98cTeqbpd\n",
      "2016-05-03 01:38:51\tOn the brink of the nomination, Donald tones down the Trump. @GriffinLeeds before the #IndianaPrimary https://t.co/ZQ9wImMpqU via @TheTab\n",
      "2016-05-03 10:06:42\tWe've got team coverage of the #IndianaPrimary on @FOX59 all morning! @Kyle_Inskeep @JillianDeam https://t.co/SSrAZ6LSud\n",
      "2016-05-03 11:34:03\tAt 8:15, @THEHermanCain will join us. He will discuss the #IndianaPrimary. Click to listen online https://t.co/oybA70js1N\n",
      "2016-05-03 13:18:15\tWow how time flies! This time in 2008, I helped cover the #IndianaPrimary at @ElkhartTruth, my first newspaper job.\n",
      "2016-05-03 13:44:27\tStart your #IndianaPrimary day with a smile https://t.co/TMTb3t5Cin\n",
      "2016-05-03 16:35:01\tFlailing in the polls, @tedcruz completely unloads on @realDonaldTrump on day of do-or-die #IndianaPrimary https://t.co/CpWmgH3ope\n",
      "2016-05-03 16:45:24\tTrump Says Cruz's Dad Shouldn't Be Allowed to Talk About Religion #IndianaPrimary  https://t.co/Hlw8HPTnQ4\n",
      "2016-05-03 16:55:12\tGoing into today's #IndianaPrimary, Ted Cruz is unleashing his most brutal attacks ever against Donald Trump.  https://t.co/sNZBOT4ehB\n",
      "2016-05-03 18:28:49\t\"I'm the rose between the thorns,\" says one mom running in today's #IndianaPrimary: https://t.co/pAZiNUsDZM via @rollcall\n",
      "2016-05-03 20:14:39\tTed Cruz, on the inside. #IndianaPrimary #Indiana https://t.co/RH04LQ6DiP\n",
      "2016-05-03 22:20:45\tSo far, the first few precincts in rural Indiana look pretty good for Clinton: https://t.co/EacsD0xbXJ #IndianaPrimary\n",
      "2016-05-03 22:30:20\tLet your voice be heard. Call in now at 877-NEWSMAX. #AmericaVotes2016 @NewsmaxTV #IndianaPrimary https://t.co/OZVHi9gBqi\n",
      "2016-05-03 22:49:35\t#IndianaPrimary @foxnews exit polls: 53% of Hoosiers say they feel betrayed by Republican politicians; 42% say Cruz ran most unfair campaign\n",
      "2016-05-03 22:51:14\tAFTER THE BREAK : Brian @kilmeade joins @larryhansgen LIVE to talk #IndianaPrimary.  Listen here : https://t.co/Evgx11gOTo\n",
      "2016-05-03 22:51:23\t#Indiana polls are still open, but early voting results are trickling in. https://t.co/PSdj5GAHUc #IndianaPrimary https://t.co/abh3FvFw38\n",
      "2016-05-03 23:02:02\t#BREAKING: Donald Trump projected to win #IndianaPrimary https://t.co/ID07WGCFzu\n",
      "2016-05-03 23:08:00\tJUST IN: Donald Trump Wins the #IndianaPrimary https://t.co/eCjxjbzySO https://t.co/L2FXww1A5f\n",
      "2016-05-03 23:09:00\t.@CNN projects win for @realDonaldTrump in #Indianaprimary https://t.co/f5QnqOL8g1 https://t.co/lL4I5IJJNa\n",
      "2016-05-03 23:09:27\tIn the Dems #IndianaPrimary,with10% of the vote counted, Clinton 52.2% Sanders on 47.8....race deemed too early to call for now. @rtenews\n",
      "2016-05-03 23:21:10\tLive updates: #IndianaPrimary results. https://t.co/TPq8sEP1XZ https://t.co/GET8EZ93T8\n",
      "2016-05-03 23:26:49\tFOX News: @realDonaldTrump wins #IndianaPrimary over @tedcruz as FOX's Lisa Lacerra reports: https://t.co/fmsbpNR21e\n",
      "2016-05-03 23:35:16\tUPDATE: Clinton and Sanders are neck and neck in the #IndianaPrimary https://t.co/YL12Vb824K https://t.co/kwa5mC4Ijo\n",
      "2016-05-03 23:44:56\tDemocratic side-- race too close to call- #BernieSanders has taken a slight lead at the moment over #HillaryClinton #IndianaPrimary\n",
      "2016-05-03 23:50:30\t.@HillaryClinton &amp; @BernieSanders are in a tight race. More #IndianaPrimary results here: https://t.co/G1JLHNOXE3\n",
      "2016-05-03 23:53:07\tIf anyone sees @TedCruz near a grassy knoll tonight, PLEASE contact the authorities. #IndianaPrimary https://t.co/TLU362oLcc\n",
      "2016-05-04 00:06:10\t\"Hard to feel bad for Ted Cruz. He started a fire and he's trapped in the house he set on fire.\" - @VanJones68 #IndianaPrimary\n",
      "2016-05-04 00:20:18\tWow, I guess Rafael Cruz did have something to do with JFK's assassination. #IndianaPrimary\n",
      "2016-05-04 00:24:43\tCruz has not taken the stage. Fiorina is making comments. Tone sounds like one of ... well, I don't know. #IndianaPrimary\n",
      "2016-05-04 00:27:26\tAfter major #IndianaPrimary defeat @tedcruz takes to the stage at his campaign HQ @KTVU\n",
      "2016-05-04 00:32:21\tEverything about his tone and demeanor says ... he's about to suspend his campaign. #IndianaPrimary\n",
      "2016-05-04 00:40:29\tTed Cruz drops out of presidential race.  At least his now former VP pick will know how to lay off all those Cruz staffers. #IndianaPrimary\n",
      "2016-05-04 00:41:50\t#TedCruz: Together we left it all on the field in Indiana. We gave it everything we got, but the voters chose another path. #IndianaPrimary\n",
      "2016-05-04 00:42:29\tBREAKING: Ted Cruz quits the presidential race—campaign manager Jeff Roe https://t.co/OOuvxbTaIQ #IndianaPrimary https://t.co/x2HWj15FD6\n",
      "2016-05-04 00:44:49\tBREAKING NEWS: This just happened. #tedcruz #IndianaPrimary #cnnelection https://t.co/kWC8ivlehs\n",
      "2016-05-04 00:47:27\twhy u #watchthenewsat7 !  @SenTedCruz live on only @kplr11 #7on11 bowing out after getting crushed by  @realDonaldTrump in #IndianaPrimary\n",
      "2016-05-04 00:47:51\tThere aren't that many historic moments. This is probably one of them. #IndianaPrimary\n",
      "2016-05-04 00:52:06\t#Trump takes #Indiana. #Cruz drops out of race. What do you think of #IndianaPrimary outcome for GOP? Use #tellusatoday, may publish reply.\n",
      "2016-05-04 01:15:37\tUS networks now projecting a win for @BernieSanders in the #IndianaPrimary...beating Clinton by 53.2 to 46.8 with 63% of vote in. @rtenews\n",
      "2016-05-04 01:15:39\tBREAKING NEWS: Bernie Sanders projected winner of the Indiana Democratic Primary. #IndianaPrimary https://t.co/DVvVD8E8Rm\n",
      "2016-05-04 01:15:42\tTrump has stepped to the microphone at Trump Tower in NYC. #IndianaPrimary\n",
      "2016-05-04 01:22:53\tSanders wins #IndianaPrimary. Adds to delegate count, but not likely to alter ending &amp; win nom. HRC loss is notable. https://t.co/a3OtGsrb31\n",
      "2016-05-04 01:24:05\t\"I don't know if he likes me or doesn't like me, but he is one hell of a competitor,\" @realDonaldTrump says of @tedcruz. #IndianaPrimary\n",
      "2016-05-04 01:27:03\thow long can HRC keep going...the networks want to know! #IndianaPrimary big Bernie win points him to the convention. #FeelTheBern\n",
      "2016-05-04 01:29:24\tDonald Trump has unified GOP voters &amp; other takeaways from #IndianaPrimary: https://t.co/8lYRdIUXnr by @MatthewJDowd https://t.co/rTznjgCfxw\n",
      "2016-05-04 02:22:06\tRAW VIDEO: Former Pres Bill Clinton speaks to #Louisville crowd on behalf of wife. #IndianaPrimary. #Elections2016 https://t.co/yiRvWTilUG\n",
      "2016-05-04 03:35:49\tGood night from Indy, it has been a historic night for the #IndianaPrimary, @WSBT will break it down in the morning https://t.co/9UiWQTk07A\n",
      "2016-05-04 04:20:05\t.@BernieSanders beats @HillaryClinton in #IndianaPrimary https://t.co/Owgkjy7SYY #Election2016 https://t.co/jB4uUU7awN\n",
      "2016-05-04 08:01:01\tCruz ends presidential campaign after crushing Indiana loss  https://t.co/6DICnBp1Bp #IndianaPrimary #INprimary https://t.co/ywQbdeh7Hl\n",
      "2016-05-04 11:06:30\t#IndianaPrimary was a romp for @realDonaldTrump #gdny\n",
      "2016-05-04 14:54:36\t\"The longer Sanders is in the race, the pushes Clinton further to the left.\"  Agree? Weigh in: https://t.co/vNWypfb6hL #IndianaPrimary\n"
     ]
    }
   ],
   "source": [
    "df_veri = df_smpl[df_smpl['user_verified'] == True].sample(min(k_docs, df_smpl[df_smpl['user_verified'] == True].shape[0]), random_state=2016)\n",
    "summ = df_veri.sort_values(by='created_at', ascending=True)\n",
    "\n",
    "for _,doc in summ.iterrows():\n",
    "    print(str(doc['created_at']) + '\\t' + doc['text'])"
   ]
  },
  {
   "cell_type": "markdown",
   "metadata": {},
   "source": [
    "## 3. Engagements Selection\n",
    "### method:\n",
    "Select k docs with highest engagements"
   ]
  },
  {
   "cell_type": "code",
   "execution_count": 272,
   "metadata": {
    "collapsed": false
   },
   "outputs": [],
   "source": [
    "df_smpl['engagements'] = df_smpl['favorite_count'] + df_smpl['retweet_count']"
   ]
  },
  {
   "cell_type": "code",
   "execution_count": 273,
   "metadata": {
    "collapsed": false
   },
   "outputs": [
    {
     "name": "stdout",
     "output_type": "stream",
     "text": [
      "2016-05-02 00:25:34\tLimbaugh: Ted Cruz Is ‘Inarguably Thoroughbred Conservative’ [VIDEO] https://t.co/0OVrmj16zm  #RedNationRising #Indianaprimary #CruzCrew\n",
      "2016-05-02 01:43:17\t.@realDonaldTrump whoops, look what I found,MSM! #IndianaPrimary #Trump2016 #TrumpTrain #Indiana #Hoosiers4Trump https://t.co/TxGaI6jCQZ\n",
      "2016-05-02 03:22:56\tCarly drops like a rock, just like Ted's chances of the nomination. #Trump2016 #IndianaPrimary #CaliforniaPrimary https://t.co/hxNPpQxQ84\n",
      "2016-05-02 14:02:47\t#Kasich is not good for Ohio. Not good for U.S. #VOTETRUMP #INDIANAPRIMARY @TeamJohnKasich should drop now https://t.co/4AxouLzHvw\n",
      "2016-05-02 14:40:04\tBreaking News: @realDonaldTrump has won NOTHING! He hasn't won the GOP nomination &amp; won't. Stop listening to propaganda! :) #IndianaPrimary\n",
      "2016-05-02 14:59:10\t#IN #IndianaPrimary #Veterans Ask You 2Vote 4 Trump►https://t.co/ynfAYFQRPC @AbnInfVet @Vets4TrumpORG @KamVTV #USA🇺🇸 https://t.co/fI8yRPpA6T\n",
      "2016-05-02 15:50:10\tIndiana we get to put this race away for @realDonaldTrump &amp; send a \"YUGE\" message to @tedcruz to drop out #VoteTrump in the #indianaprimary\n",
      "2016-05-02 17:40:09\t#IndianaPrimary U deserve to know that in addition to 169 fraud lawsuits Trump now has a rape lawsuit against him to https://t.co/n1bXEhOYyp\n",
      "2016-05-02 19:35:18\tLive now on @facebook. Ask me a question &gt; https://t.co/wdKdBxA0Be #IndianaPrimary\n",
      "2016-05-02 19:59:38\t#IndianaPrimary Bernie can't demand transparency for everyone but him.FEC sent him 3 letters on  contributions https://t.co/so4GrA4Lvn\n",
      "2016-05-02 20:04:00\tI dont get how someone can be that nasty. At least @tedcruz had the 🏐⚽️🏀 to face/visit the crowd. #IndianaPrimary\n",
      "2016-05-02 20:16:52\t\"Are you prepared to seize this once in a lifetime opportunity!?\" Stephen Miller #TrumpRally #IndianaPrimary\n",
      "2016-05-02 21:38:01\tThat's y they call him #lyingted  #INPrimary #IndianaPrimary #Indiana #ORPrimary #CAPrimary #voteTrump2016 https://t.co/nj9bpJLneZ\n",
      "2016-05-02 22:37:08\t#Trump Train Stop Carmel, IN with friends‼️ #IndianaPrimary #TrumpWinning🇺🇸 🚂💨💨💨 @realDonaldTrump VOTE  @DanScavino https://t.co/jdpIFKphX7\n",
      "2016-05-02 23:32:30\tIn South Bend, where @tedcruz needs strong vote, @realDonaldTrump draws SRO to Century Center. #IndianaPrimary https://t.co/B98cTeqbpd\n",
      "2016-05-03 00:38:31\tTED CRUZ LIVE:  https://t.co/fhCPzVERIw #INPrimary #IndianaPrimary #Indiana #Hoosiers #Hoosiers4cruz  #CruzCrew  #CruzCarly2016  #NeverTrump\n",
      "2016-05-03 02:07:52\tTrump The Government #Vote #TrumpRally  #IndianaPrimary  #TeamTrump #bikers #teachers #Nurses #USA #BuildTheWall https://t.co/NaI2GcVoL9\n",
      "2016-05-03 02:26:28\t#IndianaPrimary Cruz voted against our vets. Trump will protect them. #VoteTrumpIN #MAGA #NeverCruz #TedBush https://t.co/wz2hMfOWUr\n",
      "2016-05-03 02:27:55\tBecause of Ted Cruz, the Fort Hood shooting victims received Purple Hearts.  #vets #veterans #military #IndianaPrimary #tcot\n",
      "2016-05-03 11:07:51\tI'm feelin' it. @yaboyberniesand @BernieSanders #FeelTheBern #IndianaPrimary #Indiana4Bernie https://t.co/hm8KTWLy2F\n",
      "2016-05-03 11:16:16\t🚂🚃🚃🚃🚃🚃🚃🚃🇺🇸 #IN #Indiana #IndianaPrimary Trump #Trump #Trump2016 #TrumpTrain #VoteTrump #MAGA #PrimaryDay https://t.co/lZTHBEutQb\n",
      "2016-05-03 11:33:48\t#IndianaPrimary #ElectionDay  wake up America! #HillNo #NeverHillary  https://t.co/FljCfaB7ZH\n",
      "2016-05-03 12:32:43\tChristians , Conservatives ,  Lovers Of America The Beautiful Vote Ted Cruz #IndianaPrimary #INPrimary   @tgradous https://t.co/yoGzVYtI3w\n",
      "2016-05-03 12:42:32\tIs Trump a success? Can he fix the economy? #INPrimary #IndianaPrimary #Indiana #CruzCrew #Trump2016 #Hoosiers4Cruz https://t.co/Rdn7ZROP45\n",
      "2016-05-03 12:49:29\tGood Morning #Indiana  Today is the Day! SHOW YOUR AMERICAN PRIDE and VOTE FOR TRUMP! #IndianaPrimary  #Trump2016 https://t.co/ZXiOLaVVLe\n",
      "2016-05-03 13:24:50\tThis is your day to make HISTORY, #Indiana! #MakeAmericaGreatAgain #IndianaPrimary https://t.co/ykjrxe4efE\n",
      "2016-05-03 13:59:54\t🔥KICK OUT THAT VIOLENT PROTESTOR🔥 Omg @Morning_Joe slaying @tedcruz this morning! #IndianaPrimary 🏀 #TrumpTrain 🚂💨 https://t.co/9rCtwTi4Sa\n",
      "2016-05-03 14:02:10\t#IndianaPrimary voters, please consider #BernieSandersforPresident2016. He cares about the 99%.  #BernieOrBust https://t.co/TVANtR4Dpc\n",
      "2016-05-03 14:29:05\tLike Trump says, MAGA Nation is a movement of love - Of America and Americans. #IndianaPrimary\n",
      "2016-05-03 15:03:47\tPolitical Speak: Small Business GOP= multinational corporate polluters DEM= companies &lt;50 employees #IndianaPrimary https://t.co/PYNkWKn9BY\n",
      "2016-05-03 15:38:15\t#CNN I'm In #Evansville and I proudly Voted #Trump! #Hoosiers in #IndianaPrimary see right through @tedcruz https://t.co/T6iFkbTzOj\n",
      "2016-05-03 15:39:37\tIf you’re #StillSanders, stop checking “who’s with her” and get to work!: https://t.co/rNRrRZkIxi - via:@TheBernReport #IndianaPrimary\n",
      "2016-05-03 15:44:47\tExactly right.  And inevitable.  His money is apparently drying up too.  #IndianaPrimary  https://t.co/x9lgmQMbP9\n",
      "2016-05-03 16:16:38\t#WomenForTrump: we don't fit your broadbrush attacks of demeaning generalizations. #IndianaPrimary @realDonaldTrump https://t.co/zr3Lvdsmi0\n",
      "2016-05-03 16:55:12\tGoing into today's #IndianaPrimary, Ted Cruz is unleashing his most brutal attacks ever against Donald Trump.  https://t.co/sNZBOT4ehB\n",
      "2016-05-03 17:37:39\tWell... As a democrat, I voted #Trump2016 today @ the #IndianaPrimary https://t.co/UAMnObnRZg\n",
      "2016-05-03 17:42:37\tToo late already voted for Bernie.  #IndianaPrimary https://t.co/ATUIEuL6nl\n",
      "2016-05-03 17:57:35\tCome on #IndianaPrimary make us proud https://t.co/BUQiB1EQlC #MakeAmericaGreatAgain #makecaliforniagreatagain https://t.co/Hm8aH9rDC9\n",
      "2016-05-03 18:06:08\tGOP should have nominee who hasn't been a Hillary Clinton enthusiast &amp; donor to her❌ #IndianaPrimary #ChooseCruz https://t.co/RBj1MWpn9h\n",
      "2016-05-03 18:32:29\t#IndianaPrimary No one is better suited to step into the White House and lead from day one like Hillary Clinton is! https://t.co/7vBbzHYl5W\n",
      "2016-05-03 19:10:14\tI have mixed feelings about being the only 17 year old to vote at my precinct so far #IndianaPrimary. (GO VOTE) https://t.co/PiRvTILJM8\n",
      "2016-05-03 20:07:58\tAnother vote for Bernie in Indiana! #iVoted #FeelTheBern #IndianaPrimary\n",
      "2016-05-03 20:14:39\tTed Cruz, on the inside. #IndianaPrimary #Indiana https://t.co/RH04LQ6DiP\n",
      "2016-05-03 20:57:47\t#IndianaPrimary  GOP Brokered Convention IS BROKEN TODAY Deal with it ! @realDonaldTrump @BarbMuenchen @1LuckyLady_ https://t.co/p0QwSgVENd\n",
      "2016-05-03 21:56:35\tTrump says he \"loves the uneducated\"...I have to give him credit he really knows his base. #IndianaPrimary\n",
      "2016-05-03 22:20:45\tSo far, the first few precincts in rural Indiana look pretty good for Clinton: https://t.co/EacsD0xbXJ #IndianaPrimary\n",
      "2016-05-03 22:30:42\tHRC is performing better than her benchmarks in rural counties so far #IndianaPrimary https://t.co/YOXMymiQyJ\n",
      "2016-05-03 22:56:45\tExit polls have Bernie up 12 over Clinton in #IndianaPrimary\n",
      "2016-05-03 23:02:48\tI LOVE INDIANA #IndianaPrimary\n",
      "2016-05-03 23:03:36\t#IndianaPrimary Looks like Trump has secured the majority of the white trash demo.\n",
      "2016-05-03 23:07:54\tAt least #LyinTed has an experienced job killer Carly Fiorina around to layoff his campaign staff!!! #IndianaPrimary https://t.co/5KNqr0qi6d\n",
      "2016-05-03 23:08:00\tJUST IN: Donald Trump Wins the #IndianaPrimary https://t.co/eCjxjbzySO https://t.co/L2FXww1A5f\n",
      "2016-05-03 23:09:00\t.@CNN projects win for @realDonaldTrump in #Indianaprimary https://t.co/f5QnqOL8g1 https://t.co/lL4I5IJJNa\n",
      "2016-05-03 23:16:25\t#Trumptrain is rolling towards #1237 #IndianaPrimary  https://t.co/hr5SJQGkv0\n",
      "2016-05-03 23:21:10\tLive updates: #IndianaPrimary results. https://t.co/TPq8sEP1XZ https://t.co/GET8EZ93T8\n",
      "2016-05-03 23:26:26\tHoosier Daddy, Lyin' Ted?? #LyinTed #IndianaPrimary https://t.co/tmTRgMq4r8\n",
      "2016-05-03 23:32:26\t177 vote margin! This is insane! #IndianaPrimary\n",
      "2016-05-03 23:35:16\tUPDATE: Clinton and Sanders are neck and neck in the #IndianaPrimary https://t.co/YL12Vb824K https://t.co/kwa5mC4Ijo\n",
      "2016-05-03 23:42:23\tIronic moment: @BernieSanders winning Clinton County Indiana. #FeelTheBern #IndianaPrimary #INPrimary https://t.co/ciu99ngn2W\n",
      "2016-05-03 23:45:00\tIt may be super close right now, but there are parts of Indiana that'll be favorable to Hillary that haven't reported yet. #IndianaPrimary\n",
      "2016-05-03 23:53:07\tIf anyone sees @TedCruz near a grassy knoll tonight, PLEASE contact the authorities. #IndianaPrimary https://t.co/TLU362oLcc\n",
      "2016-05-04 00:00:40\tNow that's a lead, @BernieSanders 👏👏  #IndianaPrimary https://t.co/KO06H0P3Vr\n",
      "2016-05-04 00:13:36\tPeople are surprised Trump is doing so well in Indiana?  Have y'all ever been to Indiana? #IndianaPrimary\n",
      "2016-05-04 00:16:33\tOnce again, The Nixon Rule held- \"Whenever there's a movement to stop X..........bet on X\"    #IndianaPrimary\n",
      "2016-05-04 00:19:21\tSanders 52.1 Clinton 47.9 #IndianaPrimary\n",
      "2016-05-04 00:25:24\t.@CarlyFiorina wishing she could back out of @tedcruz campaign and support @realDonaldTrump  #IndianaPrimary  #INPrimary  Indiana For Trump\n",
      "2016-05-04 00:31:56\tMeanwhile, as Cruz quits:   (49.4%) reporting Bernie Sanders 179,769 52.4% Hillary Clinton 163,183  #IndianaPrimary\n",
      "2016-05-04 00:32:21\tEverything about his tone and demeanor says ... he's about to suspend his campaign. #IndianaPrimary\n",
      "2016-05-04 00:38:47\t\"We want an outsider!\" Well you chose someone who bought &amp; sold politicians &amp; donated to Clinton, Reid, &amp; Pelosi. Nice! #IndianaPrimary\n",
      "2016-05-04 00:41:44\tI'm waiting patiently for #BernieSanders lead to expand to at least 8% points! #IndianaPrimary\n",
      "2016-05-04 00:41:47\tTed Cruz deserves some congratulations, no immigrant has ever won as many delegates as he did in this race. #IndianaPrimary\n",
      "2016-05-04 00:44:49\tBREAKING NEWS: This just happened. #tedcruz #IndianaPrimary #cnnelection https://t.co/kWC8ivlehs\n",
      "2016-05-04 00:45:30\tAmen 👉🏻 Ted Cruz is OUT!!! Next up 👉🏻 Hillary Clinton! #TrumpTrain is headed to The White House!!! #IndianaPrimary\n",
      "2016-05-04 00:47:51\tThere aren't that many historic moments. This is probably one of them. #IndianaPrimary\n",
      "2016-05-04 00:50:06\t54% reporting and @BernieSanders is up 53% to 47% *crosses fingers* #IndianaPrimary\n",
      "2016-05-04 00:51:14\tBernie would be a stronger candidate in November since he does better in open primaries... and November is an open election. #IndianaPrimary\n",
      "2016-05-04 00:52:06\t#Trump takes #Indiana. #Cruz drops out of race. What do you think of #IndianaPrimary outcome for GOP? Use #tellusatoday, may publish reply.\n",
      "2016-05-04 00:54:23\tSo far #MonroeCounty feels the most Bern -- Bernie wins 65% of the votes with 76.8% reporting. #IndianaPrimary #FeelTheBern #Bernie2016\n",
      "2016-05-04 01:08:52\tThank you, Indiana! #IndianaPrimary https://t.co/9QjaeVzXfE\n",
      "2016-05-04 01:14:58\tSanders wins #IndianaPrimary\n",
      "2016-05-04 01:15:28\tThough it's odd that Clinton loses #IndianaPrimary the night that she also becomes the presumptive 45th president.\n",
      "2016-05-04 01:17:56\tCruz dropping out. Unbelievable. #ImWithHer #HillaryClinton #IndianaPrimary\n",
      "2016-05-04 01:27:03\thow long can HRC keep going...the networks want to know! #IndianaPrimary big Bernie win points him to the convention. #FeelTheBern\n",
      "2016-05-04 01:29:24\tDonald Trump has unified GOP voters &amp; other takeaways from #IndianaPrimary: https://t.co/8lYRdIUXnr by @MatthewJDowd https://t.co/rTznjgCfxw\n",
      "2016-05-04 01:30:59\tTrump: \"The Hispanics have been so incredible to me\"  FACT CHECK: 87% of \"the Hispanics\" have an unfavorable opinion of him  #IndianaPrimary\n",
      "2016-05-04 01:33:04\tHas @GlennBeck been 5150'd yet and put on suicide watch?  #IndianaPrimary Ted Cruz drops out of presidential race.\n",
      "2016-05-04 01:34:33\tLindsey Graham must be on his fainting couch. #IndianaPrimary\n",
      "2016-05-04 01:36:38\tI'll leave this here. #GOP2016 #Republicans #RepublicansForHillary  #Elections2016 #IndianaPrimary https://t.co/hXcRqysKuk\n",
      "2016-05-04 01:38:33\t#BernieSanders wins the #IndianaPrimary . And the networks ignore the result. What else is new ?\n",
      "2016-05-04 02:14:57\tLive look at John Kasich. #IndianaPrimary #Trump2016 https://t.co/zxdRjZzINB\n",
      "2016-05-04 02:33:27\t#IndianaPrimary The only thing Donald Trump will end up with is a loaded diaper. https://t.co/YiTrEyLFaq\n",
      "2016-05-04 03:01:18\tHillary supporters on the left, Bernie supporters on the right after the #IndianaPrimary https://t.co/JCKFaRdvoO\n",
      "2016-05-04 03:06:14\tWhen you realize the next president will be either Trump or Hillary. #IndianaPrimary https://t.co/fu4nA5sygm\n",
      "2016-05-04 03:18:56\tThe GOP hasn't done their jobs, so WE THE PEOPLE have found an outsider in Donald Trump to break up the corruption party.  #IndianaPrimary\n",
      "2016-05-04 03:26:04\tSoon #NeverTrump, #NeverHillary and #StillSanders will trend all at the same time! #FeelTheBern #IndianaPrimary  https://t.co/RMMtzURbGe\n",
      "2016-05-04 03:34:05\t18 straight polls. 17 of them by double digits. #WakeUpDemocrats #IndianaPrimary https://t.co/XV2mejYofv\n",
      "2016-05-04 04:20:05\t.@BernieSanders beats @HillaryClinton in #IndianaPrimary https://t.co/Owgkjy7SYY #Election2016 https://t.co/jB4uUU7awN\n",
      "2016-05-04 04:31:12\tThat's all Ted Cruz #CruzOut ( Make way for Republican President Trump )  #IndianaPrimary  #Elections2016 #Trump2016 https://t.co/Y1LlURZp1K\n",
      "2016-05-04 04:41:46\tTrump Club. #IndianaPrimary #NeverTrump #DumpTrump https://t.co/KD4pVlh2vI\n",
      "2016-05-04 08:01:01\tCruz ends presidential campaign after crushing Indiana loss  https://t.co/6DICnBp1Bp #IndianaPrimary #INprimary https://t.co/ywQbdeh7Hl\n"
     ]
    }
   ],
   "source": [
    "df_eng = df_smpl.sort_values(by='engagements', ascending=False).head(k_docs)\n",
    "summ = df_eng.sort_values(by='created_at', ascending=True)\n",
    "\n",
    "for _,doc in summ.iterrows():\n",
    "    print(str(doc['created_at']) + '\\t' + doc['text'])"
   ]
  },
  {
   "cell_type": "markdown",
   "metadata": {},
   "source": [
    "## 4. TF-IDF Rank\n",
    "### method:\n",
    "Computes weights for each document using term frequencies and selects k best documents. The term frquency inverse document frequency equation computes a term importance which is higher if the term is frequent in one document but rare in the total corpus."
   ]
  },
  {
   "cell_type": "code",
   "execution_count": 274,
   "metadata": {
    "collapsed": false
   },
   "outputs": [
    {
     "name": "stdout",
     "output_type": "stream",
     "text": [
      "done in 0.000000s\n",
      "n_samples: 1000, n_features: 3443\n"
     ]
    }
   ],
   "source": [
    "t0 = time()\n",
    "#initialize sklearn vectorizer\n",
    "tfidf_vectorizer = TfidfVectorizer()\n",
    "print(\"done in %fs\" % (time() - t0))\n",
    "\n",
    "#create matrix of tfidf counts\n",
    "Xtfidf = tfidf_vectorizer.fit_transform(df_smpl['text'])\n",
    "print(\"n_samples: %d, n_features: %d\" % Xtfidf.shape)"
   ]
  },
  {
   "cell_type": "code",
   "execution_count": 275,
   "metadata": {
    "collapsed": false
   },
   "outputs": [],
   "source": [
    "#get sum tfidf for each doc\n",
    "Xtfidf_sums = Xtfidf.sum(axis=1)\n",
    "df_tfidf_sums = pd.DataFrame(Xtfidf_sums, columns=['tfidf_sum'])\n",
    "\n",
    "df_smpl = pd.merge(df_smpl, df_tfidf_sums, left_index=True, right_index=True)"
   ]
  },
  {
   "cell_type": "code",
   "execution_count": 276,
   "metadata": {
    "collapsed": false,
    "scrolled": true
   },
   "outputs": [
    {
     "name": "stdout",
     "output_type": "stream",
     "text": [
      "2016-05-02 00:21:31\t#IndianaPrimary..why would anyone pay $353K to dine with Hillary?..wealthy people view this 'donation' as an investment and demand a return.\n",
      "2016-05-02 00:33:59\tWe already know when #Trump wins huge in #IndianaPrimary, @tedcruz will posit the #CaliforniaPrimary hinges on everything. Rinse and repeat.\n",
      "2016-05-02 13:46:46\tI am very happy to see Indiana Gov. Mike Pence's endorsement of Ted Cruz. Let's win on Tuesday!  #IndianaPrimary... https://t.co/T2RzFFlcia\n",
      "2016-05-02 15:50:10\tIndiana we get to put this race away for @realDonaldTrump &amp; send a \"YUGE\" message to @tedcruz to drop out #VoteTrump in the #indianaprimary\n",
      "2016-05-02 19:03:49\t#IndianaPrimary..Hillary's Bosnia 'sniper fire' fable dishonors all who have come under fire..she will forever be known as a valor thief.\n",
      "2016-05-02 23:13:35\tWith just one day left to know the #IndianaPrimary outcome, it's all but certain that it's every candidates primary to lose. #trump #Cruz\n",
      "2016-05-02 23:17:35\tVoting in the #IndianaPrimary tomorrow? remember the only way Cruz wins nom is by spitting in face of majority voters,vote @realDonaldTrump\n",
      "2016-05-02 23:47:17\tIt appears to be over for #BernieSanders. (I will be devastated.) ALL media outlets are now focusing on Donald &amp; Hillary. #IndianaPrimary\n",
      "2016-05-03 02:25:33\t#IndianaPrimary Day is Tuesday, May 3rd! Please get out there &amp; #ChooseCruz! We need him! #CruzCarly2016 @tedcruz https://t.co/3Ql77m5QG4\n",
      "2016-05-03 03:14:39\tTrump will win the #IndianaPrimary and get more then 50% of the vote bet on it! Time to start focusing on the real enemy #NeverHillary !\n",
      "2016-05-03 08:54:15\tPolls open at 6am- HoCo residents can vote at any vote center listed below. Don't forget your ID. #IndianaPrimary https://t.co/asSXqaZZbQ\n",
      "2016-05-03 13:35:34\tTrump says China shouldn't be allowed to rape us... Seems to me you're helping them #IndianaPrimary #NeverTrump https://t.co/trb9pwhaCc\n",
      "2016-05-03 13:37:52\tLMAO Best Pic of #LyingTed of the day.  This will be his face when he loses big 2nite.  #IndianaPrimary #TrumpTrain https://t.co/01pEiB9pNn\n",
      "2016-05-03 15:39:48\tLyin @tedcruz on @CNN is so desperate he is lying hard about #Trump. #Indiana Make America Great Again and #VoteTrump #IndianaPrimary #Win\n",
      "2016-05-03 16:40:53\tIf @tedcruz loses #IndianaPrimary today, I hope he will go next logical step: endorse or run as 3rd party candidate. https://t.co/7XYUDNffVB\n",
      "2016-05-03 16:45:40\t#IndianaPrimary this is your chance to make history! #Vote for @HillaryClinton - 1st major party woman nominee in 227 yrs! #Hillary2016\n",
      "2016-05-03 17:52:38\tTrump is being sued for Fraud &amp; Sexual Assault but please Twitter, tell me more about how Cruz's dad killed JFK #IndianaPrimary #ChooseCruz\n",
      "2016-05-03 17:57:03\tThose who don't realize how much the Clintons and Obama did to improve health coverage are history-challenged. #IndianaPrimary #FeelTheBern\n",
      "2016-05-03 18:03:55\tIs this what it's like being blue in a red state? #IndianaPrimary Seeing more friends who declare Dem being harassed by poll volunteers.\n",
      "2016-05-03 18:15:19\t@tedcruz recent outburst &amp; desperate reach for attention is difficult to watch...kinda like watching a house go up in flames #IndianaPrimary\n",
      "2016-05-03 18:32:29\t#IndianaPrimary No one is better suited to step into the White House and lead from day one like Hillary Clinton is! https://t.co/7vBbzHYl5W\n",
      "2016-05-03 18:33:54\tWhat goes thru the DNC's head? \"Hey, we need the Independents to win in Nov! FUCK 'EM! Let em vote for #Trump.\" #TYT #IndianaPrimary #Bernie\n",
      "2016-05-03 18:46:36\tOne thing Indiana is doing right: Making me provide my signature and show ID when I go to vote! #IndianaPrimary #ImWithHer\n",
      "2016-05-03 18:58:10\t#IndianaPrimary If you're getting harassed or experience voter suppression: 866-IN1-VOTE (866-461-8683). Staff will be there until 7pm today\n",
      "2016-05-03 19:10:14\tI have mixed feelings about being the only 17 year old to vote at my precinct so far #IndianaPrimary. (GO VOTE) https://t.co/PiRvTILJM8\n",
      "2016-05-03 19:14:42\t#IndianaPrimary #Indiana Lyin Ted said he has always been surrounded by beautiful and loving women !! Guess that includes HIS HOOKER'S !!!\n",
      "2016-05-03 19:25:50\tTrump is mad that no one brings up his friends story in the national enquirer, so he dumb enough to bring it up himself #IndianaPrimary\n",
      "2016-05-03 20:20:08\tTwo of the largest Casket manufacturer's in the US are located in Indiana. Time for some candidate's to pick one out.  #IndianaPrimary\n",
      "2016-05-03 21:19:20\tGet out &amp; vote #Trump #IndianaPrimary so we can avoid a contested convention that will destroy all chances we have https://t.co/MJUTjPu0uO\n",
      "2016-05-03 21:24:05\tHere's to a YUGE win in Indiana! We will ride to victory and witness the end of the Lyin' Ted campaign! #Trump2016 #MAGA #IndianaPrimary\n",
      "2016-05-03 21:26:18\tListen to The Cruz Campaign Will Continue No Matter What  5/3/16 by Buck Sexton #np on #SoundCloud #IndianaPrimary  https://t.co/dBFm4chNjI\n",
      "2016-05-03 21:57:00\tYou are right @RachelsNews Hillary is just more of the same.We need a global change. #FeelTheBern in #IndianaPrimary https://t.co/i9u1zCoH4A\n",
      "2016-05-03 22:19:39\tThe #IndianaPrimary is underway and we go LIVE in just about 3 HOURS! Click the link and join the convo! #BHLPC https://t.co/ZQNRmVYp38\n",
      "2016-05-03 22:36:52\tIndiana folks should really be voting on what makes them laugh harder, Trump's small hands or Cruz being the zodiac killer. #IndianaPrimary\n",
      "2016-05-03 22:49:35\t#IndianaPrimary @foxnews exit polls: 53% of Hoosiers say they feel betrayed by Republican politicians; 42% say Cruz ran most unfair campaign\n",
      "2016-05-03 23:04:54\tIf @tedcruz ends up supporting @realDonaldTrump can you blame voters? Dem supporter for life so I don't care but Ted don't. #IndianaPrimary\n",
      "2016-05-03 23:07:54\tAt least #LyinTed has an experienced job killer Carly Fiorina around to layoff his campaign staff!!! #IndianaPrimary https://t.co/5KNqr0qi6d\n",
      "2016-05-03 23:09:27\tIn the Dems #IndianaPrimary,with10% of the vote counted, Clinton 52.2% Sanders on 47.8....race deemed too early to call for now. @rtenews\n",
      "2016-05-03 23:15:45\tWhen I covered the 2008 #IndianaPrimary for the @SBTribune, I thought it was crazy. A cake-walk by comparison. Great job, Hoosier journos!\n",
      "2016-05-03 23:20:24\tWill #IndianaPrimary give #Hillary2016 a free pass for #trade deals she supported? Not if this US worker can help it!  #1uwomen #1u\n",
      "2016-05-03 23:20:30\tFor what it's worth, I think you're fabulous. On point, right most of the time, it's all good. #IndianaPrimary  https://t.co/4M9KcnImb7\n",
      "2016-05-03 23:29:08\tHillary Clinton can barely beat a senile Jewish Socialist in adult diapers, yet she's gonna crush Trump? Dream on fucktards! #IndianaPrimary\n",
      "2016-05-03 23:30:20\tWe are taking your calls now live on @NewsmaxTV. This is your time to speak out and be heard by #America. Call 877-NEWSMAX. #IndianaPrimary\n",
      "2016-05-03 23:43:56\tThe Democratic race is over for all intents and purposes but if Bernie cant beat Hillary by at least 10 when she spent no $ #IndianaPrimary\n",
      "2016-05-03 23:45:00\tIt may be super close right now, but there are parts of Indiana that'll be favorable to Hillary that haven't reported yet. #IndianaPrimary\n",
      "2016-05-03 23:49:17\t#IndianaPrimary GOP if TRUMP is not the nominee we the people will see that you never win another seat again.\n",
      "2016-05-03 23:54:14\t#IndianaPrimary The last time I saw a knock out this quick Tyson &amp; Spinks fight was on HBO pay per view....lasted 18 seconds.\n",
      "2016-05-03 23:54:47\tlooks pretty much like a tie in #IndianaPrimary --not bad for Clinton considering she invested not one cent in ads and Sanders spent plenty!\n",
      "2016-05-03 23:56:37\tBy the way DefeaTED, how did that Carly Fiorina VP pick work out for you? What, Feminism didn't win you any votes? Shocker! #IndianaPrimary\n",
      "2016-05-03 23:56:57\t44% reporting statewide in GOP 3rd District #IndianaPrimary:   @Jim_Banks 23,453 - 35% @kiptom 20,935 - 31% @LizBrownUS 15,853 - 24%\n",
      "2016-05-03 23:58:22\t@MSNBC reporting #FeelTheBern taking the lead in #IndianaPrimary  Nice. My mood may improve before the day is over.  Sorry. I'm emotional.\n",
      "2016-05-04 00:10:40\tWay to to go Indy voters! Trump soon up on Hillary by 10% and @BernieSanders is our only hope. The true moral candidate #IndianaPrimary\n",
      "2016-05-04 00:16:55\tNext stop, Cruz speech. This is going to be good. A moment to remember, for all time, for a political junkie like myself. #IndianaPrimary\n",
      "2016-05-04 00:32:25\tA @tedcruz speech doesn't have to be so painful. Please stop bathing in your own words &amp; get on with it 😒 #IndianaPrimary\n",
      "2016-05-04 00:34:15\t@tedcruz It's the same for immigrants today but ur stuck on them being \"illegal\" The ones you want legally don't wash dishes #IndianaPrimary\n",
      "2016-05-04 00:37:35\tNot sure but \"Ted Cruz's 2016 running mate\" may be a better résumé item for Fiorina than \"Fired CEO of Hewlett-Packard\" #IndianaPrimary\n",
      "2016-05-04 00:38:03\tCruz may have ruined his political future. Picks Carly, starts deal with Kasich and then gets dismantled right after. #IndianaPrimary\n",
      "2016-05-04 00:38:05\tIn Ted Cruz' defense, he has to drop out now if he wants to get in a few good pogroms b4 GOP convention starts #IndianaPrimary\n",
      "2016-05-04 00:38:47\t\"We want an outsider!\" Well you chose someone who bought &amp; sold politicians &amp; donated to Clinton, Reid, &amp; Pelosi. Nice! #IndianaPrimary\n",
      "2016-05-04 00:40:29\tTed Cruz drops out of presidential race.  At least his now former VP pick will know how to lay off all those Cruz staffers. #IndianaPrimary\n",
      "2016-05-04 00:41:29\tOh man these people sounds honestly angry and upset at Cruz rally. Sounded like one dude just yelled \"what are you doing?!\" #IndianaPrimary\n",
      "2016-05-04 00:44:41\tTed Cruz will have more time now to shoot \"rings\" in the backyard with his kids...and study basketball. #Cruz #IndianaPrimary\n",
      "2016-05-04 00:46:06\t#IndianaPrimary: T. Cruz \"suspends\" campaign. Decision was made on the basis of delegate math alone. Indiana is a state Cruz should have won\n",
      "2016-05-04 00:47:58\tAll kidding aside, these are moments we pol junkies live for. The stuff we'll tell stories about 'til we kick the bucket. #IndianaPrimary\n",
      "2016-05-04 00:49:56\tSo I guess the #IndianaPrimary did what they said it would, changed up the game again. Bye Bye Ted Cruz, HAHA Republicans you have Trump now\n",
      "2016-05-04 00:51:30\tOff to cry myself to sleep. Good job, America. You've failed again.  https://t.co/BTFSmYiOeP  #TedCruz #CruzCrew #IndianaPrimary #ccot #tcot\n",
      "2016-05-04 00:51:54\t#Kasich is in fourth in a two candidate race. He probably won't be seeing much of a bump going forward even without #Cruz. #IndianaPrimary\n",
      "2016-05-04 00:52:06\t#Trump takes #Indiana. #Cruz drops out of race. What do you think of #IndianaPrimary outcome for GOP? Use #tellusatoday, may publish reply.\n",
      "2016-05-04 00:55:57\tWell that's a wrap as Hillary struggles with Bernie, is losing in the general and the FBI looms. Congrats President Trump!! #IndianaPrimary\n",
      "2016-05-04 00:57:12\tShocked at Cruz bowing out. Not worth it to TRY to keep Trump from locking the nomination on delegates? Bewildering. #IndianaPrimary\n",
      "2016-05-04 00:59:35\tNo matter what happens now, Lucifer will not be in the White House in 2017. Hallelujah and praise God. #TedCruz #IndianaPrimary\n",
      "2016-05-04 01:03:41\t@smerconish You're right. I am a lil pissed off that CA won't matter in GOP primary. Again. I'll vote for Bernie.  #IndianaPrimary\n",
      "2016-05-04 01:03:52\tThe real winner tonight is #CarlyFiorina because she doesn't have to hang out with #Cruz for another six months, AMIRIGHT? #IndianaPrimary\n",
      "2016-05-04 01:07:40\tTonight is the result of the @GOP failing to secure our borders, enforce immigration laws &amp; reduce the size of govt.  #IndianaPrimary\n",
      "2016-05-04 01:13:10\tTed shld have read Cabbie the Cannabis Leaf instead of Green Eggs and Ham when he filibustered. LOL! #IndianaPrimary https://t.co/iWftrXIBJN\n",
      "2016-05-04 01:15:37\tUS networks now projecting a win for @BernieSanders in the #IndianaPrimary...beating Clinton by 53.2 to 46.8 with 63% of vote in. @rtenews\n",
      "2016-05-04 01:20:57\t@realDonaldTrump says ppl will be proud to be miners when this country &amp; world are moving AWAY from coal. Dumbass #ImWithHer #IndianaPrimary\n",
      "2016-05-04 01:21:31\tToo bad Cruz didn't grab Sanders w/ the hook on the way out. Time to focus on the general.  #IndianaPrimary @HillaryClinton #DNC  #ImWithHer\n",
      "2016-05-04 01:21:55\twhat's up with cokie the red nosed trump? his son looks like he spent a long night with his good friend blow #IndianaPrimary\n",
      "2016-05-04 01:22:53\tSanders wins #IndianaPrimary. Adds to delegate count, but not likely to alter ending &amp; win nom. HRC loss is notable. https://t.co/a3OtGsrb31\n",
      "2016-05-04 01:27:03\thow long can HRC keep going...the networks want to know! #IndianaPrimary big Bernie win points him to the convention. #FeelTheBern\n",
      "2016-05-04 01:33:45\tI feel so bad for the cold can of mushroom soup that Ted Cruz is gonna hate eat tonight. #IndianaPrimary #TedCruz #CruzCarly2016\n",
      "2016-05-04 01:45:49\t#LyingTed may be the only true statement #Trump has made in this campaign. And I will miss his use of it. #IndianaPrimary\n",
      "2016-05-04 01:46:50\tTed Cruz has dropped out. I can now sleep a little easier knowing the Zodiac Killer will never again take another victim. #IndianaPrimary\n",
      "2016-05-04 01:48:36\tIt may not be popular to ask this question. But what was Ted Cruz's father doing in that photo with Oswald? #IndianaPrimary\n",
      "2016-05-04 01:50:48\tAmen @VanJones68 finally someone said it. Every Sanders victory has to be immediately shot down on CNN. #ElectionDay #IndianaPrimary\n",
      "2016-05-04 01:51:17\tIt drives me NUTS that ALL the news channels are BARELY covering the fact that Bernie beat Hillary...so annoying #IndianaPrimary #cnn\n",
      "2016-05-04 01:54:57\tHillary better have some epic oppo-research on Trump because so far he has been the \"Teflon Don.\" Nothing sticks to him! #IndianaPrimary\n",
      "2016-05-04 02:16:34\tMurphy: \"This is going to be tricky for Clinton. How to run without turning her into a shouting candidate\"  #msnbc #IndianaPrimary\n",
      "2016-05-04 02:27:37\tIf John Kasich is allowed to stay in the race,i hereby announce my candidacy! I've won nearly as much votes/delegates as him #IndianaPrimary\n",
      "2016-05-04 02:28:37\t#TedCruz dropping out of the race really isnt all that surprising. He was getting his ass handed 2 him on a platinum platter #IndianaPrimary\n",
      "2016-05-04 02:30:59\tI am so lucky to live in a non swing state this election. I get to vote my conscience and not worry that I'm helping Trump. #IndianaPrimary\n",
      "2016-05-04 02:44:32\t@clmazin do you think Carly Fiorina will still hang out with Ted's kids or was that song all for nothing? #IndianaPrimary #TedCruz\n",
      "2016-05-04 02:59:13\tMaybe if @CarlyFiorina had taken voice lessons before pulling her stunt last week they wouldn't have lost the #IndianaPrimary.\n",
      "2016-05-04 02:59:19\tStreaming @seanhannity on @YouTube right now. So glad TV \"news\" in Canada doesn't look anything like this. #IndianaPrimary #FoxNews #ugh\n",
      "2016-05-04 03:18:56\tThe GOP hasn't done their jobs, so WE THE PEOPLE have found an outsider in Donald Trump to break up the corruption party.  #IndianaPrimary\n",
      "2016-05-04 03:27:52\t.@amandacarpenter on CNN \"Endorsing #Trump would be bad for Cruz's *Brand*\" These people will never understand why they lost #IndianaPrimary\n",
      "2016-05-04 04:21:47\tCan we also acknowledge that the religious right do not have power to even get a win within Republican Party? #PaperTiger #IndianaPrimary -…\n",
      "2016-05-04 04:31:18\tBernie Sanders has now won 10 of the last 14 primaries.  Let that sink in a moment..  Viva La Revolution!  #FeelTheBern   #IndianaPrimary\n",
      "2016-05-04 04:39:28\tMT @gnpwdrandlead: Off to cry myself to sleep. Good job, America. You've failed again.  #TedCruz #CruzCrew #IndianaPrimary #ccot #tcot\n"
     ]
    }
   ],
   "source": [
    "df_tfidf = df_smpl.sort_values(by='tfidf_sum', ascending=False).head(k_docs)\n",
    "summ = df_tfidf.sort_values(by='created_at', ascending=True)\n",
    "\n",
    "for _,doc in summ.iterrows():\n",
    "    print(str(doc['created_at']) + '\\t' + doc['text'])"
   ]
  },
  {
   "cell_type": "markdown",
   "metadata": {},
   "source": [
    "#### tfidf stopped"
   ]
  },
  {
   "cell_type": "code",
   "execution_count": 277,
   "metadata": {
    "collapsed": false
   },
   "outputs": [
    {
     "name": "stdout",
     "output_type": "stream",
     "text": [
      "done in 0.000000s\n",
      "n_samples: 1000, n_features: 3235\n"
     ]
    }
   ],
   "source": [
    "t0 = time()\n",
    "#initialize sklearn vectorizer\n",
    "tfidf_vectorizer = TfidfVectorizer(stop_words='english')\n",
    "print(\"done in %fs\" % (time() - t0))\n",
    "\n",
    "#create matrix of tfidf counts\n",
    "Xtfidf = tfidf_vectorizer.fit_transform(df_smpl['text'])\n",
    "print(\"n_samples: %d, n_features: %d\" % Xtfidf.shape)"
   ]
  },
  {
   "cell_type": "code",
   "execution_count": 278,
   "metadata": {
    "collapsed": true
   },
   "outputs": [],
   "source": [
    "#get sum tfidf for each doc\n",
    "Xtfidf_sums = Xtfidf.sum(axis=1)\n",
    "df_tfidf_sums = pd.DataFrame(Xtfidf_sums, columns=['tfidf_stpd_sum'])\n",
    "\n",
    "df_smpl = pd.merge(df_smpl, df_tfidf_sums, left_index=True, right_index=True)"
   ]
  },
  {
   "cell_type": "code",
   "execution_count": 279,
   "metadata": {
    "collapsed": false
   },
   "outputs": [
    {
     "name": "stdout",
     "output_type": "stream",
     "text": [
      "2016-05-02 03:00:52\tLYIN DON: JUST 101 OF #TRUMP 'S MANY LIES   https://t.co/H9TivUVTAK |#CAPrimary #IndianaPrimary #INPrimary #NEPrimary #WAPrimary #NMPrimary\n",
      "2016-05-02 04:36:51\tWatch \"Judge Jeanine &amp; Bobby Knight  Donald Trump 4/30 https://t.co/PRNxJyXYXe #IndianaPrimary #Indiana  #INPrimary https://t.co/9P5u0ymbcT\n",
      "2016-05-02 06:35:42\t#CCOT Muslims And Pro-Homosexual Agents To Stop Trump &amp; Cause Riots &amp; Violence Throughout U.S. https://t.co/Mz9HqVpxwg #IndianaPrimary\n",
      "2016-05-02 07:19:41\tVOTE  #TRUMP 🚂💨 #WV #NE #INDIANA #OR #WA #CA #IndianaPrimary 🚂💨 #TedCruz Lies 10TimesIn5mins https://t.co/r4tHI6QL6m https://t.co/vZa6qLTwMB\n",
      "2016-05-02 07:23:42\tVOTE  #TRUMP 🚂💨 #WV #NE #INDIANA #OR #WA #CA #IndianaPrimary 🚂💨 #TedCruz Lies 10TimesIn5mins https://t.co/r4tHI6zaeO https://t.co/In5fjUi4sh\n",
      "2016-05-02 09:12:02\tFour new ads airing in Indiana https://t.co/j7N60aCV6Z via @LegInsurrection #tcot #gop #ccot #INpol #INPrimary #IndianaPrimary #ChooseCruz\n",
      "2016-05-02 13:43:29\tDonald Trump #DonaldTrump #INPrimary #Indiana #Nebraska #IndianaPrimary #Oregon #Washington #WVA #SD #OR #WA https://t.co/HKDCNMhfgu\n",
      "2016-05-02 13:46:46\tI am very happy to see Indiana Gov. Mike Pence's endorsement of Ted Cruz. Let's win on Tuesday!  #IndianaPrimary... https://t.co/T2RzFFlcia\n",
      "2016-05-02 13:59:48\tDonald Trump reveals the struggles that kept his faith in Jesus strong https://t.co/3NoPFI61Xm #rnc #gop #IndianaPrimary #2016election\n",
      "2016-05-02 14:27:33\t@NYT DANGEROUS Donald  https://t.co/fpwSvARj9i European leaders: Another Hitler. Exceed Hillary, Obma making US worse  #Cruz #IndianaPrimary\n",
      "2016-05-02 15:54:24\tDonald Trump #DonaldTrump #INPrimary #Indiana #Nebraska #IndianaPrimary #Oregon #Washington #WVA #SD #OR #WA https://t.co/75hI6aMb9b\n",
      "2016-05-02 16:15:11\t'You suck!' child yells; #TedCruz compares him to Donald Trump, offers lesson in respect, parenting https://t.co/WiP7f1sLTK #IndianaPrimary\n",
      "2016-05-02 16:19:57\tNew poll finds #Cruz with double-digit lead in #IndianaPrimary   https://t.co/qqu2TExgvb #CruzCrew #TrumpTrain #GOP2016 #TCOT\n",
      "2016-05-02 16:43:36\t#IndianaPrimary #IndianaHoosiers Indiana, do ur research because SCOTUS's Thomas &amp; Roberts won't remove #DCmadam gag https://t.co/3J9ZV3tXfu\n",
      "2016-05-02 20:48:55\t@deneenborelli #IndianaPrimary VOTE for #Trump fight BS MSM picking on 1  INDIANA child for yelling 2 words IGNORE 100's of worse Protests.\n",
      "2016-05-02 21:10:27\t#Indiana  Liberals R funding #Cruz 2weaken #GOP! Don't help Puppet #LyinTed!  #VoteTrump #INPrimary #IndianaPrimary https://t.co/24sNqzvnPH\n",
      "2016-05-02 22:09:38\tSR 821 Jeff Sessions: Obama to Sneak TPP Thru! #IndianaPrimary #INPrimary #TrumpTrain #Trump2016 #NeverCruz WATCH--&gt;https://t.co/Be0xPQmhMO\n",
      "2016-05-02 23:17:35\tVoting in the #IndianaPrimary tomorrow? remember the only way Cruz wins nom is by spitting in face of majority voters,vote @realDonaldTrump\n",
      "2016-05-02 23:32:30\tIn South Bend, where @tedcruz needs strong vote, @realDonaldTrump draws SRO to Century Center. #IndianaPrimary https://t.co/B98cTeqbpd\n",
      "2016-05-03 00:41:18\tGop Indiana prediction:  Red: Trump Orange: Cruz  Trump: 42.5% Cruz: 35.4% Kasich: 22.1% #IndianaPrimary #PrimaryDay https://t.co/bEaBTN4UP4\n",
      "2016-05-03 01:15:19\tDonald Trump #DonaldTrump #INPrimary #Indiana #Nebraska #IndianaPrimary #Oregon #Washington #WVA #SD #OR #WA     https://t.co/GRlB5tGdI2\n",
      "2016-05-03 02:27:55\tBecause of Ted Cruz, the Fort Hood shooting victims received Purple Hearts.  #vets #veterans #military #IndianaPrimary #tcot\n",
      "2016-05-03 03:01:44\tNew Ted Cruz TV Ad: Donald #Trump is LYING about me https://t.co/wz7xk9bR3I #LyinTrump #INPrimary #IndianaPrimary #CruzCrew #tcot\n",
      "2016-05-03 06:20:15\t@tedcruz #IndianaPrimary  Th momnt of human concptn captrd in thse pictrs. Bst reason to vte for #CruzCarly2016 https://t.co/8E3w9gD3Ud\n",
      "2016-05-03 06:52:02\t#Indiana  Liberals R funding #Cruz 2weaken #GOP #LyinTed = Dem Puppet!  #VoteTrump #INPrimary #IndianaPrimary #MAGA https://t.co/unmeArAD8y\n",
      "2016-05-03 08:04:30\t.@HillaryClinton says \"I didn't mean it that way\" reference to costing coal miners jobs. Just utter bullshit! #IndianaPrimary #FeelTheBern\n",
      "2016-05-03 08:54:15\tPolls open at 6am- HoCo residents can vote at any vote center listed below. Don't forget your ID. #IndianaPrimary https://t.co/asSXqaZZbQ\n",
      "2016-05-03 09:55:08\tDonald Trump #DonaldTrump #INPrimary #Indiana #Nebraska #IndianaPrimary #Oregon #Washington #WVA #SD #OR #WA https://t.co/uBYwy3sNVH\n",
      "2016-05-03 12:49:24\tGood morning Indiana!! Let's send the message loud and clear today; We want Trump!! #IndianaPrimary #INdiana4trump https://t.co/kJVUK6ctwd\n",
      "2016-05-03 13:44:06\t@realDonaldTrump thinks China rapes us but that Mike Tyson didn't rape Desiree Washington! https://t.co/C2vWQT3JiF #IndianaPrimary @tedcruz\n",
      "2016-05-03 14:30:02\tDonald Trump #DonaldTrump #INPrimary #Indiana #Nebraska #IndianaPrimary #Oregon #Washington #WVA #SD #OR #WA https://t.co/e25k8fYpUK\n",
      "2016-05-03 15:03:47\tPolitical Speak: Small Business GOP= multinational corporate polluters DEM= companies &lt;50 employees #IndianaPrimary https://t.co/PYNkWKn9BY\n",
      "2016-05-03 15:39:48\tLyin @tedcruz on @CNN is so desperate he is lying hard about #Trump. #Indiana Make America Great Again and #VoteTrump #IndianaPrimary #Win\n",
      "2016-05-03 15:54:06\tReminder: Today's #IndianaPrimary election day. If you haven't voted yet, polls open 'til 6PM. #ExerciseYourRight #Vote\n",
      "2016-05-03 16:40:53\tIf @tedcruz loses #IndianaPrimary today, I hope he will go next logical step: endorse or run as 3rd party candidate. https://t.co/7XYUDNffVB\n",
      "2016-05-03 16:45:40\t#IndianaPrimary this is your chance to make history! #Vote for @HillaryClinton - 1st major party woman nominee in 227 yrs! #Hillary2016\n",
      "2016-05-03 17:24:34\tApparently #Trump polling data now indicates linking Rafael #Cruz to JFK assassination will cause #IndianaPrimary voters to break for him.\n",
      "2016-05-03 17:52:38\tTrump is being sued for Fraud &amp; Sexual Assault but please Twitter, tell me more about how Cruz's dad killed JFK #IndianaPrimary #ChooseCruz\n",
      "2016-05-03 18:15:19\t@tedcruz recent outburst &amp; desperate reach for attention is difficult to watch...kinda like watching a house go up in flames #IndianaPrimary\n",
      "2016-05-03 18:22:19\tDonald Trump #DonaldTrump #INPrimary #Indiana #Nebraska #IndianaPrimary #Oregon #Washington #WVA #SD #OR #WA  https://t.co/HFH8jDWPZu\n",
      "2016-05-03 18:29:22\tDonald Trump #DonaldTrump #INPrimary #Indiana #Nebraska #IndianaPrimary #Oregon #Washington #WVA #SD #OR #WA  https://t.co/y1YcJld7le\n",
      "2016-05-03 18:32:07\tIt's hilarious to watch @realDonaldTrump surrogates trying to defend an Enquirer article. Trumps foreign policy papers. #IndianaPrimary\n",
      "2016-05-03 18:33:54\tWhat goes thru the DNC's head? \"Hey, we need the Independents to win in Nov! FUCK 'EM! Let em vote for #Trump.\" #TYT #IndianaPrimary #Bernie\n",
      "2016-05-03 18:58:10\t#IndianaPrimary If you're getting harassed or experience voter suppression: 866-IN1-VOTE (866-461-8683). Staff will be there until 7pm today\n",
      "2016-05-03 20:01:54\tHey @GovPenceIN, how many villages did you &amp; @TedCruz visit today? @PeriodsForPence @fbi #IndianaPrimary https://t.co/RZc6eNMDNh by @YouTube\n",
      "2016-05-03 20:04:39\t#IndianaPrimary BLACK LIVES MATTER Bandana &amp; 4 Large White Custom Decals  #p2 #CTL #Anonymous https://t.co/Wkstpqt2TT\n",
      "2016-05-03 20:11:42\tDonald Trump #DonaldTrump #INPrimary #Indiana #Nebraska #IndianaPrimary #Oregon #Washington #WVA #SD #OR #WA https://t.co/ZK5TpyZvWD\n",
      "2016-05-03 21:40:29\tWith @HillaryClinton in power Extremely high student debt ✅ Fracking ✅ No Wall St accountability ✅ No universal healthcare ✅ #IndianaPrimary\n",
      "2016-05-03 21:49:30\t#IndianaPrimary exit poll: 40% of #Republican voters say the primary campaign has energized the #GOP. 57% say it has divided the party.\n",
      "2016-05-03 22:36:52\tIndiana folks should really be voting on what makes them laugh harder, Trump's small hands or Cruz being the zodiac killer. #IndianaPrimary\n",
      "2016-05-03 22:49:35\t#IndianaPrimary @foxnews exit polls: 53% of Hoosiers say they feel betrayed by Republican politicians; 42% say Cruz ran most unfair campaign\n",
      "2016-05-03 23:02:18\tUPDATE - #IndianaPrimary Results: Trump Lead Expands To 22 Points https://t.co/skJPQwwda0 #tcot #teaparty #CruzCrew #NeverTrump #TrumpTrain\n",
      "2016-05-03 23:15:13\t@realDonaldTrump wins #IndianaPrimary in landslide. #NeverTrump dead. Cruz campaign over. Glenn Beck mad at God. https://t.co/n3oyz1x6pd\n",
      "2016-05-03 23:15:45\tWhen I covered the 2008 #IndianaPrimary for the @SBTribune, I thought it was crazy. A cake-walk by comparison. Great job, Hoosier journos!\n",
      "2016-05-03 23:24:36\tCRYIN' TED: @realDonaldTrump Wins #IndianaPrimary In Landslide https://t.co/skJPQwwda0 #tcot #teaparty #CruzCrew #lnyhbt #gop @TedCruz\n",
      "2016-05-03 23:29:08\tHillary Clinton can barely beat a senile Jewish Socialist in adult diapers, yet she's gonna crush Trump? Dream on fucktards! #IndianaPrimary\n",
      "2016-05-03 23:52:43\t\"Great job\" by Lyin' @tedcruz &amp; Flyin' @carlyfiorina in #IndianaPrimary. Misery loves company. Time to support @realDonaldTrump. #Trump2016\n",
      "2016-05-03 23:54:07\tTime for Lyin, cheatin @tedcruz to return his Green Card &amp; migrate back to Canada #IndianaPrimary #CruzSexScandal #Women4Trump #DropOutCruz\n",
      "2016-05-03 23:54:14\t#IndianaPrimary The last time I saw a knock out this quick Tyson &amp; Spinks fight was on HBO pay per view....lasted 18 seconds.\n",
      "2016-05-03 23:54:47\tlooks pretty much like a tie in #IndianaPrimary --not bad for Clinton considering she invested not one cent in ads and Sanders spent plenty!\n",
      "2016-05-03 23:56:37\tBy the way DefeaTED, how did that Carly Fiorina VP pick work out for you? What, Feminism didn't win you any votes? Shocker! #IndianaPrimary\n",
      "2016-05-03 23:56:57\t44% reporting statewide in GOP 3rd District #IndianaPrimary:   @Jim_Banks 23,453 - 35% @kiptom 20,935 - 31% @LizBrownUS 15,853 - 24%\n",
      "2016-05-04 00:21:44\t#IndianaPrimary results (at approx. 44% reporting): #Sanders leads #Clinton by 4.2%, #Trump wins big. | #FeelTheBern https://t.co/HBLBf46639\n",
      "2016-05-04 00:31:56\tMeanwhile, as Cruz quits:   (49.4%) reporting Bernie Sanders 179,769 52.4% Hillary Clinton 163,183  #IndianaPrimary\n",
      "2016-05-04 00:34:15\t@tedcruz It's the same for immigrants today but ur stuck on them being \"illegal\" The ones you want legally don't wash dishes #IndianaPrimary\n",
      "2016-05-04 00:37:35\tNot sure but \"Ted Cruz's 2016 running mate\" may be a better résumé item for Fiorina than \"Fired CEO of Hewlett-Packard\" #IndianaPrimary\n",
      "2016-05-04 00:38:03\tCruz may have ruined his political future. Picks Carly, starts deal with Kasich and then gets dismantled right after. #IndianaPrimary\n",
      "2016-05-04 00:41:29\tOh man these people sounds honestly angry and upset at Cruz rally. Sounded like one dude just yelled \"what are you doing?!\" #IndianaPrimary\n",
      "2016-05-04 00:42:29\tBREAKING: Ted Cruz quits the presidential race—campaign manager Jeff Roe https://t.co/OOuvxbTaIQ #IndianaPrimary https://t.co/x2HWj15FD6\n",
      "2016-05-04 00:43:28\tCarly Fiorina was VP candidate for non nominee for a week.  I'm pretty that's a record.  The losing streak remains unbroken. #IndianaPrimary\n",
      "2016-05-04 00:47:58\tAll kidding aside, these are moments we pol junkies live for. The stuff we'll tell stories about 'til we kick the bucket. #IndianaPrimary\n",
      "2016-05-04 00:52:06\t#Trump takes #Indiana. #Cruz drops out of race. What do you think of #IndianaPrimary outcome for GOP? Use #tellusatoday, may publish reply.\n",
      "2016-05-04 00:54:23\tSo far #MonroeCounty feels the most Bern -- Bernie wins 65% of the votes with 76.8% reporting. #IndianaPrimary #FeelTheBern #Bernie2016\n",
      "2016-05-04 01:02:41\t@HillaryClinton sent signals about expected loss in #IndianaPrimary Interesting: momentum vs. ginning up a little sympathy for the loser?\n",
      "2016-05-04 01:07:40\tTonight is the result of the @GOP failing to secure our borders, enforce immigration laws &amp; reduce the size of govt.  #IndianaPrimary\n",
      "2016-05-04 01:13:09\tI really feel for poor Heidi Cruz. Getting a real Pat Nixon vibe to be honest @dick_nixon: https://t.co/Hebbb6Jsm5 #IndianaPrimary\n",
      "2016-05-04 01:13:10\tTed shld have read Cabbie the Cannabis Leaf instead of Green Eggs and Ham when he filibustered. LOL! #IndianaPrimary https://t.co/iWftrXIBJN\n",
      "2016-05-04 01:18:08\tChris Beard's time as UNLV basketball coach &gt; Carly Fiorina's time as Ted Cruz VP candidate #IndianaPrimary @MWCConnection\n",
      "2016-05-04 01:20:57\t@realDonaldTrump says ppl will be proud to be miners when this country &amp; world are moving AWAY from coal. Dumbass #ImWithHer #IndianaPrimary\n",
      "2016-05-04 01:21:31\tToo bad Cruz didn't grab Sanders w/ the hook on the way out. Time to focus on the general.  #IndianaPrimary @HillaryClinton #DNC  #ImWithHer\n",
      "2016-05-04 01:21:55\twhat's up with cokie the red nosed trump? his son looks like he spent a long night with his good friend blow #IndianaPrimary\n",
      "2016-05-04 01:22:53\tSanders wins #IndianaPrimary. Adds to delegate count, but not likely to alter ending &amp; win nom. HRC loss is notable. https://t.co/a3OtGsrb31\n",
      "2016-05-04 01:23:10\tCounty results, 66% reporting. Lot of Hillary support along the Ohio- precursor to Kentucky primary? #IndianaPrimary https://t.co/kKlvsnFEIO\n",
      "2016-05-04 01:27:03\thow long can HRC keep going...the networks want to know! #IndianaPrimary big Bernie win points him to the convention. #FeelTheBern\n",
      "2016-05-04 01:33:45\tI feel so bad for the cold can of mushroom soup that Ted Cruz is gonna hate eat tonight. #IndianaPrimary #TedCruz #CruzCarly2016\n",
      "2016-05-04 01:51:17\tIt drives me NUTS that ALL the news channels are BARELY covering the fact that Bernie beat Hillary...so annoying #IndianaPrimary #cnn\n",
      "2016-05-04 02:08:54\tThis just in...@JohnKasich packing the family trickster after bus gets repo'd and driver quits #CaliOrBust #IndianaPrimary #Trump2016\n",
      "2016-05-04 02:27:37\tIf John Kasich is allowed to stay in the race,i hereby announce my candidacy! I've won nearly as much votes/delegates as him #IndianaPrimary\n",
      "2016-05-04 02:32:03\tLike his running mate Carly Fiorina 24 hours ago, #TedCruz has fallen off the national stage after the #IndianaPrimary\n",
      "2016-05-04 02:44:31\tAmazingly.  I don't think democrats are happy with #IndianaPrimary.  I see no Bernie or Hillary tags trending.  \"Inner party discontent\"?\n",
      "2016-05-04 02:59:19\tStreaming @seanhannity on @YouTube right now. So glad TV \"news\" in Canada doesn't look anything like this. #IndianaPrimary #FoxNews #ugh\n",
      "2016-05-04 03:05:57\tBernie Sanders voted NO 2 AMBER Alert allow investigtn in 2 child porn more laws on pedaphiles https://t.co/cHgxkuL0mR… … …  #IndianaPrimary\n",
      "2016-05-04 03:24:39\t#IndianaPrimary John Kasich 'K' FLAG Large Black laptop Decal IntlShip  #rnc #rnc #nra #tpp #2a https://t.co/Xi5gOvQcVq\n",
      "2016-05-04 03:26:42\t#IndianaPrimary: Donald Trump takes state, named presumptive GOP nominee; forcing Ted Cruz to suspend campaign https://t.co/iPP7tyPK4E\n",
      "2016-05-04 03:55:34\tI've watched @seanhannity for about 2 minutes a week over the past decade. The man is obsessed with food stamps.  #INPrimary #IndianaPrimary\n",
      "2016-05-04 04:14:12\tTrump's victory is a testament to media's utter failure to fairly cover the campaign. Equal airtime law needed. #Trump #IndianaPrimary #GOP\n",
      "2016-05-04 04:31:18\tBernie Sanders has now won 10 of the last 14 primaries.  Let that sink in a moment..  Viva La Revolution!  #FeelTheBern   #IndianaPrimary\n",
      "2016-05-04 04:39:28\tMT @gnpwdrandlead: Off to cry myself to sleep. Good job, America. You've failed again.  #TedCruz #CruzCrew #IndianaPrimary #ccot #tcot\n",
      "2016-05-04 05:24:38\t#IndianaPrimary Bernie Sanders #FEELtheBERN Large White Custom Decal  #CTL #dnc #p2 #obama https://t.co/pbZjww9Qc8\n",
      "2016-05-04 07:49:38\t#IndianaPrimary #RIPPrince Patient Black #Anonymous PRINCE Laptop Decal IntlShip  #BLM #p2 #BLM #tcot https://t.co/1NlDLHZ5lb\n"
     ]
    }
   ],
   "source": [
    "df_tfidf_stpd = df_smpl.sort_values(by='tfidf_stpd_sum', ascending=False).head(k_docs)\n",
    "summ = df_tfidf_stpd.sort_values(by='created_at', ascending=True)\n",
    "\n",
    "for _,doc in summ.iterrows():\n",
    "    print(str(doc['created_at']) + '\\t' + doc['text'])"
   ]
  },
  {
   "cell_type": "markdown",
   "metadata": {},
   "source": [
    "#### tfidf cleaned"
   ]
  },
  {
   "cell_type": "code",
   "execution_count": 280,
   "metadata": {
    "collapsed": false
   },
   "outputs": [
    {
     "name": "stdout",
     "output_type": "stream",
     "text": [
      "done in 0.000000s\n",
      "n_samples: 1000, n_features: 2705\n"
     ]
    }
   ],
   "source": [
    "t0 = time()\n",
    "#initialize sklearn vectorizer\n",
    "tfidf_vectorizer = TfidfVectorizer(stop_words='english')\n",
    "print(\"done in %fs\" % (time() - t0))\n",
    "\n",
    "#create matrix of tfidf counts\n",
    "Xtfidf = tfidf_vectorizer.fit_transform(df_smpl['text_clean'])\n",
    "print(\"n_samples: %d, n_features: %d\" % Xtfidf.shape)"
   ]
  },
  {
   "cell_type": "code",
   "execution_count": 281,
   "metadata": {
    "collapsed": true
   },
   "outputs": [],
   "source": [
    "#get sum tfidf for each doc\n",
    "Xtfidf_sums = Xtfidf.sum(axis=1)\n",
    "df_tfidf_sums = pd.DataFrame(Xtfidf_sums, columns=['tfidf_clnd_sum'])\n",
    "\n",
    "df_smpl = pd.merge(df_smpl, df_tfidf_sums, left_index=True, right_index=True)"
   ]
  },
  {
   "cell_type": "code",
   "execution_count": 282,
   "metadata": {
    "collapsed": false
   },
   "outputs": [
    {
     "name": "stdout",
     "output_type": "stream",
     "text": [
      "2016-05-02 02:43:49\tMaking calls to #Hoosiers tomorrow to vote for #Trump2016 #IndianaPrimary #HoosiersForTrump Voice getting a little raspy already\n",
      "2016-05-02 14:27:33\t@NYT DANGEROUS Donald  https://t.co/fpwSvARj9i European leaders: Another Hitler. Exceed Hillary, Obma making US worse  #Cruz #IndianaPrimary\n",
      "2016-05-02 16:19:57\tNew poll finds #Cruz with double-digit lead in #IndianaPrimary   https://t.co/qqu2TExgvb #CruzCrew #TrumpTrain #GOP2016 #TCOT\n",
      "2016-05-02 17:28:50\tHey @HillaryClinton - let's go to Talor's Bakery in Fishers and eat sugar cookies and donies together!!! #IndianaPrimary #pleaseeeee\n",
      "2016-05-02 20:11:27\t#Commie Economist Robert Reich: #TedCruz uses a Clear Script and a Carefully Crafted Strategy! #IndianaPrimary\n",
      "2016-05-02 20:48:55\t@deneenborelli #IndianaPrimary VOTE for #Trump fight BS MSM picking on 1  INDIANA child for yelling 2 words IGNORE 100's of worse Protests.\n",
      "2016-05-02 21:10:27\t#Indiana  Liberals R funding #Cruz 2weaken #GOP! Don't help Puppet #LyinTed!  #VoteTrump #INPrimary #IndianaPrimary https://t.co/24sNqzvnPH\n",
      "2016-05-02 22:09:38\tSR 821 Jeff Sessions: Obama to Sneak TPP Thru! #IndianaPrimary #INPrimary #TrumpTrain #Trump2016 #NeverCruz WATCH--&gt;https://t.co/Be0xPQmhMO\n",
      "2016-05-02 23:17:35\tVoting in the #IndianaPrimary tomorrow? remember the only way Cruz wins nom is by spitting in face of majority voters,vote @realDonaldTrump\n",
      "2016-05-03 00:41:18\tGop Indiana prediction:  Red: Trump Orange: Cruz  Trump: 42.5% Cruz: 35.4% Kasich: 22.1% #IndianaPrimary #PrimaryDay https://t.co/bEaBTN4UP4\n",
      "2016-05-03 02:27:55\tBecause of Ted Cruz, the Fort Hood shooting victims received Purple Hearts.  #vets #veterans #military #IndianaPrimary #tcot\n",
      "2016-05-03 03:01:44\tNew Ted Cruz TV Ad: Donald #Trump is LYING about me https://t.co/wz7xk9bR3I #LyinTrump #INPrimary #IndianaPrimary #CruzCrew #tcot\n",
      "2016-05-03 06:20:15\t@tedcruz #IndianaPrimary  Th momnt of human concptn captrd in thse pictrs. Bst reason to vte for #CruzCarly2016 https://t.co/8E3w9gD3Ud\n",
      "2016-05-03 06:52:02\t#Indiana  Liberals R funding #Cruz 2weaken #GOP #LyinTed = Dem Puppet!  #VoteTrump #INPrimary #IndianaPrimary #MAGA https://t.co/unmeArAD8y\n",
      "2016-05-03 08:04:30\t.@HillaryClinton says \"I didn't mean it that way\" reference to costing coal miners jobs. Just utter bullshit! #IndianaPrimary #FeelTheBern\n",
      "2016-05-03 08:54:15\tPolls open at 6am- HoCo residents can vote at any vote center listed below. Don't forget your ID. #IndianaPrimary https://t.co/asSXqaZZbQ\n",
      "2016-05-03 11:22:44\tI urgently plead w/ #IndianaPrimary voters to vote @tedcruz today. It is of utmost importance that we repudiate sideshow Trump! #NeverTrump\n",
      "2016-05-03 12:49:24\tGood morning Indiana!! Let's send the message loud and clear today; We want Trump!! #IndianaPrimary #INdiana4trump https://t.co/kJVUK6ctwd\n",
      "2016-05-03 15:03:47\tPolitical Speak: Small Business GOP= multinational corporate polluters DEM= companies &lt;50 employees #IndianaPrimary https://t.co/PYNkWKn9BY\n",
      "2016-05-03 15:39:48\tLyin @tedcruz on @CNN is so desperate he is lying hard about #Trump. #Indiana Make America Great Again and #VoteTrump #IndianaPrimary #Win\n",
      "2016-05-03 15:54:06\tReminder: Today's #IndianaPrimary election day. If you haven't voted yet, polls open 'til 6PM. #ExerciseYourRight #Vote\n",
      "2016-05-03 16:45:40\t#IndianaPrimary this is your chance to make history! #Vote for @HillaryClinton - 1st major party woman nominee in 227 yrs! #Hillary2016\n",
      "2016-05-03 17:24:34\tApparently #Trump polling data now indicates linking Rafael #Cruz to JFK assassination will cause #IndianaPrimary voters to break for him.\n",
      "2016-05-03 17:49:20\tAnother primary today, another day of delusional, lyin' Ted getting his clock cleaned. What else is new. #IndianaPrimary #Trump2016\n",
      "2016-05-03 17:52:38\tTrump is being sued for Fraud &amp; Sexual Assault but please Twitter, tell me more about how Cruz's dad killed JFK #IndianaPrimary #ChooseCruz\n",
      "2016-05-03 18:03:55\tIs this what it's like being blue in a red state? #IndianaPrimary Seeing more friends who declare Dem being harassed by poll volunteers.\n",
      "2016-05-03 18:15:19\t@tedcruz recent outburst &amp; desperate reach for attention is difficult to watch...kinda like watching a house go up in flames #IndianaPrimary\n",
      "2016-05-03 18:32:07\tIt's hilarious to watch @realDonaldTrump surrogates trying to defend an Enquirer article. Trumps foreign policy papers. #IndianaPrimary\n",
      "2016-05-03 18:33:54\tWhat goes thru the DNC's head? \"Hey, we need the Independents to win in Nov! FUCK 'EM! Let em vote for #Trump.\" #TYT #IndianaPrimary #Bernie\n",
      "2016-05-03 18:58:10\t#IndianaPrimary If you're getting harassed or experience voter suppression: 866-IN1-VOTE (866-461-8683). Staff will be there until 7pm today\n",
      "2016-05-03 19:26:32\tJust voted for the first time, and my polling place happens to be the elementary school I attended... Life's weird #IndianaPrimary\n",
      "2016-05-03 20:04:39\t#IndianaPrimary BLACK LIVES MATTER Bandana &amp; 4 Large White Custom Decals  #p2 #CTL #Anonymous https://t.co/Wkstpqt2TT\n",
      "2016-05-03 21:24:05\tHere's to a YUGE win in Indiana! We will ride to victory and witness the end of the Lyin' Ted campaign! #Trump2016 #MAGA #IndianaPrimary\n",
      "2016-05-03 21:40:29\tWith @HillaryClinton in power Extremely high student debt ✅ Fracking ✅ No Wall St accountability ✅ No universal healthcare ✅ #IndianaPrimary\n",
      "2016-05-03 21:49:30\t#IndianaPrimary exit poll: 40% of #Republican voters say the primary campaign has energized the #GOP. 57% say it has divided the party.\n",
      "2016-05-03 22:35:17\t5% in  Trump 53% Cruz 33% Kasich 11%  Hillary Clinton 55% Bernie Sanders 45% #IndianaPrimary\n",
      "2016-05-03 22:36:52\tIndiana folks should really be voting on what makes them laugh harder, Trump's small hands or Cruz being the zodiac killer. #IndianaPrimary\n",
      "2016-05-03 22:49:35\t#IndianaPrimary @foxnews exit polls: 53% of Hoosiers say they feel betrayed by Republican politicians; 42% say Cruz ran most unfair campaign\n",
      "2016-05-03 23:02:18\tUPDATE - #IndianaPrimary Results: Trump Lead Expands To 22 Points https://t.co/skJPQwwda0 #tcot #teaparty #CruzCrew #NeverTrump #TrumpTrain\n",
      "2016-05-03 23:04:54\tIf @tedcruz ends up supporting @realDonaldTrump can you blame voters? Dem supporter for life so I don't care but Ted don't. #IndianaPrimary\n",
      "2016-05-03 23:09:27\tIn the Dems #IndianaPrimary,with10% of the vote counted, Clinton 52.2% Sanders on 47.8....race deemed too early to call for now. @rtenews\n",
      "2016-05-03 23:15:45\tWhen I covered the 2008 #IndianaPrimary for the @SBTribune, I thought it was crazy. A cake-walk by comparison. Great job, Hoosier journos!\n",
      "2016-05-03 23:19:47\tTrump declared the Republican winner in Indiana by the AP! Hillary has secured her spot as coroner.#HillaryForPrison2016 #IndianaPrimary\n",
      "2016-05-03 23:21:10\t#CruzCarly2016 Even outside of Gotham City the Penguin and Catpiss Lady lose to Trumpman! #batman #Trump #IndianaPrimary\n",
      "2016-05-03 23:29:08\tHillary Clinton can barely beat a senile Jewish Socialist in adult diapers, yet she's gonna crush Trump? Dream on fucktards! #IndianaPrimary\n",
      "2016-05-03 23:45:01\tDEM PRIMARY TOO CLOSE FOR MY SANITY COME ONE BERNMAN LET'S GO #IndianaPrimary #FeelTheBern #Bernie2016 #StillSanders #tytlive\n",
      "2016-05-03 23:52:43\t\"Great job\" by Lyin' @tedcruz &amp; Flyin' @carlyfiorina in #IndianaPrimary. Misery loves company. Time to support @realDonaldTrump. #Trump2016\n",
      "2016-05-03 23:54:07\tTime for Lyin, cheatin @tedcruz to return his Green Card &amp; migrate back to Canada #IndianaPrimary #CruzSexScandal #Women4Trump #DropOutCruz\n",
      "2016-05-03 23:54:14\t#IndianaPrimary The last time I saw a knock out this quick Tyson &amp; Spinks fight was on HBO pay per view....lasted 18 seconds.\n",
      "2016-05-03 23:54:47\tlooks pretty much like a tie in #IndianaPrimary --not bad for Clinton considering she invested not one cent in ads and Sanders spent plenty!\n",
      "2016-05-03 23:56:37\tBy the way DefeaTED, how did that Carly Fiorina VP pick work out for you? What, Feminism didn't win you any votes? Shocker! #IndianaPrimary\n",
      "2016-05-03 23:56:57\t44% reporting statewide in GOP 3rd District #IndianaPrimary:   @Jim_Banks 23,453 - 35% @kiptom 20,935 - 31% @LizBrownUS 15,853 - 24%\n",
      "2016-05-03 23:58:28\t#LilBen @benshapiro we want you to debate @nero live for charity. See @Cernovich for details. #MAGA #IndianaPrimary #AlwaysTrump\n",
      "2016-05-04 00:02:51\t#IndianaPrimary Dear Cruz Supporters, Hoosier Daddy? #Trump2016 @DRUDGE_REPORT @FoxNews @CNNPolitics @BN9 @WidowFike\n",
      "2016-05-04 00:10:40\tWay to to go Indy voters! Trump soon up on Hillary by 10% and @BernieSanders is our only hope. The true moral candidate #IndianaPrimary\n",
      "2016-05-04 00:31:56\tMeanwhile, as Cruz quits:   (49.4%) reporting Bernie Sanders 179,769 52.4% Hillary Clinton 163,183  #IndianaPrimary\n",
      "2016-05-04 00:34:15\t@tedcruz It's the same for immigrants today but ur stuck on them being \"illegal\" The ones you want legally don't wash dishes #IndianaPrimary\n",
      "2016-05-04 00:37:35\tNot sure but \"Ted Cruz's 2016 running mate\" may be a better résumé item for Fiorina than \"Fired CEO of Hewlett-Packard\" #IndianaPrimary\n",
      "2016-05-04 00:38:03\tCruz may have ruined his political future. Picks Carly, starts deal with Kasich and then gets dismantled right after. #IndianaPrimary\n",
      "2016-05-04 00:38:47\t#BreakingNews #BREAKING Cruz to drop out of presidential race various media announce #elections2016 #IndianaPrimary #GOP\n",
      "2016-05-04 00:38:47\t\"We want an outsider!\" Well you chose someone who bought &amp; sold politicians &amp; donated to Clinton, Reid, &amp; Pelosi. Nice! #IndianaPrimary\n",
      "2016-05-04 00:41:27\tTed Cruz confirms suspension of presidential campaign, clearing the path for Donald Trump to be the Republican nominee. #IndianaPrimary\n",
      "2016-05-04 00:41:29\tOh man these people sounds honestly angry and upset at Cruz rally. Sounded like one dude just yelled \"what are you doing?!\" #IndianaPrimary\n",
      "2016-05-04 00:43:28\tCarly Fiorina was VP candidate for non nominee for a week.  I'm pretty that's a record.  The losing streak remains unbroken. #IndianaPrimary\n",
      "2016-05-04 00:47:03\tLook for Donald Trump to do to Hillary Clinton what he did to Jeb Bush. Gonna be a bloody summer. #IndianaPrimary #MakeAmericaGreatAgain\n",
      "2016-05-04 00:47:58\tAll kidding aside, these are moments we pol junkies live for. The stuff we'll tell stories about 'til we kick the bucket. #IndianaPrimary\n",
      "2016-05-04 00:52:06\t#Trump takes #Indiana. #Cruz drops out of race. What do you think of #IndianaPrimary outcome for GOP? Use #tellusatoday, may publish reply.\n",
      "2016-05-04 00:52:38\t@MSNBC Close the mics of the people not speaking! Hacking, coughing, paper shuffling. C’mon! #IndianaPrimary coverage\n",
      "2016-05-04 00:54:23\tSo far #MonroeCounty feels the most Bern -- Bernie wins 65% of the votes with 76.8% reporting. #IndianaPrimary #FeelTheBern #Bernie2016\n",
      "2016-05-04 01:01:39\tRecord Republican voter turnout again tonight in #IndianaPrimary   Democrats, are you paying attention? Democracy is not a spectator sport\n",
      "2016-05-04 01:02:41\t@HillaryClinton sent signals about expected loss in #IndianaPrimary Interesting: momentum vs. ginning up a little sympathy for the loser?\n",
      "2016-05-04 01:03:41\t@smerconish You're right. I am a lil pissed off that CA won't matter in GOP primary. Again. I'll vote for Bernie.  #IndianaPrimary\n",
      "2016-05-04 01:07:40\tTonight is the result of the @GOP failing to secure our borders, enforce immigration laws &amp; reduce the size of govt.  #IndianaPrimary\n",
      "2016-05-04 01:13:09\tI really feel for poor Heidi Cruz. Getting a real Pat Nixon vibe to be honest @dick_nixon: https://t.co/Hebbb6Jsm5 #IndianaPrimary\n",
      "2016-05-04 01:13:10\tTed shld have read Cabbie the Cannabis Leaf instead of Green Eggs and Ham when he filibustered. LOL! #IndianaPrimary https://t.co/iWftrXIBJN\n",
      "2016-05-04 01:18:08\tChris Beard's time as UNLV basketball coach &gt; Carly Fiorina's time as Ted Cruz VP candidate #IndianaPrimary @MWCConnection\n",
      "2016-05-04 01:19:36\t#Trump wins in Indy; Ted #Cruz ending his campaign; Apocalypse near?  #Election2016  #GOP  #AdiosCruz  #IndianaPrimary\n",
      "2016-05-04 01:20:57\t@realDonaldTrump says ppl will be proud to be miners when this country &amp; world are moving AWAY from coal. Dumbass #ImWithHer #IndianaPrimary\n",
      "2016-05-04 01:21:31\tToo bad Cruz didn't grab Sanders w/ the hook on the way out. Time to focus on the general.  #IndianaPrimary @HillaryClinton #DNC  #ImWithHer\n",
      "2016-05-04 01:21:55\twhat's up with cokie the red nosed trump? his son looks like he spent a long night with his good friend blow #IndianaPrimary\n",
      "2016-05-04 01:22:53\tSanders wins #IndianaPrimary. Adds to delegate count, but not likely to alter ending &amp; win nom. HRC loss is notable. https://t.co/a3OtGsrb31\n",
      "2016-05-04 01:23:10\tCounty results, 66% reporting. Lot of Hillary support along the Ohio- precursor to Kentucky primary? #IndianaPrimary https://t.co/kKlvsnFEIO\n",
      "2016-05-04 01:27:03\thow long can HRC keep going...the networks want to know! #IndianaPrimary big Bernie win points him to the convention. #FeelTheBern\n",
      "2016-05-04 01:33:45\tI feel so bad for the cold can of mushroom soup that Ted Cruz is gonna hate eat tonight. #IndianaPrimary #TedCruz #CruzCarly2016\n",
      "2016-05-04 01:50:48\tAmen @VanJones68 finally someone said it. Every Sanders victory has to be immediately shot down on CNN. #ElectionDay #IndianaPrimary\n",
      "2016-05-04 01:51:17\tIt drives me NUTS that ALL the news channels are BARELY covering the fact that Bernie beat Hillary...so annoying #IndianaPrimary #cnn\n",
      "2016-05-04 02:08:54\tThis just in...@JohnKasich packing the family trickster after bus gets repo'd and driver quits #CaliOrBust #IndianaPrimary #Trump2016\n",
      "2016-05-04 02:25:49\tNoblesville superintendent says school referendum passes with 73 percent of vote in favor of it.  #IndianaPrimary #schoolref16\n",
      "2016-05-04 02:27:37\tIf John Kasich is allowed to stay in the race,i hereby announce my candidacy! I've won nearly as much votes/delegates as him #IndianaPrimary\n",
      "2016-05-04 02:32:03\tLike his running mate Carly Fiorina 24 hours ago, #TedCruz has fallen off the national stage after the #IndianaPrimary\n",
      "2016-05-04 02:44:31\tAmazingly.  I don't think democrats are happy with #IndianaPrimary.  I see no Bernie or Hillary tags trending.  \"Inner party discontent\"?\n",
      "2016-05-04 02:59:19\tStreaming @seanhannity on @YouTube right now. So glad TV \"news\" in Canada doesn't look anything like this. #IndianaPrimary #FoxNews #ugh\n",
      "2016-05-04 03:24:39\t#IndianaPrimary John Kasich 'K' FLAG Large Black laptop Decal IntlShip  #rnc #rnc #nra #tpp #2a https://t.co/Xi5gOvQcVq\n",
      "2016-05-04 03:26:42\t#IndianaPrimary: Donald Trump takes state, named presumptive GOP nominee; forcing Ted Cruz to suspend campaign https://t.co/iPP7tyPK4E\n",
      "2016-05-04 03:55:34\tI've watched @seanhannity for about 2 minutes a week over the past decade. The man is obsessed with food stamps.  #INPrimary #IndianaPrimary\n",
      "2016-05-04 04:14:12\tTrump's victory is a testament to media's utter failure to fairly cover the campaign. Equal airtime law needed. #Trump #IndianaPrimary #GOP\n",
      "2016-05-04 04:31:18\tBernie Sanders has now won 10 of the last 14 primaries.  Let that sink in a moment..  Viva La Revolution!  #FeelTheBern   #IndianaPrimary\n",
      "2016-05-04 04:39:28\tMT @gnpwdrandlead: Off to cry myself to sleep. Good job, America. You've failed again.  #TedCruz #CruzCrew #IndianaPrimary #ccot #tcot\n",
      "2016-05-04 05:24:38\t#IndianaPrimary Bernie Sanders #FEELtheBERN Large White Custom Decal  #CTL #dnc #p2 #obama https://t.co/pbZjww9Qc8\n",
      "2016-05-04 08:03:33\tHey twitter say hi to @ianpmclarke! #newbie #MayThe4thBeWithYou #DanceMoms  #IndianaPrimary #1D #LEMONADE https://t.co/4c8aEzmt85\n"
     ]
    }
   ],
   "source": [
    "df_tfidf_clnd = df_smpl.sort_values(by='tfidf_clnd_sum', ascending=False).head(k_docs)\n",
    "summ = df_tfidf_clnd.sort_values(by='created_at', ascending=True)\n",
    "\n",
    "for _,doc in summ.iterrows():\n",
    "    print(str(doc['created_at']) + '\\t' + doc['text'])"
   ]
  },
  {
   "cell_type": "markdown",
   "metadata": {},
   "source": [
    "#### tfidf adjusted"
   ]
  },
  {
   "cell_type": "code",
   "execution_count": 283,
   "metadata": {
    "collapsed": false
   },
   "outputs": [
    {
     "name": "stdout",
     "output_type": "stream",
     "text": [
      "done in 0.001000s\n",
      "n_samples: 1000, n_features: 2704\n"
     ]
    }
   ],
   "source": [
    "t0 = time()\n",
    "#initialize sklearn vectorizer\n",
    "tfidf_vectorizer = TfidfVectorizer(max_df=0.99, stop_words='english')\n",
    "print(\"done in %fs\" % (time() - t0))\n",
    "\n",
    "#create matrix of tfidf counts\n",
    "Xtfidf = tfidf_vectorizer.fit_transform(df_smpl['text_clean'])\n",
    "print(\"n_samples: %d, n_features: %d\" % Xtfidf.shape)"
   ]
  },
  {
   "cell_type": "code",
   "execution_count": 284,
   "metadata": {
    "collapsed": true
   },
   "outputs": [],
   "source": [
    "#get sum tfidf for each doc\n",
    "Xtfidf_sums = Xtfidf.sum(axis=1)\n",
    "df_tfidf_sums = pd.DataFrame(Xtfidf_sums, columns=['tfidf_adj_sum'])\n",
    "\n",
    "df_smpl = pd.merge(df_smpl, df_tfidf_sums, left_index=True, right_index=True)"
   ]
  },
  {
   "cell_type": "code",
   "execution_count": 285,
   "metadata": {
    "collapsed": false
   },
   "outputs": [
    {
     "name": "stdout",
     "output_type": "stream",
     "text": [
      "2016-05-02 00:21:31\t#IndianaPrimary..why would anyone pay $353K to dine with Hillary?..wealthy people view this 'donation' as an investment and demand a return.\n",
      "2016-05-02 02:43:49\tMaking calls to #Hoosiers tomorrow to vote for #Trump2016 #IndianaPrimary #HoosiersForTrump Voice getting a little raspy already\n",
      "2016-05-02 14:27:33\t@NYT DANGEROUS Donald  https://t.co/fpwSvARj9i European leaders: Another Hitler. Exceed Hillary, Obma making US worse  #Cruz #IndianaPrimary\n",
      "2016-05-02 16:19:57\tNew poll finds #Cruz with double-digit lead in #IndianaPrimary   https://t.co/qqu2TExgvb #CruzCrew #TrumpTrain #GOP2016 #TCOT\n",
      "2016-05-02 17:28:50\tHey @HillaryClinton - let's go to Talor's Bakery in Fishers and eat sugar cookies and donies together!!! #IndianaPrimary #pleaseeeee\n",
      "2016-05-02 20:11:27\t#Commie Economist Robert Reich: #TedCruz uses a Clear Script and a Carefully Crafted Strategy! #IndianaPrimary\n",
      "2016-05-02 20:48:55\t@deneenborelli #IndianaPrimary VOTE for #Trump fight BS MSM picking on 1  INDIANA child for yelling 2 words IGNORE 100's of worse Protests.\n",
      "2016-05-02 21:10:27\t#Indiana  Liberals R funding #Cruz 2weaken #GOP! Don't help Puppet #LyinTed!  #VoteTrump #INPrimary #IndianaPrimary https://t.co/24sNqzvnPH\n",
      "2016-05-02 22:09:38\tSR 821 Jeff Sessions: Obama to Sneak TPP Thru! #IndianaPrimary #INPrimary #TrumpTrain #Trump2016 #NeverCruz WATCH--&gt;https://t.co/Be0xPQmhMO\n",
      "2016-05-02 23:17:35\tVoting in the #IndianaPrimary tomorrow? remember the only way Cruz wins nom is by spitting in face of majority voters,vote @realDonaldTrump\n",
      "2016-05-03 00:41:18\tGop Indiana prediction:  Red: Trump Orange: Cruz  Trump: 42.5% Cruz: 35.4% Kasich: 22.1% #IndianaPrimary #PrimaryDay https://t.co/bEaBTN4UP4\n",
      "2016-05-03 02:27:55\tBecause of Ted Cruz, the Fort Hood shooting victims received Purple Hearts.  #vets #veterans #military #IndianaPrimary #tcot\n",
      "2016-05-03 03:01:44\tNew Ted Cruz TV Ad: Donald #Trump is LYING about me https://t.co/wz7xk9bR3I #LyinTrump #INPrimary #IndianaPrimary #CruzCrew #tcot\n",
      "2016-05-03 06:20:15\t@tedcruz #IndianaPrimary  Th momnt of human concptn captrd in thse pictrs. Bst reason to vte for #CruzCarly2016 https://t.co/8E3w9gD3Ud\n",
      "2016-05-03 06:52:02\t#Indiana  Liberals R funding #Cruz 2weaken #GOP #LyinTed = Dem Puppet!  #VoteTrump #INPrimary #IndianaPrimary #MAGA https://t.co/unmeArAD8y\n",
      "2016-05-03 08:04:30\t.@HillaryClinton says \"I didn't mean it that way\" reference to costing coal miners jobs. Just utter bullshit! #IndianaPrimary #FeelTheBern\n",
      "2016-05-03 08:54:15\tPolls open at 6am- HoCo residents can vote at any vote center listed below. Don't forget your ID. #IndianaPrimary https://t.co/asSXqaZZbQ\n",
      "2016-05-03 11:22:44\tI urgently plead w/ #IndianaPrimary voters to vote @tedcruz today. It is of utmost importance that we repudiate sideshow Trump! #NeverTrump\n",
      "2016-05-03 12:49:24\tGood morning Indiana!! Let's send the message loud and clear today; We want Trump!! #IndianaPrimary #INdiana4trump https://t.co/kJVUK6ctwd\n",
      "2016-05-03 15:03:47\tPolitical Speak: Small Business GOP= multinational corporate polluters DEM= companies &lt;50 employees #IndianaPrimary https://t.co/PYNkWKn9BY\n",
      "2016-05-03 15:39:48\tLyin @tedcruz on @CNN is so desperate he is lying hard about #Trump. #Indiana Make America Great Again and #VoteTrump #IndianaPrimary #Win\n",
      "2016-05-03 15:54:06\tReminder: Today's #IndianaPrimary election day. If you haven't voted yet, polls open 'til 6PM. #ExerciseYourRight #Vote\n",
      "2016-05-03 16:45:40\t#IndianaPrimary this is your chance to make history! #Vote for @HillaryClinton - 1st major party woman nominee in 227 yrs! #Hillary2016\n",
      "2016-05-03 17:24:34\tApparently #Trump polling data now indicates linking Rafael #Cruz to JFK assassination will cause #IndianaPrimary voters to break for him.\n",
      "2016-05-03 17:49:20\tAnother primary today, another day of delusional, lyin' Ted getting his clock cleaned. What else is new. #IndianaPrimary #Trump2016\n",
      "2016-05-03 17:52:38\tTrump is being sued for Fraud &amp; Sexual Assault but please Twitter, tell me more about how Cruz's dad killed JFK #IndianaPrimary #ChooseCruz\n",
      "2016-05-03 18:03:55\tIs this what it's like being blue in a red state? #IndianaPrimary Seeing more friends who declare Dem being harassed by poll volunteers.\n",
      "2016-05-03 18:15:19\t@tedcruz recent outburst &amp; desperate reach for attention is difficult to watch...kinda like watching a house go up in flames #IndianaPrimary\n",
      "2016-05-03 18:32:07\tIt's hilarious to watch @realDonaldTrump surrogates trying to defend an Enquirer article. Trumps foreign policy papers. #IndianaPrimary\n",
      "2016-05-03 18:33:54\tWhat goes thru the DNC's head? \"Hey, we need the Independents to win in Nov! FUCK 'EM! Let em vote for #Trump.\" #TYT #IndianaPrimary #Bernie\n",
      "2016-05-03 18:58:10\t#IndianaPrimary If you're getting harassed or experience voter suppression: 866-IN1-VOTE (866-461-8683). Staff will be there until 7pm today\n",
      "2016-05-03 19:26:32\tJust voted for the first time, and my polling place happens to be the elementary school I attended... Life's weird #IndianaPrimary\n",
      "2016-05-03 20:04:39\t#IndianaPrimary BLACK LIVES MATTER Bandana &amp; 4 Large White Custom Decals  #p2 #CTL #Anonymous https://t.co/Wkstpqt2TT\n",
      "2016-05-03 21:24:05\tHere's to a YUGE win in Indiana! We will ride to victory and witness the end of the Lyin' Ted campaign! #Trump2016 #MAGA #IndianaPrimary\n",
      "2016-05-03 21:40:29\tWith @HillaryClinton in power Extremely high student debt ✅ Fracking ✅ No Wall St accountability ✅ No universal healthcare ✅ #IndianaPrimary\n",
      "2016-05-03 21:49:30\t#IndianaPrimary exit poll: 40% of #Republican voters say the primary campaign has energized the #GOP. 57% say it has divided the party.\n",
      "2016-05-03 22:35:17\t5% in  Trump 53% Cruz 33% Kasich 11%  Hillary Clinton 55% Bernie Sanders 45% #IndianaPrimary\n",
      "2016-05-03 22:36:52\tIndiana folks should really be voting on what makes them laugh harder, Trump's small hands or Cruz being the zodiac killer. #IndianaPrimary\n",
      "2016-05-03 22:49:35\t#IndianaPrimary @foxnews exit polls: 53% of Hoosiers say they feel betrayed by Republican politicians; 42% say Cruz ran most unfair campaign\n",
      "2016-05-03 23:02:18\tUPDATE - #IndianaPrimary Results: Trump Lead Expands To 22 Points https://t.co/skJPQwwda0 #tcot #teaparty #CruzCrew #NeverTrump #TrumpTrain\n",
      "2016-05-03 23:04:54\tIf @tedcruz ends up supporting @realDonaldTrump can you blame voters? Dem supporter for life so I don't care but Ted don't. #IndianaPrimary\n",
      "2016-05-03 23:09:27\tIn the Dems #IndianaPrimary,with10% of the vote counted, Clinton 52.2% Sanders on 47.8....race deemed too early to call for now. @rtenews\n",
      "2016-05-03 23:15:45\tWhen I covered the 2008 #IndianaPrimary for the @SBTribune, I thought it was crazy. A cake-walk by comparison. Great job, Hoosier journos!\n",
      "2016-05-03 23:19:47\tTrump declared the Republican winner in Indiana by the AP! Hillary has secured her spot as coroner.#HillaryForPrison2016 #IndianaPrimary\n",
      "2016-05-03 23:21:10\t#CruzCarly2016 Even outside of Gotham City the Penguin and Catpiss Lady lose to Trumpman! #batman #Trump #IndianaPrimary\n",
      "2016-05-03 23:29:08\tHillary Clinton can barely beat a senile Jewish Socialist in adult diapers, yet she's gonna crush Trump? Dream on fucktards! #IndianaPrimary\n",
      "2016-05-03 23:45:01\tDEM PRIMARY TOO CLOSE FOR MY SANITY COME ONE BERNMAN LET'S GO #IndianaPrimary #FeelTheBern #Bernie2016 #StillSanders #tytlive\n",
      "2016-05-03 23:52:43\t\"Great job\" by Lyin' @tedcruz &amp; Flyin' @carlyfiorina in #IndianaPrimary. Misery loves company. Time to support @realDonaldTrump. #Trump2016\n",
      "2016-05-03 23:54:07\tTime for Lyin, cheatin @tedcruz to return his Green Card &amp; migrate back to Canada #IndianaPrimary #CruzSexScandal #Women4Trump #DropOutCruz\n",
      "2016-05-03 23:54:14\t#IndianaPrimary The last time I saw a knock out this quick Tyson &amp; Spinks fight was on HBO pay per view....lasted 18 seconds.\n",
      "2016-05-03 23:54:47\tlooks pretty much like a tie in #IndianaPrimary --not bad for Clinton considering she invested not one cent in ads and Sanders spent plenty!\n",
      "2016-05-03 23:56:37\tBy the way DefeaTED, how did that Carly Fiorina VP pick work out for you? What, Feminism didn't win you any votes? Shocker! #IndianaPrimary\n",
      "2016-05-03 23:56:57\t44% reporting statewide in GOP 3rd District #IndianaPrimary:   @Jim_Banks 23,453 - 35% @kiptom 20,935 - 31% @LizBrownUS 15,853 - 24%\n",
      "2016-05-03 23:58:28\t#LilBen @benshapiro we want you to debate @nero live for charity. See @Cernovich for details. #MAGA #IndianaPrimary #AlwaysTrump\n",
      "2016-05-04 00:02:51\t#IndianaPrimary Dear Cruz Supporters, Hoosier Daddy? #Trump2016 @DRUDGE_REPORT @FoxNews @CNNPolitics @BN9 @WidowFike\n",
      "2016-05-04 00:10:40\tWay to to go Indy voters! Trump soon up on Hillary by 10% and @BernieSanders is our only hope. The true moral candidate #IndianaPrimary\n",
      "2016-05-04 00:31:56\tMeanwhile, as Cruz quits:   (49.4%) reporting Bernie Sanders 179,769 52.4% Hillary Clinton 163,183  #IndianaPrimary\n",
      "2016-05-04 00:34:15\t@tedcruz It's the same for immigrants today but ur stuck on them being \"illegal\" The ones you want legally don't wash dishes #IndianaPrimary\n",
      "2016-05-04 00:37:35\tNot sure but \"Ted Cruz's 2016 running mate\" may be a better résumé item for Fiorina than \"Fired CEO of Hewlett-Packard\" #IndianaPrimary\n",
      "2016-05-04 00:38:03\tCruz may have ruined his political future. Picks Carly, starts deal with Kasich and then gets dismantled right after. #IndianaPrimary\n",
      "2016-05-04 00:38:47\t#BreakingNews #BREAKING Cruz to drop out of presidential race various media announce #elections2016 #IndianaPrimary #GOP\n",
      "2016-05-04 00:38:47\t\"We want an outsider!\" Well you chose someone who bought &amp; sold politicians &amp; donated to Clinton, Reid, &amp; Pelosi. Nice! #IndianaPrimary\n",
      "2016-05-04 00:41:27\tTed Cruz confirms suspension of presidential campaign, clearing the path for Donald Trump to be the Republican nominee. #IndianaPrimary\n",
      "2016-05-04 00:41:29\tOh man these people sounds honestly angry and upset at Cruz rally. Sounded like one dude just yelled \"what are you doing?!\" #IndianaPrimary\n",
      "2016-05-04 00:43:28\tCarly Fiorina was VP candidate for non nominee for a week.  I'm pretty that's a record.  The losing streak remains unbroken. #IndianaPrimary\n",
      "2016-05-04 00:47:03\tLook for Donald Trump to do to Hillary Clinton what he did to Jeb Bush. Gonna be a bloody summer. #IndianaPrimary #MakeAmericaGreatAgain\n",
      "2016-05-04 00:47:58\tAll kidding aside, these are moments we pol junkies live for. The stuff we'll tell stories about 'til we kick the bucket. #IndianaPrimary\n",
      "2016-05-04 00:52:06\t#Trump takes #Indiana. #Cruz drops out of race. What do you think of #IndianaPrimary outcome for GOP? Use #tellusatoday, may publish reply.\n",
      "2016-05-04 00:52:38\t@MSNBC Close the mics of the people not speaking! Hacking, coughing, paper shuffling. C’mon! #IndianaPrimary coverage\n",
      "2016-05-04 00:54:23\tSo far #MonroeCounty feels the most Bern -- Bernie wins 65% of the votes with 76.8% reporting. #IndianaPrimary #FeelTheBern #Bernie2016\n",
      "2016-05-04 01:01:39\tRecord Republican voter turnout again tonight in #IndianaPrimary   Democrats, are you paying attention? Democracy is not a spectator sport\n",
      "2016-05-04 01:02:41\t@HillaryClinton sent signals about expected loss in #IndianaPrimary Interesting: momentum vs. ginning up a little sympathy for the loser?\n",
      "2016-05-04 01:03:41\t@smerconish You're right. I am a lil pissed off that CA won't matter in GOP primary. Again. I'll vote for Bernie.  #IndianaPrimary\n",
      "2016-05-04 01:07:40\tTonight is the result of the @GOP failing to secure our borders, enforce immigration laws &amp; reduce the size of govt.  #IndianaPrimary\n",
      "2016-05-04 01:13:09\tI really feel for poor Heidi Cruz. Getting a real Pat Nixon vibe to be honest @dick_nixon: https://t.co/Hebbb6Jsm5 #IndianaPrimary\n",
      "2016-05-04 01:13:10\tTed shld have read Cabbie the Cannabis Leaf instead of Green Eggs and Ham when he filibustered. LOL! #IndianaPrimary https://t.co/iWftrXIBJN\n",
      "2016-05-04 01:18:08\tChris Beard's time as UNLV basketball coach &gt; Carly Fiorina's time as Ted Cruz VP candidate #IndianaPrimary @MWCConnection\n",
      "2016-05-04 01:19:36\t#Trump wins in Indy; Ted #Cruz ending his campaign; Apocalypse near?  #Election2016  #GOP  #AdiosCruz  #IndianaPrimary\n",
      "2016-05-04 01:20:57\t@realDonaldTrump says ppl will be proud to be miners when this country &amp; world are moving AWAY from coal. Dumbass #ImWithHer #IndianaPrimary\n",
      "2016-05-04 01:21:31\tToo bad Cruz didn't grab Sanders w/ the hook on the way out. Time to focus on the general.  #IndianaPrimary @HillaryClinton #DNC  #ImWithHer\n",
      "2016-05-04 01:21:55\twhat's up with cokie the red nosed trump? his son looks like he spent a long night with his good friend blow #IndianaPrimary\n",
      "2016-05-04 01:22:53\tSanders wins #IndianaPrimary. Adds to delegate count, but not likely to alter ending &amp; win nom. HRC loss is notable. https://t.co/a3OtGsrb31\n",
      "2016-05-04 01:23:10\tCounty results, 66% reporting. Lot of Hillary support along the Ohio- precursor to Kentucky primary? #IndianaPrimary https://t.co/kKlvsnFEIO\n",
      "2016-05-04 01:27:03\thow long can HRC keep going...the networks want to know! #IndianaPrimary big Bernie win points him to the convention. #FeelTheBern\n",
      "2016-05-04 01:33:45\tI feel so bad for the cold can of mushroom soup that Ted Cruz is gonna hate eat tonight. #IndianaPrimary #TedCruz #CruzCarly2016\n",
      "2016-05-04 01:50:48\tAmen @VanJones68 finally someone said it. Every Sanders victory has to be immediately shot down on CNN. #ElectionDay #IndianaPrimary\n",
      "2016-05-04 01:51:17\tIt drives me NUTS that ALL the news channels are BARELY covering the fact that Bernie beat Hillary...so annoying #IndianaPrimary #cnn\n",
      "2016-05-04 02:08:54\tThis just in...@JohnKasich packing the family trickster after bus gets repo'd and driver quits #CaliOrBust #IndianaPrimary #Trump2016\n",
      "2016-05-04 02:25:49\tNoblesville superintendent says school referendum passes with 73 percent of vote in favor of it.  #IndianaPrimary #schoolref16\n",
      "2016-05-04 02:27:37\tIf John Kasich is allowed to stay in the race,i hereby announce my candidacy! I've won nearly as much votes/delegates as him #IndianaPrimary\n",
      "2016-05-04 02:32:03\tLike his running mate Carly Fiorina 24 hours ago, #TedCruz has fallen off the national stage after the #IndianaPrimary\n",
      "2016-05-04 02:44:31\tAmazingly.  I don't think democrats are happy with #IndianaPrimary.  I see no Bernie or Hillary tags trending.  \"Inner party discontent\"?\n",
      "2016-05-04 02:59:19\tStreaming @seanhannity on @YouTube right now. So glad TV \"news\" in Canada doesn't look anything like this. #IndianaPrimary #FoxNews #ugh\n",
      "2016-05-04 03:24:39\t#IndianaPrimary John Kasich 'K' FLAG Large Black laptop Decal IntlShip  #rnc #rnc #nra #tpp #2a https://t.co/Xi5gOvQcVq\n",
      "2016-05-04 03:26:42\t#IndianaPrimary: Donald Trump takes state, named presumptive GOP nominee; forcing Ted Cruz to suspend campaign https://t.co/iPP7tyPK4E\n",
      "2016-05-04 03:55:34\tI've watched @seanhannity for about 2 minutes a week over the past decade. The man is obsessed with food stamps.  #INPrimary #IndianaPrimary\n",
      "2016-05-04 04:14:12\tTrump's victory is a testament to media's utter failure to fairly cover the campaign. Equal airtime law needed. #Trump #IndianaPrimary #GOP\n",
      "2016-05-04 04:31:18\tBernie Sanders has now won 10 of the last 14 primaries.  Let that sink in a moment..  Viva La Revolution!  #FeelTheBern   #IndianaPrimary\n",
      "2016-05-04 04:39:28\tMT @gnpwdrandlead: Off to cry myself to sleep. Good job, America. You've failed again.  #TedCruz #CruzCrew #IndianaPrimary #ccot #tcot\n",
      "2016-05-04 08:03:33\tHey twitter say hi to @ianpmclarke! #newbie #MayThe4thBeWithYou #DanceMoms  #IndianaPrimary #1D #LEMONADE https://t.co/4c8aEzmt85\n"
     ]
    }
   ],
   "source": [
    "df_tfidf_adj = df_smpl.sort_values(by='tfidf_adj_sum', ascending=False).head(k_docs)\n",
    "summ = df_tfidf_adj.sort_values(by='created_at', ascending=True)\n",
    "\n",
    "for _,doc in summ.iterrows():\n",
    "    print(str(doc['created_at']) + '\\t' + doc['text'])"
   ]
  },
  {
   "cell_type": "markdown",
   "metadata": {},
   "source": [
    "## 5. Cluster Selection\n",
    "### method:\n",
    "Cluster documents, select k docs / k clusters from each cluster, for an evenly distributed information pool."
   ]
  },
  {
   "cell_type": "code",
   "execution_count": 286,
   "metadata": {
    "collapsed": false
   },
   "outputs": [
    {
     "name": "stdout",
     "output_type": "stream",
     "text": [
      "done in 0.000000s\n",
      "n_samples: 1000, n_features: 2912\n"
     ]
    }
   ],
   "source": [
    "t0 = time()\n",
    "#initialize sklearn vectorizer\n",
    "tfidf_vectorizer = TfidfVectorizer()\n",
    "print(\"done in %fs\" % (time() - t0))\n",
    "\n",
    "#create matrix of tfidf counts\n",
    "Xtfidf = tfidf_vectorizer.fit_transform(df_smpl['text_clean'])\n",
    "print(\"n_samples: %d, n_features: %d\" % Xtfidf.shape)"
   ]
  },
  {
   "cell_type": "code",
   "execution_count": 287,
   "metadata": {
    "collapsed": false
   },
   "outputs": [],
   "source": [
    "km = KMeans(n_clusters=k_docs, random_state=2016)"
   ]
  },
  {
   "cell_type": "code",
   "execution_count": 288,
   "metadata": {
    "collapsed": false
   },
   "outputs": [
    {
     "name": "stdout",
     "output_type": "stream",
     "text": [
      "done in 1.774337s\n"
     ]
    }
   ],
   "source": [
    "t0 = time()\n",
    "km.fit(Xtfidf)\n",
    "print(\"done in %fs\" % (time() - t0))"
   ]
  },
  {
   "cell_type": "code",
   "execution_count": 289,
   "metadata": {
    "collapsed": true
   },
   "outputs": [],
   "source": [
    "dfclust = pd.DataFrame(km.labels_, columns=['cluster'])"
   ]
  },
  {
   "cell_type": "code",
   "execution_count": 290,
   "metadata": {
    "collapsed": false
   },
   "outputs": [
    {
     "data": {
      "text/plain": [
       "<matplotlib.axes._subplots.AxesSubplot at 0xe9a3438>"
      ]
     },
     "execution_count": 290,
     "metadata": {},
     "output_type": "execute_result"
    },
    {
     "data": {
      "image/png": "[encoded data removed]",
      "text/plain": [
       "<matplotlib.figure.Figure at 0x9fb0dd8>"
      ]
     },
     "metadata": {},
     "output_type": "display_data"
    }
   ],
   "source": [
    "dfclust['cluster'].hist()"
   ]
  },
  {
   "cell_type": "code",
   "execution_count": 291,
   "metadata": {
    "collapsed": false
   },
   "outputs": [],
   "source": [
    "df_smpl = pd.merge(df_smpl, dfclust, left_index=True, right_index=True)"
   ]
  },
  {
   "cell_type": "markdown",
   "metadata": {},
   "source": [
    "#### cluster first"
   ]
  },
  {
   "cell_type": "code",
   "execution_count": 292,
   "metadata": {
    "collapsed": false
   },
   "outputs": [
    {
     "name": "stdout",
     "output_type": "stream",
     "text": [
      "2016-05-02 00:21:31\t#IndianaPrimary..why would anyone pay $353K to dine with Hillary?..wealthy people view this 'donation' as an investment and demand a return.\n",
      "2016-05-02 00:25:34\tLimbaugh: Ted Cruz Is ‘Inarguably Thoroughbred Conservative’ [VIDEO] https://t.co/0OVrmj16zm  #RedNationRising #Indianaprimary #CruzCrew\n",
      "2016-05-02 00:30:43\t🚨#Bernie WINS when voter turnout is #YUGE Find Polls ☑https://t.co/8GMbIaoSqf #VoteBernie #IndianaPrimary #INPrimary https://t.co/Ez5TdlDC32\n",
      "2016-05-02 00:33:59\tWe already know when #Trump wins huge in #IndianaPrimary, @tedcruz will posit the #CaliforniaPrimary hinges on everything. Rinse and repeat.\n",
      "2016-05-02 01:11:48\tIt all comes to the Crossroads of America! #IndianaPrimary #INPrimary #INPrimary2016 #Indianoplace\n",
      "2016-05-02 01:18:53\t🎯 Mike Pence: Why I will vote for @TedCruz #IndianaPrimary https://t.co/sJ5Na3afHk\n",
      "2016-05-02 01:38:09\t#indianaprimary Clint Eastwood  ENDORSES Donald J. Trump for President Of The United States.  SHUT UP https://t.co/vqQBCDRVJy\n",
      "2016-05-02 01:43:17\t.@realDonaldTrump whoops, look what I found,MSM! #IndianaPrimary #Trump2016 #TrumpTrain #Indiana #Hoosiers4Trump https://t.co/TxGaI6jCQZ\n",
      "2016-05-02 01:53:29\t#IndianaPrimary Get out &amp; vote! Bring everyone you know with you! Vote #BernieSanders #FeelTheBern #NotMeUs  https://t.co/gxStFkqJu4\n",
      "2016-05-02 01:55:09\tA fool and his money are soon parted.  Example #1  #CruzSexScandal #CruzLies #CruzCrew #TitanicCruz #IndianaPrimary https://t.co/hfmmEiI6xt\n",
      "2016-05-02 02:03:45\tPoll: Ted Cruz leads Donald Trump in Indiana https://t.co/FKWoWge7Q8  #UniteWithCruzFiorina  #IndianaPrimary #INPrimary\n",
      "2016-05-02 02:14:59\tPretty sure that lyin' @tedcruz is cheering for the Raptors right now since he's Canadian #IndianaPrimary\n",
      "2016-05-02 02:43:49\tMaking calls to #Hoosiers tomorrow to vote for #Trump2016 #IndianaPrimary #HoosiersForTrump Voice getting a little raspy already\n",
      "2016-05-02 02:44:49\tnot a peep from @tedcruz about his home state of Texas. #INDIANAPRIMARY #AMERICAFIRST #VOTETRUMP https://t.co/6SJ8fPVakH\n",
      "2016-05-02 02:46:19\tThe best reason to #VOTETRUMP #INDIANAPRIMARY it's for the country #AMERICAFIRST  https://t.co/H0YiRQ8ORf\n",
      "2016-05-02 02:46:22\t#Indiana #INPrimary #IndianaPrimary #Indianapolis Care about your Constitutional  Rights? Vote 4 CRUZ! https://t.co/GWk3L3i84Z\n",
      "2016-05-02 03:00:52\tLYIN DON: JUST 101 OF #TRUMP 'S MANY LIES   https://t.co/H9TivUVTAK |#CAPrimary #IndianaPrimary #INPrimary #NEPrimary #WAPrimary #NMPrimary\n",
      "2016-05-02 03:22:56\tCarly drops like a rock, just like Ted's chances of the nomination. #Trump2016 #IndianaPrimary #CaliforniaPrimary https://t.co/hxNPpQxQ84\n",
      "2016-05-02 04:26:46\tBernie Rally will be in Evansville on Monday #Indiana #IndianaPrimary #IndianaPoll #Indianapolis #Evansville  https://t.co/SvK3fYFyVV\n",
      "2016-05-02 04:41:14\tStill Report #834 - #TedCruz Bails on #Indiana https://t.co/SYYJqhgZKp #INPrimary #IndianaPrimary #MakeAmericaGreatAgain #Trump2016\n",
      "2016-05-02 06:35:42\t#CCOT Muslims And Pro-Homosexual Agents To Stop Trump &amp; Cause Riots &amp; Violence Throughout U.S. https://t.co/Mz9HqVpxwg #IndianaPrimary\n",
      "2016-05-02 06:59:15\tLet's go Indiana Make America Great Again @realdonaldtrump #MAGA #Trumptrain #IndianaPrimary 🇺🇸🇺🇸🇺🇸🇺🇸 https://t.co/RkvqsAcxIA\n",
      "2016-05-02 09:43:00\t#Indiana  Abandon Sinking #Cruz Ship &amp; Jump on #TrumpTrain  #VoteTrump #INPrimary #IndianaPrimary  #MAGA https://t.co/0KuyZdq7as\n",
      "2016-05-02 09:45:40\t#Indiana  Time to get behind #Trump Don't waste UR vote on #Cruz  #VoteTrump #INPrimary #IndianaPrimary  #MAGA https://t.co/TMVQEMSt6Z\n",
      "2016-05-02 12:14:51\tThings that make you go Huh!? #Cruz2016 #DumpTrump #IndianaPrimary  https://t.co/NHvvk8Smm8\n",
      "2016-05-02 12:28:38\tMT @Karee_news: #IndianaPrimary #Conservatives across this land are counting you to #ChooseCruz. https://t.co/WtejAoKMRK #CruzCrew #PJNET\n",
      "2016-05-02 12:43:30\tChuck Todd:  Trump Is on the Cusp of Putting Away the GOP Race https://t.co/hTAB1esXjW #INPrimary #IndianaPrimary https://t.co/eDdWoyzCDF\n",
      "2016-05-02 13:14:25\tA vote for #Trump is a vote for Hillary. #ChooseCruz #INPrimary #IndianaPrimary\n",
      "2016-05-02 13:43:29\tDonald Trump #DonaldTrump #INPrimary #Indiana #Nebraska #IndianaPrimary #Oregon #Washington #WVA #SD #OR #WA https://t.co/HKDCNMhfgu\n",
      "2016-05-02 13:59:31\t#tRUSTED If @TedCruz only had a heart Bearing false witness against neighbors #Indiana #IndianaPrimary #INprimary https://t.co/RnWRIjsdhV\n",
      "2016-05-02 14:02:47\t#Kasich is not good for Ohio. Not good for U.S. #VOTETRUMP #INDIANAPRIMARY @TeamJohnKasich should drop now https://t.co/4AxouLzHvw\n",
      "2016-05-02 14:04:11\t#Indiana join @GovPenceIN tmrw &amp; #ChooseCruz | https://t.co/vwbMlLNgNY #CruzFiorina2016 #INPrimary2016 #IndianaPrimary #Indianapolis\n",
      "2016-05-02 14:35:27\t\"TRUMP WANTS TO BAN GUNS\" #LyinTed just now #MSNBC #Indiana #IndianaPrimary #MakeAmericaGreatAgain @realDonaldTrump https://t.co/NLKdCPcu9T\n",
      "2016-05-02 15:08:07\t#NeverTrump this is for you! #JFK on #DomesticPolicy and #ForeignPolicy said it best! #IN #IndianaPrimary #StopTrump https://t.co/b231dM9eW6\n",
      "2016-05-02 15:20:18\t#IndianaPrimary  #Indiana   Don't vote for a weak leader who can't clean up Obama mess  #TRUMP  #MAGA  https://t.co/6DUtYKbVIP\n",
      "2016-05-02 15:50:10\tIndiana we get to put this race away for @realDonaldTrump &amp; send a \"YUGE\" message to @tedcruz to drop out #VoteTrump in the #indianaprimary\n",
      "2016-05-02 16:00:53\t@realDonaldTrump It looks like #Indiana is going to do what's right! Way to go #Hoosiers! #Trump #IndianaPrimary\n",
      "2016-05-02 16:43:36\t#IndianaPrimary #IndianaHoosiers Indiana, do ur research because SCOTUS's Thomas &amp; Roberts won't remove #DCmadam gag https://t.co/3J9ZV3tXfu\n",
      "2016-05-02 17:22:52\tBill Clinton meets with Hillary Clinton supporters in Indianapolis  #IndianaPrimary  #INPrimary  #ImWithHer   https://t.co/BAt0XlKOxP\n",
      "2016-05-02 17:40:09\t#IndianaPrimary U deserve to know that in addition to 169 fraud lawsuits Trump now has a rape lawsuit against him to https://t.co/n1bXEhOYyp\n",
      "2016-05-02 17:43:17\tNow few wishing for a Canadian, be careful what you wish for.. #IndianaPrimary #Indiana #Indianapolis #CAPrimary https://t.co/rUjXs6BpBE\n",
      "2016-05-02 17:53:37\tI hate to tell you folks in IN but... Your Gov. is a PinHead! #INPrimary #IndianaforTrump #IndianaPrimary #dumptheestablishment #dumpthegope\n",
      "2016-05-02 17:54:36\t@tedcruz finally got his debate &amp; GOT HIS ASS KICKED BY AMERICA  #Indiana #IndianaPrimary #MakeAmericaGreatAgain #TrumpArmy #TrumpTrain\n",
      "2016-05-02 17:55:30\tTHERE IT IS AGAIN #CAPrimary #IndianaPrimary #INPrimary #IndianaForTrump #WomenForTrump #PrimaryDay #MAGA   https://t.co/4EEr41HWiJ\n",
      "2016-05-02 18:32:54\t#CaliforniaPrimary #CaPrimary #IndianaPrimary #InPrimary why is #TedCruz such a liar. trump supports 2nd amed https://t.co/6hKqrVyb0S\n",
      "2016-05-02 18:33:03\tWill @realDonaldTrump's #IndianaPrimary lead over @tedcruz endure? #FeedsTrack reports it first: https://t.co/Fv0WmMUH1K.\n",
      "2016-05-02 18:59:48\tIf we are not strong enough to stand, how will we get the World to stand with us? #IndianaPrimary #INPrimary #IN #Hoosiers #Trump2016 #Faith\n",
      "2016-05-02 19:03:49\t#IndianaPrimary..Hillary's Bosnia 'sniper fire' fable dishonors all who have come under fire..she will forever be known as a valor thief.\n",
      "2016-05-02 19:04:18\tIn honor of the crucial Indiana primary, Pee Wee Herman as the candidates.  https://t.co/YL2svh95pc  #IndianaPrimary #ingov #insen\n",
      "2016-05-02 19:10:40\tDemocrats Must Rally Around Bernie Sanders Before Clinton Faces Possible Espionage Act Indictments https://t.co/pv5MzRmD21 #IndianaPrimary\n",
      "2016-05-02 19:35:18\tLive now on @facebook. Ask me a question &gt; https://t.co/wdKdBxA0Be #IndianaPrimary\n",
      "2016-05-02 19:53:02\tBREAKING: Hillary's Campaign Caught in Massive \"Money-Laundering\" Scheme Ahead of #IndianaPrimary. https://t.co/tZvI4Xaxta. @BernieSanders\n",
      "2016-05-02 20:11:52\t#Commie Economist Robert Reich: #RealDonaldTrump has NO Firm Principles, Except Getting Power! #IndianaPrimary\n",
      "2016-05-02 20:14:17\tWow!! Fabulous endorsement from the great Lou Holtz!!! @realDonaldTrump #IndianaPrimary #MakeAmericaGreatAgain #MAGA https://t.co/ZXjy0dgMCz\n",
      "2016-05-02 20:39:12\t.@TedCruz confronts #Trump supporter EPIC! .@realDonaldTrump takes YOU for chumps #IndianaPrimary #INPrimary #tcot https://t.co/zAASVsvfjc\n",
      "2016-05-02 20:48:02\t#IndianaPrimary Bobby &amp; Lou, wow! https://t.co/tkXx0Znvq7\n",
      "2016-05-02 20:59:44\tCrooked Hillary is a wasted vote #VoteTrump2016 #IndianaPrimary #Indiana #California #CAPrimary https://t.co/PIlWIB2PrQ\n",
      "2016-05-02 21:10:27\t#Indiana  Liberals R funding #Cruz 2weaken #GOP! Don't help Puppet #LyinTed!  #VoteTrump #INPrimary #IndianaPrimary https://t.co/24sNqzvnPH\n",
      "2016-05-02 21:21:52\t#Politics: #IndianaPrimary - Vote for @BernieSanders! He pins hopes for momentum on you! https://t.co/Q4gT6mJVnk #Election2016 @NYTPolitics\n",
      "2016-05-02 22:01:36\t@FoxNews #foxnews #IndianaPrimary Tyranny Thrives With Lazy Media https://t.co/gASzezNtqj\n",
      "2016-05-02 22:12:20\tReality check: Time To Get Out Bernie🐶 &amp; Take Jane👙🐷with you💋👨‍👨‍👦. #byebyeBernie #IndianaPrimary #ImWithHer ⬇️⬇️⬇️ https://t.co/RJIwm1datK\n",
      "2016-05-02 22:51:01\tEnjoying the few last hours of happiness before Indiana finds a way to fuck up the primary. #IndianaPrimary #nottrump #FeelTheBern\n",
      "2016-05-02 23:14:03\tDont dissapoint me Indiana, vote for Cruz! #IndianaPrimary #Cruz2016\n",
      "2016-05-02 23:47:17\tIt appears to be over for #BernieSanders. (I will be devastated.) ALL media outlets are now focusing on Donald &amp; Hillary. #IndianaPrimary\n",
      "2016-05-03 01:50:39\thttps://t.co/Pv13s1WV0e Donate! Volunteer! #ImWithHer #EstoyConHillary #womancard #IndianaPrimary #womancard https://t.co/5YLV6hZl9E\n",
      "2016-05-03 02:04:13\tVote Hillary #IndianaPrimary #IAmWithHer   FiveThirtyEight's forecasts for the 2016 primaries https://t.co/DydQbpXWGL\n",
      "2016-05-03 02:24:49\tThink twice about how \"sincere\" and \"transparent\" @BernieSanders is. Still no taxes. #IndianaPrimary #Oregon #Guam https://t.co/22Qa4SrotM\n",
      "2016-05-03 02:26:28\t#IndianaPrimary Cruz voted against our vets. Trump will protect them. #VoteTrumpIN #MAGA #NeverCruz #TedBush https://t.co/wz2hMfOWUr\n",
      "2016-05-03 03:23:21\t#trumplies every body knows! #IndianaPrimary #indian  https://t.co/BE28x0EVA0\n",
      "2016-05-03 10:10:11\tIndiana: The polls are OPEN  Text CANVASS to 82623 to help us win!  #IndianaPrimary #INprimary #FeelTheBern... https://t.co/58jt0s7TdT\n",
      "2016-05-03 10:21:27\tI understand why #women hate #Trump. I'll never understand women who #voteTrump. #IndianaPrimary\n",
      "2016-05-03 11:07:36\tGood morning!!! I'm on my way to vote! :D #IndianaPrimary\n",
      "2016-05-03 12:38:14\t#IndianaPrimary Make @realDonaldTrump the nominee!!  https://t.co/1mZHIDVPxr\n",
      "2016-05-03 12:40:44\tI'm ready for the delusional victory speech @tedcruz will rattle off after losing the #IndianaPrimary today. https://t.co/GGbqgzq8Po\n",
      "2016-05-03 12:54:24\tSenators @amyklobuchar  (MN) and #JoeDonnelly (IN) getting us geared up to canvas for #Hillary2016 #IndianaPrimary https://t.co/TY5Gm2l1kU\n",
      "2016-05-03 13:23:16\tAfter you vote GOTV: https://t.co/Fxa15SEBgY #IndianaPrimary #INPrimary https://t.co/Lb3ZMdEFAW - People4Bernie\n",
      "2016-05-03 13:31:10\t@tedcruz is the leader of a three hoop political circus. maybe he should stick with shooting rings?? #indianaprimary @Cernovich\n",
      "2016-05-03 14:13:53\t#Indianaprimary: Republican voters could put Trump on brink of nomination – live https://t.co/R1rdqz2rZp\n",
      "2016-05-03 14:26:09\t#IndianaPrimary oh my https://t.co/yNZovyV1So\n",
      "2016-05-03 14:39:18\tOnce every hundred years, hoosier primary votes matter! #IndianaPrimary\n",
      "2016-05-03 15:00:33\t@RealDonaldTrump #IndianaPrimary #Indiana by a landslide!\n",
      "2016-05-03 15:03:47\tPolitical Speak: Small Business GOP= multinational corporate polluters DEM= companies &lt;50 employees #IndianaPrimary https://t.co/PYNkWKn9BY\n",
      "2016-05-03 15:13:37\tCruz needs to step down after defeat tonight. #IndianaPrimary\n",
      "2016-05-03 15:16:37\tI don't give a shit who people vote for as long as it's not Clinton. #IndianaPrimary 🇺🇸\n",
      "2016-05-03 15:35:52\t.@BernieSanders has been on the side of LGBT rights since 1983: https://t.co/KePz7ulEQi #IndianaPrimary Reason3118\n",
      "2016-05-03 15:48:29\t@tedcruz wants his #CruzCrew to vote in #IndianaPrimary to get him a victory shot into the #BasketballRing! -mao #croosiers\n",
      "2016-05-03 16:04:24\tCommon @tedcruz #IndianaPrimary #bsmart\n",
      "2016-05-03 16:11:53\t#IndianaPrimary #Decision2016  I LOVE PEPPY'S! #Gary #Merrillville #Hammond #LakeStation #CrownPoint #BernieOrBust  https://t.co/wfD3QGaD9d\n",
      "2016-05-03 16:13:53\t#WWJD #RealDonaldTrump On #Women Jennifer Rubin Washington Post “in love with Marco Rubio?” #IndianaPrimary  #NoDealDonald\n",
      "2016-05-03 16:51:48\tAmerica has a choice between a trashy reactionary and a classy constitutionalist @tedcruz #CruzCrew #cruzintovictory #IndianaPrimary\n",
      "2016-05-03 18:47:38\t#IndianaPrimary is not the only thing going on in the Hoosier State today! Awesome finds!  @EBTHofficial https://t.co/6z9SjSbJrk\n",
      "2016-05-03 19:02:38\tYes, #Lyinted is like a creepy stalker! #IndianaPrimary #INPrimary #Trump2016 #MAGA https://t.co/QWyHXhttFZ\n",
      "2016-05-03 19:33:54\tabc4utah: Clinton, Sanders square off in tight #IndianaPrimary: https://t.co/ZkFLO9iWp6 https://t.co/geTsUBsorG\n",
      "2016-05-03 19:59:16\tYa'll are making my thumb tired liking all these #iVoted tweets.  I'll get over it. KEEP VOTING. 😉  #IndianaPrimary\n",
      "2016-05-03 20:01:54\tHey @GovPenceIN, how many villages did you &amp; @TedCruz visit today? @PeriodsForPence @fbi #IndianaPrimary https://t.co/RZc6eNMDNh by @YouTube\n",
      "2016-05-03 20:04:39\t#IndianaPrimary BLACK LIVES MATTER Bandana &amp; 4 Large White Custom Decals  #p2 #CTL #Anonymous https://t.co/Wkstpqt2TT\n",
      "2016-05-03 22:35:17\t5% in  Trump 53% Cruz 33% Kasich 11%  Hillary Clinton 55% Bernie Sanders 45% #IndianaPrimary\n",
      "2016-05-04 00:36:33\tBREAKING: Ted Cruz ends presidential campaign #IndianaPrimary    LIVE STREAM: https://t.co/eJkOn3eLQ8\n",
      "2016-05-04 00:38:47\t#BreakingNews #BREAKING Cruz to drop out of presidential race various media announce #elections2016 #IndianaPrimary #GOP\n",
      "2016-05-04 00:47:58\tAll kidding aside, these are moments we pol junkies live for. The stuff we'll tell stories about 'til we kick the bucket. #IndianaPrimary\n"
     ]
    }
   ],
   "source": [
    "df_clust_first = df_smpl.groupby('cluster').first()\n",
    "summ = df_clust_first.sort_values(by='created_at', ascending=True)\n",
    "\n",
    "for _,doc in summ.iterrows():\n",
    "    print(str(doc['created_at']) + '\\t' + doc['text'])"
   ]
  },
  {
   "cell_type": "markdown",
   "metadata": {},
   "source": [
    "#### cluster last"
   ]
  },
  {
   "cell_type": "code",
   "execution_count": 293,
   "metadata": {
    "collapsed": false
   },
   "outputs": [
    {
     "name": "stdout",
     "output_type": "stream",
     "text": [
      "2016-05-02 07:23:42\tVOTE  #TRUMP 🚂💨 #WV #NE #INDIANA #OR #WA #CA #IndianaPrimary 🚂💨 #TedCruz Lies 10TimesIn5mins https://t.co/r4tHI6zaeO https://t.co/In5fjUi4sh\n",
      "2016-05-03 01:52:02\thttps://t.co/Pv13s1WV0e Donate! Volunteer! #ImWithHer #EstoyConHillary #womancard #IndianaPrimary #womancard https://t.co/iOuRVUvhyn\n",
      "2016-05-03 06:52:02\t#Indiana  Liberals R funding #Cruz 2weaken #GOP #LyinTed = Dem Puppet!  #VoteTrump #INPrimary #IndianaPrimary #MAGA https://t.co/unmeArAD8y\n",
      "2016-05-03 13:56:50\t#CAPrimary #CaliforniaPrimary #CA #California #INPrimary #IndianaPrimary #IN #Indiana  STOP EST INSURRECTION ON🇺🇸🗽🇵🇷 https://t.co/XwMX9RTWR3\n",
      "2016-05-03 15:01:10\t#Indiana #INPrimary #IndianaPrimary #Indianapolis CRUZ'S  Plan offers GREAT Tax Relief 4 families! https://t.co/tE460SWxTv\n",
      "2016-05-03 16:45:24\tTrump Says Cruz's Dad Shouldn't Be Allowed to Talk About Religion #IndianaPrimary  https://t.co/Hlw8HPTnQ4\n",
      "2016-05-03 17:23:54\tMT @Karee_news: #IndianaPrimary #Conservatives across this land are counting you to #ChooseCruz. https://t.co/V4It8w9VEw #CruzCrew #PJNET\n",
      "2016-05-03 19:59:23\tMake sure your vote counts!! #TrumpTrain #IndianaPrimary https://t.co/C2zKQZsS4X\n",
      "2016-05-03 20:11:42\tDonald Trump #DonaldTrump #INPrimary #Indiana #Nebraska #IndianaPrimary #Oregon #Washington #WVA #SD #OR #WA https://t.co/ZK5TpyZvWD\n",
      "2016-05-03 21:25:11\t#IndianaPrimary #INPrimary #indiana4trump Let's #MAGA and #VoteTrump2016 https://t.co/UJXX3mgAew\n",
      "2016-05-03 23:16:31\t#Trumpmentum post #IndianaPrimary fine with me.  @HillaryClinton will outpaced him in sheer breath of her wisdom, experience, #POTUS\n",
      "2016-05-03 23:27:42\t#IndianaPrimary #INPrimary Sumbitch.\n",
      "2016-05-03 23:36:35\tThis is seriously a nail biter! #IndianaPrimary #ImWithHer 50-50%\n",
      "2016-05-03 23:55:13\tAmerica needs an intervention of some sort. We are clearly incapable of managing our own affairs. #IndianaPrimary\n",
      "2016-05-03 23:57:50\tTalk about burying your head in the sand. @JohnKasich is not even doing a speech tonight. #IndianaPrimary\n",
      "2016-05-03 23:58:38\tIt's morning in America again! Go Trump. #PresidentTrump #Women4Trump #Vets4Trump #IndianaPrimary\n",
      "2016-05-04 00:08:21\tFormer top McCain aide: I'll vote for Clinton over Trump via @MSNBC #Drumpf #IndianaPrimary #ImWithHer  https://t.co/7NPzeDHHHX\n",
      "2016-05-04 00:12:11\tTheory: \"Cheetosgate\" sank Cruz's chances in the #IndianaPrimary. https://t.co/7DFPwTOMva\n",
      "2016-05-04 00:14:14\tI would be very surprised if this lead did not hold. #IndianaPrimary #INforBernie #IndianaForBernie\n",
      "2016-05-04 00:31:24\t🚂🚃🚃🚃🚃🚃🚃🚃🇺🇸 #IN #Indiana #IndianaPrimary Trump #Trump #Trump2016 #TrumpTrain #VoteTrump #MAGA #PrimaryDay  https://t.co/u0dLTnlpAs\n",
      "2016-05-04 00:49:15\tIf we are using a loose standard for the term \"lecture\" then yeah. #IndianaPrimary https://t.co/azMDv9E0nh\n",
      "2016-05-04 00:52:38\t@tedcruz goes into oblivion as @realDonaldTrump trumps him! #IndianaPrimary #freeHeidi #Politics #INPrimary\n",
      "2016-05-04 00:54:24\tLooks like Bernie Sanders has bested Hillary Clinton in Indiana #IndianaPrimary\n",
      "2016-05-04 01:09:14\tBut what's @CarlyFiorina gonna do now??? #IndianaPrimary\n",
      "2016-05-04 01:09:34\tNice work on that #Cruz endorsement #MikePence #IndianaPrimary\n",
      "2016-05-04 01:19:00\tFUCK IT UP BERNIE #IndianaPrimary\n",
      "2016-05-04 01:27:00\tMajor networks now confirming the call that Bernie Sanders has taken the state of Indiana. #IndianaPrimary\n",
      "2016-05-04 01:28:08\t#DonaldTrump #IndianaPrimary victory speech is superficial and repetitive. At this stage he should be talking #policies and be inspiring.\n",
      "2016-05-04 01:30:42\tCan @CarlyFiorina mathematically lose a third time in this race? #IndianaPrimary #presidential2016 #Drumpf\n",
      "2016-05-04 01:30:59\tTrump: \"The Hispanics have been so incredible to me\"  FACT CHECK: 87% of \"the Hispanics\" have an unfavorable opinion of him  #IndianaPrimary\n",
      "2016-05-04 01:33:45\tI feel so bad for the cold can of mushroom soup that Ted Cruz is gonna hate eat tonight. #IndianaPrimary #TedCruz #CruzCarly2016\n",
      "2016-05-04 01:39:01\tBREAKING: Sanders wins the Indiana Democratic primary. #IndianaPrimary\n",
      "2016-05-04 01:41:49\tIf there is only a 1% chance of Trump becoming President we must treat it with absolute certainty. #IndianaPrimary #NeverTrump\n",
      "2016-05-04 01:42:46\tThis is hilarious #TedCruz #IndianaPrimary https://t.co/M0WU81BiMl\n",
      "2016-05-04 01:43:08\t@tedcruz thanks so much for your service and decision to run. Saludos Amigo. #IndianaPrimary #gopprimary #trusted\n",
      "2016-05-04 01:46:36\tRepublicans started with 17 candidates and settled for #Trump after such rigorous process #damn #GOP #IndianaPrimary #USElection\n",
      "2016-05-04 01:48:36\tIt may not be popular to ask this question. But what was Ted Cruz's father doing in that photo with Oswald? #IndianaPrimary\n",
      "2016-05-04 01:58:29\tThe world just got a lot scarier #IndianaPrimary 😳\n",
      "2016-05-04 02:08:54\tThis just in...@JohnKasich packing the family trickster after bus gets repo'd and driver quits #CaliOrBust #IndianaPrimary #Trump2016\n",
      "2016-05-04 02:13:59\tTodd: Clinton's flaws are why Democrats are nervous tonight  #msnbc #IndianaPrimary\n",
      "2016-05-04 02:18:58\tCruz hit a TED end! Finally! #IndianaPrimary\n",
      "2016-05-04 02:27:37\tIf John Kasich is allowed to stay in the race,i hereby announce my candidacy! I've won nearly as much votes/delegates as him #IndianaPrimary\n",
      "2016-05-04 02:28:37\t#TedCruz dropping out of the race really isnt all that surprising. He was getting his ass handed 2 him on a platinum platter #IndianaPrimary\n",
      "2016-05-04 02:29:45\tCongratulations to @BernieSanders on his win in Indiana tonight! #FeelTheBern #Democrats #IndianaPrimary  https://t.co/Txw76Qmi77\n",
      "2016-05-04 02:30:59\tI am so lucky to live in a non swing state this election. I get to vote my conscience and not worry that I'm helping Trump. #IndianaPrimary\n",
      "2016-05-04 02:33:10\tIf you hate your choices for president seek your candidate now for 2020 and back them early for the next election. #IndianaPrimary\n",
      "2016-05-04 02:43:34\tTrue of our teachers and apparently true of our democracy #PawsandThink #IndianaPrimary #TeacherAppreciationDay https://t.co/50ev8TY4w0\n",
      "2016-05-04 02:44:31\tAmazingly.  I don't think democrats are happy with #IndianaPrimary.  I see no Bernie or Hillary tags trending.  \"Inner party discontent\"?\n",
      "2016-05-04 02:45:58\tAnother reason for Berners 2 celebrate 2nite, besides #IndianaPrimary victory is the pick up of Washington delegates https://t.co/edf6Lwcugy\n",
      "2016-05-04 02:59:19\tStreaming @seanhannity on @YouTube right now. So glad TV \"news\" in Canada doesn't look anything like this. #IndianaPrimary #FoxNews #ugh\n",
      "2016-05-04 03:05:57\tBernie Sanders voted NO 2 AMBER Alert allow investigtn in 2 child porn more laws on pedaphiles https://t.co/cHgxkuL0mR… … …  #IndianaPrimary\n",
      "2016-05-04 03:12:07\tCongrats to @SenSanders for winning the Indiana primary! Keep the 🔥 alive!  #PoliticalRevolution #IndianaPrimary #FeelTheBern #BernieOrBust\n",
      "2016-05-04 03:13:45\t#Bernie even the Republicans have the sense to unite. Please don't sabotage the liberals. #UniteBlue #IndianaPrimary #ImWithHer\n",
      "2016-05-04 03:17:31\tWhat the HELL did you think Fiorina was gonna do for you, Cruz? #IndianaPrimary\n",
      "2016-05-04 03:21:18\tThe nation has lost its mind. #IndianaPrimary #Elections2016\n",
      "2016-05-04 03:25:27\tThat's right #Cruz, #GOP nomination is not gonna happen. #indianaprimary https://t.co/tUUqGl9n95\n",
      "2016-05-04 03:27:17\tTime for dem party to get a clue and get behind the candidate who can beat Trump with dem and indie vote: @BernieSanders. #IndianaPrimary\n",
      "2016-05-04 03:27:52\t.@amandacarpenter on CNN \"Endorsing #Trump would be bad for Cruz's *Brand*\" These people will never understand why they lost #IndianaPrimary\n",
      "2016-05-04 03:33:34\t#IndianaPrimary you made the right choice today.  @tedcruz #CruzCrew never congratulated or acknowledged Trumps WIN! https://t.co/jY84mX3t9I\n",
      "2016-05-04 03:34:05\t18 straight polls. 17 of them by double digits. #WakeUpDemocrats #IndianaPrimary https://t.co/XV2mejYofv\n",
      "2016-05-04 03:35:49\tGood night from Indy, it has been a historic night for the #IndianaPrimary, @WSBT will break it down in the morning https://t.co/9UiWQTk07A\n",
      "2016-05-04 03:40:22\twants to reinstitute torture, is OK with killing entire families if they have a whiff of connection to terrorism, #IndianaPrimary\n",
      "2016-05-04 03:54:13\tDonald Trump is the Republican nominee, and four other takeaways from the #IndianaPrimary: https://t.co/UO9ZYbUMB7 https://t.co/6LFOEGDLr1\n",
      "2016-05-04 03:55:34\tI've watched @seanhannity for about 2 minutes a week over the past decade. The man is obsessed with food stamps.  #INPrimary #IndianaPrimary\n",
      "2016-05-04 04:08:03\tObama lost #IndianaPrimary in 2008. Hillary is the new Obama. #ImWithHer\n",
      "2016-05-04 04:11:59\tI think Kasich is only in the race because he is able to charge his meals to the campaign  #IndianaPrimary #INPrimary\n",
      "2016-05-04 04:31:12\tThat's all Ted Cruz #CruzOut ( Make way for Republican President Trump )  #IndianaPrimary  #Elections2016 #Trump2016 https://t.co/Y1LlURZp1K\n",
      "2016-05-04 04:39:28\tMT @gnpwdrandlead: Off to cry myself to sleep. Good job, America. You've failed again.  #TedCruz #CruzCrew #IndianaPrimary #ccot #tcot\n",
      "2016-05-04 04:41:46\tTrump Club. #IndianaPrimary #NeverTrump #DumpTrump https://t.co/KD4pVlh2vI\n",
      "2016-05-04 04:44:30\tIF it comes down to these 2, who would you pick? #TedCruz #IndianaPrimary #DonaldTrump  #HillaryClinton\n",
      "2016-05-04 04:45:58\tDon't fret, America. There's still time to accept @HillaryClinton as your personal savior. #IndianaPrimary\n",
      "2016-05-04 04:58:21\tTHE two who should wage a battle of ideas/policy/morality for next @POTUS #IndianaPrimary #FeelTheBern #TrumpTrain  https://t.co/BOMHRClyxW\n",
      "2016-05-04 05:10:46\tThere's now a real chance that Donald Trump might become the next President of the United States. #Scared #PleaseNo #IndianaPrimary 😖😖\n",
      "2016-05-04 05:15:29\tI think Leslie Knope would be disappointed in her home state today. #IndianaPrimary https://t.co/NTd3ttHlIV\n",
      "2016-05-04 05:17:35\tThe last TED Talk. #IndianaPrimary #TedCruz #gop #boybye #loser #GOPDeadToMe\n",
      "2016-05-04 05:45:12\tHeavy turnout expected today for critical #Indianaprimary... https://t.co/b6PrAZ7YtI\n",
      "2016-05-04 05:54:28\tThere are now Republicans defecting to Hillary. God you guys are truly idiots. She relies on your stupidity #IndianaPrimary\n",
      "2016-05-04 06:08:54\tWow. @REALDONALDTRUMP locks in GOP bid while CLINTON felt the Bern.. #IndianaPrimary\n",
      "2016-05-04 06:41:14\tMonica said it was Crooked Bill! Ted Cruz #MakeAmericaGreatAgain #IndianaPrimary PRESIDENT TRUMP! CAPrimary Download https://t.co/FTqCAdIX2e\n",
      "2016-05-04 06:50:33\t#DonaldTrump has seized the Republican Nomination, by defeating #SenTedCruz in #IndianaPrimary elections. - NDTV https://t.co/RTJoNi5Zy9\n",
      "2016-05-04 07:06:51\tCruz ended his bid?! Guess there isn't going to be a contested convention anymore. #IndianaPrimary\n",
      "2016-05-04 07:08:42\t#IndianaPrimary O SHIT WADDUP HERE COME YA BOI BERNIE\n",
      "2016-05-04 07:20:42\t#IndianaPrimary results https://t.co/ooWv7DGOOg\n",
      "2016-05-04 07:54:40\t#IndianaPrimary Hillary Clinton #FightingForUs X-Large White Custom Decal  #CTL #dnc #sgp #dnc #BLM https://t.co/9jseEelRIk\n",
      "2016-05-04 08:01:01\tCruz ends presidential campaign after crushing Indiana loss  https://t.co/6DICnBp1Bp #IndianaPrimary #INprimary https://t.co/ywQbdeh7Hl\n",
      "2016-05-04 08:03:33\tHey twitter say hi to @ianpmclarke! #newbie #MayThe4thBeWithYou #DanceMoms  #IndianaPrimary #1D #LEMONADE https://t.co/4c8aEzmt85\n",
      "2016-05-04 08:24:34\tCheck Out My Review of @Drake Album #VIEWS #CRISEAN #TheFlash #RaptorsVsHeat #Klay #IndianaPrimary #StarWarsSongs https://t.co/u5HnQ4mPNb\n",
      "2016-05-04 10:32:58\tTHANK YOU #IndianaPrimary ❤ Time 4 #Bernie to win the next few primaries! #INprimary #FeelTheBern #BernieOrBust #KYPrimary #BernieBlackout\n",
      "2016-05-04 10:36:18\t#IndianaPrimary 🔵  BERNIE SANDERS 52,5% Hillary Clinton 47,5%\n",
      "2016-05-04 11:06:30\t#IndianaPrimary was a romp for @realDonaldTrump #gdny\n",
      "2016-05-04 11:10:30\tGood morning. Ye Gads. Thanks *a lot* #IndianaPrimary - This is what it sounds like when GOPs cry.\n",
      "2016-05-04 11:46:28\tHear that? It's the sound of the #CruzCrew looking up #AustinPetersen @AP4LP in the wake of the #IndianaPrimary\n",
      "2016-05-04 12:10:36\t@BBCNews @BernieSanders won the #IndianaPrimary yesterday and you're not even covering it??!  All you headline is that buffoon Trump\n",
      "2016-05-04 13:40:13\t#IndianaPrimary The msg is once again very clear. Ppl don't want you @HillaryClinton . They want Bernie Sanders #Election2016 #Bernie2016\n",
      "2016-05-04 14:14:43\tHow many businesses has #Trump been in control of that are now defunct? #Gma #IndianaPrimary\n",
      "2016-05-04 14:17:07\tThank you #IndianaPrimary #TedCruz voters! You alone restore my faith in a decent, moral, Constitution-based society https://t.co/DEBaClxGYK\n",
      "2016-05-04 14:18:41\tResults from #IndianaPrimary: Trey Hollingsworth wins GOP nomination in 9th District | https://t.co/YvlF8YJvMB https://t.co/x3gZFnmMQL\n",
      "2016-05-04 14:28:37\t@realDonaldTrump to be presumptive GOP nominee following #IndianaPrimary and Cruz has dropped out!\n",
      "2016-05-04 14:41:29\tFeeling boring. #liker #bored #followme #tweet #IndianaPrimary\n",
      "2016-05-04 14:54:36\t\"The longer Sanders is in the race, the pushes Clinton further to the left.\"  Agree? Weigh in: https://t.co/vNWypfb6hL #IndianaPrimary\n"
     ]
    }
   ],
   "source": [
    "df_clust_last = df_smpl.groupby('cluster').last()\n",
    "summ = df_clust_last.sort_values(by='created_at', ascending=True)\n",
    "\n",
    "for _,doc in summ.iterrows():\n",
    "    print(str(doc['created_at']) + '\\t' + doc['text'])"
   ]
  },
  {
   "cell_type": "markdown",
   "metadata": {},
   "source": [
    "#### cluster weight random"
   ]
  },
  {
   "cell_type": "code",
   "execution_count": 294,
   "metadata": {
    "collapsed": false
   },
   "outputs": [],
   "source": [
    "dfclust_weights = pd.DataFrame(dfclust['cluster'].value_counts(normalize=True)).reset_index()\n",
    "dfclust_weights.columns = [['cluster', 'cluster_weight']]"
   ]
  },
  {
   "cell_type": "code",
   "execution_count": 295,
   "metadata": {
    "collapsed": false
   },
   "outputs": [],
   "source": [
    "df_smpl = pd.merge(df_smpl, dfclust_weights, how='left', on='cluster')"
   ]
  },
  {
   "cell_type": "code",
   "execution_count": 296,
   "metadata": {
    "collapsed": false
   },
   "outputs": [
    {
     "name": "stdout",
     "output_type": "stream",
     "text": [
      "2016-05-02 01:43:17 68\t.@realDonaldTrump whoops, look what I found,MSM! #IndianaPrimary #Trump2016 #TrumpTrain #Indiana #Hoosiers4Trump https://t.co/TxGaI6jCQZ\n",
      "2016-05-02 02:03:45 11\tPoll: Ted Cruz leads Donald Trump in Indiana https://t.co/FKWoWge7Q8  #UniteWithCruzFiorina  #IndianaPrimary #INPrimary\n",
      "2016-05-02 04:26:46 12\tBernie Rally will be in Evansville on Monday #Indiana #IndianaPrimary #IndianaPoll #Indianapolis #Evansville  https://t.co/SvK3fYFyVV\n",
      "2016-05-02 08:37:59 42\tHannity Interview with @TedCruz &amp; @CarlyFiorina | April 29, 2016 | #CruzCarly2016: #IndianaVoters #IndianaPrimary https://t.co/V9ymvA8Rb0\n",
      "2016-05-02 09:12:02 42\tFour new ads airing in Indiana https://t.co/j7N60aCV6Z via @LegInsurrection #tcot #gop #ccot #INpol #INPrimary #IndianaPrimary #ChooseCruz\n",
      "2016-05-02 11:28:58 90\t🚂🚃🚃🚃🚃🚃🚃🚃🇺🇸 #IN #Indiana #IndianaPrimary Trump #Trump #Trump2016 #TrumpTrain #VoteTrump #MAGA #PrimaryDay https://t.co/dMkydOzyQe\n",
      "2016-05-02 14:59:10 1\t#IN #IndianaPrimary #Veterans Ask You 2Vote 4 Trump►https://t.co/ynfAYFQRPC @AbnInfVet @Vets4TrumpORG @KamVTV #USA🇺🇸 https://t.co/fI8yRPpA6T\n",
      "2016-05-02 15:20:18 93\t#IndianaPrimary  #Indiana   Don't vote for a weak leader who can't clean up Obama mess  #TRUMP  #MAGA  https://t.co/6DUtYKbVIP\n",
      "2016-05-02 16:35:41 96\t#IndianaPrimary #indy #Indiana #Indianapolis #CAPrimary Thumbs Up!  Kids for Trump Our Future depends on it.. https://t.co/AtcYhtDD4L\n",
      "2016-05-02 17:55:30 10\tTHERE IT IS AGAIN #CAPrimary #IndianaPrimary #INPrimary #IndianaForTrump #WomenForTrump #PrimaryDay #MAGA   https://t.co/4EEr41HWiJ\n",
      "2016-05-02 19:46:39 96\t@BernieSanders wants to take BOLD action to save our country. Hillary supports the status quo. #IndianaPrimary  https://t.co/mifFvM6lYq\n",
      "2016-05-02 22:53:41 45\tCRUZ NOT A US CITIZEN AT ALL #CAPrimary #INDPrimary #INPrimary #Hoosiers #IndianaPrimary #Indianapolis  https://t.co/MtB9zfa7cF\n",
      "2016-05-02 23:13:35 43\tWith just one day left to know the #IndianaPrimary outcome, it's all but certain that it's every candidates primary to lose. #trump #Cruz\n",
      "2016-05-02 23:32:30 45\tIn South Bend, where @tedcruz needs strong vote, @realDonaldTrump draws SRO to Century Center. #IndianaPrimary https://t.co/B98cTeqbpd\n",
      "2016-05-03 00:56:52 10\tlook at this chart more #crookedHilary  https://t.co/GeV2l6JR0W #IndianaPrimary #ExitPollGate #CAprimary #Guam #Kentucky\n",
      "2016-05-03 01:00:28 38\tCan we have this ,instead of the @tedcruz attack ads?  #IndianaPrimary @realDonaldTrump wins. #cruzcrew blues https://t.co/x7quhXCcRf\n",
      "2016-05-03 02:54:36 62\t#INPrimary #IndianaPrimary #Indiana #IN @Indiana4Bernie  #Vote Bernie Sanders for President  https://t.co/54y2foFKh4 https://t.co/fIGoCicrvU\n",
      "2016-05-03 03:25:48 97\t#INDIANAPRIMARY .Knight would never have endorsed someone unless they had integrity.  BRING IT HOME #HOOSIERS  https://t.co/HGz5F6HLxj\n",
      "2016-05-03 03:44:41 6\t#IndianaPrimary #CaliforniaPrimary   Power is like being a lady... if you have to tell people you are, you aren't. https://t.co/aQQvo9psVn\n",
      "2016-05-03 04:58:27 1\tFricken awesome! Come on Indiana let's end this thing! #IndianaPrimary #Trump #Trump2016  https://t.co/bYrWIJ4zMo\n",
      "2016-05-03 05:55:12 94\tWhen you vote today, #IndianaPrimary Voters, take in every bit of this historic moment. No mistake about it. Historic vote. #ImWithHer\n",
      "2016-05-03 08:04:30 56\t.@HillaryClinton says \"I didn't mean it that way\" reference to costing coal miners jobs. Just utter bullshit! #IndianaPrimary #FeelTheBern\n",
      "2016-05-03 11:16:16 90\t🚂🚃🚃🚃🚃🚃🚃🚃🇺🇸 #IN #Indiana #IndianaPrimary Trump #Trump #Trump2016 #TrumpTrain #VoteTrump #MAGA #PrimaryDay https://t.co/lZTHBEutQb\n",
      "2016-05-03 11:22:44 60\tI urgently plead w/ #IndianaPrimary voters to vote @tedcruz today. It is of utmost importance that we repudiate sideshow Trump! #NeverTrump\n",
      "2016-05-03 13:15:37 38\tBern the ballot. #IndianaPrimary #BernieSanders\n",
      "2016-05-03 14:09:34 50\tReagan's Own Son Urges YOU Indiana ..to Vote for Ted Cruz. https://t.co/TLQqPXx5WL  #IndianaPrimary\n",
      "2016-05-03 14:13:36 42\tTrump's women bashing quotes... https://t.co/gtNwfmdKTE #IndianaPrimary #INPrimary #Indiana #INpol #NeverTrump #ChooseCruz #TedCruz2016\n",
      "2016-05-03 14:38:16 90\t#IndianaPrimary #Trump2016 It's never too late to get on the #TrumpTrain  https://t.co/7SkZjtWGKn\n",
      "2016-05-03 15:00:33 40\t@RealDonaldTrump #IndianaPrimary #Indiana by a landslide!\n",
      "2016-05-03 15:18:43 93\tHey #indiana don't forget to vote! #IndianaPrimary\n",
      "2016-05-03 15:39:37 6\tIf you’re #StillSanders, stop checking “who’s with her” and get to work!: https://t.co/rNRrRZkIxi - via:@TheBernReport #IndianaPrimary\n",
      "2016-05-03 15:48:29 71\t@tedcruz wants his #CruzCrew to vote in #IndianaPrimary to get him a victory shot into the #BasketballRing! -mao #croosiers\n",
      "2016-05-03 15:54:06 47\tReminder: Today's #IndianaPrimary election day. If you haven't voted yet, polls open 'til 6PM. #ExerciseYourRight #Vote\n",
      "2016-05-03 15:54:58 16\tIndiana Make America Great Again. #IndianaPrimary #Trump2016 #TrumpTrain 🚂💨💨💨\n",
      "2016-05-03 17:24:03 10\tEEEK CRINGE https://t.co/VFzLSTorEv #IndianaPrimary #INPrimary #IndianaForTrump #WomenForTrump #PrimaryDay #MAGA #MakeAmericaGreatAgain\n",
      "2016-05-03 17:30:26 65\tNo doubt‼️😂😂😂😂 #IndianaPrimary #Women4Trump 🌹👠🇺🇸 https://t.co/Xlpp4I5N6W\n",
      "2016-05-03 18:03:55 97\tIs this what it's like being blue in a red state? #IndianaPrimary Seeing more friends who declare Dem being harassed by poll volunteers.\n",
      "2016-05-03 19:10:44 14\t#TrumpTrain still trying to compare him to #RR? Hmph, you do not know conservatism. #ChooseCruz #IndianaPrimary https://t.co/TxfvXoyyNN\n",
      "2016-05-03 19:33:54 2\tabc4utah: Clinton, Sanders square off in tight #IndianaPrimary: https://t.co/ZkFLO9iWp6 https://t.co/geTsUBsorG\n",
      "2016-05-03 19:57:26 7\tWho will win the #INPrimary #IndianaPrimary tonight?\n",
      "2016-05-03 19:59:23 60\tMake sure your vote counts!! #TrumpTrain #IndianaPrimary https://t.co/C2zKQZsS4X\n",
      "2016-05-03 21:05:45 6\tINDIANA POLLS CLOSE IN 1 HOUR! (unless you're on CT) #IndianaPrimary\n",
      "2016-05-03 21:16:10 59\tBUY American brands in 2016!#MAGA #IndianaPrimary #INPrimary #Trump2016 #MakeAmericaGreatAgain #NRA #NRA2016 https://t.co/cFSbxUw159\n",
      "2016-05-03 21:23:59 10\tLET'S GET THIS DONE INDIANA  #CAPrimary #IndianaPrimary #INPrimary #IndianaForTrump #WomenForTrump #PrimaryDay #MAGA #MakeAmericaGreatAgain\n",
      "2016-05-03 21:25:09 28\tYes, indeed. Pivoting to general. #LoveTrumpsHate #WomansCardDay #IndianaPrimary #Hillary2016 #ImWithHer #ShesWithUs https://t.co/mvZfe0GWLe\n",
      "2016-05-03 21:44:48 1\tMouth-breathing morons are essential for a Trump win.  #IndianaPrimary #INprimary https://t.co/4WsZ1AGfXZ\n",
      "2016-05-03 21:45:17 66\tThe polls close in 15 minutes over in the #IndianaPrimary\n",
      "2016-05-03 22:01:45 42\t#INPrimary #INPrimary2016 #NeverTrump #IndianaPrimary  Trump on  KNOWN pedophile Jeffrey Epstein - \"Terrific guy...\" https://t.co/wSPAlB4UCW\n",
      "2016-05-03 22:19:39 12\tThe #IndianaPrimary is underway and we go LIVE in just about 3 HOURS! Click the link and join the convo! #BHLPC https://t.co/ZQNRmVYp38\n",
      "2016-05-03 23:00:27 96\t#IndianaPrimary #FeelTheBern This is the true #HillaryClinton #NotWithHer  https://t.co/NtTvyWWqeZ\n",
      "2016-05-03 23:14:37 38\t#Trump wins #IndianaPrimary making him now only 200 delegates short of wining the #GOP nomination https://t.co/vo3luxV3O6\n",
      "2016-05-03 23:15:13 3\tNext target:#HillaryClinton and it's gonna get meaner,if possible.#Trump wins #IndianaPrimary. https://t.co/NFD0scLnsQ\n",
      "2016-05-03 23:17:26 6\tIf the powers-that-be haven't figured it out by now, we're fed up with the status quo.  #IndianaPrimary\n",
      "2016-05-03 23:19:02 10\tGet Free Twitter Followers Fast - Easy #IndianaPrimary  https://t.co/40SSTcORR0\n",
      "2016-05-03 23:20:53 47\tMathematically eliminated from a legitimate victory, @tedcruz's entire strategy now relies on forcing an open convention. #IndianaPrimary\n",
      "2016-05-03 23:31:15 38\t15% reporting #BernieSanders within less than a percentage point #FeelTheBern #PennsylvaniaPrimary #IndianaPrimary #getOutAndVote\n",
      "2016-05-03 23:33:22 31\tHillary Clinton and Bernie Sanders neck-and-neck in Indiana.  Bernie 50% HRC 50% 19% in Just under 100 vote difference. #IndianaPrimary\n",
      "2016-05-03 23:33:30 12\t#IndianaPrimary  @Tedcruz @AppSame Don't Go Away Maddddd,JUST Go away! #Sad display by #DesperateLoser,Get TheHook! https://t.co/svC5yqElWB\n",
      "2016-05-03 23:56:54 56\t#Hillary so rude, talking about Trump like @BernieSanders is gone already.Too bad about #IndianaPrimary, #Billary #FeelTheBern #NeverHillary\n",
      "2016-05-03 23:57:56 99\tTrump folks , stop being children n unite the party #IndianaPrimary\n",
      "2016-05-04 00:04:52 35\t#IndianaPrimary Trump has as much votes as Hillary and Bernie combine.\n",
      "2016-05-04 00:21:44 38\t#IndianaPrimary results (at approx. 44% reporting): #Sanders leads #Clinton by 4.2%, #Trump wins big. | #FeelTheBern https://t.co/HBLBf46639\n",
      "2016-05-04 00:22:49 71\tRemember when @NateSilver538 used to get it right? Then he sold-out to corporate interests.... #IndianaPrimary  https://t.co/IOJZ88my6G\n",
      "2016-05-04 00:25:32 38\t@BernieSanders will win but by how much?! #IndianaPrimary #vote #BernieSanders #takethepowerback\n",
      "2016-05-04 00:32:21 56\tEverything about his tone and demeanor says ... he's about to suspend his campaign. #IndianaPrimary\n",
      "2016-05-04 00:33:56 56\t#Trump shouldn't make any nasty comments about #Cruz in his victory speech tonight - keep it dignified and respectful. #IndianaPrimary\n",
      "2016-05-04 00:34:15 77\t@tedcruz It's the same for immigrants today but ur stuck on them being \"illegal\" The ones you want legally don't wash dishes #IndianaPrimary\n",
      "2016-05-04 00:36:50 53\tOh thank Jesus, now #Cruz can go back to Planet Ikvoxigin and leave of Earthlings alone #IndianaPrimary #CruzDropsOut\n",
      "2016-05-04 00:38:47 6\t\"We want an outsider!\" Well you chose someone who bought &amp; sold politicians &amp; donated to Clinton, Reid, &amp; Pelosi. Nice! #IndianaPrimary\n",
      "2016-05-04 00:39:48 53\tI know my prayers just got answered. #ByeTed #IndianaPrimary\n",
      "2016-05-04 00:41:38 97\tLooks like world domination will have to wait for another 4 years aye Ted #TedCruz #IndianaPrimary\n",
      "2016-05-04 00:49:29 26\tKasich after finding out Cruz has dropped out of the race: #IndianaPrimary https://t.co/SJgLMT05j8\n",
      "2016-05-04 00:53:13 56\tI will say this about Cruz, he showed grace in defeat! #IndianaPrimary\n",
      "2016-05-04 00:56:53 13\tAccording to current reporting, #BernieSanders has gained a modest lead in #democratic #IndianaPrimary\n",
      "2016-05-04 00:57:03 29\tFollowing a devastating loss in #IndianaPrimary #TedCruz drops out of #Republican race https://t.co/48HO9FscOq\n",
      "2016-05-04 01:04:50 46\tSo can someone give me a percentage of what @realDonaldTrump needs to win the rest of the election? #IndianaPrimary\n",
      "2016-05-04 01:07:10 35\tPoor #HeidiCruz #IndianaPrimary @CNN  https://t.co/NP5eZtOuzQ\n",
      "2016-05-04 01:08:52 59\tThank you, Indiana! #IndianaPrimary https://t.co/9QjaeVzXfE\n",
      "2016-05-04 01:08:57 87\t#IndianaPrimary My doomsday plan is moving to Canada. I will still be Black so.......2nd choice pray for alien invasion.\n",
      "2016-05-04 01:13:10 72\tTed shld have read Cabbie the Cannabis Leaf instead of Green Eggs and Ham when he filibustered. LOL! #IndianaPrimary https://t.co/iWftrXIBJN\n",
      "2016-05-04 01:13:26 36\tINEVITABLE @HillaryClinton ???? GIRL BYE. #IndianaPrimary #BernieSanders #FeelTheBern  https://t.co/b9LLDCzTmf\n",
      "2016-05-04 01:14:58 38\tSanders wins #IndianaPrimary\n",
      "2016-05-04 01:15:37 66\tUS networks now projecting a win for @BernieSanders in the #IndianaPrimary...beating Clinton by 53.2 to 46.8 with 63% of vote in. @rtenews\n",
      "2016-05-04 01:15:42 1\tTrump has stepped to the microphone at Trump Tower in NYC. #IndianaPrimary\n",
      "2016-05-04 01:16:54 38\t#BernieSanders wins the #IndianaPrimary!! #FeelTheBern #StillSanders https://t.co/9NXimvBVmt\n",
      "2016-05-04 01:19:37 71\tHe'll copyright 'bigly' in the next year to make light of flak he will receive.  #IndianaPrimary\n",
      "2016-05-04 01:20:04 16\tOMGOSH...Trump has trumped it again! Tremendous victory for #IndianaPrimary &amp; #GOP. #NeverHillaryClinton. 🆒 #DrHallonCall.\n",
      "2016-05-04 01:28:29 58\tWas Carly recruited for her expertise in delivering pink slips to Cruz staffers? #IndianaPrimary\n",
      "2016-05-04 01:28:45 46\t“He is one hell of a competitor,” @realDonaldTrump says, congratulating @tedcruz &amp; Heidi - an appropriately gracious gesture #IndianaPrimary\n",
      "2016-05-04 01:38:33 38\t#BernieSanders wins the #IndianaPrimary . And the networks ignore the result. What else is new ?\n",
      "2016-05-04 01:42:04 35\t#IndianaPrimary cnn projects @BernieSanders winner of Indiana with 53% of the vote. #PoliticalRevolution https://t.co/7EQ4hALGOJ\n",
      "2016-05-04 01:46:09 56\tSo proud to be a Hoosier. ❤️ #FeelTheBern #IndianaPrimary @SenSanders\n",
      "2016-05-04 01:50:34 61\tOh look! @BernieSanders just won ANOTHER primary.  He should drop out 😂😂😂 #FeelTheBern #IndianaPrimary\n",
      "2016-05-04 02:33:27 11\t#IndianaPrimary The only thing Donald Trump will end up with is a loaded diaper. https://t.co/YiTrEyLFaq\n",
      "2016-05-04 03:15:38 4\tThe longer Sanders is in the race, the longer the race doesn't turn into an actual snoozer. Sanders is helping Democrats. #IndianaPrimary\n",
      "2016-05-04 03:17:31 41\tWhat the HELL did you think Fiorina was gonna do for you, Cruz? #IndianaPrimary\n",
      "2016-05-04 04:21:47 97\tCan we also acknowledge that the religious right do not have power to even get a win within Republican Party? #PaperTiger #IndianaPrimary -…\n",
      "2016-05-04 04:58:21 56\tTHE two who should wage a battle of ideas/policy/morality for next @POTUS #IndianaPrimary #FeelTheBern #TrumpTrain  https://t.co/BOMHRClyxW\n",
      "2016-05-04 07:20:42 2\t#IndianaPrimary results https://t.co/ooWv7DGOOg\n",
      "2016-05-04 12:26:19 1\tDEMOCRATS in DISARRAY after #Bernie sweeps #IndianaPrimary  GOP unifies behind #Trump  #morningjoe https://t.co/HNhjFe8ulB\n"
     ]
    }
   ],
   "source": [
    "df_clust_wght = df_smpl.sample(k_docs, weights='cluster_weight', random_state=2016)\n",
    "summ = df_clust_wght.sort_values(by='created_at', ascending=True)\n",
    "\n",
    "for _,doc in summ.iterrows():\n",
    "    print(str(doc['created_at']) + ' ' + str(doc['cluster']) + '\\t' + doc['text'])"
   ]
  },
  {
   "cell_type": "markdown",
   "metadata": {},
   "source": [
    "## 6. Noun Phrases\n",
    "### method:\n",
    "using off the shelf nlp tool NLTK, POS tag and chunk tweets looking for noun phrases and verbs"
   ]
  },
  {
   "cell_type": "code",
   "execution_count": 297,
   "metadata": {
    "collapsed": true
   },
   "outputs": [],
   "source": [
    "def event_check_NPV(text):\n",
    "    tokens = nltk.word_tokenize(text)\n",
    "    pos = nltk.pos_tag(tokens)\n",
    "    last = ('','')\n",
    "    event = 0\n",
    "    for item in pos:\n",
    "        #if last was noun\n",
    "        if last[1][0:2] == 'NN':\n",
    "            #check for verb\n",
    "            if item[1][0] == 'V':\n",
    "                event = 1\n",
    "        last = item\n",
    "    return event"
   ]
  },
  {
   "cell_type": "code",
   "execution_count": 298,
   "metadata": {
    "collapsed": false
   },
   "outputs": [
    {
     "name": "stdout",
     "output_type": "stream",
     "text": [
      "Wall time: 2min 39s\n"
     ]
    }
   ],
   "source": [
    "%%time\n",
    "df_smpl['event_NPV'] = df_smpl['text'].apply(lambda text: event_check_NPV(text))"
   ]
  },
  {
   "cell_type": "code",
   "execution_count": 304,
   "metadata": {
    "collapsed": false
   },
   "outputs": [
    {
     "name": "stdout",
     "output_type": "stream",
     "text": [
      "2016-05-02 00:21:31\t#IndianaPrimary..why would anyone pay $353K to dine with Hillary?..wealthy people view this 'donation' as an investment and demand a return.\n",
      "2016-05-02 00:30:43\t🚨#Bernie WINS when voter turnout is #YUGE Find Polls ☑https://t.co/8GMbIaoSqf #VoteBernie #IndianaPrimary #INPrimary https://t.co/Ez5TdlDC32\n",
      "2016-05-02 02:14:59\tPretty sure that lyin' @tedcruz is cheering for the Raptors right now since he's Canadian #IndianaPrimary\n",
      "2016-05-02 12:28:38\tMT @Karee_news: #IndianaPrimary #Conservatives across this land are counting you to #ChooseCruz. https://t.co/WtejAoKMRK #CruzCrew #PJNET\n",
      "2016-05-02 13:14:25\tA vote for #Trump is a vote for Hillary. #ChooseCruz #INPrimary #IndianaPrimary\n",
      "2016-05-02 13:59:48\tDonald Trump reveals the struggles that kept his faith in Jesus strong https://t.co/3NoPFI61Xm #rnc #gop #IndianaPrimary #2016election\n",
      "2016-05-02 14:27:33\t@NYT DANGEROUS Donald  https://t.co/fpwSvARj9i European leaders: Another Hitler. Exceed Hillary, Obma making US worse  #Cruz #IndianaPrimary\n",
      "2016-05-02 16:15:11\t'You suck!' child yells; #TedCruz compares him to Donald Trump, offers lesson in respect, parenting https://t.co/WiP7f1sLTK #IndianaPrimary\n",
      "2016-05-02 17:22:52\tBill Clinton meets with Hillary Clinton supporters in Indianapolis  #IndianaPrimary  #INPrimary  #ImWithHer   https://t.co/BAt0XlKOxP\n",
      "2016-05-02 18:32:54\t#CaliforniaPrimary #CaPrimary #IndianaPrimary #InPrimary why is #TedCruz such a liar. trump supports 2nd amed https://t.co/6hKqrVyb0S\n",
      "2016-05-02 19:08:53\t👀 @FoxNews right now w/ @tedcruz talking 2 these rude Trump supporters. In all fairness these ppl need 2 show respect. #IndianaPrimary\n",
      "2016-05-02 20:04:00\tI dont get how someone can be that nasty. At least @tedcruz had the 🏐⚽️🏀 to face/visit the crowd. #IndianaPrimary\n",
      "2016-05-02 20:33:46\t@RichardWeaving Indiana, please vote for @realDonaldTrump tomorrow!  We need you all! https://t.co/MrTa5W4Lsc  #Trump2016  #IndianaPrimary\n",
      "2016-05-02 20:48:55\t@deneenborelli #IndianaPrimary VOTE for #Trump fight BS MSM picking on 1  INDIANA child for yelling 2 words IGNORE 100's of worse Protests.\n",
      "2016-05-02 22:51:01\tEnjoying the few last hours of happiness before Indiana finds a way to fuck up the primary. #IndianaPrimary #nottrump #FeelTheBern\n",
      "2016-05-02 23:13:35\tWith just one day left to know the #IndianaPrimary outcome, it's all but certain that it's every candidates primary to lose. #trump #Cruz\n",
      "2016-05-02 23:21:53\tTrump is Insane, Trump is Power Mad, Trump Is EVIL! #TrumpIsEvil #NeverTrump #IndianaPrimary #INPrimary #GOP https://t.co/NdfvDTdZ6k\n",
      "2016-05-03 01:38:51\tOn the brink of the nomination, Donald tones down the Trump. @GriffinLeeds before the #IndianaPrimary https://t.co/ZQ9wImMpqU via @TheTab\n",
      "2016-05-03 02:20:30\t#Hannity #IndianaPrimary #Hoosiers #HoosiersForTrump LEARN FROM EUROPE! NO REFUGEES! ISLAM IS A BARBARIC CULT! https://t.co/aGjFexRuW8\n",
      "2016-05-03 02:27:55\tBecause of Ted Cruz, the Fort Hood shooting victims received Purple Hearts.  #vets #veterans #military #IndianaPrimary #tcot\n",
      "2016-05-03 14:29:05\tLike Trump says, MAGA Nation is a movement of love - Of America and Americans. #IndianaPrimary\n",
      "2016-05-03 16:55:12\tGoing into today's #IndianaPrimary, Ted Cruz is unleashing his most brutal attacks ever against Donald Trump.  https://t.co/sNZBOT4ehB\n",
      "2016-05-03 17:02:43\t#Cruz \"Trump is amoral, serial philanderer, narcissist, and winning. \"We r staring at the abyss\" only #Indiana can save us\" #IndianaPrimary\n",
      "2016-05-03 17:24:34\tApparently #Trump polling data now indicates linking Rafael #Cruz to JFK assassination will cause #IndianaPrimary voters to break for him.\n",
      "2016-05-03 17:49:20\tAnother primary today, another day of delusional, lyin' Ted getting his clock cleaned. What else is new. #IndianaPrimary #Trump2016\n",
      "2016-05-03 17:52:38\tTrump is being sued for Fraud &amp; Sexual Assault but please Twitter, tell me more about how Cruz's dad killed JFK #IndianaPrimary #ChooseCruz\n",
      "2016-05-03 19:59:16\tYa'll are making my thumb tired liking all these #iVoted tweets.  I'll get over it. KEEP VOTING. 😉  #IndianaPrimary\n",
      "2016-05-03 20:45:08\tAn outspoken presidential candidate is only threatening if what you're doing is unethical. #FeelTheBern #HillNo #IndianaPrimary\n",
      "2016-05-03 21:36:12\tEven if he wins tonight #Trump has NO CHANCE in the general https://t.co/vqVnxPfz6O #IndianaPrimary https://t.co/Nw71dWi6tA\n",
      "2016-05-03 22:04:45\t#IndianaPrimary  @HillaryClinton says we should come together, she couldn't even convince bill to \"come\" with her when she was first lady.\n",
      "2016-05-03 22:30:42\tHRC is performing better than her benchmarks in rural counties so far #IndianaPrimary https://t.co/YOXMymiQyJ\n",
      "2016-05-03 22:47:29\tHat #IndianaPrimary #HillaryClinton extends her lead to 15% over Sanders with 3% reporting. Great start! https://t.co/R54psMPfsU\n",
      "2016-05-03 22:56:45\tExit polls have Bernie up 12 over Clinton in #IndianaPrimary\n",
      "2016-05-03 23:14:37\t#Trump wins #IndianaPrimary making him now only 200 delegates short of wining the #GOP nomination https://t.co/vo3luxV3O6\n",
      "2016-05-03 23:16:25\t#Trumptrain is rolling towards #1237 #IndianaPrimary  https://t.co/hr5SJQGkv0\n",
      "2016-05-03 23:18:05\tBREAKING: Trump wins GOP #IndianaPrimary tonight, all but securing the GOP nod. More: https://t.co/Na7PfhR09b #CHAnews\n",
      "2016-05-03 23:26:13\tIt's one of the most remarkable political stories. @realDonaldTrump has sustained his momentum. @FoxNews #IndianaPrimary\n",
      "2016-05-03 23:36:33\t#TrumpMoonBase congratulates Donald Trump on his blazing victory tonight in #IndianaPrimary ! TWICE AS HARD! https://t.co/Cm3NyHMAFP\n",
      "2016-05-03 23:40:44\t#IndianaPrimary is feelin it! #sisepuede @BernieSanders\n",
      "2016-05-03 23:44:56\tDemocratic side-- race too close to call- #BernieSanders has taken a slight lead at the moment over #HillaryClinton #IndianaPrimary\n",
      "2016-05-03 23:56:37\tBy the way DefeaTED, how did that Carly Fiorina VP pick work out for you? What, Feminism didn't win you any votes? Shocker! #IndianaPrimary\n",
      "2016-05-03 23:56:54\t#Hillary so rude, talking about Trump like @BernieSanders is gone already.Too bad about #IndianaPrimary, #Billary #FeelTheBern #NeverHillary\n",
      "2016-05-03 23:58:22\t@MSNBC reporting #FeelTheBern taking the lead in #IndianaPrimary  Nice. My mood may improve before the day is over.  Sorry. I'm emotional.\n",
      "2016-05-04 00:21:44\t#IndianaPrimary results (at approx. 44% reporting): #Sanders leads #Clinton by 4.2%, #Trump wins big. | #FeelTheBern https://t.co/HBLBf46639\n",
      "2016-05-04 00:24:43\tCruz has not taken the stage. Fiorina is making comments. Tone sounds like one of ... well, I don't know. #IndianaPrimary\n",
      "2016-05-04 00:32:21\tEverything about his tone and demeanor says ... he's about to suspend his campaign. #IndianaPrimary\n",
      "2016-05-04 00:32:50\tTrump has literally knocked every supposedly promising candidate out of the race #IndianaPrimary\n",
      "2016-05-04 00:34:15\t@tedcruz It's the same for immigrants today but ur stuck on them being \"illegal\" The ones you want legally don't wash dishes #IndianaPrimary\n",
      "2016-05-04 00:36:00\tDonald Trump's speech is going to be the greatest spoken message in history. #Election2016 #IndianaPrimary\n",
      "2016-05-04 00:38:54\tThe Moose is going back to Canada. #IndianaPrimary https://t.co/lqJAdgLssW\n",
      "2016-05-04 00:42:29\tBREAKING: Ted Cruz quits the presidential race—campaign manager Jeff Roe https://t.co/OOuvxbTaIQ #IndianaPrimary https://t.co/x2HWj15FD6\n",
      "2016-05-04 00:46:06\t#IndianaPrimary: T. Cruz \"suspends\" campaign. Decision was made on the basis of delegate math alone. Indiana is a state Cruz should have won\n",
      "2016-05-04 00:51:54\t#Kasich is in fourth in a two candidate race. He probably won't be seeing much of a bump going forward even without #Cruz. #IndianaPrimary\n",
      "2016-05-04 00:52:10\tFor the \"inevitable nominee\" Hillary sure does lose a lot #IndianaPrimary\n",
      "2016-05-04 00:54:39\tDon't worry, @tedcruz is just going back to Canada for a change of clothes #IndianaPrimary #TedCruz\n",
      "2016-05-04 00:55:39\t.CarlyFiorina was looking for this when Cruz called her \"a great running mate\" #IndianaPrimary https://t.co/ZJYEAl6MZe\n",
      "2016-05-04 00:57:10\tMeanwhile the good news is Bernie is still leading. #FeelTheBern #IndianaPrimary\n",
      "2016-05-04 00:58:48\t#IndianaPrimary: @tedcruz has suspended his campaign.  https://t.co/IvzxWOGtPb\n",
      "2016-05-04 01:03:52\tThe real winner tonight is #CarlyFiorina because she doesn't have to hang out with #Cruz for another six months, AMIRIGHT? #IndianaPrimary\n",
      "2016-05-04 01:04:50\tSo can someone give me a percentage of what @realDonaldTrump needs to win the rest of the election? #IndianaPrimary\n",
      "2016-05-04 01:14:15\tHey guys I was playing tennis, what'd I miss in the #IndianaPrimary ? .... https://t.co/TMzp1oIJ8Z\n",
      "2016-05-04 01:14:18\t@megynkelly You say @realDonaldTrump will face @HillaryClinton but @BernieSanders showing her up in #IndianaPrimary-Americans are not stupid\n",
      "2016-05-04 01:15:28\tThough it's odd that Clinton loses #IndianaPrimary the night that she also becomes the presumptive 45th president.\n",
      "2016-05-04 01:15:29\tIndiana picked Bernie and Trump. We just like pissing people off. #IndianaPrimary\n",
      "2016-05-04 01:16:17\t#IndianaPrimary goes to #BernieSanders !! Thank you, Indiana!!! Keep on going! #StillSanders #BernieOrBust\n",
      "2016-05-04 01:16:39\t#BernieSanders wins Indiana and #TedCruz drops out of the race. Pretty darn good night!  #IndianaPrimary\n",
      "2016-05-04 01:17:56\tCruz dropping out. Unbelievable. #ImWithHer #HillaryClinton #IndianaPrimary\n",
      "2016-05-04 01:20:57\t@realDonaldTrump says ppl will be proud to be miners when this country &amp; world are moving AWAY from coal. Dumbass #ImWithHer #IndianaPrimary\n",
      "2016-05-04 01:21:31\tToo bad Cruz didn't grab Sanders w/ the hook on the way out. Time to focus on the general.  #IndianaPrimary @HillaryClinton #DNC  #ImWithHer\n",
      "2016-05-04 01:21:55\twhat's up with cokie the red nosed trump? his son looks like he spent a long night with his good friend blow #IndianaPrimary\n",
      "2016-05-04 01:23:43\t#BERNIE wins #IndianaPrimary !! Way to go! @BernieSanders #FeelTheBern #wenotme\n",
      "2016-05-04 01:23:50\tSanders can celebrate netting 4 delegates in the #IndianaPrimary. He still needs 85% of all the remaining delegates. Clinton needs 18%\n",
      "2016-05-04 01:24:29\t.@BernieSanders declares victory for #IndianaPrimary  https://t.co/m8yjvUBKGP\n",
      "2016-05-04 01:26:40\tWhy didn't Marty McFly warn us about this? #IndianaPrimary #BackToTheFuture\n",
      "2016-05-04 01:28:29\tWas Carly recruited for her expertise in delivering pink slips to Cruz staffers? #IndianaPrimary\n",
      "2016-05-04 01:33:04\tHas @GlennBeck been 5150'd yet and put on suicide watch?  #IndianaPrimary Ted Cruz drops out of presidential race.\n",
      "2016-05-04 01:33:45\tI feel so bad for the cold can of mushroom soup that Ted Cruz is gonna hate eat tonight. #IndianaPrimary #TedCruz #CruzCarly2016\n",
      "2016-05-04 01:38:05\tVIDEO: Ted #Cruz drops out of presidential race https://t.co/GkQ914SozN #Trump #IndianaPrimary\n",
      "2016-05-04 01:38:09\t@KellyFile Hillary Clinton needs to gargle with broken glads #IndianaPrimary #MakeAmericaGreatAgain\n",
      "2016-05-04 01:38:33\t#BernieSanders wins the #IndianaPrimary . And the networks ignore the result. What else is new ?\n",
      "2016-05-04 01:39:01\tBREAKING: Sanders wins the Indiana Democratic primary. #IndianaPrimary\n",
      "2016-05-04 01:40:19\tCNNers on why #DonaldTrump #IndianaPrimary win sealed the deal @CNNPolitics https://t.co/WvNtS3td1V\n",
      "2016-05-04 01:46:36\tRepublicans started with 17 candidates and settled for #Trump after such rigorous process #damn #GOP #IndianaPrimary #USElection\n",
      "2016-05-04 01:48:36\tIt may not be popular to ask this question. But what was Ted Cruz's father doing in that photo with Oswald? #IndianaPrimary\n",
      "2016-05-04 01:58:48\tOh no, zodiacs coming back! #IndianaPrimary #TedCruz   https://t.co/DsW3lkLAo6\n",
      "2016-05-04 02:13:59\tTodd: Clinton's flaws are why Democrats are nervous tonight  #msnbc #IndianaPrimary\n",
      "2016-05-04 02:25:49\tNoblesville superintendent says school referendum passes with 73 percent of vote in favor of it.  #IndianaPrimary #schoolref16\n",
      "2016-05-04 02:28:37\t#TedCruz dropping out of the race really isnt all that surprising. He was getting his ass handed 2 him on a platinum platter #IndianaPrimary\n",
      "2016-05-04 02:33:10\tIf you hate your choices for president seek your candidate now for 2020 and back them early for the next election. #IndianaPrimary\n",
      "2016-05-04 02:44:57\tDoes Bernie have top teeth? All I ever see is a drooping lip and bottom teeth! #IndianaPrimary\n",
      "2016-05-04 02:58:17\t@BernieSanders wins #IndianaPrimary but will @CNNPolitics let him speak before 11pm? No!! @CNN you suck!\n",
      "2016-05-04 03:25:27\tThat's right #Cruz, #GOP nomination is not gonna happen. #indianaprimary https://t.co/tUUqGl9n95\n",
      "2016-05-04 04:11:59\tI think Kasich is only in the race because he is able to charge his meals to the campaign  #IndianaPrimary #INPrimary\n",
      "2016-05-04 04:14:12\tTrump's victory is a testament to media's utter failure to fairly cover the campaign. Equal airtime law needed. #Trump #IndianaPrimary #GOP\n",
      "2016-05-04 04:20:05\t.@BernieSanders beats @HillaryClinton in #IndianaPrimary https://t.co/Owgkjy7SYY #Election2016 https://t.co/jB4uUU7awN\n",
      "2016-05-04 04:21:47\tCan we also acknowledge that the religious right do not have power to even get a win within Republican Party? #PaperTiger #IndianaPrimary -…\n",
      "2016-05-04 04:40:27\tPlease don't make the generalization that Republican women favor #Trump. Many of us just DON'T. #Elections2016 #IndianaPrimary\n",
      "2016-05-04 05:45:12\tHeavy turnout expected today for critical #Indianaprimary... https://t.co/b6PrAZ7YtI\n",
      "2016-05-04 05:54:28\tThere are now Republicans defecting to Hillary. God you guys are truly idiots. She relies on your stupidity #IndianaPrimary\n",
      "2016-05-04 14:54:36\t\"The longer Sanders is in the race, the pushes Clinton further to the left.\"  Agree? Weigh in: https://t.co/vNWypfb6hL #IndianaPrimary\n"
     ]
    }
   ],
   "source": [
    "df_NPV_rndm = df_smpl[df_smpl['event_NPV'] == 1].sample(k_docs, random_state=2016)\n",
    "summ = df_NPV_rndm.sort_values(by='created_at', ascending=True)\n",
    "\n",
    "for _,doc in summ.iterrows():\n",
    "    print(str(doc['created_at']) + '\\t' + doc['text'])"
   ]
  },
  {
   "cell_type": "code",
   "execution_count": 305,
   "metadata": {
    "collapsed": true
   },
   "outputs": [],
   "source": [
    "grammar = \"\"\"NBAR: {<NN.*|JJ>*<NN.*>} \n",
    "NP: {<NBAR>} \n",
    "{<NBAR><IN><NBAR>}\"\"\"\n",
    "cp = nltk.RegexpParser(grammar)"
   ]
  },
  {
   "cell_type": "code",
   "execution_count": 306,
   "metadata": {
    "collapsed": false
   },
   "outputs": [],
   "source": [
    "def event_check_NPVNP(text):\n",
    "    tokens = nltk.word_tokenize(text)\n",
    "    pos = nltk.pos_tag(tokens)\n",
    "    result = cp.parse(pos)\n",
    "\n",
    "    structure = [node[1] if type(node) != nltk.Tree else 'NP' for node in result]\n",
    "    ls = [t[0] for t in structure]\n",
    "\n",
    "    NP = False\n",
    "    NP_V = False\n",
    "    NP_V_NP = 0\n",
    "    for t in ls:\n",
    "        if NP_V == True and t == 'N':\n",
    "            NP_V_NP = 1\n",
    "        elif NP_V == True and t not in ['N','V']:\n",
    "            NP = False\n",
    "            NP_V = False\n",
    "        if NP == True and t == 'V':\n",
    "            NP_V = True\n",
    "        if t == 'N':\n",
    "            NP = True\n",
    "    return NP_V_NP"
   ]
  },
  {
   "cell_type": "code",
   "execution_count": 307,
   "metadata": {
    "collapsed": false
   },
   "outputs": [
    {
     "name": "stdout",
     "output_type": "stream",
     "text": [
      "Wall time: 2min 50s\n"
     ]
    }
   ],
   "source": [
    "%%time\n",
    "df_smpl['event_NPVNP'] = df_smpl['text'].apply(lambda text: event_check_NPVNP(text))"
   ]
  },
  {
   "cell_type": "code",
   "execution_count": 321,
   "metadata": {
    "collapsed": false
   },
   "outputs": [
    {
     "name": "stdout",
     "output_type": "stream",
     "text": [
      "2016-05-02 14:40:04\tBreaking News: @realDonaldTrump has won NOTHING! He hasn't won the GOP nomination &amp; won't. Stop listening to propaganda! :) #IndianaPrimary\n",
      "2016-05-02 16:15:11\t'You suck!' child yells; #TedCruz compares him to Donald Trump, offers lesson in respect, parenting https://t.co/WiP7f1sLTK #IndianaPrimary\n",
      "2016-05-02 19:08:53\t👀 @FoxNews right now w/ @tedcruz talking 2 these rude Trump supporters. In all fairness these ppl need 2 show respect. #IndianaPrimary\n",
      "2016-05-02 20:17:34\tThe fact that people still support Hillary. That nasty, rape apologists! #Hillary4Prison2016 #IndianaPrimary  https://t.co/vgqxFBZ8hd\n",
      "2016-05-02 20:33:46\t@RichardWeaving Indiana, please vote for @realDonaldTrump tomorrow!  We need you all! https://t.co/MrTa5W4Lsc  #Trump2016  #IndianaPrimary\n",
      "2016-05-02 20:39:12\t.@TedCruz confronts #Trump supporter EPIC! .@realDonaldTrump takes YOU for chumps #IndianaPrimary #INPrimary #tcot https://t.co/zAASVsvfjc\n",
      "2016-05-02 20:41:27\tAnother coach backs @realdonaldtrump - Former @NDFootball's Lou Holtz backing #GOP front-runner ahead of #IndianaPrimary\n",
      "2016-05-02 23:21:53\tTrump is Insane, Trump is Power Mad, Trump Is EVIL! #TrumpIsEvil #NeverTrump #IndianaPrimary #INPrimary #GOP https://t.co/NdfvDTdZ6k\n",
      "2016-05-02 23:32:30\tIn South Bend, where @tedcruz needs strong vote, @realDonaldTrump draws SRO to Century Center. #IndianaPrimary https://t.co/B98cTeqbpd\n",
      "2016-05-03 00:04:06\tLou Holtz gets in on the action and endorses @realDonaldTrump! #NotreDame #INPrimary #IndianaPrimary #Trump2016 https://t.co/u8urEh9XjA\n",
      "2016-05-03 03:25:48\t#INDIANAPRIMARY .Knight would never have endorsed someone unless they had integrity.  BRING IT HOME #HOOSIERS  https://t.co/HGz5F6HLxj\n",
      "2016-05-03 04:53:02\tIndiana pls read ID requirement https://t.co/iFNmmuEIYJ #IndianaPrimary #INPrimary #BernieSanders #BernieOrBust #FeelTheBern #WillingToFight\n",
      "2016-05-03 10:21:27\tI understand why #women hate #Trump. I'll never understand women who #voteTrump. #IndianaPrimary\n",
      "2016-05-03 11:22:44\tI urgently plead w/ #IndianaPrimary voters to vote @tedcruz today. It is of utmost importance that we repudiate sideshow Trump! #NeverTrump\n",
      "2016-05-03 11:36:05\tGood morning @indianarepublicans #IndianaPrimary It's time for a new America, get out and vote for @realDonaldTrump  last chance for change\n",
      "2016-05-03 13:22:40\tAmerica wants Aunite Hillary NOT Comrade Bernie   #IndianaPrimary #PrimaryDay #HillaryStrong #ReadyForHillary https://t.co/CIwFsNCp2W\n",
      "2016-05-03 13:35:34\tTrump says China shouldn't be allowed to rape us... Seems to me you're helping them #IndianaPrimary #NeverTrump https://t.co/trb9pwhaCc\n",
      "2016-05-03 14:40:42\tSORRY guys, this is what #Indianaprimary looks like@FoxNewsInsider @FoxNews @megynkelly @BretBaier @marthamaccallum https://t.co/OXXeMTgoq3\n",
      "2016-05-03 15:59:50\t#HillaryClinton brings #Raise the #MinimumWage  #Raising Tax on the #Rich #Economy #renewableenergy  #IndianaPrimary https://t.co/IGJIJz5xmV\n",
      "2016-05-03 16:03:09\tLet's do this Indiana!--- Indiana Boasts Record Turnout for Early Voting - Breitbart https://t.co/bN7NcZJUWT #IndianaPrimary\n",
      "2016-05-03 16:16:38\t#WomenForTrump: we don't fit your broadbrush attacks of demeaning generalizations. #IndianaPrimary @realDonaldTrump https://t.co/zr3Lvdsmi0\n",
      "2016-05-03 16:45:40\t#IndianaPrimary this is your chance to make history! #Vote for @HillaryClinton - 1st major party woman nominee in 227 yrs! #Hillary2016\n",
      "2016-05-03 17:21:05\tBob Knight endorsed Donald Trump. But what about NASCAR? #IndianaPrimary https://t.co/kxBuQ9m7Ev https://t.co/aQ7gNF2q8k\n",
      "2016-05-03 17:49:40\tCan't win a general election without Independents... Not looking good @HillaryClinton #IndianaPrimary #FeelTheBern  https://t.co/abCVlDvxlH\n",
      "2016-05-03 17:52:38\tTrump is being sued for Fraud &amp; Sexual Assault but please Twitter, tell me more about how Cruz's dad killed JFK #IndianaPrimary #ChooseCruz\n",
      "2016-05-03 18:03:55\tIs this what it's like being blue in a red state? #IndianaPrimary Seeing more friends who declare Dem being harassed by poll volunteers.\n",
      "2016-05-03 19:14:42\t#IndianaPrimary #Indiana Lyin Ted said he has always been surrounded by beautiful and loving women !! Guess that includes HIS HOOKER'S !!!\n",
      "2016-05-03 20:25:09\tMT @gracy69epixnet: Vote 4 #TedCruz the Commander in Chief who always defends USA. https://t.co/vfO7pvVP2N #CruzCrew #PJNET #IndianaPrimary\n",
      "2016-05-03 20:27:07\tWill #IndianaPrimary rise against the establishment or will they now there heads and submit to @HillaryClinton\n",
      "2016-05-03 20:47:11\tImagine computer issues in #IndianaPrimary causing issues in polling places in central #Indiana fox reporting on cavuto\n",
      "2016-05-03 21:25:11\t#IndianaPrimary #INPrimary #indiana4trump Let's #MAGA and #VoteTrump2016 https://t.co/UJXX3mgAew\n",
      "2016-05-03 21:36:12\tEven if he wins tonight #Trump has NO CHANCE in the general https://t.co/vqVnxPfz6O #IndianaPrimary https://t.co/Nw71dWi6tA\n",
      "2016-05-03 21:40:29\tWith @HillaryClinton in power Extremely high student debt ✅ Fracking ✅ No Wall St accountability ✅ No universal healthcare ✅ #IndianaPrimary\n",
      "2016-05-03 22:09:23\t#IndianaPrimary #berniesupporters Dn let that ballot's deliberately suggestive wording push you to vote for any of Clinton's delegates.\n",
      "2016-05-03 22:16:32\tProudly exercised my right to vote today in the #IndianaPrimary. #CruzCrew #DumpTrump https://t.co/6C1yjWe1Sq\n",
      "2016-05-03 22:30:15\t#WomansDayCard #IndianaPrimary Trump is a Narcissist so say US Psychiatrists #Vote4Hillary #SaneHillary #ImWithHer  https://t.co/Dzf562U6YD\n",
      "2016-05-03 22:49:35\t#IndianaPrimary @foxnews exit polls: 53% of Hoosiers say they feel betrayed by Republican politicians; 42% say Cruz ran most unfair campaign\n",
      "2016-05-03 22:51:14\tAFTER THE BREAK : Brian @kilmeade joins @larryhansgen LIVE to talk #IndianaPrimary.  Listen here : https://t.co/Evgx11gOTo\n",
      "2016-05-03 22:56:45\tExit polls have Bernie up 12 over Clinton in #IndianaPrimary\n",
      "2016-05-03 23:06:59\tThe #IndianaPrimary results are unbelievable. If I act in denial it's because I can't believe my party is dead https://t.co/S8TaWAnJ0I\n",
      "2016-05-03 23:07:54\tAt least #LyinTed has an experienced job killer Carly Fiorina around to layoff his campaign staff!!! #IndianaPrimary https://t.co/5KNqr0qi6d\n",
      "2016-05-03 23:15:13\tNext target:#HillaryClinton and it's gonna get meaner,if possible.#Trump wins #IndianaPrimary. https://t.co/NFD0scLnsQ\n",
      "2016-05-03 23:18:03\t.@DonaldJTrumpJr reacts to news his father @realDonaldTrump is projected by @CNN to win GOP #IndianaPrimary https://t.co/DO7m4RpQQv\n",
      "2016-05-03 23:24:29\tBernie is giving Hillary one hell of a fight in the #IndianaPrimary, things are looking pretty close so far\n",
      "2016-05-03 23:29:08\tHillary Clinton can barely beat a senile Jewish Socialist in adult diapers, yet she's gonna crush Trump? Dream on fucktards! #IndianaPrimary\n",
      "2016-05-03 23:36:33\t#TrumpMoonBase congratulates Donald Trump on his blazing victory tonight in #IndianaPrimary ! TWICE AS HARD! https://t.co/Cm3NyHMAFP\n",
      "2016-05-03 23:42:23\tIronic moment: @BernieSanders winning Clinton County Indiana. #FeelTheBern #IndianaPrimary #INPrimary https://t.co/ciu99ngn2W\n",
      "2016-05-03 23:45:00\tIt may be super close right now, but there are parts of Indiana that'll be favorable to Hillary that haven't reported yet. #IndianaPrimary\n",
      "2016-05-03 23:54:47\tlooks pretty much like a tie in #IndianaPrimary --not bad for Clinton considering she invested not one cent in ads and Sanders spent plenty!\n",
      "2016-05-03 23:58:28\t#LilBen @benshapiro we want you to debate @nero live for charity. See @Cernovich for details. #MAGA #IndianaPrimary #AlwaysTrump\n",
      "2016-05-03 23:59:52\tThat would be funny if Sanders beats Clinton in #IndianaPrimary\n",
      "2016-05-04 00:12:11\tTheory: \"Cheetosgate\" sank Cruz's chances in the #IndianaPrimary. https://t.co/7DFPwTOMva\n",
      "2016-05-04 00:14:31\t#IndianaPrimary @BostonGlobe always has results sooner than any1. They R also covering @BernieSanders speech: https://t.co/leepBN5LAp\n",
      "2016-05-04 00:16:33\tOnce again, The Nixon Rule held- \"Whenever there's a movement to stop X..........bet on X\"    #IndianaPrimary\n",
      "2016-05-04 00:24:43\tCruz has not taken the stage. Fiorina is making comments. Tone sounds like one of ... well, I don't know. #IndianaPrimary\n",
      "2016-05-04 00:25:09\t#IndianaPrimary #FeelTheBern increasing lead on #Hillary At this point only #electionfraud can deny @BernieSanders https://t.co/MZIkC7qbF4\n",
      "2016-05-04 00:27:32\t#CNN is airing Carly Fiorina, while the possibly winner @BernieSanders is ignored once again. #establishment #IndianaPrimary @SusanSarandon\n",
      "2016-05-04 00:34:17\tguardian: Ted Cruz to address supporters after #IndianaPrimary loss – watch live: https://t.co/d4TsKGhslH\n",
      "2016-05-04 00:35:18\tBREAKING: Cruz IS NOT the Zodiac killer. #IndianaPrimary  https://t.co/WGss5I4NXz\n",
      "2016-05-04 00:36:31\tWell, history was made tonight in the Hoosier State! #IndianaPrimary\n",
      "2016-05-04 00:41:27\tTed Cruz confirms suspension of presidential campaign, clearing the path for Donald Trump to be the Republican nominee. #IndianaPrimary\n",
      "2016-05-04 00:43:28\tCarly Fiorina was VP candidate for non nominee for a week.  I'm pretty that's a record.  The losing streak remains unbroken. #IndianaPrimary\n",
      "2016-05-04 00:44:41\tTed Cruz will have more time now to shoot \"rings\" in the backyard with his kids...and study basketball. #Cruz #IndianaPrimary\n",
      "2016-05-04 00:44:50\tJohn Kasich to suspend campaign at a local McDonald's #POTUS #IndianaPrimary\n",
      "2016-05-04 00:45:19\tTrump vs Clinton OR Sanders. Who's ready for a landslide victory for @TheDemocrats. @People4Bernie #IndianaPrimary https://t.co/P97I2JFgPN\n",
      "2016-05-04 00:45:30\tAmen 👉🏻 Ted Cruz is OUT!!! Next up 👉🏻 Hillary Clinton! #TrumpTrain is headed to The White House!!! #IndianaPrimary\n",
      "2016-05-04 00:46:06\tUm where is @JohnKasich at though. . .#elections2016 #IndianaPrimary\n",
      "2016-05-04 00:48:33\tHas anyone called Donald Trump the Leicester City of U.S. presidential politics? What were his odds when he announced? #IndianaPrimary\n",
      "2016-05-04 00:51:40\t#IndianaPrimary made America great again. #Trump2016\n",
      "2016-05-04 00:52:06\t#Trump takes #Indiana. #Cruz drops out of race. What do you think of #IndianaPrimary outcome for GOP? Use #tellusatoday, may publish reply.\n",
      "2016-05-04 01:02:15\tWe already know what @realDonaldTrump thinks of Kasich #indianaprimary https://t.co/hGFnye2UsT\n",
      "2016-05-04 01:08:57\t#IndianaPrimary My doomsday plan is moving to Canada. I will still be Black so.......2nd choice pray for alien invasion.\n",
      "2016-05-04 01:13:09\tI really feel for poor Heidi Cruz. Getting a real Pat Nixon vibe to be honest @dick_nixon: https://t.co/Hebbb6Jsm5 #IndianaPrimary\n",
      "2016-05-04 01:13:10\tTed shld have read Cabbie the Cannabis Leaf instead of Green Eggs and Ham when he filibustered. LOL! #IndianaPrimary https://t.co/iWftrXIBJN\n",
      "2016-05-04 01:14:18\t@megynkelly You say @realDonaldTrump will face @HillaryClinton but @BernieSanders showing her up in #IndianaPrimary-Americans are not stupid\n",
      "2016-05-04 01:15:39\tBREAKING NEWS: Bernie Sanders projected winner of the Indiana Democratic Primary. #IndianaPrimary https://t.co/DVvVD8E8Rm\n",
      "2016-05-04 01:16:35\tBernie Sanders takes Indiana!  #FeelTheBern #IndianaPrimary #StillSanders https://t.co/QPhnvVaoyy\n",
      "2016-05-04 01:24:29\t.@BernieSanders declares victory for #IndianaPrimary  https://t.co/m8yjvUBKGP\n",
      "2016-05-04 01:24:29\tHere we go wih the Cruz platitudes. What a lying hypocrite. #IndianaPrimary\n",
      "2016-05-04 01:25:18\t#MakeAmericaGreatAgain #Trump2016 #CruzOut #GOPnominee #IndianaPrimary   It's time to make America great again!🇺🇸\n",
      "2016-05-04 01:28:29\tWas Carly recruited for her expertise in delivering pink slips to Cruz staffers? #IndianaPrimary\n",
      "2016-05-04 01:39:12\t@BernieSanders wins Indiana! The dream lives! #IndianaPrimary #FeelTheBern\n",
      "2016-05-04 01:50:48\tAmen @VanJones68 finally someone said it. Every Sanders victory has to be immediately shot down on CNN. #ElectionDay #IndianaPrimary\n",
      "2016-05-04 01:53:54\t@HillaryClinton vs @realDonaldTrump: Advantage Clinton.   #fact #uspol #IndianaPrimary #hillarywins   https://t.co/H7Ru8ou1Kk\n",
      "2016-05-04 02:08:54\tThis just in...@JohnKasich packing the family trickster after bus gets repo'd and driver quits #CaliOrBust #IndianaPrimary #Trump2016\n",
      "2016-05-04 02:19:22\tBAI @tedcruz!!!👋🏼👋🏼👋🏼 Oh and @CarlyFiorina...you guys are such JOKES! 😂#IndianaPrimary\n",
      "2016-05-04 02:44:57\tDoes Bernie have top teeth? All I ever see is a drooping lip and bottom teeth! #IndianaPrimary\n",
      "2016-05-04 02:45:58\tAnother reason for Berners 2 celebrate 2nite, besides #IndianaPrimary victory is the pick up of Washington delegates https://t.co/edf6Lwcugy\n",
      "2016-05-04 03:12:07\tCongrats to @SenSanders for winning the Indiana primary! Keep the 🔥 alive!  #PoliticalRevolution #IndianaPrimary #FeelTheBern #BernieOrBust\n",
      "2016-05-04 03:15:38\tThe longer Sanders is in the race, the longer the race doesn't turn into an actual snoozer. Sanders is helping Democrats. #IndianaPrimary\n",
      "2016-05-04 03:18:56\tThe GOP hasn't done their jobs, so WE THE PEOPLE have found an outsider in Donald Trump to break up the corruption party.  #IndianaPrimary\n",
      "2016-05-04 03:26:42\t#IndianaPrimary: Donald Trump takes state, named presumptive GOP nominee; forcing Ted Cruz to suspend campaign https://t.co/iPP7tyPK4E\n",
      "2016-05-04 03:27:17\tTime for dem party to get a clue and get behind the candidate who can beat Trump with dem and indie vote: @BernieSanders. #IndianaPrimary\n",
      "2016-05-04 03:36:49\t\"@KhaledBeydoun: Among People of Color under 45 in Indiana, Sanders beat Clinton 53-47%.  #IndianaPrimary\"\n",
      "2016-05-04 04:27:13\tCongrats to @BernieSanders on the Ind. win #FeelTheBern #IndianaPrimary\n",
      "2016-05-04 04:45:58\tDon't fret, America. There's still time to accept @HillaryClinton as your personal savior. #IndianaPrimary\n",
      "2016-05-04 08:01:01\tCruz ends presidential campaign after crushing Indiana loss  https://t.co/6DICnBp1Bp #IndianaPrimary #INprimary https://t.co/ywQbdeh7Hl\n",
      "2016-05-04 08:03:33\tHey twitter say hi to @ianpmclarke! #newbie #MayThe4thBeWithYou #DanceMoms  #IndianaPrimary #1D #LEMONADE https://t.co/4c8aEzmt85\n",
      "2016-05-04 13:40:13\t#IndianaPrimary The msg is once again very clear. Ppl don't want you @HillaryClinton . They want Bernie Sanders #Election2016 #Bernie2016\n",
      "2016-05-04 14:28:37\t@realDonaldTrump to be presumptive GOP nominee following #IndianaPrimary and Cruz has dropped out!\n"
     ]
    }
   ],
   "source": [
    "df_NPVNP_rndm = df_smpl[df_smpl['event_NPVNP'] == 1].sample(k_docs, random_state=2016)\n",
    "summ = df_NPVNP_rndm.sort_values(by='created_at', ascending=True)\n",
    "\n",
    "for _,doc in summ.iterrows():\n",
    "    print(str(doc['created_at']) + '\\t' + doc['text'])"
   ]
  }
 ],
 "metadata": {
  "kernelspec": {
   "display_name": "Python 3",
   "language": "python",
   "name": "python3"
  },
  "language_info": {
   "codemirror_mode": {
    "name": "ipython",
    "version": 3
   },
   "file_extension": ".py",
   "mimetype": "text/x-python",
   "name": "python",
   "nbconvert_exporter": "python",
   "pygments_lexer": "ipython3",
   "version": "3.4.4"
  }
 },
 "nbformat": 4,
 "nbformat_minor": 0
}
