{
 "cells": [
  {
   "cell_type": "code",
   "execution_count": 2,
   "metadata": {
    "collapsed": true
   },
   "outputs": [],
   "source": [
    "import pandas as pd\n",
    "import csv"
   ]
  },
  {
   "cell_type": "code",
   "execution_count": null,
   "metadata": {
    "collapsed": true
   },
   "outputs": [],
   "source": [
    "#MERGE query data to event data"
   ]
  },
  {
   "cell_type": "code",
   "execution_count": 2,
   "metadata": {
    "collapsed": true
   },
   "outputs": [],
   "source": [
    "df_panama_papers = pd.read_table('data/final/query_panama_papers_data.txt', sep='\\t', encoding='utf-8', header=0)\n",
    "df_offshore = pd.read_table('data/final/query_offshore_data.txt', sep='\\t', encoding='utf-8', header=0)\n",
    "df_leak = pd.read_table('data/final/query_leak_data.txt', sep='\\t', encoding='utf-8', header=0)\n",
    "df_fonseca = pd.read_table('data/final/query_fonseca_data.txt', sep='\\t', encoding='utf-8', header=0)\n",
    "df_tax_haven = pd.read_table('data/final/query_tax_haven_data.txt', sep='\\t', encoding='utf-8', header=0)"
   ]
  },
  {
   "cell_type": "code",
   "execution_count": 3,
   "metadata": {
    "collapsed": true
   },
   "outputs": [],
   "source": [
    "df_panama_papers['query'] = 'panama papers'\n",
    "df_offshore['query'] = 'offshore'\n",
    "df_leak['query'] = 'leak'\n",
    "df_fonseca['query'] = 'fonseca'\n",
    "df_tax_haven['query'] = 'tax haven'"
   ]
  },
  {
   "cell_type": "code",
   "execution_count": 4,
   "metadata": {
    "collapsed": false
   },
   "outputs": [
    {
     "data": {
      "text/plain": [
       "(2844241, 21)"
      ]
     },
     "execution_count": 4,
     "metadata": {},
     "output_type": "execute_result"
    }
   ],
   "source": [
    "df = pd.concat([df_panama_papers, df_offshore, df_leak, df_fonseca, df_tax_haven])\n",
    "df.shape"
   ]
  },
  {
   "cell_type": "code",
   "execution_count": 5,
   "metadata": {
    "collapsed": false
   },
   "outputs": [
    {
     "data": {
      "text/plain": [
       "(2346998, 21)"
      ]
     },
     "execution_count": 5,
     "metadata": {},
     "output_type": "execute_result"
    }
   ],
   "source": [
    "#handle event overlap between queries\n",
    "#not query specific\n",
    "df = df.drop_duplicates('id_str')\n",
    "df.shape"
   ]
  },
  {
   "cell_type": "code",
   "execution_count": 6,
   "metadata": {
    "collapsed": true
   },
   "outputs": [],
   "source": [
    "#convert date format to python datetime\n",
    "df['created_at'] = pd.to_datetime(df['created_at'])"
   ]
  },
  {
   "cell_type": "code",
   "execution_count": 7,
   "metadata": {
    "collapsed": true
   },
   "outputs": [],
   "source": [
    "#sort data on date posted ascending\n",
    "df = df.sort_values(by='created_at', ascending=True)"
   ]
  },
  {
   "cell_type": "code",
   "execution_count": 13,
   "metadata": {
    "collapsed": false
   },
   "outputs": [
    {
     "data": {
      "text/plain": [
       "(2295892, 21)"
      ]
     },
     "execution_count": 13,
     "metadata": {},
     "output_type": "execute_result"
    }
   ],
   "source": [
    "#slice data on event dates\n",
    "df = df[(df['created_at'] >= '2016-04-03 00:00:00') & (df['created_at'] <= '2016-04-14 00:00:00')]\n",
    "df.shape"
   ]
  },
  {
   "cell_type": "code",
   "execution_count": null,
   "metadata": {
    "collapsed": true
   },
   "outputs": [],
   "source": [
    "#DATA BASE FILE"
   ]
  },
  {
   "cell_type": "code",
   "execution_count": 22,
   "metadata": {
    "collapsed": true
   },
   "outputs": [],
   "source": [
    "#create, add index as master id, rename twitter id\n",
    "df.reset_index(drop=True, inplace=True)\n",
    "df = df.reset_index().rename(columns={'index' : 'master_id', 'id_str' : 'twitter_id'})"
   ]
  },
  {
   "cell_type": "code",
   "execution_count": 28,
   "metadata": {
    "collapsed": true
   },
   "outputs": [],
   "source": [
    "df.to_csv('data/final/event_panama_papers_data.txt', sep='\\t', encoding='utf-8', header=True, index=False)"
   ]
  },
  {
   "cell_type": "code",
   "execution_count": null,
   "metadata": {
    "collapsed": true
   },
   "outputs": [],
   "source": [
    "#MASTER FILE"
   ]
  },
  {
   "cell_type": "code",
   "execution_count": 4,
   "metadata": {
    "collapsed": true
   },
   "outputs": [],
   "source": [
    "df_master = df[['master_id', 'twitter_id', 'created_at', 'text', 'is_retweet', 'tweet_type']]"
   ]
  },
  {
   "cell_type": "code",
   "execution_count": 5,
   "metadata": {
    "collapsed": false
   },
   "outputs": [
    {
     "name": "stderr",
     "output_type": "stream",
     "text": [
      "c:\\miniconda3\\lib\\site-packages\\ipykernel\\__main__.py:1: SettingWithCopyWarning: \n",
      "A value is trying to be set on a copy of a slice from a DataFrame.\n",
      "Try using .loc[row_indexer,col_indexer] = value instead\n",
      "\n",
      "See the caveats in the documentation: http://pandas.pydata.org/pandas-docs/stable/indexing.html#indexing-view-versus-copy\n",
      "  if __name__ == '__main__':\n",
      "c:\\miniconda3\\lib\\site-packages\\ipykernel\\__main__.py:2: SettingWithCopyWarning: \n",
      "A value is trying to be set on a copy of a slice from a DataFrame.\n",
      "Try using .loc[row_indexer,col_indexer] = value instead\n",
      "\n",
      "See the caveats in the documentation: http://pandas.pydata.org/pandas-docs/stable/indexing.html#indexing-view-versus-copy\n",
      "  from ipykernel import kernelapp as app\n"
     ]
    }
   ],
   "source": [
    "df_master['event'] = 'Panama Papers'\n",
    "df_master['event_description'] = 'The Panama Papers are a set of 11.5 million confidential documents detailing information about more than 214,000 offshore companies compiled by the Panamanian corporate service provider Mossack Fonseca, including the identities of company shareholders and directors.'"
   ]
  },
  {
   "cell_type": "code",
   "execution_count": 31,
   "metadata": {
    "collapsed": true
   },
   "outputs": [],
   "source": [
    "#save id, text as master, with index\n",
    "df_master.to_csv('data/final/event_panama_papers_master.txt', sep='\\t', encoding='utf-8', header=True, index=False)"
   ]
  },
  {
   "cell_type": "code",
   "execution_count": null,
   "metadata": {
    "collapsed": false
   },
   "outputs": [],
   "source": [
    "#save sample for annotation\n",
    "#no retweets, only text\n",
    "#sample 1K\n",
    "smpl = df_master[(df_master['is_retweet'] == False)].sample(100000)\n",
    "#format for crowdflower import\n",
    "#delimited by ;\n",
    "#double quote strings\n",
    "smpl.to_csv('data/final/event_panama_papers_master_sample.csv', sep=',', quoting=csv.QUOTE_NONNUMERIC, encoding='utf-8', header=True, index=False)"
   ]
  }
 ],
 "metadata": {
  "kernelspec": {
   "display_name": "Python 3",
   "language": "python",
   "name": "python3"
  },
  "language_info": {
   "codemirror_mode": {
    "name": "ipython",
    "version": 3
   },
   "file_extension": ".py",
   "mimetype": "text/x-python",
   "name": "python",
   "nbconvert_exporter": "python",
   "pygments_lexer": "ipython3",
   "version": "3.4.4"
  }
 },
 "nbformat": 4,
 "nbformat_minor": 0
}
