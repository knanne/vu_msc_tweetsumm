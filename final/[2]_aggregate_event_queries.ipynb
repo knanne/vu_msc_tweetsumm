{
 "cells": [
  {
   "cell_type": "code",
   "execution_count": null,
   "metadata": {
    "collapsed": true
   },
   "outputs": [],
   "source": [
    "import pandas as pd\n",
    "import csv"
   ]
  },
  {
   "cell_type": "code",
   "execution_count": null,
   "metadata": {
    "collapsed": true
   },
   "outputs": [],
   "source": [
    "#MERGE query data to event data"
   ]
  },
  {
   "cell_type": "code",
   "execution_count": null,
   "metadata": {
    "collapsed": true
   },
   "outputs": [],
   "source": [
    "df_panama_papers = pd.read_table('data/final/query_panama_papers_data.txt', sep='\\t', encoding='utf-8', header=0)\n",
    "df_offshore = pd.read_table('data/final/query_offshore_data.txt', sep='\\t', encoding='utf-8', header=0)\n",
    "df_leak = pd.read_table('data/final/query_leak_data.txt', sep='\\t', encoding='utf-8', header=0)\n",
    "df_fonseca = pd.read_table('data/final/query_fonseca_data.txt', sep='\\t', encoding='utf-8', header=0)\n",
    "df_tax_haven = pd.read_table('data/final/query_tax_haven_data.txt', sep='\\t', encoding='utf-8', header=0)"
   ]
  },
  {
   "cell_type": "code",
   "execution_count": null,
   "metadata": {
    "collapsed": true
   },
   "outputs": [],
   "source": [
    "df_panama_papers['query'] = 'panama papers'\n",
    "df_offshore['query'] = 'offshore'\n",
    "df_leak['query'] = 'leak'\n",
    "df_fonseca['query'] = 'fonseca'\n",
    "df_tax_haven['query'] = 'tax haven'"
   ]
  },
  {
   "cell_type": "code",
   "execution_count": null,
   "metadata": {
    "collapsed": true
   },
   "outputs": [],
   "source": [
    "df = pd.concat([df_panama_papers, df_offshore, df_leak, df_fonseca, df_tax_haven])\n",
    "df.shape"
   ]
  },
  {
   "cell_type": "code",
   "execution_count": null,
   "metadata": {
    "collapsed": true
   },
   "outputs": [],
   "source": [
    "#handle event overlap between queries\n",
    "#not query specific\n",
    "df = df.drop_duplicates('id_str')\n",
    "df.shape"
   ]
  },
  {
   "cell_type": "code",
   "execution_count": null,
   "metadata": {
    "collapsed": true
   },
   "outputs": [],
   "source": [
    "#convert date format to python datetime\n",
    "df['created_at'] = pd.to_datetime(df['created_at'])"
   ]
  },
  {
   "cell_type": "code",
   "execution_count": null,
   "metadata": {
    "collapsed": true
   },
   "outputs": [],
   "source": [
    "#sort data on date posted ascending\n",
    "df = df.sort_values(by='created_at', ascending=True)"
   ]
  },
  {
   "cell_type": "code",
   "execution_count": null,
   "metadata": {
    "collapsed": true
   },
   "outputs": [],
   "source": [
    "#slice data on event dates\n",
    "df = df[(df['created_at'] >= '2016-04-02 00:00:00') & (df['created_at'] <= '2016-04-15 00:00:00')]"
   ]
  },
  {
   "cell_type": "code",
   "execution_count": null,
   "metadata": {
    "collapsed": true
   },
   "outputs": [],
   "source": [
    "#MASTER FILE"
   ]
  },
  {
   "cell_type": "code",
   "execution_count": null,
   "metadata": {
    "collapsed": true
   },
   "outputs": [],
   "source": [
    "df_master = df[['id_str', 'created_at', 'text', 'is_retweet', 'tweet_type']]"
   ]
  },
  {
   "cell_type": "code",
   "execution_count": null,
   "metadata": {
    "collapsed": true
   },
   "outputs": [],
   "source": [
    "df_master['event'] = 'Panama Papers'\n",
    "df_master['event_description'] = 'A leak of millions of documents detailing global tax evasion named “The Panama Papers”'"
   ]
  },
  {
   "cell_type": "code",
   "execution_count": null,
   "metadata": {
    "collapsed": true
   },
   "outputs": [],
   "source": [
    "df_master = df_master.reset_index()\n",
    "df_master.columns = ['master_id', 'twitter_id', 'created_at', 'text', 'is_retweet', 'tweet_type', 'event', 'event_description']"
   ]
  },
  {
   "cell_type": "code",
   "execution_count": null,
   "metadata": {
    "collapsed": true
   },
   "outputs": [],
   "source": [
    "#save id, text as master, with index\n",
    "df_master.to_csv('data/final/event_panama_papers_master.txt', sep='\\t', encoding='utf-8', header=True, index=False)"
   ]
  },
  {
   "cell_type": "code",
   "execution_count": null,
   "metadata": {
    "collapsed": true
   },
   "outputs": [],
   "source": [
    "#save sample for annotation\n",
    "#no retweets, only text\n",
    "#sample 1K\n",
    "smpl = df_master[(df_master['is_retweet'] == False) & (df_master['tweet_type'] == 'text')].sample(1000)\n",
    "#format for crowdflower import\n",
    "#delimited by ;\n",
    "#double quote strings\n",
    "smpl.to_csv('data/final/event_panama_papers_master_sample.csv', sep=',', quoting=csv.QUOTE_NONNUMERIC, encoding='utf-8', header=True, index=False)"
   ]
  }
 ],
 "metadata": {
  "kernelspec": {
   "display_name": "Python 3",
   "language": "python",
   "name": "python3"
  },
  "language_info": {
   "codemirror_mode": {
    "name": "ipython",
    "version": 3
   },
   "file_extension": ".py",
   "mimetype": "text/x-python",
   "name": "python",
   "nbconvert_exporter": "python",
   "pygments_lexer": "ipython3",
   "version": "3.4.4"
  }
 },
 "nbformat": 4,
 "nbformat_minor": 0
}
