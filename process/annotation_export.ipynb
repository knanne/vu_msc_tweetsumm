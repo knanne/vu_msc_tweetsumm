{
 "cells": [
  {
   "cell_type": "markdown",
   "metadata": {},
   "source": [
    "# Send data to CrowdFlower for crowd sourcing annotation"
   ]
  },
  {
   "cell_type": "code",
   "execution_count": 1,
   "metadata": {
    "collapsed": true
   },
   "outputs": [],
   "source": [
    "import pandas as pd\n",
    "import re\n",
    "import csv"
   ]
  },
  {
   "cell_type": "markdown",
   "metadata": {},
   "source": [
    "#### define events\n",
    "- titles, descriptions"
   ]
  },
  {
   "cell_type": "code",
   "execution_count": 2,
   "metadata": {
    "collapsed": false
   },
   "outputs": [],
   "source": [
    "event_metadata = {\n",
    "    'UEFA Champions League Final' : \"The 2016 UEFA Champions League Final was the final match of the 2015–16 UEFA Champions League, the 61st season of Europe's premier club football tournament organised by UEFA, and the 24th season since it was renamed from the European Champion Clubs' Cup to the UEFA Champions League. It was played at the San Siro stadium in Milan, Italy, on 28 May 2016,[5] between Spanish teams Real Madrid and Atlético Madrid, in a repeat of the 2014 final.\",\n",
    "    'French Open Finals' : \"The 2016 French Open was a tennis tournament played on outdoor clay courts. It was the 115th edition of the French Open and the second Grand Slam event of the year. It took place at the Stade Roland Garros from 22 May to 5 June and consisted of events for professional players in singles, doubles and mixed doubles play.\",\n",
    "    'Monaco Grand Prix' : \"The 2016 Monaco Grand Prix (formally known as the Formula 1 Grand Prix de Monaco 2016) was a Formula One motor race held on 29 May 2016 at the Circuit de Monaco, a street circuit that runs through the Principality of Monaco. It was the sixth round of the 2016 season, and marked the seventy-fourth time that the Monaco Grand Prix had been held, as well as the sixty-third time it had been held as a round of the Formula One World Championship since the series inception in 1950.\",\n",
    "    'Stanley Cup Playoffs Final Game 7' : \"The 2016 Stanley Cup playoffs of the National Hockey League (NHL) began on April 13, 2016 and ended on June 12, 2016, with the Pittsburgh Penguins defeating the San Jose Sharks four games to two in the 2016 Stanley Cup Finals.\",\n",
    "    '24 Hours of Le Mans' : \"The 84th 24 Hours of Le Mans (French: 84e 24 Heures du Mans) was an automobile endurance event held from 15 to 19 June 2016 at the Circuit de la Sarthe, Le Mans, France. It was the 84th running of the 24 Hour race organised by the Automobile Club de l'Ouest as well as the third round of the 2016 FIA World Endurance Championship.\",\n",
    "    'NBA Playoffs Finals Game 7': \"The 2016 NBA Playoffs were the postseason tournament of the National Basketball Association's 2015-16 season. The tournament ended with the Eastern Conference champion Cleveland Cavaliers defeating the Western Conference champion Golden State Warriors 4 games to 3 in the 2016 NBA Finals.\",\n",
    "    'The Next Web Conference Europe' : \"TNW Conferences are an annual set of conferences hosted by The Next Web in Amsterdam and New York. The first event took place in 2006.[10]\",\n",
    "    'Recode Code Conference' : \"Code Conference is an annual invitation-only event hosted by Recode, and takes place in Dana Point, California in late May. The conference features top industry influencers who gather for in-depth conversations about the current and future impact of digital technology on our lives — at home, at work, in our communities and the world.\",\n",
    "    'Google I/O' : \"Google I/O is an annual developer-focused conference held and organized by Google in San Francisco, California. Google I/O features highly technical, in-depth sessions focused on building web, mobile, and enterprise applications with Google and open web technologies such as Android, Chrome, Chrome OS, APIs, Google Web Toolkit, App Engine, and more.\",\n",
    "    'Apple Worldwide Developer Conference' : \"The Apple Worldwide Developers Conference (WWDC), is a conference held annually in California by Apple Inc. The conference is used by Apple to showcase its new software and technologies for software developers.\",\n",
    "    'Lenovo Tech World' : \"The 2016 Lenovo Tech World was the second edition of an annual technology conference held in San Fransisco, California. The first was held in Biejing, China in 2015, and the conference is used to showcase new technologies developed by Lenovo.\",\n",
    "    'Xbox E3' : \"The Electronic Entertainment Expo 2016, commonly known as E3 2016, was the 22nd Electronic Entertainment Expo, during which several hardware manufacturers and software developers and publishers from the video game industry presented new and upcoming products to the attendees, primarily retailers and members of the video game press. The event, organized by the Entertainment Software Association, took place at the Los Angeles Convention Center from June 14 to 16, 2016.\"\n",
    "    }"
   ]
  },
  {
   "cell_type": "markdown",
   "metadata": {},
   "source": [
    "### get summary data"
   ]
  },
  {
   "cell_type": "code",
   "execution_count": 3,
   "metadata": {
    "collapsed": false
   },
   "outputs": [
    {
     "data": {
      "text/plain": [
       "(1200, 15)"
      ]
     },
     "execution_count": 3,
     "metadata": {},
     "output_type": "execute_result"
    }
   ],
   "source": [
    "events = list(event_metadata.keys())\n",
    "\n",
    "summary_types = [\n",
    "    'engagements',\n",
    "    'pr_subevents',\n",
    "    'pr_e_subevents',\n",
    "    'prplus_e_subevents'\n",
    "    ]\n",
    "\n",
    "data = {}\n",
    "for event_name in events:\n",
    "    event_filename = re.sub(\"\\W+\", \"\", event_name.replace('/', '').strip())\n",
    "    data[event_name] = {}\n",
    "    for summary_type in summary_types:\n",
    "        d = pd.read_csv('data/final/summary/foreval_event_%s_summary_%s.txt' % (event_filename, summary_type), sep='\\t', encoding='utf-8', header=0, parse_dates=['created_at'], dtype={'twitter_id' : 'str'})\n",
    "        d['event'] = event_name\n",
    "        d['summary_type'] = summary_type\n",
    "        data[event_name][summary_type] = d\n",
    "        \n",
    "    df = pd.concat(data[event_name].values())\n",
    "    data[event_name] = df\n",
    "\n",
    "allevents = list(data.values())\n",
    "\n",
    "df = pd.concat(allevents)\n",
    "df.shape"
   ]
  },
  {
   "cell_type": "code",
   "execution_count": 4,
   "metadata": {
    "collapsed": true
   },
   "outputs": [],
   "source": [
    "df = df[['event', 'twitter_id', 'created_at', 'text']]\n",
    "\n",
    "df['description'] = df['event']\n",
    "df['description'].replace(event_metadata, inplace=True)"
   ]
  },
  {
   "cell_type": "code",
   "execution_count": 5,
   "metadata": {
    "collapsed": true
   },
   "outputs": [],
   "source": [
    "df.to_csv('data/final/summary/allsummaries_foreval.csv', sep=',', quoting=csv.QUOTE_NONNUMERIC, encoding='utf-8', header=True, index=False)"
   ]
  },
  {
   "cell_type": "code",
   "execution_count": 6,
   "metadata": {
    "collapsed": false
   },
   "outputs": [
    {
     "data": {
      "text/plain": [
       "(886, 5)"
      ]
     },
     "execution_count": 6,
     "metadata": {},
     "output_type": "execute_result"
    }
   ],
   "source": [
    "df_deduped = df.drop_duplicates(subset='twitter_id')\n",
    "df_deduped.shape"
   ]
  },
  {
   "cell_type": "code",
   "execution_count": 7,
   "metadata": {
    "collapsed": true
   },
   "outputs": [],
   "source": [
    "df_deduped.to_csv('data/final/summary/allsummaries_foreval_deduped.csv', sep=',', quoting=csv.QUOTE_NONNUMERIC, encoding='utf-8', header=True, index=False)"
   ]
  },
  {
   "cell_type": "markdown",
   "metadata": {},
   "source": [
    "# OR..."
   ]
  },
  {
   "cell_type": "markdown",
   "metadata": {},
   "source": [
    "### random samples of all data"
   ]
  },
  {
   "cell_type": "code",
   "execution_count": null,
   "metadata": {
    "collapsed": false
   },
   "outputs": [],
   "source": [
    "data = {}\n",
    "for event_name in event_metadata.keys():\n",
    "    event_filename = re.sub(\"\\W+\", \"\", event_name.strip())\n",
    "    data[event_name] = pd.read_csv('data/final/event_%s_data.txt' % event_filename, sep='\\t', encoding='utf-8', header=0, parse_dates=['created_at'], dtype={'twitter_id' : 'str'})\n",
    "    \n",
    "allevents = list(data.values())"
   ]
  },
  {
   "cell_type": "code",
   "execution_count": null,
   "metadata": {
    "collapsed": false
   },
   "outputs": [],
   "source": [
    "classified = pd.read_csv('data/final/final_data_classified.txt', sep='\\t', encoding='utf-8', header=0)\n",
    "classified.shape"
   ]
  },
  {
   "cell_type": "markdown",
   "metadata": {},
   "source": [
    "#### random sample k range x 100 rows\n",
    "- stack events by 100 rows\n",
    "- where not in already classified\n",
    "- where not in sample being created"
   ]
  },
  {
   "cell_type": "code",
   "execution_count": null,
   "metadata": {
    "collapsed": false
   },
   "outputs": [],
   "source": [
    "samples = pd.DataFrame(columns=allevents[0].columns)\n",
    "\n",
    "k = 1\n",
    "\n",
    "for i in range(k):\n",
    "    for eventdf in allevents:\n",
    "        \n",
    "        event_name = eventdf['event'].unique()[0]\n",
    "        event_classified = classified[classified['event'] == event_name]\n",
    "        eventdf = eventdf[eventdf['event_id'].isin(event_classified['event_id']) == False]\n",
    "        \n",
    "        samples = samples.append(eventdf[eventdf['twitter_id'].isin(samples['twitter_id']) == False].sample(n=100, replace=False))\n",
    "        \n",
    "samples.shape"
   ]
  },
  {
   "cell_type": "code",
   "execution_count": null,
   "metadata": {
    "collapsed": false
   },
   "outputs": [],
   "source": [
    "samples = samples[['event', 'event_id', 'twitter_id', 'created_at', 'text']]\n",
    "\n",
    "samples['description'] = samples['event']\n",
    "samples['description'].replace(event_metadata, inplace=True)"
   ]
  },
  {
   "cell_type": "code",
   "execution_count": null,
   "metadata": {
    "collapsed": false
   },
   "outputs": [],
   "source": [
    "samples.head(1)"
   ]
  },
  {
   "cell_type": "code",
   "execution_count": null,
   "metadata": {
    "collapsed": false
   },
   "outputs": [],
   "source": [
    "samples.to_csv('data/final/events_annsample_forcrowdflower5.csv', sep=',', quoting=csv.QUOTE_NONNUMERIC, encoding='utf-8', header=True, index=False)"
   ]
  }
 ],
 "metadata": {
  "kernelspec": {
   "display_name": "Python 3",
   "language": "python",
   "name": "python3"
  },
  "language_info": {
   "codemirror_mode": {
    "name": "ipython",
    "version": 3
   },
   "file_extension": ".py",
   "mimetype": "text/x-python",
   "name": "python",
   "nbconvert_exporter": "python",
   "pygments_lexer": "ipython3",
   "version": "3.4.5"
  }
 },
 "nbformat": 4,
 "nbformat_minor": 0
}
