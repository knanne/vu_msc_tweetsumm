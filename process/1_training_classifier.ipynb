{
 "cells": [
  {
   "cell_type": "markdown",
   "metadata": {},
   "source": [
    "# Modeling\n",
    "\n",
    "We model the quality of tweets as well as the likelihood of a tweet to contain news.\n",
    "\n",
    "### Feature Creation\n",
    "\n",
    "- event-independent\n",
    "    - meta\n",
    "    - content\n",
    "    - social\n",
    "        - tweet\n",
    "        - user\n",
    "    - lexical\n",
    "    - semantic\n",
    "- event-dependent\n",
    "    - time\n",
    "    - content\n",
    "    - semantic\n",
    "    \n",
    "### Evaluate Features\n",
    "\n",
    "- using $\\chi^2$ test of independence\n",
    "    \n",
    "### Setup Pipeline\n",
    "- Multinomial Naive Bayes\n",
    "    - \n",
    "- K Nearest Neighbor\n",
    "    - \n",
    "- Decision Tree\n",
    "    - Decision trees learn branching rules from features.\n",
    "- Random Forest\n",
    "    - A random forest is a collection of decision trees. Each tree is trained using a random sample of the dataset. The prediction is an average of all the predictions made by the trees.\n",
    "- Support Vector Classifier\n",
    "    - \n",
    "\n",
    "### Run Pipeline\n",
    "- specify class to predict\n",
    "    - News (0,1)\n",
    "    \n",
    "*We discard those values which were annotated as unclear and model on those which were identified as news or non-news content. This clearer sepearation in our data increase the accuracy of the model, although requires more data to be annotated.*\n",
    "\n",
    "### Results\n",
    "\n",
    "- graph each model's results by three measures\n",
    "    - Accuracy\n",
    "    - Precision\n",
    "    - Recall\n",
    "\n",
    "### Evaluate Results\n",
    "- interpretation of results\n",
    "    - Accuracy\n",
    "        - Classification accuracy is the number of correct predictions made divided by the total number of predictions made. This is studied as the jaccard similarity score.\n",
    "    - Precision\n",
    "        - fraction of correctly predictive positives to all predicted as positives: $\\frac{true positives}{true postivies + false positives}$\n",
    "    - Recall\n",
    "        - fraction of correctly predicted positives to all positives: $\\frac{true posisitves}{true positives + false negatives}$\n",
    "    - F1 Score\n",
    "        - weighted average of precision and recall, from 0 to 1: $\\frac{2 \\cdot (precision \\cdot recall)}{precision + recall}$\n",
    "\n",
    "Accepting certain results from the above can depend on application. Specifically, we try to combat the [**accuracy paradox**](https://en.wikipedia.org/wiki/Accuracy_paradox) which is relevant to datsets of unbalanced class distribution. Given a dataset of large class unbalance, the classifier will predict the dominant class majority of the time and result in high accuracy. Although this accuracry is misleading because it simply represents the underlying class distribution. Alternatively, we look at further measures of evaluation.\n",
    "\n",
    "If the applications requires high degree of certainty for those positive predictions actually being positive then **high precsion** is most important. If the application requires the prediciton of as many positive examples as possible then **high recall** will be most important. The former application could accept some positive examples being misclassified as negative and the latter could accept some negative example being misclassified as positive.\n",
    "\n",
    "For the application of event summarization on Twitter, we consider the scenario of needing learn as much newsworthy information as possible in a short amount of time. Our process should present only only that content only which is of high probability of being newsworthy and ignore that which is not. Therefore we are interested in **maximizing precision**, and can likely dismiss recall due to the volume of data we have access to.\n",
    "\n",
    "In addition to looking at precision, we apply the technique of **undersampling** to create a more balanced dataset for classifying. By simply dropping some of data from the dominant class we can boost the representation of the underrepresented class. This will in turn create a more meaninful accuracy score. This technique is available due to the volume of data we are able to annotate through crowdsourcing."
   ]
  },
  {
   "cell_type": "markdown",
   "metadata": {},
   "source": [
    "#### import tools"
   ]
  },
  {
   "cell_type": "code",
   "execution_count": 1,
   "metadata": {
    "collapsed": true
   },
   "outputs": [],
   "source": [
    "import pandas as pd\n",
    "import numpy as np\n",
    "import re\n",
    "from collections import Counter\n",
    "from sklearn.feature_extraction.text import CountVectorizer, TfidfVectorizer\n",
    "from sklearn.metrics.pairwise import pairwise_distances\n",
    "import nltk\n",
    "import html\n",
    "import string\n",
    "import ast\n",
    "from textblob import TextBlob"
   ]
  },
  {
   "cell_type": "markdown",
   "metadata": {},
   "source": [
    "#### import classification annotations"
   ]
  },
  {
   "cell_type": "code",
   "execution_count": 2,
   "metadata": {
    "collapsed": false
   },
   "outputs": [
    {
     "data": {
      "text/plain": [
       "(4798, 6)"
      ]
     },
     "execution_count": 2,
     "metadata": {},
     "output_type": "execute_result"
    }
   ],
   "source": [
    "#REAL DATA\n",
    "#cf = pd.read_csv('data/final/tweet_annotations_agg.csv', sep='\\t', encoding='utf-8', header=0)\n",
    "#cf.shape\n",
    "#REAL TEST DATA\n",
    "cf = pd.read_csv('data/final/final_data_classified.txt', sep='\\t', encoding='utf-8', header=0)\n",
    "cf.shape"
   ]
  },
  {
   "cell_type": "markdown",
   "metadata": {},
   "source": [
    "#### import event data\n",
    "- for each event name import event data\n",
    "- create dictionary of { Event Name : Pandas DataFrame }"
   ]
  },
  {
   "cell_type": "code",
   "execution_count": 3,
   "metadata": {
    "collapsed": false
   },
   "outputs": [
    {
     "data": {
      "text/plain": [
       "(1053377, 37)"
      ]
     },
     "execution_count": 3,
     "metadata": {},
     "output_type": "execute_result"
    }
   ],
   "source": [
    "data = {}\n",
    "for event_name in cf['event'].unique():\n",
    "    event_filename = re.sub(\"\\W+\", \"\", event_name.strip())\n",
    "    data[event_name] = pd.read_csv('data/final/event_%s_data.txt' % event_filename, sep='\\t', encoding='utf-8', header=0, parse_dates=['created_at'], dtype={'twitter_id' : 'str'})\n",
    "    \n",
    "allevents = list(data.values())\n",
    "\n",
    "df = pd.concat(allevents)\n",
    "df.drop_duplicates(subset='twitter_id', inplace=True)\n",
    "#df.rename(columns={'master_id' : 'event_id'}, inplace=True)\n",
    "df.shape"
   ]
  },
  {
   "cell_type": "markdown",
   "metadata": {},
   "source": [
    "#### merge annotations to data\n",
    "- using event name and event id\n",
    "- integity of twitter id was lost during annotation (crowdflower did not support such a long integer)"
   ]
  },
  {
   "cell_type": "code",
   "execution_count": 4,
   "metadata": {
    "collapsed": false
   },
   "outputs": [
    {
     "data": {
      "text/plain": [
       "(4768, 37)"
      ]
     },
     "execution_count": 4,
     "metadata": {},
     "output_type": "execute_result"
    }
   ],
   "source": [
    "df = pd.merge(df, cf[['event', 'event_id', 'news']], how='inner', on=['event', 'event_id'])\n",
    "df.shape"
   ]
  },
  {
   "cell_type": "markdown",
   "metadata": {},
   "source": [
    "#### set index"
   ]
  },
  {
   "cell_type": "code",
   "execution_count": 5,
   "metadata": {
    "collapsed": true
   },
   "outputs": [],
   "source": [
    "df.set_index('twitter_id', inplace=True)"
   ]
  },
  {
   "cell_type": "markdown",
   "metadata": {},
   "source": [
    "#### created clean text field"
   ]
  },
  {
   "cell_type": "code",
   "execution_count": 6,
   "metadata": {
    "collapsed": false
   },
   "outputs": [
    {
     "name": "stdout",
     "output_type": "stream",
     "text": [
      "Wall time: 232 ms\n"
     ]
    }
   ],
   "source": [
    "%%time\n",
    "#convert text to string\n",
    "#remove hashtag, mention symbols, any links\n",
    "df['text_clean'] = df['text'].apply(lambda text: ' '.join([(w[:w.find('http')] if 'http' in w else w) for w in html.unescape(str(text)).replace('#', '').replace('@', '').split()]))\n",
    "#initiate, apply tokenization\n",
    "tknzr = nltk.TweetTokenizer()\n",
    "df['text_clean'] = df['text_clean'].apply(lambda text: ' '.join([w.lower() for w in tknzr.tokenize(text)]))"
   ]
  },
  {
   "cell_type": "markdown",
   "metadata": {},
   "source": [
    "## feature creation"
   ]
  },
  {
   "cell_type": "markdown",
   "metadata": {},
   "source": [
    "#### feature list\n",
    "- **event-independent**\n",
    "    - **meta**\n",
    "        - source_web_client\n",
    "        - source_tweetdeck\n",
    "        - source_iphone\n",
    "        - source_android\n",
    "        - has_location\n",
    "    - **content**\n",
    "        - tweet_type\n",
    "        - possibly_sensitive\n",
    "        - count_entities_media\n",
    "        - media_per_word\n",
    "        - count_entities_urls\n",
    "        - urls_per_word\n",
    "        - count_entities_mentions\n",
    "        - mentions_per_word\n",
    "        - count_entities_hashtags\n",
    "        - hashtags_per_word\n",
    "    - **social**\n",
    "        - **tweet**\n",
    "            - is_retweet\n",
    "            - is_reply\n",
    "            - is_quoted_tweet\n",
    "            - favorite_count\n",
    "            - retweet_count\n",
    "            - engagements\n",
    "            - engagements_per_word\n",
    "            - favorite_count_eventstdz\n",
    "            - retweet_count_eventstdz\n",
    "            - engagements_count_eventstdz\n",
    "        - **user**\n",
    "            - user_default_profile\n",
    "            - user_default_profile_image\n",
    "            - user_verified\n",
    "            - user_statuses\n",
    "            - user_favourites\n",
    "            - user_followers\n",
    "            - user_friends\n",
    "            - user_listed\n",
    "            - user_bio_len\n",
    "            - user_reputation\n",
    "            - user_age_days\n",
    "            - user_follower_rate\n",
    "    - **lexical**\n",
    "        - count_characters\n",
    "        - count_non_characters\n",
    "        - count_upper\n",
    "        - count_tokens\n",
    "        - count_stops\n",
    "        - question\n",
    "        - elongation\n",
    "        - ellipsis\n",
    "        - lexical_diversity\n",
    "        - sfpp\n",
    "        - pfpp\n",
    "        - count_named_entities\n",
    "        - unique_named_entities\n",
    "        - count_parts_of_speech\n",
    "        - unique_parts_of_speech\n",
    "    - **semantic**\n",
    "        - text_sentiment_positive\n",
    "        - text_sentiment_negative\n",
    "        - text_sentiment_subjective\n",
    "- **event-dependent**\n",
    "    - **pulse**\n",
    "        - frequency_1min\n",
    "        - rollmean_frequency_win5min\n",
    "        - rollmean_frequency_deviation\n",
    "    - **content**\n",
    "        - media_weight\n",
    "        - url_weight\n",
    "        - mention_weight\n",
    "        - hashtag_weight\n",
    "    - **semantic**\n",
    "        - term_weight\n",
    "        - tfidf_sum\n",
    "        - tfidf_mean\n",
    "        - event_centroid_distance"
   ]
  },
  {
   "cell_type": "markdown",
   "metadata": {},
   "source": [
    "## Event-Independent\n",
    "### Meta"
   ]
  },
  {
   "cell_type": "code",
   "execution_count": 7,
   "metadata": {
    "collapsed": false
   },
   "outputs": [
    {
     "name": "stdout",
     "output_type": "stream",
     "text": [
      "Wall time: 28.5 ms\n"
     ]
    }
   ],
   "source": [
    "%%time\n",
    "df['source_web_client'] = df['tweet_type'].apply(lambda s: [0,1][s=='Twitter Web Client'])\n",
    "df['source_tweetdeck'] = df['tweet_type'].apply(lambda s: [0,1][s=='TweetDeck'])\n",
    "df['source_iphone'] = df['tweet_type'].apply(lambda s: [0,1][s=='Twitter for iPhone'])\n",
    "df['source_android'] = df['tweet_type'].apply(lambda s: [0,1][s=='Twitter for Android'])\n",
    "df['has_location'] = df['longitude'].apply(lambda l: [1,0][np.isnan(l)])"
   ]
  },
  {
   "cell_type": "markdown",
   "metadata": {},
   "source": [
    "### Content"
   ]
  },
  {
   "cell_type": "code",
   "execution_count": 8,
   "metadata": {
    "collapsed": false
   },
   "outputs": [
    {
     "name": "stdout",
     "output_type": "stream",
     "text": [
      "Wall time: 1.99 s\n"
     ]
    }
   ],
   "source": [
    "%%time\n",
    "df['tweet_type'] = df['tweet_type'].apply(lambda d: [0,1][d=='media'])\n",
    "df['possibly_sensitive'] = df['possibly_sensitive'].apply(lambda d: [0,1][d==True])\n",
    "\n",
    "df['count_entities_media'] = df['entities_media'].apply(lambda media: len(media))\n",
    "df['media_per_word'] = df.apply(lambda row: row['count_entities_media'] / len(row['text'].split()), axis=1)\n",
    "\n",
    "df['count_entities_urls'] = df['entities_urls'].apply(lambda urls: len(urls))\n",
    "df['urls_per_word'] = df.apply(lambda row: row['count_entities_urls'] / len(row['text'].split()), axis=1)\n",
    "\n",
    "df['count_entities_mentions'] = df['entities_mentions'].apply(lambda mentions: len(mentions))\n",
    "df['mentions_per_word'] = df.apply(lambda row: row['count_entities_mentions'] / len(row['text'].split()), axis=1)\n",
    "\n",
    "df['count_entities_hashtags'] = df['entities_hashtags'].apply(lambda tags: len(tags))\n",
    "df['hashtags_per_word'] = df.apply(lambda row: row['count_entities_hashtags'] / len(row['text'].split()), axis=1)"
   ]
  },
  {
   "cell_type": "markdown",
   "metadata": {},
   "source": [
    "### Social\n",
    "#### Tweet"
   ]
  },
  {
   "cell_type": "code",
   "execution_count": 9,
   "metadata": {
    "collapsed": false
   },
   "outputs": [
    {
     "name": "stdout",
     "output_type": "stream",
     "text": [
      "Wall time: 505 ms\n"
     ]
    }
   ],
   "source": [
    "%%time\n",
    "#created by twitter\n",
    "    #is_retweet\n",
    "    #is_reply\n",
    "    #is_quoted_tweet\n",
    "    #favorite_count\n",
    "    #retweet_count\n",
    "df['engagements'] = df['favorite_count'] + df['retweet_count']\n",
    "df['engagements_per_word'] = df.apply(lambda row: row['engagements'] / len(row['text'].split()), axis=1)\n",
    "\n",
    "#normalize tweet social data to event distribution\n",
    "#NOTE: this is only relative to training documents\n",
    "df['favorite_count'] = df.groupby('event')['favorite_count'].transform(lambda x: x / x.max())\n",
    "df['retweet_count'] = df.groupby('event')['retweet_count'].transform(lambda x: x / x.max())\n",
    "df['engagements'] = df.groupby('event')['engagements'].transform(lambda x: x / x.max())\n",
    "#df['favorite_count_eventstdz'] = df.groupby('event')['favorite_count'].transform(lambda x: (x - x.mean()) / x.std())\n",
    "#df['retweet_count_eventstdz'] = df.groupby('event')['retweet_count'].transform(lambda x: (x - x.mean()) / x.std())\n",
    "#df['engagements_eventstdz'] = df.groupby('event')['engagements'].transform(lambda x: (x - x.mean()) / x.std())"
   ]
  },
  {
   "cell_type": "markdown",
   "metadata": {},
   "source": [
    "#### User"
   ]
  },
  {
   "cell_type": "code",
   "execution_count": 10,
   "metadata": {
    "collapsed": false
   },
   "outputs": [
    {
     "name": "stdout",
     "output_type": "stream",
     "text": [
      "Wall time: 1.28 s\n"
     ]
    }
   ],
   "source": [
    "%%time\n",
    "df['user_verified'] = df['user_verified'].apply(lambda d: [0,1][d==True])\n",
    "df['user_default_profile'] = df['user_default_profile'].apply(lambda d: [0,1][d==True])\n",
    "df['user_default_profile_image'] = df['user_default_profile_image'].apply(lambda d: [0,1][d==True])\n",
    "#created by twitter\n",
    "    #user_followers\n",
    "    #user_friends\n",
    "df['user_reputation'] = df['user_followers'] / (df['user_friends'])\n",
    "df['user_reputation'].replace(np.inf, np.nan, inplace=True)\n",
    "df['user_bio_len'] = df['user_description'].apply(lambda bio: len(str(bio)))\n",
    "df['user_age_days'] = df.apply(lambda doc: (doc['created_at'] - pd.to_datetime(doc['user_created_at'])).days, axis=1)\n",
    "df['user_follower_rate'] = df['user_followers'] / df['user_age_days']\n",
    "df['user_follower_rate'].replace(np.inf, np.nan, inplace=True)"
   ]
  },
  {
   "cell_type": "markdown",
   "metadata": {},
   "source": [
    "### Lexical"
   ]
  },
  {
   "cell_type": "code",
   "execution_count": 11,
   "metadata": {
    "collapsed": false
   },
   "outputs": [
    {
     "name": "stdout",
     "output_type": "stream",
     "text": [
      "Wall time: 959 ms\n"
     ]
    }
   ],
   "source": [
    "%%time\n",
    "#create stop words list\n",
    "stop = nltk.corpus.stopwords.words('english')\n",
    "punct = list(string.punctuation)\n",
    "punct.extend(['...', '..', '…', '”', '“', '.@', 'RT'])\n",
    "stop.extend(punct)\n",
    "#create elongated regular expression (>= 3 letters in a row)\n",
    "elongation = re.compile(\"([a-zA-Z])\\\\1{2,}\")\n",
    "\n",
    "df['count_characters'] = df['text'].apply(lambda text: len(str(text)))\n",
    "df['count_non_characters'] = df['text'].apply(lambda text: len(re.sub('[\\w+!@#$%&;:,.?\\/\\-“”’`\"\\'()|]', '', text).strip()))\n",
    "df['count_upper'] = df['text'].apply(lambda text: len([l for l in ' '.join([w for w in text.split() if not w.startswith(('#', '@'))]) if l.isupper()]))\n",
    "df['count_tokens'] = df['text_clean'].apply(lambda text: len(text.split()))\n",
    "df['mean_token_length'] = df['text_clean'].apply(lambda text: np.mean([len(t) for t in text.split()]))\n",
    "df['mean_token_frequency'] = df['text_clean'].apply(lambda text: np.mean(list(Counter(text.split()).values())))\n",
    "df['count_tokens_stopped'] = df['text_clean'].apply(lambda text: len([t for t in text.split() if t not in stop]))\n",
    "df['count_stops'] = df['text_clean'].apply(lambda text: len([t for t in text.split() if t in stop]))\n",
    "df['count_question_marks'] = df['text_clean'].apply(lambda text: text.split().count('?'))\n",
    "df['elongation'] = df['text_clean'].apply(lambda text: [0,1][bool(elongation.search(text))])\n",
    "df['ellipsis'] = df['text_clean'].apply(lambda text: 1 if any(x in text for x in ('...', '…')) else 0)\n",
    "df['lexical_diversity'] = df['text_clean'].apply(lambda text: len(set(text.split())) / len(text.split()))\n",
    "\n",
    "# singular first person pronoun\n",
    "sfpp = ['i', 'i\\'m', 'me', 'mine', 'my', 'myself']\n",
    "df['sfpp'] = df['text_clean'].apply(lambda text: 1 if any(t.lower() in sfpp for t in text.split()) else 0)\n",
    "# plural first person pronoun\n",
    "pfpp = ['we', 'we\\'re', 'ours', 'our', 'ourselves']\n",
    "df['pfpp'] = df['text_clean'].apply(lambda text: 1 if any(t.lower() in pfpp for t in text.split()) else 0)"
   ]
  },
  {
   "cell_type": "markdown",
   "metadata": {
    "collapsed": true
   },
   "source": [
    "### Semantic"
   ]
  },
  {
   "cell_type": "code",
   "execution_count": 12,
   "metadata": {
    "collapsed": false
   },
   "outputs": [
    {
     "name": "stdout",
     "output_type": "stream",
     "text": [
      "Wall time: 1.97 s\n"
     ]
    }
   ],
   "source": [
    "%%time\n",
    "df['text_sentiment_polarity'] = df['text_clean'].apply(lambda text: TextBlob(str(text)).sentiment.polarity)\n",
    "df['text_sentiment_positive'] = df['text_sentiment_polarity'].apply(lambda s: [0,abs(s)][s > 0])\n",
    "df['text_sentiment_negative'] = df['text_sentiment_polarity'].apply(lambda s: [0,abs(s)][s < 0])\n",
    "df['text_sentiment_subjectivity'] = df['text_clean'].apply(lambda text: TextBlob(str(text)).sentiment.subjectivity)"
   ]
  },
  {
   "cell_type": "markdown",
   "metadata": {},
   "source": [
    "## Event-Dependent\n",
    "### Pulse"
   ]
  },
  {
   "cell_type": "code",
   "execution_count": 13,
   "metadata": {
    "collapsed": false
   },
   "outputs": [
    {
     "name": "stdout",
     "output_type": "stream",
     "text": [
      "Wall time: 19.8 s\n"
     ]
    }
   ],
   "source": [
    "%%time\n",
    "df['frequency_1min'] = np.nan\n",
    "df['rollmean_frequency_win5min'] = np.nan\n",
    "df['rollmean_frequency_deviation'] = np.nan\n",
    "\n",
    "for dfevent in allevents:\n",
    "\n",
    "    dfevent = dfevent[['twitter_id', 'created_at']]\n",
    "    \n",
    "    #event frequency distribution\n",
    "    event_dist = dfevent.set_index('created_at').groupby([pd.TimeGrouper(freq='min')])['twitter_id'].agg(['count'])\n",
    "    \n",
    "    #fill gaps\n",
    "    timeframe = pd.date_range(event_dist.index.min(), event_dist.index.max(), freq='T')\n",
    "    event_dist = event_dist.reindex(timeframe, fill_value=0)\n",
    "\n",
    "    #rolling mean and deviation from\n",
    "    event_dist['mean'] = event_dist['count'].rolling(window=5).agg(['mean'])\n",
    "    event_dist['deviation'] = event_dist['count'] - event_dist['mean']    \n",
    "\n",
    "    #create temp df of twitter ids, created_at rounded to second (for joining freq. dist. with data)\n",
    "    event_temp = dfevent[['twitter_id', 'created_at']]\n",
    "    event_temp['created_at'] = event_temp['created_at'].apply(lambda x: x.replace(second=0))\n",
    "    event_temp.set_index(['created_at'], inplace=True)\n",
    "\n",
    "    #join frequency distribution with data\n",
    "    event_dist = pd.merge(event_temp, event_dist[['count', 'mean', 'deviation']], how='left', left_index=True, right_index=True)\n",
    "    #set index back, remove rounded created at\n",
    "    event_dist.set_index('twitter_id', inplace=True)\n",
    "    \n",
    "    #normalize (or standardize) to event\n",
    "    event_dist['count'] = event_dist['count'] / event_dist['count'].max()\n",
    "    event_dist['mean'] = event_dist['mean'] / event_dist['mean'].max()\n",
    "    event_dist['deviation'] = event_dist['deviation'].apply(lambda x: [0,x][x > 0])\n",
    "    event_dist['deviation'] = event_dist['deviation'] / event_dist['deviation'].max()\n",
    "    #event_dist['count'] = (event_dist['count'] - event_dist['count'].mean()) / event_dist['count'].std()\n",
    "    #event_dist['mean'] = (event_dist['mean'] - event_dist['mean'].mean()) / event_dist['mean'].std()\n",
    "    #event_dist['deviation'] = (event_dist['deviation'] - event_dist['deviation'].mean()) / event_dist['deviation'].std()\n",
    "    #rename columns\n",
    "    event_dist.columns = ['frequency_1min','rollmean_frequency_win5min','rollmean_frequency_deviation']\n",
    "    \n",
    "    #update data cols with event dist. data (join on twitter id)\n",
    "    df.update(event_dist)"
   ]
  },
  {
   "cell_type": "markdown",
   "metadata": {},
   "source": [
    "### Content & Semantic"
   ]
  },
  {
   "cell_type": "code",
   "execution_count": 14,
   "metadata": {
    "collapsed": false,
    "scrolled": true
   },
   "outputs": [
    {
     "name": "stderr",
     "output_type": "stream",
     "text": [
      "c:\\miniconda3\\lib\\site-packages\\ipykernel\\__main__.py:13: SettingWithCopyWarning: \n",
      "A value is trying to be set on a copy of a slice from a DataFrame.\n",
      "Try using .loc[row_indexer,col_indexer] = value instead\n",
      "\n",
      "See the caveats in the documentation: http://pandas.pydata.org/pandas-docs/stable/indexing.html#indexing-view-versus-copy\n",
      "c:\\miniconda3\\lib\\site-packages\\ipykernel\\__main__.py:14: SettingWithCopyWarning: \n",
      "A value is trying to be set on a copy of a slice from a DataFrame.\n",
      "Try using .loc[row_indexer,col_indexer] = value instead\n",
      "\n",
      "See the caveats in the documentation: http://pandas.pydata.org/pandas-docs/stable/indexing.html#indexing-view-versus-copy\n",
      "c:\\miniconda3\\lib\\site-packages\\ipykernel\\__main__.py:20: SettingWithCopyWarning: \n",
      "A value is trying to be set on a copy of a slice from a DataFrame.\n",
      "Try using .loc[row_indexer,col_indexer] = value instead\n",
      "\n",
      "See the caveats in the documentation: http://pandas.pydata.org/pandas-docs/stable/indexing.html#indexing-view-versus-copy\n",
      "c:\\miniconda3\\lib\\site-packages\\ipykernel\\__main__.py:21: SettingWithCopyWarning: \n",
      "A value is trying to be set on a copy of a slice from a DataFrame.\n",
      "Try using .loc[row_indexer,col_indexer] = value instead\n",
      "\n",
      "See the caveats in the documentation: http://pandas.pydata.org/pandas-docs/stable/indexing.html#indexing-view-versus-copy\n",
      "c:\\miniconda3\\lib\\site-packages\\ipykernel\\__main__.py:28: SettingWithCopyWarning: \n",
      "A value is trying to be set on a copy of a slice from a DataFrame.\n",
      "Try using .loc[row_indexer,col_indexer] = value instead\n",
      "\n",
      "See the caveats in the documentation: http://pandas.pydata.org/pandas-docs/stable/indexing.html#indexing-view-versus-copy\n",
      "c:\\miniconda3\\lib\\site-packages\\ipykernel\\__main__.py:29: SettingWithCopyWarning: \n",
      "A value is trying to be set on a copy of a slice from a DataFrame.\n",
      "Try using .loc[row_indexer,col_indexer] = value instead\n",
      "\n",
      "See the caveats in the documentation: http://pandas.pydata.org/pandas-docs/stable/indexing.html#indexing-view-versus-copy\n",
      "c:\\miniconda3\\lib\\site-packages\\ipykernel\\__main__.py:36: SettingWithCopyWarning: \n",
      "A value is trying to be set on a copy of a slice from a DataFrame.\n",
      "Try using .loc[row_indexer,col_indexer] = value instead\n",
      "\n",
      "See the caveats in the documentation: http://pandas.pydata.org/pandas-docs/stable/indexing.html#indexing-view-versus-copy\n",
      "c:\\miniconda3\\lib\\site-packages\\ipykernel\\__main__.py:37: SettingWithCopyWarning: \n",
      "A value is trying to be set on a copy of a slice from a DataFrame.\n",
      "Try using .loc[row_indexer,col_indexer] = value instead\n",
      "\n",
      "See the caveats in the documentation: http://pandas.pydata.org/pandas-docs/stable/indexing.html#indexing-view-versus-copy\n",
      "c:\\miniconda3\\lib\\site-packages\\ipykernel\\__main__.py:44: SettingWithCopyWarning: \n",
      "A value is trying to be set on a copy of a slice from a DataFrame.\n",
      "Try using .loc[row_indexer,col_indexer] = value instead\n",
      "\n",
      "See the caveats in the documentation: http://pandas.pydata.org/pandas-docs/stable/indexing.html#indexing-view-versus-copy\n",
      "c:\\miniconda3\\lib\\site-packages\\ipykernel\\__main__.py:45: SettingWithCopyWarning: \n",
      "A value is trying to be set on a copy of a slice from a DataFrame.\n",
      "Try using .loc[row_indexer,col_indexer] = value instead\n",
      "\n",
      "See the caveats in the documentation: http://pandas.pydata.org/pandas-docs/stable/indexing.html#indexing-view-versus-copy\n",
      "c:\\miniconda3\\lib\\site-packages\\ipykernel\\__main__.py:52: SettingWithCopyWarning: \n",
      "A value is trying to be set on a copy of a slice from a DataFrame.\n",
      "Try using .loc[row_indexer,col_indexer] = value instead\n",
      "\n",
      "See the caveats in the documentation: http://pandas.pydata.org/pandas-docs/stable/indexing.html#indexing-view-versus-copy\n"
     ]
    },
    {
     "name": "stdout",
     "output_type": "stream",
     "text": [
      "Wall time: 4min 32s\n"
     ]
    },
    {
     "name": "stderr",
     "output_type": "stream",
     "text": [
      "c:\\miniconda3\\lib\\site-packages\\ipykernel\\__main__.py:53: SettingWithCopyWarning: \n",
      "A value is trying to be set on a copy of a slice from a DataFrame.\n",
      "Try using .loc[row_indexer,col_indexer] = value instead\n",
      "\n",
      "See the caveats in the documentation: http://pandas.pydata.org/pandas-docs/stable/indexing.html#indexing-view-versus-copy\n"
     ]
    }
   ],
   "source": [
    "%%time\n",
    "df['media_weight'] = np.nan\n",
    "df['url_weight'] = np.nan\n",
    "df['mention_weight'] = np.nan\n",
    "df['hashtag_weight'] = np.nan\n",
    "df['term_weight'] = np.nan\n",
    "df['tfidf_mean'] = np.nan\n",
    "df['event_centroid_distance'] = np.nan\n",
    "\n",
    "for dfevent in allevents:\n",
    "    dfevent = dfevent[['twitter_id', 'text', 'entities_media', 'entities_urls', 'entities_mentions', 'entities_hashtags']]\n",
    "\n",
    "    #clean text\n",
    "    dfevent['text_clean'] = dfevent['text'].apply(lambda text: ' '.join([(w[:w.find('http')] if 'http' in w else w) for w in html.unescape(str(text)).replace('#', '').replace('@', '').split()]))\n",
    "    dfevent['text_clean'] = dfevent['text_clean'].apply(lambda text: ' '.join([w.lower() for w in tknzr.tokenize(text)]))\n",
    "\n",
    "    #media weight\n",
    "    entities_lists = dfevent['entities_media'].apply(lambda entities: ast.literal_eval(entities)).values\n",
    "    allentities = [e.lower() for elist in entities_lists for e in elist]\n",
    "    entity_counts = Counter(allentities)\n",
    "    dfevent['media_weight'] = dfevent['entities_media'].apply(lambda entities: sum([entity_counts.get(e.lower()) for e in ast.literal_eval(entities)]))\n",
    "    dfevent['media_weight'] = dfevent['media_weight'] / dfevent['media_weight'].max()\n",
    "    #dfevent['media_weight'] = (dfevent['media_weight'] - dfevent['media_weight'].mean()) / dfevent['media_weight'].std()\n",
    "\n",
    "    #url weight\n",
    "    entities_lists = dfevent['entities_urls'].apply(lambda entities: ast.literal_eval(entities)).values\n",
    "    allentities = [e.lower() for elist in entities_lists for e in elist]\n",
    "    entity_counts = Counter(allentities)\n",
    "    dfevent['url_weight'] = dfevent['entities_urls'].apply(lambda entities: sum([entity_counts.get(e.lower()) for e in ast.literal_eval(entities)]))\n",
    "    dfevent['url_weight'] = dfevent['url_weight'] / dfevent['url_weight'].max()\n",
    "    #dfevent['url_weight'] = (dfevent['url_weight'] - dfevent['url_weight'].mean()) / dfevent['url_weight'].std()\n",
    "\n",
    "    #mention weight\n",
    "    entities_lists = dfevent['entities_mentions'].apply(lambda entities: ast.literal_eval(entities)).values\n",
    "    allentities = [e.lower() for elist in entities_lists for e in elist]\n",
    "    entity_counts = Counter(allentities)\n",
    "    dfevent['mention_weight'] = dfevent['entities_mentions'].apply(lambda entities: sum([entity_counts.get(e.lower()) for e in ast.literal_eval(entities)]))\n",
    "    dfevent['mention_weight'] = dfevent['mention_weight'] / dfevent['mention_weight'].max()\n",
    "    #dfevent['mention_weight'] = (dfevent['mention_weight'] - dfevent['mention_weight'].mean()) / dfevent['mention_weight'].std()\n",
    "\n",
    "    #hashtag weight\n",
    "    entities_lists = dfevent['entities_hashtags'].apply(lambda entities: ast.literal_eval(entities)).values\n",
    "    allentities = [e.lower() for elist in entities_lists for e in elist]\n",
    "    entity_counts = Counter(allentities)\n",
    "    dfevent['hashtag_weight'] = dfevent['entities_hashtags'].apply(lambda entities: sum([entity_counts.get(e.lower()) for e in ast.literal_eval(entities)]))\n",
    "    dfevent['hashtag_weight'] = dfevent['hashtag_weight'] / dfevent['mention_weight'].max()\n",
    "    #dfevent['hashtag_weight'] = (dfevent['hashtag_weight'] - dfevent['hashtag_weight'].mean()) / dfevent['mention_weight'].std()\n",
    "   \n",
    "    #term weight\n",
    "    tweets = [str(d) for d in dfevent['text_clean']]\n",
    "    tokens = [w for t in tweets for w in t.split() if w not in stop] \n",
    "    token_counts = Counter(tokens)\n",
    "    dfevent['term_weight'] = dfevent['text_clean'].apply(lambda text: sum([token_counts.get(t) for t in text.split() if t not in stop]))\n",
    "    dfevent['term_weight'] = dfevent['term_weight'] / dfevent['term_weight'].max()\n",
    "    #dfevent['term_weight'] = (dfevent['term_weight'] - dfevent['term_weight'].mean()) / dfevent['term_weight'].std()\n",
    "        \n",
    "    tfidf_vectorizer = TfidfVectorizer(stop_words='english', max_features=500)\n",
    "    xtfidf = tfidf_vectorizer.fit_transform(dfevent['text_clean'])\n",
    "\n",
    "    #tfidf mean\n",
    "    xtfidf_means = xtfidf.mean(axis=1)\n",
    "    xtfidf_means = pd.DataFrame(xtfidf_means, columns=['tfidf_mean'])\n",
    "    xtfidf_means['tfidf_mean'] = xtfidf_means['tfidf_mean'] / xtfidf_means['tfidf_mean'].max()\n",
    "    dfevent = pd.merge(dfevent, xtfidf_means, how='inner', left_index=True, right_index=True)\n",
    "    \n",
    "    #tfidf centroid distance\n",
    "    xtfidf_centroid = xtfidf.mean(axis=0)\n",
    "    xtfidf_cosdistance = pairwise_distances(X=xtfidf, Y=xtfidf_centroid, metric='cosine')\n",
    "    xtfidf_cosdistance = pd.DataFrame(xtfidf_cosdistance, columns=['event_centroid_distance'])\n",
    "    xtfidf_cosdistance['event_centroid_distance'] = xtfidf_cosdistance['event_centroid_distance'] / xtfidf_cosdistance['event_centroid_distance'].max()\n",
    "    dfevent = pd.merge(dfevent, xtfidf_cosdistance, how='inner', left_index=True, right_index=True)\n",
    "    \n",
    "    #set index back to twitter id\n",
    "    dfevent.set_index('twitter_id', inplace=True)\n",
    "    \n",
    "    #update columns in dataframe, on index (twitter_id)\n",
    "    df.update(dfevent)"
   ]
  },
  {
   "cell_type": "markdown",
   "metadata": {
    "collapsed": true
   },
   "source": [
    "### Parts of Speech & Named Entities\n",
    "- using Stanford's [NERtagger](http://nlp.stanford.edu/software/CRF-NER.shtml) and [POStagger](http://nlp.stanford.edu/software/tagger.shtml) \n",
    "- interfacing through [NLTK python port](http://www.nltk.org/api/nltk.tag.html#nltk.tag.stanford.StanfordNERTagger)\n",
    "- basic implementation of using Stanford NER Tagger on Tweets\n",
    "    - with decode html characters (e.g. \"&amp;\")\n",
    "    - and remove hashtag, mention signs from entities\n",
    "\n",
    "```python\n",
    "import nltk\n",
    "import html\n",
    "from nltk.tag import StanfordNERTagger\n",
    "\n",
    "tknzr = nltk.TweetTokenizer()\n",
    "stanford_NER = StanfordNERTagger('english.all.3class.distsim.crf.ser.gz')\n",
    "\n",
    "tweet = '.@DonaldTrump is a schmuck. He is in Iowa, with @HillaryClinton talking about bananas on @CNN. #Tweeting'\n",
    "\n",
    "tokens = tknzr.tokenize(html.unescape(str(tweet)).replace('#', '').replace('@', ''))\n",
    "\n",
    "ner = stanford_ner.tag(tokens)\n",
    "print(ner)\n",
    "```\n",
    "\n",
    "**result: **\n",
    "[('.', 'O'),\n",
    " ('DonaldTrump', 'PERSON'),\n",
    " ('is', 'O'),\n",
    " ('a', 'O'),\n",
    " ('schmuck', 'O'),\n",
    " ('.', 'O'),\n",
    " ('He', 'O'),\n",
    " ('is', 'O'),\n",
    " ('in', 'O'),\n",
    " ('Iowa', 'LOCATION'),\n",
    " (',', 'O'),\n",
    " ('with', 'O'),\n",
    " ('HillaryClinton', 'PERSON'),\n",
    " ('talking', 'O'),\n",
    " ('about', 'O'),\n",
    " ('bananas', 'O'),\n",
    " ('on', 'O'),\n",
    " ('CNN', 'ORGANIZATION'),\n",
    " ('.', 'O'),\n",
    " ('Tweeting', 'O')]"
   ]
  },
  {
   "cell_type": "code",
   "execution_count": 15,
   "metadata": {
    "collapsed": true
   },
   "outputs": [],
   "source": [
    "import nltk\n",
    "from nltk.tag import StanfordNERTagger, StanfordPOSTagger\n",
    "from nltk.internals import find_jars_within_path\n",
    "tknzr = nltk.TweetTokenizer()"
   ]
  },
  {
   "cell_type": "markdown",
   "metadata": {},
   "source": [
    "#### named entities\n",
    "- NOTE: used temp hack to get this working on windows see [github issue](https://github.com/nltk/nltk/issues/1237) and [stackoverflow responses](http://stackoverflow.com/questions/34361725/nltk-stanfordnertagger-noclassdeffounderror-org-slf4j-loggerfactory-in-windo/34403741#34403741)"
   ]
  },
  {
   "cell_type": "code",
   "execution_count": 16,
   "metadata": {
    "collapsed": true
   },
   "outputs": [],
   "source": [
    "stanford_NER = StanfordNERTagger('english.all.3class.distsim.crf.ser.gz')\n",
    "#NEEDED - temp hack fix until nltk update\n",
    "stanford_dir = stanford_NER._stanford_jar.rpartition('\\\\')[0] #gets existing jar directory\n",
    "stanford_jars = find_jars_within_path(stanford_dir) #finds all jars in directory and subdirectories\n",
    "stanford_NER._stanford_jar = ';'.join(stanford_jars) #join paths add all jars"
   ]
  },
  {
   "cell_type": "code",
   "execution_count": 17,
   "metadata": {
    "collapsed": false,
    "scrolled": true
   },
   "outputs": [
    {
     "name": "stdout",
     "output_type": "stream",
     "text": [
      "Wall time: 4h 13min 42s\n"
     ]
    }
   ],
   "source": [
    "%%time\n",
    "def getNE(tweet):\n",
    "    tokens = tknzr.tokenize(html.unescape(str(tweet)).replace('#', '').replace('@', ''))\n",
    "    ner = stanford_NER.tag(tokens)\n",
    "    return dict(ne for ne in ner if ne[1] != 'O')\n",
    "\n",
    "df['named_entities'] = df['text'].apply(lambda text: getNE(text))\n",
    "df['count_named_entities'] = df['named_entities'].apply(lambda ne: len(ne))\n",
    "df['unique_named_entities'] = df['named_entities'].apply(lambda ne: len(set(ne.values())))"
   ]
  },
  {
   "cell_type": "markdown",
   "metadata": {},
   "source": [
    "#### expand/flatten named entities as features"
   ]
  },
  {
   "cell_type": "code",
   "execution_count": 18,
   "metadata": {
    "collapsed": false
   },
   "outputs": [
    {
     "name": "stdout",
     "output_type": "stream",
     "text": [
      "Wall time: 20.4 s\n"
     ]
    }
   ],
   "source": [
    "%%time\n",
    "all_nes = []\n",
    "for _,doc in df.iterrows():\n",
    "    all_nes.extend(list(doc['named_entities'].values()))\n",
    "\n",
    "all_nes = list(set(all_nes))\n",
    "\n",
    "#initialize empty dataframe, twitter_id by nes type columns, filled with 0's\n",
    "df_nes = pd.DataFrame(data=0, index=df.index, columns=all_nes)\n",
    "\n",
    "for twitter_id,tweet in df.iterrows():\n",
    "    \n",
    "    #get nes type counts\n",
    "    nes_counts = dict(Counter(list(dict(tweet['named_entities']).values())))\n",
    "    \n",
    "    #transform tweet nes type counts to uniform dataframe row\n",
    "    nes_dict = dict.fromkeys(all_nes)\n",
    "    for e in nes_counts.keys():\n",
    "        nes_dict[e] = nes_counts.get(e)\n",
    "    row = pd.Series(nes_dict, index=all_nes)\n",
    "    row = pd.DataFrame(row).T\n",
    "\n",
    "    #update nes feature dataframe\n",
    "    row['twitter_id'] = twitter_id\n",
    "    row.set_index('twitter_id', inplace=True)\n",
    "    df_nes.update(row)\n",
    "\n",
    "#rename cols in nes feature dataframe, merge to data as columns\n",
    "df_nes.columns = ['nes_cnt_'+nes for nes in all_nes]\n",
    "df = pd.merge(df, df_nes, left_index=True, right_index=True)"
   ]
  },
  {
   "cell_type": "markdown",
   "metadata": {
    "collapsed": true
   },
   "source": [
    "#### parts of speech\n",
    "- NOTE: used temp hack to get this working on windows see [github issue](https://github.com/nltk/nltk/issues/1237) and [stackoverflow responses](http://stackoverflow.com/questions/34361725/nltk-stanfordnertagger-noclassdeffounderror-org-slf4j-loggerfactory-in-windo/34403741#34403741)"
   ]
  },
  {
   "cell_type": "code",
   "execution_count": 19,
   "metadata": {
    "collapsed": true
   },
   "outputs": [],
   "source": [
    "#stanford_POS = StanfordPOSTagger('english-bidirectional-distsim.tagger')\n",
    "##NEEDED - temp hack fix until nltk update\n",
    "#stanford_dir = stanford_POS._stanford_jar.rpartition('\\\\')[0] #gets existing jar directory\n",
    "#stanford_jars = find_jars_within_path(stanford_dir) #finds all jars in directory and subdirectories\n",
    "#stanford_POS._stanford_jar = ';'.join(stanford_jars) #join paths add all jars"
   ]
  },
  {
   "cell_type": "code",
   "execution_count": 20,
   "metadata": {
    "collapsed": false
   },
   "outputs": [],
   "source": [
    "#%%time\n",
    "#def getPOS(tweet):\n",
    "#    tokens = tknzr.tokenize(html.unescape(str(tweet)).replace('#', '').replace('@', ''))\n",
    "#    pos = stanford_POS.tag(tokens)\n",
    "#    return dict(pos)\n",
    "#\n",
    "#df['parts_of_speech'] = df['text'].apply(lambda text: getPOS(text))\n",
    "#df['count_parts_of_speech'] = df['parts_of_speech'].apply(lambda pos: len(pos))\n",
    "#df['unique_parts_of_speech'] = df['parts_of_speech'].apply(lambda pos: len(set(pos.values())))"
   ]
  },
  {
   "cell_type": "markdown",
   "metadata": {},
   "source": [
    "#### expand/flatten parts of speech as features"
   ]
  },
  {
   "cell_type": "code",
   "execution_count": 21,
   "metadata": {
    "collapsed": false
   },
   "outputs": [],
   "source": [
    "#%%time\n",
    "#all_pos = []\n",
    "#for _,doc in df.iterrows():\n",
    "#    all_pos.extend(list(doc['parts_of_speech'].values()))\n",
    "#\n",
    "#all_pos = list(set(all_pos))\n",
    "#\n",
    "##initialize empty dataframe, twitter_id by pos type columns, filled with 0's\n",
    "#df_pos = pd.DataFrame(data=0, index=df.index, columns=all_pos)\n",
    "#\n",
    "#for twitter_id,tweet in df.iterrows():\n",
    "#    \n",
    "#    #get pos type counts\n",
    "#    pos_counts = dict(Counter(list(dict(tweet['parts_of_speech']).values())))\n",
    "#    \n",
    "#    #transform tweet pos type counts to uniform dataframe row\n",
    "#    pos_dict = dict.fromkeys(all_pos)\n",
    "#    for p in pos_counts.keys():\n",
    "#        pos_dict[p] = pos_counts.get(p)\n",
    "#    row = pd.Series(pos_dict, index=all_pos)\n",
    "#    row = pd.DataFrame(row).T\n",
    "#\n",
    "#    #update pos feature dataframe\n",
    "#    row['twitter_id'] = twitter_id\n",
    "#    row.set_index('twitter_id', inplace=True)\n",
    "#    df_pos.update(row)\n",
    "#\n",
    "##rename cols in pos feature dataframe, merge to data as columns\n",
    "#df_pos.columns = ['pos_cnt_'+pos for pos in all_pos]\n",
    "#df = pd.merge(df, df_pos, left_index=True, right_index=True)"
   ]
  },
  {
   "cell_type": "markdown",
   "metadata": {},
   "source": [
    "### Save Features"
   ]
  },
  {
   "cell_type": "code",
   "execution_count": 22,
   "metadata": {
    "collapsed": false
   },
   "outputs": [],
   "source": [
    "#df.reset_index().to_csv('data/final/tweetdata_modelfeatures_FINAL.csv', sep='\\t', encoding='utf-8', header=True, index=False)"
   ]
  },
  {
   "cell_type": "markdown",
   "metadata": {},
   "source": [
    "### Import Features"
   ]
  },
  {
   "cell_type": "code",
   "execution_count": 23,
   "metadata": {
    "collapsed": false
   },
   "outputs": [],
   "source": [
    "#df = pd.read_csv('data/final/tweetdata_modelfeatures_FINAL.csv', sep='\\t', encoding='utf-8', header=0)"
   ]
  },
  {
   "cell_type": "code",
   "execution_count": 65,
   "metadata": {
    "collapsed": false
   },
   "outputs": [
    {
     "data": {
      "text/plain": [
       "(3742, 91)"
      ]
     },
     "execution_count": 65,
     "metadata": {},
     "output_type": "execute_result"
    }
   ],
   "source": [
    "df.shape"
   ]
  },
  {
   "cell_type": "code",
   "execution_count": 25,
   "metadata": {
    "collapsed": false
   },
   "outputs": [],
   "source": [
    "df.drop(df[df['user_friends'] < 0].index, inplace=True)"
   ]
  },
  {
   "cell_type": "code",
   "execution_count": 26,
   "metadata": {
    "collapsed": false
   },
   "outputs": [],
   "source": [
    "df = df[df['news'] != .5]"
   ]
  },
  {
   "cell_type": "code",
   "execution_count": 180,
   "metadata": {
    "collapsed": false
   },
   "outputs": [
    {
     "data": {
      "text/plain": [
       "(3619, 91)"
      ]
     },
     "execution_count": 180,
     "metadata": {},
     "output_type": "execute_result"
    }
   ],
   "source": [
    "df.drop_duplicates(subset='text_clean', keep='first', inplace=True)\n",
    "df.shape"
   ]
  },
  {
   "cell_type": "code",
   "execution_count": 179,
   "metadata": {
    "collapsed": false
   },
   "outputs": [],
   "source": [
    "df.drop(df[df['text_clean'].str.contains('lenovo jeep')].index, inplace=True)\n",
    "df.drop(df[df['text_clean'].str.contains('banana sandwich')].index, inplace=True)\n",
    "df.drop(df[df['text_clean'].str.contains('the latest')].index, inplace=True)\n",
    "df.drop(df[df['text_clean'].str.contains('my team ! who')].index, inplace=True)"
   ]
  },
  {
   "cell_type": "markdown",
   "metadata": {
    "collapsed": true
   },
   "source": [
    "## Evaluate Features"
   ]
  },
  {
   "cell_type": "code",
   "execution_count": 28,
   "metadata": {
    "collapsed": false
   },
   "outputs": [
    {
     "data": {
      "text/plain": [
       "(3742, 90)"
      ]
     },
     "execution_count": 28,
     "metadata": {},
     "output_type": "execute_result"
    }
   ],
   "source": [
    "df.shape"
   ]
  },
  {
   "cell_type": "code",
   "execution_count": 540,
   "metadata": {
    "collapsed": false
   },
   "outputs": [
    {
     "name": "stdout",
     "output_type": "stream",
     "text": [
      "FEATURES: 58\n"
     ]
    }
   ],
   "source": [
    "x = [\n",
    " 'tweet_type',\n",
    " 'possibly_sensitive',\n",
    " 'user_default_profile',\n",
    " 'user_default_profile_image',\n",
    " 'user_verified',\n",
    " 'user_statuses',\n",
    " 'user_favourites',\n",
    " 'user_followers',\n",
    " 'user_friends',\n",
    " 'user_listed',\n",
    " 'source_web_client',\n",
    " 'source_tweetdeck',\n",
    " 'source_iphone',\n",
    " 'source_android',\n",
    " 'has_location',\n",
    " 'count_entities_media',\n",
    " 'media_per_word',\n",
    " 'count_entities_urls',\n",
    " 'urls_per_word',\n",
    " 'count_entities_mentions',\n",
    " 'mentions_per_word',\n",
    " 'count_entities_hashtags',\n",
    " 'hashtags_per_word',\n",
    " 'favorite_count',\n",
    " 'retweet_count',\n",
    " 'engagements',\n",
    " 'engagements_per_word',\n",
    " 'user_bio_len',\n",
    " 'user_reputation',\n",
    " 'user_age_days',\n",
    " 'user_follower_rate',\n",
    " 'count_characters',\n",
    " 'count_non_characters',\n",
    " 'count_upper',\n",
    " 'count_tokens',\n",
    " 'mean_token_length',\n",
    " 'mean_token_frequency',\n",
    " 'count_tokens_stopped',\n",
    " 'count_stops',\n",
    " 'count_question_marks',\n",
    " 'elongation',\n",
    " 'ellipsis',\n",
    " 'lexical_diversity',\n",
    " 'sfpp',\n",
    " 'pfpp',\n",
    " 'text_sentiment_positive',\n",
    " 'text_sentiment_negative',\n",
    " 'text_sentiment_subjectivity',\n",
    " 'frequency_1min',\n",
    " 'rollmean_frequency_win5min',\n",
    " 'rollmean_frequency_deviation',\n",
    " 'media_weight',\n",
    " 'url_weight',\n",
    " 'mention_weight',\n",
    " 'hashtag_weight',\n",
    " 'term_weight',\n",
    " 'tfidf_mean',\n",
    " 'event_centroid_distance',\n",
    " #'count_named_entities',\n",
    " #'unique_named_entities',\n",
    " #'nes_cnt_LOCATION',\n",
    " #'nes_cnt_ORGANIZATION',\n",
    " #'nes_cnt_PERSON',\n",
    " #'count_parts_of_speech',\n",
    " #'unique_parts_of_speech',\n",
    " #'pos_cnt_TO',\n",
    " #'pos_cnt_RBR',\n",
    " #'pos_cnt_MD',\n",
    " #'pos_cnt_POS',\n",
    " #'pos_cnt_``',\n",
    " #'pos_cnt_,',\n",
    " #'pos_cnt_NNPS',\n",
    " #'pos_cnt_VBN',\n",
    " #'pos_cnt_PRP$',\n",
    " #'pos_cnt_WDT',\n",
    " #'pos_cnt_WP',\n",
    " #'pos_cnt_VBP',\n",
    " #'pos_cnt_$',\n",
    " #'pos_cnt_WRB',\n",
    " #\"pos_cnt_''\",\n",
    " #'pos_cnt_DT',\n",
    " #'pos_cnt_UH',\n",
    " #'pos_cnt_EX',\n",
    " #'pos_cnt_VBG',\n",
    " #'pos_cnt_JJ',\n",
    " #'pos_cnt_NNS',\n",
    " #'pos_cnt_VBZ',\n",
    " #'pos_cnt_:',\n",
    " #'pos_cnt_FW',\n",
    " #'pos_cnt_PRP',\n",
    " #'pos_cnt_CD',\n",
    " #'pos_cnt_VBD',\n",
    " #'pos_cnt_JJS',\n",
    " #'pos_cnt_SYM',\n",
    " #'pos_cnt_VB',\n",
    " #'pos_cnt_.',\n",
    " #'pos_cnt_PDT',\n",
    " #'pos_cnt_IN',\n",
    " #'pos_cnt_RB',\n",
    " #'pos_cnt_RP',\n",
    " #'pos_cnt_NN',\n",
    " #'pos_cnt_JJR',\n",
    " #'pos_cnt_NNP',\n",
    " #'pos_cnt_CC'\n",
    "]\n",
    "\n",
    "print('FEATURES: %s' % len(x))"
   ]
  },
  {
   "cell_type": "markdown",
   "metadata": {},
   "source": [
    "#### normalize\n",
    "- features already normalized to event, will not be changed"
   ]
  },
  {
   "cell_type": "code",
   "execution_count": 244,
   "metadata": {
    "collapsed": false
   },
   "outputs": [],
   "source": [
    "df[x] = df[x].apply(lambda x: x / x.max(), axis=0)"
   ]
  },
  {
   "cell_type": "markdown",
   "metadata": {},
   "source": [
    "#### fill NaN"
   ]
  },
  {
   "cell_type": "code",
   "execution_count": 245,
   "metadata": {
    "collapsed": false
   },
   "outputs": [],
   "source": [
    "df[x] = df[x].fillna(0)\n",
    "df[x] = df[x].replace(np.inf, 0)"
   ]
  },
  {
   "cell_type": "markdown",
   "metadata": {},
   "source": [
    "### Feature Importances\n",
    "- NOTE: all features are positive\n",
    "- use below to check for negative columns\n",
    "    - returns False is column contains negative value\n",
    "```\n",
    "(df >= 0).all(0)\n",
    "```"
   ]
  },
  {
   "cell_type": "code",
   "execution_count": 246,
   "metadata": {
    "collapsed": true
   },
   "outputs": [],
   "source": [
    "import sklearn"
   ]
  },
  {
   "cell_type": "markdown",
   "metadata": {},
   "source": [
    "#### ANOVA F-Score\n",
    "- f-score\n",
    "- p-value"
   ]
  },
  {
   "cell_type": "code",
   "execution_count": 33,
   "metadata": {
    "collapsed": false
   },
   "outputs": [],
   "source": [
    "#fscores = sklearn.feature_selection.f_classif(df[x], df['news'])"
   ]
  },
  {
   "cell_type": "code",
   "execution_count": 34,
   "metadata": {
    "collapsed": false
   },
   "outputs": [],
   "source": [
    "#fscores = pd.DataFrame.from_records(fscores, index=['f-score', 'p-value'], columns=x).T"
   ]
  },
  {
   "cell_type": "code",
   "execution_count": 35,
   "metadata": {
    "collapsed": false
   },
   "outputs": [],
   "source": [
    "#fscores[fscores['p-value'] < .05].sort_values(by='p-value')"
   ]
  },
  {
   "cell_type": "markdown",
   "metadata": {},
   "source": [
    "#### Chi-Squared\n",
    "- $\\chi^2$\n",
    "- p-value"
   ]
  },
  {
   "cell_type": "code",
   "execution_count": 554,
   "metadata": {
    "collapsed": false
   },
   "outputs": [],
   "source": [
    "chi2 = sklearn.feature_selection.chi2(df[x], df['news'])\n",
    "chi2 = pd.DataFrame.from_records(chi2, index=['x-square', 'p-value'], columns=x).T"
   ]
  },
  {
   "cell_type": "code",
   "execution_count": 555,
   "metadata": {
    "collapsed": false
   },
   "outputs": [
    {
     "data": {
      "text/html": [
       "<div>\n",
       "<table border=\"1\" class=\"dataframe\">\n",
       "  <thead>\n",
       "    <tr style=\"text-align: right;\">\n",
       "      <th></th>\n",
       "      <th>x-square</th>\n",
       "      <th>p-value</th>\n",
       "    </tr>\n",
       "  </thead>\n",
       "  <tbody>\n",
       "    <tr>\n",
       "      <th>user_verified</th>\n",
       "      <td>103.778999</td>\n",
       "      <td>2.261901e-24</td>\n",
       "    </tr>\n",
       "    <tr>\n",
       "      <th>sfpp</th>\n",
       "      <td>97.291607</td>\n",
       "      <td>5.983341e-23</td>\n",
       "    </tr>\n",
       "    <tr>\n",
       "      <th>hashtag_weight</th>\n",
       "      <td>26.171015</td>\n",
       "      <td>3.124778e-07</td>\n",
       "    </tr>\n",
       "    <tr>\n",
       "      <th>term_weight</th>\n",
       "      <td>24.331821</td>\n",
       "      <td>8.108837e-07</td>\n",
       "    </tr>\n",
       "    <tr>\n",
       "      <th>tweet_type</th>\n",
       "      <td>22.309272</td>\n",
       "      <td>2.320833e-06</td>\n",
       "    </tr>\n",
       "    <tr>\n",
       "      <th>tfidf_mean</th>\n",
       "      <td>15.173004</td>\n",
       "      <td>9.809588e-05</td>\n",
       "    </tr>\n",
       "    <tr>\n",
       "      <th>count_question_marks</th>\n",
       "      <td>15.043276</td>\n",
       "      <td>1.050739e-04</td>\n",
       "    </tr>\n",
       "    <tr>\n",
       "      <th>mention_weight</th>\n",
       "      <td>14.212771</td>\n",
       "      <td>1.632587e-04</td>\n",
       "    </tr>\n",
       "    <tr>\n",
       "      <th>count_characters</th>\n",
       "      <td>13.821086</td>\n",
       "      <td>2.010670e-04</td>\n",
       "    </tr>\n",
       "    <tr>\n",
       "      <th>hashtags_per_word</th>\n",
       "      <td>8.613892</td>\n",
       "      <td>3.336086e-03</td>\n",
       "    </tr>\n",
       "    <tr>\n",
       "      <th>user_bio_len</th>\n",
       "      <td>8.594600</td>\n",
       "      <td>3.371612e-03</td>\n",
       "    </tr>\n",
       "    <tr>\n",
       "      <th>retweet_count</th>\n",
       "      <td>8.574335</td>\n",
       "      <td>3.409345e-03</td>\n",
       "    </tr>\n",
       "    <tr>\n",
       "      <th>count_entities_media</th>\n",
       "      <td>8.157320</td>\n",
       "      <td>4.288770e-03</td>\n",
       "    </tr>\n",
       "    <tr>\n",
       "      <th>elongation</th>\n",
       "      <td>7.609081</td>\n",
       "      <td>5.807506e-03</td>\n",
       "    </tr>\n",
       "    <tr>\n",
       "      <th>text_sentiment_negative</th>\n",
       "      <td>5.839828</td>\n",
       "      <td>1.566736e-02</td>\n",
       "    </tr>\n",
       "    <tr>\n",
       "      <th>count_tokens</th>\n",
       "      <td>5.321012</td>\n",
       "      <td>2.106977e-02</td>\n",
       "    </tr>\n",
       "    <tr>\n",
       "      <th>rollmean_frequency_deviation</th>\n",
       "      <td>4.639676</td>\n",
       "      <td>3.124090e-02</td>\n",
       "    </tr>\n",
       "    <tr>\n",
       "      <th>user_listed</th>\n",
       "      <td>4.509012</td>\n",
       "      <td>3.371671e-02</td>\n",
       "    </tr>\n",
       "    <tr>\n",
       "      <th>user_follower_rate</th>\n",
       "      <td>4.203335</td>\n",
       "      <td>4.034455e-02</td>\n",
       "    </tr>\n",
       "    <tr>\n",
       "      <th>engagements</th>\n",
       "      <td>4.085177</td>\n",
       "      <td>4.326091e-02</td>\n",
       "    </tr>\n",
       "    <tr>\n",
       "      <th>count_tokens_stopped</th>\n",
       "      <td>4.042478</td>\n",
       "      <td>4.436862e-02</td>\n",
       "    </tr>\n",
       "    <tr>\n",
       "      <th>count_stops</th>\n",
       "      <td>3.990245</td>\n",
       "      <td>4.576441e-02</td>\n",
       "    </tr>\n",
       "    <tr>\n",
       "      <th>ellipsis</th>\n",
       "      <td>3.860206</td>\n",
       "      <td>4.944425e-02</td>\n",
       "    </tr>\n",
       "  </tbody>\n",
       "</table>\n",
       "</div>"
      ],
      "text/plain": [
       "                                x-square       p-value\n",
       "user_verified                 103.778999  2.261901e-24\n",
       "sfpp                           97.291607  5.983341e-23\n",
       "hashtag_weight                 26.171015  3.124778e-07\n",
       "term_weight                    24.331821  8.108837e-07\n",
       "tweet_type                     22.309272  2.320833e-06\n",
       "tfidf_mean                     15.173004  9.809588e-05\n",
       "count_question_marks           15.043276  1.050739e-04\n",
       "mention_weight                 14.212771  1.632587e-04\n",
       "count_characters               13.821086  2.010670e-04\n",
       "hashtags_per_word               8.613892  3.336086e-03\n",
       "user_bio_len                    8.594600  3.371612e-03\n",
       "retweet_count                   8.574335  3.409345e-03\n",
       "count_entities_media            8.157320  4.288770e-03\n",
       "elongation                      7.609081  5.807506e-03\n",
       "text_sentiment_negative         5.839828  1.566736e-02\n",
       "count_tokens                    5.321012  2.106977e-02\n",
       "rollmean_frequency_deviation    4.639676  3.124090e-02\n",
       "user_listed                     4.509012  3.371671e-02\n",
       "user_follower_rate              4.203335  4.034455e-02\n",
       "engagements                     4.085177  4.326091e-02\n",
       "count_tokens_stopped            4.042478  4.436862e-02\n",
       "count_stops                     3.990245  4.576441e-02\n",
       "ellipsis                        3.860206  4.944425e-02"
      ]
     },
     "execution_count": 555,
     "metadata": {},
     "output_type": "execute_result"
    }
   ],
   "source": [
    "chi2[chi2['p-value'] < .05].sort_values(by='p-value')"
   ]
  },
  {
   "cell_type": "code",
   "execution_count": 189,
   "metadata": {
    "collapsed": true
   },
   "outputs": [],
   "source": [
    "k = 25"
   ]
  },
  {
   "cell_type": "markdown",
   "metadata": {},
   "source": [
    "# Modeling"
   ]
  },
  {
   "cell_type": "code",
   "execution_count": 415,
   "metadata": {
    "collapsed": true
   },
   "outputs": [],
   "source": [
    "from time import time\n",
    "import sklearn\n",
    "from sklearn import metrics\n",
    "from sklearn.cross_validation import train_test_split\n",
    "from sklearn.naive_bayes import MultinomialNB, GaussianNB\n",
    "from sklearn.neighbors import KNeighborsClassifier\n",
    "from sklearn.tree import DecisionTreeClassifier\n",
    "from sklearn.ensemble import RandomForestClassifier\n",
    "from sklearn import svm\n",
    "from sklearn.feature_extraction.text import CountVectorizer, TfidfTransformer, TfidfVectorizer\n",
    "from sklearn.pipeline import Pipeline\n",
    "from sklearn.feature_selection import SelectKBest\n",
    "from sklearn.externals import joblib"
   ]
  },
  {
   "cell_type": "code",
   "execution_count": 191,
   "metadata": {
    "collapsed": true
   },
   "outputs": [],
   "source": [
    "import matplotlib.pyplot as plt\n",
    "import seaborn as sns\n",
    "%matplotlib inline\n",
    "plt.style.use('fivethirtyeight')"
   ]
  },
  {
   "cell_type": "markdown",
   "metadata": {},
   "source": [
    "#### setup classification pipeline"
   ]
  },
  {
   "cell_type": "code",
   "execution_count": 605,
   "metadata": {
    "collapsed": false
   },
   "outputs": [],
   "source": [
    "def execute_CUSTOM(clf, y):\n",
    "    print('_' * 40)\n",
    "    clf_descr = str(clf).split('(')[0]\n",
    "    print('>>> ', clf_descr)\n",
    "    \n",
    "    chi2 = sklearn.feature_selection.chi2(train[x], train['news'])\n",
    "    chi2 = pd.DataFrame.from_records(chi2, index=['x-square', 'p-value'], columns=x).T\n",
    "    k = 25\n",
    "    x_kbest = chi2.sort_values(by='p-value').index[:k]\n",
    "    \n",
    "    t0 = time()\n",
    "    clf.fit(train[x_kbest], train[y])\n",
    "    train_time = time() - t0\n",
    "    print('  train time: %0.3fs' % train_time)\n",
    "    t0 = time()\n",
    "    pred = clf.predict(test[x_kbest])\n",
    "    test_time = time() - t0\n",
    "    print('  test time:  %0.3fs' % test_time)\n",
    "    print('_' * 40)\n",
    "    \n",
    "    acc = metrics.accuracy_score(test[y], pred)\n",
    "    auc = metrics.roc_auc_score(test[y], pred)\n",
    "    \n",
    "    print('Confusion Matrix: \\n', pd.crosstab(test[y], pred, rownames=['Actual'], colnames=['Predicted'], margins=True))\n",
    "    print()\n",
    "    print('Report: \\n', metrics.classification_report(test[y], pred))\n",
    "    \n",
    "    precision = metrics.precision_score(test[y], pred)\n",
    "    recall = metrics.recall_score(test[y], pred)\n",
    "    avg_precision = metrics.average_precision_score(test[y], pred, average='macro')\n",
    "    f1_score = metrics.f1_score(test[y], pred)\n",
    "    \n",
    "    if clf_descr == 'RandomForestClassifier':\n",
    "        joblib.dump(clf, 'clf/clfCUSTOM_%s_%s.pkl' % (test_type, clf_descr))\n",
    "        pd.DataFrame(x_kbest, columns=['feature']).to_csv('clf/kbestfeatures_CUSTOM_%s_%s.txt' % (test_type, clf_descr), sep='\\t', index=False, header=True)\n",
    "        \n",
    "    \n",
    "    return y, clf_descr, acc, precision, recall, f1_score"
   ]
  },
  {
   "cell_type": "code",
   "execution_count": 557,
   "metadata": {
    "collapsed": true
   },
   "outputs": [],
   "source": [
    "def execute_BOW(clf, y):\n",
    "    \n",
    "    vectorizer = TfidfVectorizer()\n",
    "    \n",
    "    print('_' * 40)\n",
    "    clf_descr = str(clf).split('(')[0]\n",
    "    print('>>> ', clf_descr)\n",
    "    \n",
    "    trainBOW = vectorizer.fit_transform(train['text'])\n",
    "    \n",
    "    chi2 = sklearn.feature_selection.chi2(trainBOW, train[y])\n",
    "    chi2 = pd.DataFrame.from_records(chi2, index=['x-square', 'p-value'], columns=vectorizer.get_feature_names()).T\n",
    "    chi2[chi2['p-value'] < .05].sort_values(by='p-value')\n",
    "    \n",
    "    k = 50\n",
    "    xBOW_kbest = chi2.sort_values(by='p-value').index[:k]\n",
    "    xBOW_kbest = [vectorizer.vocabulary_[token] for token in xBOW_kbest]\n",
    "    \n",
    "    #trainBOW = trainBOW[:,xBOW_kbest]\n",
    "    \n",
    "    t0 = time()\n",
    "    clf.fit(trainBOW, train[y])\n",
    "    train_time = time() - t0\n",
    "    print('  train time: %0.3fs' % train_time)\n",
    "    \n",
    "    testBOW = vectorizer.transform(test['text'])\n",
    "    #testBOW = testBOW[:,xBOW_kbest]\n",
    "    \n",
    "    t0 = time()\n",
    "    pred = clf.predict(testBOW)\n",
    "    test_time = time() - t0\n",
    "    print('  test time:  %0.3fs' % test_time)\n",
    "    print('_' * 40)\n",
    "    \n",
    "    acc = metrics.accuracy_score(test[y], pred)\n",
    "    auc = metrics.roc_auc_score(test[y], pred)\n",
    "    \n",
    "    print('Confusion Matrix: \\n', pd.crosstab(test[y], pred, rownames=['Actual'], colnames=['Predicted'], margins=True))\n",
    "    print()\n",
    "    print('Report: \\n', metrics.classification_report(test[y], pred))\n",
    "    \n",
    "    precision = metrics.precision_score(test[y], pred)\n",
    "    recall = metrics.recall_score(test[y], pred)\n",
    "    avg_precision = metrics.average_precision_score(test[y], pred, average='macro')\n",
    "    f1_score = metrics.f1_score(test[y], pred)\n",
    "    \n",
    "    return y, clf_descr, acc, precision, recall, f1_score"
   ]
  },
  {
   "cell_type": "code",
   "execution_count": 558,
   "metadata": {
    "collapsed": true
   },
   "outputs": [],
   "source": [
    "def execute_MIX(clf, y):\n",
    "    \n",
    "    print('_' * 40)\n",
    "    clf_descr = str(clf).split('(')[0]\n",
    "    print('>>> ', clf_descr)\n",
    "    \n",
    "    k = 25\n",
    "    \n",
    "    chi2 = sklearn.feature_selection.chi2(train[x], train['news'])\n",
    "    chi2 = pd.DataFrame.from_records(chi2, index=['x-square', 'p-value'], columns=x).T\n",
    "    x_kbest = chi2.sort_values(by='p-value').index[:k]\n",
    "    \n",
    "    vectorizer = TfidfVectorizer()\n",
    "    trainBOW = vectorizer.fit_transform(train['text'])\n",
    "    \n",
    "    chi2 = sklearn.feature_selection.chi2(trainBOW, train[y])\n",
    "    chi2 = pd.DataFrame.from_records(chi2, index=['x-square', 'p-value'], columns=vectorizer.get_feature_names()).T\n",
    "    xBOW_kbest = chi2.sort_values(by='p-value').index[:50]\n",
    "    xBOW_kbest_indices = [vectorizer.vocabulary_[token] for token in xBOW_kbest]\n",
    "    \n",
    "    train_mix = pd.concat(\n",
    "                [train[x_kbest].reset_index(drop=True),\n",
    "                pd.DataFrame(trainBOW[:,xBOW_kbest_indices].todense(), columns=xBOW_kbest),],\n",
    "                axis=1)\n",
    "    \n",
    "    t0 = time()\n",
    "    clf.fit(train_mix, train[y])\n",
    "    train_time = time() - t0\n",
    "    print('  train time: %0.3fs' % train_time)\n",
    "    \n",
    "    testBOW = vectorizer.transform(test['text'])\n",
    "    \n",
    "    test_mix = pd.concat(\n",
    "                [test[x_kbest].reset_index(drop=True),\n",
    "                pd.DataFrame(testBOW[:,xBOW_kbest_indices].todense(), columns=xBOW_kbest),],\n",
    "                axis=1)\n",
    "    \n",
    "    t0 = time()\n",
    "    pred = clf.predict(test_mix)\n",
    "    test_time = time() - t0\n",
    "    print('  test time:  %0.3fs' % test_time)\n",
    "    print('_' * 40)\n",
    "    \n",
    "    acc = metrics.accuracy_score(test[y], pred)\n",
    "    auc = metrics.roc_auc_score(test[y], pred)\n",
    "    \n",
    "    print('Confusion Matrix: \\n', pd.crosstab(test[y], pred, rownames=['Actual'], colnames=['Predicted'], margins=True))\n",
    "    print()\n",
    "    print('Report: \\n', metrics.classification_report(test[y], pred))\n",
    "    \n",
    "    precision = metrics.precision_score(test[y], pred)\n",
    "    recall = metrics.recall_score(test[y], pred)\n",
    "    avg_precision = metrics.average_precision_score(test[y], pred, average='macro')\n",
    "    f1_score = metrics.f1_score(test[y], pred) \n",
    "    \n",
    "    return y, clf_descr, acc, precision, recall, f1_score"
   ]
  },
  {
   "cell_type": "markdown",
   "metadata": {},
   "source": [
    "## Run Experiements "
   ]
  },
  {
   "cell_type": "code",
   "execution_count": 592,
   "metadata": {
    "collapsed": true
   },
   "outputs": [],
   "source": [
    "y = 'news'"
   ]
  },
  {
   "cell_type": "markdown",
   "metadata": {},
   "source": [
    "#### apply event types"
   ]
  },
  {
   "cell_type": "code",
   "execution_count": 593,
   "metadata": {
    "collapsed": false
   },
   "outputs": [],
   "source": [
    "event_types = {\n",
    "    'UEFA Champions League Final' : 'Sport',\n",
    "    'French Open Finals' : 'Sport',\n",
    "    'Monaco Grand Prix' : 'Sport',\n",
    "    'Stanley Cup Playoffs Final Game 7' : 'Sport',\n",
    "    '24 Hours of Le Mans' : 'Sport',\n",
    "    'NBA Playoffs Finals Game 7': 'Sport',\n",
    "    'The Next Web Conference Europe' : \"Tech\",\n",
    "    'Recode Code Conference' : \"Tech\",\n",
    "    'Google I/O' : \"Tech\",\n",
    "    'Apple Worldwide Developer Conference' : \"Tech\",\n",
    "    'Lenovo Tech World' : \"Tech\",\n",
    "    'Xbox E3' : \"Tech\"\n",
    "    }\n",
    "\n",
    "df['event_type'] = df['event']\n",
    "df['event_type'].replace(event_types, inplace=True)"
   ]
  },
  {
   "cell_type": "code",
   "execution_count": 594,
   "metadata": {
    "collapsed": true
   },
   "outputs": [],
   "source": [
    "data = df"
   ]
  },
  {
   "cell_type": "markdown",
   "metadata": {},
   "source": [
    "#### split data for testing\n",
    "- MODIFY THIS"
   ]
  },
  {
   "cell_type": "code",
   "execution_count": 606,
   "metadata": {
    "collapsed": true
   },
   "outputs": [],
   "source": [
    "test_type = 'train_Mix_test_Mix'"
   ]
  },
  {
   "cell_type": "code",
   "execution_count": 607,
   "metadata": {
    "collapsed": false
   },
   "outputs": [],
   "source": [
    "#intra-domain\n",
    "data = df\n",
    "#data = df[df['event_type'] == 'Tech']\n",
    "\n",
    "data_1 = data[data['news'] == 1]\n",
    "if data_1.shape[0] > data[data['news'] == 0].shape[0]:\n",
    "    data_0 = data[data['news'] == 0]\n",
    "else:\n",
    "    data_0 = data[data['news'] == 0].sample(n=data_1.shape[0])\n",
    "\n",
    "data = pd.concat([data_1, data_0])\n",
    "\n",
    "train, test = train_test_split(data, test_size=.2, random_state=2016)"
   ]
  },
  {
   "cell_type": "code",
   "execution_count": 479,
   "metadata": {
    "collapsed": true
   },
   "outputs": [],
   "source": [
    "#inter-domain\n",
    "data = df\n",
    "\n",
    "train = data[data['event_type'] == 'Tech']\n",
    "test = data[data['event_type'] == 'Sport']\n",
    "\n",
    "train_1 = train[train['news'] == 1]\n",
    "train_0 = train[train['news'] == 0].sample(n=train_1.shape[0])\n",
    "\n",
    "train = pd.concat([train_1, train_0])\n",
    "\n",
    "test_1 = test[test['news'] == 1]\n",
    "test_0 = test[test['news'] == 0].sample(n=test_1.shape[0])\n",
    "\n",
    "test = pd.concat([test_1, test_0])"
   ]
  },
  {
   "cell_type": "code",
   "execution_count": 608,
   "metadata": {
    "collapsed": false
   },
   "outputs": [
    {
     "name": "stdout",
     "output_type": "stream",
     "text": [
      "Class Distribution:\n",
      "Total \t 0:  902 (0.50%)    1:  902 (0.50%)\n",
      "Train \t 0:  723 (0.50%)    1:  720 (0.50%)\n",
      "Test \t 0:  179 (0.50%)    1:  182 (0.50%)\n"
     ]
    }
   ],
   "source": [
    "print('Class Distribution:')\n",
    "for d,name in ((data, 'Total'), (train, 'Train'), (test, 'Test')):\n",
    "    t = len(d)\n",
    "    n = len(d[d[y]==0])\n",
    "    s = len(d[d[y]==1])\n",
    "    print(name, '\\t', '0: %4.0f (%0.2f%%)' % (n, (n/t)), '  ', '1: %4.0f (%0.2f%%)' % (s, (s/t)))"
   ]
  },
  {
   "cell_type": "markdown",
   "metadata": {},
   "source": [
    "### custom\n",
    "#### chi-squared significant features"
   ]
  },
  {
   "cell_type": "code",
   "execution_count": 405,
   "metadata": {
    "collapsed": false
   },
   "outputs": [],
   "source": [
    "#chi2 = sklearn.feature_selection.chi2(train[x], train[y])\n",
    "#chi2 = pd.DataFrame.from_records(chi2, index=['x-square', 'p-value'], columns=x).T\n",
    "#chi2[chi2['p-value'] < .05].sort_values(by='p-value')"
   ]
  },
  {
   "cell_type": "code",
   "execution_count": 579,
   "metadata": {
    "collapsed": false
   },
   "outputs": [],
   "source": [
    "#chi2.sort_values(by='p-value').head(25)"
   ]
  },
  {
   "cell_type": "markdown",
   "metadata": {},
   "source": [
    "#### execute"
   ]
  },
  {
   "cell_type": "code",
   "execution_count": 609,
   "metadata": {
    "collapsed": false,
    "scrolled": true
   },
   "outputs": [
    {
     "name": "stdout",
     "output_type": "stream",
     "text": [
      "________________________________________\n",
      ">>>  MultinomialNB\n",
      "  train time: 0.003s\n",
      "  test time:  0.002s\n",
      "________________________________________\n",
      "Confusion Matrix: \n",
      " Predicted  0.0  1.0  All\n",
      "Actual                  \n",
      "0.0        109   70  179\n",
      "1.0         54  128  182\n",
      "All        163  198  361\n",
      "\n",
      "Report: \n",
      "              precision    recall  f1-score   support\n",
      "\n",
      "        0.0       0.67      0.61      0.64       179\n",
      "        1.0       0.65      0.70      0.67       182\n",
      "\n",
      "avg / total       0.66      0.66      0.66       361\n",
      "\n",
      "________________________________________\n",
      ">>>  KNeighborsClassifier\n",
      "  train time: 0.005s\n",
      "  test time:  0.022s\n",
      "________________________________________\n",
      "Confusion Matrix: \n",
      " Predicted  0.0  1.0  All\n",
      "Actual                  \n",
      "0.0        113   66  179\n",
      "1.0         60  122  182\n",
      "All        173  188  361\n",
      "\n",
      "Report: \n",
      "              precision    recall  f1-score   support\n",
      "\n",
      "        0.0       0.65      0.63      0.64       179\n",
      "        1.0       0.65      0.67      0.66       182\n",
      "\n",
      "avg / total       0.65      0.65      0.65       361\n",
      "\n",
      "________________________________________\n",
      ">>>  RandomForestClassifier\n",
      "  train time: 0.043s\n",
      "  test time:  0.003s\n",
      "________________________________________\n",
      "Confusion Matrix: \n",
      " Predicted  0.0  1.0  All\n",
      "Actual                  \n",
      "0.0        141   38  179\n",
      "1.0         78  104  182\n",
      "All        219  142  361\n",
      "\n",
      "Report: \n",
      "              precision    recall  f1-score   support\n",
      "\n",
      "        0.0       0.64      0.79      0.71       179\n",
      "        1.0       0.73      0.57      0.64       182\n",
      "\n",
      "avg / total       0.69      0.68      0.67       361\n",
      "\n"
     ]
    }
   ],
   "source": [
    "results_CUSTOM = []\n",
    "for clf in (MultinomialNB(), \n",
    "            KNeighborsClassifier(),\n",
    "            #DecisionTreeClassifier(random_state=2016),\n",
    "            RandomForestClassifier(random_state=2016),\n",
    "            #svm.SVC()\n",
    "            ):\n",
    "    results_CUSTOM.append(execute_CUSTOM(clf, y))"
   ]
  },
  {
   "cell_type": "markdown",
   "metadata": {},
   "source": [
    "### custom results"
   ]
  },
  {
   "cell_type": "code",
   "execution_count": 610,
   "metadata": {
    "collapsed": false,
    "scrolled": false
   },
   "outputs": [
    {
     "data": {
      "image/png": "[encoded data removed]",
      "text/plain": [
       "<matplotlib.figure.Figure at 0x498c4c50>"
      ]
     },
     "metadata": {},
     "output_type": "display_data"
    }
   ],
   "source": [
    "results_CUSTOM = pd.DataFrame(results_CUSTOM)\n",
    "results_CUSTOM.columns = ['y', 'classifier', 'accuracy', 'precision', 'recall', 'f1_score']\n",
    "\n",
    "for name, result in results_CUSTOM.groupby('y'):\n",
    "    result.plot(x='classifier', kind='bar', ylim=[0,1], title='Classification Using Custom Features\\n%s' % test_type, figsize=(8,6))\n",
    "fig = plt.gcf()\n",
    "plt.tight_layout()\n",
    "plt.show()\n",
    "fig.savefig('images/%s_CUSTOM.png' % test_type)"
   ]
  },
  {
   "cell_type": "code",
   "execution_count": 611,
   "metadata": {
    "collapsed": false
   },
   "outputs": [
    {
     "data": {
      "text/html": [
       "<div>\n",
       "<table border=\"1\" class=\"dataframe\">\n",
       "  <thead>\n",
       "    <tr style=\"text-align: right;\">\n",
       "      <th></th>\n",
       "      <th>y</th>\n",
       "      <th>classifier</th>\n",
       "      <th>accuracy</th>\n",
       "      <th>precision</th>\n",
       "      <th>recall</th>\n",
       "      <th>f1_score</th>\n",
       "    </tr>\n",
       "  </thead>\n",
       "  <tbody>\n",
       "    <tr>\n",
       "      <th>0</th>\n",
       "      <td>news</td>\n",
       "      <td>MultinomialNB</td>\n",
       "      <td>0.65651</td>\n",
       "      <td>0.646465</td>\n",
       "      <td>0.703297</td>\n",
       "      <td>0.673684</td>\n",
       "    </tr>\n",
       "    <tr>\n",
       "      <th>1</th>\n",
       "      <td>news</td>\n",
       "      <td>KNeighborsClassifier</td>\n",
       "      <td>0.65097</td>\n",
       "      <td>0.648936</td>\n",
       "      <td>0.670330</td>\n",
       "      <td>0.659459</td>\n",
       "    </tr>\n",
       "    <tr>\n",
       "      <th>2</th>\n",
       "      <td>news</td>\n",
       "      <td>RandomForestClassifier</td>\n",
       "      <td>0.67867</td>\n",
       "      <td>0.732394</td>\n",
       "      <td>0.571429</td>\n",
       "      <td>0.641975</td>\n",
       "    </tr>\n",
       "  </tbody>\n",
       "</table>\n",
       "</div>"
      ],
      "text/plain": [
       "      y              classifier  accuracy  precision    recall  f1_score\n",
       "0  news           MultinomialNB   0.65651   0.646465  0.703297  0.673684\n",
       "1  news    KNeighborsClassifier   0.65097   0.648936  0.670330  0.659459\n",
       "2  news  RandomForestClassifier   0.67867   0.732394  0.571429  0.641975"
      ]
     },
     "execution_count": 611,
     "metadata": {},
     "output_type": "execute_result"
    }
   ],
   "source": [
    "results_CUSTOM"
   ]
  },
  {
   "cell_type": "markdown",
   "metadata": {},
   "source": [
    "### bag of words\n",
    "#### chi-squared significant features"
   ]
  },
  {
   "cell_type": "code",
   "execution_count": 407,
   "metadata": {
    "collapsed": false
   },
   "outputs": [],
   "source": [
    "#chi-square eval\n",
    "#vectorizer = TfidfVectorizer()\n",
    "#trainBOW = vectorizer.fit_transform(train['text'])\n",
    "#chi2 = sklearn.feature_selection.chi2(trainBOW, train[y])\n",
    "#chi2 = pd.DataFrame.from_records(chi2, index=['x-square', 'p-value'], columns=vectorizer.get_feature_names()).T\n",
    "#chi2[chi2['p-value'] < .05].sort_values(by='p-value')"
   ]
  },
  {
   "cell_type": "code",
   "execution_count": 408,
   "metadata": {
    "collapsed": false
   },
   "outputs": [],
   "source": [
    "#chi2.sort_values(by='p-value').head(25)"
   ]
  },
  {
   "cell_type": "code",
   "execution_count": 222,
   "metadata": {
    "collapsed": false
   },
   "outputs": [],
   "source": [
    "#xBOW_kbest = chi2.sort_values(by='p-value').index[:k]\n",
    "#xBOW_kbest = [vectorizer.vocabulary_[token] for token in xBOW_kbest]\n",
    "#trainBOW_kbest = trainBOW[:,xBOW_kbest]"
   ]
  },
  {
   "cell_type": "markdown",
   "metadata": {},
   "source": [
    "#### execute"
   ]
  },
  {
   "cell_type": "code",
   "execution_count": 602,
   "metadata": {
    "collapsed": false,
    "scrolled": true
   },
   "outputs": [
    {
     "name": "stdout",
     "output_type": "stream",
     "text": [
      "________________________________________\n",
      ">>>  MultinomialNB\n",
      "  train time: 0.001s\n",
      "  test time:  0.000s\n",
      "________________________________________\n",
      "Confusion Matrix: \n",
      " Predicted  0.0  1.0  All\n",
      "Actual                  \n",
      "0.0        127   52  179\n",
      "1.0         36  146  182\n",
      "All        163  198  361\n",
      "\n",
      "Report: \n",
      "              precision    recall  f1-score   support\n",
      "\n",
      "        0.0       0.78      0.71      0.74       179\n",
      "        1.0       0.74      0.80      0.77       182\n",
      "\n",
      "avg / total       0.76      0.76      0.76       361\n",
      "\n",
      "________________________________________\n",
      ">>>  KNeighborsClassifier\n",
      "  train time: 0.001s\n",
      "  test time:  0.019s\n",
      "________________________________________\n",
      "Confusion Matrix: \n",
      " Predicted  0.0  1.0  All\n",
      "Actual                  \n",
      "0.0        116   63  179\n",
      "1.0         41  141  182\n",
      "All        157  204  361\n",
      "\n",
      "Report: \n",
      "              precision    recall  f1-score   support\n",
      "\n",
      "        0.0       0.74      0.65      0.69       179\n",
      "        1.0       0.69      0.77      0.73       182\n",
      "\n",
      "avg / total       0.71      0.71      0.71       361\n",
      "\n",
      "________________________________________\n",
      ">>>  RandomForestClassifier\n",
      "  train time: 0.113s\n",
      "  test time:  0.002s\n",
      "________________________________________\n",
      "Confusion Matrix: \n",
      " Predicted  0.0  1.0  All\n",
      "Actual                  \n",
      "0.0        145   34  179\n",
      "1.0         73  109  182\n",
      "All        218  143  361\n",
      "\n",
      "Report: \n",
      "              precision    recall  f1-score   support\n",
      "\n",
      "        0.0       0.67      0.81      0.73       179\n",
      "        1.0       0.76      0.60      0.67       182\n",
      "\n",
      "avg / total       0.71      0.70      0.70       361\n",
      "\n"
     ]
    }
   ],
   "source": [
    "results_BOW = []\n",
    "for clf in (MultinomialNB(), \n",
    "            KNeighborsClassifier(),\n",
    "            #DecisionTreeClassifier(random_state=2016),\n",
    "            RandomForestClassifier(random_state=2016),\n",
    "            #svm.SVC()\n",
    "            ):\n",
    "    results_BOW.append(execute_BOW(clf, y))"
   ]
  },
  {
   "cell_type": "markdown",
   "metadata": {},
   "source": [
    "### BOW results"
   ]
  },
  {
   "cell_type": "code",
   "execution_count": 603,
   "metadata": {
    "collapsed": false,
    "scrolled": false
   },
   "outputs": [
    {
     "data": {
      "image/png": "[encoded data removed]",
      "text/plain": [
       "<matplotlib.figure.Figure at 0x619678d0>"
      ]
     },
     "metadata": {},
     "output_type": "display_data"
    }
   ],
   "source": [
    "results_BOW = pd.DataFrame(results_BOW)\n",
    "results_BOW.columns = ['y', 'classifier', 'accuracy', 'precision', 'recall', 'f1_score']\n",
    "\n",
    "for name, result in results_BOW.groupby('y'):\n",
    "    result.plot(x='classifier', kind='bar', ylim=[0,1], title='Classification Using BOW Features\\n%s' % test_type, figsize=(8,6))\n",
    "fig = plt.gcf()\n",
    "plt.tight_layout()\n",
    "plt.show()\n",
    "fig.savefig('images/%s_BOW.png' % test_type)"
   ]
  },
  {
   "cell_type": "code",
   "execution_count": 604,
   "metadata": {
    "collapsed": false,
    "scrolled": true
   },
   "outputs": [
    {
     "data": {
      "text/html": [
       "<div>\n",
       "<table border=\"1\" class=\"dataframe\">\n",
       "  <thead>\n",
       "    <tr style=\"text-align: right;\">\n",
       "      <th></th>\n",
       "      <th>y</th>\n",
       "      <th>classifier</th>\n",
       "      <th>accuracy</th>\n",
       "      <th>precision</th>\n",
       "      <th>recall</th>\n",
       "      <th>f1_score</th>\n",
       "    </tr>\n",
       "  </thead>\n",
       "  <tbody>\n",
       "    <tr>\n",
       "      <th>0</th>\n",
       "      <td>news</td>\n",
       "      <td>MultinomialNB</td>\n",
       "      <td>0.756233</td>\n",
       "      <td>0.737374</td>\n",
       "      <td>0.802198</td>\n",
       "      <td>0.768421</td>\n",
       "    </tr>\n",
       "    <tr>\n",
       "      <th>1</th>\n",
       "      <td>news</td>\n",
       "      <td>KNeighborsClassifier</td>\n",
       "      <td>0.711911</td>\n",
       "      <td>0.691176</td>\n",
       "      <td>0.774725</td>\n",
       "      <td>0.730570</td>\n",
       "    </tr>\n",
       "    <tr>\n",
       "      <th>2</th>\n",
       "      <td>news</td>\n",
       "      <td>RandomForestClassifier</td>\n",
       "      <td>0.703601</td>\n",
       "      <td>0.762238</td>\n",
       "      <td>0.598901</td>\n",
       "      <td>0.670769</td>\n",
       "    </tr>\n",
       "  </tbody>\n",
       "</table>\n",
       "</div>"
      ],
      "text/plain": [
       "      y              classifier  accuracy  precision    recall  f1_score\n",
       "0  news           MultinomialNB  0.756233   0.737374  0.802198  0.768421\n",
       "1  news    KNeighborsClassifier  0.711911   0.691176  0.774725  0.730570\n",
       "2  news  RandomForestClassifier  0.703601   0.762238  0.598901  0.670769"
      ]
     },
     "execution_count": 604,
     "metadata": {},
     "output_type": "execute_result"
    }
   ],
   "source": [
    "results_BOW"
   ]
  },
  {
   "cell_type": "markdown",
   "metadata": {},
   "source": [
    "#### analysis of bag of words\n",
    "\n",
    "We learn that when training a classifier using a bag of words approach on one specific event, we can predict the news in that event to a high degree, and even with a precision up to 1. This is why this approach is so widely seen in literature. \n",
    "\n",
    "Although most research stops at their successful results and does not recognize how their findings may apply to the real world. The intentions of training a classifier on text is to be able to classify text which is unseen. The reasons the classifier did so well is due to the text in the testing corpus being so similar to that in the training corpus. The data was trained on a single event and test on the same event.\n",
    "\n",
    "If we are apply this classifier to any different event the accuracy decreases significantly, to levels below the results of our custom features even. Similarily if we train the bag of words classifier using multiple events from different domains the results are also lower than our custom results. This shows how using the bag of words model, is not useful to predict anything outside of the domain it was classified in."
   ]
  },
  {
   "cell_type": "code",
   "execution_count": 550,
   "metadata": {
    "collapsed": false,
    "scrolled": true
   },
   "outputs": [
    {
     "name": "stdout",
     "output_type": "stream",
     "text": [
      "________________________________________\n",
      ">>>  MultinomialNB\n",
      "  train time: 0.004s\n",
      "  test time:  0.001s\n",
      "________________________________________\n",
      "Confusion Matrix: \n",
      " Predicted  0.0  1.0  All\n",
      "Actual                  \n",
      "0.0        113   66  179\n",
      "1.0         51  131  182\n",
      "All        164  197  361\n",
      "\n",
      "Report: \n",
      "              precision    recall  f1-score   support\n",
      "\n",
      "        0.0       0.69      0.63      0.66       179\n",
      "        1.0       0.66      0.72      0.69       182\n",
      "\n",
      "avg / total       0.68      0.68      0.68       361\n",
      "\n",
      "________________________________________\n",
      ">>>  KNeighborsClassifier\n",
      "  train time: 0.004s\n",
      "  test time:  0.048s\n",
      "________________________________________\n",
      "Confusion Matrix: \n",
      " Predicted  0.0  1.0  All\n",
      "Actual                  \n",
      "0.0        122   57  179\n",
      "1.0         78  104  182\n",
      "All        200  161  361\n",
      "\n",
      "Report: \n",
      "              precision    recall  f1-score   support\n",
      "\n",
      "        0.0       0.61      0.68      0.64       179\n",
      "        1.0       0.65      0.57      0.61       182\n",
      "\n",
      "avg / total       0.63      0.63      0.62       361\n",
      "\n",
      "________________________________________\n",
      ">>>  RandomForestClassifier\n",
      "  train time: 0.032s\n",
      "  test time:  0.000s\n",
      "________________________________________\n",
      "Confusion Matrix: \n",
      " Predicted  0.0  1.0  All\n",
      "Actual                  \n",
      "0.0        137   42  179\n",
      "1.0         75  107  182\n",
      "All        212  149  361\n",
      "\n",
      "Report: \n",
      "              precision    recall  f1-score   support\n",
      "\n",
      "        0.0       0.65      0.77      0.70       179\n",
      "        1.0       0.72      0.59      0.65       182\n",
      "\n",
      "avg / total       0.68      0.68      0.67       361\n",
      "\n"
     ]
    }
   ],
   "source": [
    "results_MIX = []\n",
    "for clf in (MultinomialNB(), \n",
    "            KNeighborsClassifier(),\n",
    "            #DecisionTreeClassifier(random_state=2016),\n",
    "            RandomForestClassifier(random_state=2016),\n",
    "            #svm.SVC()\n",
    "            ):\n",
    "    results_MIX.append(execute_MIX(clf, y))"
   ]
  },
  {
   "cell_type": "code",
   "execution_count": 552,
   "metadata": {
    "collapsed": false
   },
   "outputs": [
    {
     "data": {
      "image/png": "[encoded data removed]",
      "text/plain": [
       "<matplotlib.figure.Figure at 0x6262780>"
      ]
     },
     "metadata": {},
     "output_type": "display_data"
    }
   ],
   "source": [
    "results_MIX = pd.DataFrame(results_MIX)\n",
    "results_MIX.columns = ['y', 'classifier', 'accuracy', 'precision', 'recall', 'f1_score']\n",
    "\n",
    "for name, result in results_MIX.groupby('y'):\n",
    "    result.plot(x='classifier', kind='bar', ylim=[0,1], title='Classification Using Mixed Features\\n%s' % test_type, figsize=(8,6))\n",
    "fig = plt.gcf()\n",
    "plt.tight_layout()\n",
    "plt.show()\n",
    "fig.savefig('images/%s_MIX.png' % test_type)"
   ]
  },
  {
   "cell_type": "code",
   "execution_count": 553,
   "metadata": {
    "collapsed": false
   },
   "outputs": [
    {
     "data": {
      "text/html": [
       "<div>\n",
       "<table border=\"1\" class=\"dataframe\">\n",
       "  <thead>\n",
       "    <tr style=\"text-align: right;\">\n",
       "      <th></th>\n",
       "      <th>y</th>\n",
       "      <th>classifier</th>\n",
       "      <th>accuracy</th>\n",
       "      <th>precision</th>\n",
       "      <th>recall</th>\n",
       "      <th>f1_score</th>\n",
       "    </tr>\n",
       "  </thead>\n",
       "  <tbody>\n",
       "    <tr>\n",
       "      <th>0</th>\n",
       "      <td>news</td>\n",
       "      <td>MultinomialNB</td>\n",
       "      <td>0.675900</td>\n",
       "      <td>0.664975</td>\n",
       "      <td>0.719780</td>\n",
       "      <td>0.691293</td>\n",
       "    </tr>\n",
       "    <tr>\n",
       "      <th>1</th>\n",
       "      <td>news</td>\n",
       "      <td>KNeighborsClassifier</td>\n",
       "      <td>0.626039</td>\n",
       "      <td>0.645963</td>\n",
       "      <td>0.571429</td>\n",
       "      <td>0.606414</td>\n",
       "    </tr>\n",
       "    <tr>\n",
       "      <th>2</th>\n",
       "      <td>news</td>\n",
       "      <td>RandomForestClassifier</td>\n",
       "      <td>0.675900</td>\n",
       "      <td>0.718121</td>\n",
       "      <td>0.587912</td>\n",
       "      <td>0.646526</td>\n",
       "    </tr>\n",
       "  </tbody>\n",
       "</table>\n",
       "</div>"
      ],
      "text/plain": [
       "      y              classifier  accuracy  precision    recall  f1_score\n",
       "0  news           MultinomialNB  0.675900   0.664975  0.719780  0.691293\n",
       "1  news    KNeighborsClassifier  0.626039   0.645963  0.571429  0.606414\n",
       "2  news  RandomForestClassifier  0.675900   0.718121  0.587912  0.646526"
      ]
     },
     "execution_count": 553,
     "metadata": {},
     "output_type": "execute_result"
    }
   ],
   "source": [
    "results_MIX"
   ]
  }
 ],
 "metadata": {
  "kernelspec": {
   "display_name": "Python 3",
   "language": "python",
   "name": "python3"
  },
  "language_info": {
   "codemirror_mode": {
    "name": "ipython",
    "version": 3
   },
   "file_extension": ".py",
   "mimetype": "text/x-python",
   "name": "python",
   "nbconvert_exporter": "python",
   "pygments_lexer": "ipython3",
   "version": "3.4.5"
  }
 },
 "nbformat": 4,
 "nbformat_minor": 0
}
