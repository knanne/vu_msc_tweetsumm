{
 "cells": [
  {
   "cell_type": "markdown",
   "metadata": {},
   "source": [
    "# Twitter\n",
    "\n",
    "Related Analysis Projects\n",
    "\n",
    "- [Twitter's Own Interactive Data](https://interactive.twitter.com/)\n",
    "\n",
    "### Twitter Query\n",
    "- Twitter has already been queried using the [Search Tweets API](https://dev.twitter.com/rest/reference/get/search/tweets). \n",
    "- returned JSON was written to `[query_term]_twitter_search_raw.json` file where each row in file is a tweet json object\n",
    "- below is a query example\n",
    "\n",
    "```python\n",
    "import requests\n",
    "from requests_oauthlib import OAuth1\n",
    "import json\n",
    "\n",
    "#define API url\n",
    "url = 'https://api.twitter.com/1.1/search/tweets.json'\n",
    "\n",
    "#define credentials\n",
    "auth = OAuth1(consumer_key, consumer_secret, access_token, access_token_secret)\n",
    "\n",
    "query_term = input('Enter Twitter Search Term: ')\n",
    "\n",
    "#define file for writing\n",
    "json_f = open('[%s]_twitter_search_raw.json % query_term, 'a')\n",
    "\n",
    "#writing decorator function    \n",
    "def append_record(record):\n",
    "    json_f.write(json.dumps(record, sort_keys=True))\n",
    "    json_f.write('\\n')\n",
    "    json_f.flush()\n",
    "\n",
    "#loop start here\n",
    "\n",
    "#query parameters\n",
    "payload = {'lang' : 'en', 'count' : 100, 'q' : query_term}\n",
    "\n",
    "#make request\n",
    "r = requests.get(url, params = payload, auth = auth)\n",
    "\n",
    "#check status\n",
    "#backoff when required\n",
    "\n",
    "rj = r.json()\n",
    "\n",
    "for result in rj['statuses']:\n",
    "    append_record(result)\n",
    "\n",
    "#loop\n",
    "\n",
    "json_f.close()\n",
    "```\n",
    "\n",
    "* to automate for historical searching, simply loop the call [(note limits and good practices)](https://dev.twitter.com/rest/public)\n",
    "* and recursively update payload max_id with latest tweet id\n",
    "* alternatively for online data, use streaming api [(documentation)](https://dev.twitter.com/streaming/overview)"
   ]
  },
  {
   "cell_type": "markdown",
   "metadata": {},
   "source": [
    "### Twitter Processing\n",
    "* the below scripts transform JSON to clean database for later analysis\n",
    "#### import tools"
   ]
  },
  {
   "cell_type": "code",
   "execution_count": 354,
   "metadata": {
    "collapsed": true
   },
   "outputs": [],
   "source": [
    "import pandas as pd\n",
    "import numpy as np\n",
    "import json\n",
    "from bs4 import BeautifulSoup\n",
    "from pandas.tseries.offsets import *\n",
    "import re\n",
    "import csv\n",
    "import matplotlib.pyplot as plt\n",
    "import seaborn as sns\n",
    "%matplotlib inline\n",
    "plt.style.use('fivethirtyeight')"
   ]
  },
  {
   "cell_type": "markdown",
   "metadata": {},
   "source": [
    "#### define output database\n",
    "- tweet raw JSON object looks like (flattened): ([documentation](https://dev.twitter.com/overview/api/tweets))\n",
    "\n",
    "```\n",
    "['contributors',\n",
    " 'coordinates',\n",
    " 'created_at',\n",
    " 'entities',\n",
    " 'favorite_count',\n",
    " 'favorited',\n",
    " 'geo',\n",
    " 'id',\n",
    " 'id_str',\n",
    " 'in_reply_to_screen_name',\n",
    " 'in_reply_to_status_id',\n",
    " 'in_reply_to_status_id_str',\n",
    " 'in_reply_to_user_id',\n",
    " 'in_reply_to_user_id_str',\n",
    " 'is_quote_status',\n",
    " 'lang',\n",
    " 'metadata',\n",
    " 'place',\n",
    " 'possibly_sensitive',\n",
    " 'quoted_status',\n",
    " 'quoted_status_id',\n",
    " 'quoted_status_id_str',\n",
    " 'retweet_count',\n",
    " 'retweeted',\n",
    " 'source',\n",
    " 'text',\n",
    " 'truncated',\n",
    " 'user']\n",
    "```\n",
    "\n",
    "- list below is final columns we want\n",
    "- added our own extracted columns\n",
    "- dropped large dictionaries (entities, user)\n",
    "- dropped others we don't want like deprecated geo, others like metadata, reply/quoted_status etc."
   ]
  },
  {
   "cell_type": "code",
   "execution_count": 355,
   "metadata": {
    "collapsed": false
   },
   "outputs": [],
   "source": [
    "cols = [\n",
    "    'id_str',\n",
    "    'created_at',\n",
    "    'source',\n",
    "    'longitude',\n",
    "    'latitude',\n",
    "    'place_country',\n",
    "    'place_name',\n",
    "    'text',\n",
    "    'lang',\n",
    "    'tweet_type',\n",
    "    'possibly_sensitive',\n",
    "    'is_retweet',\n",
    "    'is_reply',\n",
    "    'is_quoted_tweet',\n",
    "    'entities_media',\n",
    "    'entities_urls',\n",
    "    'entities_mentions',\n",
    "    'entities_hashtags',\n",
    "    'favorite_count',\n",
    "    'retweet_count',\n",
    "    'user_id_str',\n",
    "    'user_screen_name',\n",
    "    'user_created_at',\n",
    "    'user_description',\n",
    "    'user_location',\n",
    "    'user_default_profile',\n",
    "    'user_default_profile_image',\n",
    "    'user_verified',\n",
    "    'user_statuses',\n",
    "    'user_favourites',\n",
    "    'user_followers',\n",
    "    'user_friends',\n",
    "    'user_listed']"
   ]
  },
  {
   "cell_type": "markdown",
   "metadata": {},
   "source": [
    "#### convert query term to file name keyword"
   ]
  },
  {
   "cell_type": "code",
   "execution_count": 356,
   "metadata": {
    "collapsed": false
   },
   "outputs": [
    {
     "name": "stdout",
     "output_type": "stream",
     "text": [
      "Enter Twitter Query Term (event hashtag?): #xboxe3\n"
     ]
    }
   ],
   "source": [
    "keyword = input('Enter Twitter Query Term (event hashtag?): ')"
   ]
  },
  {
   "cell_type": "code",
   "execution_count": 357,
   "metadata": {
    "collapsed": false
   },
   "outputs": [
    {
     "name": "stdout",
     "output_type": "stream",
     "text": [
      "#xboxe3\n"
     ]
    }
   ],
   "source": [
    "keyword = keyword.replace(' ', '_').lower()\n",
    "print(keyword)"
   ]
  },
  {
   "cell_type": "markdown",
   "metadata": {},
   "source": [
    "#### import data\n",
    "- read json line by line\n",
    "- convert list to pandas dataframe\n",
    "    - flat json tree results in some columns still nested dicts"
   ]
  },
  {
   "cell_type": "code",
   "execution_count": 358,
   "metadata": {
    "collapsed": false
   },
   "outputs": [
    {
     "name": "stdout",
     "output_type": "stream",
     "text": [
      "Wall time: 11.5 s\n"
     ]
    }
   ],
   "source": [
    "%%time\n",
    "raw_data = []\n",
    "with open('data/[%s]_twitter_search_raw.json' % keyword) as f:\n",
    "    for line in f:\n",
    "        raw_data.append(json.loads(line))\n",
    "        \n",
    "df = pd.DataFrame(raw_data)"
   ]
  },
  {
   "cell_type": "markdown",
   "metadata": {},
   "source": [
    "#### dedupe\n",
    "- on twitter id, in case of searching errors"
   ]
  },
  {
   "cell_type": "code",
   "execution_count": 359,
   "metadata": {
    "collapsed": false
   },
   "outputs": [
    {
     "data": {
      "text/plain": [
       "(98314, 29)"
      ]
     },
     "execution_count": 359,
     "metadata": {},
     "output_type": "execute_result"
    }
   ],
   "source": [
    "df.drop_duplicates('id_str', inplace=True)\n",
    "df.shape"
   ]
  },
  {
   "cell_type": "markdown",
   "metadata": {},
   "source": [
    "#### clean text field\n",
    "- remove new lines, carriage returns"
   ]
  },
  {
   "cell_type": "code",
   "execution_count": 360,
   "metadata": {
    "collapsed": true
   },
   "outputs": [],
   "source": [
    "df['text'] = df['text'].apply(lambda s: s.replace('\\n', ' ').replace('\\r', ' '))"
   ]
  },
  {
   "cell_type": "markdown",
   "metadata": {},
   "source": [
    "#### source\n",
    "- extract source text from html source object"
   ]
  },
  {
   "cell_type": "code",
   "execution_count": 361,
   "metadata": {
    "collapsed": false
   },
   "outputs": [],
   "source": [
    "df['source'] = df['source'].apply(lambda s: BeautifulSoup(s, 'html.parser').text)"
   ]
  },
  {
   "cell_type": "markdown",
   "metadata": {},
   "source": [
    "#### coordinates\n",
    "- extract lat, lon from tweet if known, else NaN"
   ]
  },
  {
   "cell_type": "code",
   "execution_count": 362,
   "metadata": {
    "collapsed": false
   },
   "outputs": [],
   "source": [
    "df['longitude'] = df['coordinates'].apply(lambda c: (c['coordinates'][0] if c != None else np.nan))\n",
    "df['latitude'] = df['coordinates'].apply(lambda c: (c['coordinates'][1] if c != None else np.nan))"
   ]
  },
  {
   "cell_type": "markdown",
   "metadata": {},
   "source": [
    "#### place\n",
    "- extract place name, country if known else NaN\n",
    "- place also contains geojson object, place type etc. ([documentation](https://dev.twitter.com/overview/api/places))"
   ]
  },
  {
   "cell_type": "code",
   "execution_count": 363,
   "metadata": {
    "collapsed": false
   },
   "outputs": [],
   "source": [
    "df['place_country'] = df['place'].apply(lambda p: (p['country'] if p != None else np.nan))\n",
    "df['place_name'] = df['place'].apply(lambda p: (p['full_name'] if p != None else np.nan))"
   ]
  },
  {
   "cell_type": "markdown",
   "metadata": {},
   "source": [
    "#### classify tweet type\n",
    "- check for 'media' key in entities dictionary, else 'text'"
   ]
  },
  {
   "cell_type": "code",
   "execution_count": 364,
   "metadata": {
    "collapsed": false
   },
   "outputs": [],
   "source": [
    "df['tweet_type'] = df['entities'].apply(lambda e: ['text','media']['media' in e])"
   ]
  },
  {
   "cell_type": "markdown",
   "metadata": {},
   "source": [
    "#### mark retweets\n",
    "- using character matching to 'RT @' or 'RT :'"
   ]
  },
  {
   "cell_type": "code",
   "execution_count": 365,
   "metadata": {
    "collapsed": false
   },
   "outputs": [],
   "source": [
    "df['is_retweet'] = df['text'].apply(lambda t: [0,1][t.startswith(('RT @', 'RT :'))])"
   ]
  },
  {
   "cell_type": "markdown",
   "metadata": {},
   "source": [
    "#### mark replies\n",
    "- using twitter's 'in_reply_to_status_id' field, where not null is encoded 1 as reply"
   ]
  },
  {
   "cell_type": "code",
   "execution_count": 366,
   "metadata": {
    "collapsed": false
   },
   "outputs": [],
   "source": [
    "df['is_reply'] = df['in_reply_to_status_id'].apply(lambda r: [1,0][np.isnan(r)])"
   ]
  },
  {
   "cell_type": "markdown",
   "metadata": {},
   "source": [
    "#### mark quoted tweets\n",
    "- using twitter's 'quoted_status_id' field, where not null is encoded 1 as quoted tweet"
   ]
  },
  {
   "cell_type": "code",
   "execution_count": 367,
   "metadata": {
    "collapsed": false
   },
   "outputs": [],
   "source": [
    "df['is_quoted_tweet'] = df['quoted_status_id'].apply(lambda r: [1,0][np.isnan(r)])"
   ]
  },
  {
   "cell_type": "markdown",
   "metadata": {},
   "source": [
    "#### transform useful data\n",
    "- using twitter's nicely organized entities, user objects\n",
    "- extract entities ([documentation](https://dev.twitter.com/overview/api/entities-in-twitter-objects#tweets))\n",
    "- extract user info ([documentation](https://dev.twitter.com/overview/api/entities-in-twitter-objects#users))\n",
    "- some info was ignored for the purpose of this project"
   ]
  },
  {
   "cell_type": "code",
   "execution_count": 368,
   "metadata": {
    "collapsed": false
   },
   "outputs": [],
   "source": [
    "#entities\n",
    "df['entities_media'] = df['entities'].apply(lambda e: [media['media_url_https'] for media in (e['media'] if 'media' in e else {})])\n",
    "df['entities_urls'] = df['entities'].apply(lambda e: [url for url in [urlobject['expanded_url'] for urlobject in e['urls']]])\n",
    "df['entities_mentions'] = df['entities'].apply(lambda e: [mention for mention in [mentionobject['screen_name'] for mentionobject in e['user_mentions']]])\n",
    "df['entities_hashtags'] = df['entities'].apply(lambda e: [tag for tag in [tagobject['text'] for tagobject in e['hashtags']]])"
   ]
  },
  {
   "cell_type": "code",
   "execution_count": 369,
   "metadata": {
    "collapsed": false
   },
   "outputs": [],
   "source": [
    "#user\n",
    "df['user_id_str'] = df['user'].apply(lambda u: u['id_str'])\n",
    "df['user_screen_name'] = df['user'].apply(lambda u: u['screen_name'].replace('\\n', '').replace('\\r', ''))\n",
    "df['user_created_at'] = df['user'].apply(lambda u: pd.to_datetime(u['created_at'], format='%a %b %d %H:%M:%S +0000 %Y'))\n",
    "df['user_description'] = df['user'].apply(lambda u: u['description'].replace('\\n', ' ').replace('\\r', ' '))\n",
    "df['user_location'] = df['user'].apply(lambda u: u['location'].replace('\\n', ' ').replace('\\r', ' '))\n",
    "df['user_default_profile'] = df['user'].apply(lambda u: u['default_profile'])\n",
    "df['user_default_profile_image'] = df['user'].apply(lambda u: u['default_profile_image'])\n",
    "df['user_verified'] = df['user'].apply(lambda u: u['verified'])\n",
    "df['user_statuses'] = df['user'].apply(lambda u: u['statuses_count'])\n",
    "df['user_favourites'] = df['user'].apply(lambda u: u['favourites_count'])\n",
    "df['user_followers'] = df['user'].apply(lambda u: u['followers_count'])\n",
    "df['user_friends'] = df['user'].apply(lambda u: u['friends_count'])\n",
    "df['user_listed'] = df['user'].apply(lambda u: u['listed_count'])"
   ]
  },
  {
   "cell_type": "markdown",
   "metadata": {},
   "source": [
    "#### apply output columns filter"
   ]
  },
  {
   "cell_type": "code",
   "execution_count": 370,
   "metadata": {
    "collapsed": false
   },
   "outputs": [
    {
     "data": {
      "text/plain": [
       "(98314, 33)"
      ]
     },
     "execution_count": 370,
     "metadata": {},
     "output_type": "execute_result"
    }
   ],
   "source": [
    "df = df[cols]\n",
    "df.shape"
   ]
  },
  {
   "cell_type": "markdown",
   "metadata": {},
   "source": [
    "#### datetime\n",
    "- convert string to pandas datetime\n",
    "- used for plotting, and datetime accessors\n",
    "- twitter datetime was already converted to 'YYYY-MM-DD' in searching script\n",
    "- alternatively if not, use the below twitter datetime conversion\n",
    "\n",
    "```\n",
    "pd.to_datetime(df['created_at'], format='%a %b %d %H:%M:%S +0000 %Y')\n",
    "```"
   ]
  },
  {
   "cell_type": "code",
   "execution_count": 371,
   "metadata": {
    "collapsed": false
   },
   "outputs": [],
   "source": [
    "df.loc[:,('created_at')] = pd.to_datetime(df['created_at'])\n",
    "df = df.sort_values(by='created_at', ascending=True)"
   ]
  },
  {
   "cell_type": "markdown",
   "metadata": {},
   "source": [
    "#### plot timeseries of search\n",
    "- get tweet volume counts on frequency level hour\n",
    "- useful time groupers offset aliases: 'D'=day H'=hour 'T'=minute [documentation](http://pandas.pydata.org/pandas-docs/stable/timeseries.html#offset-aliases)\n",
    "- note twitter times are UTC"
   ]
  },
  {
   "cell_type": "code",
   "execution_count": 372,
   "metadata": {
    "collapsed": false
   },
   "outputs": [
    {
     "data": {
      "image/png": "[encoded data removed]",
      "text/plain": [
       "<matplotlib.figure.Figure at 0x331af390>"
      ]
     },
     "metadata": {},
     "output_type": "display_data"
    }
   ],
   "source": [
    "d = df.set_index('created_at').groupby([pd.TimeGrouper(freq='H')])['id_str'].agg(['count'])\n",
    "timeframe = pd.date_range(d.index.min(), d.index.max(), freq='H')\n",
    "d = d.reindex(timeframe, fill_value=0)\n",
    "\n",
    "plt.title('Search: \"%s\"' % keyword)\n",
    "ax = d['count'].plot(figsize=(16,4), label='volume')\n",
    "plt.legend(loc='best')\n",
    "plt.show()"
   ]
  },
  {
   "cell_type": "markdown",
   "metadata": {},
   "source": [
    "## Define Event\n",
    "#### date range\n",
    "- we define the data range as -1 day to +1 day from the event dates in UTC time\n",
    "- this way we can comfortably handle global events, and store events equally\n",
    "- replot tweet volume over time, using new event timeframe"
   ]
  },
  {
   "cell_type": "code",
   "execution_count": 373,
   "metadata": {
    "collapsed": false
   },
   "outputs": [
    {
     "name": "stdout",
     "output_type": "stream",
     "text": [
      "Enter Event Start Date (YYYY-MM-DD): 2016-06-13\n",
      "Enter Event End Date (YYYY-MM-DD): 2016-06-13\n"
     ]
    }
   ],
   "source": [
    "startdate = pd.to_datetime(input('Enter Event Start Date (YYYY-MM-DD): '))\n",
    "enddate = pd.to_datetime(input('Enter Event End Date (YYYY-MM-DD): '))\n",
    "\n",
    "start = startdate\n",
    "finish = enddate + DateOffset(days=1)\n",
    "\n",
    "timeframe = pd.date_range(start, finish, freq='H')"
   ]
  },
  {
   "cell_type": "markdown",
   "metadata": {},
   "source": [
    "#### trim excess tweets"
   ]
  },
  {
   "cell_type": "code",
   "execution_count": 374,
   "metadata": {
    "collapsed": false
   },
   "outputs": [
    {
     "data": {
      "text/plain": [
       "(89202, 33)"
      ]
     },
     "execution_count": 374,
     "metadata": {},
     "output_type": "execute_result"
    }
   ],
   "source": [
    "df = df[(df['created_at'] >= start) & (df['created_at'] < finish)]\n",
    "df.shape"
   ]
  },
  {
   "cell_type": "code",
   "execution_count": 375,
   "metadata": {
    "collapsed": false
   },
   "outputs": [
    {
     "data": {
      "image/png": "[encoded data removed]",
      "text/plain": [
       "<matplotlib.figure.Figure at 0x668a6860>"
      ]
     },
     "metadata": {},
     "output_type": "display_data"
    }
   ],
   "source": [
    "d = df.set_index('created_at').groupby([pd.TimeGrouper(freq='H')])['id_str'].agg(['count'])\n",
    "d = d.reindex(timeframe, fill_value=0)\n",
    "\n",
    "plt.title('Event: \"%s\"' % keyword)\n",
    "ax = d['count'].plot(figsize=(16,4), label='volume')\n",
    "plt.legend(loc='best')\n",
    "plt.show()"
   ]
  },
  {
   "cell_type": "markdown",
   "metadata": {},
   "source": [
    "#### remove retweets, replies, quoted tweets"
   ]
  },
  {
   "cell_type": "code",
   "execution_count": 376,
   "metadata": {
    "collapsed": false,
    "scrolled": true
   },
   "outputs": [
    {
     "data": {
      "text/plain": [
       "(86475, 33)"
      ]
     },
     "execution_count": 376,
     "metadata": {},
     "output_type": "execute_result"
    }
   ],
   "source": [
    "df = df[(df['is_retweet'] == 0) & (df['is_reply'] == 0) & (df['is_quoted_tweet'] == 0)]\n",
    "df.shape"
   ]
  },
  {
   "cell_type": "markdown",
   "metadata": {},
   "source": [
    "#### add index as master id, rename twitter id"
   ]
  },
  {
   "cell_type": "code",
   "execution_count": 377,
   "metadata": {
    "collapsed": true
   },
   "outputs": [],
   "source": [
    "df.reset_index(drop=True, inplace=True)\n",
    "df = df.reset_index().rename(columns={'index' : 'event_id', 'id_str' : 'twitter_id'})"
   ]
  },
  {
   "cell_type": "markdown",
   "metadata": {},
   "source": [
    "#### add event name"
   ]
  },
  {
   "cell_type": "code",
   "execution_count": 378,
   "metadata": {
    "collapsed": false
   },
   "outputs": [
    {
     "name": "stdout",
     "output_type": "stream",
     "text": [
      "Enter Event Name: Xbox E3\n"
     ]
    }
   ],
   "source": [
    "event_name = input('Enter Event Name: ')\n",
    "event_filename = re.sub(\"\\W+\", \"\", event_name.strip())\n",
    "df.loc[:,'event'] = event_name"
   ]
  },
  {
   "cell_type": "markdown",
   "metadata": {},
   "source": [
    "#### export event master datafile"
   ]
  },
  {
   "cell_type": "code",
   "execution_count": 379,
   "metadata": {
    "collapsed": true
   },
   "outputs": [],
   "source": [
    "df.to_csv('data/final/event_%s_data.txt' % event_filename, sep='\\t', encoding='utf-8', header=True, index=False)"
   ]
  },
  {
   "cell_type": "markdown",
   "metadata": {},
   "source": [
    "## Annotation\n",
    "\n",
    "#### get annotation data\n",
    "- define data that will go to crowdflower for annotation\n",
    "- sample 1k\n",
    "- add event title, description"
   ]
  },
  {
   "cell_type": "code",
   "execution_count": 380,
   "metadata": {
    "collapsed": false
   },
   "outputs": [],
   "source": [
    "#df_smpl = df.sample(100, random_state=2016)[['event', 'event_id', 'twitter_id', 'created_at', 'text']]"
   ]
  },
  {
   "cell_type": "code",
   "execution_count": 381,
   "metadata": {
    "collapsed": false
   },
   "outputs": [],
   "source": [
    "#df_smpl.loc[:,'event_description'] = input('Enter Event Description: ')"
   ]
  },
  {
   "cell_type": "code",
   "execution_count": 382,
   "metadata": {
    "collapsed": false
   },
   "outputs": [],
   "source": [
    "#reindex to datetime, groupby hour, count id's\n",
    "#d = df_smpl.set_index('created_at').groupby([pd.TimeGrouper(freq='H')])['twitter_id'].agg(['count'])\n",
    "#d = d.reindex(timeframe, fill_value=0)\n",
    "\n",
    "#plt.title('Event Sample: \"%s\"' % keyword)\n",
    "#ax = d['count'].plot(figsize=(16,4), label='volume')\n",
    "#plt.legend(loc='best')\n",
    "#plt.show()"
   ]
  },
  {
   "cell_type": "markdown",
   "metadata": {},
   "source": [
    "#### export sample"
   ]
  },
  {
   "cell_type": "code",
   "execution_count": 383,
   "metadata": {
    "collapsed": false
   },
   "outputs": [],
   "source": [
    "#format for crowdflower import\n",
    "#delimited by ','\n",
    "#double quote strings\n",
    "#xy.to_csv('data/final/events_annsample_forcrowdflower_manual.csv', sep=',', quoting=csv.QUOTE_NONNUMERIC, encoding='utf-8', header=True, index=False)"
   ]
  },
  {
   "cell_type": "markdown",
   "metadata": {},
   "source": [
    "### Explore Data (Demo)\n",
    "#### tweet type\n",
    "* plot tweet counts by type"
   ]
  },
  {
   "cell_type": "code",
   "execution_count": 384,
   "metadata": {
    "collapsed": false
   },
   "outputs": [
    {
     "data": {
      "image/png": "[encoded data removed]",
      "text/plain": [
       "<matplotlib.figure.Figure at 0xaf7aab00>"
      ]
     },
     "metadata": {},
     "output_type": "display_data"
    }
   ],
   "source": [
    "df.groupby('tweet_type')['twitter_id'].agg(['count']).plot(kind='bar', title='Tweet Type')\n",
    "plt.show()"
   ]
  },
  {
   "cell_type": "markdown",
   "metadata": {},
   "source": [
    "#### tweet type over time"
   ]
  },
  {
   "cell_type": "code",
   "execution_count": 385,
   "metadata": {
    "collapsed": false
   },
   "outputs": [
    {
     "data": {
      "image/png": "[encoded data removed]",
      "text/plain": [
       "<matplotlib.figure.Figure at 0x9379c0b8>"
      ]
     },
     "metadata": {},
     "output_type": "display_data"
    }
   ],
   "source": [
    "d = df.set_index('created_at').groupby([pd.TimeGrouper(freq='H'), 'tweet_type'])['twitter_id'].agg(['count']).unstack(level='tweet_type', fill_value=0)\n",
    "d = d.reindex(timeframe, fill_value=0)\n",
    "d.columns = d.columns.droplevel(0)\n",
    "\n",
    "d.plot(figsize=(16,4), title='Event: \"%s\"' % keyword)\n",
    "plt.show()"
   ]
  },
  {
   "cell_type": "markdown",
   "metadata": {},
   "source": [
    "#### source utility\n",
    "* plot tweet counts by top 10 source utility"
   ]
  },
  {
   "cell_type": "code",
   "execution_count": 386,
   "metadata": {
    "collapsed": false
   },
   "outputs": [
    {
     "data": {
      "image/png": "[encoded data removed]",
      "text/plain": [
       "<matplotlib.figure.Figure at 0xaf7cd4e0>"
      ]
     },
     "metadata": {},
     "output_type": "display_data"
    }
   ],
   "source": [
    "df.groupby('source')['twitter_id'].agg(['count']).sort_values(by='count', ascending=True)[-10:].plot(kind='barh', figsize=(8,5), title='Source Utility')\n",
    "plt.show()"
   ]
  },
  {
   "cell_type": "markdown",
   "metadata": {},
   "source": [
    "#### source place\n",
    "* plot tweet counts by top 10 place names\n",
    "* this data is user specificed, and not consistent/clean"
   ]
  },
  {
   "cell_type": "code",
   "execution_count": 387,
   "metadata": {
    "collapsed": false
   },
   "outputs": [
    {
     "data": {
      "image/png": "[encoded data removed]",
      "text/plain": [
       "<matplotlib.figure.Figure at 0x9686ea20>"
      ]
     },
     "metadata": {},
     "output_type": "display_data"
    }
   ],
   "source": [
    "df.groupby('place_name')['twitter_id'].agg(['count']).sort_values(by='count', ascending=True)[-10:].plot(kind='barh', figsize=(8,5), title='Place Name')\n",
    "plt.show()"
   ]
  }
 ],
 "metadata": {
  "kernelspec": {
   "display_name": "Python 3",
   "language": "python",
   "name": "python3"
  },
  "language_info": {
   "codemirror_mode": {
    "name": "ipython",
    "version": 3
   },
   "file_extension": ".py",
   "mimetype": "text/x-python",
   "name": "python",
   "nbconvert_exporter": "python",
   "pygments_lexer": "ipython3",
   "version": "3.4.5"
  }
 },
 "nbformat": 4,
 "nbformat_minor": 0
}
