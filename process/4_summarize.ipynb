{
 "cells": [
  {
   "cell_type": "markdown",
   "metadata": {},
   "source": [
    "# Tweet Summarization:\n",
    "\n",
    "### Engagements Method\n",
    "\n",
    "Simply extract top k most engaging tweets. The presentation of these in chronological order becomes the summary.\n",
    "\n",
    "### Subevent Method\n",
    "\n",
    "Using event detection algorithm to identify active times within the event timeline. Top k active subevents are used, and summarized using the *Phrase Reinforcement Algorithm* proposed by [Sharifi et al.](http://comjnl.oxfordjournals.org/content/early/2013/10/08/comjnl.bxt109.full.pdf+html) for Twitter\n",
    "\n",
    "**Phrase Reinforcement Algorithm**\n",
    "- Node weights are calculated using: $weight(node) = count(node) - distance(root) * \\ln(count(node))$\n",
    "- The node count is the number of times that token appears at that node index relative the root node."
   ]
  },
  {
   "cell_type": "code",
   "execution_count": 902,
   "metadata": {
    "collapsed": true
   },
   "outputs": [],
   "source": [
    "import pandas as pd\n",
    "import numpy as np\n",
    "import operator\n",
    "import nltk\n",
    "import string\n",
    "import html\n",
    "from collections import Counter\n",
    "import math\n",
    "import re\n",
    "import ast\n",
    "from sklearn.externals import joblib"
   ]
  },
  {
   "cell_type": "code",
   "execution_count": 903,
   "metadata": {
    "collapsed": true
   },
   "outputs": [],
   "source": [
    "k = 25"
   ]
  },
  {
   "cell_type": "markdown",
   "metadata": {},
   "source": [
    "#### import data"
   ]
  },
  {
   "cell_type": "code",
   "execution_count": 904,
   "metadata": {
    "collapsed": false
   },
   "outputs": [
    {
     "name": "stdout",
     "output_type": "stream",
     "text": [
      "Enter Event Name: Xbox E3\n"
     ]
    }
   ],
   "source": [
    "event_name = input('Enter Event Name: ')\n",
    "event_filename = re.sub(\"\\W+\", \"\", event_name.strip())"
   ]
  },
  {
   "cell_type": "code",
   "execution_count": 905,
   "metadata": {
    "collapsed": false
   },
   "outputs": [
    {
     "data": {
      "text/plain": [
       "(86475, 36)"
      ]
     },
     "execution_count": 905,
     "metadata": {},
     "output_type": "execute_result"
    }
   ],
   "source": [
    "df = pd.read_csv('data/final/event_%s_data.txt' % event_filename, sep='\\t', encoding='utf-8', header=0, parse_dates=['created_at'], dtype={'twitter_id' : 'str'})\n",
    "df.shape"
   ]
  },
  {
   "cell_type": "code",
   "execution_count": 906,
   "metadata": {
    "collapsed": false
   },
   "outputs": [
    {
     "data": {
      "text/plain": [
       "(1440, 5)"
      ]
     },
     "execution_count": 906,
     "metadata": {},
     "output_type": "execute_result"
    }
   ],
   "source": [
    "dfsubevents = pd.read_csv('data/final/event_%s_subevents.txt' % event_filename, sep='\\t', encoding='utf-8', header=0, index_col=0)\n",
    "dfsubevents.index = dfsubevents.index.to_datetime()\n",
    "dfsubevents.shape"
   ]
  },
  {
   "cell_type": "code",
   "execution_count": 907,
   "metadata": {
    "collapsed": false
   },
   "outputs": [
    {
     "data": {
      "text/plain": [
       "(1440, 7)"
      ]
     },
     "execution_count": 907,
     "metadata": {},
     "output_type": "execute_result"
    }
   ],
   "source": [
    "df_e_subevents = pd.read_csv('data/final/event_%s_e_subevents.txt' % event_filename, sep='\\t', encoding='utf-8', header=0, index_col=0)\n",
    "df_e_subevents.index = df_e_subevents.index.to_datetime()\n",
    "df_e_subevents.shape"
   ]
  },
  {
   "cell_type": "markdown",
   "metadata": {},
   "source": [
    "#### clean text"
   ]
  },
  {
   "cell_type": "code",
   "execution_count": 908,
   "metadata": {
    "collapsed": true
   },
   "outputs": [],
   "source": [
    "#convert text to string\n",
    "df['text'] = df['text'].apply(lambda text: html.unescape(str(text)))\n",
    "#remove hashtag, mention symbols, any links\n",
    "df['text_clean'] = df['text'].apply(lambda text: ' '.join([(w[:w.find('http')] if 'http' in w else w) for w in html.unescape(str(text)).replace('#', '').replace('@', '').split()]))\n",
    "#initiate, apply tokenization\n",
    "tknzr = nltk.TweetTokenizer()\n",
    "#create stop words list\n",
    "stop = nltk.corpus.stopwords.words('english')\n",
    "punct = list(string.punctuation)\n",
    "punct.extend(['...', '..', '…', '”', '“', '.@', 'RT'])\n",
    "stop.extend(punct)\n",
    "regex = re.compile('[^a-zA-Z\\d\\s:\\']')\n",
    "#removes non-alphanumeric\n",
    "df['text_clean'] = df['text_clean'].apply(lambda text: ' '.join([w.lower() for w in tknzr.tokenize(text) if w.lower() not in punct and not regex.search(w)]))\n",
    "df['text_clean_stopped'] = df['text_clean'].apply(lambda text: ' '.join([w.lower() for w in tknzr.tokenize(text) if w.lower() not in stop]))"
   ]
  },
  {
   "cell_type": "markdown",
   "metadata": {},
   "source": [
    "## Engagements Method"
   ]
  },
  {
   "cell_type": "code",
   "execution_count": 909,
   "metadata": {
    "collapsed": true
   },
   "outputs": [],
   "source": [
    "df['engagements'] = df['favorite_count'] + df['retweet_count']"
   ]
  },
  {
   "cell_type": "code",
   "execution_count": 910,
   "metadata": {
    "collapsed": true
   },
   "outputs": [],
   "source": [
    "df['rank_engagements'] = df['engagements'].rank(axis=0, ascending=False)"
   ]
  },
  {
   "cell_type": "code",
   "execution_count": 911,
   "metadata": {
    "collapsed": true
   },
   "outputs": [],
   "source": [
    "summary_engagements = df.reset_index()[['created_at', 'rank_engagements', 'twitter_id', 'text',  'text_clean', 'user_screen_name']].sort_values(by='rank_engagements').iloc[:k]"
   ]
  },
  {
   "cell_type": "code",
   "execution_count": 912,
   "metadata": {
    "collapsed": false
   },
   "outputs": [],
   "source": [
    "summary_engagements.rename(columns={'user_screen_name' : 'show_text'}, inplace=True)\n",
    "summary_engagements['show_text'] = '@'+summary_engagements['show_text']"
   ]
  },
  {
   "cell_type": "markdown",
   "metadata": {},
   "source": [
    "## Subevent Method"
   ]
  },
  {
   "cell_type": "markdown",
   "metadata": {},
   "source": [
    "#### get data from only top k subevents"
   ]
  },
  {
   "cell_type": "code",
   "execution_count": 913,
   "metadata": {
    "collapsed": false
   },
   "outputs": [
    {
     "name": "stderr",
     "output_type": "stream",
     "text": [
      "c:\\miniconda3\\lib\\site-packages\\ipykernel\\__main__.py:2: SettingWithCopyWarning: \n",
      "A value is trying to be set on a copy of a slice from a DataFrame.\n",
      "Try using .loc[row_indexer,col_indexer] = value instead\n",
      "\n",
      "See the caveats in the documentation: http://pandas.pydata.org/pandas-docs/stable/indexing.html#indexing-view-versus-copy\n",
      "  from ipykernel import kernelapp as app\n"
     ]
    }
   ],
   "source": [
    "dftemp = df[['twitter_id', 'created_at']]\n",
    "dftemp['created_at'] = dftemp['created_at'].apply(lambda x: x.replace(second=0))\n",
    "dftemp.set_index(['created_at'], inplace=True)\n",
    "\n",
    "data = pd.merge(dftemp, dfsubevents, how='inner', left_index=True, right_index=True)\n",
    "data.set_index('twitter_id', inplace=True)\n",
    "\n",
    "data = pd.merge(df.set_index('twitter_id'), data, how='left', left_index=True, right_index=True)\n",
    "\n",
    "data = data[data['rank_subevents'] <= k][['created_at', 'text', 'text_clean', 'text_clean_stopped', 'entities_hashtags', 'retweet_count', 'rank_subevents', 'news']]\n",
    "\n",
    "data = data.reset_index().set_index('created_at')"
   ]
  },
  {
   "cell_type": "markdown",
   "metadata": {},
   "source": [
    "### Apply Phrase Reinforcement Algorithm\n",
    "#### framework\n",
    "- for each subevent\n",
    "    - count tokens in all corpus\n",
    "        - save object of token counts, only those with frequencies > 1\n",
    "    - get root token\n",
    "        - most common token not in 100% of tweets\n",
    "    - for each tweet, index the tokens\n",
    "        - using only those tokens in above counter \n",
    "    - for each tweet, normalize the indices to the root index\n",
    "        - creating tweet node indices\n",
    "    - create corpus node graph\n",
    "        - from node index min to node index max\n",
    "        - count token occurrences at each node\n",
    "            - for each node index, save object of token counts, only those with frequency > 1\n",
    "    - compute node weights\n",
    "    - sum node weights\n",
    "    - rank tweets on sum node wieght\n",
    "        - get highest ranked\n",
    "- ouput summary tweets"
   ]
  },
  {
   "cell_type": "markdown",
   "metadata": {},
   "source": [
    "#### n-gram function (not used)"
   ]
  },
  {
   "cell_type": "code",
   "execution_count": 914,
   "metadata": {
    "collapsed": true
   },
   "outputs": [],
   "source": [
    "from itertools import tee, islice"
   ]
  },
  {
   "cell_type": "code",
   "execution_count": 915,
   "metadata": {
    "collapsed": false
   },
   "outputs": [],
   "source": [
    "def get_ngrams(token_list, n):\n",
    "    tlst = token_list\n",
    "    while True:\n",
    "        x, y = tee(tlst)\n",
    "        gram = tuple(islice(x, n))\n",
    "        if len(gram) == n:\n",
    "            yield gram\n",
    "            next(y)\n",
    "            tlst = y\n",
    "        else:\n",
    "            break"
   ]
  },
  {
   "cell_type": "markdown",
   "metadata": {},
   "source": [
    "#### run phrase reinforcement summarizer"
   ]
  },
  {
   "cell_type": "code",
   "execution_count": 916,
   "metadata": {
    "collapsed": false,
    "scrolled": false
   },
   "outputs": [
    {
     "name": "stderr",
     "output_type": "stream",
     "text": [
      "c:\\miniconda3\\lib\\site-packages\\pandas\\util\\decorators.py:91: SettingWithCopyWarning: \n",
      "A value is trying to be set on a copy of a slice from a DataFrame\n",
      "\n",
      "See the caveats in the documentation: http://pandas.pydata.org/pandas-docs/stable/indexing.html#indexing-view-versus-copy\n",
      "  return func(*args, **kwargs)\n",
      "c:\\miniconda3\\lib\\site-packages\\ipykernel\\__main__.py:15: SettingWithCopyWarning: \n",
      "A value is trying to be set on a copy of a slice from a DataFrame.\n",
      "Try using .loc[row_indexer,col_indexer] = value instead\n",
      "\n",
      "See the caveats in the documentation: http://pandas.pydata.org/pandas-docs/stable/indexing.html#indexing-view-versus-copy\n",
      "c:\\miniconda3\\lib\\site-packages\\ipykernel\\__main__.py:46: SettingWithCopyWarning: \n",
      "A value is trying to be set on a copy of a slice from a DataFrame.\n",
      "Try using .loc[row_indexer,col_indexer] = value instead\n",
      "\n",
      "See the caveats in the documentation: http://pandas.pydata.org/pandas-docs/stable/indexing.html#indexing-view-versus-copy\n",
      "c:\\miniconda3\\lib\\site-packages\\ipykernel\\__main__.py:58: SettingWithCopyWarning: \n",
      "A value is trying to be set on a copy of a slice from a DataFrame.\n",
      "Try using .loc[row_indexer,col_indexer] = value instead\n",
      "\n",
      "See the caveats in the documentation: http://pandas.pydata.org/pandas-docs/stable/indexing.html#indexing-view-versus-copy\n",
      "c:\\miniconda3\\lib\\site-packages\\ipykernel\\__main__.py:84: SettingWithCopyWarning: \n",
      "A value is trying to be set on a copy of a slice from a DataFrame.\n",
      "Try using .loc[row_indexer,col_indexer] = value instead\n",
      "\n",
      "See the caveats in the documentation: http://pandas.pydata.org/pandas-docs/stable/indexing.html#indexing-view-versus-copy\n",
      "c:\\miniconda3\\lib\\site-packages\\ipykernel\\__main__.py:86: SettingWithCopyWarning: \n",
      "A value is trying to be set on a copy of a slice from a DataFrame.\n",
      "Try using .loc[row_indexer,col_indexer] = value instead\n",
      "\n",
      "See the caveats in the documentation: http://pandas.pydata.org/pandas-docs/stable/indexing.html#indexing-view-versus-copy\n",
      "c:\\miniconda3\\lib\\site-packages\\ipykernel\\__main__.py:99: SettingWithCopyWarning: \n",
      "A value is trying to be set on a copy of a slice from a DataFrame.\n",
      "Try using .loc[row_indexer,col_indexer] = value instead\n",
      "\n",
      "See the caveats in the documentation: http://pandas.pydata.org/pandas-docs/stable/indexing.html#indexing-view-versus-copy\n",
      "c:\\miniconda3\\lib\\site-packages\\ipykernel\\__main__.py:102: SettingWithCopyWarning: \n",
      "A value is trying to be set on a copy of a slice from a DataFrame.\n",
      "Try using .loc[row_indexer,col_indexer] = value instead\n",
      "\n",
      "See the caveats in the documentation: http://pandas.pydata.org/pandas-docs/stable/indexing.html#indexing-view-versus-copy\n",
      "c:\\miniconda3\\lib\\site-packages\\ipykernel\\__main__.py:103: SettingWithCopyWarning: \n",
      "A value is trying to be set on a copy of a slice from a DataFrame.\n",
      "Try using .loc[row_indexer,col_indexer] = value instead\n",
      "\n",
      "See the caveats in the documentation: http://pandas.pydata.org/pandas-docs/stable/indexing.html#indexing-view-versus-copy\n"
     ]
    },
    {
     "name": "stdout",
     "output_type": "stream",
     "text": [
      "Wall time: 15.4 s\n"
     ]
    },
    {
     "name": "stderr",
     "output_type": "stream",
     "text": [
      "c:\\miniconda3\\lib\\site-packages\\ipykernel\\__main__.py:74: SettingWithCopyWarning: \n",
      "A value is trying to be set on a copy of a slice from a DataFrame.\n",
      "Try using .loc[row_indexer,col_indexer] = value instead\n",
      "\n",
      "See the caveats in the documentation: http://pandas.pydata.org/pandas-docs/stable/indexing.html#indexing-view-versus-copy\n"
     ]
    }
   ],
   "source": [
    "%%time\n",
    "\n",
    "summary = pd.DataFrame()\n",
    "for i in range(k):\n",
    "    #print('Rank: ', i+1)\n",
    "    subevent = data[data['rank_subevents'] == i+1]\n",
    "    \n",
    "    try:\n",
    "        #print(' data: ', subevent.shape[0])\n",
    "\n",
    "        #finding duplicates, keep only first occurrence\n",
    "        #print(' duplicates: ', subevent[subevent.duplicated('text_clean', keep='first')].shape[0])\n",
    "        subevent.drop_duplicates('text_clean', keep='first', inplace=True)\n",
    "        #print(' data: ', subevent.shape[0])\n",
    "\n",
    "        subevent['text_length'] = subevent.apply(lambda x: len(x['text']), axis=1)\n",
    "\n",
    "        #compute top hashtags (threshold >= 5% inclusion)\n",
    "        allhashtags = [hashtag.lower() for hashtags in subevent['entities_hashtags'] for hashtag in ast.literal_eval(hashtags)]\n",
    "        hashtagscounts = Counter(allhashtags)\n",
    "        tophashtags = [hashtag[0] for hashtag in hashtagscounts.most_common(100) if hashtag[1] >= (subevent.shape[0] * .01)]\n",
    "        tophashtags = [t for w in tophashtags for t in tknzr.tokenize(w)]\n",
    "\n",
    "        #count tokens\n",
    "        alltokens = [token for tweet in subevent['text_clean_stopped'] for token in tweet.split()]\n",
    "        counts = Counter(alltokens)\n",
    "        #terms_too_high = [term[0] for term in counts.most_common(100) if term[1] >= (subevent.shape[0] * .99)]\n",
    "        terms_too_high = []\n",
    "        \n",
    "        #get root\n",
    "        regex = re.compile('[^a-zA-Z\\d\\s:]')\n",
    "        try:\n",
    "            root, root_count = [term for term in counts.most_common() if term[0] not in terms_too_high and term[0] not in tophashtags and not regex.search(term[0])][0]\n",
    "            #print(' root1:', root, root_count)\n",
    "        except:\n",
    "            try:\n",
    "                root, root_count = [term for term in counts.most_common() if term[0] not in tophashtags and not regex.search(term[0])][0]\n",
    "                #print(' root2:', root, root_count)\n",
    "            except:\n",
    "                try:\n",
    "                    root, root_count = [term for term in counts.most_common() if not regex.search(term[0])][0]\n",
    "                    #print(' root3:', root, root_count)\n",
    "                except:\n",
    "                    root, root_count = [term for term in counts.most_common()][0]\n",
    "                    #print(' root4:', root, root_count)\n",
    "       \n",
    "        subevent['show_text'] = root\n",
    "        counts = dict((token,count) for token,count in counts.items() if not token in terms_too_high and count > 1)\n",
    "\n",
    "        #bigram counts\n",
    "        root_bigram = ''\n",
    "        bigram_count = 0\n",
    "        try:\n",
    "            bigram_counts = Counter(zip(alltokens,alltokens[1:]))\n",
    "            bigrams = [bigram for bigram in bigram_counts.most_common(100) if bigram[1] > 1 and not any(t in bigram[0] for t in terms_too_high) and not any(t in bigram[0] for t in tophashtags) and ''.join(bigram[0]) not in tophashtags and not regex.search(' '.join(bigram[0])) and len(bigram[0]) == len(set(bigram[0]))]\n",
    "            if len(bigrams) != 0 and bigrams[0][1] > root_count *.1 and bigrams[0][1] > 15:\n",
    "                root_bigram = ' '.join(bigrams[0][0])\n",
    "                bigram_count = bigrams[0][1]\n",
    "                subevent['show_text'] = root_bigram\n",
    "                root = root_bigram.split()[0]\n",
    "                #print(' bigram: ', root_bigram, bigram_count)\n",
    "        except TypeError:\n",
    "            pass\n",
    "\n",
    "        #ngram counts\n",
    "        root_ngram = ''\n",
    "        ngram_count = 0\n",
    "        try:\n",
    "            n = 3\n",
    "            ngram_counts = Counter(get_ngrams(alltokens, n))\n",
    "            ngrams = [ngram for ngram in ngram_counts.most_common(100) if ngram[1] > 1 and not any(t in ngram[0] for t in terms_too_high) and not any(t in ngram[0] for t in tophashtags) and ''.join(ngram[0]) not in tophashtags and not regex.search(' '.join(ngram[0])) and len(ngram[0]) == len(set(ngram[0]))]\n",
    "            if len(ngrams) != 0 and ngrams[0][1] > bigram_count *.1 and ngrams[0][1] > 15:\n",
    "                root_ngram = ' '.join(ngrams[0][0])\n",
    "                ngram_count = ngrams[0][1]\n",
    "                subevent['show_text'] = root_ngram\n",
    "                root = root_ngram.split()[0]\n",
    "                #print(' ngram:', root_ngram, ngram_count)\n",
    "        except TypeError:\n",
    "            pass\n",
    "\n",
    "        roots_search = [' ' + r + ' ' for r in [[root,root_bigram][root_bigram != ''],root_ngram][root_ngram != ''].split()]\n",
    "        roots = [[root,root_bigram][root_bigram != ''],root_ngram][root_ngram != ''].split()\n",
    "        \n",
    "        #index tokens in tweet\n",
    "        subevent['node_indices'] = subevent['text_clean_stopped'].apply(lambda text: dict((token.lower(),index) for index,token in enumerate(text.split()) if token.lower() in counts and not token.lower() in tophashtags if all(w in text for w in roots_search)))\n",
    "        #normalize indices relative to root\n",
    "        subevent['node_indices'] = subevent['node_indices'].apply(lambda d: dict((token, token_index - d.get(root)) for token,token_index in d.items() if root in d.keys()))\n",
    "\n",
    "        #graph token nodes around root node\n",
    "        #get node counts\n",
    "        nodelist = list(subevent['node_indices'])\n",
    "        d = [index for l in [list(d.values()) for d in nodelist] for index in l]\n",
    "        node_graph = {}\n",
    "        node_counts = {}\n",
    "        for i in range(min(d), max(d)+1):\n",
    "            node_graph[i] = [token for d in nodelist for token,index in d.items() if index == i]\n",
    "            node_counts[i] = dict((token,count) for token,count in Counter(node_graph[i]).items() if count > 1 and 'fuck' not in token)\n",
    "\n",
    "        #compute node weights\n",
    "        subevent['node_weights'] = subevent['node_indices'].apply(lambda d: dict((token, ((node_counts[token_index].get(token) if node_counts[token_index].get(token) else 0) + abs(token_index) * math.log1p(node_counts[token_index].get(token) if node_counts[token_index].get(token) else 0) if token not in roots else 1)) for token,token_index in d.items()))        \n",
    "\n",
    "        #sum node weights\n",
    "        subevent['text_weight'] = subevent['node_weights'].apply(lambda d: sum(d.values()))\n",
    "        subevent['text_weight_e'] = subevent.apply(lambda x: x['text_weight'] + x['text_weight'] * math.log1p(x['retweet_count']), axis=1)\n",
    "        \n",
    "        #get highest ranked tweet, append to summary\n",
    "        summary = summary.append(subevent.sort_values(by=['text_weight_e', 'text_length'], ascending=[False, False]).head(1))\n",
    "\n",
    "    except (IndexError, ValueError):\n",
    "        print('-'*50, '\\n ERROR, taking most retweeted tweet\\n', '-'*50)\n",
    "        summary = summary.append(subevent.sort_values(by='retweet_count', ascending=False).head(1))\n",
    "    \n",
    "pr_summary_subevents = summary.reset_index()[['created_at', 'rank_subevents', 'twitter_id', 'text', 'text_clean', 'text_clean_stopped', 'node_weights', 'retweet_count', 'text_weight', 'text_weight_e', 'show_text', 'news']].sort_values(by='rank_subevents')"
   ]
  },
  {
   "cell_type": "markdown",
   "metadata": {},
   "source": [
    "## E Subevent Method"
   ]
  },
  {
   "cell_type": "markdown",
   "metadata": {},
   "source": [
    "#### get data from only top k subevents"
   ]
  },
  {
   "cell_type": "code",
   "execution_count": 917,
   "metadata": {
    "collapsed": false
   },
   "outputs": [
    {
     "name": "stderr",
     "output_type": "stream",
     "text": [
      "c:\\miniconda3\\lib\\site-packages\\ipykernel\\__main__.py:2: SettingWithCopyWarning: \n",
      "A value is trying to be set on a copy of a slice from a DataFrame.\n",
      "Try using .loc[row_indexer,col_indexer] = value instead\n",
      "\n",
      "See the caveats in the documentation: http://pandas.pydata.org/pandas-docs/stable/indexing.html#indexing-view-versus-copy\n",
      "  from ipykernel import kernelapp as app\n"
     ]
    }
   ],
   "source": [
    "dftemp = df[['twitter_id', 'created_at']]\n",
    "dftemp['created_at'] = dftemp['created_at'].apply(lambda x: x.replace(second=0))\n",
    "dftemp.set_index(['created_at'], inplace=True)\n",
    "\n",
    "data = pd.merge(dftemp, df_e_subevents, how='inner', left_index=True, right_index=True)\n",
    "data.set_index('twitter_id', inplace=True)\n",
    "\n",
    "data = pd.merge(df.set_index('twitter_id'), data, how='left', left_index=True, right_index=True)\n",
    "\n",
    "data = data[data['rank_subevents'] <= k][['created_at', 'text', 'text_clean', 'text_clean_stopped', 'entities_hashtags', 'retweet_count', 'rank_subevents', 'news']]\n",
    "\n",
    "data = data.reset_index().set_index('created_at')"
   ]
  },
  {
   "cell_type": "markdown",
   "metadata": {},
   "source": [
    "#### run phrase reinforcement summarizer"
   ]
  },
  {
   "cell_type": "code",
   "execution_count": 918,
   "metadata": {
    "collapsed": false,
    "scrolled": false
   },
   "outputs": [
    {
     "name": "stderr",
     "output_type": "stream",
     "text": [
      "c:\\miniconda3\\lib\\site-packages\\pandas\\util\\decorators.py:91: SettingWithCopyWarning: \n",
      "A value is trying to be set on a copy of a slice from a DataFrame\n",
      "\n",
      "See the caveats in the documentation: http://pandas.pydata.org/pandas-docs/stable/indexing.html#indexing-view-versus-copy\n",
      "  return func(*args, **kwargs)\n",
      "c:\\miniconda3\\lib\\site-packages\\ipykernel\\__main__.py:15: SettingWithCopyWarning: \n",
      "A value is trying to be set on a copy of a slice from a DataFrame.\n",
      "Try using .loc[row_indexer,col_indexer] = value instead\n",
      "\n",
      "See the caveats in the documentation: http://pandas.pydata.org/pandas-docs/stable/indexing.html#indexing-view-versus-copy\n",
      "c:\\miniconda3\\lib\\site-packages\\ipykernel\\__main__.py:46: SettingWithCopyWarning: \n",
      "A value is trying to be set on a copy of a slice from a DataFrame.\n",
      "Try using .loc[row_indexer,col_indexer] = value instead\n",
      "\n",
      "See the caveats in the documentation: http://pandas.pydata.org/pandas-docs/stable/indexing.html#indexing-view-versus-copy\n",
      "c:\\miniconda3\\lib\\site-packages\\ipykernel\\__main__.py:58: SettingWithCopyWarning: \n",
      "A value is trying to be set on a copy of a slice from a DataFrame.\n",
      "Try using .loc[row_indexer,col_indexer] = value instead\n",
      "\n",
      "See the caveats in the documentation: http://pandas.pydata.org/pandas-docs/stable/indexing.html#indexing-view-versus-copy\n",
      "c:\\miniconda3\\lib\\site-packages\\ipykernel\\__main__.py:84: SettingWithCopyWarning: \n",
      "A value is trying to be set on a copy of a slice from a DataFrame.\n",
      "Try using .loc[row_indexer,col_indexer] = value instead\n",
      "\n",
      "See the caveats in the documentation: http://pandas.pydata.org/pandas-docs/stable/indexing.html#indexing-view-versus-copy\n",
      "c:\\miniconda3\\lib\\site-packages\\ipykernel\\__main__.py:86: SettingWithCopyWarning: \n",
      "A value is trying to be set on a copy of a slice from a DataFrame.\n",
      "Try using .loc[row_indexer,col_indexer] = value instead\n",
      "\n",
      "See the caveats in the documentation: http://pandas.pydata.org/pandas-docs/stable/indexing.html#indexing-view-versus-copy\n",
      "c:\\miniconda3\\lib\\site-packages\\ipykernel\\__main__.py:99: SettingWithCopyWarning: \n",
      "A value is trying to be set on a copy of a slice from a DataFrame.\n",
      "Try using .loc[row_indexer,col_indexer] = value instead\n",
      "\n",
      "See the caveats in the documentation: http://pandas.pydata.org/pandas-docs/stable/indexing.html#indexing-view-versus-copy\n",
      "c:\\miniconda3\\lib\\site-packages\\ipykernel\\__main__.py:102: SettingWithCopyWarning: \n",
      "A value is trying to be set on a copy of a slice from a DataFrame.\n",
      "Try using .loc[row_indexer,col_indexer] = value instead\n",
      "\n",
      "See the caveats in the documentation: http://pandas.pydata.org/pandas-docs/stable/indexing.html#indexing-view-versus-copy\n",
      "c:\\miniconda3\\lib\\site-packages\\ipykernel\\__main__.py:103: SettingWithCopyWarning: \n",
      "A value is trying to be set on a copy of a slice from a DataFrame.\n",
      "Try using .loc[row_indexer,col_indexer] = value instead\n",
      "\n",
      "See the caveats in the documentation: http://pandas.pydata.org/pandas-docs/stable/indexing.html#indexing-view-versus-copy\n",
      "c:\\miniconda3\\lib\\site-packages\\ipykernel\\__main__.py:74: SettingWithCopyWarning: \n",
      "A value is trying to be set on a copy of a slice from a DataFrame.\n",
      "Try using .loc[row_indexer,col_indexer] = value instead\n",
      "\n",
      "See the caveats in the documentation: http://pandas.pydata.org/pandas-docs/stable/indexing.html#indexing-view-versus-copy\n"
     ]
    },
    {
     "name": "stdout",
     "output_type": "stream",
     "text": [
      "Wall time: 16.8 s\n"
     ]
    }
   ],
   "source": [
    "%%time\n",
    "\n",
    "summary = pd.DataFrame()\n",
    "for i in range(k):\n",
    "    #print('Rank: ', i+1)\n",
    "    subevent = data[data['rank_subevents'] == i+1]\n",
    "    \n",
    "    try:\n",
    "        #print(' data: ', subevent.shape[0])\n",
    "\n",
    "        #finding duplicates, keep only first occurrence\n",
    "        #print(' duplicates: ', subevent[subevent.duplicated('text_clean', keep='first')].shape[0])\n",
    "        subevent.drop_duplicates('text_clean', keep='first', inplace=True)\n",
    "        #print(' data: ', subevent.shape[0])\n",
    "\n",
    "        subevent['text_length'] = subevent.apply(lambda x: len(x['text']), axis=1)\n",
    "\n",
    "        #compute top hashtags (threshold >= 5% inclusion)\n",
    "        allhashtags = [hashtag.lower() for hashtags in subevent['entities_hashtags'] for hashtag in ast.literal_eval(hashtags)]\n",
    "        hashtagscounts = Counter(allhashtags)\n",
    "        tophashtags = [hashtag[0] for hashtag in hashtagscounts.most_common(100) if hashtag[1] >= (subevent.shape[0] * .05)]\n",
    "        tophashtags = [t for w in tophashtags for t in tknzr.tokenize(w)]\n",
    "\n",
    "        #count tokens\n",
    "        alltokens = [token for tweet in subevent['text_clean_stopped'] for token in tweet.split()]\n",
    "        counts = Counter(alltokens)\n",
    "        #terms_too_high = [term[0] for term in counts.most_common(100) if term[1] >= (subevent.shape[0] * .99)]\n",
    "        terms_too_high = []\n",
    "        \n",
    "        #get root\n",
    "        regex = re.compile('[^a-zA-Z\\d\\s:]')\n",
    "        try:\n",
    "            root, root_count = [term for term in counts.most_common() if term[0] not in terms_too_high and term[0] not in tophashtags and not regex.search(term[0])][0]\n",
    "            #print(' root1:', root, root_count)\n",
    "        except:\n",
    "            try:\n",
    "                root, root_count = [term for term in counts.most_common() if term[0] not in tophashtags and not regex.search(term[0])][0]\n",
    "                #print(' root2:', root, root_count)\n",
    "            except:\n",
    "                try:\n",
    "                    root, root_count = [term for term in counts.most_common() if not regex.search(term[0])][0]\n",
    "                    #print(' root3:', root, root_count)\n",
    "                except:\n",
    "                    root, root_count = [term for term in counts.most_common()][0]\n",
    "                    #print(' root4:', root, root_count)\n",
    "       \n",
    "        subevent['show_text'] = root\n",
    "        counts = dict((token,count) for token,count in counts.items() if not token in terms_too_high and count > 1)\n",
    "\n",
    "        #bigram counts\n",
    "        root_bigram = ''\n",
    "        bigram_count = 0\n",
    "        try:\n",
    "            bigram_counts = Counter(zip(alltokens,alltokens[1:]))\n",
    "            bigrams = [bigram for bigram in bigram_counts.most_common(100) if bigram[1] > 1 and not any(t in bigram[0] for t in terms_too_high) and not any(t in bigram[0] for t in tophashtags) and ''.join(bigram[0]) not in tophashtags and not regex.search(' '.join(bigram[0])) and len(bigram[0]) == len(set(bigram[0]))]\n",
    "            if len(bigrams) != 0 and bigrams[0][1] > root_count *.1 and bigrams[0][1] > 15:\n",
    "                root_bigram = ' '.join(bigrams[0][0])\n",
    "                bigram_count = bigrams[0][1]\n",
    "                subevent['show_text'] = root_bigram\n",
    "                root = root_bigram.split()[0]\n",
    "                #print(' bigram: ', root_bigram, bigram_count)\n",
    "        except TypeError:\n",
    "            pass\n",
    "\n",
    "        #ngram counts\n",
    "        root_ngram = ''\n",
    "        ngram_count = 0\n",
    "        try:\n",
    "            n = 3\n",
    "            ngram_counts = Counter(get_ngrams(alltokens, n))\n",
    "            ngrams = [ngram for ngram in ngram_counts.most_common(100) if ngram[1] > 1 and not any(t in ngram[0] for t in terms_too_high) and not any(t in ngram[0] for t in tophashtags) and ''.join(ngram[0]) not in tophashtags and not regex.search(' '.join(ngram[0])) and len(ngram[0]) == len(set(ngram[0]))]\n",
    "            if len(ngrams) != 0 and ngrams[0][1] > bigram_count *.1 and ngrams[0][1] > 15:\n",
    "                root_ngram = ' '.join(ngrams[0][0])\n",
    "                ngram_count = ngrams[0][1]\n",
    "                subevent['show_text'] = root_ngram\n",
    "                root = root_ngram.split()[0]\n",
    "                #print(' ngram:', root_ngram, ngram_count)\n",
    "        except TypeError:\n",
    "            pass\n",
    "\n",
    "        roots_search = [' ' + r + ' ' for r in [[root,root_bigram][root_bigram != ''],root_ngram][root_ngram != ''].split()]\n",
    "        roots = [[root,root_bigram][root_bigram != ''],root_ngram][root_ngram != ''].split()\n",
    "        \n",
    "        #index tokens in tweet\n",
    "        subevent['node_indices'] = subevent['text_clean_stopped'].apply(lambda text: dict((token.lower(),index) for index,token in enumerate(text.split()) if token.lower() in counts and not token.lower() in tophashtags if all(w in text for w in roots_search)))\n",
    "        #normalize indices relative to root\n",
    "        subevent['node_indices'] = subevent['node_indices'].apply(lambda d: dict((token, token_index - d.get(root)) for token,token_index in d.items() if root in d.keys()))\n",
    "\n",
    "        #graph token nodes around root node\n",
    "        #get node counts\n",
    "        nodelist = list(subevent['node_indices'])\n",
    "        d = [index for l in [list(d.values()) for d in nodelist] for index in l]\n",
    "        node_graph = {}\n",
    "        node_counts = {}\n",
    "        for i in range(min(d), max(d)+1):\n",
    "            node_graph[i] = [token for d in nodelist for token,index in d.items() if index == i]\n",
    "            node_counts[i] = dict((token,count) for token,count in Counter(node_graph[i]).items() if count > 1 and 'fuck' not in token)\n",
    "\n",
    "        #compute node weights\n",
    "        subevent['node_weights'] = subevent['node_indices'].apply(lambda d: dict((token, ((node_counts[token_index].get(token) if node_counts[token_index].get(token) else 0) + abs(token_index) * math.log1p(node_counts[token_index].get(token) if node_counts[token_index].get(token) else 0) if token not in roots else 1)) for token,token_index in d.items()))        \n",
    "\n",
    "        #sum node weights\n",
    "        subevent['text_weight'] = subevent['node_weights'].apply(lambda d: sum(d.values()))\n",
    "        subevent['text_weight_e'] = subevent.apply(lambda x: x['text_weight'] + x['text_weight'] * math.log1p(x['retweet_count']), axis=1)\n",
    "        \n",
    "        #get highest ranked tweet, append to summary\n",
    "        summary = summary.append(subevent.sort_values(by=['text_weight_e', 'text_length'], ascending=[False, False]).head(1))\n",
    "\n",
    "    except (IndexError, ValueError):\n",
    "        print('-'*50, '\\n ERROR, taking most retweeted tweet\\n', '-'*50)\n",
    "        summary = summary.append(subevent.sort_values(by='retweet_count', ascending=False).head(1))\n",
    "    \n",
    "pr_summary_e_subevents = summary.reset_index()[['created_at', 'rank_subevents', 'twitter_id', 'text', 'text_clean', 'text_clean_stopped', 'node_weights', 'retweet_count', 'text_weight', 'show_text', 'news']].sort_values(by='rank_subevents')"
   ]
  },
  {
   "cell_type": "markdown",
   "metadata": {},
   "source": [
    "#### run phrase reinforcement summarizer, on classified news"
   ]
  },
  {
   "cell_type": "code",
   "execution_count": 919,
   "metadata": {
    "collapsed": false,
    "scrolled": false
   },
   "outputs": [
    {
     "name": "stderr",
     "output_type": "stream",
     "text": [
      "c:\\miniconda3\\lib\\site-packages\\pandas\\util\\decorators.py:91: SettingWithCopyWarning: \n",
      "A value is trying to be set on a copy of a slice from a DataFrame\n",
      "\n",
      "See the caveats in the documentation: http://pandas.pydata.org/pandas-docs/stable/indexing.html#indexing-view-versus-copy\n",
      "  return func(*args, **kwargs)\n",
      "c:\\miniconda3\\lib\\site-packages\\ipykernel\\__main__.py:17: SettingWithCopyWarning: \n",
      "A value is trying to be set on a copy of a slice from a DataFrame.\n",
      "Try using .loc[row_indexer,col_indexer] = value instead\n",
      "\n",
      "See the caveats in the documentation: http://pandas.pydata.org/pandas-docs/stable/indexing.html#indexing-view-versus-copy\n",
      "c:\\miniconda3\\lib\\site-packages\\ipykernel\\__main__.py:48: SettingWithCopyWarning: \n",
      "A value is trying to be set on a copy of a slice from a DataFrame.\n",
      "Try using .loc[row_indexer,col_indexer] = value instead\n",
      "\n",
      "See the caveats in the documentation: http://pandas.pydata.org/pandas-docs/stable/indexing.html#indexing-view-versus-copy\n",
      "c:\\miniconda3\\lib\\site-packages\\ipykernel\\__main__.py:60: SettingWithCopyWarning: \n",
      "A value is trying to be set on a copy of a slice from a DataFrame.\n",
      "Try using .loc[row_indexer,col_indexer] = value instead\n",
      "\n",
      "See the caveats in the documentation: http://pandas.pydata.org/pandas-docs/stable/indexing.html#indexing-view-versus-copy\n",
      "c:\\miniconda3\\lib\\site-packages\\ipykernel\\__main__.py:86: SettingWithCopyWarning: \n",
      "A value is trying to be set on a copy of a slice from a DataFrame.\n",
      "Try using .loc[row_indexer,col_indexer] = value instead\n",
      "\n",
      "See the caveats in the documentation: http://pandas.pydata.org/pandas-docs/stable/indexing.html#indexing-view-versus-copy\n",
      "c:\\miniconda3\\lib\\site-packages\\ipykernel\\__main__.py:88: SettingWithCopyWarning: \n",
      "A value is trying to be set on a copy of a slice from a DataFrame.\n",
      "Try using .loc[row_indexer,col_indexer] = value instead\n",
      "\n",
      "See the caveats in the documentation: http://pandas.pydata.org/pandas-docs/stable/indexing.html#indexing-view-versus-copy\n",
      "c:\\miniconda3\\lib\\site-packages\\ipykernel\\__main__.py:101: SettingWithCopyWarning: \n",
      "A value is trying to be set on a copy of a slice from a DataFrame.\n",
      "Try using .loc[row_indexer,col_indexer] = value instead\n",
      "\n",
      "See the caveats in the documentation: http://pandas.pydata.org/pandas-docs/stable/indexing.html#indexing-view-versus-copy\n",
      "c:\\miniconda3\\lib\\site-packages\\ipykernel\\__main__.py:104: SettingWithCopyWarning: \n",
      "A value is trying to be set on a copy of a slice from a DataFrame.\n",
      "Try using .loc[row_indexer,col_indexer] = value instead\n",
      "\n",
      "See the caveats in the documentation: http://pandas.pydata.org/pandas-docs/stable/indexing.html#indexing-view-versus-copy\n",
      "c:\\miniconda3\\lib\\site-packages\\ipykernel\\__main__.py:105: SettingWithCopyWarning: \n",
      "A value is trying to be set on a copy of a slice from a DataFrame.\n",
      "Try using .loc[row_indexer,col_indexer] = value instead\n",
      "\n",
      "See the caveats in the documentation: http://pandas.pydata.org/pandas-docs/stable/indexing.html#indexing-view-versus-copy\n",
      "c:\\miniconda3\\lib\\site-packages\\ipykernel\\__main__.py:76: SettingWithCopyWarning: \n",
      "A value is trying to be set on a copy of a slice from a DataFrame.\n",
      "Try using .loc[row_indexer,col_indexer] = value instead\n",
      "\n",
      "See the caveats in the documentation: http://pandas.pydata.org/pandas-docs/stable/indexing.html#indexing-view-versus-copy\n"
     ]
    },
    {
     "name": "stdout",
     "output_type": "stream",
     "text": [
      "Wall time: 13.5 s\n"
     ]
    }
   ],
   "source": [
    "%%time\n",
    "\n",
    "summary = pd.DataFrame()\n",
    "for i in range(k):\n",
    "    #print('Rank: ', i+1)\n",
    "    subevent = data[(data['rank_subevents'] == i+1) & (data['news'] == 1)]\n",
    "        \n",
    "    first = True\n",
    "    while True:\n",
    "        try:\n",
    "            #print(' data: ', subevent.shape[0])\n",
    "\n",
    "            #finding duplicates, keep only first occurrence\n",
    "            #print(' duplicates: ', subevent[subevent.duplicated('text_clean', keep='first')].shape[0])\n",
    "            subevent.drop_duplicates('text_clean', keep='first', inplace=True)\n",
    "            #print(' data: ', subevent.shape[0])\n",
    "\n",
    "            subevent['text_length'] = subevent.apply(lambda x: len(x['text']), axis=1)\n",
    "\n",
    "            #compute top hashtags (threshold >= 5% inclusion)\n",
    "            allhashtags = [hashtag.lower() for hashtags in subevent['entities_hashtags'] for hashtag in ast.literal_eval(hashtags)]\n",
    "            hashtagscounts = Counter(allhashtags)\n",
    "            tophashtags = [hashtag[0] for hashtag in hashtagscounts.most_common(100) if hashtag[1] >= (subevent.shape[0] * .05)]\n",
    "            tophashtags = [t for w in tophashtags for t in tknzr.tokenize(w)]\n",
    "\n",
    "            #count tokens\n",
    "            alltokens = [token for tweet in subevent['text_clean_stopped'] for token in tweet.split()]\n",
    "            counts = Counter(alltokens)\n",
    "            #terms_too_high = [term[0] for term in counts.most_common(100) if term[1] >= (subevent.shape[0] * .99)]\n",
    "            terms_too_high = []\n",
    "\n",
    "            #get root\n",
    "            regex = re.compile('[^a-zA-Z\\d\\s:]')\n",
    "            try:\n",
    "                root, root_count = [term for term in counts.most_common() if term[0] not in terms_too_high and term[0] not in tophashtags and not regex.search(term[0])][0]\n",
    "                #print(' root1:', root, root_count)\n",
    "            except:\n",
    "                try:\n",
    "                    root, root_count = [term for term in counts.most_common() if term[0] not in tophashtags and not regex.search(term[0])][0]\n",
    "                    #print(' root2:', root, root_count)\n",
    "                except:\n",
    "                    try:\n",
    "                        root, root_count = [term for term in counts.most_common() if not regex.search(term[0])][0]\n",
    "                        #print(' root3:', root, root_count)\n",
    "                    except:\n",
    "                        root, root_count = [term for term in counts.most_common()][0]\n",
    "                        #print(' root4:', root, root_count)\n",
    "\n",
    "            subevent['show_text'] = root\n",
    "            counts = dict((token,count) for token,count in counts.items() if not token in terms_too_high and count > 1)\n",
    "\n",
    "            #bigram counts\n",
    "            root_bigram = ''\n",
    "            bigram_count = 0\n",
    "            try:\n",
    "                bigram_counts = Counter(zip(alltokens,alltokens[1:]))\n",
    "                bigrams = [bigram for bigram in bigram_counts.most_common(100) if bigram[1] > 1 and not any(t in bigram[0] for t in terms_too_high) and not any(t in bigram[0] for t in tophashtags) and ''.join(bigram[0]) not in tophashtags and not regex.search(' '.join(bigram[0])) and len(bigram[0]) == len(set(bigram[0]))]\n",
    "                if len(bigrams) != 0 and bigrams[0][1] > root_count *.1 and bigrams[0][1] > 15:\n",
    "                    root_bigram = ' '.join(bigrams[0][0])\n",
    "                    bigram_count = bigrams[0][1]\n",
    "                    subevent['show_text'] = root_bigram\n",
    "                    root = root_bigram.split()[0]\n",
    "                    #print(' bigram: ', root_bigram, bigram_count)\n",
    "            except TypeError:\n",
    "                pass\n",
    "\n",
    "            #ngram counts\n",
    "            root_ngram = ''\n",
    "            ngram_count = 0\n",
    "            try:\n",
    "                n = 3\n",
    "                ngram_counts = Counter(get_ngrams(alltokens, n))\n",
    "                ngrams = [ngram for ngram in ngram_counts.most_common(100) if ngram[1] > 1 and not any(t in ngram[0] for t in terms_too_high) and not any(t in ngram[0] for t in tophashtags) and ''.join(ngram[0]) not in tophashtags and not regex.search(' '.join(ngram[0])) and len(ngram[0]) == len(set(ngram[0]))]\n",
    "                if len(ngrams) != 0 and ngrams[0][1] > bigram_count *.1 and ngrams[0][1] > 15:\n",
    "                    root_ngram = ' '.join(ngrams[0][0])\n",
    "                    ngram_count = ngrams[0][1]\n",
    "                    subevent['show_text'] = root_ngram\n",
    "                    root = root_ngram.split()[0]\n",
    "                    #print(' ngram:', root_ngram, ngram_count)\n",
    "            except TypeError:\n",
    "                pass\n",
    "\n",
    "            roots_search = [' ' + r + ' ' for r in [[root,root_bigram][root_bigram != ''],root_ngram][root_ngram != ''].split()]\n",
    "            roots = [[root,root_bigram][root_bigram != ''],root_ngram][root_ngram != ''].split()\n",
    "\n",
    "            #index tokens in tweet\n",
    "            subevent['node_indices'] = subevent['text_clean_stopped'].apply(lambda text: dict((token.lower(),index) for index,token in enumerate(text.split()) if token.lower() in counts and not token.lower() in tophashtags if all(w in text for w in roots_search)))\n",
    "            #normalize indices relative to root\n",
    "            subevent['node_indices'] = subevent['node_indices'].apply(lambda d: dict((token, token_index - d.get(root)) for token,token_index in d.items() if root in d.keys()))\n",
    "\n",
    "            #graph token nodes around root node\n",
    "            #get node counts\n",
    "            nodelist = list(subevent['node_indices'])\n",
    "            d = [index for l in [list(d.values()) for d in nodelist] for index in l]\n",
    "            node_graph = {}\n",
    "            node_counts = {}\n",
    "            for i in range(min(d), max(d)+1):\n",
    "                node_graph[i] = [token for d in nodelist for token,index in d.items() if index == i]\n",
    "                node_counts[i] = dict((token,count) for token,count in Counter(node_graph[i]).items() if count > 1 and 'fuck' not in token)\n",
    "\n",
    "            #compute node weights\n",
    "            subevent['node_weights'] = subevent['node_indices'].apply(lambda d: dict((token, ((node_counts[token_index].get(token) if node_counts[token_index].get(token) else 0) + abs(token_index) * math.log1p(node_counts[token_index].get(token) if node_counts[token_index].get(token) else 0) if token not in roots else 1)) for token,token_index in d.items()))        \n",
    "\n",
    "            #sum node weights\n",
    "            subevent['text_weight'] = subevent['node_weights'].apply(lambda d: sum(d.values()))\n",
    "            subevent['text_weight_e'] = subevent.apply(lambda x: x['text_weight'] + x['text_weight'] * math.log1p(x['retweet_count']), axis=1)\n",
    "\n",
    "            #get highest ranked tweet, append to summary\n",
    "            summary = summary.append(subevent[subevent['text_weight'] != 0].sort_values(by=['text_weight_e', 'text_length'], ascending=[False, False]).head(1))\n",
    "            break\n",
    "\n",
    "        except (IndexError, ValueError):\n",
    "            if first:\n",
    "                print('-'*50, '\\n ERROR, not enough news, using all data\\n', '-'*50)\n",
    "                subevent = data[(data['rank_subevents'] == i+1)]\n",
    "                first = False\n",
    "                continue\n",
    "            else:\n",
    "                print('-'*50, '\\n ERROR, taking most retweeted tweet\\n', '-'*50)\n",
    "                summary = summary.append(subevent.sort_values(by='retweet_count', ascending=False).head(1))\n",
    "                break\n",
    "\n",
    "prplus_summary_e_subevents = summary.reset_index()[['created_at', 'rank_subevents', 'twitter_id', 'text', 'text_clean', 'text_clean_stopped', 'node_weights', 'retweet_count', 'text_weight', 'show_text', 'news']].sort_values(by='rank_subevents')"
   ]
  },
  {
   "cell_type": "markdown",
   "metadata": {},
   "source": [
    "## Merge Summaries with Event Timeline"
   ]
  },
  {
   "cell_type": "code",
   "execution_count": 920,
   "metadata": {
    "collapsed": false
   },
   "outputs": [],
   "source": [
    "timeline = dfsubevents.reset_index()[['index', 'count']]\n",
    "timeline.columns = ['created_at', 'volume']"
   ]
  },
  {
   "cell_type": "code",
   "execution_count": 921,
   "metadata": {
    "collapsed": false
   },
   "outputs": [],
   "source": [
    "summary_engagements['created_at'] = summary_engagements['created_at'].apply(lambda x: x.replace(second=0))\n",
    "timelinesummary_engagements = pd.merge(timeline, summary_engagements, how='left', on='created_at')\n",
    "timelinesummary_engagements.rename(columns={'rank_engagements': 'rank'}, inplace=True)\n",
    "\n",
    "timelinesummary_engagements.to_csv('data/final/summary/event_%s_summary_engagements.txt' % event_filename, sep='\\t', encoding='utf-8', header=True, index=False)"
   ]
  },
  {
   "cell_type": "code",
   "execution_count": 922,
   "metadata": {
    "collapsed": false
   },
   "outputs": [],
   "source": [
    "pr_summary_subevents['created_at'] = pr_summary_subevents['created_at'].apply(lambda x: x.replace(second=0))\n",
    "timelinesummary_pr_subevents = pd.merge(timeline, pr_summary_subevents, how='left', on='created_at')\n",
    "timelinesummary_pr_subevents.rename(columns={'rank_subevents': 'rank'}, inplace=True)\n",
    "\n",
    "timelinesummary_pr_subevents.to_csv('data/final/summary/event_%s_summary_pr_subevents.txt' % event_filename, sep='\\t', encoding='utf-8', header=True, index=False)"
   ]
  },
  {
   "cell_type": "code",
   "execution_count": 923,
   "metadata": {
    "collapsed": true
   },
   "outputs": [],
   "source": [
    "pr_summary_e_subevents['created_at'] = pr_summary_e_subevents['created_at'].apply(lambda x: x.replace(second=0))\n",
    "timelinesummary_pr_e_subevents = pd.merge(timeline, pr_summary_e_subevents, how='left', on='created_at')\n",
    "timelinesummary_pr_e_subevents.rename(columns={'rank_subevents': 'rank'}, inplace=True)\n",
    "\n",
    "timelinesummary_pr_e_subevents.to_csv('data/final/summary/event_%s_summary_pr_e_subevents.txt' % event_filename, sep='\\t', encoding='utf-8', header=True, index=False)"
   ]
  },
  {
   "cell_type": "code",
   "execution_count": 924,
   "metadata": {
    "collapsed": true
   },
   "outputs": [],
   "source": [
    "prplus_summary_e_subevents['created_at'] = prplus_summary_e_subevents['created_at'].apply(lambda x: x.replace(second=0))\n",
    "timelinesummary_prplus_e_subevents = pd.merge(timeline, prplus_summary_e_subevents, how='left', on='created_at')\n",
    "timelinesummary_prplus_e_subevents.rename(columns={'rank_subevents': 'rank'}, inplace=True)\n",
    "\n",
    "timelinesummary_prplus_e_subevents.to_csv('data/final/summary/event_%s_summary_prplus_e_subevents.txt' % event_filename, sep='\\t', encoding='utf-8', header=True, index=False)"
   ]
  },
  {
   "cell_type": "markdown",
   "metadata": {},
   "source": [
    "## Print Summaries\n",
    "- static examples"
   ]
  },
  {
   "cell_type": "code",
   "execution_count": 925,
   "metadata": {
    "collapsed": true
   },
   "outputs": [],
   "source": [
    "import matplotlib.pyplot as plt\n",
    "import seaborn as sns\n",
    "%matplotlib inline\n",
    "plt.style.use('fivethirtyeight')\n",
    "pd.options.display.max_colwidth = 200"
   ]
  },
  {
   "cell_type": "markdown",
   "metadata": {},
   "source": [
    "### Engagements"
   ]
  },
  {
   "cell_type": "code",
   "execution_count": 926,
   "metadata": {
    "collapsed": false
   },
   "outputs": [
    {
     "data": {
      "image/png": "[encoded data removed]",
      "text/plain": [
       "<matplotlib.figure.Figure at 0x8fc898>"
      ]
     },
     "metadata": {},
     "output_type": "display_data"
    }
   ],
   "source": [
    "plt.title('\"%s\" \\n Engagements Summary Timeline' % event_name)\n",
    "ax = timelinesummary_engagements['volume'].plot(figsize=(16,4))\n",
    "timelinesummary_engagements[timelinesummary_engagements['rank'] <= k]['volume'].plot(ax=ax, style='ro', alpha=.8, label='high engagment tweet')\n",
    "plt.legend(loc='best', markerscale=2, fontsize=14)\n",
    "fig = plt.gcf()\n",
    "plt.tight_layout()\n",
    "plt.show()\n",
    "fig.savefig('images/summary_%s_engagements.png' % event_filename)"
   ]
  },
  {
   "cell_type": "markdown",
   "metadata": {},
   "source": [
    "### Subevents"
   ]
  },
  {
   "cell_type": "code",
   "execution_count": 927,
   "metadata": {
    "collapsed": false
   },
   "outputs": [
    {
     "data": {
      "image/png": "[encoded data removed]",
      "text/plain": [
       "<matplotlib.figure.Figure at 0xb23b518>"
      ]
     },
     "metadata": {},
     "output_type": "display_data"
    }
   ],
   "source": [
    "plt.title('\"%s\" \\n Subevents Summary Timeline' % event_name)\n",
    "ax = timelinesummary_pr_subevents['volume'].plot(figsize=(16,4))\n",
    "timelinesummary_pr_subevents[timelinesummary_pr_subevents['rank'] <= k]['volume'].plot(ax=ax, style='ro', alpha=.8, label='subevent')\n",
    "plt.legend(loc='best', markerscale=2, fontsize=14)\n",
    "fig = plt.gcf()\n",
    "plt.tight_layout()\n",
    "plt.show()\n",
    "fig.savefig('images/summary_%s_subevents.png' % event_filename)"
   ]
  },
  {
   "cell_type": "markdown",
   "metadata": {},
   "source": [
    "### E Subevents"
   ]
  },
  {
   "cell_type": "code",
   "execution_count": 928,
   "metadata": {
    "collapsed": false
   },
   "outputs": [
    {
     "data": {
      "image/png": "[encoded data removed]",
      "text/plain": [
       "<matplotlib.figure.Figure at 0xaa90748>"
      ]
     },
     "metadata": {},
     "output_type": "display_data"
    }
   ],
   "source": [
    "plt.title('\"%s\" \\n E Subevents Summary Timeline' % event_name)\n",
    "ax = timelinesummary_pr_e_subevents['volume'].plot(figsize=(16,4))\n",
    "timelinesummary_pr_e_subevents[timelinesummary_pr_e_subevents['rank'] <= k]['volume'].plot(ax=ax, style='ro', alpha=.8, label='subevent')\n",
    "plt.legend(loc='best', markerscale=2, fontsize=14)\n",
    "fig = plt.gcf()\n",
    "plt.tight_layout()\n",
    "plt.show()\n",
    "fig.savefig('images/summary_%s_e_subevents.png' % event_filename)"
   ]
  },
  {
   "cell_type": "markdown",
   "metadata": {},
   "source": [
    "#### text summaries"
   ]
  },
  {
   "cell_type": "code",
   "execution_count": 929,
   "metadata": {
    "collapsed": false
   },
   "outputs": [],
   "source": [
    "#summary_engagements.set_index('created_at').sort_index(ascending=True)"
   ]
  },
  {
   "cell_type": "code",
   "execution_count": 930,
   "metadata": {
    "collapsed": false,
    "scrolled": true
   },
   "outputs": [],
   "source": [
    "#timelinesummary_pr_subevents[timelinesummary_pr_subevents['rank'] <= k].set_index('created_at').sort_index(ascending=True)"
   ]
  },
  {
   "cell_type": "code",
   "execution_count": 931,
   "metadata": {
    "collapsed": false,
    "scrolled": false
   },
   "outputs": [],
   "source": [
    "#timelinesummary_pr_e_subevents[timelinesummary_pr_e_subevents['rank'] <= k].set_index('created_at').sort_index(ascending=True)"
   ]
  },
  {
   "cell_type": "code",
   "execution_count": 932,
   "metadata": {
    "collapsed": false,
    "scrolled": false
   },
   "outputs": [],
   "source": [
    "#timelinesummary_prplus_e_subevents[timelinesummary_prplus_e_subevents['rank'] <= k].set_index('created_at').sort_index(ascending=True)"
   ]
  },
  {
   "cell_type": "markdown",
   "metadata": {},
   "source": [
    "### export summaries for evaluation"
   ]
  },
  {
   "cell_type": "code",
   "execution_count": 933,
   "metadata": {
    "collapsed": false
   },
   "outputs": [],
   "source": [
    "summary_engagements.to_csv('data/final/summary/foreval_event_%s_summary_engagements.txt' % event_filename, sep='\\t', encoding='utf-8', header=True, index=False)\n",
    "pr_summary_subevents.to_csv('data/final/summary/foreval_event_%s_summary_pr_subevents.txt' % event_filename, sep='\\t', encoding='utf-8', header=True, index=False)\n",
    "pr_summary_e_subevents.to_csv('data/final/summary/foreval_event_%s_summary_pr_e_subevents.txt' % event_filename, sep='\\t', encoding='utf-8', header=True, index=False)\n",
    "prplus_summary_e_subevents.to_csv('data/final/summary/foreval_event_%s_summary_prplus_e_subevents.txt' % event_filename, sep='\\t', encoding='utf-8', header=True, index=False)"
   ]
  }
 ],
 "metadata": {
  "kernelspec": {
   "display_name": "Python 3",
   "language": "python",
   "name": "python3"
  },
  "language_info": {
   "codemirror_mode": {
    "name": "ipython",
    "version": 3
   },
   "file_extension": ".py",
   "mimetype": "text/x-python",
   "name": "python",
   "nbconvert_exporter": "python",
   "pygments_lexer": "ipython3",
   "version": "3.4.5"
  }
 },
 "nbformat": 4,
 "nbformat_minor": 0
}
