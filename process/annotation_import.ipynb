{
 "cells": [
  {
   "cell_type": "markdown",
   "metadata": {},
   "source": [
    "# Annotation of Tweets\n",
    "In order to train a machine learning model we gathered ground truth data from a crowdsourcing task. Alternative to traditional gold standard data collection methods which employ expert annotaters and rely on single right answer for truth, we use an open-sourced crowdsourcing approach which relies on subjectivity the in human interpretations for gathering multiple annotations. The [CrowdTruth Framework](https://github.com/CrowdTruth/CrowdTruth) harnesses disagreement to yield higher quality results, rather than eliminating it.\n",
    "\n",
    "Due to subjectivity in human interpretations of semantic data, disagreement between annotators is naturally produced as more people labeling natural language data. This is especially true in data that is inherently social, on microblogging sites such as Twitter. It is often not obvious in Tweets, which parts of speech are objects or subjects, and who is the intended audience. The inclusion of sarcasm, slang and hidden sentiment all produce extra ambiguity.\n",
    "\n",
    "We gather multiple annotations per document, which accounts for and reflects human subjectivity in the interpretations of each document. We then measure inter-annotator disagreement between each document and each annotaion, using the cosine-similarity measure within a vector space.\n",
    "\n",
    "Specifically we are interested in gathering data on wether or not a tweet contains news about an event. This result is correlated with certain quality characteristics, also annotated for each tweet.\n",
    "\n",
    "#### Quality Characteristics\n",
    "\n",
    "- Advertisement\n",
    "- Personal Opinion\n",
    "- Direct Quote\n",
    "- Sarcasm\n",
    "- Explicit Language or Graphic Content\n",
    "- Not in English\n",
    "- Display Error\n",
    "- None\n",
    "\n",
    "#### News Update\n",
    "\n",
    "- NOT CONTAINS: The Tweet does not contain any news about the Event\n",
    "- POSSIBLY CONTAINS: The Tweet possibly contains news about the Event\n",
    "- CONTAINS: The Tweet contains news about the Event\n",
    "\n",
    "## Steps\n",
    "1. Transform Raw Data\n",
    "    - count total annotations per tweet\n",
    "    - unstack html radio/checkbox values\n",
    "2. Apply CrowdTruth Framework\n",
    "    - get annotation vectors (worker-document vectors)\n",
    "    - get unit vectors\n",
    "    - get aggregate document vectors\n",
    "    - **worker-document disagreement**\n",
    "        - calculated as the average of all cosine distances between each worker's document vector and the aggregate document vector (minus that worker) [1]\n",
    "        - sudo code:\n",
    "            ``` python\n",
    "            for each worker:\n",
    "                get worked documents\n",
    "                compute document vectors minus worker\n",
    "                for every other worker:\n",
    "                    get worker document score as cosine distance(worker vector, document vector minus worker)\n",
    "            get worker score as avg(worker document scores)\n",
    "            ```\n",
    "    - **worker-worker disagreement**\n",
    "        - calculated as $1 - avg(k)$ where k is the pairwise metric, between every worker vector and all other worker vectors [1]\n",
    "        - sudo code: \n",
    "            ``` python\n",
    "            for each worker:\n",
    "                for every other worker:\n",
    "                    get documents overlap\n",
    "                    for document in documents overlap:\n",
    "                        for annotation in annotations vector:\n",
    "                            get agreement\n",
    "                    get worker worker document score as sum (agreement) / total annotations\n",
    "            get worker score as 1 - avg(worker worker document scores)\n",
    "            ```\n",
    "    - **document-annotation scores** (vector)\n",
    "        - calculated as the cosine distance between the each aggregate document vector and the unit vector for every annotation [1]\n",
    "    - **document clarity**\n",
    "        - calculated as the max annotation score for each document [1]\n",
    "3. Aggregate\n",
    "    - remove spam workers\n",
    "        - if outlier in both worker-worker disagrmeent and worker-document disagreement\n",
    "    - take those annotaions with >= .85 clarity\n",
    "        - Following the CrowdTruth results demonstrated in [1], we select a threshold for document clarity that yeilds highest agreement between crowd and experts. They showed that the higher this score, the easier it is for a machine as well as human to classify.\n",
    "4. Summarize\n",
    "    - identify correlations between news annotations with certain quality characteristic\n",
    "    - identify relationships between annotations and clarity\n",
    "    \n",
    "\n",
    "## CrowdTruth Framework:\n",
    "The framework's metrics exploit ambiguity in annotations for collecting higher quality annotations. The example below considers two documents (Tweets), each being annotated by three workers. \n",
    "\n",
    "**annotation vectors**\n",
    "- the annotation of one worker for one document\n",
    "\n",
    "| doc | worker | NOT CONTAINS | POSSIBLY CONTAINS | CONTAINS |\n",
    "|---|---|---|---|---|\n",
    "| 101 | 001 | 0 | 0 | 1 |\n",
    "| 101 | 002 | 0 | 1 | 0 |\n",
    "| 101 | 003 | 0 | 0 | 1 |\n",
    "| 102 | 001 | 1 | 0 | 0 |\n",
    "| 102 | 002 | 1 | 0 | 0 |\n",
    "| 102 | 003 | 0 | 1 | 0 |\n",
    "| 103 | 001 | 1 | 0 | 0 |\n",
    "| 103 | 002 | 0 | 1 | 0 |\n",
    "| 103 | 003 | 0 | 1 | 0 |\n",
    "\n",
    "**document vectors**\n",
    "- for every sentence, the sum of all annotation vectors\n",
    "\n",
    "| doc | NOT CONTAINS | POSSIBLY CONTAINS | CONTAINS |\n",
    "|---|---|---|---|\n",
    "| 101 | 0 | 1 | 2 |\n",
    "| 102 | 2 | 1 | 0 |\n",
    "| 103 | 1 | 2 | 0 |\n",
    "\n",
    "**unit vectors**\n",
    "- for every sentence, the sum of all annotation vectors\n",
    "\n",
    "| annotation | NOT CONTAINS | POSSIBLY CONTAINS | CONTAINS |\n",
    "|---|---|---|---|\n",
    "| NOT CONTAINS | 1 | 0 | 0 |\n",
    "| POSSIBLY CONTAINS | 0 | 1 | 0 |\n",
    "| CONTAINS | 0 | 0 | 1 |\n",
    "\n",
    "**worker-document scores**\n",
    "\n",
    "| worker | doc | worker_document_score |\n",
    "|---|---|---|\n",
    "| 001 | 101 | 0.71 |\n",
    "| 001 | 102 | 0.71 |\n",
    "| 001 | 103 | 0.00 |\n",
    "| 002 | 101 | 0.00 |\n",
    "| 002 | 102 | 0.71 |\n",
    "| 002 | 103 | 0.71 |\n",
    "| 003 | 101 | 0.71 |\n",
    "| 003 | 102 | 0.00 |\n",
    "| 003 | 103 | 0.71 |\n",
    "\n",
    "| worker | avg_worker_document_score |\n",
    "|---|---|\n",
    "| 001 | 0.47 |\n",
    "| 002 | 0.47 |\n",
    "| 003 | 0.47 |\n",
    "\n",
    "**worker-worker scores**\n",
    "\n",
    "$k = agreement / annotations$\n",
    "\n",
    "| worker1 | worker2 | doc | k |\n",
    "|---|---|---|---|\n",
    "| 001 | 002 | 101 | 0.00 |\n",
    "| 001 | 002 | 102 | 0.33 |\n",
    "| 001 | 002 | 103 | 0.00 |\n",
    "| 001 | 003 | 101 | 0.33 |\n",
    "| 001 | 003 | 102 | 0.00 |\n",
    "| 001 | 003 | 103 | 0.00 |\n",
    "| 002 | 001 | 101 | 0.00 |\n",
    "| 002 | 001 | 102 | 0.33 |\n",
    "| 002 | 001 | 103 | 0.00 |\n",
    "| 002 | 003 | 101 | 0.00 |\n",
    "| 002 | 003 | 102 | 0.00 |\n",
    "| 002 | 003 | 103 | 0.33 |\n",
    "| 003 | 001 | 101 | 0.33 |\n",
    "| 003 | 001 | 102 | 0.00 |\n",
    "| 003 | 001 | 103 | 0.00 |\n",
    "| 003 | 002 | 101 | 0.00 |\n",
    "| 003 | 002 | 102 | 0.00 |\n",
    "| 003 | 002 | 103 | 0.33 |\n",
    "\n",
    "$disagreement = (1 - avg(k))$\n",
    "\n",
    "| worker | worker_worker_disagreement |\n",
    "|---|---|\n",
    "| 001 | 0.81 |\n",
    "| 002 | 0.81 |\n",
    "| 003 | 0.81 |\n",
    "\n",
    "**document-annotation scores**\n",
    "- the cosine similarity between the document vector and the unit vector for that annotation\n",
    "    - Cosine Similarity measures the cosine distance from 0 to 1 between two equal length vectors, and is calculated as $cos(\\pmb dv, \\pmb uv) = \\frac {\\pmb dv \\cdot \\pmb uv}{||\\pmb dv|| \\cdot ||\\pmb uv||}$\n",
    "\n",
    "| doc | NOT CONTAINS | POSSIBLY CONTAINS | CONTAINS |\n",
    "|---|---|---|---|\n",
    "| 101 | 0.00 | 0.45 | 0.89 |\n",
    "| 102 | 0.89 | 0.45 | 0.00 |\n",
    "| 103 | 0.45 | 0.89 | 0.00 |\n",
    "\n",
    "**document clarity**\n",
    "- the scores are a measure of clarity, where a higher score represents a more clear interpretation of that annotation for that document\n",
    "- lower scores depict higher disagreement within the crowd, and suggest difficulty for training a machine\n",
    "\n",
    "| doc | NOT CONTAINS | POSSIBLY CONTAINS | CONTAINS |\n",
    "|---|---|---|---|\n",
    "| 101 | 0.00 | 0.00 | 0.89 |\n",
    "| 102 | 0.89 | 0.00 | 0.00 |\n",
    "| 103 | 0.00 | 0.89 | 0.00 |\n",
    "\n",
    "### Citations\n",
    "[1] [Anca Dumitrache, Lora Aroyo, Chris Welty: Achieving Expert-Level Annotation Quality with CrowdTruth: The Case of Medical Relation Extraction. BDM2I at ISWC 2015.](http://www.ancad.ro/2015/08/14/achieving-expert-level-annotation-quality-with-crowdtruth/)\n",
    "\n",
    "[2] [Aroyo, Chris Welty: The Three Sides of CrowdTruth. J. Human Computation. 1(1). 2014.](http://hcjournal.org/ojs/index.php?journal=jhc&page=article&op=view&path%5B%5D=34&path%5B%5D=8Lora)\n"
   ]
  },
  {
   "cell_type": "markdown",
   "metadata": {},
   "source": [
    "#### import tools"
   ]
  },
  {
   "cell_type": "code",
   "execution_count": 1,
   "metadata": {
    "collapsed": false
   },
   "outputs": [],
   "source": [
    "import pandas as pd\n",
    "import numpy as np\n",
    "import matplotlib.pyplot as plt\n",
    "import seaborn as sns\n",
    "%matplotlib inline\n",
    "plt.style.use('fivethirtyeight')\n",
    "from sklearn.metrics.pairwise import cosine_similarity"
   ]
  },
  {
   "cell_type": "markdown",
   "metadata": {},
   "source": [
    "#### import annotation data"
   ]
  },
  {
   "cell_type": "code",
   "execution_count": 2,
   "metadata": {
    "collapsed": false
   },
   "outputs": [],
   "source": [
    "#MANUAL TEST\n",
    "#cf = pd.read_csv('data/final/cf_report_FINAL_manual.csv', sep=',', encoding='utf-8', header=0, parse_dates=['created_at'], dtype={'twitter_id' : 'str'})\n",
    "#MANUAL TEST\n",
    "\n",
    "cf = pd.read_csv('data/final/cf_report_crowdtest100.csv', sep=',', encoding='utf-8', header=0, parse_dates=['created_at'], dtype={'twitter_id' : 'str'})"
   ]
  },
  {
   "cell_type": "code",
   "execution_count": 3,
   "metadata": {
    "collapsed": false
   },
   "outputs": [],
   "source": [
    "cf.rename(columns={'_unit_id' : 'document_id', '_id' : 'annotation_id', '_worker_id' : 'worker_id'}, inplace=True)\n",
    "#cf.drop_duplicates(subset=[['document_id', 'worker_id']], inplace=True, keep='last')\n",
    "cf.sort_values(by=['event', 'event_id', 'text'], inplace=True)"
   ]
  },
  {
   "cell_type": "markdown",
   "metadata": {},
   "source": [
    "# 1. Transform\n",
    "- NOTE: i use combination of own keys ['event', 'event_id'] instead of 'annotation id' ...to ensure accuracy\n",
    "- can be replaced for future"
   ]
  },
  {
   "cell_type": "code",
   "execution_count": 4,
   "metadata": {
    "collapsed": false
   },
   "outputs": [
    {
     "name": "stdout",
     "output_type": "stream",
     "text": [
      "crowdsourced:\n",
      "652 unique annotations\n",
      "100 unique tweets annotated\n"
     ]
    }
   ],
   "source": [
    "print('crowdsourced:')\n",
    "print('%s unique annotations' % cf['annotation_id'].unique().shape[0])\n",
    "print('%s unique tweets annotated' % cf.groupby(['event', 'event_id']).size().shape[0])"
   ]
  },
  {
   "cell_type": "markdown",
   "metadata": {},
   "source": [
    "#### count total annotations per tweet"
   ]
  },
  {
   "cell_type": "code",
   "execution_count": 5,
   "metadata": {
    "collapsed": false
   },
   "outputs": [],
   "source": [
    "cf_annpertweet = pd.DataFrame(cf.groupby('document_id')['worker_id'].count())\n",
    "cf_annpertweet.columns = ['doc_annotations']\n",
    "cf_annpertweet.reset_index(inplace=True)\n",
    "cf = pd.merge(cf, cf_annpertweet, how='left', on=['document_id'])"
   ]
  },
  {
   "cell_type": "code",
   "execution_count": 6,
   "metadata": {
    "collapsed": false
   },
   "outputs": [
    {
     "data": {
      "image/png": "[encoded data removed]",
      "text/plain": [
       "<matplotlib.figure.Figure at 0x8f04588>"
      ]
     },
     "metadata": {},
     "output_type": "display_data"
    }
   ],
   "source": [
    "cf.groupby(['document_id']).size().plot(kind='hist', title='Histogram of Annotations per Document')\n",
    "plt.show()"
   ]
  },
  {
   "cell_type": "markdown",
   "metadata": {},
   "source": [
    "#### unstack html radio/checkbox values\n",
    "- decode \"news\" to annotation values"
   ]
  },
  {
   "cell_type": "code",
   "execution_count": 7,
   "metadata": {
    "collapsed": false
   },
   "outputs": [],
   "source": [
    "annotation_codes = {0.0 : 'NOT CONTAINS',\n",
    "                    0.5 : 'POSSIBLY CONTAINS',\n",
    "                    1.0 : 'CONTAINS'}\n",
    "\n",
    "annotations  = list(annotation_codes.values())"
   ]
  },
  {
   "cell_type": "code",
   "execution_count": 8,
   "metadata": {
    "collapsed": false
   },
   "outputs": [],
   "source": [
    "cf['news'].replace(annotation_codes, inplace=True)\n",
    "\n",
    "for ann in annotations:\n",
    "    cf[ann] = cf['news'].apply(lambda a: [0,1][a == ann])"
   ]
  },
  {
   "cell_type": "markdown",
   "metadata": {},
   "source": [
    "# 2. Apply CrowdTruth Framework\n",
    "### annotation vectors\n",
    "- using [event, event_id] as unique doc id's\n",
    "- because integrity of twitter_id was lost (CrowdFlower could not handle)"
   ]
  },
  {
   "cell_type": "code",
   "execution_count": 9,
   "metadata": {
    "collapsed": false
   },
   "outputs": [
    {
     "name": "stderr",
     "output_type": "stream",
     "text": [
      "c:\\miniconda3\\lib\\site-packages\\ipykernel\\__main__.py:5: SettingWithCopyWarning: \n",
      "A value is trying to be set on a copy of a slice from a DataFrame\n",
      "\n",
      "See the caveats in the documentation: http://pandas.pydata.org/pandas-docs/stable/indexing.html#indexing-view-versus-copy\n"
     ]
    },
    {
     "data": {
      "text/html": [
       "<div>\n",
       "<table border=\"1\" class=\"dataframe\">\n",
       "  <thead>\n",
       "    <tr style=\"text-align: right;\">\n",
       "      <th></th>\n",
       "      <th></th>\n",
       "      <th>NOT CONTAINS</th>\n",
       "      <th>POSSIBLY CONTAINS</th>\n",
       "      <th>CONTAINS</th>\n",
       "    </tr>\n",
       "    <tr>\n",
       "      <th>document_id</th>\n",
       "      <th>worker_id</th>\n",
       "      <th></th>\n",
       "      <th></th>\n",
       "      <th></th>\n",
       "    </tr>\n",
       "  </thead>\n",
       "  <tbody>\n",
       "    <tr>\n",
       "      <th rowspan=\"5\" valign=\"top\">962954621</th>\n",
       "      <th>29559144</th>\n",
       "      <td>1</td>\n",
       "      <td>0</td>\n",
       "      <td>0</td>\n",
       "    </tr>\n",
       "    <tr>\n",
       "      <th>31821164</th>\n",
       "      <td>0</td>\n",
       "      <td>1</td>\n",
       "      <td>0</td>\n",
       "    </tr>\n",
       "    <tr>\n",
       "      <th>32231403</th>\n",
       "      <td>0</td>\n",
       "      <td>1</td>\n",
       "      <td>0</td>\n",
       "    </tr>\n",
       "    <tr>\n",
       "      <th>32231403</th>\n",
       "      <td>0</td>\n",
       "      <td>1</td>\n",
       "      <td>0</td>\n",
       "    </tr>\n",
       "    <tr>\n",
       "      <th>37814681</th>\n",
       "      <td>0</td>\n",
       "      <td>0</td>\n",
       "      <td>1</td>\n",
       "    </tr>\n",
       "  </tbody>\n",
       "</table>\n",
       "</div>"
      ],
      "text/plain": [
       "                       NOT CONTAINS  POSSIBLY CONTAINS  CONTAINS\n",
       "document_id worker_id                                           \n",
       "962954621   29559144              1                  0         0\n",
       "            31821164              0                  1         0\n",
       "            32231403              0                  1         0\n",
       "            32231403              0                  1         0\n",
       "            37814681              0                  0         1"
      ]
     },
     "execution_count": 9,
     "metadata": {},
     "output_type": "execute_result"
    }
   ],
   "source": [
    "cols = ['document_id', 'worker_id']\n",
    "cols.extend(annotations)\n",
    "anno_vectors = cf[cols]\n",
    "anno_vectors.set_index(['document_id', 'worker_id'], inplace=True)\n",
    "anno_vectors.sort_index(inplace=True)\n",
    "anno_vectors.head()"
   ]
  },
  {
   "cell_type": "markdown",
   "metadata": {},
   "source": [
    "## worker-document score"
   ]
  },
  {
   "cell_type": "code",
   "execution_count": 10,
   "metadata": {
    "collapsed": false
   },
   "outputs": [
    {
     "name": "stdout",
     "output_type": "stream",
     "text": [
      "Wall time: 2.13 s\n"
     ]
    }
   ],
   "source": [
    "%%time\n",
    "#pandas sclicing\n",
    "idx = pd.IndexSlice\n",
    "\n",
    "workers = anno_vectors.index.get_level_values('worker_id').unique()\n",
    "worker_doc_scores = pd.DataFrame()\n",
    "\n",
    "for worker in workers:\n",
    "    #get list workers minus worker\n",
    "    workers_minworker = [w for w in workers if w != worker]\n",
    "    #get docs worker worked on\n",
    "    worker_docs = anno_vectors.loc[idx[:,worker],:].index.get_level_values('document_id').unique()\n",
    "    #compute aggregate document vectors including all workers minus worker\n",
    "    doc_vectors_minworker = anno_vectors.loc[idx[worker_docs,workers_minworker],:].groupby(level=('document_id')).sum()\n",
    "    for document in worker_docs:\n",
    "        worker_doc_vector = anno_vectors.loc[idx[document,worker],:]\n",
    "        doc_vector_minworker = doc_vectors_minworker.loc[document]\n",
    "        #compute distance\n",
    "        score = cosine_similarity(worker_doc_vector, [doc_vector_minworker])\n",
    "        #transform to table row\n",
    "        row = pd.Series([document, worker, score[0][0]], index=['document_id', 'worker_id', 'score'])\n",
    "        worker_doc_scores = worker_doc_scores.append(row, ignore_index=True)\n",
    "\n",
    "#average doc scores per worker\n",
    "worker_doc_scores = pd.DataFrame(worker_doc_scores.groupby('worker_id')['score'].mean())"
   ]
  },
  {
   "cell_type": "markdown",
   "metadata": {},
   "source": [
    "#### plot distribution"
   ]
  },
  {
   "cell_type": "code",
   "execution_count": 20,
   "metadata": {
    "collapsed": false
   },
   "outputs": [
    {
     "data": {
      "image/png": "[encoded data removed]",
      "text/plain": [
       "<matplotlib.figure.Figure at 0x16ae5f8>"
      ]
     },
     "metadata": {},
     "output_type": "display_data"
    }
   ],
   "source": [
    "title = 'Worker Document Scores'\n",
    "fig, ax = plt.subplots(figsize=(8,5))\n",
    "\n",
    "mean = std = worker_doc_scores['score'].mean()\n",
    "std = worker_doc_scores['score'].std()\n",
    "\n",
    "sns.violinplot(ax=ax, data=worker_doc_scores, x='score', orient='h', inner='point', linewidth=2.5)\n",
    "ax.axvline(x=mean - 1 * std, linestyle='--', c='r', alpha=.70, label='-1 * std')\n",
    "ax.axvline(x=mean + 1 * std, linestyle='--', c='r', alpha=.70, label='+1 * std')\n",
    "\n",
    "plt.title(title)\n",
    "plt.legend(markerscale=2, fontsize=14)\n",
    "fig = plt.gcf()\n",
    "plt.tight_layout()\n",
    "plt.show()\n",
    "fig.savefig('images/crowdtruth_%s.png' % title.replace(' ', '_'))"
   ]
  },
  {
   "cell_type": "markdown",
   "metadata": {},
   "source": [
    "## worker-worker score"
   ]
  },
  {
   "cell_type": "code",
   "execution_count": 21,
   "metadata": {
    "collapsed": false
   },
   "outputs": [
    {
     "name": "stdout",
     "output_type": "stream",
     "text": [
      "Wall time: 13.7 s\n"
     ]
    },
    {
     "name": "stderr",
     "output_type": "stream",
     "text": [
      "c:\\miniconda3\\lib\\site-packages\\ipykernel\\__main__.py:2: SettingWithCopyWarning: \n",
      "A value is trying to be set on a copy of a slice from a DataFrame\n",
      "\n",
      "See the caveats in the documentation: http://pandas.pydata.org/pandas-docs/stable/indexing.html#indexing-view-versus-copy\n",
      "  from ipykernel import kernelapp as app\n"
     ]
    }
   ],
   "source": [
    "%%time\n",
    "#sort indexes for sclicing\n",
    "anno_vectors.sort_index(inplace=True)\n",
    "idx = pd.IndexSlice\n",
    "\n",
    "workers = anno_vectors.index.get_level_values('worker_id').unique()\n",
    "worker_worker_scores = pd.DataFrame()\n",
    "\n",
    "for worker1 in workers:\n",
    "    #get list workers minus worker\n",
    "    workers_minworker = [w for w in workers if w != worker1]\n",
    "    #get docs worker worked on\n",
    "    worker1_docs = anno_vectors.loc[idx[:,worker1],:].index.get_level_values('document_id').unique()\n",
    "    for worker2 in workers_minworker:\n",
    "        #get docs worker worked on\n",
    "        worker2_docs = anno_vectors.loc[idx[:,worker2],:].index.get_level_values('document_id').unique()\n",
    "        #get overlapping docs\n",
    "        docs_overlapped = [doc for doc in worker1_docs if doc in worker2_docs]\n",
    "        for document in docs_overlapped:\n",
    "            #get annotation vectors for each worker\n",
    "            worker1_doc = anno_vectors.loc[idx[document,worker1],:]\n",
    "            worker2_doc = anno_vectors.loc[idx[document,worker2],:]\n",
    "            worker1_total_annotations = 0\n",
    "            agreement = 0\n",
    "            for anno in annotations:\n",
    "                #count annotations\n",
    "                worker1_total_annotations += worker1_doc.iloc[0][anno] \n",
    "                #get agreement\n",
    "                agreement += min(worker1_doc.iloc[0][anno], worker2_doc.iloc[0][anno])        \n",
    "        #get worker worker document score as sum (agreement) / total annotations\n",
    "        score = agreement / worker1_total_annotations\n",
    "        #transform to table row\n",
    "        row = pd.Series([document, worker1, worker2, score], index=['document_id', 'worker1_id', 'worker2_id', 'score'])\n",
    "        worker_worker_scores = worker_worker_scores.append(row, ignore_index=True)\n",
    "\n",
    "#average worker doc scores per worker\n",
    "worker_worker_scores = 1 - pd.DataFrame(worker_worker_scores.groupby('worker1_id')['score'].mean())"
   ]
  },
  {
   "cell_type": "markdown",
   "metadata": {},
   "source": [
    "#### plot distribution"
   ]
  },
  {
   "cell_type": "code",
   "execution_count": 23,
   "metadata": {
    "collapsed": false
   },
   "outputs": [
    {
     "data": {
      "image/png": "[encoded data removed]",
      "text/plain": [
       "<matplotlib.figure.Figure at 0x16e5518>"
      ]
     },
     "metadata": {},
     "output_type": "display_data"
    }
   ],
   "source": [
    "mean = std = worker_worker_scores['score'].mean()\n",
    "std = worker_worker_scores['score'].std()\n",
    "\n",
    "title = 'Worker Worker Scores'\n",
    "fig, ax = plt.subplots(figsize=(8,5))\n",
    "\n",
    "sns.violinplot(ax=ax, data=worker_worker_scores, x='score', orient='h', inner='point', linewidth=2.5)\n",
    "ax.axvline(x=mean - 1 * std, linestyle='--', c='r', alpha=.70, label='-1 * std')\n",
    "ax.axvline(x=mean + 1 * std, linestyle='--', c='r', alpha=.70, label='+1 * std')\n",
    "\n",
    "plt.title(title)\n",
    "plt.legend(markerscale=2, fontsize=14)\n",
    "fig = plt.gcf()\n",
    "plt.tight_layout()\n",
    "plt.show()\n",
    "fig.savefig('images/crowdtruth_%s.png' % title.replace(' ', '_'))"
   ]
  },
  {
   "cell_type": "markdown",
   "metadata": {},
   "source": [
    "### id outliers"
   ]
  },
  {
   "cell_type": "code",
   "execution_count": 24,
   "metadata": {
    "collapsed": false
   },
   "outputs": [],
   "source": [
    "multiplier = 1"
   ]
  },
  {
   "cell_type": "code",
   "execution_count": 25,
   "metadata": {
    "collapsed": true
   },
   "outputs": [],
   "source": [
    "wd_out = worker_doc_scores[(worker_doc_scores['score'] < worker_doc_scores['score'].mean() - multiplier * worker_doc_scores['score'].std())\n",
    "                    | (worker_doc_scores['score'] > worker_doc_scores['score'].mean() + multiplier * worker_doc_scores['score'].std())].index\n",
    "\n",
    "ww_out = worker_worker_scores[(worker_worker_scores['score'] < worker_worker_scores['score'].mean() - multiplier * worker_worker_scores['score'].std())\n",
    "                    | (worker_worker_scores['score'] > worker_worker_scores['score'].mean() + multiplier * worker_worker_scores['score'].std())].index"
   ]
  },
  {
   "cell_type": "code",
   "execution_count": 26,
   "metadata": {
    "collapsed": false
   },
   "outputs": [],
   "source": [
    "workers_out = [worker for worker in wd_out if worker in ww_out]"
   ]
  },
  {
   "cell_type": "code",
   "execution_count": null,
   "metadata": {
    "collapsed": false
   },
   "outputs": [],
   "source": [
    "#anno_vectors.loc[idx[:,workers_out],:]"
   ]
  },
  {
   "cell_type": "markdown",
   "metadata": {},
   "source": [
    "#### drop outliers"
   ]
  },
  {
   "cell_type": "code",
   "execution_count": 27,
   "metadata": {
    "collapsed": false
   },
   "outputs": [
    {
     "data": {
      "text/plain": [
       "(627, 148)"
      ]
     },
     "execution_count": 27,
     "metadata": {},
     "output_type": "execute_result"
    }
   ],
   "source": [
    "cf = cf[cf['worker_id'].isin(workers_out) == False]\n",
    "cf.shape"
   ]
  },
  {
   "cell_type": "code",
   "execution_count": 28,
   "metadata": {
    "collapsed": false
   },
   "outputs": [
    {
     "data": {
      "text/plain": [
       "(627, 3)"
      ]
     },
     "execution_count": 28,
     "metadata": {},
     "output_type": "execute_result"
    }
   ],
   "source": [
    "anno_vectors.drop(workers_out, level='worker_id', inplace=True)\n",
    "anno_vectors.shape"
   ]
  },
  {
   "cell_type": "markdown",
   "metadata": {},
   "source": [
    "### document vectors"
   ]
  },
  {
   "cell_type": "code",
   "execution_count": 29,
   "metadata": {
    "collapsed": false
   },
   "outputs": [
    {
     "data": {
      "text/html": [
       "<div>\n",
       "<table border=\"1\" class=\"dataframe\">\n",
       "  <thead>\n",
       "    <tr style=\"text-align: right;\">\n",
       "      <th></th>\n",
       "      <th>NOT CONTAINS</th>\n",
       "      <th>POSSIBLY CONTAINS</th>\n",
       "      <th>CONTAINS</th>\n",
       "    </tr>\n",
       "    <tr>\n",
       "      <th>document_id</th>\n",
       "      <th></th>\n",
       "      <th></th>\n",
       "      <th></th>\n",
       "    </tr>\n",
       "  </thead>\n",
       "  <tbody>\n",
       "    <tr>\n",
       "      <th>962954621</th>\n",
       "      <td>2</td>\n",
       "      <td>3</td>\n",
       "      <td>0</td>\n",
       "    </tr>\n",
       "    <tr>\n",
       "      <th>962954622</th>\n",
       "      <td>0</td>\n",
       "      <td>4</td>\n",
       "      <td>3</td>\n",
       "    </tr>\n",
       "    <tr>\n",
       "      <th>962954623</th>\n",
       "      <td>2</td>\n",
       "      <td>1</td>\n",
       "      <td>1</td>\n",
       "    </tr>\n",
       "    <tr>\n",
       "      <th>962954624</th>\n",
       "      <td>0</td>\n",
       "      <td>5</td>\n",
       "      <td>2</td>\n",
       "    </tr>\n",
       "    <tr>\n",
       "      <th>962954625</th>\n",
       "      <td>3</td>\n",
       "      <td>1</td>\n",
       "      <td>1</td>\n",
       "    </tr>\n",
       "  </tbody>\n",
       "</table>\n",
       "</div>"
      ],
      "text/plain": [
       "             NOT CONTAINS  POSSIBLY CONTAINS  CONTAINS\n",
       "document_id                                           \n",
       "962954621               2                  3         0\n",
       "962954622               0                  4         3\n",
       "962954623               2                  1         1\n",
       "962954624               0                  5         2\n",
       "962954625               3                  1         1"
      ]
     },
     "execution_count": 29,
     "metadata": {},
     "output_type": "execute_result"
    }
   ],
   "source": [
    "doc_vectors = anno_vectors.reset_index().groupby('document_id')[annotations].sum()\n",
    "doc_vectors.sort_index(inplace=True)\n",
    "doc_vectors.head()"
   ]
  },
  {
   "cell_type": "markdown",
   "metadata": {},
   "source": [
    "### unit vectors\n",
    "- construct square matrix, of unit verctors\n",
    "- where diagonal to 1"
   ]
  },
  {
   "cell_type": "code",
   "execution_count": 30,
   "metadata": {
    "collapsed": false
   },
   "outputs": [
    {
     "data": {
      "text/html": [
       "<div>\n",
       "<table border=\"1\" class=\"dataframe\">\n",
       "  <thead>\n",
       "    <tr style=\"text-align: right;\">\n",
       "      <th></th>\n",
       "      <th>NOT CONTAINS</th>\n",
       "      <th>POSSIBLY CONTAINS</th>\n",
       "      <th>CONTAINS</th>\n",
       "    </tr>\n",
       "  </thead>\n",
       "  <tbody>\n",
       "    <tr>\n",
       "      <th>NOT CONTAINS</th>\n",
       "      <td>1.0</td>\n",
       "      <td>0.0</td>\n",
       "      <td>0.0</td>\n",
       "    </tr>\n",
       "    <tr>\n",
       "      <th>POSSIBLY CONTAINS</th>\n",
       "      <td>0.0</td>\n",
       "      <td>1.0</td>\n",
       "      <td>0.0</td>\n",
       "    </tr>\n",
       "    <tr>\n",
       "      <th>CONTAINS</th>\n",
       "      <td>0.0</td>\n",
       "      <td>0.0</td>\n",
       "      <td>1.0</td>\n",
       "    </tr>\n",
       "  </tbody>\n",
       "</table>\n",
       "</div>"
      ],
      "text/plain": [
       "                   NOT CONTAINS  POSSIBLY CONTAINS  CONTAINS\n",
       "NOT CONTAINS                1.0                0.0       0.0\n",
       "POSSIBLY CONTAINS           0.0                1.0       0.0\n",
       "CONTAINS                    0.0                0.0       1.0"
      ]
     },
     "execution_count": 30,
     "metadata": {},
     "output_type": "execute_result"
    }
   ],
   "source": [
    "a = np.zeros([len(annotations), len(annotations)])\n",
    "np.fill_diagonal(a, val=1)\n",
    "unit_vectors = pd.DataFrame(a, index=annotations, columns=annotations)\n",
    "unit_vectors"
   ]
  },
  {
   "cell_type": "markdown",
   "metadata": {},
   "source": [
    "## document-annotation score\n",
    "- compute the cosine similarity between each document vector and the unit vector for every annotation\n",
    "    - Cosine Similarity measures the cosine distance from 0 to 1 between two equal length vectors, and is calculated as $cos(\\pmb dv, \\pmb uv) = \\frac {\\pmb dv \\cdot \\pmb uv}{||\\pmb dv|| \\cdot ||\\pmb uv||}$"
   ]
  },
  {
   "cell_type": "code",
   "execution_count": 31,
   "metadata": {
    "collapsed": false
   },
   "outputs": [
    {
     "data": {
      "text/html": [
       "<div>\n",
       "<table border=\"1\" class=\"dataframe\">\n",
       "  <thead>\n",
       "    <tr style=\"text-align: right;\">\n",
       "      <th></th>\n",
       "      <th>NOT CONTAINS</th>\n",
       "      <th>POSSIBLY CONTAINS</th>\n",
       "      <th>CONTAINS</th>\n",
       "    </tr>\n",
       "  </thead>\n",
       "  <tbody>\n",
       "    <tr>\n",
       "      <th>0</th>\n",
       "      <td>0.554700</td>\n",
       "      <td>0.832050</td>\n",
       "      <td>0.000000</td>\n",
       "    </tr>\n",
       "    <tr>\n",
       "      <th>1</th>\n",
       "      <td>0.000000</td>\n",
       "      <td>0.800000</td>\n",
       "      <td>0.600000</td>\n",
       "    </tr>\n",
       "    <tr>\n",
       "      <th>2</th>\n",
       "      <td>0.816497</td>\n",
       "      <td>0.408248</td>\n",
       "      <td>0.408248</td>\n",
       "    </tr>\n",
       "    <tr>\n",
       "      <th>3</th>\n",
       "      <td>0.000000</td>\n",
       "      <td>0.928477</td>\n",
       "      <td>0.371391</td>\n",
       "    </tr>\n",
       "    <tr>\n",
       "      <th>4</th>\n",
       "      <td>0.904534</td>\n",
       "      <td>0.301511</td>\n",
       "      <td>0.301511</td>\n",
       "    </tr>\n",
       "  </tbody>\n",
       "</table>\n",
       "</div>"
      ],
      "text/plain": [
       "   NOT CONTAINS  POSSIBLY CONTAINS  CONTAINS\n",
       "0      0.554700           0.832050  0.000000\n",
       "1      0.000000           0.800000  0.600000\n",
       "2      0.816497           0.408248  0.408248\n",
       "3      0.000000           0.928477  0.371391\n",
       "4      0.904534           0.301511  0.301511"
      ]
     },
     "execution_count": 31,
     "metadata": {},
     "output_type": "execute_result"
    }
   ],
   "source": [
    "x = cosine_similarity(doc_vectors, unit_vectors)\n",
    "doc_anno_scores = pd.DataFrame(x, columns=annotations)\n",
    "doc_anno_scores.head()"
   ]
  },
  {
   "cell_type": "markdown",
   "metadata": {},
   "source": [
    "#### plot distribution"
   ]
  },
  {
   "cell_type": "code",
   "execution_count": 32,
   "metadata": {
    "collapsed": false
   },
   "outputs": [
    {
     "data": {
      "image/png": "[encoded data removed]",
      "text/plain": [
       "<matplotlib.figure.Figure at 0x16f5d68>"
      ]
     },
     "metadata": {},
     "output_type": "display_data"
    }
   ],
   "source": [
    "fig, axs = plt.subplots(1,len(annotations), figsize=(16, 4))\n",
    "for i,ann in enumerate(doc_anno_scores.columns):\n",
    "    axs[i].hist(doc_anno_scores[ann])\n",
    "    axs[i].set_title(ann)\n",
    "    axs[i].set_ylabel('Frequency')\n",
    "    axs[i].set_xlabel('document-annotations score')\n",
    "plt.show()"
   ]
  },
  {
   "cell_type": "markdown",
   "metadata": {},
   "source": [
    "## clarity scores\n",
    "- maximum document-annotation score\n",
    "- the score is a measure of clarity, where a higher score represents a more clear interpretation of that annotation for that document\n",
    "- lower scores depict higher disagreement within the crowd, and suggest difficulty for training a machine"
   ]
  },
  {
   "cell_type": "code",
   "execution_count": 33,
   "metadata": {
    "collapsed": false
   },
   "outputs": [],
   "source": [
    "clarity_scores = doc_anno_scores.apply(lambda row: [row[anno] if row[anno] == row.max() else 0 for anno in annotations], axis=1)"
   ]
  },
  {
   "cell_type": "markdown",
   "metadata": {},
   "source": [
    "#### visualize"
   ]
  },
  {
   "cell_type": "code",
   "execution_count": 85,
   "metadata": {
    "collapsed": false
   },
   "outputs": [
    {
     "name": "stderr",
     "output_type": "stream",
     "text": [
      "c:\\miniconda3\\lib\\site-packages\\statsmodels\\nonparametric\\kdetools.py:20: VisibleDeprecationWarning: using a non-integer number instead of an integer will result in an error in the future\n",
      "  y = X[:m/2+1] + np.r_[0,X[m/2+1:],0]*1j\n"
     ]
    },
    {
     "data": {
      "image/png": "[encoded data removed]",
      "text/plain": [
       "<matplotlib.figure.Figure at 0xab17c88>"
      ]
     },
     "metadata": {},
     "output_type": "display_data"
    }
   ],
   "source": [
    "title = 'Clarity Score for Each Annotation'\n",
    "fig, ax = plt.subplots(figsize=(8,5))\n",
    "\n",
    "for anno in annotations:\n",
    "    #sns.distplot(clarity_scores[anno], ax=ax, label=anno, bins=10)\n",
    "    sns.distplot(clarity_scores[clarity_scores[anno] != 0][anno], ax=ax, label=anno, bins=10)\n",
    "\n",
    "ax.set_xlim(0,1)\n",
    "ax.set_xlabel('clarity')\n",
    "ax.set_ylabel('documents')\n",
    "\n",
    "plt.title(title)\n",
    "plt.legend(markerscale=2, fontsize=14, loc='best')\n",
    "fig = plt.gcf()\n",
    "plt.tight_layout()\n",
    "plt.show()\n",
    "fig.savefig('images/crowdtruth_%s.png' % title.replace(' ', '_'))"
   ]
  },
  {
   "cell_type": "markdown",
   "metadata": {},
   "source": [
    "#### merge scores to data"
   ]
  },
  {
   "cell_type": "code",
   "execution_count": null,
   "metadata": {
    "collapsed": false
   },
   "outputs": [],
   "source": [
    "#doc_anno_scores.columns = [ann+' clarity' for ann in annotations]\n",
    "clarity_scores.columns = [ann+' clarity' for ann in annotations]"
   ]
  },
  {
   "cell_type": "code",
   "execution_count": null,
   "metadata": {
    "collapsed": false
   },
   "outputs": [],
   "source": [
    "#anno_results = pd.merge(doc_vectors.reset_index(), doc_anno_scores, left_index=True, right_index=True)\n",
    "anno_results = pd.merge(doc_vectors.reset_index(), clarity_scores, left_index=True, right_index=True)\n",
    "anno_results.head()"
   ]
  },
  {
   "cell_type": "markdown",
   "metadata": {},
   "source": [
    "#### merge results to tweet data"
   ]
  },
  {
   "cell_type": "code",
   "execution_count": null,
   "metadata": {
    "collapsed": false
   },
   "outputs": [],
   "source": [
    "anno_results = pd.merge(cf[['document_id', 'event', 'event_id', 'text']].drop_duplicates(), anno_results, how='right', on='document_id')"
   ]
  },
  {
   "cell_type": "markdown",
   "metadata": {},
   "source": [
    "#### plot annotation clarity"
   ]
  },
  {
   "cell_type": "code",
   "execution_count": null,
   "metadata": {
    "collapsed": false
   },
   "outputs": [],
   "source": [
    "x = anno_results.set_index('text')[clarity_scores.columns].head(30)\n",
    "plt.figure(figsize=(3, 10))\n",
    "ax = sns.heatmap(x, annot=True, linewidths=.01, cbar=False)\n",
    "sns.plt.title('Doc by Annotation Clarity')\n",
    "plt.show()"
   ]
  },
  {
   "cell_type": "markdown",
   "metadata": {},
   "source": [
    "## Compare to Manually Annotated (Strict)"
   ]
  },
  {
   "cell_type": "markdown",
   "metadata": {},
   "source": [
    "#### News\n",
    "- import manually annotated\n",
    "- merge crowd annotations with expert\n",
    "- export this data (for manual analysis in excel)"
   ]
  },
  {
   "cell_type": "code",
   "execution_count": null,
   "metadata": {
    "collapsed": false
   },
   "outputs": [],
   "source": [
    "cf_man = pd.read_csv('data/final/cf_report_manualtest100.csv', sep=',', encoding='utf-8', header=0)\n",
    "cf_man.sort_values(by=['event', 'event_id', 'text'], inplace=True)\n",
    "cf_man.shape"
   ]
  },
  {
   "cell_type": "code",
   "execution_count": null,
   "metadata": {
    "collapsed": false
   },
   "outputs": [],
   "source": [
    "print('expert:')\n",
    "print('%s unique annotations' % cf_man['id'].unique().shape[0])\n",
    "print('%s unique tweets annotated' % cf_man.groupby(['event', 'event_id']).size().shape[0])"
   ]
  },
  {
   "cell_type": "code",
   "execution_count": null,
   "metadata": {
    "collapsed": true
   },
   "outputs": [],
   "source": [
    "cf_man['news'].replace(annotation_codes, inplace=True)\n",
    "\n",
    "for ann in annotations:\n",
    "    cf_man[ann] = cf_man['news'].apply(lambda a: [0,1][a == ann])"
   ]
  },
  {
   "cell_type": "code",
   "execution_count": null,
   "metadata": {
    "collapsed": false
   },
   "outputs": [],
   "source": [
    "anno_results_crowd = anno_results.set_index(['event', 'event_id', 'text'])\n",
    "anno_results_manual = cf_man.set_index(['event', 'event_id', 'text'])[annotations]\n",
    "\n",
    "anno_results_out = pd.merge(anno_results_crowd, anno_results_manual, left_index=True, right_index=True)\n",
    "\n",
    "anno_results_out.to_csv('annotation_results.txt', sep='\\t')"
   ]
  },
  {
   "cell_type": "markdown",
   "metadata": {},
   "source": [
    "## 2.5 Apply Clarity Scores to Characteristics"
   ]
  },
  {
   "cell_type": "code",
   "execution_count": null,
   "metadata": {
    "collapsed": true
   },
   "outputs": [],
   "source": [
    "characteristics = ['question', 'advertisement', 'opinion', 'quote', 'sarcasm', 'explicit', 'lang', 'error']\n",
    "\n",
    "for char in characteristics:\n",
    "    cf[char] = cf['characteristics'].apply(lambda q: 1 if char in [i for i in str(q).split('\\n')] else 0)"
   ]
  },
  {
   "cell_type": "markdown",
   "metadata": {},
   "source": [
    "#### document vectors"
   ]
  },
  {
   "cell_type": "code",
   "execution_count": null,
   "metadata": {
    "collapsed": false
   },
   "outputs": [],
   "source": [
    "#doc_vectors = cf.groupby(['event', 'event_id', 'text', 'doc_annotations'])[characteristics].sum()\n",
    "doc_vectors = cf.groupby('document_id')[characteristics].sum()\n",
    "doc_vectors.sort_index(inplace=True)\n",
    "doc_vectors.head()"
   ]
  },
  {
   "cell_type": "markdown",
   "metadata": {},
   "source": [
    "#### unit vectors"
   ]
  },
  {
   "cell_type": "code",
   "execution_count": null,
   "metadata": {
    "collapsed": false
   },
   "outputs": [],
   "source": [
    "a = np.zeros([len(characteristics), len(characteristics)])\n",
    "np.fill_diagonal(a, val=1)\n",
    "unit_vectors = pd.DataFrame(a, index=characteristics, columns=characteristics)\n",
    "unit_vectors"
   ]
  },
  {
   "cell_type": "markdown",
   "metadata": {},
   "source": [
    "#### document-annotation scores"
   ]
  },
  {
   "cell_type": "code",
   "execution_count": null,
   "metadata": {
    "collapsed": false
   },
   "outputs": [],
   "source": [
    "x = cosine_similarity(doc_vectors, unit_vectors)\n",
    "doc_anno_scores = pd.DataFrame(x, columns=characteristics)\n",
    "doc_anno_scores.head()"
   ]
  },
  {
   "cell_type": "markdown",
   "metadata": {},
   "source": [
    "#### clarity scores"
   ]
  },
  {
   "cell_type": "code",
   "execution_count": null,
   "metadata": {
    "collapsed": false
   },
   "outputs": [],
   "source": [
    "clarity_scores = doc_anno_scores.apply(lambda row: [row[char] if row[char] == row.max() else 0 for char in characteristics], axis=1)\n",
    "clarity_scores.head()"
   ]
  },
  {
   "cell_type": "markdown",
   "metadata": {},
   "source": [
    "#### visualize"
   ]
  },
  {
   "cell_type": "code",
   "execution_count": null,
   "metadata": {
    "collapsed": false
   },
   "outputs": [],
   "source": [
    "ax = clarity_scores[clarity_scores != 0].plot(kind='hist', stacked=True, alpha=1)\n",
    "ax.set_xlim(0,1)\n",
    "ax.set_title('Annotation Clarity Scores')\n",
    "ax.set_xlabel('Clarity')\n",
    "plt.show()"
   ]
  },
  {
   "cell_type": "markdown",
   "metadata": {},
   "source": [
    "#### merge scores to data"
   ]
  },
  {
   "cell_type": "code",
   "execution_count": null,
   "metadata": {
    "collapsed": false
   },
   "outputs": [],
   "source": [
    "doc_anno_scores.columns = [ann+' clarity' for ann in characteristics]\n",
    "char_results = pd.merge(doc_vectors.reset_index(), doc_anno_scores, left_index=True, right_index=True)\n",
    "char_results.head()"
   ]
  },
  {
   "cell_type": "markdown",
   "metadata": {},
   "source": [
    "#### merge scores to tweet data"
   ]
  },
  {
   "cell_type": "code",
   "execution_count": null,
   "metadata": {
    "collapsed": true
   },
   "outputs": [],
   "source": [
    "char_results = pd.merge(cf[['document_id', 'event', 'event_id', 'text']].drop_duplicates(), char_results, how='right', on='document_id')"
   ]
  },
  {
   "cell_type": "markdown",
   "metadata": {},
   "source": [
    "## 3. Aggregate Annotations\n",
    "### News\n",
    "- using clarity score\n",
    "- take that annotation which is greater than .85\n",
    "    - if annotation > .85 then 1 else 0\n",
    "- in cases where no annotations were > .85\n",
    "    - these ambigous cases are excluded from the training data"
   ]
  },
  {
   "cell_type": "code",
   "execution_count": null,
   "metadata": {
    "collapsed": false
   },
   "outputs": [],
   "source": [
    "anno_results['news agg'] = np.nan\n",
    "#anno_results['news agg'] = anno_results.apply(lambda row: [0,1][row['CONTAINS clarity'] >= .85], axis=1)\n",
    "anno_results['news agg'][anno_results['NOT CONTAINS clarity'] >= .85] = 0\n",
    "anno_results['news agg'][anno_results['CONTAINS clarity'] >= .85] = 1\n",
    "\n",
    "anno_results_agg = anno_results[anno_results['news agg'].isnull() == False][['event', 'event_id', 'news agg']]\n",
    "anno_results_agg.columns = ['event', 'event_id', 'news']"
   ]
  },
  {
   "cell_type": "markdown",
   "metadata": {},
   "source": [
    "### Characteristics\n",
    "- using majority vote"
   ]
  },
  {
   "cell_type": "code",
   "execution_count": null,
   "metadata": {
    "collapsed": true
   },
   "outputs": [],
   "source": [
    "#char_results['question agg'] = char_results.apply(lambda row: [0,1][row['question'] > (row['doc_annotations'] / 2)] , axis=1)\n",
    "#char_results['advertisement agg'] = char_results.apply(lambda row: [0,1][row['advertisement'] > (row['doc_annotations'] / 2)] , axis=1)\n",
    "#char_results['opinion agg'] = char_results.apply(lambda row: [0,1][row['opinion'] > (row['doc_annotations'] / 2)] , axis=1)\n",
    "#char_results['quote agg'] = char_results.apply(lambda row: [0,1][row['quote'] > (row['doc_annotations'] / 2)] , axis=1)\n",
    "#char_results['sarcasm agg'] = char_results.apply(lambda row: [0,1][row['sarcasm'] > (row['doc_annotations'] / 2)] , axis=1)\n",
    "#char_results['explicit agg'] = char_results.apply(lambda row: [0,1][row['explicit'] > (row['doc_annotations'] / 2)] , axis=1)\n",
    "#char_results['lang agg'] = char_results.apply(lambda row: [0,1][row['lang'] > (row['doc_annotations'] / 2)] , axis=1)\n",
    "#char_results['error agg'] = char_results.apply(lambda row: [0,1][row['error'] > (row['doc_annotations'] / 2)] , axis=1)"
   ]
  },
  {
   "cell_type": "code",
   "execution_count": null,
   "metadata": {
    "collapsed": false
   },
   "outputs": [],
   "source": [
    "char_results['question agg'] = 0\n",
    "char_results['question agg'][char_results['question clarity'] > .85] = 1\n",
    "char_results['advertisement agg'] = 0\n",
    "char_results['advertisement agg'][char_results['advertisement clarity'] > .85] = 1\n",
    "char_results['opinion agg'] = 0\n",
    "char_results['opinion agg'][char_results['opinion clarity'] > .85] = 1\n",
    "char_results['quote agg'] = 0\n",
    "char_results['quote agg'][char_results['quote clarity'] > .85] = 1\n",
    "char_results['sarcasm agg'] = 0\n",
    "char_results['sarcasm agg'][char_results['sarcasm clarity'] > .85] = 1\n",
    "char_results['explicit agg'] = 0\n",
    "char_results['explicit agg'][char_results['explicit clarity'] > .85] = 1\n",
    "char_results['lang agg'] = 0\n",
    "char_results['lang agg'][char_results['lang clarity'] > .85] = 1\n",
    "char_results['error agg'] = 0\n",
    "char_results['error agg'][char_results['error clarity'] > .85] = 1"
   ]
  },
  {
   "cell_type": "code",
   "execution_count": null,
   "metadata": {
    "collapsed": false
   },
   "outputs": [],
   "source": [
    "char_results_agg = char_results[['event', 'event_id', 'question agg', 'advertisement agg', 'opinion agg', 'quote agg', 'sarcasm agg', 'explicit agg', 'lang agg', 'error agg']]\n",
    "cols = ['event', 'event_id']\n",
    "cols.extend(characteristics)\n",
    "char_results_agg.columns = cols"
   ]
  },
  {
   "cell_type": "markdown",
   "metadata": {},
   "source": [
    "#### merge aggregate annotations"
   ]
  },
  {
   "cell_type": "code",
   "execution_count": null,
   "metadata": {
    "collapsed": false
   },
   "outputs": [],
   "source": [
    "cf_agg = pd.merge(anno_results_agg, char_results_agg, how='inner', on=['event', 'event_id'])\n",
    "cf_agg.shape"
   ]
  },
  {
   "cell_type": "markdown",
   "metadata": {},
   "source": [
    "#### export aggregate annotaions"
   ]
  },
  {
   "cell_type": "code",
   "execution_count": null,
   "metadata": {
    "collapsed": false
   },
   "outputs": [],
   "source": [
    "cf_agg.to_csv('data/final/tweet_annotations_agg_FINAL_manual.csv', sep='\\t', encoding='utf-8', header=True, index=False)"
   ]
  },
  {
   "cell_type": "markdown",
   "metadata": {},
   "source": [
    "## 4. Summarize\n",
    "- high level summary"
   ]
  },
  {
   "cell_type": "markdown",
   "metadata": {},
   "source": [
    "#### add none (characteristics) column"
   ]
  },
  {
   "cell_type": "code",
   "execution_count": null,
   "metadata": {
    "collapsed": false
   },
   "outputs": [],
   "source": [
    "cf_agg['none'] = cf_agg.apply(lambda x: [0,1][x[characteristics].sum() == 0], axis=1)"
   ]
  },
  {
   "cell_type": "code",
   "execution_count": null,
   "metadata": {
    "collapsed": false
   },
   "outputs": [],
   "source": [
    "d1 = cf_agg.reset_index()['event'].value_counts(normalize=True)\n",
    "d2 = cf_agg.reset_index().groupby('event')['news'].sum() / cf_agg.shape[0]\n",
    "d = pd.merge(pd.DataFrame(d1), pd.DataFrame(d2), left_index=True, right_index=True)\n",
    "d.columns = ['% of annotated', '% of news']\n",
    "d.plot(kind='barh', xlim=[0,1], title='Annotations per Event')\n",
    "plt.show()\n",
    "\n",
    "d = cf_agg[['question', 'advertisement', 'opinion', 'quote', 'sarcasm', 'explicit', 'lang', 'error']].apply(pd.Series.value_counts).iloc[1]\n",
    "d.plot(kind='bar', title='Annotations per Characteristic', label='Tweets')\n",
    "plt.legend(loc='best')\n",
    "plt.show()\n",
    "\n",
    "d = cf_agg['news'].value_counts()\n",
    "d.plot(kind='bar', title='Annotations per News', label='Tweets')\n",
    "plt.legend(loc='best')\n",
    "plt.show()"
   ]
  },
  {
   "cell_type": "markdown",
   "metadata": {},
   "source": [
    "- in depth summary"
   ]
  },
  {
   "cell_type": "code",
   "execution_count": null,
   "metadata": {
    "collapsed": false
   },
   "outputs": [],
   "source": [
    "x = cf_agg[['question', 'advertisement', 'opinion', 'quote', 'sarcasm', 'explicit', 'lang', 'error', 'none', 'news']]\n",
    "\n",
    "plt.figure(figsize=(6,6))\n",
    "ax = sns.heatmap((x.T.dot(x)), annot=True, square=True, linewidths=.5)\n",
    "plt.title('Co Occurrences')\n",
    "sns.plt.show()\n",
    "\n",
    "plt.figure(figsize=(6,6))\n",
    "ax = sns.heatmap(round(x.T.dot(x) / cf_agg.shape[0], 2), annot=True, square=True, linewidths=.5)\n",
    "plt.title('% Co Occurrences')\n",
    "sns.plt.show()\n",
    "\n",
    "xcorr = cf_agg[['question', 'advertisement', 'opinion', 'quote', 'sarcasm', 'explicit', 'lang', 'error']].corr()\n",
    "mask = np.full(xcorr.shape, False, dtype=bool)\n",
    "mask[np.triu_indices(len(xcorr))] = True\n",
    "plt.figure(figsize=(6,6))\n",
    "ax = sns.heatmap(round((xcorr.replace(np.nan, 0)), 2), annot=True, square=True, mask=mask, cmap='RdBu', linewidths=.5)\n",
    "plt.title('Characteristic Correlations')\n",
    "sns.plt.show()\n",
    "\n",
    "xcorr = cf_agg[['question', 'advertisement', 'opinion', 'quote', 'sarcasm', 'explicit', 'lang', 'error', 'none']].corrwith(cf_agg['news'], axis=0)\n",
    "xcorr = pd.DataFrame(xcorr, columns=['news'])\n",
    "plt.figure(figsize=(6,6))\n",
    "ax = sns.heatmap(round((xcorr.replace(np.nan, 0)), 2), annot=True, square=True, cmap='RdBu', linewidths=.5)\n",
    "plt.title('News Correlations')\n",
    "sns.plt.show()"
   ]
  },
  {
   "cell_type": "markdown",
   "metadata": {},
   "source": [
    "#### apply event types"
   ]
  },
  {
   "cell_type": "code",
   "execution_count": null,
   "metadata": {
    "collapsed": false
   },
   "outputs": [],
   "source": [
    "event_types = {'Champions League Final' : 'Sporting',\n",
    "               'Monaco Grand Prix' : 'Sporting',\n",
    "               'The French Open' : 'Sporting',\n",
    "               'Recode Code Conference' : 'Tech Conference',\n",
    "               'Converge Asia' : 'Tech Conference',\n",
    "               'The Next Web Conference Europe' : 'Tech Conference'}\n",
    "\n",
    "cf_agg['event_type'] = cf_agg['event']\n",
    "cf_agg['event_type'].replace(event_types, inplace=True)"
   ]
  },
  {
   "cell_type": "code",
   "execution_count": null,
   "metadata": {
    "collapsed": false
   },
   "outputs": [],
   "source": [
    "xcorr = cf_agg.groupby('event')[['question', 'advertisement', 'opinion', 'quote', 'sarcasm', 'explicit', 'lang', 'error', 'none']].corrwith(cf_agg['news'], axis=0)\n",
    "plt.figure(figsize=(6,6))\n",
    "ax = sns.heatmap(round((xcorr.replace(np.nan, 0)), 2), annot=True, square=True, cmap='RdBu', linewidths=.5)\n",
    "plt.title('News Correlations by Event')\n",
    "sns.plt.show()"
   ]
  },
  {
   "cell_type": "code",
   "execution_count": null,
   "metadata": {
    "collapsed": false
   },
   "outputs": [],
   "source": [
    "xcorr = cf_agg.groupby('event_type')[['question', 'advertisement', 'opinion', 'quote', 'sarcasm', 'explicit', 'lang', 'error', 'none']].corrwith(cf_agg['news'], axis=0)\n",
    "#xcorr = xcorr.reset_index().groupby('event_type').mean()\n",
    "plt.figure(figsize=(6,6))\n",
    "ax = sns.heatmap(round((xcorr.replace(np.nan, 0)), 2), annot=True, square=True, cmap='RdBu', linewidths=.5)\n",
    "plt.title('News Correlations by Event Type')\n",
    "sns.plt.show()"
   ]
  }
 ],
 "metadata": {
  "kernelspec": {
   "display_name": "Python 3",
   "language": "python",
   "name": "python3"
  },
  "language_info": {
   "codemirror_mode": {
    "name": "ipython",
    "version": 3
   },
   "file_extension": ".py",
   "mimetype": "text/x-python",
   "name": "python",
   "nbconvert_exporter": "python",
   "pygments_lexer": "ipython3",
   "version": "3.4.5"
  }
 },
 "nbformat": 4,
 "nbformat_minor": 0
}
