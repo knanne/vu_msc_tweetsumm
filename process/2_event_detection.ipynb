{
 "cells": [
  {
   "cell_type": "markdown",
   "metadata": {},
   "source": [
    "# Event Detection\n",
    "\n",
    "We expect that as something happens, individuals will tweet about it in real-time causing bursts in Twitter activity. In 2011 Twitter [blogged](https://blog.twitter.com/2011/global-pulse) about how their site's avtivity was a reflection of global pulse, citing when volume spiked over 5,000 tweets per second following an earthquake.\n",
    "\n",
    "Within our event timeline, we can identify specific times that importance for summarization in this way. We can call these subevents.\n",
    "\n",
    "Using theory related to anomaly detection in signal processing for time series data, we can identify patterns that may significantly deviate from an underlying distribution in the dataset. By computing an expected frequency of occurrences per time window we can measure differences in behavior above or below this level for an interval, which may indicate an event activity. Furthermore, by calculating this expected frequency using a historical moving average, this approach can easily be applied to online data.\n",
    "\n",
    "Related Twitter-Specific Frameworks\n",
    "- [Twitter's Breakout Detection](https://blog.twitter.com/2014/breakout-detection-in-the-wild)\n",
    "- [Twitter's Anomoly Detection](https://blog.twitter.com/2015/introducing-practical-and-robust-anomaly-detection-in-a-time-series)\n",
    "\n",
    "**Measurment:** We define our measure as volume of tweets per minute, and an anomoly in this frequency would indicate a subevent.\n",
    "\n",
    "**Method:** Anomalies are then detected by measuring the deviation from an expected frequency. Expected frequency is calculated using simple moving average using a window of 5 minutes, otherwise known as rolling mean. The intensity of the subevent is then measured as the deviation from the expected, and can be used to set a dynamic threshold for summarizing those which are most significant.\n",
    "\n",
    "$expected = \\frac{1}{n} \\sum_{i=0}^{n-1} y-i$\n",
    "\n",
    "Simple outlier detection algorithms look at values greated than a number of standard deviations from mean. Since we are limited to summarizing only that data which we can communicate we set a fixed threshold.\n",
    "\n",
    "Subevents are considered for summarization if $y_{i} - expected > threshold$ where *threshold* is dynamically computed to include top *k* number of subevents.\n",
    "\n",
    "### Input\n",
    "- event tweets\n",
    "\n",
    "### Output\n",
    "- for every event minute\n",
    "    - the volume of tweets\n",
    "    - subevent rank, measured as deviation in descending order"
   ]
  },
  {
   "cell_type": "markdown",
   "metadata": {},
   "source": [
    "#### import tools"
   ]
  },
  {
   "cell_type": "code",
   "execution_count": 309,
   "metadata": {
    "collapsed": false
   },
   "outputs": [],
   "source": [
    "import pandas as pd\n",
    "import numpy as np\n",
    "import matplotlib.pyplot as plt\n",
    "import seaborn as sns\n",
    "%matplotlib inline\n",
    "plt.style.use('fivethirtyeight')\n",
    "import re"
   ]
  },
  {
   "cell_type": "markdown",
   "metadata": {},
   "source": [
    "#### import data"
   ]
  },
  {
   "cell_type": "code",
   "execution_count": 310,
   "metadata": {
    "collapsed": false
   },
   "outputs": [
    {
     "name": "stdout",
     "output_type": "stream",
     "text": [
      "Enter Event Name: Xbox E3\n"
     ]
    }
   ],
   "source": [
    "event_name = input('Enter Event Name: ')\n",
    "event_filename = re.sub(\"\\W+\", \"\", event_name.strip())"
   ]
  },
  {
   "cell_type": "code",
   "execution_count": 311,
   "metadata": {
    "collapsed": false
   },
   "outputs": [
    {
     "data": {
      "text/plain": [
       "(86475, 35)"
      ]
     },
     "execution_count": 311,
     "metadata": {},
     "output_type": "execute_result"
    }
   ],
   "source": [
    "df = pd.read_csv('data/final/event_%s_data.txt' % event_filename, sep='\\t', encoding='utf-8', header=0, parse_dates=['created_at'], dtype={'twitter_id' : 'str'})\n",
    "df.shape"
   ]
  },
  {
   "cell_type": "markdown",
   "metadata": {},
   "source": [
    "#### twitter_id as index"
   ]
  },
  {
   "cell_type": "code",
   "execution_count": 312,
   "metadata": {
    "collapsed": true
   },
   "outputs": [],
   "source": [
    "df.set_index('twitter_id', inplace=True)"
   ]
  },
  {
   "cell_type": "markdown",
   "metadata": {},
   "source": [
    "## Rolling Mean"
   ]
  },
  {
   "cell_type": "code",
   "execution_count": 313,
   "metadata": {
    "collapsed": true
   },
   "outputs": [],
   "source": [
    "d = df.reset_index().set_index('created_at').groupby([pd.TimeGrouper(freq='T')])['twitter_id'].agg(['count'])"
   ]
  },
  {
   "cell_type": "code",
   "execution_count": 314,
   "metadata": {
    "collapsed": false
   },
   "outputs": [],
   "source": [
    "timeframe = pd.date_range(d.index.min(), d.index.max(), freq='T')\n",
    "d = d.reindex(timeframe, fill_value=0)"
   ]
  },
  {
   "cell_type": "code",
   "execution_count": 315,
   "metadata": {
    "collapsed": true
   },
   "outputs": [],
   "source": [
    "window = 2"
   ]
  },
  {
   "cell_type": "code",
   "execution_count": 316,
   "metadata": {
    "collapsed": false
   },
   "outputs": [],
   "source": [
    "d['mean'] = d['count'].rolling(window=window).agg(['mean'])\n",
    "d['std'] = d['count'].rolling(window=window).agg(['std'])"
   ]
  },
  {
   "cell_type": "code",
   "execution_count": 317,
   "metadata": {
    "collapsed": false
   },
   "outputs": [
    {
     "data": {
      "image/png": "[encoded data removed]",
      "text/plain": [
       "<matplotlib.figure.Figure at 0xa407240>"
      ]
     },
     "metadata": {},
     "output_type": "display_data"
    }
   ],
   "source": [
    "plt.title('Event Timeline: Volume')\n",
    "ax = d['count'].plot(figsize=(16,4), label='volume')\n",
    "plt.legend(loc='best')\n",
    "plt.show()"
   ]
  },
  {
   "cell_type": "markdown",
   "metadata": {},
   "source": [
    "#### zoom in at max event volume"
   ]
  },
  {
   "cell_type": "code",
   "execution_count": 318,
   "metadata": {
    "collapsed": false
   },
   "outputs": [],
   "source": [
    "#idxmax = d['count'].idxmax()\n",
    "#zoommin = idxmax - pd.DateOffset(hours=1)\n",
    "#zoommax = idxmax + pd.DateOffset(hours=1)\n",
    "\n",
    "#plt.title('Zoomed Event Timeline: Volume \\n (at peak %s)' % str(idxmax)[:16])\n",
    "#ax = d[zoommin:zoommax]['count'].plot(figsize=(16,4), label='volume')\n",
    "#d[zoommin:zoommax]['mean'].plot(ax=ax, style='g--', alpha=.70, label='rolling mean')\n",
    "#(d[zoommin:zoommax]['mean'] + d[zoommin:zoommax]['std']).plot(ax=ax, color='r', alpha=.25, label='+1 std')\n",
    "#ax.fill_between(d.index, d['mean'], d['mean'] + d['std'], alpha=.25, color='r')\n",
    "#plt.legend(loc='best')\n",
    "#plt.show()"
   ]
  },
  {
   "cell_type": "markdown",
   "metadata": {},
   "source": [
    "## Rolling Mean Deviation"
   ]
  },
  {
   "cell_type": "markdown",
   "metadata": {},
   "source": [
    "#### mark subevent if outside bounds of +1 standard deviation from rolling mean"
   ]
  },
  {
   "cell_type": "code",
   "execution_count": 319,
   "metadata": {
    "collapsed": true
   },
   "outputs": [],
   "source": [
    "d['deviation'] = d['count'] - d['mean']"
   ]
  },
  {
   "cell_type": "code",
   "execution_count": 320,
   "metadata": {
    "collapsed": false
   },
   "outputs": [],
   "source": [
    "#plt.title('Zoomed Event Timeline: Rolling Mean Deviation (+1 std)')\n",
    "#ax = d[zoommin:zoommax]['deviation'].plot(figsize=(16,4), label='deviation')\n",
    "#d[zoommin:zoommax]['std'].plot(ax=ax, color='r', alpha=.25, label='+1 std')\n",
    "#####d[d['count'] > (d['mean'] + d['std'])][zoommin:zoommax]['deviation'].plot(ax=ax, style='ro', alpha=.50, label='event')\n",
    "#ax.axhline(y=0, linestyle='--', c='g', alpha=.70, label='rolling mean')\n",
    "#ax.fill_between(d.index, 0, 0 + d['std'], alpha=.25, color='r')\n",
    "#plt.legend(loc='best')\n",
    "#plt.show()"
   ]
  },
  {
   "cell_type": "code",
   "execution_count": 321,
   "metadata": {
    "collapsed": false
   },
   "outputs": [],
   "source": [
    "#print('Total SubEvents:', d[d['count'] > (d['mean'] + d['std'])].shape[0])"
   ]
  },
  {
   "cell_type": "markdown",
   "metadata": {},
   "source": [
    "#### use top k deviations from rolling mean"
   ]
  },
  {
   "cell_type": "code",
   "execution_count": 322,
   "metadata": {
    "collapsed": true
   },
   "outputs": [],
   "source": [
    "k = 20\n",
    "threshold = d[d['deviation']>0]['deviation'].sort_values(ascending=False).iloc[:k].min()"
   ]
  },
  {
   "cell_type": "code",
   "execution_count": 323,
   "metadata": {
    "collapsed": false
   },
   "outputs": [],
   "source": [
    "#plt.title('Zoomed Event Timeline: Rolling Mean Deviation (Top k)')\n",
    "#ax = d[zoommin:zoommax]['deviation'].plot(figsize=(16,4), label='deviation')\n",
    "#d[d['deviation'] > threshold][zoommin:zoommax]['deviation'].plot(ax=ax, style='ro', alpha=.50, label='event')\n",
    "#ax.axhline(y=0, linestyle='--', c='g', alpha=.70, label='rolling mean')\n",
    "#ax.axhline(y=threshold, linestyle='-', color='r', alpha=.25, label='threshold')\n",
    "#ax.fill_between(d.index, 0, threshold, alpha=.25, color='r')\n",
    "#plt.legend(loc='best')\n",
    "#plt.show()"
   ]
  },
  {
   "cell_type": "code",
   "execution_count": 324,
   "metadata": {
    "collapsed": false
   },
   "outputs": [
    {
     "data": {
      "image/png": "[encoded data removed]",
      "text/plain": [
       "<matplotlib.figure.Figure at 0xbf38080>"
      ]
     },
     "metadata": {},
     "output_type": "display_data"
    }
   ],
   "source": [
    "plt.title('Event Timeline: Rolling Mean Deviation (Top k)')\n",
    "ax = d['deviation'].plot(figsize=(16,4), label='deviation')\n",
    "d[d['deviation'] > threshold]['deviation'].plot(ax=ax, style='ro', alpha=.50, label='event')\n",
    "ax.axhline(y=0, linestyle='--', c='g', alpha=.70, label='rolling mean')\n",
    "ax.axhline(y=threshold, linestyle='-', color='r', alpha=.25, label='threshold')\n",
    "ax.fill_between(d.index, 0, threshold, alpha=.25, color='r')\n",
    "plt.legend(loc='best')\n",
    "plt.show()"
   ]
  },
  {
   "cell_type": "markdown",
   "metadata": {},
   "source": [
    "## Demo Event Viz Slicing on Subevents\n",
    "#### use large top k threshold for dynamic event slicing"
   ]
  },
  {
   "cell_type": "code",
   "execution_count": 325,
   "metadata": {
    "collapsed": false
   },
   "outputs": [],
   "source": [
    "#viz_k = 100\n",
    "#threshold_viz = d[d['deviation']>0]['deviation'].sort_values(ascending=False).iloc[:viz_k].min()\n",
    "#viz_start = d[d['deviation'] > threshold_viz].index.min()\n",
    "#viz_end = d[d['deviation'] > threshold_viz].index.max()"
   ]
  },
  {
   "cell_type": "code",
   "execution_count": 326,
   "metadata": {
    "collapsed": false
   },
   "outputs": [],
   "source": [
    "#plt.title('Event Timeline: Dynamic Event Slicing')\n",
    "#ax = d['deviation'].plot(figsize=(16,4), label='deviation')\n",
    "#ax.axhline(y=threshold_viz, linestyle='-', c='r', alpha=.25, label='threshold')\n",
    "#ax.axvline(x=viz_start, linestyle='-', c='r', alpha=.25)\n",
    "#ax.axvline(x=viz_end, linestyle='-', c='r', alpha=.25)\n",
    "#ax.axvspan(0, viz_start, alpha=0.25, color='red')\n",
    "#ax.axvspan(viz_end, d.index.max(), alpha=0.25, color='red')\n",
    "#plt.legend(loc='best')\n",
    "#plt.show()"
   ]
  },
  {
   "cell_type": "code",
   "execution_count": 327,
   "metadata": {
    "collapsed": false
   },
   "outputs": [],
   "source": [
    "#plt.title('Final Event Timeline: Top k Subevents')\n",
    "#ax = d[viz_start:viz_end]['count'].plot(figsize=(16,4), label='volume')\n",
    "#d[d['deviation'] > threshold]['count'].plot(ax=ax, style='ro', alpha=.50, label='event')\n",
    "#plt.legend(loc='best')\n",
    "#plt.show()"
   ]
  },
  {
   "cell_type": "markdown",
   "metadata": {},
   "source": [
    "## Rank Subevent Times\n",
    "- measure of subevent importance\n",
    "- slice event\n",
    "- export data"
   ]
  },
  {
   "cell_type": "code",
   "execution_count": 328,
   "metadata": {
    "collapsed": false
   },
   "outputs": [],
   "source": [
    "d['rank_subevents'] = d['deviation'].rank(axis=0, method='first', ascending=False)"
   ]
  },
  {
   "cell_type": "markdown",
   "metadata": {},
   "source": [
    "#### output"
   ]
  },
  {
   "cell_type": "code",
   "execution_count": 329,
   "metadata": {
    "collapsed": false
   },
   "outputs": [],
   "source": [
    "d.to_csv('data/final/event_%s_subevents.txt' % event_filename, sep='\\t', encoding='utf-8', header=True, index=True)"
   ]
  },
  {
   "cell_type": "markdown",
   "metadata": {},
   "source": [
    "## Apply to All Events\n",
    "\n",
    "#### add subevent info to data"
   ]
  },
  {
   "cell_type": "code",
   "execution_count": 330,
   "metadata": {
    "collapsed": true
   },
   "outputs": [],
   "source": [
    "#from sklearn.feature_extraction.text import CountVectorizer, TfidfVectorizer\n",
    "#import nltk\n",
    "#import string"
   ]
  },
  {
   "cell_type": "code",
   "execution_count": 331,
   "metadata": {
    "collapsed": true
   },
   "outputs": [],
   "source": [
    "#make sure to handle text as string\n",
    "#df['text'] = df['text'].astype('str')\n",
    "#remove links\n",
    "#df['text_clean'] = df['text'].apply(lambda text: ' '.join([(w[:w.find('http')] if 'http' in w else w) for w in text.split()]))\n",
    "#remove hashtag symbol\n",
    "#df['text_clean'] = df['text_clean'].apply(lambda text: text.replace('#', ''))\n",
    "#remove mention symbol\n",
    "#df['text_clean'] = df['text_clean'].apply(lambda text: text.replace('@', ''))\n",
    "#initiate, apply tokenization\n",
    "#tknzr = nltk.TweetTokenizer()\n",
    "#df['text_clean'] = df['text_clean'].apply(lambda s: ' '.join([w.lower() for w in tknzr.tokenize(str(s))]))"
   ]
  },
  {
   "cell_type": "code",
   "execution_count": 332,
   "metadata": {
    "collapsed": false
   },
   "outputs": [],
   "source": [
    "#%%time\n",
    "#df['stdz_frequency_1min'] = np.nan\n",
    "#df['stdz_rollmean_frequency_win5min'] = np.nan\n",
    "#df['stdz_rollmean_frequency_deviation'] = np.nan\n",
    "#\n",
    "#for event_df in allevents:\n",
    "#\n",
    "#    event_dist = event_df.set_index('created_at').groupby([pd.TimeGrouper(freq='min')])['twitter_id'].agg(['count'])\n",
    "#    timeframe = pd.date_range(event_dist.index.min(), event_dist.index.max(), freq='T')\n",
    "#    event_dist = event_dist.reindex(timeframe, fill_value=0)\n",
    "#    \n",
    "#    event_dist['mean'] = event_dist['count'].rolling(window=5).agg(['mean'])\n",
    "#    event_dist['deviation'] = event_dist['count'] - event_dist['mean']    \n",
    "#\n",
    "#    event_temp = event_df[['twitter_id', 'created_at']]\n",
    "#    event_temp['created_at'] = event_temp['created_at'].apply(lambda x: x.replace(second=0))\n",
    "#    event_temp.set_index(['created_at'], inplace=True)\n",
    "#\n",
    "#    #join subevent data on minute of created_at\n",
    "#    event_dist = pd.merge(event_temp, event_dist[['count', 'mean', 'deviation']], how='left', left_index=True, right_index=True)\n",
    "#    \n",
    "#    event_dist.set_index('twitter_id', inplace=True)\n",
    "#    \n",
    "#    #normalize\n",
    "#    event_dist['count'] = event_dist['count'] / event_dist['count'].max()\n",
    "#    event_dist['mean'] = event_dist['mean'] / event_dist['mean'].max()\n",
    "#    event_dist['deviation'] = event_dist['deviation'].apply(lambda x: [0,x][x > 0])\n",
    "#    event_dist['deviation'] = event_dist['deviation'] / event_dist['deviation'].max()\n",
    "#    \n",
    "#    #rename\n",
    "#    event_dist.columns = ['stdz_frequency_1min', 'stdz_rollmean_frequency_win5min', 'stdz_rollmean_frequency_deviation']\n",
    "#    \n",
    "#    df.update(event_dist)"
   ]
  },
  {
   "cell_type": "markdown",
   "metadata": {},
   "source": [
    "## Summarize\n",
    "\n",
    "#### add subevent summary info to data"
   ]
  },
  {
   "cell_type": "code",
   "execution_count": 333,
   "metadata": {
    "collapsed": false,
    "scrolled": true
   },
   "outputs": [],
   "source": [
    "#%%time\n",
    "#df['stdz_1min_tfidf'] = np.nan\n",
    "#df['1min_meanco'] = np.nan\n",
    "#\n",
    "#i = 1\n",
    "#for event in df['event'].unique():\n",
    "#    print('event:', i)\n",
    "#    event_df = df[df['event'] == event]\n",
    "#    \n",
    "#    event_df['created_at'] = event_df['created_at'].apply(lambda d: d.replace(second=0))\n",
    "#    \n",
    "#    subevent_times = event_df.groupby('created_at')['stdz_rollmean_frequency_deviation'].agg(['mean']).sort_values(by='mean', ascending=False)\n",
    "#    \n",
    "#    subi = 1\n",
    "#    for t in subevent_times.index[:10]: \n",
    "#    \n",
    "#        subevent_df = event_df[event_df['created_at'] == t]\n",
    "#        subevent_df.reset_index(inplace=True)\n",
    "#    \n",
    "#        countvectorizer = CountVectorizer()\n",
    "#        X = countvectorizer.fit_transform(subevent_df['text_clean'])\n",
    "#        Xco = X * X.T\n",
    "#        meanco = Xco.todense().mean(axis=1)\n",
    "#        \n",
    "#        meanco = pd.DataFrame(meanco, columns=['1min_meanco'])\n",
    "#        \n",
    "#        tfidfvectorizer = TfidfVectorizer(max_df=.9, min_df=.1, stop_words='english')\n",
    "#        X = tfidfvectorizer.fit_transform(subevent_df['text_clean'])\n",
    "#        tfidf = X.sum(axis=1)\n",
    "#        \n",
    "#        tfidf = pd.DataFrame(tfidf, columns=['stdz_1min_tfidf'])\n",
    "#    \n",
    "#        scores = pd.concat([meanco, tfidf], axis=1)\n",
    "#    \n",
    "#        #merge tfidf info with subevent\n",
    "#        subevent_df.update(scores)\n",
    "#        \n",
    "#        #set index back\n",
    "#        subevent_df.set_index('twitter_id', inplace=True)\n",
    "#        \n",
    "#        #normalize\n",
    "#        subevent_df['stdz_1min_tfidf'] = subevent_df['stdz_1min_tfidf'] / subevent_df['stdz_1min_tfidf'].max()\n",
    "#        \n",
    "#        event_df.update(subevent_df)\n",
    "#        print('subevent', subi)\n",
    "#        subi = subi+1\n",
    "#        \n",
    "#    df.update(event_df[['stdz_1min_tfidf', '1min_meanco']])\n",
    "#    print('finished event:', i)\n",
    "#    i = i+1"
   ]
  },
  {
   "cell_type": "markdown",
   "metadata": {},
   "source": [
    "### Print Summaries"
   ]
  },
  {
   "cell_type": "code",
   "execution_count": 334,
   "metadata": {
    "collapsed": true
   },
   "outputs": [],
   "source": [
    "#k_subevents = 10"
   ]
  },
  {
   "cell_type": "markdown",
   "metadata": {},
   "source": [
    "#### using term overlap"
   ]
  },
  {
   "cell_type": "code",
   "execution_count": 335,
   "metadata": {
    "collapsed": false,
    "scrolled": true
   },
   "outputs": [],
   "source": [
    "#for event in df['event'].unique():\n",
    "#    \n",
    "#    print()\n",
    "#    print(event)\n",
    "#    print()\n",
    "#\n",
    "#    event_df = df[df['event'] == event]\n",
    "#    \n",
    "#    event_df['created_at'] = event_df['created_at'].apply(lambda d: d.replace(second=0))\n",
    "#    \n",
    "#    subevents = event_df.sort_values(by=['stdz_rollmean_frequency_deviation', '1min_meanco'], ascending=False).groupby('stdz_rollmean_frequency_deviation', sort=False).first().iloc[0:k_subevents]\n",
    "#    \n",
    "#    subevents.sort_values(by='created_at', ascending=True, inplace=True)\n",
    "#    \n",
    "#    for deviation,tweet in subevents.iterrows():\n",
    "#    \n",
    "#        print(tweet['created_at'], tweet['text'])"
   ]
  },
  {
   "cell_type": "markdown",
   "metadata": {},
   "source": [
    "#### using tfidf scores"
   ]
  },
  {
   "cell_type": "code",
   "execution_count": 336,
   "metadata": {
    "collapsed": false,
    "scrolled": true
   },
   "outputs": [],
   "source": [
    "#for event in df['event'].unique():\n",
    "#    \n",
    "#    print()\n",
    "#    print(event)\n",
    "#    print()\n",
    "#\n",
    "#    event_df = df[df['event'] == event]\n",
    "#    \n",
    "#    event_df['created_at'] = event_df['created_at'].apply(lambda d: d.replace(second=0))\n",
    "#    \n",
    "#    subevents = event_df.sort_values(by=['stdz_rollmean_frequency_deviation', 'stdz_1min_tfidf'], ascending=False).groupby('stdz_rollmean_frequency_deviation', sort=False).first().iloc[0:k_subevents]\n",
    "#    \n",
    "#    subevents.sort_values(by='created_at', ascending=True, inplace=True)\n",
    "#    \n",
    "#    for deviation,tweet in subevents.iterrows():\n",
    "#    \n",
    "#        print(tweet['created_at'], tweet['text'])"
   ]
  }
 ],
 "metadata": {
  "kernelspec": {
   "display_name": "Python 3",
   "language": "python",
   "name": "python3"
  },
  "language_info": {
   "codemirror_mode": {
    "name": "ipython",
    "version": 3
   },
   "file_extension": ".py",
   "mimetype": "text/x-python",
   "name": "python",
   "nbconvert_exporter": "python",
   "pygments_lexer": "ipython3",
   "version": "3.4.4"
  }
 },
 "nbformat": 4,
 "nbformat_minor": 0
}
