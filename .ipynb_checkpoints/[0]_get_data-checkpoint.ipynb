{
 "cells": [
  {
   "cell_type": "code",
   "execution_count": 1,
   "metadata": {
    "collapsed": true
   },
   "outputs": [],
   "source": [
    "import pandas as pd"
   ]
  },
  {
   "cell_type": "code",
   "execution_count": 30,
   "metadata": {
    "collapsed": true
   },
   "outputs": [],
   "source": [
    "event = '[TedxNations]'"
   ]
  },
  {
   "cell_type": "code",
   "execution_count": 31,
   "metadata": {
    "collapsed": false
   },
   "outputs": [],
   "source": [
    "df = pd.read_table('data/searched/%s_twitter_search_data.txt' % event, sep='\\t', encoding='utf-8', header=0)"
   ]
  },
  {
   "cell_type": "code",
   "execution_count": 32,
   "metadata": {
    "collapsed": true
   },
   "outputs": [],
   "source": [
    "columns = ['id', 'created_at', 'text']"
   ]
  },
  {
   "cell_type": "code",
   "execution_count": 43,
   "metadata": {
    "collapsed": false
   },
   "outputs": [
    {
     "name": "stdout",
     "output_type": "stream",
     "text": [
      "DATA: 6624\n",
      "Retweets: 4846 (73.0%)\n",
      "Media: 4018 (61.0%)\n"
     ]
    }
   ],
   "source": [
    "d = df.shape[0]\n",
    "print('DATA: %s' % d)\n",
    "\n",
    "rt = df[df['is_retweet'] != False].shape[0]\n",
    "print('Retweets: %s (%s%%)' % (rt, round(rt/d, 2)*100))\n",
    "\n",
    "md = df[df['tweet_type'] != 'text'].shape[0]\n",
    "print('Media: %s (%s%%)' % (md, round(md/d, 2)*100))"
   ]
  },
  {
   "cell_type": "code",
   "execution_count": 45,
   "metadata": {
    "collapsed": false
   },
   "outputs": [
    {
     "name": "stdout",
     "output_type": "stream",
     "text": [
      "What's left: 1038 (16.0%)\n"
     ]
    }
   ],
   "source": [
    "left = df[(df['is_retweet'] == False) & (df['tweet_type'] == 'text')].shape[0]\n",
    "print('What\\'s left: %s (%s%%)' % (left, round(left/d, 2)*100))"
   ]
  },
  {
   "cell_type": "code",
   "execution_count": 46,
   "metadata": {
    "collapsed": false
   },
   "outputs": [],
   "source": [
    "df = df[(df['is_retweet'] == False) & (df['tweet_type'] == 'text')][columns]"
   ]
  },
  {
   "cell_type": "code",
   "execution_count": 47,
   "metadata": {
    "collapsed": true
   },
   "outputs": [],
   "source": [
    "df.to_csv('data/%s_data.txt' % event, sep='\\t', encoding='utf-8', header=True, index=False)"
   ]
  }
 ],
 "metadata": {
  "kernelspec": {
   "display_name": "Python 3",
   "language": "python",
   "name": "python3"
  },
  "language_info": {
   "codemirror_mode": {
    "name": "ipython",
    "version": 3
   },
   "file_extension": ".py",
   "mimetype": "text/x-python",
   "name": "python",
   "nbconvert_exporter": "python",
   "pygments_lexer": "ipython3",
   "version": "3.4.3"
  }
 },
 "nbformat": 4,
 "nbformat_minor": 0
}
