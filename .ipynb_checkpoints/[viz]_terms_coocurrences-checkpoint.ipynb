{
 "cells": [
  {
   "cell_type": "code",
   "execution_count": 1,
   "metadata": {
    "collapsed": true
   },
   "outputs": [],
   "source": [
    "import pandas as pd\n",
    "from collections import Counter\n",
    "import networkx as nx \n",
    "from networkx.readwrite import json_graph\n",
    "import json\n",
    "import scipy\n",
    "import numpy as np"
   ]
  },
  {
   "cell_type": "code",
   "execution_count": null,
   "metadata": {
    "collapsed": true
   },
   "outputs": [],
   "source": []
  },
  {
   "cell_type": "code",
   "execution_count": 51,
   "metadata": {
    "collapsed": true
   },
   "outputs": [],
   "source": [
    "event_name = 'TEDxNations'"
   ]
  },
  {
   "cell_type": "code",
   "execution_count": 3,
   "metadata": {
    "collapsed": true
   },
   "outputs": [],
   "source": [
    "event_data = pd.read_table('data/[%s]_data_clean_features.txt' % event_name, sep='\\t', header=0, encoding='utf-8')"
   ]
  },
  {
   "cell_type": "code",
   "execution_count": null,
   "metadata": {
    "collapsed": true
   },
   "outputs": [],
   "source": []
  },
  {
   "cell_type": "code",
   "execution_count": 65,
   "metadata": {
    "collapsed": true
   },
   "outputs": [],
   "source": [
    "#compute top tokens\n",
    "\n",
    "topk = 50\n",
    "\n",
    "def gather_tokens(data):\n",
    "    all_tokens = []\n",
    "    for doc in data:\n",
    "        tokens = doc.split()\n",
    "        all_tokens.extend(tokens)\n",
    "    return all_tokens\n",
    "\n",
    "#gather tokens from all docs \n",
    "all_tokens = gather_tokens(event_data['text_clean_tokens'])\n",
    "#create counter object\n",
    "tokens_cntr = Counter(all_tokens)\n",
    "\n",
    "top_tokens = [token for token, count in tokens_cntr.most_common(topk)]"
   ]
  },
  {
   "cell_type": "code",
   "execution_count": 66,
   "metadata": {
    "collapsed": true
   },
   "outputs": [],
   "source": [
    "top_tokens = [token for token in top_tokens if token != event_name.lower()]"
   ]
  },
  {
   "cell_type": "code",
   "execution_count": null,
   "metadata": {
    "collapsed": true
   },
   "outputs": [],
   "source": []
  },
  {
   "cell_type": "code",
   "execution_count": 67,
   "metadata": {
    "collapsed": true
   },
   "outputs": [],
   "source": [
    "#manually construct scipy sparse matrix - alternative to sklearn vectorizer\n",
    "vocabulary = {} #terms with indices\n",
    "data = [] #1\n",
    "row = [] #docs\n",
    "col = [] #terms\n",
    "\n",
    "for i,doc in event_data.iterrows():\n",
    "    for term in doc['text_clean_tokens'].split():\n",
    "        # get column index, adding the term to the vocabulary if needed\n",
    "        j = vocabulary.setdefault(term, len(vocabulary))\n",
    "        data.append(1) # uniform weights\n",
    "        row.append(i)\n",
    "        col.append(j)\n",
    "\n",
    "A = scipy.sparse.coo_matrix((data, (row, col)))"
   ]
  },
  {
   "cell_type": "code",
   "execution_count": 68,
   "metadata": {
    "collapsed": true
   },
   "outputs": [],
   "source": [
    "#compute co occurrences matrix (terms by terms)\n",
    "X = A.T * A"
   ]
  },
  {
   "cell_type": "code",
   "execution_count": null,
   "metadata": {
    "collapsed": true
   },
   "outputs": [],
   "source": []
  },
  {
   "cell_type": "code",
   "execution_count": 69,
   "metadata": {
    "collapsed": false
   },
   "outputs": [],
   "source": [
    "with open('data/d3matrix_termsco_datacols.txt', 'w') as f:\n",
    "    for term in top_tokens:\n",
    "        f.write(term+'\\n') "
   ]
  },
  {
   "cell_type": "code",
   "execution_count": null,
   "metadata": {
    "collapsed": true
   },
   "outputs": [],
   "source": []
  },
  {
   "cell_type": "code",
   "execution_count": 70,
   "metadata": {
    "collapsed": false
   },
   "outputs": [],
   "source": [
    "header = ['term1', 'term2', 'value']\n",
    "h = pd.DataFrame(columns=header)\n",
    "h.to_csv('data/d3matrix_termsco_data.tsv', mode='w', sep='\\t', encoding='utf-8', index=False, header=True)\n",
    "\n",
    "t1 = 1\n",
    "for term1 in top_tokens:\n",
    "    index1 = vocabulary.get(term1)\n",
    "    t2 = 1\n",
    "    for term2 in top_tokens:\n",
    "        index2 = vocabulary.get(term2)\n",
    "        co = (X[index1, index2] if term2 != term1 else 0) \n",
    "        r = [t1, t2, co]\n",
    "        row = pd.Series(r, index=header)\n",
    "        row = pd.DataFrame(r).T\n",
    "        row.to_csv('data/d3matrix_termsco_data.tsv', mode='a', sep='\\t', encoding='utf-8', index=False, header=False)\n",
    "        t2+=1\n",
    "    t1+=1"
   ]
  }
 ],
 "metadata": {
  "kernelspec": {
   "display_name": "Python 3",
   "language": "python",
   "name": "python3"
  },
  "language_info": {
   "codemirror_mode": {
    "name": "ipython",
    "version": 3
   },
   "file_extension": ".py",
   "mimetype": "text/x-python",
   "name": "python",
   "nbconvert_exporter": "python",
   "pygments_lexer": "ipython3",
   "version": "3.4.3"
  }
 },
 "nbformat": 4,
 "nbformat_minor": 0
}
