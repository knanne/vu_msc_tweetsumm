{
 "cells": [
  {
   "cell_type": "code",
   "execution_count": 20,
   "metadata": {
    "collapsed": true
   },
   "outputs": [],
   "source": [
    "import pandas as pd\n",
    "import scipy\n",
    "from sklearn.feature_extraction.text import CountVectorizer\n",
    "from sklearn.feature_extraction.text import TfidfTransformer\n",
    "from sklearn.metrics.pairwise import linear_kernel"
   ]
  },
  {
   "cell_type": "code",
   "execution_count": null,
   "metadata": {
    "collapsed": true
   },
   "outputs": [],
   "source": []
  },
  {
   "cell_type": "code",
   "execution_count": 2,
   "metadata": {
    "collapsed": true
   },
   "outputs": [],
   "source": [
    "event_name = '[TEDxNations]'"
   ]
  },
  {
   "cell_type": "code",
   "execution_count": 4,
   "metadata": {
    "collapsed": false
   },
   "outputs": [],
   "source": [
    "event_data = pd.read_table('data/%s_data_clean.txt' % event_name, sep='\\t', header=0, encoding='utf-8')"
   ]
  },
  {
   "cell_type": "code",
   "execution_count": null,
   "metadata": {
    "collapsed": true
   },
   "outputs": [],
   "source": []
  },
  {
   "cell_type": "code",
   "execution_count": 5,
   "metadata": {
    "collapsed": true
   },
   "outputs": [],
   "source": [
    "#initialize a vectorizer, require minimum freq. of terms at 2\n",
    "count_vect = CountVectorizer(min_df=2)"
   ]
  },
  {
   "cell_type": "code",
   "execution_count": 6,
   "metadata": {
    "collapsed": true
   },
   "outputs": [],
   "source": [
    "#Learn the vocabulary dictionary and return term-document matrix\n",
    "train_matrix_cnt = count_vect.fit_transform(event_data['text_clean_tokens'])"
   ]
  },
  {
   "cell_type": "code",
   "execution_count": 7,
   "metadata": {
    "collapsed": true
   },
   "outputs": [],
   "source": [
    "#Fit and Transform count sparse matrix to normalized tf-idf sparse matrix\n",
    "#first fit transformer which computes idf values\n",
    "tfidf_transformer = TfidfTransformer().fit(train_matrix_cnt)\n",
    "#second transform back to sparse matrix with tfidf values\n",
    "train_matrix_tfidf = tfidf_transformer.transform(train_matrix_cnt)"
   ]
  },
  {
   "cell_type": "code",
   "execution_count": 8,
   "metadata": {
    "collapsed": false
   },
   "outputs": [
    {
     "name": "stdout",
     "output_type": "stream",
     "text": [
      "sparse matrix shape: (1778, 1550)\n",
      "size: 2755900\n",
      "non-zeros: 15666\n",
      "sparsity: 99.43%\n",
      "density: 0.57%\n"
     ]
    }
   ],
   "source": [
    "#explore sparse matrix\n",
    "print('sparse matrix shape:', train_matrix_cnt.shape)\n",
    "print('size:', (train_matrix_cnt.shape[0] * train_matrix_cnt.shape[1]))\n",
    "print('non-zeros:', train_matrix_cnt.getnnz())\n",
    "print('sparsity: %.2f%%' % (100.0 * (((train_matrix_cnt.shape[0] * train_matrix_cnt.shape[1]) - train_matrix_cnt.getnnz()) / (train_matrix_cnt.shape[0] * train_matrix_cnt.shape[1]))))\n",
    "print('density: %.2f%%' % (100.0 * train_matrix_cnt.getnnz() / (train_matrix_cnt.shape[0] * train_matrix_cnt.shape[1])))"
   ]
  },
  {
   "cell_type": "code",
   "execution_count": null,
   "metadata": {
    "collapsed": true
   },
   "outputs": [],
   "source": []
  },
  {
   "cell_type": "code",
   "execution_count": 185,
   "metadata": {
    "collapsed": false,
    "scrolled": true
   },
   "outputs": [
    {
     "name": "stdout",
     "output_type": "stream",
     "text": [
      "0.0% complete\n",
      "2.81% complete\n",
      "5.62% complete\n",
      "8.44% complete\n",
      "11.25% complete\n",
      "14.06% complete\n",
      "16.87% complete\n",
      "19.69% complete\n",
      "22.5% complete\n",
      "25.31% complete\n",
      "28.12% complete\n",
      "30.93% complete\n",
      "33.75% complete\n",
      "36.56% complete\n",
      "39.37% complete\n",
      "42.18% complete\n",
      "44.99% complete\n",
      "47.81% complete\n",
      "50.62% complete\n",
      "53.43% complete\n",
      "56.24% complete\n",
      "59.06% complete\n",
      "61.87% complete\n",
      "64.68% complete\n",
      "67.49% complete\n",
      "70.3% complete\n",
      "73.12% complete\n",
      "75.93% complete\n",
      "78.74% complete\n",
      "81.55% complete\n",
      "84.36% complete\n",
      "87.18% complete\n",
      "89.99% complete\n",
      "92.8% complete\n",
      "95.61% complete\n",
      "98.43% complete\n",
      "100%% complete\n"
     ]
    }
   ],
   "source": [
    "#construct square doc matrix, of cosine-similarity values, using pandas dataframe\n",
    "X = pd.DataFrame()\n",
    "\n",
    "for i,doc in event_data.iterrows():\n",
    "    \n",
    "    if i % 50 == 0:\n",
    "        complete = round((i/event_data.shape[0])*100, 2)\n",
    "        print('%s%% complete' % complete)\n",
    "    \n",
    "    #compute dot product cosine similarity of indexed document with all others\n",
    "    cosine_similarities = linear_kernel(train_matrix_tfidf[i], train_matrix_tfidf).flatten()\n",
    "    s = pd.Series(cosine_similarities)\n",
    "    df = pd.DataFrame(s, index=list(s.index)).T\n",
    "    X = X.append(df, ignore_index=True)\n",
    "\n",
    "print('100%% complete')"
   ]
  },
  {
   "cell_type": "code",
   "execution_count": null,
   "metadata": {
    "collapsed": true
   },
   "outputs": [],
   "source": []
  },
  {
   "cell_type": "code",
   "execution_count": 225,
   "metadata": {
    "collapsed": false
   },
   "outputs": [
    {
     "name": "stdout",
     "output_type": "stream",
     "text": [
      "Retweeted UNIC Lagos (@UNICLagos):Energy is the backbone of all the SDGS - FOSTER @TEDxPdNations #TEDxNations... \n",
      "\n",
      "index: 100 \tcosine-sim: 1.0\n",
      "  text: Retweeted UNIC Lagos (@UNICLagos):Energy is the backbone of all the SDGS - FOSTER @TEDxPdNations #TEDxNations... \n",
      "\n",
      "index: 54 \tcosine-sim: 1.0\n",
      "  text: Retweeted UNIC Lagos (@UNICLagos):Energy is the backbone of all the SDGS - FOSTER @TEDxPdNations #TEDxNations... \n",
      "\n",
      "index: 262 \tcosine-sim: 0.74836141561\n",
      "  text: Energy is the backbone of all the SDGS - FOSTER @TEDxPdNations #TEDxNations lagosViewingParty \n",
      "\n",
      "index: 55 \tcosine-sim: 0.556083484541\n",
      "  text: Retweeted UNIC Lagos (@UNICLagos):Audience @TEDxPdNations #TEDxNations lagosViewingParty  \n",
      "\n",
      "index: 386 \tcosine-sim: 0.556083484541\n",
      "  text: Retweeted UNIC Lagos (@UNICLagos):Audience LagosViewingParty @TEDxPdNations #TEDxNations  \n",
      "\n",
      "index: 94 \tcosine-sim: 0.529599358726\n",
      "  text: Retweeted UNIC Lagos (@UNICLagos):Closing from #TEDxNations lagosViewingParty @TEDxPdNations... \n",
      "\n",
      "index: 104 \tcosine-sim: 0.483144478633\n",
      "  text: Retweeted UNIC Lagos (@UNICLagos):Feedback session #TEDxNations lagosViewingParty @TEDxPdNations... \n",
      "\n",
      "index: 337 \tcosine-sim: 0.480945663051\n",
      "  text: Retweeted UNIC Lagos (@UNICLagos):Discussion ongoing @TEDxPdNations #TEDxNations lagosViewingParty... \n",
      "\n",
      "index: 336 \tcosine-sim: 0.468458984877\n",
      "  text: Retweeted UNIC Lagos (@UNICLagos):Audience discussion time #TEDxNations lagosViewingParty @TEDxPdNations... \n",
      "\n",
      "index: 804 \tcosine-sim: 0.463979340078\n",
      "  text: Retweeted UNIC Lagos (@UNICLagos):Audience at the #TEDxNations LagosViewingParty organised by @UNICLagos and... \n",
      "\n"
     ]
    }
   ],
   "source": [
    "#get top n similiar docs from matrix, from indexed doc of interest\n",
    "doc_index = 100\n",
    "n = 10\n",
    "\n",
    "similar = X.sort(doc_index, ascending=False).head(n)\n",
    "\n",
    "#print doc of interest\n",
    "print(event_data.iloc[doc_index]['text_nolink'])\n",
    "print()\n",
    "\n",
    "for i in list(similar.index):\n",
    "    print('index:', i, '\\tcosine-sim:', X.iloc[i][doc_index])\n",
    "    print('  text:', event_data.iloc[i]['text_nolink'])\n",
    "    print()"
   ]
  }
 ],
 "metadata": {
  "kernelspec": {
   "display_name": "Python 3",
   "language": "python",
   "name": "python3"
  },
  "language_info": {
   "codemirror_mode": {
    "name": "ipython",
    "version": 3
   },
   "file_extension": ".py",
   "mimetype": "text/x-python",
   "name": "python",
   "nbconvert_exporter": "python",
   "pygments_lexer": "ipython3",
   "version": "3.4.3"
  }
 },
 "nbformat": 4,
 "nbformat_minor": 0
}
