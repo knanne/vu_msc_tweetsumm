{
 "cells": [
  {
   "cell_type": "code",
   "execution_count": null,
   "metadata": {
    "collapsed": true
   },
   "outputs": [],
   "source": [
    "#COSINE SIMILARITY - sim(d1, d2) = dot product over product of vector euclidiean lengths"
   ]
  },
  {
   "cell_type": "code",
   "execution_count": 9,
   "metadata": {
    "collapsed": true
   },
   "outputs": [],
   "source": [
    "import pandas as pd\n",
    "from sklearn.feature_extraction.text import TfidfVectorizer\n",
    "from sklearn.cluster import KMeans\n",
    "from sklearn.metrics import adjusted_rand_score"
   ]
  },
  {
   "cell_type": "code",
   "execution_count": null,
   "metadata": {
    "collapsed": true
   },
   "outputs": [],
   "source": []
  },
  {
   "cell_type": "code",
   "execution_count": 5,
   "metadata": {
    "collapsed": true
   },
   "outputs": [],
   "source": [
    "event_name = '[TEDxNations]'"
   ]
  },
  {
   "cell_type": "code",
   "execution_count": 75,
   "metadata": {
    "collapsed": true
   },
   "outputs": [],
   "source": [
    "event_data = pd.read_table('data/%s_data_clean_features.txt' % event_name, sep='\\t', header=0, encoding='utf-8')"
   ]
  },
  {
   "cell_type": "code",
   "execution_count": null,
   "metadata": {
    "collapsed": true
   },
   "outputs": [],
   "source": []
  },
  {
   "cell_type": "code",
   "execution_count": 76,
   "metadata": {
    "collapsed": false
   },
   "outputs": [],
   "source": [
    "#initialize a vectorizer, require minimum freq. of terms at 2\n",
    "vectorizer = TfidfVectorizer(min_df=2)"
   ]
  },
  {
   "cell_type": "code",
   "execution_count": 77,
   "metadata": {
    "collapsed": true
   },
   "outputs": [],
   "source": [
    "#Fit vectorizer to documents and transform to normalized tf-idf sparse matrix\n",
    "tfidf_matrix = vectorizer.fit_transform(event_data['text_clean_tokens'])"
   ]
  },
  {
   "cell_type": "code",
   "execution_count": 91,
   "metadata": {
    "collapsed": true
   },
   "outputs": [],
   "source": [
    "cluster_num = 8"
   ]
  },
  {
   "cell_type": "code",
   "execution_count": 92,
   "metadata": {
    "collapsed": true
   },
   "outputs": [],
   "source": [
    "km = KMeans(n_clusters=cluster_num)"
   ]
  },
  {
   "cell_type": "code",
   "execution_count": 93,
   "metadata": {
    "collapsed": false
   },
   "outputs": [
    {
     "data": {
      "text/plain": [
       "KMeans(copy_x=True, init='k-means++', max_iter=300, n_clusters=8, n_init=10,\n",
       "    n_jobs=1, precompute_distances='auto', random_state=None, tol=0.0001,\n",
       "    verbose=0)"
      ]
     },
     "execution_count": 93,
     "metadata": {},
     "output_type": "execute_result"
    }
   ],
   "source": [
    "km.fit(tfidf_matrix)"
   ]
  },
  {
   "cell_type": "code",
   "execution_count": 94,
   "metadata": {
    "collapsed": false
   },
   "outputs": [
    {
     "data": {
      "text/plain": [
       "7    996\n",
       "3    151\n",
       "1    149\n",
       "0    149\n",
       "6    119\n",
       "2     95\n",
       "5     69\n",
       "4     50\n",
       "dtype: int64"
      ]
     },
     "execution_count": 94,
     "metadata": {},
     "output_type": "execute_result"
    }
   ],
   "source": [
    "dfclust = pd.DataFrame(km.labels_, columns=['cluster'])\n",
    "dfclust['cluster'].value_counts()"
   ]
  },
  {
   "cell_type": "code",
   "execution_count": 119,
   "metadata": {
    "collapsed": false
   },
   "outputs": [],
   "source": [
    "dfclust.to_csv('%s_data_clean_clusters.txt' % event_name, sep='\\t', encoding='utf-8', header=True, index=True)"
   ]
  },
  {
   "cell_type": "code",
   "execution_count": null,
   "metadata": {
    "collapsed": true
   },
   "outputs": [],
   "source": []
  },
  {
   "cell_type": "code",
   "execution_count": 117,
   "metadata": {
    "collapsed": false,
    "scrolled": false
   },
   "outputs": [
    {
     "name": "stdout",
     "output_type": "stream",
     "text": [
      "Cluster: 0\n",
      "   liotta\n",
      "   dennis\n",
      "   world\n",
      "   people\n",
      "   drug\n",
      "   tedxnations\n",
      "   adapt\n",
      "   diseases\n",
      "   neglected\n",
      "   adopt\n",
      "\n",
      "Cluster: 1\n",
      "   lagosviewingparty\n",
      "   uniclagos\n",
      "   tedxpdnations\n",
      "   smileontwiter\n",
      "   tedxnations\n",
      "   retweeted\n",
      "   speaker\n",
      "   lagos\n",
      "   unic\n",
      "   lives\n",
      "\n",
      "Cluster: 2\n",
      "   coline\n",
      "   rapneau\n",
      "   violence\n",
      "   sexual\n",
      "   sexualviolence\n",
      "   icrc\n",
      "   victims\n",
      "   tedxnations\n",
      "   blame\n",
      "   conflict\n",
      "\n",
      "Cluster: 3\n",
      "   live\n",
      "   watch\n",
      "   periscope\n",
      "   transforming\n",
      "   lives\n",
      "   tedxnations\n",
      "   ungeneva\n",
      "   party\n",
      "   dc\n",
      "   talk\n",
      "\n",
      "Cluster: 4\n",
      "   kidron\n",
      "   beeban\n",
      "   rights\n",
      "   child\n",
      "   5rights\n",
      "   children\n",
      "   campaigner\n",
      "   digital\n",
      "   irights\n",
      "   online\n",
      "\n",
      "Cluster: 5\n",
      "   11\n",
      "   individuals\n",
      "   stories\n",
      "   impact\n",
      "   global\n",
      "   making\n",
      "   ungeneva\n",
      "   february\n",
      "   ideas\n",
      "   tedxnations\n",
      "\n",
      "Cluster: 6\n",
      "   refugees\n",
      "   gerduany\n",
      "   dress\n",
      "   ambassador\n",
      "   4ourtime\n",
      "   goodwill\n",
      "   refugee\n",
      "   story\n",
      "   family\n",
      "   tedxnations\n",
      "\n",
      "Cluster: 7\n",
      "   tedxnations\n",
      "   ungeneva\n",
      "   tedxpdnations\n",
      "   didierpittet\n",
      "   the\n",
      "   we\n",
      "   rohini\n",
      "   it\n",
      "   energy\n",
      "   geneva\n",
      "\n"
     ]
    }
   ],
   "source": [
    "#top terms per cluster\n",
    "order_centroids = km.cluster_centers_.argsort()[:, ::-1]\n",
    "terms_vec = vectorizer.get_feature_names()\n",
    "for c in range(cluster_num):\n",
    "    print('Cluster:', c),\n",
    "    for i in order_centroids[c, :10]:\n",
    "        print('  ', terms_vec[i]),\n",
    "    print()"
   ]
  }
 ],
 "metadata": {
  "kernelspec": {
   "display_name": "Python 3",
   "language": "python",
   "name": "python3"
  },
  "language_info": {
   "codemirror_mode": {
    "name": "ipython",
    "version": 3
   },
   "file_extension": ".py",
   "mimetype": "text/x-python",
   "name": "python",
   "nbconvert_exporter": "python",
   "pygments_lexer": "ipython3",
   "version": "3.4.3"
  }
 },
 "nbformat": 4,
 "nbformat_minor": 0
}
