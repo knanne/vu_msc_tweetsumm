{
 "cells": [
  {
   "cell_type": "code",
   "execution_count": 1,
   "metadata": {
    "collapsed": true
   },
   "outputs": [],
   "source": [
    "import pandas as pd\n",
    "from sklearn.feature_extraction.text import CountVectorizer\n",
    "from sklearn.feature_extraction.text import TfidfTransformer\n",
    "from sklearn.metrics.pairwise import linear_kernel"
   ]
  },
  {
   "cell_type": "code",
   "execution_count": null,
   "metadata": {
    "collapsed": true
   },
   "outputs": [],
   "source": []
  },
  {
   "cell_type": "code",
   "execution_count": 14,
   "metadata": {
    "collapsed": true
   },
   "outputs": [],
   "source": [
    "event_name = '[TEDxNations]'"
   ]
  },
  {
   "cell_type": "code",
   "execution_count": 15,
   "metadata": {
    "collapsed": true
   },
   "outputs": [],
   "source": [
    "event_data = pd.read_table('%s_data_clean.txt' % event_name, sep='\\t', header=0, encoding='utf-8')"
   ]
  },
  {
   "cell_type": "code",
   "execution_count": null,
   "metadata": {
    "collapsed": true
   },
   "outputs": [],
   "source": []
  },
  {
   "cell_type": "code",
   "execution_count": 24,
   "metadata": {
    "collapsed": true
   },
   "outputs": [],
   "source": [
    "#initialize a vectorizer, require minimum freq. of terms at 2\n",
    "count_vect = CountVectorizer(min_df=2)"
   ]
  },
  {
   "cell_type": "code",
   "execution_count": 25,
   "metadata": {
    "collapsed": true
   },
   "outputs": [],
   "source": [
    "#Learn the vocabulary dictionary and return term-document matrix\n",
    "train_matrix_cnt = count_vect.fit_transform(event_data['text_clean_tokens'])"
   ]
  },
  {
   "cell_type": "code",
   "execution_count": 26,
   "metadata": {
    "collapsed": true
   },
   "outputs": [],
   "source": [
    "#Fit and Transform count sparse matrix to normalized tf-idf sparse matrix\n",
    "#first fit transformer which computes idf values\n",
    "tfidf_transformer = TfidfTransformer().fit(train_matrix_cnt)\n",
    "#second transform back to sparse matrix with tfidf values\n",
    "train_matrix_tfidf = tfidf_transformer.transform(train_matrix_cnt)"
   ]
  },
  {
   "cell_type": "code",
   "execution_count": 27,
   "metadata": {
    "collapsed": false
   },
   "outputs": [
    {
     "name": "stdout",
     "output_type": "stream",
     "text": [
      "sparse matrix shape: (1778, 1550)\n",
      "size: 2755900\n",
      "non-zeros: 15666\n",
      "sparsity: 99.43%\n",
      "density: 0.57%\n"
     ]
    }
   ],
   "source": [
    "#explore sparse matrix\n",
    "print('sparse matrix shape:', train_matrix_cnt.shape)\n",
    "print('size:', (train_matrix_cnt.shape[0] * train_matrix_cnt.shape[1]))\n",
    "print('non-zeros:', train_matrix_cnt.getnnz())\n",
    "print('sparsity: %.2f%%' % (100.0 * (((train_matrix_cnt.shape[0] * train_matrix_cnt.shape[1]) - train_matrix_cnt.getnnz()) / (train_matrix_cnt.shape[0] * train_matrix_cnt.shape[1]))))\n",
    "print('density: %.2f%%' % (100.0 * train_matrix_cnt.getnnz() / (train_matrix_cnt.shape[0] * train_matrix_cnt.shape[1])))"
   ]
  },
  {
   "cell_type": "code",
   "execution_count": null,
   "metadata": {
    "collapsed": true
   },
   "outputs": [],
   "source": []
  },
  {
   "cell_type": "code",
   "execution_count": 53,
   "metadata": {
    "collapsed": false
   },
   "outputs": [],
   "source": [
    "doc_index = 0\n",
    "\n",
    "#compute dot product cosine similarity of indexed document with all others\n",
    "cosine_similarities = linear_kernel(train_matrix_tfidf[0:doc_index+1], train_matrix_tfidf).flatten()"
   ]
  },
  {
   "cell_type": "code",
   "execution_count": 66,
   "metadata": {
    "collapsed": false
   },
   "outputs": [],
   "source": [
    "#top 10 similar\n",
    "similar = cosine_similarities.argsort()[:-10:-1]"
   ]
  },
  {
   "cell_type": "code",
   "execution_count": 59,
   "metadata": {
    "collapsed": false
   },
   "outputs": [
    {
     "name": "stdout",
     "output_type": "stream",
     "text": [
      "How does @ICRC work globally to address #sexualviolence in conflict? Learn more here:  #TEDxNations via @PMeigeICRC\n"
     ]
    }
   ],
   "source": [
    "#doc of interest\n",
    "print(event_data.iloc[doc_index]['text_nolink'])"
   ]
  },
  {
   "cell_type": "code",
   "execution_count": 67,
   "metadata": {
    "collapsed": false
   },
   "outputs": [
    {
     "name": "stdout",
     "output_type": "stream",
     "text": [
      "index: 757 \tmeasure: 0.94 \n",
      " text: How does @ICRC work globally to address #sexualviolence in conflict? Learn more here:  #TEDxNations\n",
      "\n",
      "index: 808 \tmeasure: 0.94 \n",
      " text: How does @ICRC work globally to address #sexualviolence in conflict? Learn more here:  #TEDxNations\n",
      "\n",
      "index: 47 \tmeasure: 0.34 \n",
      " text: What can you do to end #sexualviolence in conflict areas? Coline Rapneau answers at #TEDxNations:  via @TEDx #VAW\n",
      "\n",
      "index: 796 \tmeasure: 0.33 \n",
      " text: Break the taboo on #SexualViolence in #conflict by shifting the #blame - Coline Rapneau @ICRC #TEDxNations \n",
      "\n",
      "index: 1523 \tmeasure: 0.3 \n",
      " text: How can we better address #sexualviolence in conflict? Watch Coline Rapneau talk at #TEDxNations - 11th Feb at 4pm: \n",
      "\n",
      "index: 793 \tmeasure: 0.29 \n",
      " text: @ICRC Coline Rapneau underlines today at #TEDxNations the steps we can take to defeat #sexualviolence in conflict: \n",
      "\n",
      "index: 754 \tmeasure: 0.28 \n",
      " text: We ALL have a role to play. #SexualViolence is not unspeakable. We must openly address the issue -C. Rapneau @ICRC #TEDxNations\n",
      "\n",
      "index: 540 \tmeasure: 0.24 \n",
      " text: Coline Rapneau of @ICRC continuing the conversation on #sexualviolence in the #TEDxNations Speakers Corner \n",
      "\n"
     ]
    }
   ],
   "source": [
    "#show top similar docs\n",
    "for i in similar:\n",
    "    if i != doc_index:\n",
    "        print('index:',i, '\\tmeasure:', round(cosine_similarities[i],2), '\\n text:', event_data.iloc[i]['text_nolink'])\n",
    "        print()"
   ]
  }
 ],
 "metadata": {
  "kernelspec": {
   "display_name": "Python 3",
   "language": "python",
   "name": "python3"
  },
  "language_info": {
   "codemirror_mode": {
    "name": "ipython",
    "version": 3
   },
   "file_extension": ".py",
   "mimetype": "text/x-python",
   "name": "python",
   "nbconvert_exporter": "python",
   "pygments_lexer": "ipython3",
   "version": "3.4.3"
  }
 },
 "nbformat": 4,
 "nbformat_minor": 0
}
