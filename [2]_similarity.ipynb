{
 "cells": [
  {
   "cell_type": "code",
   "execution_count": 1,
   "metadata": {
    "collapsed": true
   },
   "outputs": [],
   "source": [
    "import pandas as pd\n",
    "import scipy\n",
    "from sklearn.feature_extraction.text import CountVectorizer\n",
    "from sklearn.feature_extraction.text import TfidfTransformer\n",
    "from sklearn.metrics.pairwise import linear_kernel"
   ]
  },
  {
   "cell_type": "code",
   "execution_count": null,
   "metadata": {
    "collapsed": true
   },
   "outputs": [],
   "source": []
  },
  {
   "cell_type": "code",
   "execution_count": 10,
   "metadata": {
    "collapsed": true
   },
   "outputs": [],
   "source": [
    "event_name = '[TEDxNations]'"
   ]
  },
  {
   "cell_type": "code",
   "execution_count": 11,
   "metadata": {
    "collapsed": false
   },
   "outputs": [],
   "source": [
    "event_data = pd.read_table('data/%s_data_clean.txt' % event_name, sep='\\t', header=0, encoding='utf-8')"
   ]
  },
  {
   "cell_type": "code",
   "execution_count": null,
   "metadata": {
    "collapsed": true
   },
   "outputs": [],
   "source": []
  },
  {
   "cell_type": "code",
   "execution_count": 12,
   "metadata": {
    "collapsed": true
   },
   "outputs": [],
   "source": [
    "#initialize a vectorizer, require minimum freq. of terms at 2\n",
    "count_vect = CountVectorizer(min_df=2)"
   ]
  },
  {
   "cell_type": "code",
   "execution_count": 13,
   "metadata": {
    "collapsed": true
   },
   "outputs": [],
   "source": [
    "#Learn the vocabulary dictionary and return term-document matrix\n",
    "train_matrix_cnt = count_vect.fit_transform(event_data['text_clean_tokens'])"
   ]
  },
  {
   "cell_type": "code",
   "execution_count": 14,
   "metadata": {
    "collapsed": true
   },
   "outputs": [],
   "source": [
    "#Fit and Transform count sparse matrix to normalized tf-idf sparse matrix\n",
    "#first fit transformer which computes idf values\n",
    "tfidf_transformer = TfidfTransformer().fit(train_matrix_cnt)\n",
    "#second transform back to sparse matrix with tfidf values\n",
    "train_matrix_tfidf = tfidf_transformer.transform(train_matrix_cnt)"
   ]
  },
  {
   "cell_type": "code",
   "execution_count": 15,
   "metadata": {
    "collapsed": false
   },
   "outputs": [
    {
     "name": "stdout",
     "output_type": "stream",
     "text": [
      "sparse matrix shape: (1659, 1497)\n",
      "size: 2483523\n",
      "non-zeros: 14463\n",
      "sparsity: 99.42%\n",
      "density: 0.58%\n"
     ]
    }
   ],
   "source": [
    "#explore sparse matrix\n",
    "print('sparse matrix shape:', train_matrix_cnt.shape)\n",
    "print('size:', (train_matrix_cnt.shape[0] * train_matrix_cnt.shape[1]))\n",
    "print('non-zeros:', train_matrix_cnt.getnnz())\n",
    "print('sparsity: %.2f%%' % (100.0 * (((train_matrix_cnt.shape[0] * train_matrix_cnt.shape[1]) - train_matrix_cnt.getnnz()) / (train_matrix_cnt.shape[0] * train_matrix_cnt.shape[1]))))\n",
    "print('density: %.2f%%' % (100.0 * train_matrix_cnt.getnnz() / (train_matrix_cnt.shape[0] * train_matrix_cnt.shape[1])))"
   ]
  },
  {
   "cell_type": "code",
   "execution_count": null,
   "metadata": {
    "collapsed": true
   },
   "outputs": [],
   "source": []
  },
  {
   "cell_type": "code",
   "execution_count": 16,
   "metadata": {
    "collapsed": false,
    "scrolled": true
   },
   "outputs": [
    {
     "name": "stdout",
     "output_type": "stream",
     "text": [
      "0.0% complete\n",
      "3.01% complete\n",
      "6.03% complete\n",
      "9.04% complete\n",
      "12.06% complete\n",
      "15.07% complete\n",
      "18.08% complete\n",
      "21.1% complete\n",
      "24.11% complete\n",
      "27.12% complete\n",
      "30.14% complete\n",
      "33.15% complete\n",
      "36.17% complete\n",
      "39.18% complete\n",
      "42.19% complete\n",
      "45.21% complete\n",
      "48.22% complete\n",
      "51.24% complete\n",
      "54.25% complete\n",
      "57.26% complete\n",
      "60.28% complete\n",
      "63.29% complete\n",
      "66.31% complete\n",
      "69.32% complete\n",
      "72.33% complete\n",
      "75.35% complete\n",
      "78.36% complete\n",
      "81.37% complete\n",
      "84.39% complete\n",
      "87.4% complete\n",
      "90.42% complete\n",
      "93.43% complete\n",
      "96.44% complete\n",
      "99.46% complete\n",
      "100%% complete\n"
     ]
    }
   ],
   "source": [
    "#construct square doc matrix, of cosine-similarity values, using pandas dataframe\n",
    "X = pd.DataFrame()\n",
    "\n",
    "for i,doc in event_data.iterrows():\n",
    "    \n",
    "    if i % 50 == 0:\n",
    "        complete = round((i/event_data.shape[0])*100, 2)\n",
    "        print('%s%% complete' % complete)\n",
    "    \n",
    "    #compute dot product cosine similarity of indexed document with all others\n",
    "    cosine_similarities = linear_kernel(train_matrix_tfidf[i], train_matrix_tfidf).flatten()\n",
    "    s = pd.Series(cosine_similarities)\n",
    "    df = pd.DataFrame(s, index=list(s.index)).T\n",
    "    X = X.append(df, ignore_index=True)\n",
    "\n",
    "print('100%% complete')"
   ]
  },
  {
   "cell_type": "code",
   "execution_count": 20,
   "metadata": {
    "collapsed": true
   },
   "outputs": [],
   "source": [
    "#save similarity matrix (WARNING: LARGE FILE)\n",
    "#X.to_csv('data/%s_data_clean_cosinesimX.txt' % event_name, sep='\\t', encoding='utf-8', header=True, index=True)"
   ]
  },
  {
   "cell_type": "code",
   "execution_count": null,
   "metadata": {
    "collapsed": true
   },
   "outputs": [],
   "source": []
  },
  {
   "cell_type": "code",
   "execution_count": 18,
   "metadata": {
    "collapsed": false
   },
   "outputs": [
    {
     "name": "stdout",
     "output_type": "stream",
     "text": [
      "Retweeted UNIC Lagos (@UNICLagos):Audience @TEDxPdNations #TEDxNations lagosViewingParty  \n",
      "\n",
      "index: 48 \tcosine-sim: 1.0\n",
      "  text: Retweeted UNIC Lagos (@UNICLagos):Audience @TEDxPdNations #TEDxNations lagosViewingParty  \n",
      "\n",
      "index: 354 \tcosine-sim: 1.0\n",
      "  text: Retweeted UNIC Lagos (@UNICLagos):Audience LagosViewingParty @TEDxPdNations #TEDxNations  \n",
      "\n",
      "index: 304 \tcosine-sim: 0.843656655461\n",
      "  text: Retweeted UNIC Lagos (@UNICLagos):Audience discussion time #TEDxNations lagosViewingParty @TEDxPdNations... \n",
      "\n",
      "index: 757 \tcosine-sim: 0.826817409408\n",
      "  text: Retweeted UNIC Lagos (@UNICLagos):Audience at the #TEDxNations LagosViewingParty organised by @UNICLagos and... \n",
      "\n",
      "index: 81 \tcosine-sim: 0.768650499179\n",
      "  text: Retweeted UNIC Lagos (@UNICLagos):Closing from #TEDxNations lagosViewingParty @TEDxPdNations... \n",
      "\n",
      "index: 305 \tcosine-sim: 0.694769920614\n",
      "  text: Retweeted UNIC Lagos (@UNICLagos):Discussion ongoing @TEDxPdNations #TEDxNations lagosViewingParty... \n",
      "\n",
      "index: 88 \tcosine-sim: 0.693226888507\n",
      "  text: Retweeted UNIC Lagos (@UNICLagos):Feedback session #TEDxNations lagosViewingParty @TEDxPdNations... \n",
      "\n",
      "index: 663 \tcosine-sim: 0.645120361325\n",
      "  text: Retweeted UNIC Lagos (@UNICLagos):4th speaker, Leonada @TEDxPdNations #TEDxNations lagosViewingParty... \n",
      "\n",
      "index: 50 \tcosine-sim: 0.641725224679\n",
      "  text: Retweeted UNIC Lagos (@UNICLagos):Speaker @TEDxPdNations #TEDxNations lagosViewingParty wt very emotional... \n",
      "\n",
      "index: 693 \tcosine-sim: 0.630860967869\n",
      "  text: Retweeted UNIC Lagos (@UNICLagos):3rd speaker Didier now on stage @TEDxPdNations #TEDxNations LagosViewingParty... \n",
      "\n"
     ]
    }
   ],
   "source": [
    "#get top n similiar docs from matrix, from indexed doc of interest\n",
    "#first doc of cosine-similarity=1 will be the doc itself\n",
    "doc_index = 48\n",
    "n = 10\n",
    "\n",
    "similar = X.sort(doc_index, ascending=False).head(n)\n",
    "\n",
    "#print doc of interest\n",
    "print(event_data.iloc[doc_index]['text_nolink'])\n",
    "print()\n",
    "\n",
    "for i in list(similar.index):\n",
    "    print('index:', i, '\\tcosine-sim:', X.iloc[i][doc_index])\n",
    "    print('  text:', event_data.iloc[i]['text_nolink'])\n",
    "    print()"
   ]
  }
 ],
 "metadata": {
  "kernelspec": {
   "display_name": "Python 3",
   "language": "python",
   "name": "python3"
  },
  "language_info": {
   "codemirror_mode": {
    "name": "ipython",
    "version": 3
   },
   "file_extension": ".py",
   "mimetype": "text/x-python",
   "name": "python",
   "nbconvert_exporter": "python",
   "pygments_lexer": "ipython3",
   "version": "3.4.3"
  }
 },
 "nbformat": 4,
 "nbformat_minor": 0
}
