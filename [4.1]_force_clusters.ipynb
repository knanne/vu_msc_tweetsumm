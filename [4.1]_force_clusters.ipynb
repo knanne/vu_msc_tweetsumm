{
 "cells": [
  {
   "cell_type": "code",
   "execution_count": 1,
   "metadata": {
    "collapsed": true
   },
   "outputs": [],
   "source": [
    "import pandas as pd\n",
    "from collections import Counter\n",
    "import networkx as nx \n",
    "from networkx.readwrite import json_graph\n",
    "import json\n",
    "import scipy\n",
    "import numpy as np"
   ]
  },
  {
   "cell_type": "code",
   "execution_count": null,
   "metadata": {
    "collapsed": true
   },
   "outputs": [],
   "source": []
  },
  {
   "cell_type": "code",
   "execution_count": 2,
   "metadata": {
    "collapsed": true
   },
   "outputs": [],
   "source": [
    "event_name = '[TEDxNations]'"
   ]
  },
  {
   "cell_type": "code",
   "execution_count": 3,
   "metadata": {
    "collapsed": false
   },
   "outputs": [],
   "source": [
    "event_data = pd.read_table('data/%s_data_features.txt' % event_name, sep='\\t', header=0, encoding='utf-8')\n",
    "event_data_clusters = pd.read_table('data/%s_data_clusters.txt' % event_name, sep='\\t', header=0, encoding='utf-8', index_col=0)"
   ]
  },
  {
   "cell_type": "code",
   "execution_count": 4,
   "metadata": {
    "collapsed": true
   },
   "outputs": [],
   "source": [
    "event_data = pd.merge(event_data, event_data_clusters, left_index=True, right_index=True)"
   ]
  },
  {
   "cell_type": "code",
   "execution_count": null,
   "metadata": {
    "collapsed": true
   },
   "outputs": [],
   "source": []
  },
  {
   "cell_type": "code",
   "execution_count": 76,
   "metadata": {
    "collapsed": true
   },
   "outputs": [],
   "source": [
    "#compute top tokens\n",
    "\n",
    "topk = 50\n",
    "\n",
    "def gather_tokens(data):\n",
    "    all_tokens = []\n",
    "    for doc in data:\n",
    "        tokens = doc.split()\n",
    "        all_tokens.extend(tokens)\n",
    "    return all_tokens\n",
    "\n",
    "#gather tokens from all docs \n",
    "all_tokens = gather_tokens(event_data['text_clean_tokens'])\n",
    "#create counter object\n",
    "tokens_cntr = Counter(all_tokens)\n",
    "\n",
    "top_tokens = [token for token, count in tokens_cntr.most_common(topk)]"
   ]
  },
  {
   "cell_type": "code",
   "execution_count": 28,
   "metadata": {
    "collapsed": false,
    "scrolled": true
   },
   "outputs": [],
   "source": [
    "#tokens_cntr.most_common(50)"
   ]
  },
  {
   "cell_type": "code",
   "execution_count": null,
   "metadata": {
    "collapsed": true
   },
   "outputs": [],
   "source": []
  },
  {
   "cell_type": "code",
   "execution_count": 77,
   "metadata": {
    "collapsed": false
   },
   "outputs": [],
   "source": [
    "#manually construct scipy sparse matrix - alternative to sklearn vectorizer\n",
    "vocabulary = {} #terms with indices\n",
    "data = [] #1\n",
    "row = [] #docs\n",
    "col = [] #terms\n",
    "\n",
    "for i,doc in event_data.iterrows():\n",
    "    for term in doc['text_clean_tokens'].split():\n",
    "        # get column index, adding the term to the vocabulary if needed\n",
    "        j = vocabulary.setdefault(term, len(vocabulary))\n",
    "        data.append(1) # uniform weights\n",
    "        row.append(i)\n",
    "        col.append(j)\n",
    "\n",
    "A = scipy.sparse.coo_matrix((data, (row, col)))"
   ]
  },
  {
   "cell_type": "code",
   "execution_count": 78,
   "metadata": {
    "collapsed": false
   },
   "outputs": [],
   "source": [
    "#compute co occurrences matrix (terms by terms)\n",
    "X = A.T * A"
   ]
  },
  {
   "cell_type": "code",
   "execution_count": null,
   "metadata": {
    "collapsed": true
   },
   "outputs": [],
   "source": []
  },
  {
   "cell_type": "code",
   "execution_count": 83,
   "metadata": {
    "collapsed": false
   },
   "outputs": [],
   "source": [
    "#create network of top terms cooccurrences\n",
    "G = nx.Graph()\n",
    "\n",
    "for term1 in top_tokens:\n",
    "    index1 = vocabulary.get(term1)\n",
    "    G.add_node(term1, node_type='term', frequency=tokens_cntr[term1])\n",
    "    for term2 in top_tokens:\n",
    "        index2 = vocabulary.get(term2)\n",
    "        if term1 != term2:\n",
    "            if X[index1, index2] != 0:\n",
    "                G.add_edge(term1, term2, weight=X[index1, index2])\n",
    "                \n",
    "remove = [node for node,degree in G.degree().items() if degree == 0]\n",
    "G.remove_nodes_from(remove)\n",
    "\n",
    "G_nld = json_graph.node_link_data(G)\n",
    "\n",
    "# write json\n",
    "json.dump(G_nld, open('data/d3force_terms_network_data.json', 'w'), default=int, sort_keys=True, indent=4)"
   ]
  },
  {
   "cell_type": "code",
   "execution_count": null,
   "metadata": {
    "collapsed": true
   },
   "outputs": [],
   "source": []
  },
  {
   "cell_type": "code",
   "execution_count": 49,
   "metadata": {
    "collapsed": false
   },
   "outputs": [],
   "source": [
    "#create network of random sample tweets and top terms\n",
    "\n",
    "samplek = 1000\n",
    "\n",
    "G = nx.Graph()\n",
    "\n",
    "for term1 in top_tokens:\n",
    "    G.add_node(term1, node_type='term', frequency=tokens_cntr[term1], group=0)\n",
    "    \n",
    "tweets = event_data.sample(samplek)\n",
    "for i,doc in tweets.iterrows():\n",
    "    G.add_node(doc['id'], node_type='tweet', frequency=10, group=doc['cluster'])\n",
    "    \n",
    "for i,doc in tweets.iterrows():\n",
    "    for term in top_tokens:\n",
    "        if term in doc['text_clean_tokens'].split():\n",
    "            G.add_edge(doc['id'], term)\n",
    "            \n",
    "remove = [node for node,degree in G.degree().items() if degree == 0]\n",
    "G.remove_nodes_from(remove)\n",
    "\n",
    "G_nld = json_graph.node_link_data(G)\n",
    "\n",
    "# write json\n",
    "json.dump(G_nld, open('data/d3force_tweets_network_data.json', 'w'), default=int, sort_keys=True, indent=4)"
   ]
  }
 ],
 "metadata": {
  "kernelspec": {
   "display_name": "Python 3",
   "language": "python",
   "name": "python3"
  },
  "language_info": {
   "codemirror_mode": {
    "name": "ipython",
    "version": 3
   },
   "file_extension": ".py",
   "mimetype": "text/x-python",
   "name": "python",
   "nbconvert_exporter": "python",
   "pygments_lexer": "ipython3",
   "version": "3.4.3"
  }
 },
 "nbformat": 4,
 "nbformat_minor": 0
}
